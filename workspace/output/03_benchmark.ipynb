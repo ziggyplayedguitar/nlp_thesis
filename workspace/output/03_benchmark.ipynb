{
 "cells": [
  {
   "cell_type": "code",
   "execution_count": 1,
   "id": "ba1cd875",
   "metadata": {
    "execution": {
     "iopub.execute_input": "2025-03-27T00:29:20.021939Z",
     "iopub.status.busy": "2025-03-27T00:29:20.021735Z",
     "iopub.status.idle": "2025-03-27T00:29:20.025071Z",
     "shell.execute_reply": "2025-03-27T00:29:20.024704Z"
    },
    "papermill": {
     "duration": 0.005834,
     "end_time": "2025-03-27T00:29:20.025702",
     "exception": false,
     "start_time": "2025-03-27T00:29:20.019868",
     "status": "completed"
    },
    "tags": [
     "parameters"
    ]
   },
   "outputs": [],
   "source": [
    "# declare a list tasks whose products you want to use as inputs\n",
    "upstream = None\n"
   ]
  },
  {
   "cell_type": "code",
   "execution_count": 2,
   "id": "046b0754",
   "metadata": {
    "execution": {
     "iopub.execute_input": "2025-03-27T00:29:20.031660Z",
     "iopub.status.busy": "2025-03-27T00:29:20.031415Z",
     "iopub.status.idle": "2025-03-27T00:29:20.033446Z",
     "shell.execute_reply": "2025-03-27T00:29:20.033118Z"
    },
    "papermill": {
     "duration": 0.003749,
     "end_time": "2025-03-27T00:29:20.034013",
     "exception": false,
     "start_time": "2025-03-27T00:29:20.030264",
     "status": "completed"
    },
    "tags": [
     "injected-parameters"
    ]
   },
   "outputs": [],
   "source": [
    "# Parameters\n",
    "model_path = \"checkpoints/best_model.pt\"\n",
    "product = {\"nb\": \"/home/luuka/thesis/workspace/output/03_benchmark.ipynb\", \"benchmark_data\": \"/home/luuka/thesis/workspace/data/benchmark/benchmark_cases.json\", \"benchmark_results\": \"/home/luuka/thesis/workspace/data/benchmark/latest_benchmark_results.json\", \"benchmark_history\": \"/home/luuka/thesis/workspace/data/benchmark/benchmark_history.json\"}\n"
   ]
  },
  {
   "cell_type": "code",
   "execution_count": 3,
   "id": "c4dff613",
   "metadata": {
    "execution": {
     "iopub.execute_input": "2025-03-27T00:29:20.035982Z",
     "iopub.status.busy": "2025-03-27T00:29:20.035800Z",
     "iopub.status.idle": "2025-03-27T00:29:20.037609Z",
     "shell.execute_reply": "2025-03-27T00:29:20.037286Z"
    },
    "papermill": {
     "duration": 0.003474,
     "end_time": "2025-03-27T00:29:20.038211",
     "exception": false,
     "start_time": "2025-03-27T00:29:20.034737",
     "status": "completed"
    },
    "tags": []
   },
   "outputs": [],
   "source": [
    "# Parameters cell\n",
    "product = None"
   ]
  },
  {
   "cell_type": "code",
   "execution_count": 4,
   "id": "1ffce2b7",
   "metadata": {
    "execution": {
     "iopub.execute_input": "2025-03-27T00:29:20.040400Z",
     "iopub.status.busy": "2025-03-27T00:29:20.040094Z",
     "iopub.status.idle": "2025-03-27T00:29:22.422813Z",
     "shell.execute_reply": "2025-03-27T00:29:22.422402Z"
    },
    "papermill": {
     "duration": 2.384731,
     "end_time": "2025-03-27T00:29:22.423745",
     "exception": false,
     "start_time": "2025-03-27T00:29:20.039014",
     "status": "completed"
    },
    "tags": []
   },
   "outputs": [],
   "source": [
    "import pandas as pd\n",
    "import sys\n",
    "from pathlib import Path\n",
    "import logging\n",
    "import json\n",
    "from tqdm import tqdm\n",
    "\n",
    "# Add project root to path\n",
    "sys.path.append(str(Path.cwd().parent))\n",
    "\n",
    "from src.data_tools.czech_data_tools import load_czech_media_data\n",
    "from src.models.predictor import TrollPredictor\n",
    "from src.analysis.benchmark import CzechBenchmark\n",
    "\n",
    "# Set up logging\n",
    "logging.basicConfig(level=logging.INFO)\n",
    "logger = logging.getLogger(__name__)"
   ]
  },
  {
   "cell_type": "code",
   "execution_count": 5,
   "id": "c0410558",
   "metadata": {
    "execution": {
     "iopub.execute_input": "2025-03-27T00:29:22.434672Z",
     "iopub.status.busy": "2025-03-27T00:29:22.434343Z",
     "iopub.status.idle": "2025-03-27T00:29:24.704374Z",
     "shell.execute_reply": "2025-03-27T00:29:24.703969Z"
    },
    "papermill": {
     "duration": 2.280554,
     "end_time": "2025-03-27T00:29:24.705332",
     "exception": false,
     "start_time": "2025-03-27T00:29:22.424778",
     "status": "completed"
    },
    "tags": []
   },
   "outputs": [],
   "source": [
    "# Initialize predictor with model\n",
    "predictor = TrollPredictor(\n",
    "    model_path=\"../\" + model_path,\n",
    "    comments_per_user=5,\n",
    "    max_length=64\n",
    ")"
   ]
  },
  {
   "cell_type": "code",
   "execution_count": 6,
   "id": "6e9d2efe",
   "metadata": {
    "execution": {
     "iopub.execute_input": "2025-03-27T00:29:24.708049Z",
     "iopub.status.busy": "2025-03-27T00:29:24.707797Z",
     "iopub.status.idle": "2025-03-27T00:29:35.952126Z",
     "shell.execute_reply": "2025-03-27T00:29:35.951702Z"
    },
    "papermill": {
     "duration": 11.246377,
     "end_time": "2025-03-27T00:29:35.952795",
     "exception": false,
     "start_time": "2025-03-27T00:29:24.706418",
     "status": "completed"
    },
    "tags": []
   },
   "outputs": [
    {
     "name": "stderr",
     "output_type": "stream",
     "text": [
      "\r",
      "Loading files:   0%|                                                                | 0/124 [00:00<?, ?it/s]"
     ]
    },
    {
     "name": "stderr",
     "output_type": "stream",
     "text": [
      "\r",
      "Loading files:   2%|▉                                                       | 2/124 [00:00<00:10, 11.51it/s]"
     ]
    },
    {
     "name": "stderr",
     "output_type": "stream",
     "text": [
      "\r",
      "Loading files:   3%|█▊                                                      | 4/124 [00:00<00:11, 10.55it/s]"
     ]
    },
    {
     "name": "stderr",
     "output_type": "stream",
     "text": [
      "\r",
      "Loading files:   5%|██▋                                                     | 6/124 [00:00<00:10, 10.98it/s]"
     ]
    },
    {
     "name": "stderr",
     "output_type": "stream",
     "text": [
      "\r",
      "Loading files:   6%|███▌                                                    | 8/124 [00:00<00:10, 10.97it/s]"
     ]
    },
    {
     "name": "stderr",
     "output_type": "stream",
     "text": [
      "\r",
      "Loading files:   8%|████▍                                                  | 10/124 [00:01<00:13,  8.55it/s]"
     ]
    },
    {
     "name": "stderr",
     "output_type": "stream",
     "text": [
      "\r",
      "Loading files:  10%|█████▎                                                 | 12/124 [00:01<00:11,  9.38it/s]"
     ]
    },
    {
     "name": "stderr",
     "output_type": "stream",
     "text": [
      "\r",
      "Loading files:  22%|███████████▉                                           | 27/124 [00:01<00:02, 34.93it/s]"
     ]
    },
    {
     "name": "stderr",
     "output_type": "stream",
     "text": [
      "\r",
      "Loading files:  27%|██████████████▋                                        | 33/124 [00:01<00:04, 20.76it/s]"
     ]
    },
    {
     "name": "stderr",
     "output_type": "stream",
     "text": [
      "\r",
      "Loading files:  30%|████████████████▍                                      | 37/124 [00:02<00:04, 17.93it/s]"
     ]
    },
    {
     "name": "stderr",
     "output_type": "stream",
     "text": [
      "\r",
      "Loading files:  33%|██████████████████▏                                    | 41/124 [00:02<00:04, 17.63it/s]"
     ]
    },
    {
     "name": "stderr",
     "output_type": "stream",
     "text": [
      "\r",
      "Loading files:  35%|███████████████████▌                                   | 44/124 [00:02<00:04, 16.02it/s]"
     ]
    },
    {
     "name": "stderr",
     "output_type": "stream",
     "text": [
      "\r",
      "Loading files:  38%|████████████████████▊                                  | 47/124 [00:03<00:06, 12.50it/s]"
     ]
    },
    {
     "name": "stderr",
     "output_type": "stream",
     "text": [
      "\r",
      "Loading files:  40%|██████████████████████▏                                | 50/124 [00:03<00:06, 11.95it/s]"
     ]
    },
    {
     "name": "stderr",
     "output_type": "stream",
     "text": [
      "\r",
      "Loading files:  42%|███████████████████████                                | 52/124 [00:03<00:05, 12.47it/s]"
     ]
    },
    {
     "name": "stderr",
     "output_type": "stream",
     "text": [
      "\r",
      "Loading files:  44%|███████████████████████▉                               | 54/124 [00:03<00:05, 13.24it/s]"
     ]
    },
    {
     "name": "stderr",
     "output_type": "stream",
     "text": [
      "\r",
      "Loading files:  45%|████████████████████████▊                              | 56/124 [00:03<00:05, 12.27it/s]"
     ]
    },
    {
     "name": "stderr",
     "output_type": "stream",
     "text": [
      "\r",
      "Loading files:  47%|█████████████████████████▋                             | 58/124 [00:03<00:05, 12.92it/s]"
     ]
    },
    {
     "name": "stderr",
     "output_type": "stream",
     "text": [
      "\r",
      "Loading files:  48%|██████████████████████████▌                            | 60/124 [00:04<00:04, 13.93it/s]"
     ]
    },
    {
     "name": "stderr",
     "output_type": "stream",
     "text": [
      "\r",
      "Loading files:  51%|███████████████████████████▉                           | 63/124 [00:04<00:04, 14.39it/s]"
     ]
    },
    {
     "name": "stderr",
     "output_type": "stream",
     "text": [
      "\r",
      "Loading files:  52%|████████████████████████████▊                          | 65/124 [00:04<00:05, 11.67it/s]"
     ]
    },
    {
     "name": "stderr",
     "output_type": "stream",
     "text": [
      "\r",
      "Loading files:  54%|█████████████████████████████▋                         | 67/124 [00:04<00:04, 11.45it/s]"
     ]
    },
    {
     "name": "stderr",
     "output_type": "stream",
     "text": [
      "\r",
      "Loading files:  56%|██████████████████████████████▌                        | 69/124 [00:04<00:05, 10.75it/s]"
     ]
    },
    {
     "name": "stderr",
     "output_type": "stream",
     "text": [
      "\r",
      "Loading files:  57%|███████████████████████████████▍                       | 71/124 [00:05<00:05,  9.95it/s]"
     ]
    },
    {
     "name": "stderr",
     "output_type": "stream",
     "text": [
      "\r",
      "Loading files:  59%|████████████████████████████████▍                      | 73/124 [00:05<00:04, 10.90it/s]"
     ]
    },
    {
     "name": "stderr",
     "output_type": "stream",
     "text": [
      "\r",
      "Loading files:  60%|█████████████████████████████████▎                     | 75/124 [00:05<00:04, 11.01it/s]"
     ]
    },
    {
     "name": "stderr",
     "output_type": "stream",
     "text": [
      "\r",
      "Loading files:  62%|██████████████████████████████████▏                    | 77/124 [00:05<00:04, 10.21it/s]"
     ]
    },
    {
     "name": "stderr",
     "output_type": "stream",
     "text": [
      "\r",
      "Loading files:  65%|███████████████████████████████████▍                   | 80/124 [00:06<00:04, 10.32it/s]"
     ]
    },
    {
     "name": "stderr",
     "output_type": "stream",
     "text": [
      "\r",
      "Loading files:  66%|████████████████████████████████████▎                  | 82/124 [00:06<00:03, 11.57it/s]"
     ]
    },
    {
     "name": "stderr",
     "output_type": "stream",
     "text": [
      "\r",
      "Loading files:  68%|█████████████████████████████████████▎                 | 84/124 [00:06<00:03, 12.26it/s]"
     ]
    },
    {
     "name": "stderr",
     "output_type": "stream",
     "text": [
      "\r",
      "Loading files:  69%|██████████████████████████████████████▏                | 86/124 [00:06<00:03, 11.84it/s]"
     ]
    },
    {
     "name": "stderr",
     "output_type": "stream",
     "text": [
      "\r",
      "Loading files:  72%|███████████████████████████████████████▍               | 89/124 [00:06<00:02, 13.60it/s]"
     ]
    },
    {
     "name": "stderr",
     "output_type": "stream",
     "text": [
      "\r",
      "Loading files:  73%|████████████████████████████████████████▎              | 91/124 [00:06<00:02, 13.45it/s]"
     ]
    },
    {
     "name": "stderr",
     "output_type": "stream",
     "text": [
      "\r",
      "Loading files:  75%|█████████████████████████████████████████▎             | 93/124 [00:07<00:02, 11.98it/s]"
     ]
    },
    {
     "name": "stderr",
     "output_type": "stream",
     "text": [
      "\r",
      "Loading files:  77%|██████████████████████████████████████████▏            | 95/124 [00:07<00:02, 11.94it/s]"
     ]
    },
    {
     "name": "stderr",
     "output_type": "stream",
     "text": [
      "\r",
      "Loading files:  78%|███████████████████████████████████████████            | 97/124 [00:07<00:02,  9.48it/s]"
     ]
    },
    {
     "name": "stderr",
     "output_type": "stream",
     "text": [
      "\r",
      "Loading files:  80%|███████████████████████████████████████████▉           | 99/124 [00:07<00:02, 10.27it/s]"
     ]
    },
    {
     "name": "stderr",
     "output_type": "stream",
     "text": [
      "\r",
      "Loading files:  81%|███████████████████████████████████████████▉          | 101/124 [00:07<00:02, 10.75it/s]"
     ]
    },
    {
     "name": "stderr",
     "output_type": "stream",
     "text": [
      "\r",
      "Loading files:  83%|████████████████████████████████████████████▊         | 103/124 [00:08<00:02, 10.09it/s]"
     ]
    },
    {
     "name": "stderr",
     "output_type": "stream",
     "text": [
      "\r",
      "Loading files:  85%|█████████████████████████████████████████████▋        | 105/124 [00:08<00:01, 11.00it/s]"
     ]
    },
    {
     "name": "stderr",
     "output_type": "stream",
     "text": [
      "\r",
      "Loading files:  86%|██████████████████████████████████████████████▌       | 107/124 [00:08<00:01, 12.34it/s]"
     ]
    },
    {
     "name": "stderr",
     "output_type": "stream",
     "text": [
      "\r",
      "Loading files:  88%|███████████████████████████████████████████████▍      | 109/124 [00:08<00:01, 11.79it/s]"
     ]
    },
    {
     "name": "stderr",
     "output_type": "stream",
     "text": [
      "\r",
      "Loading files:  90%|████████████████████████████████████████████████▎     | 111/124 [00:08<00:01, 11.50it/s]"
     ]
    },
    {
     "name": "stderr",
     "output_type": "stream",
     "text": [
      "\r",
      "Loading files:  91%|█████████████████████████████████████████████████▏    | 113/124 [00:08<00:01,  9.59it/s]"
     ]
    },
    {
     "name": "stderr",
     "output_type": "stream",
     "text": [
      "\r",
      "Loading files:  93%|██████████████████████████████████████████████████    | 115/124 [00:09<00:00, 10.43it/s]"
     ]
    },
    {
     "name": "stderr",
     "output_type": "stream",
     "text": [
      "\r",
      "Loading files:  94%|██████████████████████████████████████████████████▉   | 117/124 [00:09<00:00, 12.07it/s]"
     ]
    },
    {
     "name": "stderr",
     "output_type": "stream",
     "text": [
      "\r",
      "Loading files:  96%|███████████████████████████████████████████████████▊  | 119/124 [00:09<00:00, 12.31it/s]"
     ]
    },
    {
     "name": "stderr",
     "output_type": "stream",
     "text": [
      "\r",
      "Loading files:  98%|████████████████████████████████████████████████████▋ | 121/124 [00:09<00:00, 12.41it/s]"
     ]
    },
    {
     "name": "stderr",
     "output_type": "stream",
     "text": [
      "\r",
      "Loading files:  99%|█████████████████████████████████████████████████████▌| 123/124 [00:09<00:00, 11.80it/s]"
     ]
    },
    {
     "name": "stderr",
     "output_type": "stream",
     "text": [
      "\r",
      "Loading files: 100%|██████████████████████████████████████████████████████| 124/124 [00:09<00:00, 12.62it/s]"
     ]
    },
    {
     "name": "stderr",
     "output_type": "stream",
     "text": [
      "\n"
     ]
    },
    {
     "name": "stdout",
     "output_type": "stream",
     "text": [
      "Loaded 845764 comments from 66590 unique authors\n"
     ]
    }
   ],
   "source": [
    "DATA_DIR = Path('../data')\n",
    "czech_comments = load_czech_media_data(str(DATA_DIR / 'MediaSource'))\n",
    "print(f\"Loaded {len(czech_comments)} comments from {czech_comments['author'].nunique()} unique authors\")"
   ]
  },
  {
   "cell_type": "code",
   "execution_count": 7,
   "id": "5c6c3643",
   "metadata": {
    "execution": {
     "iopub.execute_input": "2025-03-27T00:29:35.957968Z",
     "iopub.status.busy": "2025-03-27T00:29:35.957624Z",
     "iopub.status.idle": "2025-03-27T00:29:40.976481Z",
     "shell.execute_reply": "2025-03-27T00:29:40.976073Z"
    },
    "papermill": {
     "duration": 5.022391,
     "end_time": "2025-03-27T00:29:40.977631",
     "exception": false,
     "start_time": "2025-03-27T00:29:35.955240",
     "status": "completed"
    },
    "tags": []
   },
   "outputs": [
    {
     "name": "stderr",
     "output_type": "stream",
     "text": [
      "INFO:src.analysis.benchmark:Created benchmark set with 50 authors\n"
     ]
    },
    {
     "name": "stderr",
     "output_type": "stream",
     "text": [
      "INFO:src.analysis.benchmark:Added 1659 comments from Pavel Hanzl\n"
     ]
    },
    {
     "name": "stderr",
     "output_type": "stream",
     "text": [
      "INFO:src.analysis.benchmark:Added 20 comments from Jitka Bártová\n"
     ]
    },
    {
     "name": "stderr",
     "output_type": "stream",
     "text": [
      "INFO:src.analysis.benchmark:Added 155 comments from Roman Myška\n"
     ]
    },
    {
     "name": "stderr",
     "output_type": "stream",
     "text": [
      "INFO:src.analysis.benchmark:Added 3 comments from Hosek Miroslav\n"
     ]
    },
    {
     "name": "stderr",
     "output_type": "stream",
     "text": [
      "INFO:src.analysis.benchmark:Added 8 comments from Roman Dostál\n"
     ]
    },
    {
     "name": "stderr",
     "output_type": "stream",
     "text": [
      "INFO:src.analysis.benchmark:Added 6 comments from Tomáš Volf\n"
     ]
    },
    {
     "name": "stderr",
     "output_type": "stream",
     "text": [
      "INFO:src.analysis.benchmark:Benchmark set now contains 55 authors\n"
     ]
    }
   ],
   "source": [
    "benchmark = CzechBenchmark()\n",
    "\n",
    "# Create benchmark set if it doesn't exist\n",
    "if not (Path(\"data/benchmark\") / \"benchmark_cases.json\").exists():\n",
    "    benchmark.create_benchmark_set(\n",
    "        comments_df=czech_comments,\n",
    "        n_authors=50,\n",
    "        min_comments=5\n",
    "    )\n",
    "\n",
    "# List of authors you want to add\n",
    "manual_authors = [\n",
    "    \"Pavel Hanzl\",  # Very active commenter with strong opinions\n",
    "    \"Jitka Bártová\",  # High troll confidence but does not seem too trolly to me\n",
    "    \"Roman Myška\",   # Interesting case, dont think he is troll\n",
    "    \"Hosek Miroslav\", # Funny comment about Fiala\n",
    "    \"Roman Dostál\",\n",
    "    \"Tomáš Volf\"\n",
    "]\n",
    "\n",
    "# Add these authors to benchmark\n",
    "benchmark.add_authors(manual_authors, czech_comments)\n",
    "\n",
    "# Run benchmark tests\n",
    "results = benchmark.run_benchmark(predictor)"
   ]
  },
  {
   "cell_type": "code",
   "execution_count": 8,
   "id": "f4951a9a",
   "metadata": {
    "execution": {
     "iopub.execute_input": "2025-03-27T00:29:40.982984Z",
     "iopub.status.busy": "2025-03-27T00:29:40.982725Z",
     "iopub.status.idle": "2025-03-27T00:29:40.986674Z",
     "shell.execute_reply": "2025-03-27T00:29:40.986343Z"
    },
    "papermill": {
     "duration": 0.006971,
     "end_time": "2025-03-27T00:29:40.987221",
     "exception": false,
     "start_time": "2025-03-27T00:29:40.980250",
     "status": "completed"
    },
    "tags": []
   },
   "outputs": [
    {
     "name": "stdout",
     "output_type": "stream",
     "text": [
      "\n",
      "Benchmark Results Summary:\n",
      "----------------------------------------\n",
      "Total authors tested: 55\n",
      "Total comments analyzed: 36311\n",
      "Troll predictions: 23\n",
      "\n",
      "Detailed Results:\n",
      "----------------------------------------\n",
      "\n",
      "Author: Jan Novák\n",
      "Prediction: troll\n",
      "Confidence: 56.24%\n",
      "\n",
      "Author: Pavel Hanzl\n",
      "Prediction: not_troll\n",
      "Confidence: 88.43%\n",
      "\n",
      "Author: Petr Novák\n",
      "Prediction: not_troll\n",
      "Confidence: 79.02%\n",
      "\n",
      "Author: Pavel Novák\n",
      "Prediction: not_troll\n",
      "Confidence: 67.73%\n",
      "\n",
      "Author: Martin Holý\n",
      "Prediction: troll\n",
      "Confidence: 77.32%\n",
      "\n",
      "Author: Pavel Dvořák\n",
      "Prediction: not_troll\n",
      "Confidence: 85.32%\n",
      "\n",
      "Author: Pavel Sladovník\n",
      "Prediction: not_troll\n",
      "Confidence: 62.82%\n",
      "\n",
      "Author: Vladimír Mrkva\n",
      "Prediction: troll\n",
      "Confidence: 76.93%\n",
      "\n",
      "Author: Lubomir Kvasnicka\n",
      "Prediction: troll\n",
      "Confidence: 81.20%\n",
      "\n",
      "Author: Petr Dvořák\n",
      "Prediction: troll\n",
      "Confidence: 57.68%\n",
      "\n",
      "Author: Martin Novák\n",
      "Prediction: not_troll\n",
      "Confidence: 78.83%\n",
      "\n",
      "Author: Jiří Černohorský\n",
      "Prediction: troll\n",
      "Confidence: 52.08%\n",
      "\n",
      "Author: Zdeněk Hübner\n",
      "Prediction: troll\n",
      "Confidence: 77.90%\n",
      "\n",
      "Author: Tomáš Ruprecht\n",
      "Prediction: troll\n",
      "Confidence: 95.52%\n",
      "\n",
      "Author: Zdeněk Veselý\n",
      "Prediction: not_troll\n",
      "Confidence: 94.49%\n",
      "\n",
      "Author: Jiří Novotný\n",
      "Prediction: not_troll\n",
      "Confidence: 78.74%\n",
      "\n",
      "Author: Petr Novotný\n",
      "Prediction: not_troll\n",
      "Confidence: 94.15%\n",
      "\n",
      "Author: Jan Sykora\n",
      "Prediction: troll\n",
      "Confidence: 76.71%\n",
      "\n",
      "Author: Josef Procházka\n",
      "Prediction: troll\n",
      "Confidence: 83.43%\n",
      "\n",
      "Author: Jiří Řezníček\n",
      "Prediction: troll\n",
      "Confidence: 96.85%\n",
      "\n",
      "Author: Pavel Sobola\n",
      "Prediction: troll\n",
      "Confidence: 76.39%\n",
      "\n",
      "Author: Petr Šikýř\n",
      "Prediction: not_troll\n",
      "Confidence: 98.92%\n",
      "\n",
      "Author: Petr Svoboda\n",
      "Prediction: not_troll\n",
      "Confidence: 98.88%\n",
      "\n",
      "Author: Zdeněk Svoboda\n",
      "Prediction: not_troll\n",
      "Confidence: 95.18%\n",
      "\n",
      "Author: Miroslava Klimová\n",
      "Prediction: not_troll\n",
      "Confidence: 89.06%\n",
      "\n",
      "Author: Pavel Kozák\n",
      "Prediction: not_troll\n",
      "Confidence: 94.01%\n",
      "\n",
      "Author: Tomáš Novotný\n",
      "Prediction: not_troll\n",
      "Confidence: 80.29%\n",
      "\n",
      "Author: Vladimír Vlk\n",
      "Prediction: troll\n",
      "Confidence: 59.22%\n",
      "\n",
      "Author: Jiří Šimoník\n",
      "Prediction: troll\n",
      "Confidence: 54.76%\n",
      "\n",
      "Author: Leoš Novak\n",
      "Prediction: not_troll\n",
      "Confidence: 61.17%\n",
      "\n",
      "Author: Jaromir David\n",
      "Prediction: not_troll\n",
      "Confidence: 96.29%\n",
      "\n",
      "Author: Petr Kovařík\n",
      "Prediction: troll\n",
      "Confidence: 52.06%\n",
      "\n",
      "Author: Vlastimil Zbořil\n",
      "Prediction: troll\n",
      "Confidence: 88.95%\n",
      "\n",
      "Author: Petr Burian\n",
      "Prediction: not_troll\n",
      "Confidence: 84.68%\n",
      "\n",
      "Author: Miroslav Šilhavý\n",
      "Prediction: not_troll\n",
      "Confidence: 94.33%\n",
      "\n",
      "Author: Jaroslav Novák\n",
      "Prediction: not_troll\n",
      "Confidence: 59.45%\n",
      "\n",
      "Author: Jan Novotný\n",
      "Prediction: not_troll\n",
      "Confidence: 60.16%\n",
      "\n",
      "Author: Oleg Pastrňák\n",
      "Prediction: troll\n",
      "Confidence: 64.88%\n",
      "\n",
      "Author: Martin Jedlička\n",
      "Prediction: not_troll\n",
      "Confidence: 55.08%\n",
      "\n",
      "Author: Radana Broučková\n",
      "Prediction: not_troll\n",
      "Confidence: 76.23%\n",
      "\n",
      "Author: Viktor Náprstek\n",
      "Prediction: not_troll\n",
      "Confidence: 63.56%\n",
      "\n",
      "Author: Stanislav Hrouzek\n",
      "Prediction: troll\n",
      "Confidence: 61.62%\n",
      "\n",
      "Author: Stanislava\n",
      "Prediction: not_troll\n",
      "Confidence: 63.37%\n",
      "\n",
      "Author: Jan Brabenec\n",
      "Prediction: not_troll\n",
      "Confidence: 84.97%\n",
      "\n",
      "Author: Jan Proksik\n",
      "Prediction: not_troll\n",
      "Confidence: 66.71%\n",
      "\n",
      "Author: Martin Provazník\n",
      "Prediction: not_troll\n",
      "Confidence: 65.24%\n",
      "\n",
      "Author: Dana Polanecká\n",
      "Prediction: not_troll\n",
      "Confidence: 91.38%\n",
      "\n",
      "Author: Martin Horák\n",
      "Prediction: troll\n",
      "Confidence: 61.16%\n",
      "\n",
      "Author: Tomáš Urban\n",
      "Prediction: not_troll\n",
      "Confidence: 58.29%\n",
      "\n",
      "Author: Dana Plíšková\n",
      "Prediction: troll\n",
      "Confidence: 86.83%\n",
      "\n",
      "Author: Jitka Bártová\n",
      "Prediction: troll\n",
      "Confidence: 92.31%\n",
      "\n",
      "Author: Roman Myška\n",
      "Prediction: troll\n",
      "Confidence: 96.56%\n",
      "\n",
      "Author: Hosek Miroslav\n",
      "Prediction: not_troll\n",
      "Confidence: 97.69%\n",
      "\n",
      "Author: Roman Dostál\n",
      "Prediction: troll\n",
      "Confidence: 87.09%\n",
      "\n",
      "Author: Tomáš Volf\n",
      "Prediction: not_troll\n",
      "Confidence: 96.98%\n",
      "\n",
      "Results saved to ../output/benchmark/benchmark_results_20250327012940.json\n"
     ]
    }
   ],
   "source": [
    "# Display Results\n",
    "print(\"\\nBenchmark Results Summary:\")\n",
    "print(\"-\" * 40)\n",
    "print(f\"Total authors tested: {results['summary']['total_authors']}\")\n",
    "print(f\"Total comments analyzed: {results['summary']['total_comments']}\")\n",
    "print(f\"Troll predictions: {results['summary']['troll_predictions']}\")\n",
    "\n",
    "print(\"\\nDetailed Results:\")\n",
    "print(\"-\" * 40)\n",
    "for author, data in results['predictions'].items():\n",
    "    print(f\"\\nAuthor: {author}\")\n",
    "    print(f\"Prediction: {data['prediction']}\")\n",
    "    print(f\"Confidence: {data['confidence']:.2%}\")\n",
    "\n",
    "# Save results to file with timestamp\n",
    "results_dir = Path(\"../output/benchmark\")\n",
    "results_dir.mkdir(parents=True, exist_ok=True)  # Ensure the directory exists\n",
    "results_path = results_dir / f\"benchmark_results_{pd.Timestamp.now().strftime('%Y%m%d%H%M%S')}.json\"\n",
    "with open(results_path, 'w') as f:\n",
    "    json.dump(results, f)   \n",
    "print(f\"\\nResults saved to {results_path}\")"
   ]
  },
  {
   "cell_type": "code",
   "execution_count": 9,
   "id": "17109bb2",
   "metadata": {
    "execution": {
     "iopub.execute_input": "2025-03-27T00:29:40.991863Z",
     "iopub.status.busy": "2025-03-27T00:29:40.991680Z",
     "iopub.status.idle": "2025-03-27T00:29:41.058701Z",
     "shell.execute_reply": "2025-03-27T00:29:41.058251Z"
    },
    "papermill": {
     "duration": 0.070168,
     "end_time": "2025-03-27T00:29:41.059480",
     "exception": false,
     "start_time": "2025-03-27T00:29:40.989312",
     "status": "completed"
    },
    "tags": []
   },
   "outputs": [
    {
     "name": "stdout",
     "output_type": "stream",
     "text": [
      "\n",
      "Extracted 8 comments from Roman Dostál\n",
      "Comments saved to: extracted_comments/Roman_Dostál_20250327_012941.json\n",
      "\n",
      "Sample of comments:\n",
      "--------------------------------------------------------------------------------\n",
      "Teď daňový poplatník USA dost kouká kam šli jeho a “půjčené” peníze.Další výhra nad socialismem,děkujeme\n",
      "--------------------------------------------------------------------------------\n",
      "Máme ale 400 generálů.To musí každou zemi odstrašit.\n",
      "--------------------------------------------------------------------------------\n",
      "Robert MroczkowskiZkáza woke v USA.Ale to je přeci skvělá zpráva.Zas si občané USA budou moct vyndat vlajky a komunisté budou jen brblat na Novinkách.\n",
      "--------------------------------------------------------------------------------\n",
      "Proč proboha?Nás to všechny bavilo kde je propustnost FB.‍♂️No nic,tak zkusim Seznam ☝️\n",
      "--------------------------------------------------------------------------------\n",
      "Spoléhala na hlasy v hlavě-a najednou nic.\n",
      "--------------------------------------------------------------------------------\n",
      "Pro Novinky to znamená jen přestat lhát.\n",
      "--------------------------------------------------------------------------------\n"
     ]
    }
   ],
   "source": [
    "from src.data_tools.czech_data_tools import extract_author_comments_simple\n",
    "\n",
    "# Extract comments for a specific author\n",
    "author = \"Roman Dostál\"\n",
    "author_comments = extract_author_comments_simple(czech_comments, author)"
   ]
  }
 ],
 "metadata": {
  "kernelspec": {
   "display_name": "Python 3 (ipykernel)",
   "language": "python",
   "name": "python3"
  },
  "language_info": {
   "codemirror_mode": {
    "name": "ipython",
    "version": 3
   },
   "file_extension": ".py",
   "mimetype": "text/x-python",
   "name": "python",
   "nbconvert_exporter": "python",
   "pygments_lexer": "ipython3",
   "version": "3.11.5"
  },
  "papermill": {
   "duration": 24.041017,
   "end_time": "2025-03-27T00:29:43.525976",
   "exception": null,
   "input_path": "/tmp/tmpyf_7v4n8.ipynb",
   "output_path": "/home/luuka/thesis/workspace/output/03_benchmark.ipynb",
   "parameters": {
    "model_path": "checkpoints/best_model.pt",
    "product": {
     "benchmark_data": "/home/luuka/thesis/workspace/data/benchmark/benchmark_cases.json",
     "benchmark_history": "/home/luuka/thesis/workspace/data/benchmark/benchmark_history.json",
     "benchmark_results": "/home/luuka/thesis/workspace/data/benchmark/latest_benchmark_results.json",
     "nb": "/home/luuka/thesis/workspace/output/03_benchmark.ipynb"
    }
   },
   "start_time": "2025-03-27T00:29:19.484959"
  }
 },
 "nbformat": 4,
 "nbformat_minor": 5
}