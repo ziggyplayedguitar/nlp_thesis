{
 "cells": [
  {
   "cell_type": "code",
   "execution_count": 1,
   "id": "780d88a7",
   "metadata": {
    "execution": {
     "iopub.execute_input": "2025-03-28T00:27:48.850058Z",
     "iopub.status.busy": "2025-03-28T00:27:48.849678Z",
     "iopub.status.idle": "2025-03-28T00:27:48.852954Z",
     "shell.execute_reply": "2025-03-28T00:27:48.852620Z"
    },
    "papermill": {
     "duration": 0.005762,
     "end_time": "2025-03-28T00:27:48.853583",
     "exception": false,
     "start_time": "2025-03-28T00:27:48.847821",
     "status": "completed"
    },
    "tags": [
     "parameters"
    ]
   },
   "outputs": [],
   "source": [
    "# declare a list tasks whose products you want to use as inputs\n",
    "upstream = None\n"
   ]
  },
  {
   "cell_type": "code",
   "execution_count": 2,
   "id": "546e4828",
   "metadata": {
    "execution": {
     "iopub.execute_input": "2025-03-28T00:27:48.859841Z",
     "iopub.status.busy": "2025-03-28T00:27:48.859522Z",
     "iopub.status.idle": "2025-03-28T00:27:48.861528Z",
     "shell.execute_reply": "2025-03-28T00:27:48.861215Z"
    },
    "papermill": {
     "duration": 0.003754,
     "end_time": "2025-03-28T00:27:48.862107",
     "exception": false,
     "start_time": "2025-03-28T00:27:48.858353",
     "status": "completed"
    },
    "tags": [
     "injected-parameters"
    ]
   },
   "outputs": [],
   "source": [
    "# Parameters\n",
    "product = {\"nb\": \"/home/luuka/thesis/workspace/output/01_preprocess.ipynb\", \"train\": \"/home/luuka/thesis/workspace/data/processed/train.parquet\", \"val\": \"/home/luuka/thesis/workspace/data/processed/val.parquet\", \"test\": \"/home/luuka/thesis/workspace/data/processed/test.parquet\", \"config\": \"/home/luuka/thesis/workspace/data/processed/preprocessing_config.json\"}\n"
   ]
  },
  {
   "cell_type": "code",
   "execution_count": 3,
   "id": "ab5e452e",
   "metadata": {
    "execution": {
     "iopub.execute_input": "2025-03-28T00:27:48.864038Z",
     "iopub.status.busy": "2025-03-28T00:27:48.863864Z",
     "iopub.status.idle": "2025-03-28T00:27:51.085978Z",
     "shell.execute_reply": "2025-03-28T00:27:51.085587Z"
    },
    "papermill": {
     "duration": 2.224059,
     "end_time": "2025-03-28T00:27:51.086901",
     "exception": false,
     "start_time": "2025-03-28T00:27:48.862842",
     "status": "completed"
    },
    "tags": []
   },
   "outputs": [],
   "source": [
    "# Imports and Setup\n",
    "import pandas as pd\n",
    "import numpy as np\n",
    "from pathlib import Path\n",
    "import sys\n",
    "import logging\n",
    "import json\n",
    "from tqdm import tqdm\n",
    "\n",
    "# Add project root to path\n",
    "sys.path.append(str(Path.cwd().parent))\n",
    "\n",
    "from src.data_tools.preprocessor import load_and_clean_data\n",
    "from src.data_tools.dataset import create_data_splits\n",
    "\n",
    "# Set up logging\n",
    "logging.basicConfig(level=logging.INFO)\n",
    "logger = logging.getLogger(__name__)"
   ]
  },
  {
   "cell_type": "code",
   "execution_count": 4,
   "id": "08b89778",
   "metadata": {
    "execution": {
     "iopub.execute_input": "2025-03-28T00:27:51.090555Z",
     "iopub.status.busy": "2025-03-28T00:27:51.090165Z",
     "iopub.status.idle": "2025-03-28T00:27:51.093207Z",
     "shell.execute_reply": "2025-03-28T00:27:51.092847Z"
    },
    "papermill": {
     "duration": 0.004889,
     "end_time": "2025-03-28T00:27:51.093794",
     "exception": false,
     "start_time": "2025-03-28T00:27:51.088905",
     "status": "completed"
    },
    "tags": []
   },
   "outputs": [
    {
     "name": "stdout",
     "output_type": "stream",
     "text": [
      "Configuration saved!\n"
     ]
    }
   ],
   "source": [
    "# Configuration\n",
    "# Define paths\n",
    "DATA_DIR = Path('../data')\n",
    "PROCESSED_DATA_DIR = DATA_DIR / 'processed'\n",
    "\n",
    "# Create directories if they don't exist\n",
    "PROCESSED_DATA_DIR.mkdir(parents=True, exist_ok=True)\n",
    "\n",
    "# Model configuration\n",
    "config = {\n",
    "    'min_text_length': 5,\n",
    "    'train_size': 0.7,\n",
    "    'val_size': 0.15,\n",
    "    'test_size': 0.15,\n",
    "    'random_state': 42\n",
    "}\n",
    "\n",
    "# Save config\n",
    "with open(PROCESSED_DATA_DIR / 'preprocessing_config.json', 'w') as f:\n",
    "    json.dump(config, f, indent=2)\n",
    "\n",
    "print(\"Configuration saved!\")"
   ]
  },
  {
   "cell_type": "code",
   "execution_count": 5,
   "id": "d38b39b0",
   "metadata": {
    "execution": {
     "iopub.execute_input": "2025-03-28T00:27:51.096014Z",
     "iopub.status.busy": "2025-03-28T00:27:51.095685Z",
     "iopub.status.idle": "2025-03-28T00:28:17.583662Z",
     "shell.execute_reply": "2025-03-28T00:28:17.583280Z"
    },
    "papermill": {
     "duration": 26.489813,
     "end_time": "2025-03-28T00:28:17.584404",
     "exception": false,
     "start_time": "2025-03-28T00:27:51.094591",
     "status": "completed"
    },
    "tags": []
   },
   "outputs": [
    {
     "name": "stderr",
     "output_type": "stream",
     "text": [
      "INFO:src.data_tools.preprocessor:Loading Russian troll tweets...\n"
     ]
    },
    {
     "name": "stderr",
     "output_type": "stream",
     "text": [
      "INFO:src.data_tools.preprocessor:Loading Sentiment140 tweets...\n"
     ]
    },
    {
     "name": "stderr",
     "output_type": "stream",
     "text": [
      "INFO:src.data_tools.preprocessor:Loading celebrity tweets...\n"
     ]
    },
    {
     "name": "stderr",
     "output_type": "stream",
     "text": [
      "INFO:src.data_tools.preprocessor:Loading Twitter JSON data from non_troll_politics folder...\n"
     ]
    },
    {
     "name": "stderr",
     "output_type": "stream",
     "text": [
      "INFO:src.data_tools.preprocessor:Combining datasets...\n"
     ]
    },
    {
     "name": "stderr",
     "output_type": "stream",
     "text": [
      "INFO:src.data_tools.preprocessor:Filtering accounts with few tweets...\n"
     ]
    },
    {
     "name": "stdout",
     "output_type": "stream",
     "text": [
      "Raw dataset info:\n",
      "Total samples: 2702169\n",
      "Columns: ['author', 'text', 'troll']\n",
      "\n",
      "Missing values:\n"
     ]
    },
    {
     "name": "stdout",
     "output_type": "stream",
     "text": [
      "author    0\n",
      "text      0\n",
      "troll     0\n",
      "dtype: int64\n",
      "\n",
      "Class distribution:\n",
      "troll\n",
      "1    0.779391\n",
      "0    0.220609\n",
      "Name: proportion, dtype: float64\n"
     ]
    }
   ],
   "source": [
    "# Cell 3: Load and examine raw data\n",
    "# Load Czech comment data\n",
    "df_raw = load_and_clean_data(str(DATA_DIR))\n",
    "\n",
    "df_raw = df_raw.rename(columns={'account': 'author'})\n",
    "df_raw = df_raw.rename(columns={'tweet': 'text'})\n",
    "\n",
    "print(\"Raw dataset info:\")\n",
    "print(f\"Total samples: {len(df_raw)}\")\n",
    "print(f\"Columns: {df_raw.columns.tolist()}\")\n",
    "print(\"\\nMissing values:\")\n",
    "print(df_raw.isnull().sum())\n",
    "\n",
    "# Show class distribution\n",
    "print(\"\\nClass distribution:\")\n",
    "print(df_raw['troll'].value_counts(normalize=True))"
   ]
  },
  {
   "cell_type": "code",
   "execution_count": 6,
   "id": "ac6f873a",
   "metadata": {
    "execution": {
     "iopub.execute_input": "2025-03-28T00:28:17.596397Z",
     "iopub.status.busy": "2025-03-28T00:28:17.596189Z",
     "iopub.status.idle": "2025-03-28T00:28:17.598525Z",
     "shell.execute_reply": "2025-03-28T00:28:17.598189Z"
    },
    "papermill": {
     "duration": 0.013162,
     "end_time": "2025-03-28T00:28:17.599101",
     "exception": false,
     "start_time": "2025-03-28T00:28:17.585939",
     "status": "completed"
    },
    "tags": []
   },
   "outputs": [
    {
     "name": "stdout",
     "output_type": "stream",
     "text": [
      "Available columns: ['author', 'text', 'troll']\n"
     ]
    }
   ],
   "source": [
    "print(\"Available columns:\", df_raw.columns.tolist())"
   ]
  },
  {
   "cell_type": "code",
   "execution_count": 7,
   "id": "928b8683",
   "metadata": {
    "execution": {
     "iopub.execute_input": "2025-03-28T00:28:17.602191Z",
     "iopub.status.busy": "2025-03-28T00:28:17.601948Z",
     "iopub.status.idle": "2025-03-28T00:28:17.969779Z",
     "shell.execute_reply": "2025-03-28T00:28:17.969381Z"
    },
    "papermill": {
     "duration": 0.370349,
     "end_time": "2025-03-28T00:28:17.970739",
     "exception": false,
     "start_time": "2025-03-28T00:28:17.600390",
     "status": "completed"
    },
    "tags": []
   },
   "outputs": [
    {
     "name": "stdout",
     "output_type": "stream",
     "text": [
      "Dataset splits:\n",
      "Train: 1724721 samples, 16242 authors\n",
      "Val:   558584 samples, 3481 authors\n",
      "Test:  418864 samples, 3481 authors\n"
     ]
    }
   ],
   "source": [
    "# Create Train/Val/Test Splits\n",
    "# Create splits ensuring no author overlap\n",
    "train_df, val_df, test_df = create_data_splits(\n",
    "    df_raw,\n",
    "    train_size=config['train_size'],\n",
    "    val_size=config['val_size'],\n",
    "    test_size=config['test_size'],\n",
    "    random_state=config['random_state']\n",
    ")\n",
    "\n",
    "print(\"Dataset splits:\")\n",
    "print(f\"Train: {len(train_df)} samples, {train_df['author'].nunique()} authors\")\n",
    "print(f\"Val:   {len(val_df)} samples, {val_df['author'].nunique()} authors\")\n",
    "print(f\"Test:  {len(test_df)} samples, {test_df['author'].nunique()} authors\")"
   ]
  },
  {
   "cell_type": "code",
   "execution_count": 8,
   "id": "0f05ff77",
   "metadata": {
    "execution": {
     "iopub.execute_input": "2025-03-28T00:28:17.973807Z",
     "iopub.status.busy": "2025-03-28T00:28:17.973600Z",
     "iopub.status.idle": "2025-03-28T00:28:18.978269Z",
     "shell.execute_reply": "2025-03-28T00:28:18.977774Z"
    },
    "papermill": {
     "duration": 1.006908,
     "end_time": "2025-03-28T00:28:18.979033",
     "exception": false,
     "start_time": "2025-03-28T00:28:17.972125",
     "status": "completed"
    },
    "tags": []
   },
   "outputs": [
    {
     "name": "stdout",
     "output_type": "stream",
     "text": [
      "Saved train split to ../data/processed/train.parquet\n",
      "Saved val split to ../data/processed/val.parquet\n"
     ]
    },
    {
     "name": "stdout",
     "output_type": "stream",
     "text": [
      "Saved test split to ../data/processed/test.parquet\n",
      "\n",
      "Saved preprocessing config to ../data/processed/preprocessing_config.json\n"
     ]
    }
   ],
   "source": [
    "# Save Processed Data\n",
    "# Save splits to parquet\n",
    "for split_name, split_df in [\n",
    "    ('train', train_df),\n",
    "    ('val', val_df),\n",
    "    ('test', test_df)\n",
    "]:\n",
    "    output_path = PROCESSED_DATA_DIR / f'{split_name}.parquet'\n",
    "    split_df.to_parquet(output_path, index=False)\n",
    "    print(f\"Saved {split_name} split to {output_path}\")\n",
    "\n",
    "# Save preprocessing config\n",
    "import json\n",
    "config_path = PROCESSED_DATA_DIR / 'preprocessing_config.json'\n",
    "with open(config_path, 'w') as f:\n",
    "    json.dump(config, f, indent=2)\n",
    "print(f\"\\nSaved preprocessing config to {config_path}\")"
   ]
  },
  {
   "cell_type": "code",
   "execution_count": null,
   "id": "cf2f5abf",
   "metadata": {
    "papermill": {
     "duration": 0.001088,
     "end_time": "2025-03-28T00:28:18.981518",
     "exception": false,
     "start_time": "2025-03-28T00:28:18.980430",
     "status": "completed"
    },
    "tags": []
   },
   "outputs": [],
   "source": []
  }
 ],
 "metadata": {
  "kernelspec": {
   "display_name": "Python 3 (ipykernel)",
   "language": "python",
   "name": "python3"
  },
  "language_info": {
   "codemirror_mode": {
    "name": "ipython",
    "version": 3
   },
   "file_extension": ".py",
   "mimetype": "text/x-python",
   "name": "python",
   "nbconvert_exporter": "python",
   "pygments_lexer": "ipython3",
   "version": "3.11.5"
  },
  "papermill": {
   "duration": 30.653109,
   "end_time": "2025-03-28T00:28:18.969471",
   "exception": null,
   "input_path": "/tmp/tmpqd0a1ks6.ipynb",
   "output_path": "/home/luuka/thesis/workspace/output/01_preprocess.ipynb",
   "parameters": {
    "product": {
     "config": "/home/luuka/thesis/workspace/data/processed/preprocessing_config.json",
     "nb": "/home/luuka/thesis/workspace/output/01_preprocess.ipynb",
     "test": "/home/luuka/thesis/workspace/data/processed/test.parquet",
     "train": "/home/luuka/thesis/workspace/data/processed/train.parquet",
     "val": "/home/luuka/thesis/workspace/data/processed/val.parquet"
    }
   },
   "start_time": "2025-03-28T00:27:48.316362"
  }
 },
 "nbformat": 4,
 "nbformat_minor": 5
}