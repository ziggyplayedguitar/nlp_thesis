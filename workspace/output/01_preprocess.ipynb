{
 "cells": [
  {
   "cell_type": "code",
   "execution_count": 1,
   "id": "780d88a7",
   "metadata": {
    "execution": {
     "iopub.execute_input": "2025-03-26T21:41:59.736114Z",
     "iopub.status.busy": "2025-03-26T21:41:59.735819Z",
     "iopub.status.idle": "2025-03-26T21:41:59.739110Z",
     "shell.execute_reply": "2025-03-26T21:41:59.738805Z"
    },
    "papermill": {
     "duration": 0.005789,
     "end_time": "2025-03-26T21:41:59.739680",
     "exception": false,
     "start_time": "2025-03-26T21:41:59.733891",
     "status": "completed"
    },
    "tags": [
     "parameters"
    ]
   },
   "outputs": [],
   "source": [
    "# declare a list tasks whose products you want to use as inputs\n",
    "upstream = None\n"
   ]
  },
  {
   "cell_type": "code",
   "execution_count": 2,
   "id": "050b0f9d",
   "metadata": {
    "execution": {
     "iopub.execute_input": "2025-03-26T21:41:59.745700Z",
     "iopub.status.busy": "2025-03-26T21:41:59.745521Z",
     "iopub.status.idle": "2025-03-26T21:41:59.747421Z",
     "shell.execute_reply": "2025-03-26T21:41:59.747103Z"
    },
    "papermill": {
     "duration": 0.003554,
     "end_time": "2025-03-26T21:41:59.748012",
     "exception": false,
     "start_time": "2025-03-26T21:41:59.744458",
     "status": "completed"
    },
    "tags": [
     "injected-parameters"
    ]
   },
   "outputs": [],
   "source": [
    "# Parameters\n",
    "product = {\"nb\": \"/home/luuka/thesis/workspace/output/01_preprocess.ipynb\", \"train\": \"/home/luuka/thesis/workspace/data/processed/train.parquet\", \"val\": \"/home/luuka/thesis/workspace/data/processed/val.parquet\", \"test\": \"/home/luuka/thesis/workspace/data/processed/test.parquet\", \"config\": \"/home/luuka/thesis/workspace/data/processed/preprocessing_config.json\"}\n"
   ]
  },
  {
   "cell_type": "code",
   "execution_count": 3,
   "id": "ab5e452e",
   "metadata": {
    "execution": {
     "iopub.execute_input": "2025-03-26T21:41:59.749847Z",
     "iopub.status.busy": "2025-03-26T21:41:59.749722Z",
     "iopub.status.idle": "2025-03-26T21:42:03.096631Z",
     "shell.execute_reply": "2025-03-26T21:42:03.096224Z"
    },
    "papermill": {
     "duration": 3.348825,
     "end_time": "2025-03-26T21:42:03.097563",
     "exception": false,
     "start_time": "2025-03-26T21:41:59.748738",
     "status": "completed"
    },
    "tags": []
   },
   "outputs": [],
   "source": [
    "# Imports and Setup\n",
    "import pandas as pd\n",
    "import numpy as np\n",
    "from pathlib import Path\n",
    "import sys\n",
    "import logging\n",
    "import json\n",
    "from tqdm import tqdm\n",
    "\n",
    "# Add project root to path\n",
    "sys.path.append(str(Path.cwd().parent))\n",
    "\n",
    "from src.data_tools.preprocessor import load_and_clean_data\n",
    "from src.data_tools.dataset import create_data_splits\n",
    "\n",
    "# Set up logging\n",
    "logging.basicConfig(level=logging.INFO)\n",
    "logger = logging.getLogger(__name__)"
   ]
  },
  {
   "cell_type": "code",
   "execution_count": 4,
   "id": "08b89778",
   "metadata": {
    "execution": {
     "iopub.execute_input": "2025-03-26T21:42:03.100240Z",
     "iopub.status.busy": "2025-03-26T21:42:03.099907Z",
     "iopub.status.idle": "2025-03-26T21:42:03.103066Z",
     "shell.execute_reply": "2025-03-26T21:42:03.102752Z"
    },
    "papermill": {
     "duration": 0.005067,
     "end_time": "2025-03-26T21:42:03.103654",
     "exception": false,
     "start_time": "2025-03-26T21:42:03.098587",
     "status": "completed"
    },
    "tags": []
   },
   "outputs": [
    {
     "name": "stdout",
     "output_type": "stream",
     "text": [
      "Configuration saved!\n"
     ]
    }
   ],
   "source": [
    "# Configuration\n",
    "# Define paths\n",
    "DATA_DIR = Path('../data')\n",
    "PROCESSED_DATA_DIR = DATA_DIR / 'processed'\n",
    "\n",
    "# Create directories if they don't exist\n",
    "PROCESSED_DATA_DIR.mkdir(parents=True, exist_ok=True)\n",
    "\n",
    "# Model configuration\n",
    "config = {\n",
    "    'min_text_length': 5,\n",
    "    'train_size': 0.7,\n",
    "    'val_size': 0.15,\n",
    "    'test_size': 0.15,\n",
    "    'random_state': 42\n",
    "}\n",
    "\n",
    "# Save config\n",
    "with open(PROCESSED_DATA_DIR / 'preprocessing_config.json', 'w') as f:\n",
    "    json.dump(config, f, indent=2)\n",
    "\n",
    "print(\"Configuration saved!\")"
   ]
  },
  {
   "cell_type": "code",
   "execution_count": 5,
   "id": "d38b39b0",
   "metadata": {
    "execution": {
     "iopub.execute_input": "2025-03-26T21:42:03.105793Z",
     "iopub.status.busy": "2025-03-26T21:42:03.105593Z",
     "iopub.status.idle": "2025-03-26T21:42:29.771749Z",
     "shell.execute_reply": "2025-03-26T21:42:29.771340Z"
    },
    "papermill": {
     "duration": 26.669982,
     "end_time": "2025-03-26T21:42:29.774461",
     "exception": false,
     "start_time": "2025-03-26T21:42:03.104479",
     "status": "completed"
    },
    "tags": []
   },
   "outputs": [
    {
     "name": "stderr",
     "output_type": "stream",
     "text": [
      "INFO:src.data_tools.preprocessor:Loading Russian troll tweets...\n"
     ]
    },
    {
     "name": "stderr",
     "output_type": "stream",
     "text": [
      "INFO:src.data_tools.preprocessor:Loading Sentiment140 tweets...\n"
     ]
    },
    {
     "name": "stderr",
     "output_type": "stream",
     "text": [
      "INFO:src.data_tools.preprocessor:Loading celebrity tweets...\n"
     ]
    },
    {
     "name": "stderr",
     "output_type": "stream",
     "text": [
      "INFO:src.data_tools.preprocessor:Loading Twitter JSON data from non_troll_politics folder...\n"
     ]
    },
    {
     "name": "stderr",
     "output_type": "stream",
     "text": [
      "INFO:src.data_tools.preprocessor:Combining datasets...\n"
     ]
    },
    {
     "name": "stderr",
     "output_type": "stream",
     "text": [
      "INFO:src.data_tools.preprocessor:Filtering accounts with few tweets...\n"
     ]
    },
    {
     "name": "stdout",
     "output_type": "stream",
     "text": [
      "Raw dataset info:\n",
      "Total samples: 2701940\n",
      "Columns: ['account', 'tweet', 'troll']\n",
      "\n",
      "Missing values:\n",
      "account    0\n",
      "tweet      0\n",
      "troll      0\n",
      "dtype: int64\n",
      "\n",
      "Class distribution:\n",
      "troll\n",
      "1    0.77938\n",
      "0    0.22062\n",
      "Name: proportion, dtype: float64\n"
     ]
    }
   ],
   "source": [
    "# Cell 3: Load and examine raw data\n",
    "# Load Czech comment data\n",
    "df_raw = load_and_clean_data(str(DATA_DIR))\n",
    "\n",
    "print(\"Raw dataset info:\")\n",
    "print(f\"Total samples: {len(df_raw)}\")\n",
    "print(f\"Columns: {df_raw.columns.tolist()}\")\n",
    "print(\"\\nMissing values:\")\n",
    "print(df_raw.isnull().sum())\n",
    "\n",
    "# Show class distribution\n",
    "print(\"\\nClass distribution:\")\n",
    "print(df_raw['troll'].value_counts(normalize=True))"
   ]
  },
  {
   "cell_type": "code",
   "execution_count": 6,
   "id": "ac6f873a",
   "metadata": {
    "execution": {
     "iopub.execute_input": "2025-03-26T21:42:29.777673Z",
     "iopub.status.busy": "2025-03-26T21:42:29.777428Z",
     "iopub.status.idle": "2025-03-26T21:42:29.779706Z",
     "shell.execute_reply": "2025-03-26T21:42:29.779376Z"
    },
    "papermill": {
     "duration": 0.004768,
     "end_time": "2025-03-26T21:42:29.780585",
     "exception": false,
     "start_time": "2025-03-26T21:42:29.775817",
     "status": "completed"
    },
    "tags": []
   },
   "outputs": [
    {
     "name": "stdout",
     "output_type": "stream",
     "text": [
      "Available columns: ['account', 'tweet', 'troll']\n"
     ]
    }
   ],
   "source": [
    "print(\"Available columns:\", df_raw.columns.tolist())"
   ]
  },
  {
   "cell_type": "code",
   "execution_count": 7,
   "id": "928b8683",
   "metadata": {
    "execution": {
     "iopub.execute_input": "2025-03-26T21:42:29.783208Z",
     "iopub.status.busy": "2025-03-26T21:42:29.783015Z",
     "iopub.status.idle": "2025-03-26T21:42:30.157098Z",
     "shell.execute_reply": "2025-03-26T21:42:30.156682Z"
    },
    "papermill": {
     "duration": 0.376087,
     "end_time": "2025-03-26T21:42:30.157787",
     "exception": false,
     "start_time": "2025-03-26T21:42:29.781700",
     "status": "completed"
    },
    "tags": []
   },
   "outputs": [
    {
     "name": "stdout",
     "output_type": "stream",
     "text": [
      "Dataset splits:\n",
      "Train: 1724555 samples, 16242 authors\n",
      "Val:   558573 samples, 3481 authors\n",
      "Test:  418812 samples, 3481 authors\n"
     ]
    }
   ],
   "source": [
    "# Create Train/Val/Test Splits\n",
    "# Create splits ensuring no author overlap\n",
    "train_df, val_df, test_df = create_data_splits(\n",
    "    df_raw,\n",
    "    train_size=config['train_size'],\n",
    "    val_size=config['val_size'],\n",
    "    test_size=config['test_size'],\n",
    "    random_state=config['random_state']\n",
    ")\n",
    "\n",
    "print(\"Dataset splits:\")\n",
    "print(f\"Train: {len(train_df)} samples, {train_df['account'].nunique()} authors\")\n",
    "print(f\"Val:   {len(val_df)} samples, {val_df['account'].nunique()} authors\")\n",
    "print(f\"Test:  {len(test_df)} samples, {test_df['account'].nunique()} authors\")"
   ]
  },
  {
   "cell_type": "code",
   "execution_count": 8,
   "id": "0f05ff77",
   "metadata": {
    "execution": {
     "iopub.execute_input": "2025-03-26T21:42:30.161359Z",
     "iopub.status.busy": "2025-03-26T21:42:30.161136Z",
     "iopub.status.idle": "2025-03-26T21:42:31.155398Z",
     "shell.execute_reply": "2025-03-26T21:42:31.155015Z"
    },
    "papermill": {
     "duration": 0.996931,
     "end_time": "2025-03-26T21:42:31.156019",
     "exception": false,
     "start_time": "2025-03-26T21:42:30.159088",
     "status": "completed"
    },
    "tags": []
   },
   "outputs": [
    {
     "name": "stdout",
     "output_type": "stream",
     "text": [
      "Saved train split to ../data/processed/train.parquet\n",
      "Saved val split to ../data/processed/val.parquet\n"
     ]
    },
    {
     "name": "stdout",
     "output_type": "stream",
     "text": [
      "Saved test split to ../data/processed/test.parquet\n",
      "\n",
      "Saved preprocessing config to ../data/processed/preprocessing_config.json\n"
     ]
    }
   ],
   "source": [
    "# Save Processed Data\n",
    "# Save splits to parquet\n",
    "for split_name, split_df in [\n",
    "    ('train', train_df),\n",
    "    ('val', val_df),\n",
    "    ('test', test_df)\n",
    "]:\n",
    "    output_path = PROCESSED_DATA_DIR / f'{split_name}.parquet'\n",
    "    split_df.to_parquet(output_path, index=False)\n",
    "    print(f\"Saved {split_name} split to {output_path}\")\n",
    "\n",
    "# Save preprocessing config\n",
    "import json\n",
    "config_path = PROCESSED_DATA_DIR / 'preprocessing_config.json'\n",
    "with open(config_path, 'w') as f:\n",
    "    json.dump(config, f, indent=2)\n",
    "print(f\"\\nSaved preprocessing config to {config_path}\")"
   ]
  },
  {
   "cell_type": "code",
   "execution_count": null,
   "id": "cf2f5abf",
   "metadata": {
    "papermill": {
     "duration": 0.001018,
     "end_time": "2025-03-26T21:42:31.158429",
     "exception": false,
     "start_time": "2025-03-26T21:42:31.157411",
     "status": "completed"
    },
    "tags": []
   },
   "outputs": [],
   "source": []
  }
 ],
 "metadata": {
  "kernelspec": {
   "display_name": "Python 3 (ipykernel)",
   "language": "python",
   "name": "python3"
  },
  "language_info": {
   "codemirror_mode": {
    "name": "ipython",
    "version": 3
   },
   "file_extension": ".py",
   "mimetype": "text/x-python",
   "name": "python",
   "nbconvert_exporter": "python",
   "pygments_lexer": "ipython3",
   "version": "3.11.5"
  },
  "papermill": {
   "duration": 33.094806,
   "end_time": "2025-03-26T21:42:32.291723",
   "exception": null,
   "input_path": "/tmp/tmpa63o4xr1.ipynb",
   "output_path": "/home/luuka/thesis/workspace/output/01_preprocess.ipynb",
   "parameters": {
    "product": {
     "config": "/home/luuka/thesis/workspace/data/processed/preprocessing_config.json",
     "nb": "/home/luuka/thesis/workspace/output/01_preprocess.ipynb",
     "test": "/home/luuka/thesis/workspace/data/processed/test.parquet",
     "train": "/home/luuka/thesis/workspace/data/processed/train.parquet",
     "val": "/home/luuka/thesis/workspace/data/processed/val.parquet"
    }
   },
   "start_time": "2025-03-26T21:41:59.196917"
  }
 },
 "nbformat": 4,
 "nbformat_minor": 5
}