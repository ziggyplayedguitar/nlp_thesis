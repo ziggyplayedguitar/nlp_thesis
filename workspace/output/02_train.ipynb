{
 "cells": [
  {
   "cell_type": "code",
   "execution_count": 1,
   "id": "f48636d5",
   "metadata": {
    "execution": {
     "iopub.execute_input": "2025-03-28T00:56:56.931690Z",
     "iopub.status.busy": "2025-03-28T00:56:56.931361Z",
     "iopub.status.idle": "2025-03-28T00:56:56.934950Z",
     "shell.execute_reply": "2025-03-28T00:56:56.934580Z"
    },
    "papermill": {
     "duration": 0.006042,
     "end_time": "2025-03-28T00:56:56.935608",
     "exception": false,
     "start_time": "2025-03-28T00:56:56.929566",
     "status": "completed"
    },
    "tags": [
     "parameters"
    ]
   },
   "outputs": [],
   "source": [
    "# declare a list tasks whose products you want to use as inputs\n",
    "upstream = None\n"
   ]
  },
  {
   "cell_type": "code",
   "execution_count": 2,
   "id": "7462357f",
   "metadata": {
    "execution": {
     "iopub.execute_input": "2025-03-28T00:56:56.939067Z",
     "iopub.status.busy": "2025-03-28T00:56:56.938808Z",
     "iopub.status.idle": "2025-03-28T00:56:56.940801Z",
     "shell.execute_reply": "2025-03-28T00:56:56.940475Z"
    },
    "papermill": {
     "duration": 0.004666,
     "end_time": "2025-03-28T00:56:56.941388",
     "exception": false,
     "start_time": "2025-03-28T00:56:56.936722",
     "status": "completed"
    },
    "tags": [
     "injected-parameters"
    ]
   },
   "outputs": [],
   "source": [
    "# Parameters\n",
    "product = {\"nb\": \"/home/luuka/thesis/workspace/output/02_train.ipynb\", \"model\": \"/home/luuka/thesis/workspace/checkpoints/best_model.pt\", \"metrics\": \"/home/luuka/thesis/workspace/checkpoints/best_model_info.json\", \"results\": \"/home/luuka/thesis/workspace/checkpoints/training_results.json\"}\n"
   ]
  },
  {
   "cell_type": "code",
   "execution_count": 3,
   "id": "0e267ffc",
   "metadata": {
    "execution": {
     "iopub.execute_input": "2025-03-28T00:56:56.943356Z",
     "iopub.status.busy": "2025-03-28T00:56:56.943074Z",
     "iopub.status.idle": "2025-03-28T00:57:01.358079Z",
     "shell.execute_reply": "2025-03-28T00:57:01.357656Z"
    },
    "papermill": {
     "duration": 4.416982,
     "end_time": "2025-03-28T00:57:01.359041",
     "exception": false,
     "start_time": "2025-03-28T00:56:56.942059",
     "status": "completed"
    },
    "tags": []
   },
   "outputs": [],
   "source": [
    "# Imports and Setup\n",
    "import pandas as pd\n",
    "import numpy as np\n",
    "from pathlib import Path\n",
    "import sys\n",
    "import logging\n",
    "import json\n",
    "import torch\n",
    "from torch.utils.data import DataLoader\n",
    "from tqdm import tqdm\n",
    "\n",
    "# Add project root to path\n",
    "sys.path.append(str(Path.cwd().parent))\n",
    "\n",
    "# Import custom modules\n",
    "from src.models.bert_model import TrollDetector\n",
    "from src.models.trainer import TrollDetectorTrainer\n",
    "from src.data_tools.dataset import TrollDataset, collate_batch\n",
    "\n",
    "# Set up logging\n",
    "logging.basicConfig(level=logging.INFO)\n",
    "logger = logging.getLogger(__name__)"
   ]
  },
  {
   "cell_type": "code",
   "execution_count": 4,
   "id": "c92cb16b",
   "metadata": {
    "execution": {
     "iopub.execute_input": "2025-03-28T00:57:01.361727Z",
     "iopub.status.busy": "2025-03-28T00:57:01.361498Z",
     "iopub.status.idle": "2025-03-28T00:57:01.365253Z",
     "shell.execute_reply": "2025-03-28T00:57:01.364893Z"
    },
    "papermill": {
     "duration": 0.005849,
     "end_time": "2025-03-28T00:57:01.365973",
     "exception": false,
     "start_time": "2025-03-28T00:57:01.360124",
     "status": "completed"
    },
    "tags": []
   },
   "outputs": [
    {
     "name": "stdout",
     "output_type": "stream",
     "text": [
      "Configuration loaded:\n",
      "model_name: distilbert-base-multilingual-cased\n",
      "max_length: 128\n",
      "batch_size: 64\n",
      "learning_rate: 2e-05\n",
      "weight_decay: 0.03\n",
      "num_epochs: 3\n",
      "dropout_rate: 0.2\n",
      "warmup_steps: 50\n",
      "max_grad_norm: 1.0\n",
      "comments_per_user: 5\n",
      "early_stopping_patience: 3\n",
      "use_wandb: False\n",
      "random_state: 42\n",
      "label_smoothing: 0.1\n"
     ]
    }
   ],
   "source": [
    "# Define paths\n",
    "DATA_DIR = Path('../data')\n",
    "PROCESSED_DATA_DIR = DATA_DIR / 'processed'\n",
    "CHECKPOINT_DIR = Path('../checkpoints')\n",
    "\n",
    "# Create checkpoint directory\n",
    "CHECKPOINT_DIR.mkdir(parents=True, exist_ok=True)\n",
    "\n",
    "# Training configuration\n",
    "config = {\n",
    "    'model_name': 'distilbert-base-multilingual-cased',\n",
    "    'max_length': 128,\n",
    "    'batch_size': 64,\n",
    "    'learning_rate': 2e-5,\n",
    "    'weight_decay': 0.03,\n",
    "    'num_epochs': 3,\n",
    "    'dropout_rate': 0.2,\n",
    "    'warmup_steps': 50,\n",
    "    'max_grad_norm': 1.0,\n",
    "    'comments_per_user': 5,\n",
    "    'early_stopping_patience': 3,\n",
    "    'use_wandb': False,\n",
    "    'random_state': 17,  # Default if config not found\n",
    "    'label_smoothing': 0.1        # Added label smoothing\n",
    "}\n",
    "\n",
    "# Try to load preprocessing config\n",
    "try:\n",
    "    with open(PROCESSED_DATA_DIR / 'preprocessing_config.json', 'r') as f:\n",
    "        preproc_config = json.load(f)\n",
    "        config['random_state'] = preproc_config.get('random_state', 42)\n",
    "except FileNotFoundError:\n",
    "    print(\"Warning: preprocessing_config.json not found, using default random_state\")\n",
    "\n",
    "print(\"Configuration loaded:\")\n",
    "for key, value in config.items():\n",
    "    print(f\"{key}: {value}\")"
   ]
  },
  {
   "cell_type": "code",
   "execution_count": 5,
   "id": "f3767e1b",
   "metadata": {
    "execution": {
     "iopub.execute_input": "2025-03-28T00:57:01.368158Z",
     "iopub.status.busy": "2025-03-28T00:57:01.368019Z",
     "iopub.status.idle": "2025-03-28T00:57:02.409655Z",
     "shell.execute_reply": "2025-03-28T00:57:02.409222Z"
    },
    "papermill": {
     "duration": 1.043521,
     "end_time": "2025-03-28T00:57:02.410348",
     "exception": false,
     "start_time": "2025-03-28T00:57:01.366827",
     "status": "completed"
    },
    "tags": []
   },
   "outputs": [
    {
     "name": "stdout",
     "output_type": "stream",
     "text": [
      "Dataset sizes:\n",
      "Train: 1724721 samples, 16242 authors\n",
      "Val:   558584 samples, 3481 authors\n",
      "Test:  418864 samples, 3481 authors\n"
     ]
    }
   ],
   "source": [
    "# Load preprocessed data splits\n",
    "train_df = pd.read_parquet(PROCESSED_DATA_DIR / 'train.parquet')\n",
    "val_df = pd.read_parquet(PROCESSED_DATA_DIR / 'val.parquet')\n",
    "test_df = pd.read_parquet(PROCESSED_DATA_DIR / 'test.parquet')\n",
    "\n",
    "print(\"Dataset sizes:\")\n",
    "print(f\"Train: {len(train_df)} samples, {train_df['author'].nunique()} authors\")\n",
    "print(f\"Val:   {len(val_df)} samples, {val_df['author'].nunique()} authors\")\n",
    "print(f\"Test:  {len(test_df)} samples, {test_df['author'].nunique()} authors\")"
   ]
  },
  {
   "cell_type": "code",
   "execution_count": 6,
   "id": "45fe3bd7",
   "metadata": {
    "execution": {
     "iopub.execute_input": "2025-03-28T00:57:02.413228Z",
     "iopub.status.busy": "2025-03-28T00:57:02.412940Z",
     "iopub.status.idle": "2025-03-28T00:57:04.305660Z",
     "shell.execute_reply": "2025-03-28T00:57:04.305073Z"
    },
    "papermill": {
     "duration": 1.895639,
     "end_time": "2025-03-28T00:57:04.307131",
     "exception": false,
     "start_time": "2025-03-28T00:57:02.411492",
     "status": "completed"
    },
    "tags": []
   },
   "outputs": [],
   "source": [
    "# Create Datasets and DataLoaders\n",
    "# Initialize datasets\n",
    "train_dataset = TrollDataset(\n",
    "    train_df,\n",
    "    tokenizer_name=config['model_name'],\n",
    "    max_length=config['max_length'],\n",
    "    comments_per_user=config['comments_per_user']\n",
    ")\n",
    "\n",
    "val_dataset = TrollDataset(\n",
    "    val_df,\n",
    "    tokenizer_name=config['model_name'],\n",
    "    max_length=config['max_length'],\n",
    "    comments_per_user=config['comments_per_user']\n",
    ")\n",
    "\n",
    "test_dataset = TrollDataset(\n",
    "    test_df,\n",
    "    tokenizer_name=config['model_name'],\n",
    "    max_length=config['max_length'],\n",
    "    comments_per_user=config['comments_per_user']\n",
    ")\n",
    "\n",
    "# Create dataloaders\n",
    "train_loader = DataLoader(\n",
    "    train_dataset,\n",
    "    batch_size=config['batch_size'],\n",
    "    shuffle=True,\n",
    "    collate_fn=collate_batch\n",
    ")\n",
    "\n",
    "val_loader = DataLoader(\n",
    "    val_dataset,\n",
    "    batch_size=config['batch_size'],\n",
    "    shuffle=False,\n",
    "    collate_fn=collate_batch\n",
    ")\n",
    "\n",
    "test_loader = DataLoader(\n",
    "    test_dataset,\n",
    "    batch_size=config['batch_size'],\n",
    "    shuffle=False,\n",
    "    collate_fn=collate_batch\n",
    ")"
   ]
  },
  {
   "cell_type": "code",
   "execution_count": 7,
   "id": "be1b89ff",
   "metadata": {
    "execution": {
     "iopub.execute_input": "2025-03-28T00:57:04.320776Z",
     "iopub.status.busy": "2025-03-28T00:57:04.320482Z",
     "iopub.status.idle": "2025-03-28T00:57:05.230481Z",
     "shell.execute_reply": "2025-03-28T00:57:05.229930Z"
    },
    "papermill": {
     "duration": 0.912845,
     "end_time": "2025-03-28T00:57:05.231407",
     "exception": false,
     "start_time": "2025-03-28T00:57:04.318562",
     "status": "completed"
    },
    "tags": []
   },
   "outputs": [
    {
     "name": "stderr",
     "output_type": "stream",
     "text": [
      "/home/luuka/thesis/workspace/src/models/trainer.py:48: FutureWarning: `torch.cuda.amp.GradScaler(args...)` is deprecated. Please use `torch.amp.GradScaler('cuda', args...)` instead.\n",
      "  self.scaler = GradScaler()\n"
     ]
    }
   ],
   "source": [
    "# Initialize Model and Trainer\n",
    "model = TrollDetector(\n",
    "    model_name=config['model_name'],\n",
    "    dropout_rate=config['dropout_rate']\n",
    ")\n",
    "\n",
    "# Initialize trainer\n",
    "trainer = TrollDetectorTrainer(\n",
    "    model=model,\n",
    "    train_loader=train_loader,\n",
    "    val_loader=val_loader,\n",
    "    test_loader=test_loader,\n",
    "    learning_rate=config['learning_rate'],\n",
    "    weight_decay=config['weight_decay'],\n",
    "    max_grad_norm=config['max_grad_norm'],\n",
    "    num_epochs=config['num_epochs'],\n",
    "    warmup_steps=config['warmup_steps'],\n",
    "    checkpoint_dir=CHECKPOINT_DIR,\n",
    "    use_wandb=config['use_wandb']\n",
    ")"
   ]
  },
  {
   "cell_type": "code",
   "execution_count": 8,
   "id": "3e34eaa9",
   "metadata": {
    "execution": {
     "iopub.execute_input": "2025-03-28T00:57:05.234917Z",
     "iopub.status.busy": "2025-03-28T00:57:05.234707Z",
     "iopub.status.idle": "2025-03-28T01:30:26.182747Z",
     "shell.execute_reply": "2025-03-28T01:30:26.181769Z"
    },
    "papermill": {
     "duration": 2000.951553,
     "end_time": "2025-03-28T01:30:26.184548",
     "exception": false,
     "start_time": "2025-03-28T00:57:05.232995",
     "status": "completed"
    },
    "tags": []
   },
   "outputs": [
    {
     "name": "stderr",
     "output_type": "stream",
     "text": [
      "INFO:src.models.trainer:Starting training on device: cuda\n"
     ]
    },
    {
     "name": "stderr",
     "output_type": "stream",
     "text": [
      "INFO:src.models.trainer:Training samples: 16242\n"
     ]
    },
    {
     "name": "stderr",
     "output_type": "stream",
     "text": [
      "INFO:src.models.trainer:Validation samples: 3481\n"
     ]
    },
    {
     "name": "stderr",
     "output_type": "stream",
     "text": [
      "INFO:src.models.trainer:\n",
      "Epoch 1/3\n"
     ]
    },
    {
     "name": "stderr",
     "output_type": "stream",
     "text": [
      "\r\n",
      "Training:   0%|                                                                     | 0/254 [00:00<?, ?it/s]"
     ]
    },
    {
     "name": "stderr",
     "output_type": "stream",
     "text": [
      "/home/luuka/thesis/workspace/src/models/trainer.py:91: FutureWarning: `torch.cuda.amp.autocast(args...)` is deprecated. Please use `torch.amp.autocast('cuda', args...)` instead.\n",
      "  with torch.cuda.amp.autocast():\n"
     ]
    },
    {
     "name": "stderr",
     "output_type": "stream",
     "text": [
      "\r\n",
      "Training:   0%|                                                        | 0/254 [00:02<?, ?it/s, loss=0.6262]"
     ]
    },
    {
     "name": "stderr",
     "output_type": "stream",
     "text": [
      "\r\n",
      "Training:   0%|▏                                               | 1/254 [00:02<10:54,  2.59s/it, loss=0.6262]"
     ]
    },
    {
     "name": "stderr",
     "output_type": "stream",
     "text": [
      "\r\n",
      "Training:   0%|▏                                               | 1/254 [00:04<10:54,  2.59s/it, loss=0.6235]"
     ]
    },
    {
     "name": "stderr",
     "output_type": "stream",
     "text": [
      "\r\n",
      "Training:   1%|▍                                               | 2/254 [00:04<09:15,  2.20s/it, loss=0.6235]"
     ]
    },
    {
     "name": "stderr",
     "output_type": "stream",
     "text": [
      "\r\n",
      "Training:   1%|▍                                               | 2/254 [00:06<09:15,  2.20s/it, loss=0.6258]"
     ]
    },
    {
     "name": "stderr",
     "output_type": "stream",
     "text": [
      "\r\n",
      "Training:   1%|▌                                               | 3/254 [00:06<08:57,  2.14s/it, loss=0.6258]"
     ]
    },
    {
     "name": "stderr",
     "output_type": "stream",
     "text": [
      "\r\n",
      "Training:   1%|▌                                               | 3/254 [00:08<08:57,  2.14s/it, loss=0.6179]"
     ]
    },
    {
     "name": "stderr",
     "output_type": "stream",
     "text": [
      "\r\n",
      "Training:   2%|▊                                               | 4/254 [00:08<09:07,  2.19s/it, loss=0.6179]"
     ]
    },
    {
     "name": "stderr",
     "output_type": "stream",
     "text": [
      "\r\n",
      "Training:   2%|▊                                               | 4/254 [00:11<09:07,  2.19s/it, loss=0.6257]"
     ]
    },
    {
     "name": "stderr",
     "output_type": "stream",
     "text": [
      "\r\n",
      "Training:   2%|▉                                               | 5/254 [00:11<09:11,  2.21s/it, loss=0.6257]"
     ]
    },
    {
     "name": "stderr",
     "output_type": "stream",
     "text": [
      "\r\n",
      "Training:   2%|▉                                               | 5/254 [00:13<09:11,  2.21s/it, loss=0.6250]"
     ]
    },
    {
     "name": "stderr",
     "output_type": "stream",
     "text": [
      "\r\n",
      "Training:   2%|█▏                                              | 6/254 [00:13<09:04,  2.20s/it, loss=0.6250]"
     ]
    },
    {
     "name": "stderr",
     "output_type": "stream",
     "text": [
      "\r\n",
      "Training:   2%|█▏                                              | 6/254 [00:15<09:04,  2.20s/it, loss=0.6105]"
     ]
    },
    {
     "name": "stderr",
     "output_type": "stream",
     "text": [
      "\r\n",
      "Training:   3%|█▎                                              | 7/254 [00:15<09:00,  2.19s/it, loss=0.6105]"
     ]
    },
    {
     "name": "stderr",
     "output_type": "stream",
     "text": [
      "\r\n",
      "Training:   3%|█▎                                              | 7/254 [00:16<09:00,  2.19s/it, loss=0.6056]"
     ]
    },
    {
     "name": "stderr",
     "output_type": "stream",
     "text": [
      "\r\n",
      "Training:   3%|█▌                                              | 8/254 [00:16<07:24,  1.81s/it, loss=0.6056]"
     ]
    },
    {
     "name": "stderr",
     "output_type": "stream",
     "text": [
      "\r\n",
      "Training:   3%|█▌                                              | 8/254 [00:18<07:24,  1.81s/it, loss=0.5877]"
     ]
    },
    {
     "name": "stderr",
     "output_type": "stream",
     "text": [
      "\r\n",
      "Training:   4%|█▋                                              | 9/254 [00:18<07:58,  1.95s/it, loss=0.5877]"
     ]
    },
    {
     "name": "stderr",
     "output_type": "stream",
     "text": [
      "\r\n",
      "Training:   4%|█▋                                              | 9/254 [00:21<07:58,  1.95s/it, loss=0.6125]"
     ]
    },
    {
     "name": "stderr",
     "output_type": "stream",
     "text": [
      "\r\n",
      "Training:   4%|█▊                                             | 10/254 [00:21<08:22,  2.06s/it, loss=0.6125]"
     ]
    },
    {
     "name": "stderr",
     "output_type": "stream",
     "text": [
      "\r\n",
      "Training:   4%|█▊                                             | 10/254 [00:23<08:22,  2.06s/it, loss=0.5882]"
     ]
    },
    {
     "name": "stderr",
     "output_type": "stream",
     "text": [
      "\r\n",
      "Training:   4%|██                                             | 11/254 [00:23<08:32,  2.11s/it, loss=0.5882]"
     ]
    },
    {
     "name": "stderr",
     "output_type": "stream",
     "text": [
      "\r\n",
      "Training:   4%|██                                             | 11/254 [00:25<08:32,  2.11s/it, loss=0.5607]"
     ]
    },
    {
     "name": "stderr",
     "output_type": "stream",
     "text": [
      "\r\n",
      "Training:   5%|██▏                                            | 12/254 [00:25<08:14,  2.04s/it, loss=0.5607]"
     ]
    },
    {
     "name": "stderr",
     "output_type": "stream",
     "text": [
      "\r\n",
      "Training:   5%|██▏                                            | 12/254 [00:27<08:14,  2.04s/it, loss=0.5451]"
     ]
    },
    {
     "name": "stderr",
     "output_type": "stream",
     "text": [
      "\r\n",
      "Training:   5%|██▍                                            | 13/254 [00:27<08:24,  2.09s/it, loss=0.5451]"
     ]
    },
    {
     "name": "stderr",
     "output_type": "stream",
     "text": [
      "\r\n",
      "Training:   5%|██▍                                            | 13/254 [00:29<08:24,  2.09s/it, loss=0.5385]"
     ]
    },
    {
     "name": "stderr",
     "output_type": "stream",
     "text": [
      "\r\n",
      "Training:   6%|██▌                                            | 14/254 [00:29<08:45,  2.19s/it, loss=0.5385]"
     ]
    },
    {
     "name": "stderr",
     "output_type": "stream",
     "text": [
      "\r\n",
      "Training:   6%|██▌                                            | 14/254 [00:32<08:45,  2.19s/it, loss=0.5317]"
     ]
    },
    {
     "name": "stderr",
     "output_type": "stream",
     "text": [
      "\r\n",
      "Training:   6%|██▊                                            | 15/254 [00:32<09:17,  2.33s/it, loss=0.5317]"
     ]
    },
    {
     "name": "stderr",
     "output_type": "stream",
     "text": [
      "\r\n",
      "Training:   6%|██▊                                            | 15/254 [00:35<09:17,  2.33s/it, loss=0.5426]"
     ]
    },
    {
     "name": "stderr",
     "output_type": "stream",
     "text": [
      "\r\n",
      "Training:   6%|██▉                                            | 16/254 [00:35<09:43,  2.45s/it, loss=0.5426]"
     ]
    },
    {
     "name": "stderr",
     "output_type": "stream",
     "text": [
      "\r\n",
      "Training:   6%|██▉                                            | 16/254 [00:37<09:43,  2.45s/it, loss=0.4933]"
     ]
    },
    {
     "name": "stderr",
     "output_type": "stream",
     "text": [
      "\r\n",
      "Training:   7%|███▏                                           | 17/254 [00:37<09:55,  2.51s/it, loss=0.4933]"
     ]
    },
    {
     "name": "stderr",
     "output_type": "stream",
     "text": [
      "\r\n",
      "Training:   7%|███▏                                           | 17/254 [00:40<09:55,  2.51s/it, loss=0.5204]"
     ]
    },
    {
     "name": "stderr",
     "output_type": "stream",
     "text": [
      "\r\n",
      "Training:   7%|███▎                                           | 18/254 [00:40<10:01,  2.55s/it, loss=0.5204]"
     ]
    },
    {
     "name": "stderr",
     "output_type": "stream",
     "text": [
      "\r\n",
      "Training:   7%|███▎                                           | 18/254 [00:43<10:01,  2.55s/it, loss=0.4711]"
     ]
    },
    {
     "name": "stderr",
     "output_type": "stream",
     "text": [
      "\r\n",
      "Training:   7%|███▌                                           | 19/254 [00:43<10:05,  2.58s/it, loss=0.4711]"
     ]
    },
    {
     "name": "stderr",
     "output_type": "stream",
     "text": [
      "\r\n",
      "Training:   7%|███▌                                           | 19/254 [00:45<10:05,  2.58s/it, loss=0.4506]"
     ]
    },
    {
     "name": "stderr",
     "output_type": "stream",
     "text": [
      "\r\n",
      "Training:   8%|███▋                                           | 20/254 [00:45<10:08,  2.60s/it, loss=0.4506]"
     ]
    },
    {
     "name": "stderr",
     "output_type": "stream",
     "text": [
      "\r\n",
      "Training:   8%|███▋                                           | 20/254 [00:47<10:08,  2.60s/it, loss=0.4444]"
     ]
    },
    {
     "name": "stderr",
     "output_type": "stream",
     "text": [
      "\r\n",
      "Training:   8%|███▉                                           | 21/254 [00:47<08:46,  2.26s/it, loss=0.4444]"
     ]
    },
    {
     "name": "stderr",
     "output_type": "stream",
     "text": [
      "\r\n",
      "Training:   8%|███▉                                           | 21/254 [00:49<08:46,  2.26s/it, loss=0.4341]"
     ]
    },
    {
     "name": "stderr",
     "output_type": "stream",
     "text": [
      "\r\n",
      "Training:   9%|████                                           | 22/254 [00:49<09:11,  2.38s/it, loss=0.4341]"
     ]
    },
    {
     "name": "stderr",
     "output_type": "stream",
     "text": [
      "\r\n",
      "Training:   9%|████                                           | 22/254 [00:52<09:11,  2.38s/it, loss=0.3944]"
     ]
    },
    {
     "name": "stderr",
     "output_type": "stream",
     "text": [
      "\r\n",
      "Training:   9%|████▎                                          | 23/254 [00:52<09:28,  2.46s/it, loss=0.3944]"
     ]
    },
    {
     "name": "stderr",
     "output_type": "stream",
     "text": [
      "\r\n",
      "Training:   9%|████▎                                          | 23/254 [00:55<09:28,  2.46s/it, loss=0.3864]"
     ]
    },
    {
     "name": "stderr",
     "output_type": "stream",
     "text": [
      "\r\n",
      "Training:   9%|████▍                                          | 24/254 [00:55<09:39,  2.52s/it, loss=0.3864]"
     ]
    },
    {
     "name": "stderr",
     "output_type": "stream",
     "text": [
      "\r\n",
      "Training:   9%|████▍                                          | 24/254 [00:57<09:39,  2.52s/it, loss=0.3929]"
     ]
    },
    {
     "name": "stderr",
     "output_type": "stream",
     "text": [
      "\r\n",
      "Training:  10%|████▋                                          | 25/254 [00:57<09:45,  2.56s/it, loss=0.3929]"
     ]
    },
    {
     "name": "stderr",
     "output_type": "stream",
     "text": [
      "\r\n",
      "Training:  10%|████▋                                          | 25/254 [01:00<09:45,  2.56s/it, loss=0.3469]"
     ]
    },
    {
     "name": "stderr",
     "output_type": "stream",
     "text": [
      "\r\n",
      "Training:  10%|████▊                                          | 26/254 [01:00<09:48,  2.58s/it, loss=0.3469]"
     ]
    },
    {
     "name": "stderr",
     "output_type": "stream",
     "text": [
      "\r\n",
      "Training:  10%|████▊                                          | 26/254 [01:03<09:48,  2.58s/it, loss=0.2844]"
     ]
    },
    {
     "name": "stderr",
     "output_type": "stream",
     "text": [
      "\r\n",
      "Training:  11%|████▉                                          | 27/254 [01:03<09:51,  2.61s/it, loss=0.2844]"
     ]
    },
    {
     "name": "stderr",
     "output_type": "stream",
     "text": [
      "\r\n",
      "Training:  11%|████▉                                          | 27/254 [01:05<09:51,  2.61s/it, loss=0.2820]"
     ]
    },
    {
     "name": "stderr",
     "output_type": "stream",
     "text": [
      "\r\n",
      "Training:  11%|█████▏                                         | 28/254 [01:05<09:50,  2.61s/it, loss=0.2820]"
     ]
    },
    {
     "name": "stderr",
     "output_type": "stream",
     "text": [
      "\r\n",
      "Training:  11%|█████▏                                         | 28/254 [01:08<09:50,  2.61s/it, loss=0.2204]"
     ]
    },
    {
     "name": "stderr",
     "output_type": "stream",
     "text": [
      "\r\n",
      "Training:  11%|█████▎                                         | 29/254 [01:08<09:52,  2.63s/it, loss=0.2204]"
     ]
    },
    {
     "name": "stderr",
     "output_type": "stream",
     "text": [
      "\r\n",
      "Training:  11%|█████▎                                         | 29/254 [01:11<09:52,  2.63s/it, loss=0.2236]"
     ]
    },
    {
     "name": "stderr",
     "output_type": "stream",
     "text": [
      "\r\n",
      "Training:  12%|█████▌                                         | 30/254 [01:11<09:51,  2.64s/it, loss=0.2236]"
     ]
    },
    {
     "name": "stderr",
     "output_type": "stream",
     "text": [
      "\r\n",
      "Training:  12%|█████▌                                         | 30/254 [01:13<09:51,  2.64s/it, loss=0.2869]"
     ]
    },
    {
     "name": "stderr",
     "output_type": "stream",
     "text": [
      "\r\n",
      "Training:  12%|█████▋                                         | 31/254 [01:13<09:48,  2.64s/it, loss=0.2869]"
     ]
    },
    {
     "name": "stderr",
     "output_type": "stream",
     "text": [
      "\r\n",
      "Training:  12%|█████▋                                         | 31/254 [01:16<09:48,  2.64s/it, loss=0.2306]"
     ]
    },
    {
     "name": "stderr",
     "output_type": "stream",
     "text": [
      "\r\n",
      "Training:  13%|█████▉                                         | 32/254 [01:16<09:47,  2.65s/it, loss=0.2306]"
     ]
    },
    {
     "name": "stderr",
     "output_type": "stream",
     "text": [
      "\r\n",
      "Training:  13%|█████▉                                         | 32/254 [01:17<09:47,  2.65s/it, loss=0.3450]"
     ]
    },
    {
     "name": "stderr",
     "output_type": "stream",
     "text": [
      "\r\n",
      "Training:  13%|██████                                         | 33/254 [01:17<08:26,  2.29s/it, loss=0.3450]"
     ]
    },
    {
     "name": "stderr",
     "output_type": "stream",
     "text": [
      "\r\n",
      "Training:  13%|██████                                         | 33/254 [01:20<08:26,  2.29s/it, loss=0.2290]"
     ]
    },
    {
     "name": "stderr",
     "output_type": "stream",
     "text": [
      "\r\n",
      "Training:  13%|██████▎                                        | 34/254 [01:20<08:47,  2.40s/it, loss=0.2290]"
     ]
    },
    {
     "name": "stderr",
     "output_type": "stream",
     "text": [
      "\r\n",
      "Training:  13%|██████▎                                        | 34/254 [01:23<08:47,  2.40s/it, loss=0.1873]"
     ]
    },
    {
     "name": "stderr",
     "output_type": "stream",
     "text": [
      "\r\n",
      "Training:  14%|██████▍                                        | 35/254 [01:23<08:58,  2.46s/it, loss=0.1873]"
     ]
    },
    {
     "name": "stderr",
     "output_type": "stream",
     "text": [
      "\r\n",
      "Training:  14%|██████▍                                        | 35/254 [01:25<08:58,  2.46s/it, loss=0.2327]"
     ]
    },
    {
     "name": "stderr",
     "output_type": "stream",
     "text": [
      "\r\n",
      "Training:  14%|██████▋                                        | 36/254 [01:25<09:09,  2.52s/it, loss=0.2327]"
     ]
    },
    {
     "name": "stderr",
     "output_type": "stream",
     "text": [
      "\r\n",
      "Training:  14%|██████▋                                        | 36/254 [01:28<09:09,  2.52s/it, loss=0.1434]"
     ]
    },
    {
     "name": "stderr",
     "output_type": "stream",
     "text": [
      "\r\n",
      "Training:  15%|██████▊                                        | 37/254 [01:28<09:17,  2.57s/it, loss=0.1434]"
     ]
    },
    {
     "name": "stderr",
     "output_type": "stream",
     "text": [
      "\r\n",
      "Training:  15%|██████▊                                        | 37/254 [01:31<09:17,  2.57s/it, loss=0.1647]"
     ]
    },
    {
     "name": "stderr",
     "output_type": "stream",
     "text": [
      "\r\n",
      "Training:  15%|███████                                        | 38/254 [01:31<09:20,  2.60s/it, loss=0.1647]"
     ]
    },
    {
     "name": "stderr",
     "output_type": "stream",
     "text": [
      "\r\n",
      "Training:  15%|███████                                        | 38/254 [01:33<09:20,  2.60s/it, loss=0.2150]"
     ]
    },
    {
     "name": "stderr",
     "output_type": "stream",
     "text": [
      "\r\n",
      "Training:  15%|███████▏                                       | 39/254 [01:33<09:21,  2.61s/it, loss=0.2150]"
     ]
    },
    {
     "name": "stderr",
     "output_type": "stream",
     "text": [
      "\r\n",
      "Training:  15%|███████▏                                       | 39/254 [01:36<09:21,  2.61s/it, loss=0.2142]"
     ]
    },
    {
     "name": "stderr",
     "output_type": "stream",
     "text": [
      "\r\n",
      "Training:  16%|███████▍                                       | 40/254 [01:36<09:20,  2.62s/it, loss=0.2142]"
     ]
    },
    {
     "name": "stderr",
     "output_type": "stream",
     "text": [
      "\r\n",
      "Training:  16%|███████▍                                       | 40/254 [01:39<09:20,  2.62s/it, loss=0.2876]"
     ]
    },
    {
     "name": "stderr",
     "output_type": "stream",
     "text": [
      "\r\n",
      "Training:  16%|███████▌                                       | 41/254 [01:39<09:21,  2.64s/it, loss=0.2876]"
     ]
    },
    {
     "name": "stderr",
     "output_type": "stream",
     "text": [
      "\r\n",
      "Training:  16%|███████▌                                       | 41/254 [01:41<09:21,  2.64s/it, loss=0.1750]"
     ]
    },
    {
     "name": "stderr",
     "output_type": "stream",
     "text": [
      "\r\n",
      "Training:  17%|███████▊                                       | 42/254 [01:41<09:18,  2.64s/it, loss=0.1750]"
     ]
    },
    {
     "name": "stderr",
     "output_type": "stream",
     "text": [
      "\r\n",
      "Training:  17%|███████▊                                       | 42/254 [01:44<09:18,  2.64s/it, loss=0.2243]"
     ]
    },
    {
     "name": "stderr",
     "output_type": "stream",
     "text": [
      "\r\n",
      "Training:  17%|███████▉                                       | 43/254 [01:44<09:16,  2.64s/it, loss=0.2243]"
     ]
    },
    {
     "name": "stderr",
     "output_type": "stream",
     "text": [
      "\r\n",
      "Training:  17%|███████▉                                       | 43/254 [01:46<09:16,  2.64s/it, loss=0.2533]"
     ]
    },
    {
     "name": "stderr",
     "output_type": "stream",
     "text": [
      "\r\n",
      "Training:  17%|████████▏                                      | 44/254 [01:46<09:15,  2.64s/it, loss=0.2533]"
     ]
    },
    {
     "name": "stderr",
     "output_type": "stream",
     "text": [
      "\r\n",
      "Training:  17%|████████▏                                      | 44/254 [01:48<09:15,  2.64s/it, loss=0.1799]"
     ]
    },
    {
     "name": "stderr",
     "output_type": "stream",
     "text": [
      "\r\n",
      "Training:  18%|████████▎                                      | 45/254 [01:48<07:56,  2.28s/it, loss=0.1799]"
     ]
    },
    {
     "name": "stderr",
     "output_type": "stream",
     "text": [
      "\r\n",
      "Training:  18%|████████▎                                      | 45/254 [01:51<07:56,  2.28s/it, loss=0.2005]"
     ]
    },
    {
     "name": "stderr",
     "output_type": "stream",
     "text": [
      "\r\n",
      "Training:  18%|████████▌                                      | 46/254 [01:51<08:20,  2.41s/it, loss=0.2005]"
     ]
    },
    {
     "name": "stderr",
     "output_type": "stream",
     "text": [
      "\r\n",
      "Training:  18%|████████▌                                      | 46/254 [01:53<08:20,  2.41s/it, loss=0.1598]"
     ]
    },
    {
     "name": "stderr",
     "output_type": "stream",
     "text": [
      "\r\n",
      "Training:  19%|████████▋                                      | 47/254 [01:53<08:35,  2.49s/it, loss=0.1598]"
     ]
    },
    {
     "name": "stderr",
     "output_type": "stream",
     "text": [
      "\r\n",
      "Training:  19%|████████▋                                      | 47/254 [01:56<08:35,  2.49s/it, loss=0.1587]"
     ]
    },
    {
     "name": "stderr",
     "output_type": "stream",
     "text": [
      "\r\n",
      "Training:  19%|████████▉                                      | 48/254 [01:56<08:45,  2.55s/it, loss=0.1587]"
     ]
    },
    {
     "name": "stderr",
     "output_type": "stream",
     "text": [
      "\r\n",
      "Training:  19%|████████▉                                      | 48/254 [01:59<08:45,  2.55s/it, loss=0.1443]"
     ]
    },
    {
     "name": "stderr",
     "output_type": "stream",
     "text": [
      "\r\n",
      "Training:  19%|█████████                                      | 49/254 [01:59<08:48,  2.58s/it, loss=0.1443]"
     ]
    },
    {
     "name": "stderr",
     "output_type": "stream",
     "text": [
      "\r\n",
      "Training:  19%|█████████                                      | 49/254 [02:01<08:48,  2.58s/it, loss=0.1805]"
     ]
    },
    {
     "name": "stderr",
     "output_type": "stream",
     "text": [
      "\r\n",
      "Training:  20%|█████████▎                                     | 50/254 [02:01<08:50,  2.60s/it, loss=0.1805]"
     ]
    },
    {
     "name": "stderr",
     "output_type": "stream",
     "text": [
      "\r\n",
      "Training:  20%|█████████▎                                     | 50/254 [02:04<08:50,  2.60s/it, loss=0.1828]"
     ]
    },
    {
     "name": "stderr",
     "output_type": "stream",
     "text": [
      "\r\n",
      "Training:  20%|█████████▍                                     | 51/254 [02:04<08:51,  2.62s/it, loss=0.1828]"
     ]
    },
    {
     "name": "stderr",
     "output_type": "stream",
     "text": [
      "\r\n",
      "Training:  20%|█████████▍                                     | 51/254 [02:07<08:51,  2.62s/it, loss=0.1281]"
     ]
    },
    {
     "name": "stderr",
     "output_type": "stream",
     "text": [
      "\r\n",
      "Training:  20%|█████████▌                                     | 52/254 [02:07<08:51,  2.63s/it, loss=0.1281]"
     ]
    },
    {
     "name": "stderr",
     "output_type": "stream",
     "text": [
      "\r\n",
      "Training:  20%|█████████▌                                     | 52/254 [02:09<08:51,  2.63s/it, loss=0.0873]"
     ]
    },
    {
     "name": "stderr",
     "output_type": "stream",
     "text": [
      "\r\n",
      "Training:  21%|█████████▊                                     | 53/254 [02:09<08:49,  2.63s/it, loss=0.0873]"
     ]
    },
    {
     "name": "stderr",
     "output_type": "stream",
     "text": [
      "\r\n",
      "Training:  21%|█████████▊                                     | 53/254 [02:12<08:49,  2.63s/it, loss=0.1604]"
     ]
    },
    {
     "name": "stderr",
     "output_type": "stream",
     "text": [
      "\r\n",
      "Training:  21%|█████████▉                                     | 54/254 [02:12<08:48,  2.64s/it, loss=0.1604]"
     ]
    },
    {
     "name": "stderr",
     "output_type": "stream",
     "text": [
      "\r\n",
      "Training:  21%|█████████▉                                     | 54/254 [02:15<08:48,  2.64s/it, loss=0.2037]"
     ]
    },
    {
     "name": "stderr",
     "output_type": "stream",
     "text": [
      "\r\n",
      "Training:  22%|██████████▏                                    | 55/254 [02:15<08:45,  2.64s/it, loss=0.2037]"
     ]
    },
    {
     "name": "stderr",
     "output_type": "stream",
     "text": [
      "\r\n",
      "Training:  22%|██████████▏                                    | 55/254 [02:17<08:45,  2.64s/it, loss=0.0906]"
     ]
    },
    {
     "name": "stderr",
     "output_type": "stream",
     "text": [
      "\r\n",
      "Training:  22%|██████████▎                                    | 56/254 [02:17<08:42,  2.64s/it, loss=0.0906]"
     ]
    },
    {
     "name": "stderr",
     "output_type": "stream",
     "text": [
      "\r\n",
      "Training:  22%|██████████▎                                    | 56/254 [02:19<08:42,  2.64s/it, loss=0.0724]"
     ]
    },
    {
     "name": "stderr",
     "output_type": "stream",
     "text": [
      "\r\n",
      "Training:  22%|██████████▌                                    | 57/254 [02:19<07:28,  2.27s/it, loss=0.0724]"
     ]
    },
    {
     "name": "stderr",
     "output_type": "stream",
     "text": [
      "\r\n",
      "Training:  22%|██████████▌                                    | 57/254 [02:21<07:28,  2.27s/it, loss=0.1503]"
     ]
    },
    {
     "name": "stderr",
     "output_type": "stream",
     "text": [
      "\r\n",
      "Training:  23%|██████████▋                                    | 58/254 [02:21<07:48,  2.39s/it, loss=0.1503]"
     ]
    },
    {
     "name": "stderr",
     "output_type": "stream",
     "text": [
      "\r\n",
      "Training:  23%|██████████▋                                    | 58/254 [02:24<07:48,  2.39s/it, loss=0.0818]"
     ]
    },
    {
     "name": "stderr",
     "output_type": "stream",
     "text": [
      "\r\n",
      "Training:  23%|██████████▉                                    | 59/254 [02:24<08:00,  2.47s/it, loss=0.0818]"
     ]
    },
    {
     "name": "stderr",
     "output_type": "stream",
     "text": [
      "\r\n",
      "Training:  23%|██████████▉                                    | 59/254 [02:27<08:00,  2.47s/it, loss=0.2118]"
     ]
    },
    {
     "name": "stderr",
     "output_type": "stream",
     "text": [
      "\r\n",
      "Training:  24%|███████████                                    | 60/254 [02:27<08:08,  2.52s/it, loss=0.2118]"
     ]
    },
    {
     "name": "stderr",
     "output_type": "stream",
     "text": [
      "\r\n",
      "Training:  24%|███████████                                    | 60/254 [02:29<08:08,  2.52s/it, loss=0.0716]"
     ]
    },
    {
     "name": "stderr",
     "output_type": "stream",
     "text": [
      "\r\n",
      "Training:  24%|███████████▎                                   | 61/254 [02:29<08:12,  2.55s/it, loss=0.0716]"
     ]
    },
    {
     "name": "stderr",
     "output_type": "stream",
     "text": [
      "\r\n",
      "Training:  24%|███████████▎                                   | 61/254 [02:32<08:12,  2.55s/it, loss=0.1484]"
     ]
    },
    {
     "name": "stderr",
     "output_type": "stream",
     "text": [
      "\r\n",
      "Training:  24%|███████████▍                                   | 62/254 [02:32<08:16,  2.59s/it, loss=0.1484]"
     ]
    },
    {
     "name": "stderr",
     "output_type": "stream",
     "text": [
      "\r\n",
      "Training:  24%|███████████▍                                   | 62/254 [02:34<08:16,  2.59s/it, loss=0.1133]"
     ]
    },
    {
     "name": "stderr",
     "output_type": "stream",
     "text": [
      "\r\n",
      "Training:  25%|███████████▋                                   | 63/254 [02:34<08:18,  2.61s/it, loss=0.1133]"
     ]
    },
    {
     "name": "stderr",
     "output_type": "stream",
     "text": [
      "\r\n",
      "Training:  25%|███████████▋                                   | 63/254 [02:37<08:18,  2.61s/it, loss=0.0796]"
     ]
    },
    {
     "name": "stderr",
     "output_type": "stream",
     "text": [
      "\r\n",
      "Training:  25%|███████████▊                                   | 64/254 [02:37<08:17,  2.62s/it, loss=0.0796]"
     ]
    },
    {
     "name": "stderr",
     "output_type": "stream",
     "text": [
      "\r\n",
      "Training:  25%|███████████▊                                   | 64/254 [02:40<08:17,  2.62s/it, loss=0.1025]"
     ]
    },
    {
     "name": "stderr",
     "output_type": "stream",
     "text": [
      "\r\n",
      "Training:  26%|████████████                                   | 65/254 [02:40<08:16,  2.63s/it, loss=0.1025]"
     ]
    },
    {
     "name": "stderr",
     "output_type": "stream",
     "text": [
      "\r\n",
      "Training:  26%|████████████                                   | 65/254 [02:42<08:16,  2.63s/it, loss=0.0832]"
     ]
    },
    {
     "name": "stderr",
     "output_type": "stream",
     "text": [
      "\r\n",
      "Training:  26%|████████████▏                                  | 66/254 [02:42<08:14,  2.63s/it, loss=0.0832]"
     ]
    },
    {
     "name": "stderr",
     "output_type": "stream",
     "text": [
      "\r\n",
      "Training:  26%|████████████▏                                  | 66/254 [02:45<08:14,  2.63s/it, loss=0.2636]"
     ]
    },
    {
     "name": "stderr",
     "output_type": "stream",
     "text": [
      "\r\n",
      "Training:  26%|████████████▍                                  | 67/254 [02:45<08:12,  2.63s/it, loss=0.2636]"
     ]
    },
    {
     "name": "stderr",
     "output_type": "stream",
     "text": [
      "\r\n",
      "Training:  26%|████████████▍                                  | 67/254 [02:48<08:12,  2.63s/it, loss=0.0376]"
     ]
    },
    {
     "name": "stderr",
     "output_type": "stream",
     "text": [
      "\r\n",
      "Training:  27%|████████████▌                                  | 68/254 [02:48<08:09,  2.63s/it, loss=0.0376]"
     ]
    },
    {
     "name": "stderr",
     "output_type": "stream",
     "text": [
      "\r\n",
      "Training:  27%|████████████▌                                  | 68/254 [02:50<08:09,  2.63s/it, loss=0.0823]"
     ]
    },
    {
     "name": "stderr",
     "output_type": "stream",
     "text": [
      "\r\n",
      "Training:  27%|████████████▊                                  | 69/254 [02:50<08:07,  2.64s/it, loss=0.0823]"
     ]
    },
    {
     "name": "stderr",
     "output_type": "stream",
     "text": [
      "\r\n",
      "Training:  27%|████████████▊                                  | 69/254 [02:52<08:07,  2.64s/it, loss=0.0305]"
     ]
    },
    {
     "name": "stderr",
     "output_type": "stream",
     "text": [
      "\r\n",
      "Training:  28%|████████████▉                                  | 70/254 [02:52<06:56,  2.26s/it, loss=0.0305]"
     ]
    },
    {
     "name": "stderr",
     "output_type": "stream",
     "text": [
      "\r\n",
      "Training:  28%|████████████▉                                  | 70/254 [02:54<06:56,  2.26s/it, loss=0.0715]"
     ]
    },
    {
     "name": "stderr",
     "output_type": "stream",
     "text": [
      "\r\n",
      "Training:  28%|█████████████▏                                 | 71/254 [02:54<07:13,  2.37s/it, loss=0.0715]"
     ]
    },
    {
     "name": "stderr",
     "output_type": "stream",
     "text": [
      "\r\n",
      "Training:  28%|█████████████▏                                 | 71/254 [02:57<07:13,  2.37s/it, loss=0.0327]"
     ]
    },
    {
     "name": "stderr",
     "output_type": "stream",
     "text": [
      "\r\n",
      "Training:  28%|█████████████▎                                 | 72/254 [02:57<07:25,  2.45s/it, loss=0.0327]"
     ]
    },
    {
     "name": "stderr",
     "output_type": "stream",
     "text": [
      "\r\n",
      "Training:  28%|█████████████▎                                 | 72/254 [03:00<07:25,  2.45s/it, loss=0.0982]"
     ]
    },
    {
     "name": "stderr",
     "output_type": "stream",
     "text": [
      "\r\n",
      "Training:  29%|█████████████▌                                 | 73/254 [03:00<07:33,  2.51s/it, loss=0.0982]"
     ]
    },
    {
     "name": "stderr",
     "output_type": "stream",
     "text": [
      "\r\n",
      "Training:  29%|█████████████▌                                 | 73/254 [03:02<07:33,  2.51s/it, loss=0.1119]"
     ]
    },
    {
     "name": "stderr",
     "output_type": "stream",
     "text": [
      "\r\n",
      "Training:  29%|█████████████▋                                 | 74/254 [03:02<07:38,  2.54s/it, loss=0.1119]"
     ]
    },
    {
     "name": "stderr",
     "output_type": "stream",
     "text": [
      "\r\n",
      "Training:  29%|█████████████▋                                 | 74/254 [03:05<07:38,  2.54s/it, loss=0.0364]"
     ]
    },
    {
     "name": "stderr",
     "output_type": "stream",
     "text": [
      "\r\n",
      "Training:  30%|█████████████▉                                 | 75/254 [03:05<07:41,  2.58s/it, loss=0.0364]"
     ]
    },
    {
     "name": "stderr",
     "output_type": "stream",
     "text": [
      "\r\n",
      "Training:  30%|█████████████▉                                 | 75/254 [03:08<07:41,  2.58s/it, loss=0.2113]"
     ]
    },
    {
     "name": "stderr",
     "output_type": "stream",
     "text": [
      "\r\n",
      "Training:  30%|██████████████                                 | 76/254 [03:08<07:42,  2.60s/it, loss=0.2113]"
     ]
    },
    {
     "name": "stderr",
     "output_type": "stream",
     "text": [
      "\r\n",
      "Training:  30%|██████████████                                 | 76/254 [03:10<07:42,  2.60s/it, loss=0.0395]"
     ]
    },
    {
     "name": "stderr",
     "output_type": "stream",
     "text": [
      "\r\n",
      "Training:  30%|██████████████▏                                | 77/254 [03:10<07:46,  2.63s/it, loss=0.0395]"
     ]
    },
    {
     "name": "stderr",
     "output_type": "stream",
     "text": [
      "\r\n",
      "Training:  30%|██████████████▏                                | 77/254 [03:13<07:46,  2.63s/it, loss=0.0829]"
     ]
    },
    {
     "name": "stderr",
     "output_type": "stream",
     "text": [
      "\r\n",
      "Training:  31%|██████████████▍                                | 78/254 [03:13<07:47,  2.66s/it, loss=0.0829]"
     ]
    },
    {
     "name": "stderr",
     "output_type": "stream",
     "text": [
      "\r\n",
      "Training:  31%|██████████████▍                                | 78/254 [03:16<07:47,  2.66s/it, loss=0.0552]"
     ]
    },
    {
     "name": "stderr",
     "output_type": "stream",
     "text": [
      "\r\n",
      "Training:  31%|██████████████▌                                | 79/254 [03:16<07:43,  2.65s/it, loss=0.0552]"
     ]
    },
    {
     "name": "stderr",
     "output_type": "stream",
     "text": [
      "\r\n",
      "Training:  31%|██████████████▌                                | 79/254 [03:18<07:43,  2.65s/it, loss=0.1058]"
     ]
    },
    {
     "name": "stderr",
     "output_type": "stream",
     "text": [
      "\r\n",
      "Training:  31%|██████████████▊                                | 80/254 [03:18<07:40,  2.65s/it, loss=0.1058]"
     ]
    },
    {
     "name": "stderr",
     "output_type": "stream",
     "text": [
      "\r\n",
      "Training:  31%|██████████████▊                                | 80/254 [03:21<07:40,  2.65s/it, loss=0.0776]"
     ]
    },
    {
     "name": "stderr",
     "output_type": "stream",
     "text": [
      "\r\n",
      "Training:  32%|██████████████▉                                | 81/254 [03:21<07:37,  2.64s/it, loss=0.0776]"
     ]
    },
    {
     "name": "stderr",
     "output_type": "stream",
     "text": [
      "\r\n",
      "Training:  32%|██████████████▉                                | 81/254 [03:22<07:37,  2.64s/it, loss=0.0814]"
     ]
    },
    {
     "name": "stderr",
     "output_type": "stream",
     "text": [
      "\r\n",
      "Training:  32%|███████████████▏                               | 82/254 [03:22<06:29,  2.27s/it, loss=0.0814]"
     ]
    },
    {
     "name": "stderr",
     "output_type": "stream",
     "text": [
      "\r\n",
      "Training:  32%|███████████████▏                               | 82/254 [03:25<06:29,  2.27s/it, loss=0.1668]"
     ]
    },
    {
     "name": "stderr",
     "output_type": "stream",
     "text": [
      "\r\n",
      "Training:  33%|███████████████▎                               | 83/254 [03:25<06:45,  2.37s/it, loss=0.1668]"
     ]
    },
    {
     "name": "stderr",
     "output_type": "stream",
     "text": [
      "\r\n",
      "Training:  33%|███████████████▎                               | 83/254 [03:27<06:45,  2.37s/it, loss=0.1030]"
     ]
    },
    {
     "name": "stderr",
     "output_type": "stream",
     "text": [
      "\r\n",
      "Training:  33%|███████████████▌                               | 84/254 [03:27<06:55,  2.44s/it, loss=0.1030]"
     ]
    },
    {
     "name": "stderr",
     "output_type": "stream",
     "text": [
      "\r\n",
      "Training:  33%|███████████████▌                               | 84/254 [03:30<06:55,  2.44s/it, loss=0.1219]"
     ]
    },
    {
     "name": "stderr",
     "output_type": "stream",
     "text": [
      "\r\n",
      "Training:  33%|███████████████▋                               | 85/254 [03:30<07:03,  2.51s/it, loss=0.1219]"
     ]
    },
    {
     "name": "stderr",
     "output_type": "stream",
     "text": [
      "\r\n",
      "Training:  33%|███████████████▋                               | 85/254 [03:33<07:03,  2.51s/it, loss=0.0736]"
     ]
    },
    {
     "name": "stderr",
     "output_type": "stream",
     "text": [
      "\r\n",
      "Training:  34%|███████████████▉                               | 86/254 [03:33<07:07,  2.55s/it, loss=0.0736]"
     ]
    },
    {
     "name": "stderr",
     "output_type": "stream",
     "text": [
      "\r\n",
      "Training:  34%|███████████████▉                               | 86/254 [03:35<07:07,  2.55s/it, loss=0.1348]"
     ]
    },
    {
     "name": "stderr",
     "output_type": "stream",
     "text": [
      "\r\n",
      "Training:  34%|████████████████                               | 87/254 [03:35<07:09,  2.57s/it, loss=0.1348]"
     ]
    },
    {
     "name": "stderr",
     "output_type": "stream",
     "text": [
      "\r\n",
      "Training:  34%|████████████████                               | 87/254 [03:38<07:09,  2.57s/it, loss=0.0914]"
     ]
    },
    {
     "name": "stderr",
     "output_type": "stream",
     "text": [
      "\r\n",
      "Training:  35%|████████████████▎                              | 88/254 [03:38<07:11,  2.60s/it, loss=0.0914]"
     ]
    },
    {
     "name": "stderr",
     "output_type": "stream",
     "text": [
      "\r\n",
      "Training:  35%|████████████████▎                              | 88/254 [03:41<07:11,  2.60s/it, loss=0.0586]"
     ]
    },
    {
     "name": "stderr",
     "output_type": "stream",
     "text": [
      "\r\n",
      "Training:  35%|████████████████▍                              | 89/254 [03:41<07:10,  2.61s/it, loss=0.0586]"
     ]
    },
    {
     "name": "stderr",
     "output_type": "stream",
     "text": [
      "\r\n",
      "Training:  35%|████████████████▍                              | 89/254 [03:43<07:10,  2.61s/it, loss=0.0548]"
     ]
    },
    {
     "name": "stderr",
     "output_type": "stream",
     "text": [
      "\r\n",
      "Training:  35%|████████████████▋                              | 90/254 [03:43<07:10,  2.62s/it, loss=0.0548]"
     ]
    },
    {
     "name": "stderr",
     "output_type": "stream",
     "text": [
      "\r\n",
      "Training:  35%|████████████████▋                              | 90/254 [03:46<07:10,  2.62s/it, loss=0.0398]"
     ]
    },
    {
     "name": "stderr",
     "output_type": "stream",
     "text": [
      "\r\n",
      "Training:  36%|████████████████▊                              | 91/254 [03:46<07:08,  2.63s/it, loss=0.0398]"
     ]
    },
    {
     "name": "stderr",
     "output_type": "stream",
     "text": [
      "\r\n",
      "Training:  36%|████████████████▊                              | 91/254 [03:49<07:08,  2.63s/it, loss=0.0893]"
     ]
    },
    {
     "name": "stderr",
     "output_type": "stream",
     "text": [
      "\r\n",
      "Training:  36%|█████████████████                              | 92/254 [03:49<07:07,  2.64s/it, loss=0.0893]"
     ]
    },
    {
     "name": "stderr",
     "output_type": "stream",
     "text": [
      "\r\n",
      "Training:  36%|█████████████████                              | 92/254 [03:51<07:07,  2.64s/it, loss=0.1841]"
     ]
    },
    {
     "name": "stderr",
     "output_type": "stream",
     "text": [
      "\r\n",
      "Training:  37%|█████████████████▏                             | 93/254 [03:51<07:04,  2.64s/it, loss=0.1841]"
     ]
    },
    {
     "name": "stderr",
     "output_type": "stream",
     "text": [
      "\r\n",
      "Training:  37%|█████████████████▏                             | 93/254 [03:53<07:04,  2.64s/it, loss=0.1857]"
     ]
    },
    {
     "name": "stderr",
     "output_type": "stream",
     "text": [
      "\r\n",
      "Training:  37%|█████████████████▍                             | 94/254 [03:53<06:04,  2.28s/it, loss=0.1857]"
     ]
    },
    {
     "name": "stderr",
     "output_type": "stream",
     "text": [
      "\r\n",
      "Training:  37%|█████████████████▍                             | 94/254 [03:55<06:04,  2.28s/it, loss=0.0821]"
     ]
    },
    {
     "name": "stderr",
     "output_type": "stream",
     "text": [
      "\r\n",
      "Training:  37%|█████████████████▌                             | 95/254 [03:55<06:19,  2.39s/it, loss=0.0821]"
     ]
    },
    {
     "name": "stderr",
     "output_type": "stream",
     "text": [
      "\r\n",
      "Training:  37%|█████████████████▌                             | 95/254 [03:58<06:19,  2.39s/it, loss=0.0932]"
     ]
    },
    {
     "name": "stderr",
     "output_type": "stream",
     "text": [
      "\r\n",
      "Training:  38%|█████████████████▊                             | 96/254 [03:58<06:28,  2.46s/it, loss=0.0932]"
     ]
    },
    {
     "name": "stderr",
     "output_type": "stream",
     "text": [
      "\r\n",
      "Training:  38%|█████████████████▊                             | 96/254 [04:01<06:28,  2.46s/it, loss=0.0859]"
     ]
    },
    {
     "name": "stderr",
     "output_type": "stream",
     "text": [
      "\r\n",
      "Training:  38%|█████████████████▉                             | 97/254 [04:01<06:33,  2.51s/it, loss=0.0859]"
     ]
    },
    {
     "name": "stderr",
     "output_type": "stream",
     "text": [
      "\r\n",
      "Training:  38%|█████████████████▉                             | 97/254 [04:03<06:33,  2.51s/it, loss=0.0777]"
     ]
    },
    {
     "name": "stderr",
     "output_type": "stream",
     "text": [
      "\r\n",
      "Training:  39%|██████████████████▏                            | 98/254 [04:03<06:37,  2.55s/it, loss=0.0777]"
     ]
    },
    {
     "name": "stderr",
     "output_type": "stream",
     "text": [
      "\r\n",
      "Training:  39%|██████████████████▏                            | 98/254 [04:06<06:37,  2.55s/it, loss=0.1293]"
     ]
    },
    {
     "name": "stderr",
     "output_type": "stream",
     "text": [
      "\r\n",
      "Training:  39%|██████████████████▎                            | 99/254 [04:06<06:37,  2.57s/it, loss=0.1293]"
     ]
    },
    {
     "name": "stderr",
     "output_type": "stream",
     "text": [
      "\r\n",
      "Training:  39%|██████████████████▎                            | 99/254 [04:09<06:37,  2.57s/it, loss=0.1966]"
     ]
    },
    {
     "name": "stderr",
     "output_type": "stream",
     "text": [
      "\r\n",
      "Training:  39%|██████████████████                            | 100/254 [04:09<06:39,  2.59s/it, loss=0.1966]"
     ]
    },
    {
     "name": "stderr",
     "output_type": "stream",
     "text": [
      "\r\n",
      "Training:  39%|██████████████████                            | 100/254 [04:11<06:39,  2.59s/it, loss=0.0858]"
     ]
    },
    {
     "name": "stderr",
     "output_type": "stream",
     "text": [
      "\r\n",
      "Training:  40%|██████████████████▎                           | 101/254 [04:11<06:38,  2.60s/it, loss=0.0858]"
     ]
    },
    {
     "name": "stderr",
     "output_type": "stream",
     "text": [
      "\r\n",
      "Training:  40%|██████████████████▎                           | 101/254 [04:14<06:38,  2.60s/it, loss=0.0845]"
     ]
    },
    {
     "name": "stderr",
     "output_type": "stream",
     "text": [
      "\r\n",
      "Training:  40%|██████████████████▍                           | 102/254 [04:14<06:38,  2.62s/it, loss=0.0845]"
     ]
    },
    {
     "name": "stderr",
     "output_type": "stream",
     "text": [
      "\r\n",
      "Training:  40%|██████████████████▍                           | 102/254 [04:16<06:38,  2.62s/it, loss=0.0570]"
     ]
    },
    {
     "name": "stderr",
     "output_type": "stream",
     "text": [
      "\r\n",
      "Training:  41%|██████████████████▋                           | 103/254 [04:16<06:35,  2.62s/it, loss=0.0570]"
     ]
    },
    {
     "name": "stderr",
     "output_type": "stream",
     "text": [
      "\r\n",
      "Training:  41%|██████████████████▋                           | 103/254 [04:19<06:35,  2.62s/it, loss=0.0692]"
     ]
    },
    {
     "name": "stderr",
     "output_type": "stream",
     "text": [
      "\r\n",
      "Training:  41%|██████████████████▊                           | 104/254 [04:19<06:33,  2.62s/it, loss=0.0692]"
     ]
    },
    {
     "name": "stderr",
     "output_type": "stream",
     "text": [
      "\r\n",
      "Training:  41%|██████████████████▊                           | 104/254 [04:22<06:33,  2.62s/it, loss=0.0827]"
     ]
    },
    {
     "name": "stderr",
     "output_type": "stream",
     "text": [
      "\r\n",
      "Training:  41%|███████████████████                           | 105/254 [04:22<06:31,  2.63s/it, loss=0.0827]"
     ]
    },
    {
     "name": "stderr",
     "output_type": "stream",
     "text": [
      "\r\n",
      "Training:  41%|███████████████████                           | 105/254 [04:23<06:31,  2.63s/it, loss=0.0680]"
     ]
    },
    {
     "name": "stderr",
     "output_type": "stream",
     "text": [
      "\r\n",
      "Training:  42%|███████████████████▏                          | 106/254 [04:23<05:37,  2.28s/it, loss=0.0680]"
     ]
    },
    {
     "name": "stderr",
     "output_type": "stream",
     "text": [
      "\r\n",
      "Training:  42%|███████████████████▏                          | 106/254 [04:26<05:37,  2.28s/it, loss=0.0510]"
     ]
    },
    {
     "name": "stderr",
     "output_type": "stream",
     "text": [
      "\r\n",
      "Training:  42%|███████████████████▍                          | 107/254 [04:26<05:50,  2.39s/it, loss=0.0510]"
     ]
    },
    {
     "name": "stderr",
     "output_type": "stream",
     "text": [
      "\r\n",
      "Training:  42%|███████████████████▍                          | 107/254 [04:28<05:50,  2.39s/it, loss=0.0130]"
     ]
    },
    {
     "name": "stderr",
     "output_type": "stream",
     "text": [
      "\r\n",
      "Training:  43%|███████████████████▌                          | 108/254 [04:28<05:59,  2.46s/it, loss=0.0130]"
     ]
    },
    {
     "name": "stderr",
     "output_type": "stream",
     "text": [
      "\r\n",
      "Training:  43%|███████████████████▌                          | 108/254 [04:31<05:59,  2.46s/it, loss=0.0897]"
     ]
    },
    {
     "name": "stderr",
     "output_type": "stream",
     "text": [
      "\r\n",
      "Training:  43%|███████████████████▋                          | 109/254 [04:31<06:04,  2.51s/it, loss=0.0897]"
     ]
    },
    {
     "name": "stderr",
     "output_type": "stream",
     "text": [
      "\r\n",
      "Training:  43%|███████████████████▋                          | 109/254 [04:34<06:04,  2.51s/it, loss=0.0592]"
     ]
    },
    {
     "name": "stderr",
     "output_type": "stream",
     "text": [
      "\r\n",
      "Training:  43%|███████████████████▉                          | 110/254 [04:34<06:07,  2.55s/it, loss=0.0592]"
     ]
    },
    {
     "name": "stderr",
     "output_type": "stream",
     "text": [
      "\r\n",
      "Training:  43%|███████████████████▉                          | 110/254 [04:36<06:07,  2.55s/it, loss=0.0718]"
     ]
    },
    {
     "name": "stderr",
     "output_type": "stream",
     "text": [
      "\r\n",
      "Training:  44%|████████████████████                          | 111/254 [04:36<06:08,  2.58s/it, loss=0.0718]"
     ]
    },
    {
     "name": "stderr",
     "output_type": "stream",
     "text": [
      "\r\n",
      "Training:  44%|████████████████████                          | 111/254 [04:39<06:08,  2.58s/it, loss=0.0610]"
     ]
    },
    {
     "name": "stderr",
     "output_type": "stream",
     "text": [
      "\r\n",
      "Training:  44%|████████████████████▎                         | 112/254 [04:39<06:09,  2.60s/it, loss=0.0610]"
     ]
    },
    {
     "name": "stderr",
     "output_type": "stream",
     "text": [
      "\r\n",
      "Training:  44%|████████████████████▎                         | 112/254 [04:42<06:09,  2.60s/it, loss=0.1329]"
     ]
    },
    {
     "name": "stderr",
     "output_type": "stream",
     "text": [
      "\r\n",
      "Training:  44%|████████████████████▍                         | 113/254 [04:42<06:07,  2.61s/it, loss=0.1329]"
     ]
    },
    {
     "name": "stderr",
     "output_type": "stream",
     "text": [
      "\r\n",
      "Training:  44%|████████████████████▍                         | 113/254 [04:44<06:07,  2.61s/it, loss=0.0863]"
     ]
    },
    {
     "name": "stderr",
     "output_type": "stream",
     "text": [
      "\r\n",
      "Training:  45%|████████████████████▋                         | 114/254 [04:44<06:08,  2.63s/it, loss=0.0863]"
     ]
    },
    {
     "name": "stderr",
     "output_type": "stream",
     "text": [
      "\r\n",
      "Training:  45%|████████████████████▋                         | 114/254 [04:47<06:08,  2.63s/it, loss=0.0081]"
     ]
    },
    {
     "name": "stderr",
     "output_type": "stream",
     "text": [
      "\r\n",
      "Training:  45%|████████████████████▊                         | 115/254 [04:47<06:06,  2.64s/it, loss=0.0081]"
     ]
    },
    {
     "name": "stderr",
     "output_type": "stream",
     "text": [
      "\r\n",
      "Training:  45%|████████████████████▊                         | 115/254 [04:50<06:06,  2.64s/it, loss=0.2145]"
     ]
    },
    {
     "name": "stderr",
     "output_type": "stream",
     "text": [
      "\r\n",
      "Training:  46%|█████████████████████                         | 116/254 [04:50<06:03,  2.64s/it, loss=0.2145]"
     ]
    },
    {
     "name": "stderr",
     "output_type": "stream",
     "text": [
      "\r\n",
      "Training:  46%|█████████████████████                         | 116/254 [04:52<06:03,  2.64s/it, loss=0.2010]"
     ]
    },
    {
     "name": "stderr",
     "output_type": "stream",
     "text": [
      "\r\n",
      "Training:  46%|█████████████████████▏                        | 117/254 [04:52<06:01,  2.64s/it, loss=0.2010]"
     ]
    },
    {
     "name": "stderr",
     "output_type": "stream",
     "text": [
      "\r\n",
      "Training:  46%|█████████████████████▏                        | 117/254 [04:54<06:01,  2.64s/it, loss=0.1177]"
     ]
    },
    {
     "name": "stderr",
     "output_type": "stream",
     "text": [
      "\r\n",
      "Training:  46%|█████████████████████▎                        | 118/254 [04:54<05:09,  2.27s/it, loss=0.1177]"
     ]
    },
    {
     "name": "stderr",
     "output_type": "stream",
     "text": [
      "\r\n",
      "Training:  46%|█████████████████████▎                        | 118/254 [04:56<05:09,  2.27s/it, loss=0.1714]"
     ]
    },
    {
     "name": "stderr",
     "output_type": "stream",
     "text": [
      "\r\n",
      "Training:  47%|█████████████████████▌                        | 119/254 [04:56<05:22,  2.39s/it, loss=0.1714]"
     ]
    },
    {
     "name": "stderr",
     "output_type": "stream",
     "text": [
      "\r\n",
      "Training:  47%|█████████████████████▌                        | 119/254 [04:59<05:22,  2.39s/it, loss=0.1119]"
     ]
    },
    {
     "name": "stderr",
     "output_type": "stream",
     "text": [
      "\r\n",
      "Training:  47%|█████████████████████▋                        | 120/254 [04:59<05:28,  2.45s/it, loss=0.1119]"
     ]
    },
    {
     "name": "stderr",
     "output_type": "stream",
     "text": [
      "\r\n",
      "Training:  47%|█████████████████████▋                        | 120/254 [05:02<05:28,  2.45s/it, loss=0.1404]"
     ]
    },
    {
     "name": "stderr",
     "output_type": "stream",
     "text": [
      "\r\n",
      "Training:  48%|█████████████████████▉                        | 121/254 [05:02<05:34,  2.51s/it, loss=0.1404]"
     ]
    },
    {
     "name": "stderr",
     "output_type": "stream",
     "text": [
      "\r\n",
      "Training:  48%|█████████████████████▉                        | 121/254 [05:04<05:34,  2.51s/it, loss=0.0175]"
     ]
    },
    {
     "name": "stderr",
     "output_type": "stream",
     "text": [
      "\r\n",
      "Training:  48%|██████████████████████                        | 122/254 [05:04<05:36,  2.55s/it, loss=0.0175]"
     ]
    },
    {
     "name": "stderr",
     "output_type": "stream",
     "text": [
      "\r\n",
      "Training:  48%|██████████████████████                        | 122/254 [05:07<05:36,  2.55s/it, loss=0.0299]"
     ]
    },
    {
     "name": "stderr",
     "output_type": "stream",
     "text": [
      "\r\n",
      "Training:  48%|██████████████████████▎                       | 123/254 [05:07<05:38,  2.58s/it, loss=0.0299]"
     ]
    },
    {
     "name": "stderr",
     "output_type": "stream",
     "text": [
      "\r\n",
      "Training:  48%|██████████████████████▎                       | 123/254 [05:10<05:38,  2.58s/it, loss=0.0246]"
     ]
    },
    {
     "name": "stderr",
     "output_type": "stream",
     "text": [
      "\r\n",
      "Training:  49%|██████████████████████▍                       | 124/254 [05:10<05:39,  2.61s/it, loss=0.0246]"
     ]
    },
    {
     "name": "stderr",
     "output_type": "stream",
     "text": [
      "\r\n",
      "Training:  49%|██████████████████████▍                       | 124/254 [05:12<05:39,  2.61s/it, loss=0.1005]"
     ]
    },
    {
     "name": "stderr",
     "output_type": "stream",
     "text": [
      "\r\n",
      "Training:  49%|██████████████████████▋                       | 125/254 [05:12<05:37,  2.62s/it, loss=0.1005]"
     ]
    },
    {
     "name": "stderr",
     "output_type": "stream",
     "text": [
      "\r\n",
      "Training:  49%|██████████████████████▋                       | 125/254 [05:15<05:37,  2.62s/it, loss=0.0891]"
     ]
    },
    {
     "name": "stderr",
     "output_type": "stream",
     "text": [
      "\r\n",
      "Training:  50%|██████████████████████▊                       | 126/254 [05:15<05:36,  2.63s/it, loss=0.0891]"
     ]
    },
    {
     "name": "stderr",
     "output_type": "stream",
     "text": [
      "\r\n",
      "Training:  50%|██████████████████████▊                       | 126/254 [05:18<05:36,  2.63s/it, loss=0.1098]"
     ]
    },
    {
     "name": "stderr",
     "output_type": "stream",
     "text": [
      "\r\n",
      "Training:  50%|███████████████████████                       | 127/254 [05:18<05:34,  2.63s/it, loss=0.1098]"
     ]
    },
    {
     "name": "stderr",
     "output_type": "stream",
     "text": [
      "\r\n",
      "Training:  50%|███████████████████████                       | 127/254 [05:20<05:34,  2.63s/it, loss=0.0662]"
     ]
    },
    {
     "name": "stderr",
     "output_type": "stream",
     "text": [
      "\r\n",
      "Training:  50%|███████████████████████▏                      | 128/254 [05:20<05:31,  2.63s/it, loss=0.0662]"
     ]
    },
    {
     "name": "stderr",
     "output_type": "stream",
     "text": [
      "\r\n",
      "Training:  50%|███████████████████████▏                      | 128/254 [05:23<05:31,  2.63s/it, loss=0.0865]"
     ]
    },
    {
     "name": "stderr",
     "output_type": "stream",
     "text": [
      "\r\n",
      "Training:  51%|███████████████████████▎                      | 129/254 [05:23<05:29,  2.63s/it, loss=0.0865]"
     ]
    },
    {
     "name": "stderr",
     "output_type": "stream",
     "text": [
      "\r\n",
      "Training:  51%|███████████████████████▎                      | 129/254 [05:25<05:29,  2.63s/it, loss=0.0683]"
     ]
    },
    {
     "name": "stderr",
     "output_type": "stream",
     "text": [
      "\r\n",
      "Training:  51%|███████████████████████▌                      | 130/254 [05:25<05:26,  2.64s/it, loss=0.0683]"
     ]
    },
    {
     "name": "stderr",
     "output_type": "stream",
     "text": [
      "\r\n",
      "Training:  51%|███████████████████████▌                      | 130/254 [05:27<05:26,  2.64s/it, loss=0.0320]"
     ]
    },
    {
     "name": "stderr",
     "output_type": "stream",
     "text": [
      "\r\n",
      "Training:  52%|███████████████████████▋                      | 131/254 [05:27<04:38,  2.26s/it, loss=0.0320]"
     ]
    },
    {
     "name": "stderr",
     "output_type": "stream",
     "text": [
      "\r\n",
      "Training:  52%|███████████████████████▋                      | 131/254 [05:29<04:38,  2.26s/it, loss=0.0585]"
     ]
    },
    {
     "name": "stderr",
     "output_type": "stream",
     "text": [
      "\r\n",
      "Training:  52%|███████████████████████▉                      | 132/254 [05:29<04:48,  2.37s/it, loss=0.0585]"
     ]
    },
    {
     "name": "stderr",
     "output_type": "stream",
     "text": [
      "\r\n",
      "Training:  52%|███████████████████████▉                      | 132/254 [05:32<04:48,  2.37s/it, loss=0.1056]"
     ]
    },
    {
     "name": "stderr",
     "output_type": "stream",
     "text": [
      "\r\n",
      "Training:  52%|████████████████████████                      | 133/254 [05:32<04:55,  2.44s/it, loss=0.1056]"
     ]
    },
    {
     "name": "stderr",
     "output_type": "stream",
     "text": [
      "\r\n",
      "Training:  52%|████████████████████████                      | 133/254 [05:35<04:55,  2.44s/it, loss=0.1336]"
     ]
    },
    {
     "name": "stderr",
     "output_type": "stream",
     "text": [
      "\r\n",
      "Training:  53%|████████████████████████▎                     | 134/254 [05:35<05:00,  2.51s/it, loss=0.1336]"
     ]
    },
    {
     "name": "stderr",
     "output_type": "stream",
     "text": [
      "\r\n",
      "Training:  53%|████████████████████████▎                     | 134/254 [05:37<05:00,  2.51s/it, loss=0.0643]"
     ]
    },
    {
     "name": "stderr",
     "output_type": "stream",
     "text": [
      "\r\n",
      "Training:  53%|████████████████████████▍                     | 135/254 [05:37<05:04,  2.56s/it, loss=0.0643]"
     ]
    },
    {
     "name": "stderr",
     "output_type": "stream",
     "text": [
      "\r\n",
      "Training:  53%|████████████████████████▍                     | 135/254 [05:40<05:04,  2.56s/it, loss=0.0753]"
     ]
    },
    {
     "name": "stderr",
     "output_type": "stream",
     "text": [
      "\r\n",
      "Training:  54%|████████████████████████▋                     | 136/254 [05:40<05:05,  2.59s/it, loss=0.0753]"
     ]
    },
    {
     "name": "stderr",
     "output_type": "stream",
     "text": [
      "\r\n",
      "Training:  54%|████████████████████████▋                     | 136/254 [05:43<05:05,  2.59s/it, loss=0.0102]"
     ]
    },
    {
     "name": "stderr",
     "output_type": "stream",
     "text": [
      "\r\n",
      "Training:  54%|████████████████████████▊                     | 137/254 [05:43<05:03,  2.60s/it, loss=0.0102]"
     ]
    },
    {
     "name": "stderr",
     "output_type": "stream",
     "text": [
      "\r\n",
      "Training:  54%|████████████████████████▊                     | 137/254 [05:45<05:03,  2.60s/it, loss=0.0330]"
     ]
    },
    {
     "name": "stderr",
     "output_type": "stream",
     "text": [
      "\r\n",
      "Training:  54%|████████████████████████▉                     | 138/254 [05:45<05:02,  2.61s/it, loss=0.0330]"
     ]
    },
    {
     "name": "stderr",
     "output_type": "stream",
     "text": [
      "\r\n",
      "Training:  54%|████████████████████████▉                     | 138/254 [05:48<05:02,  2.61s/it, loss=0.0668]"
     ]
    },
    {
     "name": "stderr",
     "output_type": "stream",
     "text": [
      "\r\n",
      "Training:  55%|█████████████████████████▏                    | 139/254 [05:48<05:01,  2.62s/it, loss=0.0668]"
     ]
    },
    {
     "name": "stderr",
     "output_type": "stream",
     "text": [
      "\r\n",
      "Training:  55%|█████████████████████████▏                    | 139/254 [05:51<05:01,  2.62s/it, loss=0.0492]"
     ]
    },
    {
     "name": "stderr",
     "output_type": "stream",
     "text": [
      "\r\n",
      "Training:  55%|█████████████████████████▎                    | 140/254 [05:51<04:58,  2.62s/it, loss=0.0492]"
     ]
    },
    {
     "name": "stderr",
     "output_type": "stream",
     "text": [
      "\r\n",
      "Training:  55%|█████████████████████████▎                    | 140/254 [05:53<04:58,  2.62s/it, loss=0.0944]"
     ]
    },
    {
     "name": "stderr",
     "output_type": "stream",
     "text": [
      "\r\n",
      "Training:  56%|█████████████████████████▌                    | 141/254 [05:53<04:57,  2.63s/it, loss=0.0944]"
     ]
    },
    {
     "name": "stderr",
     "output_type": "stream",
     "text": [
      "\r\n",
      "Training:  56%|█████████████████████████▌                    | 141/254 [05:56<04:57,  2.63s/it, loss=0.1445]"
     ]
    },
    {
     "name": "stderr",
     "output_type": "stream",
     "text": [
      "\r\n",
      "Training:  56%|█████████████████████████▋                    | 142/254 [05:56<04:55,  2.64s/it, loss=0.1445]"
     ]
    },
    {
     "name": "stderr",
     "output_type": "stream",
     "text": [
      "\r\n",
      "Training:  56%|█████████████████████████▋                    | 142/254 [05:57<04:55,  2.64s/it, loss=0.0658]"
     ]
    },
    {
     "name": "stderr",
     "output_type": "stream",
     "text": [
      "\r\n",
      "Training:  56%|█████████████████████████▉                    | 143/254 [05:57<04:09,  2.25s/it, loss=0.0658]"
     ]
    },
    {
     "name": "stderr",
     "output_type": "stream",
     "text": [
      "\r\n",
      "Training:  56%|█████████████████████████▉                    | 143/254 [06:00<04:09,  2.25s/it, loss=0.0162]"
     ]
    },
    {
     "name": "stderr",
     "output_type": "stream",
     "text": [
      "\r\n",
      "Training:  57%|██████████████████████████                    | 144/254 [06:00<04:20,  2.36s/it, loss=0.0162]"
     ]
    },
    {
     "name": "stderr",
     "output_type": "stream",
     "text": [
      "\r\n",
      "Training:  57%|██████████████████████████                    | 144/254 [06:02<04:20,  2.36s/it, loss=0.0798]"
     ]
    },
    {
     "name": "stderr",
     "output_type": "stream",
     "text": [
      "\r\n",
      "Training:  57%|██████████████████████████▎                   | 145/254 [06:02<04:26,  2.44s/it, loss=0.0798]"
     ]
    },
    {
     "name": "stderr",
     "output_type": "stream",
     "text": [
      "\r\n",
      "Training:  57%|██████████████████████████▎                   | 145/254 [06:05<04:26,  2.44s/it, loss=0.0730]"
     ]
    },
    {
     "name": "stderr",
     "output_type": "stream",
     "text": [
      "\r\n",
      "Training:  57%|██████████████████████████▍                   | 146/254 [06:05<04:30,  2.50s/it, loss=0.0730]"
     ]
    },
    {
     "name": "stderr",
     "output_type": "stream",
     "text": [
      "\r\n",
      "Training:  57%|██████████████████████████▍                   | 146/254 [06:08<04:30,  2.50s/it, loss=0.0461]"
     ]
    },
    {
     "name": "stderr",
     "output_type": "stream",
     "text": [
      "\r\n",
      "Training:  58%|██████████████████████████▌                   | 147/254 [06:08<04:31,  2.54s/it, loss=0.0461]"
     ]
    },
    {
     "name": "stderr",
     "output_type": "stream",
     "text": [
      "\r\n",
      "Training:  58%|██████████████████████████▌                   | 147/254 [06:10<04:31,  2.54s/it, loss=0.1190]"
     ]
    },
    {
     "name": "stderr",
     "output_type": "stream",
     "text": [
      "\r\n",
      "Training:  58%|██████████████████████████▊                   | 148/254 [06:10<04:31,  2.57s/it, loss=0.1190]"
     ]
    },
    {
     "name": "stderr",
     "output_type": "stream",
     "text": [
      "\r\n",
      "Training:  58%|██████████████████████████▊                   | 148/254 [06:13<04:31,  2.57s/it, loss=0.0588]"
     ]
    },
    {
     "name": "stderr",
     "output_type": "stream",
     "text": [
      "\r\n",
      "Training:  59%|██████████████████████████▉                   | 149/254 [06:13<04:31,  2.58s/it, loss=0.0588]"
     ]
    },
    {
     "name": "stderr",
     "output_type": "stream",
     "text": [
      "\r\n",
      "Training:  59%|██████████████████████████▉                   | 149/254 [06:16<04:31,  2.58s/it, loss=0.0308]"
     ]
    },
    {
     "name": "stderr",
     "output_type": "stream",
     "text": [
      "\r\n",
      "Training:  59%|███████████████████████████▏                  | 150/254 [06:16<04:30,  2.60s/it, loss=0.0308]"
     ]
    },
    {
     "name": "stderr",
     "output_type": "stream",
     "text": [
      "\r\n",
      "Training:  59%|███████████████████████████▏                  | 150/254 [06:18<04:30,  2.60s/it, loss=0.0876]"
     ]
    },
    {
     "name": "stderr",
     "output_type": "stream",
     "text": [
      "\r\n",
      "Training:  59%|███████████████████████████▎                  | 151/254 [06:18<04:28,  2.61s/it, loss=0.0876]"
     ]
    },
    {
     "name": "stderr",
     "output_type": "stream",
     "text": [
      "\r\n",
      "Training:  59%|███████████████████████████▎                  | 151/254 [06:21<04:28,  2.61s/it, loss=0.0557]"
     ]
    },
    {
     "name": "stderr",
     "output_type": "stream",
     "text": [
      "\r\n",
      "Training:  60%|███████████████████████████▌                  | 152/254 [06:21<04:27,  2.62s/it, loss=0.0557]"
     ]
    },
    {
     "name": "stderr",
     "output_type": "stream",
     "text": [
      "\r\n",
      "Training:  60%|███████████████████████████▌                  | 152/254 [06:24<04:27,  2.62s/it, loss=0.0179]"
     ]
    },
    {
     "name": "stderr",
     "output_type": "stream",
     "text": [
      "\r\n",
      "Training:  60%|███████████████████████████▋                  | 153/254 [06:24<04:34,  2.71s/it, loss=0.0179]"
     ]
    },
    {
     "name": "stderr",
     "output_type": "stream",
     "text": [
      "\r\n",
      "Training:  60%|███████████████████████████▋                  | 153/254 [06:27<04:34,  2.71s/it, loss=0.0787]"
     ]
    },
    {
     "name": "stderr",
     "output_type": "stream",
     "text": [
      "\r\n",
      "Training:  61%|███████████████████████████▉                  | 154/254 [06:27<04:31,  2.72s/it, loss=0.0787]"
     ]
    },
    {
     "name": "stderr",
     "output_type": "stream",
     "text": [
      "\r\n",
      "Training:  61%|███████████████████████████▉                  | 154/254 [06:28<04:31,  2.72s/it, loss=0.0312]"
     ]
    },
    {
     "name": "stderr",
     "output_type": "stream",
     "text": [
      "\r\n",
      "Training:  61%|████████████████████████████                  | 155/254 [06:28<03:53,  2.36s/it, loss=0.0312]"
     ]
    },
    {
     "name": "stderr",
     "output_type": "stream",
     "text": [
      "\r\n",
      "Training:  61%|████████████████████████████                  | 155/254 [06:31<03:53,  2.36s/it, loss=0.0490]"
     ]
    },
    {
     "name": "stderr",
     "output_type": "stream",
     "text": [
      "\r\n",
      "Training:  61%|████████████████████████████▎                 | 156/254 [06:31<04:01,  2.47s/it, loss=0.0490]"
     ]
    },
    {
     "name": "stderr",
     "output_type": "stream",
     "text": [
      "\r\n",
      "Training:  61%|████████████████████████████▎                 | 156/254 [06:34<04:01,  2.47s/it, loss=0.0359]"
     ]
    },
    {
     "name": "stderr",
     "output_type": "stream",
     "text": [
      "\r\n",
      "Training:  62%|████████████████████████████▍                 | 157/254 [06:34<04:09,  2.57s/it, loss=0.0359]"
     ]
    },
    {
     "name": "stderr",
     "output_type": "stream",
     "text": [
      "\r\n",
      "Training:  62%|████████████████████████████▍                 | 157/254 [06:36<04:09,  2.57s/it, loss=0.0438]"
     ]
    },
    {
     "name": "stderr",
     "output_type": "stream",
     "text": [
      "\r\n",
      "Training:  62%|████████████████████████████▌                 | 158/254 [06:36<04:11,  2.62s/it, loss=0.0438]"
     ]
    },
    {
     "name": "stderr",
     "output_type": "stream",
     "text": [
      "\r\n",
      "Training:  62%|████████████████████████████▌                 | 158/254 [06:39<04:11,  2.62s/it, loss=0.0225]"
     ]
    },
    {
     "name": "stderr",
     "output_type": "stream",
     "text": [
      "\r\n",
      "Training:  63%|████████████████████████████▊                 | 159/254 [06:39<04:19,  2.73s/it, loss=0.0225]"
     ]
    },
    {
     "name": "stderr",
     "output_type": "stream",
     "text": [
      "\r\n",
      "Training:  63%|████████████████████████████▊                 | 159/254 [06:42<04:19,  2.73s/it, loss=0.0265]"
     ]
    },
    {
     "name": "stderr",
     "output_type": "stream",
     "text": [
      "\r\n",
      "Training:  63%|████████████████████████████▉                 | 160/254 [06:42<04:15,  2.72s/it, loss=0.0265]"
     ]
    },
    {
     "name": "stderr",
     "output_type": "stream",
     "text": [
      "\r\n",
      "Training:  63%|████████████████████████████▉                 | 160/254 [06:45<04:15,  2.72s/it, loss=0.0087]"
     ]
    },
    {
     "name": "stderr",
     "output_type": "stream",
     "text": [
      "\r\n",
      "Training:  63%|█████████████████████████████▏                | 161/254 [06:45<04:13,  2.73s/it, loss=0.0087]"
     ]
    },
    {
     "name": "stderr",
     "output_type": "stream",
     "text": [
      "\r\n",
      "Training:  63%|█████████████████████████████▏                | 161/254 [06:48<04:13,  2.73s/it, loss=0.0346]"
     ]
    },
    {
     "name": "stderr",
     "output_type": "stream",
     "text": [
      "\r\n",
      "Training:  64%|█████████████████████████████▎                | 162/254 [06:48<04:13,  2.75s/it, loss=0.0346]"
     ]
    },
    {
     "name": "stderr",
     "output_type": "stream",
     "text": [
      "\r\n",
      "Training:  64%|█████████████████████████████▎                | 162/254 [06:50<04:13,  2.75s/it, loss=0.1078]"
     ]
    },
    {
     "name": "stderr",
     "output_type": "stream",
     "text": [
      "\r\n",
      "Training:  64%|█████████████████████████████▌                | 163/254 [06:50<04:08,  2.73s/it, loss=0.1078]"
     ]
    },
    {
     "name": "stderr",
     "output_type": "stream",
     "text": [
      "\r\n",
      "Training:  64%|█████████████████████████████▌                | 163/254 [06:53<04:08,  2.73s/it, loss=0.0128]"
     ]
    },
    {
     "name": "stderr",
     "output_type": "stream",
     "text": [
      "\r\n",
      "Training:  65%|█████████████████████████████▋                | 164/254 [06:53<04:06,  2.74s/it, loss=0.0128]"
     ]
    },
    {
     "name": "stderr",
     "output_type": "stream",
     "text": [
      "\r\n",
      "Training:  65%|█████████████████████████████▋                | 164/254 [06:56<04:06,  2.74s/it, loss=0.0139]"
     ]
    },
    {
     "name": "stderr",
     "output_type": "stream",
     "text": [
      "\r\n",
      "Training:  65%|█████████████████████████████▉                | 165/254 [06:56<04:01,  2.72s/it, loss=0.0139]"
     ]
    },
    {
     "name": "stderr",
     "output_type": "stream",
     "text": [
      "\r\n",
      "Training:  65%|█████████████████████████████▉                | 165/254 [06:58<04:01,  2.72s/it, loss=0.0587]"
     ]
    },
    {
     "name": "stderr",
     "output_type": "stream",
     "text": [
      "\r\n",
      "Training:  65%|██████████████████████████████                | 166/254 [06:58<03:56,  2.69s/it, loss=0.0587]"
     ]
    },
    {
     "name": "stderr",
     "output_type": "stream",
     "text": [
      "\r\n",
      "Training:  65%|██████████████████████████████                | 166/254 [07:00<03:56,  2.69s/it, loss=0.0981]"
     ]
    },
    {
     "name": "stderr",
     "output_type": "stream",
     "text": [
      "\r\n",
      "Training:  66%|██████████████████████████████▏               | 167/254 [07:00<03:22,  2.33s/it, loss=0.0981]"
     ]
    },
    {
     "name": "stderr",
     "output_type": "stream",
     "text": [
      "\r\n",
      "Training:  66%|██████████████████████████████▏               | 167/254 [07:03<03:22,  2.33s/it, loss=0.0726]"
     ]
    },
    {
     "name": "stderr",
     "output_type": "stream",
     "text": [
      "\r\n",
      "Training:  66%|██████████████████████████████▍               | 168/254 [07:03<03:31,  2.46s/it, loss=0.0726]"
     ]
    },
    {
     "name": "stderr",
     "output_type": "stream",
     "text": [
      "\r\n",
      "Training:  66%|██████████████████████████████▍               | 168/254 [07:05<03:31,  2.46s/it, loss=0.0107]"
     ]
    },
    {
     "name": "stderr",
     "output_type": "stream",
     "text": [
      "\r\n",
      "Training:  67%|██████████████████████████████▌               | 169/254 [07:05<03:35,  2.54s/it, loss=0.0107]"
     ]
    },
    {
     "name": "stderr",
     "output_type": "stream",
     "text": [
      "\r\n",
      "Training:  67%|██████████████████████████████▌               | 169/254 [07:08<03:35,  2.54s/it, loss=0.0231]"
     ]
    },
    {
     "name": "stderr",
     "output_type": "stream",
     "text": [
      "\r\n",
      "Training:  67%|██████████████████████████████▊               | 170/254 [07:08<03:36,  2.58s/it, loss=0.0231]"
     ]
    },
    {
     "name": "stderr",
     "output_type": "stream",
     "text": [
      "\r\n",
      "Training:  67%|██████████████████████████████▊               | 170/254 [07:10<03:36,  2.58s/it, loss=0.0851]"
     ]
    },
    {
     "name": "stderr",
     "output_type": "stream",
     "text": [
      "\r\n",
      "Training:  67%|██████████████████████████████▉               | 171/254 [07:10<03:28,  2.51s/it, loss=0.0851]"
     ]
    },
    {
     "name": "stderr",
     "output_type": "stream",
     "text": [
      "\r\n",
      "Training:  67%|██████████████████████████████▉               | 171/254 [07:13<03:28,  2.51s/it, loss=0.0244]"
     ]
    },
    {
     "name": "stderr",
     "output_type": "stream",
     "text": [
      "\r\n",
      "Training:  68%|███████████████████████████████▏              | 172/254 [07:13<03:25,  2.51s/it, loss=0.0244]"
     ]
    },
    {
     "name": "stderr",
     "output_type": "stream",
     "text": [
      "\r\n",
      "Training:  68%|███████████████████████████████▏              | 172/254 [07:15<03:25,  2.51s/it, loss=0.0141]"
     ]
    },
    {
     "name": "stderr",
     "output_type": "stream",
     "text": [
      "\r\n",
      "Training:  68%|███████████████████████████████▎              | 173/254 [07:15<03:19,  2.46s/it, loss=0.0141]"
     ]
    },
    {
     "name": "stderr",
     "output_type": "stream",
     "text": [
      "\r\n",
      "Training:  68%|███████████████████████████████▎              | 173/254 [07:17<03:19,  2.46s/it, loss=0.0564]"
     ]
    },
    {
     "name": "stderr",
     "output_type": "stream",
     "text": [
      "\r\n",
      "Training:  69%|███████████████████████████████▌              | 174/254 [07:17<03:13,  2.41s/it, loss=0.0564]"
     ]
    },
    {
     "name": "stderr",
     "output_type": "stream",
     "text": [
      "\r\n",
      "Training:  69%|███████████████████████████████▌              | 174/254 [07:20<03:13,  2.41s/it, loss=0.1245]"
     ]
    },
    {
     "name": "stderr",
     "output_type": "stream",
     "text": [
      "\r\n",
      "Training:  69%|███████████████████████████████▋              | 175/254 [07:20<03:18,  2.51s/it, loss=0.1245]"
     ]
    },
    {
     "name": "stderr",
     "output_type": "stream",
     "text": [
      "\r\n",
      "Training:  69%|███████████████████████████████▋              | 175/254 [07:23<03:18,  2.51s/it, loss=0.0127]"
     ]
    },
    {
     "name": "stderr",
     "output_type": "stream",
     "text": [
      "\r\n",
      "Training:  69%|███████████████████████████████▊              | 176/254 [07:23<03:19,  2.55s/it, loss=0.0127]"
     ]
    },
    {
     "name": "stderr",
     "output_type": "stream",
     "text": [
      "\r\n",
      "Training:  69%|███████████████████████████████▊              | 176/254 [07:25<03:19,  2.55s/it, loss=0.0260]"
     ]
    },
    {
     "name": "stderr",
     "output_type": "stream",
     "text": [
      "\r\n",
      "Training:  70%|████████████████████████████████              | 177/254 [07:25<03:11,  2.49s/it, loss=0.0260]"
     ]
    },
    {
     "name": "stderr",
     "output_type": "stream",
     "text": [
      "\r\n",
      "Training:  70%|████████████████████████████████              | 177/254 [07:28<03:11,  2.49s/it, loss=0.0169]"
     ]
    },
    {
     "name": "stderr",
     "output_type": "stream",
     "text": [
      "\r\n",
      "Training:  70%|████████████████████████████████▏             | 178/254 [07:28<03:05,  2.44s/it, loss=0.0169]"
     ]
    },
    {
     "name": "stderr",
     "output_type": "stream",
     "text": [
      "\r\n",
      "Training:  70%|████████████████████████████████▏             | 178/254 [07:30<03:05,  2.44s/it, loss=0.0278]"
     ]
    },
    {
     "name": "stderr",
     "output_type": "stream",
     "text": [
      "\r\n",
      "Training:  70%|████████████████████████████████▍             | 179/254 [07:30<02:56,  2.35s/it, loss=0.0278]"
     ]
    },
    {
     "name": "stderr",
     "output_type": "stream",
     "text": [
      "\r\n",
      "Training:  70%|████████████████████████████████▍             | 179/254 [07:31<02:56,  2.35s/it, loss=0.1939]"
     ]
    },
    {
     "name": "stderr",
     "output_type": "stream",
     "text": [
      "\r\n",
      "Training:  71%|████████████████████████████████▌             | 180/254 [07:31<02:22,  1.92s/it, loss=0.1939]"
     ]
    },
    {
     "name": "stderr",
     "output_type": "stream",
     "text": [
      "\r\n",
      "Training:  71%|████████████████████████████████▌             | 180/254 [07:33<02:22,  1.92s/it, loss=0.0270]"
     ]
    },
    {
     "name": "stderr",
     "output_type": "stream",
     "text": [
      "\r\n",
      "Training:  71%|████████████████████████████████▊             | 181/254 [07:33<02:23,  1.97s/it, loss=0.0270]"
     ]
    },
    {
     "name": "stderr",
     "output_type": "stream",
     "text": [
      "\r\n",
      "Training:  71%|████████████████████████████████▊             | 181/254 [07:35<02:23,  1.97s/it, loss=0.0036]"
     ]
    },
    {
     "name": "stderr",
     "output_type": "stream",
     "text": [
      "\r\n",
      "Training:  72%|████████████████████████████████▉             | 182/254 [07:35<02:23,  2.00s/it, loss=0.0036]"
     ]
    },
    {
     "name": "stderr",
     "output_type": "stream",
     "text": [
      "\r\n",
      "Training:  72%|████████████████████████████████▉             | 182/254 [07:37<02:23,  2.00s/it, loss=0.0050]"
     ]
    },
    {
     "name": "stderr",
     "output_type": "stream",
     "text": [
      "\r\n",
      "Training:  72%|█████████████████████████████████▏            | 183/254 [07:37<02:23,  2.02s/it, loss=0.0050]"
     ]
    },
    {
     "name": "stderr",
     "output_type": "stream",
     "text": [
      "\r\n",
      "Training:  72%|█████████████████████████████████▏            | 183/254 [07:39<02:23,  2.02s/it, loss=0.1057]"
     ]
    },
    {
     "name": "stderr",
     "output_type": "stream",
     "text": [
      "\r\n",
      "Training:  72%|█████████████████████████████████▎            | 184/254 [07:39<02:22,  2.03s/it, loss=0.1057]"
     ]
    },
    {
     "name": "stderr",
     "output_type": "stream",
     "text": [
      "\r\n",
      "Training:  72%|█████████████████████████████████▎            | 184/254 [07:41<02:22,  2.03s/it, loss=0.0919]"
     ]
    },
    {
     "name": "stderr",
     "output_type": "stream",
     "text": [
      "\r\n",
      "Training:  73%|█████████████████████████████████▌            | 185/254 [07:41<02:20,  2.04s/it, loss=0.0919]"
     ]
    },
    {
     "name": "stderr",
     "output_type": "stream",
     "text": [
      "\r\n",
      "Training:  73%|█████████████████████████████████▌            | 185/254 [07:43<02:20,  2.04s/it, loss=0.0261]"
     ]
    },
    {
     "name": "stderr",
     "output_type": "stream",
     "text": [
      "\r\n",
      "Training:  73%|█████████████████████████████████▋            | 186/254 [07:43<02:22,  2.09s/it, loss=0.0261]"
     ]
    },
    {
     "name": "stderr",
     "output_type": "stream",
     "text": [
      "\r\n",
      "Training:  73%|█████████████████████████████████▋            | 186/254 [07:45<02:22,  2.09s/it, loss=0.0148]"
     ]
    },
    {
     "name": "stderr",
     "output_type": "stream",
     "text": [
      "\r\n",
      "Training:  74%|█████████████████████████████████▊            | 187/254 [07:45<02:19,  2.09s/it, loss=0.0148]"
     ]
    },
    {
     "name": "stderr",
     "output_type": "stream",
     "text": [
      "\r\n",
      "Training:  74%|█████████████████████████████████▊            | 187/254 [07:47<02:19,  2.09s/it, loss=0.0128]"
     ]
    },
    {
     "name": "stderr",
     "output_type": "stream",
     "text": [
      "\r\n",
      "Training:  74%|██████████████████████████████████            | 188/254 [07:47<02:17,  2.08s/it, loss=0.0128]"
     ]
    },
    {
     "name": "stderr",
     "output_type": "stream",
     "text": [
      "\r\n",
      "Training:  74%|██████████████████████████████████            | 188/254 [07:49<02:17,  2.08s/it, loss=0.0309]"
     ]
    },
    {
     "name": "stderr",
     "output_type": "stream",
     "text": [
      "\r\n",
      "Training:  74%|██████████████████████████████████▏           | 189/254 [07:49<02:14,  2.08s/it, loss=0.0309]"
     ]
    },
    {
     "name": "stderr",
     "output_type": "stream",
     "text": [
      "\r\n",
      "Training:  74%|██████████████████████████████████▏           | 189/254 [07:51<02:14,  2.08s/it, loss=0.0643]"
     ]
    },
    {
     "name": "stderr",
     "output_type": "stream",
     "text": [
      "\r\n",
      "Training:  75%|██████████████████████████████████▍           | 190/254 [07:51<02:12,  2.07s/it, loss=0.0643]"
     ]
    },
    {
     "name": "stderr",
     "output_type": "stream",
     "text": [
      "\r\n",
      "Training:  75%|██████████████████████████████████▍           | 190/254 [07:53<02:12,  2.07s/it, loss=0.0783]"
     ]
    },
    {
     "name": "stderr",
     "output_type": "stream",
     "text": [
      "\r\n",
      "Training:  75%|██████████████████████████████████▌           | 191/254 [07:53<02:10,  2.07s/it, loss=0.0783]"
     ]
    },
    {
     "name": "stderr",
     "output_type": "stream",
     "text": [
      "\r\n",
      "Training:  75%|██████████████████████████████████▌           | 191/254 [07:56<02:10,  2.07s/it, loss=0.0055]"
     ]
    },
    {
     "name": "stderr",
     "output_type": "stream",
     "text": [
      "\r\n",
      "Training:  76%|██████████████████████████████████▊           | 192/254 [07:56<02:08,  2.07s/it, loss=0.0055]"
     ]
    },
    {
     "name": "stderr",
     "output_type": "stream",
     "text": [
      "\r\n",
      "Training:  76%|██████████████████████████████████▊           | 192/254 [07:58<02:08,  2.07s/it, loss=0.1076]"
     ]
    },
    {
     "name": "stderr",
     "output_type": "stream",
     "text": [
      "\r\n",
      "Training:  76%|██████████████████████████████████▉           | 193/254 [07:58<02:06,  2.07s/it, loss=0.1076]"
     ]
    },
    {
     "name": "stderr",
     "output_type": "stream",
     "text": [
      "\r\n",
      "Training:  76%|██████████████████████████████████▉           | 193/254 [08:00<02:06,  2.07s/it, loss=0.0517]"
     ]
    },
    {
     "name": "stderr",
     "output_type": "stream",
     "text": [
      "\r\n",
      "Training:  76%|███████████████████████████████████▏          | 194/254 [08:00<02:04,  2.07s/it, loss=0.0517]"
     ]
    },
    {
     "name": "stderr",
     "output_type": "stream",
     "text": [
      "\r\n",
      "Training:  76%|███████████████████████████████████▏          | 194/254 [08:01<02:04,  2.07s/it, loss=0.0698]"
     ]
    },
    {
     "name": "stderr",
     "output_type": "stream",
     "text": [
      "\r\n",
      "Training:  77%|███████████████████████████████████▎          | 195/254 [08:01<01:40,  1.71s/it, loss=0.0698]"
     ]
    },
    {
     "name": "stderr",
     "output_type": "stream",
     "text": [
      "\r\n",
      "Training:  77%|███████████████████████████████████▎          | 195/254 [08:03<01:40,  1.71s/it, loss=0.0089]"
     ]
    },
    {
     "name": "stderr",
     "output_type": "stream",
     "text": [
      "\r\n",
      "Training:  77%|███████████████████████████████████▍          | 196/254 [08:03<01:45,  1.81s/it, loss=0.0089]"
     ]
    },
    {
     "name": "stderr",
     "output_type": "stream",
     "text": [
      "\r\n",
      "Training:  77%|███████████████████████████████████▍          | 196/254 [08:05<01:45,  1.81s/it, loss=0.0136]"
     ]
    },
    {
     "name": "stderr",
     "output_type": "stream",
     "text": [
      "\r\n",
      "Training:  78%|███████████████████████████████████▋          | 197/254 [08:05<01:47,  1.89s/it, loss=0.0136]"
     ]
    },
    {
     "name": "stderr",
     "output_type": "stream",
     "text": [
      "\r\n",
      "Training:  78%|███████████████████████████████████▋          | 197/254 [08:07<01:47,  1.89s/it, loss=0.0085]"
     ]
    },
    {
     "name": "stderr",
     "output_type": "stream",
     "text": [
      "\r\n",
      "Training:  78%|███████████████████████████████████▊          | 198/254 [08:07<01:48,  1.94s/it, loss=0.0085]"
     ]
    },
    {
     "name": "stderr",
     "output_type": "stream",
     "text": [
      "\r\n",
      "Training:  78%|███████████████████████████████████▊          | 198/254 [08:09<01:48,  1.94s/it, loss=0.0186]"
     ]
    },
    {
     "name": "stderr",
     "output_type": "stream",
     "text": [
      "\r\n",
      "Training:  78%|████████████████████████████████████          | 199/254 [08:09<01:49,  1.98s/it, loss=0.0186]"
     ]
    },
    {
     "name": "stderr",
     "output_type": "stream",
     "text": [
      "\r\n",
      "Training:  78%|████████████████████████████████████          | 199/254 [08:11<01:49,  1.98s/it, loss=0.0054]"
     ]
    },
    {
     "name": "stderr",
     "output_type": "stream",
     "text": [
      "\r\n",
      "Training:  79%|████████████████████████████████████▏         | 200/254 [08:11<01:48,  2.01s/it, loss=0.0054]"
     ]
    },
    {
     "name": "stderr",
     "output_type": "stream",
     "text": [
      "\r\n",
      "Training:  79%|████████████████████████████████████▏         | 200/254 [08:13<01:48,  2.01s/it, loss=0.0877]"
     ]
    },
    {
     "name": "stderr",
     "output_type": "stream",
     "text": [
      "\r\n",
      "Training:  79%|████████████████████████████████████▍         | 201/254 [08:13<01:47,  2.03s/it, loss=0.0877]"
     ]
    },
    {
     "name": "stderr",
     "output_type": "stream",
     "text": [
      "\r\n",
      "Training:  79%|████████████████████████████████████▍         | 201/254 [08:15<01:47,  2.03s/it, loss=0.0054]"
     ]
    },
    {
     "name": "stderr",
     "output_type": "stream",
     "text": [
      "\r\n",
      "Training:  80%|████████████████████████████████████▌         | 202/254 [08:15<01:48,  2.09s/it, loss=0.0054]"
     ]
    },
    {
     "name": "stderr",
     "output_type": "stream",
     "text": [
      "\r\n",
      "Training:  80%|████████████████████████████████████▌         | 202/254 [08:17<01:48,  2.09s/it, loss=0.0303]"
     ]
    },
    {
     "name": "stderr",
     "output_type": "stream",
     "text": [
      "\r\n",
      "Training:  80%|████████████████████████████████████▊         | 203/254 [08:17<01:46,  2.09s/it, loss=0.0303]"
     ]
    },
    {
     "name": "stderr",
     "output_type": "stream",
     "text": [
      "\r\n",
      "Training:  80%|████████████████████████████████████▊         | 203/254 [08:19<01:46,  2.09s/it, loss=0.0099]"
     ]
    },
    {
     "name": "stderr",
     "output_type": "stream",
     "text": [
      "\r\n",
      "Training:  80%|████████████████████████████████████▉         | 204/254 [08:19<01:44,  2.08s/it, loss=0.0099]"
     ]
    },
    {
     "name": "stderr",
     "output_type": "stream",
     "text": [
      "\r\n",
      "Training:  80%|████████████████████████████████████▉         | 204/254 [08:21<01:44,  2.08s/it, loss=0.0942]"
     ]
    },
    {
     "name": "stderr",
     "output_type": "stream",
     "text": [
      "\r\n",
      "Training:  81%|█████████████████████████████████████▏        | 205/254 [08:21<01:42,  2.08s/it, loss=0.0942]"
     ]
    },
    {
     "name": "stderr",
     "output_type": "stream",
     "text": [
      "\r\n",
      "Training:  81%|█████████████████████████████████████▏        | 205/254 [08:23<01:42,  2.08s/it, loss=0.0790]"
     ]
    },
    {
     "name": "stderr",
     "output_type": "stream",
     "text": [
      "\r\n",
      "Training:  81%|█████████████████████████████████████▎        | 206/254 [08:23<01:39,  2.08s/it, loss=0.0790]"
     ]
    },
    {
     "name": "stderr",
     "output_type": "stream",
     "text": [
      "\r\n",
      "Training:  81%|█████████████████████████████████████▎        | 206/254 [08:26<01:39,  2.08s/it, loss=0.0058]"
     ]
    },
    {
     "name": "stderr",
     "output_type": "stream",
     "text": [
      "\r\n",
      "Training:  81%|█████████████████████████████████████▍        | 207/254 [08:26<01:37,  2.08s/it, loss=0.0058]"
     ]
    },
    {
     "name": "stderr",
     "output_type": "stream",
     "text": [
      "\r\n",
      "Training:  81%|█████████████████████████████████████▍        | 207/254 [08:28<01:37,  2.08s/it, loss=0.0145]"
     ]
    },
    {
     "name": "stderr",
     "output_type": "stream",
     "text": [
      "\r\n",
      "Training:  82%|█████████████████████████████████████▋        | 208/254 [08:28<01:35,  2.08s/it, loss=0.0145]"
     ]
    },
    {
     "name": "stderr",
     "output_type": "stream",
     "text": [
      "\r\n",
      "Training:  82%|█████████████████████████████████████▋        | 208/254 [08:30<01:35,  2.08s/it, loss=0.0407]"
     ]
    },
    {
     "name": "stderr",
     "output_type": "stream",
     "text": [
      "\r\n",
      "Training:  82%|█████████████████████████████████████▊        | 209/254 [08:30<01:33,  2.07s/it, loss=0.0407]"
     ]
    },
    {
     "name": "stderr",
     "output_type": "stream",
     "text": [
      "\r\n",
      "Training:  82%|█████████████████████████████████████▊        | 209/254 [08:32<01:33,  2.07s/it, loss=0.0088]"
     ]
    },
    {
     "name": "stderr",
     "output_type": "stream",
     "text": [
      "\r\n",
      "Training:  83%|██████████████████████████████████████        | 210/254 [08:32<01:31,  2.07s/it, loss=0.0088]"
     ]
    },
    {
     "name": "stderr",
     "output_type": "stream",
     "text": [
      "\r\n",
      "Training:  83%|██████████████████████████████████████        | 210/254 [08:33<01:31,  2.07s/it, loss=0.0092]"
     ]
    },
    {
     "name": "stderr",
     "output_type": "stream",
     "text": [
      "\r\n",
      "Training:  83%|██████████████████████████████████████▏       | 211/254 [08:33<01:12,  1.69s/it, loss=0.0092]"
     ]
    },
    {
     "name": "stderr",
     "output_type": "stream",
     "text": [
      "\r\n",
      "Training:  83%|██████████████████████████████████████▏       | 211/254 [08:35<01:12,  1.69s/it, loss=0.0985]"
     ]
    },
    {
     "name": "stderr",
     "output_type": "stream",
     "text": [
      "\r\n",
      "Training:  83%|██████████████████████████████████████▍       | 212/254 [08:35<01:15,  1.81s/it, loss=0.0985]"
     ]
    },
    {
     "name": "stderr",
     "output_type": "stream",
     "text": [
      "\r\n",
      "Training:  83%|██████████████████████████████████████▍       | 212/254 [08:37<01:15,  1.81s/it, loss=0.0355]"
     ]
    },
    {
     "name": "stderr",
     "output_type": "stream",
     "text": [
      "\r\n",
      "Training:  84%|██████████████████████████████████████▌       | 213/254 [08:37<01:17,  1.88s/it, loss=0.0355]"
     ]
    },
    {
     "name": "stderr",
     "output_type": "stream",
     "text": [
      "\r\n",
      "Training:  84%|██████████████████████████████████████▌       | 213/254 [08:39<01:17,  1.88s/it, loss=0.0124]"
     ]
    },
    {
     "name": "stderr",
     "output_type": "stream",
     "text": [
      "\r\n",
      "Training:  84%|██████████████████████████████████████▊       | 214/254 [08:39<01:17,  1.94s/it, loss=0.0124]"
     ]
    },
    {
     "name": "stderr",
     "output_type": "stream",
     "text": [
      "\r\n",
      "Training:  84%|██████████████████████████████████████▊       | 214/254 [08:41<01:17,  1.94s/it, loss=0.0357]"
     ]
    },
    {
     "name": "stderr",
     "output_type": "stream",
     "text": [
      "\r\n",
      "Training:  85%|██████████████████████████████████████▉       | 215/254 [08:41<01:17,  1.98s/it, loss=0.0357]"
     ]
    },
    {
     "name": "stderr",
     "output_type": "stream",
     "text": [
      "\r\n",
      "Training:  85%|██████████████████████████████████████▉       | 215/254 [08:43<01:17,  1.98s/it, loss=0.0078]"
     ]
    },
    {
     "name": "stderr",
     "output_type": "stream",
     "text": [
      "\r\n",
      "Training:  85%|███████████████████████████████████████       | 216/254 [08:43<01:16,  2.01s/it, loss=0.0078]"
     ]
    },
    {
     "name": "stderr",
     "output_type": "stream",
     "text": [
      "\r\n",
      "Training:  85%|███████████████████████████████████████       | 216/254 [08:45<01:16,  2.01s/it, loss=0.0704]"
     ]
    },
    {
     "name": "stderr",
     "output_type": "stream",
     "text": [
      "\r\n",
      "Training:  85%|███████████████████████████████████████▎      | 217/254 [08:45<01:15,  2.03s/it, loss=0.0704]"
     ]
    },
    {
     "name": "stderr",
     "output_type": "stream",
     "text": [
      "\r\n",
      "Training:  85%|███████████████████████████████████████▎      | 217/254 [08:47<01:15,  2.03s/it, loss=0.0055]"
     ]
    },
    {
     "name": "stderr",
     "output_type": "stream",
     "text": [
      "\r\n",
      "Training:  86%|███████████████████████████████████████▍      | 218/254 [08:47<01:15,  2.10s/it, loss=0.0055]"
     ]
    },
    {
     "name": "stderr",
     "output_type": "stream",
     "text": [
      "\r\n",
      "Training:  86%|███████████████████████████████████████▍      | 218/254 [08:49<01:15,  2.10s/it, loss=0.0178]"
     ]
    },
    {
     "name": "stderr",
     "output_type": "stream",
     "text": [
      "\r\n",
      "Training:  86%|███████████████████████████████████████▋      | 219/254 [08:49<01:13,  2.09s/it, loss=0.0178]"
     ]
    },
    {
     "name": "stderr",
     "output_type": "stream",
     "text": [
      "\r\n",
      "Training:  86%|███████████████████████████████████████▋      | 219/254 [08:51<01:13,  2.09s/it, loss=0.1326]"
     ]
    },
    {
     "name": "stderr",
     "output_type": "stream",
     "text": [
      "\r\n",
      "Training:  87%|███████████████████████████████████████▊      | 220/254 [08:51<01:11,  2.09s/it, loss=0.1326]"
     ]
    },
    {
     "name": "stderr",
     "output_type": "stream",
     "text": [
      "\r\n",
      "Training:  87%|███████████████████████████████████████▊      | 220/254 [08:54<01:11,  2.09s/it, loss=0.0120]"
     ]
    },
    {
     "name": "stderr",
     "output_type": "stream",
     "text": [
      "\r\n",
      "Training:  87%|████████████████████████████████████████      | 221/254 [08:54<01:08,  2.09s/it, loss=0.0120]"
     ]
    },
    {
     "name": "stderr",
     "output_type": "stream",
     "text": [
      "\r\n",
      "Training:  87%|████████████████████████████████████████      | 221/254 [08:56<01:08,  2.09s/it, loss=0.0821]"
     ]
    },
    {
     "name": "stderr",
     "output_type": "stream",
     "text": [
      "\r\n",
      "Training:  87%|████████████████████████████████████████▏     | 222/254 [08:56<01:06,  2.08s/it, loss=0.0821]"
     ]
    },
    {
     "name": "stderr",
     "output_type": "stream",
     "text": [
      "\r\n",
      "Training:  87%|████████████████████████████████████████▏     | 222/254 [08:58<01:06,  2.08s/it, loss=0.0160]"
     ]
    },
    {
     "name": "stderr",
     "output_type": "stream",
     "text": [
      "\r\n",
      "Training:  88%|████████████████████████████████████████▍     | 223/254 [08:58<01:04,  2.08s/it, loss=0.0160]"
     ]
    },
    {
     "name": "stderr",
     "output_type": "stream",
     "text": [
      "\r\n",
      "Training:  88%|████████████████████████████████████████▍     | 223/254 [09:00<01:04,  2.08s/it, loss=0.1063]"
     ]
    },
    {
     "name": "stderr",
     "output_type": "stream",
     "text": [
      "\r\n",
      "Training:  88%|████████████████████████████████████████▌     | 224/254 [09:00<01:02,  2.08s/it, loss=0.1063]"
     ]
    },
    {
     "name": "stderr",
     "output_type": "stream",
     "text": [
      "\r\n",
      "Training:  88%|████████████████████████████████████████▌     | 224/254 [09:02<01:02,  2.08s/it, loss=0.0843]"
     ]
    },
    {
     "name": "stderr",
     "output_type": "stream",
     "text": [
      "\r\n",
      "Training:  89%|████████████████████████████████████████▋     | 225/254 [09:02<01:00,  2.07s/it, loss=0.0843]"
     ]
    },
    {
     "name": "stderr",
     "output_type": "stream",
     "text": [
      "\r\n",
      "Training:  89%|████████████████████████████████████████▋     | 225/254 [09:03<01:00,  2.07s/it, loss=0.0810]"
     ]
    },
    {
     "name": "stderr",
     "output_type": "stream",
     "text": [
      "\r\n",
      "Training:  89%|████████████████████████████████████████▉     | 226/254 [09:03<00:47,  1.69s/it, loss=0.0810]"
     ]
    },
    {
     "name": "stderr",
     "output_type": "stream",
     "text": [
      "\r\n",
      "Training:  89%|████████████████████████████████████████▉     | 226/254 [09:05<00:47,  1.69s/it, loss=0.0099]"
     ]
    },
    {
     "name": "stderr",
     "output_type": "stream",
     "text": [
      "\r\n",
      "Training:  89%|█████████████████████████████████████████     | 227/254 [09:05<00:48,  1.80s/it, loss=0.0099]"
     ]
    },
    {
     "name": "stderr",
     "output_type": "stream",
     "text": [
      "\r\n",
      "Training:  89%|█████████████████████████████████████████     | 227/254 [09:07<00:48,  1.80s/it, loss=0.0170]"
     ]
    },
    {
     "name": "stderr",
     "output_type": "stream",
     "text": [
      "\r\n",
      "Training:  90%|█████████████████████████████████████████▎    | 228/254 [09:07<00:48,  1.88s/it, loss=0.0170]"
     ]
    },
    {
     "name": "stderr",
     "output_type": "stream",
     "text": [
      "\r\n",
      "Training:  90%|█████████████████████████████████████████▎    | 228/254 [09:09<00:48,  1.88s/it, loss=0.0133]"
     ]
    },
    {
     "name": "stderr",
     "output_type": "stream",
     "text": [
      "\r\n",
      "Training:  90%|█████████████████████████████████████████▍    | 229/254 [09:09<00:48,  1.94s/it, loss=0.0133]"
     ]
    },
    {
     "name": "stderr",
     "output_type": "stream",
     "text": [
      "\r\n",
      "Training:  90%|█████████████████████████████████████████▍    | 229/254 [09:11<00:48,  1.94s/it, loss=0.0066]"
     ]
    },
    {
     "name": "stderr",
     "output_type": "stream",
     "text": [
      "\r\n",
      "Training:  91%|█████████████████████████████████████████▋    | 230/254 [09:11<00:47,  1.98s/it, loss=0.0066]"
     ]
    },
    {
     "name": "stderr",
     "output_type": "stream",
     "text": [
      "\r\n",
      "Training:  91%|█████████████████████████████████████████▋    | 230/254 [09:13<00:47,  1.98s/it, loss=0.0076]"
     ]
    },
    {
     "name": "stderr",
     "output_type": "stream",
     "text": [
      "\r\n",
      "Training:  91%|█████████████████████████████████████████▊    | 231/254 [09:13<00:46,  2.00s/it, loss=0.0076]"
     ]
    },
    {
     "name": "stderr",
     "output_type": "stream",
     "text": [
      "\r\n",
      "Training:  91%|█████████████████████████████████████████▊    | 231/254 [09:15<00:46,  2.00s/it, loss=0.0072]"
     ]
    },
    {
     "name": "stderr",
     "output_type": "stream",
     "text": [
      "\r\n",
      "Training:  91%|██████████████████████████████████████████    | 232/254 [09:15<00:44,  2.02s/it, loss=0.0072]"
     ]
    },
    {
     "name": "stderr",
     "output_type": "stream",
     "text": [
      "\r\n",
      "Training:  91%|██████████████████████████████████████████    | 232/254 [09:17<00:44,  2.02s/it, loss=0.0061]"
     ]
    },
    {
     "name": "stderr",
     "output_type": "stream",
     "text": [
      "\r\n",
      "Training:  92%|██████████████████████████████████████████▏   | 233/254 [09:17<00:42,  2.04s/it, loss=0.0061]"
     ]
    },
    {
     "name": "stderr",
     "output_type": "stream",
     "text": [
      "\r\n",
      "Training:  92%|██████████████████████████████████████████▏   | 233/254 [09:19<00:42,  2.04s/it, loss=0.0068]"
     ]
    },
    {
     "name": "stderr",
     "output_type": "stream",
     "text": [
      "\r\n",
      "Training:  92%|██████████████████████████████████████████▍   | 234/254 [09:19<00:41,  2.10s/it, loss=0.0068]"
     ]
    },
    {
     "name": "stderr",
     "output_type": "stream",
     "text": [
      "\r\n",
      "Training:  92%|██████████████████████████████████████████▍   | 234/254 [09:21<00:41,  2.10s/it, loss=0.0065]"
     ]
    },
    {
     "name": "stderr",
     "output_type": "stream",
     "text": [
      "\r\n",
      "Training:  93%|██████████████████████████████████████████▌   | 235/254 [09:21<00:39,  2.09s/it, loss=0.0065]"
     ]
    },
    {
     "name": "stderr",
     "output_type": "stream",
     "text": [
      "\r\n",
      "Training:  93%|██████████████████████████████████████████▌   | 235/254 [09:23<00:39,  2.09s/it, loss=0.0720]"
     ]
    },
    {
     "name": "stderr",
     "output_type": "stream",
     "text": [
      "\r\n",
      "Training:  93%|██████████████████████████████████████████▋   | 236/254 [09:23<00:37,  2.08s/it, loss=0.0720]"
     ]
    },
    {
     "name": "stderr",
     "output_type": "stream",
     "text": [
      "\r\n",
      "Training:  93%|██████████████████████████████████████████▋   | 236/254 [09:26<00:37,  2.08s/it, loss=0.0686]"
     ]
    },
    {
     "name": "stderr",
     "output_type": "stream",
     "text": [
      "\r\n",
      "Training:  93%|██████████████████████████████████████████▉   | 237/254 [09:26<00:35,  2.08s/it, loss=0.0686]"
     ]
    },
    {
     "name": "stderr",
     "output_type": "stream",
     "text": [
      "\r\n",
      "Training:  93%|██████████████████████████████████████████▉   | 237/254 [09:28<00:35,  2.08s/it, loss=0.0805]"
     ]
    },
    {
     "name": "stderr",
     "output_type": "stream",
     "text": [
      "\r\n",
      "Training:  94%|███████████████████████████████████████████   | 238/254 [09:28<00:33,  2.07s/it, loss=0.0805]"
     ]
    },
    {
     "name": "stderr",
     "output_type": "stream",
     "text": [
      "\r\n",
      "Training:  94%|███████████████████████████████████████████   | 238/254 [09:30<00:33,  2.07s/it, loss=0.0068]"
     ]
    },
    {
     "name": "stderr",
     "output_type": "stream",
     "text": [
      "\r\n",
      "Training:  94%|███████████████████████████████████████████▎  | 239/254 [09:30<00:31,  2.07s/it, loss=0.0068]"
     ]
    },
    {
     "name": "stderr",
     "output_type": "stream",
     "text": [
      "\r\n",
      "Training:  94%|███████████████████████████████████████████▎  | 239/254 [09:32<00:31,  2.07s/it, loss=0.0532]"
     ]
    },
    {
     "name": "stderr",
     "output_type": "stream",
     "text": [
      "\r\n",
      "Training:  94%|███████████████████████████████████████████▍  | 240/254 [09:32<00:28,  2.07s/it, loss=0.0532]"
     ]
    },
    {
     "name": "stderr",
     "output_type": "stream",
     "text": [
      "\r\n",
      "Training:  94%|███████████████████████████████████████████▍  | 240/254 [09:34<00:28,  2.07s/it, loss=0.0554]"
     ]
    },
    {
     "name": "stderr",
     "output_type": "stream",
     "text": [
      "\r\n",
      "Training:  95%|███████████████████████████████████████████▋  | 241/254 [09:34<00:26,  2.07s/it, loss=0.0554]"
     ]
    },
    {
     "name": "stderr",
     "output_type": "stream",
     "text": [
      "\r\n",
      "Training:  95%|███████████████████████████████████████████▋  | 241/254 [09:35<00:26,  2.07s/it, loss=0.0453]"
     ]
    },
    {
     "name": "stderr",
     "output_type": "stream",
     "text": [
      "\r\n",
      "Training:  95%|███████████████████████████████████████████▊  | 242/254 [09:35<00:20,  1.70s/it, loss=0.0453]"
     ]
    },
    {
     "name": "stderr",
     "output_type": "stream",
     "text": [
      "\r\n",
      "Training:  95%|███████████████████████████████████████████▊  | 242/254 [09:37<00:20,  1.70s/it, loss=0.0716]"
     ]
    },
    {
     "name": "stderr",
     "output_type": "stream",
     "text": [
      "\r\n",
      "Training:  96%|████████████████████████████████████████████  | 243/254 [09:37<00:19,  1.81s/it, loss=0.0716]"
     ]
    },
    {
     "name": "stderr",
     "output_type": "stream",
     "text": [
      "\r\n",
      "Training:  96%|████████████████████████████████████████████  | 243/254 [09:39<00:19,  1.81s/it, loss=0.0834]"
     ]
    },
    {
     "name": "stderr",
     "output_type": "stream",
     "text": [
      "\r\n",
      "Training:  96%|████████████████████████████████████████████▏ | 244/254 [09:39<00:18,  1.89s/it, loss=0.0834]"
     ]
    },
    {
     "name": "stderr",
     "output_type": "stream",
     "text": [
      "\r\n",
      "Training:  96%|████████████████████████████████████████████▏ | 244/254 [09:41<00:18,  1.89s/it, loss=0.0230]"
     ]
    },
    {
     "name": "stderr",
     "output_type": "stream",
     "text": [
      "\r\n",
      "Training:  96%|████████████████████████████████████████████▎ | 245/254 [09:41<00:17,  1.94s/it, loss=0.0230]"
     ]
    },
    {
     "name": "stderr",
     "output_type": "stream",
     "text": [
      "\r\n",
      "Training:  96%|████████████████████████████████████████████▎ | 245/254 [09:43<00:17,  1.94s/it, loss=0.0267]"
     ]
    },
    {
     "name": "stderr",
     "output_type": "stream",
     "text": [
      "\r\n",
      "Training:  97%|████████████████████████████████████████████▌ | 246/254 [09:43<00:15,  1.98s/it, loss=0.0267]"
     ]
    },
    {
     "name": "stderr",
     "output_type": "stream",
     "text": [
      "\r\n",
      "Training:  97%|████████████████████████████████████████████▌ | 246/254 [09:45<00:15,  1.98s/it, loss=0.0132]"
     ]
    },
    {
     "name": "stderr",
     "output_type": "stream",
     "text": [
      "\r\n",
      "Training:  97%|████████████████████████████████████████████▋ | 247/254 [09:45<00:14,  2.01s/it, loss=0.0132]"
     ]
    },
    {
     "name": "stderr",
     "output_type": "stream",
     "text": [
      "\r\n",
      "Training:  97%|████████████████████████████████████████████▋ | 247/254 [09:47<00:14,  2.01s/it, loss=0.0078]"
     ]
    },
    {
     "name": "stderr",
     "output_type": "stream",
     "text": [
      "\r\n",
      "Training:  98%|████████████████████████████████████████████▉ | 248/254 [09:47<00:12,  2.03s/it, loss=0.0078]"
     ]
    },
    {
     "name": "stderr",
     "output_type": "stream",
     "text": [
      "\r\n",
      "Training:  98%|████████████████████████████████████████████▉ | 248/254 [09:49<00:12,  2.03s/it, loss=0.0051]"
     ]
    },
    {
     "name": "stderr",
     "output_type": "stream",
     "text": [
      "\r\n",
      "Training:  98%|█████████████████████████████████████████████ | 249/254 [09:49<00:10,  2.04s/it, loss=0.0051]"
     ]
    },
    {
     "name": "stderr",
     "output_type": "stream",
     "text": [
      "\r\n",
      "Training:  98%|█████████████████████████████████████████████ | 249/254 [09:51<00:10,  2.04s/it, loss=0.0091]"
     ]
    },
    {
     "name": "stderr",
     "output_type": "stream",
     "text": [
      "\r\n",
      "Training:  98%|█████████████████████████████████████████████▎| 250/254 [09:51<00:08,  2.09s/it, loss=0.0091]"
     ]
    },
    {
     "name": "stderr",
     "output_type": "stream",
     "text": [
      "\r\n",
      "Training:  98%|█████████████████████████████████████████████▎| 250/254 [09:53<00:08,  2.09s/it, loss=0.0054]"
     ]
    },
    {
     "name": "stderr",
     "output_type": "stream",
     "text": [
      "\r\n",
      "Training:  99%|█████████████████████████████████████████████▍| 251/254 [09:53<00:06,  2.08s/it, loss=0.0054]"
     ]
    },
    {
     "name": "stderr",
     "output_type": "stream",
     "text": [
      "\r\n",
      "Training:  99%|█████████████████████████████████████████████▍| 251/254 [09:55<00:06,  2.08s/it, loss=0.0263]"
     ]
    },
    {
     "name": "stderr",
     "output_type": "stream",
     "text": [
      "\r\n",
      "Training:  99%|█████████████████████████████████████████████▋| 252/254 [09:55<00:04,  2.08s/it, loss=0.0263]"
     ]
    },
    {
     "name": "stderr",
     "output_type": "stream",
     "text": [
      "\r\n",
      "Training:  99%|█████████████████████████████████████████████▋| 252/254 [09:58<00:04,  2.08s/it, loss=0.0090]"
     ]
    },
    {
     "name": "stderr",
     "output_type": "stream",
     "text": [
      "\r\n",
      "Training: 100%|█████████████████████████████████████████████▊| 253/254 [09:58<00:02,  2.08s/it, loss=0.0090]"
     ]
    },
    {
     "name": "stderr",
     "output_type": "stream",
     "text": [
      "\r\n",
      "Training: 100%|█████████████████████████████████████████████▊| 253/254 [09:59<00:02,  2.08s/it, loss=0.2178]"
     ]
    },
    {
     "name": "stderr",
     "output_type": "stream",
     "text": [
      "\r\n",
      "Training: 100%|██████████████████████████████████████████████| 254/254 [09:59<00:00,  1.80s/it, loss=0.2178]"
     ]
    },
    {
     "name": "stderr",
     "output_type": "stream",
     "text": [
      "\r\n",
      "Training: 100%|██████████████████████████████████████████████| 254/254 [09:59<00:00,  2.36s/it, loss=0.2178]"
     ]
    },
    {
     "name": "stderr",
     "output_type": "stream",
     "text": [
      "\n",
      "INFO:src.models.trainer:Training metrics: {'accuracy': 0.9672454131264623, 'f1': 0.9629567954067035, 'precision': 0.9653572801487117, 'recall': 0.9672454131264623, 'loss': 0.1286279453243327}\n"
     ]
    },
    {
     "name": "stderr",
     "output_type": "stream",
     "text": [
      "\r\n",
      "Evaluating:   0%|                                                                    | 0/55 [00:00<?, ?it/s]"
     ]
    },
    {
     "name": "stderr",
     "output_type": "stream",
     "text": [
      "\r\n",
      "Evaluating:   2%|█                                                           | 1/55 [00:01<01:36,  1.78s/it]"
     ]
    },
    {
     "name": "stderr",
     "output_type": "stream",
     "text": [
      "\r\n",
      "Evaluating:   4%|██▏                                                         | 2/55 [00:03<01:31,  1.73s/it]"
     ]
    },
    {
     "name": "stderr",
     "output_type": "stream",
     "text": [
      "\r\n",
      "Evaluating:   5%|███▎                                                        | 3/55 [00:05<01:29,  1.72s/it]"
     ]
    },
    {
     "name": "stderr",
     "output_type": "stream",
     "text": [
      "\r\n",
      "Evaluating:   7%|████▎                                                       | 4/55 [00:05<01:02,  1.23s/it]"
     ]
    },
    {
     "name": "stderr",
     "output_type": "stream",
     "text": [
      "\r\n",
      "Evaluating:   9%|█████▍                                                      | 5/55 [00:07<01:10,  1.41s/it]"
     ]
    },
    {
     "name": "stderr",
     "output_type": "stream",
     "text": [
      "\r\n",
      "Evaluating:  11%|██████▌                                                     | 6/55 [00:09<01:14,  1.51s/it]"
     ]
    },
    {
     "name": "stderr",
     "output_type": "stream",
     "text": [
      "\r\n",
      "Evaluating:  13%|███████▋                                                    | 7/55 [00:10<01:14,  1.56s/it]"
     ]
    },
    {
     "name": "stderr",
     "output_type": "stream",
     "text": [
      "\r\n",
      "Evaluating:  15%|████████▋                                                   | 8/55 [00:12<01:15,  1.60s/it]"
     ]
    },
    {
     "name": "stderr",
     "output_type": "stream",
     "text": [
      "\r\n",
      "Evaluating:  16%|█████████▊                                                  | 9/55 [00:14<01:15,  1.63s/it]"
     ]
    },
    {
     "name": "stderr",
     "output_type": "stream",
     "text": [
      "\r\n",
      "Evaluating:  18%|██████████▋                                                | 10/55 [00:15<01:14,  1.65s/it]"
     ]
    },
    {
     "name": "stderr",
     "output_type": "stream",
     "text": [
      "\r\n",
      "Evaluating:  20%|███████████▊                                               | 11/55 [00:17<01:13,  1.67s/it]"
     ]
    },
    {
     "name": "stderr",
     "output_type": "stream",
     "text": [
      "\r\n",
      "Evaluating:  22%|████████████▊                                              | 12/55 [00:19<01:12,  1.68s/it]"
     ]
    },
    {
     "name": "stderr",
     "output_type": "stream",
     "text": [
      "\r\n",
      "Evaluating:  24%|█████████████▉                                             | 13/55 [00:20<01:10,  1.68s/it]"
     ]
    },
    {
     "name": "stderr",
     "output_type": "stream",
     "text": [
      "\r\n",
      "Evaluating:  25%|███████████████                                            | 14/55 [00:22<01:09,  1.68s/it]"
     ]
    },
    {
     "name": "stderr",
     "output_type": "stream",
     "text": [
      "\r\n",
      "Evaluating:  27%|████████████████                                           | 15/55 [00:24<01:07,  1.68s/it]"
     ]
    },
    {
     "name": "stderr",
     "output_type": "stream",
     "text": [
      "\r\n",
      "Evaluating:  29%|█████████████████▏                                         | 16/55 [00:25<01:05,  1.68s/it]"
     ]
    },
    {
     "name": "stderr",
     "output_type": "stream",
     "text": [
      "\r\n",
      "Evaluating:  31%|██████████████████▏                                        | 17/55 [00:27<01:04,  1.69s/it]"
     ]
    },
    {
     "name": "stderr",
     "output_type": "stream",
     "text": [
      "\r\n",
      "Evaluating:  33%|███████████████████▎                                       | 18/55 [00:29<01:02,  1.70s/it]"
     ]
    },
    {
     "name": "stderr",
     "output_type": "stream",
     "text": [
      "\r\n",
      "Evaluating:  35%|████████████████████▍                                      | 19/55 [00:31<01:01,  1.70s/it]"
     ]
    },
    {
     "name": "stderr",
     "output_type": "stream",
     "text": [
      "\r\n",
      "Evaluating:  36%|█████████████████████▍                                     | 20/55 [00:32<00:59,  1.69s/it]"
     ]
    },
    {
     "name": "stderr",
     "output_type": "stream",
     "text": [
      "\r\n",
      "Evaluating:  38%|██████████████████████▌                                    | 21/55 [00:34<00:58,  1.71s/it]"
     ]
    },
    {
     "name": "stderr",
     "output_type": "stream",
     "text": [
      "\r\n",
      "Evaluating:  40%|███████████████████████▌                                   | 22/55 [00:36<00:56,  1.71s/it]"
     ]
    },
    {
     "name": "stderr",
     "output_type": "stream",
     "text": [
      "\r\n",
      "Evaluating:  42%|████████████████████████▋                                  | 23/55 [00:36<00:42,  1.33s/it]"
     ]
    },
    {
     "name": "stderr",
     "output_type": "stream",
     "text": [
      "\r\n",
      "Evaluating:  44%|█████████████████████████▋                                 | 24/55 [00:38<00:46,  1.49s/it]"
     ]
    },
    {
     "name": "stderr",
     "output_type": "stream",
     "text": [
      "\r\n",
      "Evaluating:  45%|██████████████████████████▊                                | 25/55 [00:40<00:48,  1.61s/it]"
     ]
    },
    {
     "name": "stderr",
     "output_type": "stream",
     "text": [
      "\r\n",
      "Evaluating:  47%|███████████████████████████▉                               | 26/55 [00:42<00:49,  1.69s/it]"
     ]
    },
    {
     "name": "stderr",
     "output_type": "stream",
     "text": [
      "\r\n",
      "Evaluating:  49%|████████████████████████████▉                              | 27/55 [00:44<00:49,  1.76s/it]"
     ]
    },
    {
     "name": "stderr",
     "output_type": "stream",
     "text": [
      "\r\n",
      "Evaluating:  51%|██████████████████████████████                             | 28/55 [00:46<00:48,  1.80s/it]"
     ]
    },
    {
     "name": "stderr",
     "output_type": "stream",
     "text": [
      "\r\n",
      "Evaluating:  53%|███████████████████████████████                            | 29/55 [00:47<00:46,  1.80s/it]"
     ]
    },
    {
     "name": "stderr",
     "output_type": "stream",
     "text": [
      "\r\n",
      "Evaluating:  55%|████████████████████████████████▏                          | 30/55 [00:49<00:44,  1.77s/it]"
     ]
    },
    {
     "name": "stderr",
     "output_type": "stream",
     "text": [
      "\r\n",
      "Evaluating:  56%|█████████████████████████████████▎                         | 31/55 [00:51<00:41,  1.75s/it]"
     ]
    },
    {
     "name": "stderr",
     "output_type": "stream",
     "text": [
      "\r\n",
      "Evaluating:  58%|██████████████████████████████████▎                        | 32/55 [00:53<00:39,  1.72s/it]"
     ]
    },
    {
     "name": "stderr",
     "output_type": "stream",
     "text": [
      "\r\n",
      "Evaluating:  60%|███████████████████████████████████▍                       | 33/55 [00:54<00:37,  1.72s/it]"
     ]
    },
    {
     "name": "stderr",
     "output_type": "stream",
     "text": [
      "\r\n",
      "Evaluating:  62%|████████████████████████████████████▍                      | 34/55 [00:56<00:36,  1.72s/it]"
     ]
    },
    {
     "name": "stderr",
     "output_type": "stream",
     "text": [
      "\r\n",
      "Evaluating:  64%|█████████████████████████████████████▌                     | 35/55 [00:58<00:34,  1.72s/it]"
     ]
    },
    {
     "name": "stderr",
     "output_type": "stream",
     "text": [
      "\r\n",
      "Evaluating:  65%|██████████████████████████████████████▌                    | 36/55 [00:59<00:32,  1.72s/it]"
     ]
    },
    {
     "name": "stderr",
     "output_type": "stream",
     "text": [
      "\r\n",
      "Evaluating:  67%|███████████████████████████████████████▋                   | 37/55 [01:01<00:30,  1.71s/it]"
     ]
    },
    {
     "name": "stderr",
     "output_type": "stream",
     "text": [
      "\r\n",
      "Evaluating:  69%|████████████████████████████████████████▊                  | 38/55 [01:03<00:29,  1.71s/it]"
     ]
    },
    {
     "name": "stderr",
     "output_type": "stream",
     "text": [
      "\r\n",
      "Evaluating:  71%|█████████████████████████████████████████▊                 | 39/55 [01:04<00:27,  1.69s/it]"
     ]
    },
    {
     "name": "stderr",
     "output_type": "stream",
     "text": [
      "\r\n",
      "Evaluating:  73%|██████████████████████████████████████████▉                | 40/55 [01:06<00:25,  1.70s/it]"
     ]
    },
    {
     "name": "stderr",
     "output_type": "stream",
     "text": [
      "\r\n",
      "Evaluating:  75%|███████████████████████████████████████████▉               | 41/55 [01:07<00:18,  1.32s/it]"
     ]
    },
    {
     "name": "stderr",
     "output_type": "stream",
     "text": [
      "\r\n",
      "Evaluating:  76%|█████████████████████████████████████████████              | 42/55 [01:08<00:18,  1.44s/it]"
     ]
    },
    {
     "name": "stderr",
     "output_type": "stream",
     "text": [
      "\r\n",
      "Evaluating:  78%|██████████████████████████████████████████████▏            | 43/55 [01:10<00:18,  1.52s/it]"
     ]
    },
    {
     "name": "stderr",
     "output_type": "stream",
     "text": [
      "\r\n",
      "Evaluating:  80%|███████████████████████████████████████████████▏           | 44/55 [01:12<00:17,  1.57s/it]"
     ]
    },
    {
     "name": "stderr",
     "output_type": "stream",
     "text": [
      "\r\n",
      "Evaluating:  82%|████████████████████████████████████████████████▎          | 45/55 [01:13<00:16,  1.61s/it]"
     ]
    },
    {
     "name": "stderr",
     "output_type": "stream",
     "text": [
      "\r\n",
      "Evaluating:  84%|█████████████████████████████████████████████████▎         | 46/55 [01:15<00:14,  1.63s/it]"
     ]
    },
    {
     "name": "stderr",
     "output_type": "stream",
     "text": [
      "\r\n",
      "Evaluating:  85%|██████████████████████████████████████████████████▍        | 47/55 [01:17<00:13,  1.65s/it]"
     ]
    },
    {
     "name": "stderr",
     "output_type": "stream",
     "text": [
      "\r\n",
      "Evaluating:  87%|███████████████████████████████████████████████████▍       | 48/55 [01:18<00:11,  1.67s/it]"
     ]
    },
    {
     "name": "stderr",
     "output_type": "stream",
     "text": [
      "\r\n",
      "Evaluating:  89%|████████████████████████████████████████████████████▌      | 49/55 [01:20<00:10,  1.68s/it]"
     ]
    },
    {
     "name": "stderr",
     "output_type": "stream",
     "text": [
      "\r\n",
      "Evaluating:  91%|█████████████████████████████████████████████████████▋     | 50/55 [01:22<00:08,  1.69s/it]"
     ]
    },
    {
     "name": "stderr",
     "output_type": "stream",
     "text": [
      "\r\n",
      "Evaluating:  93%|██████████████████████████████████████████████████████▋    | 51/55 [01:24<00:06,  1.69s/it]"
     ]
    },
    {
     "name": "stderr",
     "output_type": "stream",
     "text": [
      "\r\n",
      "Evaluating:  95%|███████████████████████████████████████████████████████▊   | 52/55 [01:25<00:05,  1.70s/it]"
     ]
    },
    {
     "name": "stderr",
     "output_type": "stream",
     "text": [
      "\r\n",
      "Evaluating:  96%|████████████████████████████████████████████████████████▊  | 53/55 [01:27<00:03,  1.70s/it]"
     ]
    },
    {
     "name": "stderr",
     "output_type": "stream",
     "text": [
      "\r\n",
      "Evaluating:  98%|█████████████████████████████████████████████████████████▉ | 54/55 [01:29<00:01,  1.71s/it]"
     ]
    },
    {
     "name": "stderr",
     "output_type": "stream",
     "text": [
      "\r\n",
      "Evaluating: 100%|███████████████████████████████████████████████████████████| 55/55 [01:29<00:00,  1.28s/it]"
     ]
    },
    {
     "name": "stderr",
     "output_type": "stream",
     "text": [
      "\r\n",
      "Evaluating: 100%|███████████████████████████████████████████████████████████| 55/55 [01:29<00:00,  1.63s/it]"
     ]
    },
    {
     "name": "stderr",
     "output_type": "stream",
     "text": [
      "\n",
      "INFO:src.models.trainer:Validation metrics: {'accuracy': 0.9841999425452456, 'f1': 0.9831646111989352, 'precision': 0.984354971883019, 'recall': 0.9841999425452456, 'auc': 0.9927967154603777, 'loss': 0.06573629600038244}\n"
     ]
    },
    {
     "name": "stderr",
     "output_type": "stream",
     "text": [
      "INFO:src.models.trainer:New best model with validation AUC: 0.9928\n"
     ]
    },
    {
     "name": "stderr",
     "output_type": "stream",
     "text": [
      "INFO:src.models.trainer:\n",
      "Epoch 2/3\n"
     ]
    },
    {
     "name": "stderr",
     "output_type": "stream",
     "text": [
      "\r\n",
      "Training:   0%|                                                                     | 0/254 [00:00<?, ?it/s]"
     ]
    },
    {
     "name": "stderr",
     "output_type": "stream",
     "text": [
      "/home/luuka/thesis/workspace/src/models/trainer.py:91: FutureWarning: `torch.cuda.amp.autocast(args...)` is deprecated. Please use `torch.amp.autocast('cuda', args...)` instead.\n",
      "  with torch.cuda.amp.autocast():\n"
     ]
    },
    {
     "name": "stderr",
     "output_type": "stream",
     "text": [
      "\r\n",
      "Training:   0%|                                                        | 0/254 [00:02<?, ?it/s, loss=0.0054]"
     ]
    },
    {
     "name": "stderr",
     "output_type": "stream",
     "text": [
      "\r\n",
      "Training:   0%|▏                                               | 1/254 [00:02<09:22,  2.22s/it, loss=0.0054]"
     ]
    },
    {
     "name": "stderr",
     "output_type": "stream",
     "text": [
      "\r\n",
      "Training:   0%|▏                                               | 1/254 [00:04<09:22,  2.22s/it, loss=0.0563]"
     ]
    },
    {
     "name": "stderr",
     "output_type": "stream",
     "text": [
      "\r\n",
      "Training:   1%|▍                                               | 2/254 [00:04<08:57,  2.13s/it, loss=0.0563]"
     ]
    },
    {
     "name": "stderr",
     "output_type": "stream",
     "text": [
      "\r\n",
      "Training:   1%|▍                                               | 2/254 [00:05<08:57,  2.13s/it, loss=0.0860]"
     ]
    },
    {
     "name": "stderr",
     "output_type": "stream",
     "text": [
      "\r\n",
      "Training:   1%|▌                                               | 3/254 [00:05<06:20,  1.52s/it, loss=0.0860]"
     ]
    },
    {
     "name": "stderr",
     "output_type": "stream",
     "text": [
      "\r\n",
      "Training:   1%|▌                                               | 3/254 [00:07<06:20,  1.52s/it, loss=0.1452]"
     ]
    },
    {
     "name": "stderr",
     "output_type": "stream",
     "text": [
      "\r\n",
      "Training:   2%|▊                                               | 4/254 [00:07<07:13,  1.73s/it, loss=0.1452]"
     ]
    },
    {
     "name": "stderr",
     "output_type": "stream",
     "text": [
      "\r\n",
      "Training:   2%|▊                                               | 4/254 [00:09<07:13,  1.73s/it, loss=0.0151]"
     ]
    },
    {
     "name": "stderr",
     "output_type": "stream",
     "text": [
      "\r\n",
      "Training:   2%|▉                                               | 5/254 [00:09<07:41,  1.85s/it, loss=0.0151]"
     ]
    },
    {
     "name": "stderr",
     "output_type": "stream",
     "text": [
      "\r\n",
      "Training:   2%|▉                                               | 5/254 [00:11<07:41,  1.85s/it, loss=0.0041]"
     ]
    },
    {
     "name": "stderr",
     "output_type": "stream",
     "text": [
      "\r\n",
      "Training:   2%|█▏                                              | 6/254 [00:11<07:57,  1.93s/it, loss=0.0041]"
     ]
    },
    {
     "name": "stderr",
     "output_type": "stream",
     "text": [
      "\r\n",
      "Training:   2%|█▏                                              | 6/254 [00:13<07:57,  1.93s/it, loss=0.0938]"
     ]
    },
    {
     "name": "stderr",
     "output_type": "stream",
     "text": [
      "\r\n",
      "Training:   3%|█▎                                              | 7/254 [00:13<08:07,  1.97s/it, loss=0.0938]"
     ]
    },
    {
     "name": "stderr",
     "output_type": "stream",
     "text": [
      "\r\n",
      "Training:   3%|█▎                                              | 7/254 [00:15<08:07,  1.97s/it, loss=0.0038]"
     ]
    },
    {
     "name": "stderr",
     "output_type": "stream",
     "text": [
      "\r\n",
      "Training:   3%|█▌                                              | 8/254 [00:15<08:12,  2.00s/it, loss=0.0038]"
     ]
    },
    {
     "name": "stderr",
     "output_type": "stream",
     "text": [
      "\r\n",
      "Training:   3%|█▌                                              | 8/254 [00:17<08:12,  2.00s/it, loss=0.0374]"
     ]
    },
    {
     "name": "stderr",
     "output_type": "stream",
     "text": [
      "\r\n",
      "Training:   4%|█▋                                              | 9/254 [00:17<08:15,  2.02s/it, loss=0.0374]"
     ]
    },
    {
     "name": "stderr",
     "output_type": "stream",
     "text": [
      "\r\n",
      "Training:   4%|█▋                                              | 9/254 [00:19<08:15,  2.02s/it, loss=0.0082]"
     ]
    },
    {
     "name": "stderr",
     "output_type": "stream",
     "text": [
      "\r\n",
      "Training:   4%|█▊                                             | 10/254 [00:19<08:17,  2.04s/it, loss=0.0082]"
     ]
    },
    {
     "name": "stderr",
     "output_type": "stream",
     "text": [
      "\r\n",
      "Training:   4%|█▊                                             | 10/254 [00:21<08:17,  2.04s/it, loss=0.0470]"
     ]
    },
    {
     "name": "stderr",
     "output_type": "stream",
     "text": [
      "\r\n",
      "Training:   4%|██                                             | 11/254 [00:21<08:18,  2.05s/it, loss=0.0470]"
     ]
    },
    {
     "name": "stderr",
     "output_type": "stream",
     "text": [
      "\r\n",
      "Training:   4%|██                                             | 11/254 [00:23<08:18,  2.05s/it, loss=0.0360]"
     ]
    },
    {
     "name": "stderr",
     "output_type": "stream",
     "text": [
      "\r\n",
      "Training:   5%|██▏                                            | 12/254 [00:23<08:17,  2.06s/it, loss=0.0360]"
     ]
    },
    {
     "name": "stderr",
     "output_type": "stream",
     "text": [
      "\r\n",
      "Training:   5%|██▏                                            | 12/254 [00:25<08:17,  2.06s/it, loss=0.0283]"
     ]
    },
    {
     "name": "stderr",
     "output_type": "stream",
     "text": [
      "\r\n",
      "Training:   5%|██▍                                            | 13/254 [00:25<08:16,  2.06s/it, loss=0.0283]"
     ]
    },
    {
     "name": "stderr",
     "output_type": "stream",
     "text": [
      "\r\n",
      "Training:   5%|██▍                                            | 13/254 [00:27<08:16,  2.06s/it, loss=0.0105]"
     ]
    },
    {
     "name": "stderr",
     "output_type": "stream",
     "text": [
      "\r\n",
      "Training:   6%|██▌                                            | 14/254 [00:27<08:15,  2.06s/it, loss=0.0105]"
     ]
    },
    {
     "name": "stderr",
     "output_type": "stream",
     "text": [
      "\r\n",
      "Training:   6%|██▌                                            | 14/254 [00:29<08:15,  2.06s/it, loss=0.0054]"
     ]
    },
    {
     "name": "stderr",
     "output_type": "stream",
     "text": [
      "\r\n",
      "Training:   6%|██▊                                            | 15/254 [00:29<08:13,  2.07s/it, loss=0.0054]"
     ]
    },
    {
     "name": "stderr",
     "output_type": "stream",
     "text": [
      "\r\n",
      "Training:   6%|██▊                                            | 15/254 [00:31<08:13,  2.07s/it, loss=0.0200]"
     ]
    },
    {
     "name": "stderr",
     "output_type": "stream",
     "text": [
      "\r\n",
      "Training:   6%|██▉                                            | 16/254 [00:31<08:12,  2.07s/it, loss=0.0200]"
     ]
    },
    {
     "name": "stderr",
     "output_type": "stream",
     "text": [
      "\r\n",
      "Training:   6%|██▉                                            | 16/254 [00:34<08:12,  2.07s/it, loss=0.0121]"
     ]
    },
    {
     "name": "stderr",
     "output_type": "stream",
     "text": [
      "\r\n",
      "Training:   7%|███▏                                           | 17/254 [00:34<08:10,  2.07s/it, loss=0.0121]"
     ]
    },
    {
     "name": "stderr",
     "output_type": "stream",
     "text": [
      "\r\n",
      "Training:   7%|███▏                                           | 17/254 [00:36<08:10,  2.07s/it, loss=0.0729]"
     ]
    },
    {
     "name": "stderr",
     "output_type": "stream",
     "text": [
      "\r\n",
      "Training:   7%|███▎                                           | 18/254 [00:36<08:08,  2.07s/it, loss=0.0729]"
     ]
    },
    {
     "name": "stderr",
     "output_type": "stream",
     "text": [
      "\r\n",
      "Training:   7%|███▎                                           | 18/254 [00:36<08:08,  2.07s/it, loss=0.0037]"
     ]
    },
    {
     "name": "stderr",
     "output_type": "stream",
     "text": [
      "\r\n",
      "Training:   7%|███▌                                           | 19/254 [00:36<06:40,  1.70s/it, loss=0.0037]"
     ]
    },
    {
     "name": "stderr",
     "output_type": "stream",
     "text": [
      "\r\n",
      "Training:   7%|███▌                                           | 19/254 [00:39<06:40,  1.70s/it, loss=0.0066]"
     ]
    },
    {
     "name": "stderr",
     "output_type": "stream",
     "text": [
      "\r\n",
      "Training:   8%|███▋                                           | 20/254 [00:39<07:04,  1.81s/it, loss=0.0066]"
     ]
    },
    {
     "name": "stderr",
     "output_type": "stream",
     "text": [
      "\r\n",
      "Training:   8%|███▋                                           | 20/254 [00:41<07:04,  1.81s/it, loss=0.0049]"
     ]
    },
    {
     "name": "stderr",
     "output_type": "stream",
     "text": [
      "\r\n",
      "Training:   8%|███▉                                           | 21/254 [00:41<07:20,  1.89s/it, loss=0.0049]"
     ]
    },
    {
     "name": "stderr",
     "output_type": "stream",
     "text": [
      "\r\n",
      "Training:   8%|███▉                                           | 21/254 [00:43<07:20,  1.89s/it, loss=0.0041]"
     ]
    },
    {
     "name": "stderr",
     "output_type": "stream",
     "text": [
      "\r\n",
      "Training:   9%|████                                           | 22/254 [00:43<07:30,  1.94s/it, loss=0.0041]"
     ]
    },
    {
     "name": "stderr",
     "output_type": "stream",
     "text": [
      "\r\n",
      "Training:   9%|████                                           | 22/254 [00:45<07:30,  1.94s/it, loss=0.0025]"
     ]
    },
    {
     "name": "stderr",
     "output_type": "stream",
     "text": [
      "\r\n",
      "Training:   9%|████▎                                          | 23/254 [00:45<07:37,  1.98s/it, loss=0.0025]"
     ]
    },
    {
     "name": "stderr",
     "output_type": "stream",
     "text": [
      "\r\n",
      "Training:   9%|████▎                                          | 23/254 [00:47<07:37,  1.98s/it, loss=0.1016]"
     ]
    },
    {
     "name": "stderr",
     "output_type": "stream",
     "text": [
      "\r\n",
      "Training:   9%|████▍                                          | 24/254 [00:47<07:41,  2.01s/it, loss=0.1016]"
     ]
    },
    {
     "name": "stderr",
     "output_type": "stream",
     "text": [
      "\r\n",
      "Training:   9%|████▍                                          | 24/254 [00:49<07:41,  2.01s/it, loss=0.0647]"
     ]
    },
    {
     "name": "stderr",
     "output_type": "stream",
     "text": [
      "\r\n",
      "Training:  10%|████▋                                          | 25/254 [00:49<07:43,  2.03s/it, loss=0.0647]"
     ]
    },
    {
     "name": "stderr",
     "output_type": "stream",
     "text": [
      "\r\n",
      "Training:  10%|████▋                                          | 25/254 [00:51<07:43,  2.03s/it, loss=0.0026]"
     ]
    },
    {
     "name": "stderr",
     "output_type": "stream",
     "text": [
      "\r\n",
      "Training:  10%|████▊                                          | 26/254 [00:51<08:00,  2.11s/it, loss=0.0026]"
     ]
    },
    {
     "name": "stderr",
     "output_type": "stream",
     "text": [
      "\r\n",
      "Training:  10%|████▊                                          | 26/254 [00:53<08:00,  2.11s/it, loss=0.0888]"
     ]
    },
    {
     "name": "stderr",
     "output_type": "stream",
     "text": [
      "\r\n",
      "Training:  11%|████▉                                          | 27/254 [00:53<07:57,  2.10s/it, loss=0.0888]"
     ]
    },
    {
     "name": "stderr",
     "output_type": "stream",
     "text": [
      "\r\n",
      "Training:  11%|████▉                                          | 27/254 [00:55<07:57,  2.10s/it, loss=0.1012]"
     ]
    },
    {
     "name": "stderr",
     "output_type": "stream",
     "text": [
      "\r\n",
      "Training:  11%|█████▏                                         | 28/254 [00:55<07:52,  2.09s/it, loss=0.1012]"
     ]
    },
    {
     "name": "stderr",
     "output_type": "stream",
     "text": [
      "\r\n",
      "Training:  11%|█████▏                                         | 28/254 [00:58<07:52,  2.09s/it, loss=0.0794]"
     ]
    },
    {
     "name": "stderr",
     "output_type": "stream",
     "text": [
      "\r\n",
      "Training:  11%|█████▎                                         | 29/254 [00:58<08:25,  2.24s/it, loss=0.0794]"
     ]
    },
    {
     "name": "stderr",
     "output_type": "stream",
     "text": [
      "\r\n",
      "Training:  11%|█████▎                                         | 29/254 [01:00<08:25,  2.24s/it, loss=0.0876]"
     ]
    },
    {
     "name": "stderr",
     "output_type": "stream",
     "text": [
      "\r\n",
      "Training:  12%|█████▌                                         | 30/254 [01:00<08:25,  2.26s/it, loss=0.0876]"
     ]
    },
    {
     "name": "stderr",
     "output_type": "stream",
     "text": [
      "\r\n",
      "Training:  12%|█████▌                                         | 30/254 [01:03<08:25,  2.26s/it, loss=0.0042]"
     ]
    },
    {
     "name": "stderr",
     "output_type": "stream",
     "text": [
      "\r\n",
      "Training:  12%|█████▋                                         | 31/254 [01:03<08:30,  2.29s/it, loss=0.0042]"
     ]
    },
    {
     "name": "stderr",
     "output_type": "stream",
     "text": [
      "\r\n",
      "Training:  12%|█████▋                                         | 31/254 [01:05<08:30,  2.29s/it, loss=0.0115]"
     ]
    },
    {
     "name": "stderr",
     "output_type": "stream",
     "text": [
      "\r\n",
      "Training:  13%|█████▉                                         | 32/254 [01:05<08:32,  2.31s/it, loss=0.0115]"
     ]
    },
    {
     "name": "stderr",
     "output_type": "stream",
     "text": [
      "\r\n",
      "Training:  13%|█████▉                                         | 32/254 [01:06<08:32,  2.31s/it, loss=0.0065]"
     ]
    },
    {
     "name": "stderr",
     "output_type": "stream",
     "text": [
      "\r\n",
      "Training:  13%|██████                                         | 33/254 [01:06<07:05,  1.93s/it, loss=0.0065]"
     ]
    },
    {
     "name": "stderr",
     "output_type": "stream",
     "text": [
      "\r\n",
      "Training:  13%|██████                                         | 33/254 [01:08<07:05,  1.93s/it, loss=0.0695]"
     ]
    },
    {
     "name": "stderr",
     "output_type": "stream",
     "text": [
      "\r\n",
      "Training:  13%|██████▎                                        | 34/254 [01:08<07:30,  2.05s/it, loss=0.0695]"
     ]
    },
    {
     "name": "stderr",
     "output_type": "stream",
     "text": [
      "\r\n",
      "Training:  13%|██████▎                                        | 34/254 [01:11<07:30,  2.05s/it, loss=0.0174]"
     ]
    },
    {
     "name": "stderr",
     "output_type": "stream",
     "text": [
      "\r\n",
      "Training:  14%|██████▍                                        | 35/254 [01:11<08:02,  2.20s/it, loss=0.0174]"
     ]
    },
    {
     "name": "stderr",
     "output_type": "stream",
     "text": [
      "\r\n",
      "Training:  14%|██████▍                                        | 35/254 [01:13<08:02,  2.20s/it, loss=0.0375]"
     ]
    },
    {
     "name": "stderr",
     "output_type": "stream",
     "text": [
      "\r\n",
      "Training:  14%|██████▋                                        | 36/254 [01:13<08:06,  2.23s/it, loss=0.0375]"
     ]
    },
    {
     "name": "stderr",
     "output_type": "stream",
     "text": [
      "\r\n",
      "Training:  14%|██████▋                                        | 36/254 [01:16<08:06,  2.23s/it, loss=0.0360]"
     ]
    },
    {
     "name": "stderr",
     "output_type": "stream",
     "text": [
      "\r\n",
      "Training:  15%|██████▊                                        | 37/254 [01:16<08:16,  2.29s/it, loss=0.0360]"
     ]
    },
    {
     "name": "stderr",
     "output_type": "stream",
     "text": [
      "\r\n",
      "Training:  15%|██████▊                                        | 37/254 [01:18<08:16,  2.29s/it, loss=0.0172]"
     ]
    },
    {
     "name": "stderr",
     "output_type": "stream",
     "text": [
      "\r\n",
      "Training:  15%|███████                                        | 38/254 [01:18<08:20,  2.32s/it, loss=0.0172]"
     ]
    },
    {
     "name": "stderr",
     "output_type": "stream",
     "text": [
      "\r\n",
      "Training:  15%|███████                                        | 38/254 [01:20<08:20,  2.32s/it, loss=0.0190]"
     ]
    },
    {
     "name": "stderr",
     "output_type": "stream",
     "text": [
      "\r\n",
      "Training:  15%|███████▏                                       | 39/254 [01:20<08:23,  2.34s/it, loss=0.0190]"
     ]
    },
    {
     "name": "stderr",
     "output_type": "stream",
     "text": [
      "\r\n",
      "Training:  15%|███████▏                                       | 39/254 [01:22<08:23,  2.34s/it, loss=0.0776]"
     ]
    },
    {
     "name": "stderr",
     "output_type": "stream",
     "text": [
      "\r\n",
      "Training:  16%|███████▍                                       | 40/254 [01:22<08:04,  2.27s/it, loss=0.0776]"
     ]
    },
    {
     "name": "stderr",
     "output_type": "stream",
     "text": [
      "\r\n",
      "Training:  16%|███████▍                                       | 40/254 [01:25<08:04,  2.27s/it, loss=0.0494]"
     ]
    },
    {
     "name": "stderr",
     "output_type": "stream",
     "text": [
      "\r\n",
      "Training:  16%|███████▌                                       | 41/254 [01:25<07:50,  2.21s/it, loss=0.0494]"
     ]
    },
    {
     "name": "stderr",
     "output_type": "stream",
     "text": [
      "\r\n",
      "Training:  16%|███████▌                                       | 41/254 [01:27<07:50,  2.21s/it, loss=0.0072]"
     ]
    },
    {
     "name": "stderr",
     "output_type": "stream",
     "text": [
      "\r\n",
      "Training:  17%|███████▊                                       | 42/254 [01:27<07:39,  2.17s/it, loss=0.0072]"
     ]
    },
    {
     "name": "stderr",
     "output_type": "stream",
     "text": [
      "\r\n",
      "Training:  17%|███████▊                                       | 42/254 [01:29<07:39,  2.17s/it, loss=0.0083]"
     ]
    },
    {
     "name": "stderr",
     "output_type": "stream",
     "text": [
      "\r\n",
      "Training:  17%|███████▉                                       | 43/254 [01:29<07:31,  2.14s/it, loss=0.0083]"
     ]
    },
    {
     "name": "stderr",
     "output_type": "stream",
     "text": [
      "\r\n",
      "Training:  17%|███████▉                                       | 43/254 [01:31<07:31,  2.14s/it, loss=0.1169]"
     ]
    },
    {
     "name": "stderr",
     "output_type": "stream",
     "text": [
      "\r\n",
      "Training:  17%|████████▏                                      | 44/254 [01:31<07:24,  2.12s/it, loss=0.1169]"
     ]
    },
    {
     "name": "stderr",
     "output_type": "stream",
     "text": [
      "\r\n",
      "Training:  17%|████████▏                                      | 44/254 [01:33<07:24,  2.12s/it, loss=0.0248]"
     ]
    },
    {
     "name": "stderr",
     "output_type": "stream",
     "text": [
      "\r\n",
      "Training:  18%|████████▎                                      | 45/254 [01:33<07:19,  2.10s/it, loss=0.0248]"
     ]
    },
    {
     "name": "stderr",
     "output_type": "stream",
     "text": [
      "\r\n",
      "Training:  18%|████████▎                                      | 45/254 [01:35<07:19,  2.10s/it, loss=0.0087]"
     ]
    },
    {
     "name": "stderr",
     "output_type": "stream",
     "text": [
      "\r\n",
      "Training:  18%|████████▌                                      | 46/254 [01:35<07:15,  2.09s/it, loss=0.0087]"
     ]
    },
    {
     "name": "stderr",
     "output_type": "stream",
     "text": [
      "\r\n",
      "Training:  18%|████████▌                                      | 46/254 [01:37<07:15,  2.09s/it, loss=0.0075]"
     ]
    },
    {
     "name": "stderr",
     "output_type": "stream",
     "text": [
      "\r\n",
      "Training:  19%|████████▋                                      | 47/254 [01:37<07:11,  2.08s/it, loss=0.0075]"
     ]
    },
    {
     "name": "stderr",
     "output_type": "stream",
     "text": [
      "\r\n",
      "Training:  19%|████████▋                                      | 47/254 [01:38<07:11,  2.08s/it, loss=0.0833]"
     ]
    },
    {
     "name": "stderr",
     "output_type": "stream",
     "text": [
      "\r\n",
      "Training:  19%|████████▉                                      | 48/254 [01:38<05:52,  1.71s/it, loss=0.0833]"
     ]
    },
    {
     "name": "stderr",
     "output_type": "stream",
     "text": [
      "\r\n",
      "Training:  19%|████████▉                                      | 48/254 [01:40<05:52,  1.71s/it, loss=0.0833]"
     ]
    },
    {
     "name": "stderr",
     "output_type": "stream",
     "text": [
      "\r\n",
      "Training:  19%|█████████                                      | 49/254 [01:40<06:12,  1.82s/it, loss=0.0833]"
     ]
    },
    {
     "name": "stderr",
     "output_type": "stream",
     "text": [
      "\r\n",
      "Training:  19%|█████████                                      | 49/254 [01:42<06:12,  1.82s/it, loss=0.0449]"
     ]
    },
    {
     "name": "stderr",
     "output_type": "stream",
     "text": [
      "\r\n",
      "Training:  20%|█████████▎                                     | 50/254 [01:42<06:26,  1.89s/it, loss=0.0449]"
     ]
    },
    {
     "name": "stderr",
     "output_type": "stream",
     "text": [
      "\r\n",
      "Training:  20%|█████████▎                                     | 50/254 [01:44<06:26,  1.89s/it, loss=0.0376]"
     ]
    },
    {
     "name": "stderr",
     "output_type": "stream",
     "text": [
      "\r\n",
      "Training:  20%|█████████▍                                     | 51/254 [01:44<06:35,  1.95s/it, loss=0.0376]"
     ]
    },
    {
     "name": "stderr",
     "output_type": "stream",
     "text": [
      "\r\n",
      "Training:  20%|█████████▍                                     | 51/254 [01:46<06:35,  1.95s/it, loss=0.0159]"
     ]
    },
    {
     "name": "stderr",
     "output_type": "stream",
     "text": [
      "\r\n",
      "Training:  20%|█████████▌                                     | 52/254 [01:46<06:40,  1.98s/it, loss=0.0159]"
     ]
    },
    {
     "name": "stderr",
     "output_type": "stream",
     "text": [
      "\r\n",
      "Training:  20%|█████████▌                                     | 52/254 [01:48<06:40,  1.98s/it, loss=0.0289]"
     ]
    },
    {
     "name": "stderr",
     "output_type": "stream",
     "text": [
      "\r\n",
      "Training:  21%|█████████▊                                     | 53/254 [01:48<06:43,  2.01s/it, loss=0.0289]"
     ]
    },
    {
     "name": "stderr",
     "output_type": "stream",
     "text": [
      "\r\n",
      "Training:  21%|█████████▊                                     | 53/254 [01:50<06:43,  2.01s/it, loss=0.0872]"
     ]
    },
    {
     "name": "stderr",
     "output_type": "stream",
     "text": [
      "\r\n",
      "Training:  21%|█████████▉                                     | 54/254 [01:50<06:45,  2.03s/it, loss=0.0872]"
     ]
    },
    {
     "name": "stderr",
     "output_type": "stream",
     "text": [
      "\r\n",
      "Training:  21%|█████████▉                                     | 54/254 [01:52<06:45,  2.03s/it, loss=0.0855]"
     ]
    },
    {
     "name": "stderr",
     "output_type": "stream",
     "text": [
      "\r\n",
      "Training:  22%|██████████▏                                    | 55/254 [01:52<06:45,  2.04s/it, loss=0.0855]"
     ]
    },
    {
     "name": "stderr",
     "output_type": "stream",
     "text": [
      "\r\n",
      "Training:  22%|██████████▏                                    | 55/254 [01:54<06:45,  2.04s/it, loss=0.0243]"
     ]
    },
    {
     "name": "stderr",
     "output_type": "stream",
     "text": [
      "\r\n",
      "Training:  22%|██████████▎                                    | 56/254 [01:54<06:45,  2.05s/it, loss=0.0243]"
     ]
    },
    {
     "name": "stderr",
     "output_type": "stream",
     "text": [
      "\r\n",
      "Training:  22%|██████████▎                                    | 56/254 [01:56<06:45,  2.05s/it, loss=0.0427]"
     ]
    },
    {
     "name": "stderr",
     "output_type": "stream",
     "text": [
      "\r\n",
      "Training:  22%|██████████▌                                    | 57/254 [01:56<06:45,  2.06s/it, loss=0.0427]"
     ]
    },
    {
     "name": "stderr",
     "output_type": "stream",
     "text": [
      "\r\n",
      "Training:  22%|██████████▌                                    | 57/254 [01:59<06:45,  2.06s/it, loss=0.1067]"
     ]
    },
    {
     "name": "stderr",
     "output_type": "stream",
     "text": [
      "\r\n",
      "Training:  23%|██████████▋                                    | 58/254 [01:59<06:43,  2.06s/it, loss=0.1067]"
     ]
    },
    {
     "name": "stderr",
     "output_type": "stream",
     "text": [
      "\r\n",
      "Training:  23%|██████████▋                                    | 58/254 [02:01<06:43,  2.06s/it, loss=0.0906]"
     ]
    },
    {
     "name": "stderr",
     "output_type": "stream",
     "text": [
      "\r\n",
      "Training:  23%|██████████▉                                    | 59/254 [02:01<06:42,  2.07s/it, loss=0.0906]"
     ]
    },
    {
     "name": "stderr",
     "output_type": "stream",
     "text": [
      "\r\n",
      "Training:  23%|██████████▉                                    | 59/254 [02:03<06:42,  2.07s/it, loss=0.0164]"
     ]
    },
    {
     "name": "stderr",
     "output_type": "stream",
     "text": [
      "\r\n",
      "Training:  24%|███████████                                    | 60/254 [02:03<06:41,  2.07s/it, loss=0.0164]"
     ]
    },
    {
     "name": "stderr",
     "output_type": "stream",
     "text": [
      "\r\n",
      "Training:  24%|███████████                                    | 60/254 [02:05<06:41,  2.07s/it, loss=0.0146]"
     ]
    },
    {
     "name": "stderr",
     "output_type": "stream",
     "text": [
      "\r\n",
      "Training:  24%|███████████▎                                   | 61/254 [02:05<06:39,  2.07s/it, loss=0.0146]"
     ]
    },
    {
     "name": "stderr",
     "output_type": "stream",
     "text": [
      "\r\n",
      "Training:  24%|███████████▎                                   | 61/254 [02:07<06:39,  2.07s/it, loss=0.1007]"
     ]
    },
    {
     "name": "stderr",
     "output_type": "stream",
     "text": [
      "\r\n",
      "Training:  24%|███████████▍                                   | 62/254 [02:07<06:37,  2.07s/it, loss=0.1007]"
     ]
    },
    {
     "name": "stderr",
     "output_type": "stream",
     "text": [
      "\r\n",
      "Training:  24%|███████████▍                                   | 62/254 [02:09<06:37,  2.07s/it, loss=0.0074]"
     ]
    },
    {
     "name": "stderr",
     "output_type": "stream",
     "text": [
      "\r\n",
      "Training:  25%|███████████▋                                   | 63/254 [02:09<06:35,  2.07s/it, loss=0.0074]"
     ]
    },
    {
     "name": "stderr",
     "output_type": "stream",
     "text": [
      "\r\n",
      "Training:  25%|███████████▋                                   | 63/254 [02:10<06:35,  2.07s/it, loss=0.0122]"
     ]
    },
    {
     "name": "stderr",
     "output_type": "stream",
     "text": [
      "\r\n",
      "Training:  25%|███████████▊                                   | 64/254 [02:10<05:23,  1.70s/it, loss=0.0122]"
     ]
    },
    {
     "name": "stderr",
     "output_type": "stream",
     "text": [
      "\r\n",
      "Training:  25%|███████████▊                                   | 64/254 [02:12<05:23,  1.70s/it, loss=0.0105]"
     ]
    },
    {
     "name": "stderr",
     "output_type": "stream",
     "text": [
      "\r\n",
      "Training:  26%|████████████                                   | 65/254 [02:12<05:42,  1.81s/it, loss=0.0105]"
     ]
    },
    {
     "name": "stderr",
     "output_type": "stream",
     "text": [
      "\r\n",
      "Training:  26%|████████████                                   | 65/254 [02:14<05:42,  1.81s/it, loss=0.0161]"
     ]
    },
    {
     "name": "stderr",
     "output_type": "stream",
     "text": [
      "\r\n",
      "Training:  26%|████████████▏                                  | 66/254 [02:14<05:55,  1.89s/it, loss=0.0161]"
     ]
    },
    {
     "name": "stderr",
     "output_type": "stream",
     "text": [
      "\r\n",
      "Training:  26%|████████████▏                                  | 66/254 [02:16<05:55,  1.89s/it, loss=0.0060]"
     ]
    },
    {
     "name": "stderr",
     "output_type": "stream",
     "text": [
      "\r\n",
      "Training:  26%|████████████▍                                  | 67/254 [02:16<06:03,  1.94s/it, loss=0.0060]"
     ]
    },
    {
     "name": "stderr",
     "output_type": "stream",
     "text": [
      "\r\n",
      "Training:  26%|████████████▍                                  | 67/254 [02:18<06:03,  1.94s/it, loss=0.0631]"
     ]
    },
    {
     "name": "stderr",
     "output_type": "stream",
     "text": [
      "\r\n",
      "Training:  27%|████████████▌                                  | 68/254 [02:18<06:08,  1.98s/it, loss=0.0631]"
     ]
    },
    {
     "name": "stderr",
     "output_type": "stream",
     "text": [
      "\r\n",
      "Training:  27%|████████████▌                                  | 68/254 [02:20<06:08,  1.98s/it, loss=0.0049]"
     ]
    },
    {
     "name": "stderr",
     "output_type": "stream",
     "text": [
      "\r\n",
      "Training:  27%|████████████▊                                  | 69/254 [02:20<06:11,  2.01s/it, loss=0.0049]"
     ]
    },
    {
     "name": "stderr",
     "output_type": "stream",
     "text": [
      "\r\n",
      "Training:  27%|████████████▊                                  | 69/254 [02:22<06:11,  2.01s/it, loss=0.0069]"
     ]
    },
    {
     "name": "stderr",
     "output_type": "stream",
     "text": [
      "\r\n",
      "Training:  28%|████████████▉                                  | 70/254 [02:22<06:13,  2.03s/it, loss=0.0069]"
     ]
    },
    {
     "name": "stderr",
     "output_type": "stream",
     "text": [
      "\r\n",
      "Training:  28%|████████████▉                                  | 70/254 [02:24<06:13,  2.03s/it, loss=0.0333]"
     ]
    },
    {
     "name": "stderr",
     "output_type": "stream",
     "text": [
      "\r\n",
      "Training:  28%|█████████████▏                                 | 71/254 [02:24<06:13,  2.04s/it, loss=0.0333]"
     ]
    },
    {
     "name": "stderr",
     "output_type": "stream",
     "text": [
      "\r\n",
      "Training:  28%|█████████████▏                                 | 71/254 [02:27<06:13,  2.04s/it, loss=0.0086]"
     ]
    },
    {
     "name": "stderr",
     "output_type": "stream",
     "text": [
      "\r\n",
      "Training:  28%|█████████████▎                                 | 72/254 [02:27<06:36,  2.18s/it, loss=0.0086]"
     ]
    },
    {
     "name": "stderr",
     "output_type": "stream",
     "text": [
      "\r\n",
      "Training:  28%|█████████████▎                                 | 72/254 [02:29<06:36,  2.18s/it, loss=0.0933]"
     ]
    },
    {
     "name": "stderr",
     "output_type": "stream",
     "text": [
      "\r\n",
      "Training:  29%|█████████████▌                                 | 73/254 [02:29<06:44,  2.24s/it, loss=0.0933]"
     ]
    },
    {
     "name": "stderr",
     "output_type": "stream",
     "text": [
      "\r\n",
      "Training:  29%|█████████████▌                                 | 73/254 [02:31<06:44,  2.24s/it, loss=0.0055]"
     ]
    },
    {
     "name": "stderr",
     "output_type": "stream",
     "text": [
      "\r\n",
      "Training:  29%|█████████████▋                                 | 74/254 [02:31<06:33,  2.19s/it, loss=0.0055]"
     ]
    },
    {
     "name": "stderr",
     "output_type": "stream",
     "text": [
      "\r\n",
      "Training:  29%|█████████████▋                                 | 74/254 [02:34<06:33,  2.19s/it, loss=0.0161]"
     ]
    },
    {
     "name": "stderr",
     "output_type": "stream",
     "text": [
      "\r\n",
      "Training:  30%|█████████████▉                                 | 75/254 [02:34<06:41,  2.24s/it, loss=0.0161]"
     ]
    },
    {
     "name": "stderr",
     "output_type": "stream",
     "text": [
      "\r\n",
      "Training:  30%|█████████████▉                                 | 75/254 [02:36<06:41,  2.24s/it, loss=0.0035]"
     ]
    },
    {
     "name": "stderr",
     "output_type": "stream",
     "text": [
      "\r\n",
      "Training:  30%|██████████████                                 | 76/254 [02:36<06:45,  2.28s/it, loss=0.0035]"
     ]
    },
    {
     "name": "stderr",
     "output_type": "stream",
     "text": [
      "\r\n",
      "Training:  30%|██████████████                                 | 76/254 [02:38<06:45,  2.28s/it, loss=0.0069]"
     ]
    },
    {
     "name": "stderr",
     "output_type": "stream",
     "text": [
      "\r\n",
      "Training:  30%|██████████████▏                                | 77/254 [02:38<06:40,  2.26s/it, loss=0.0069]"
     ]
    },
    {
     "name": "stderr",
     "output_type": "stream",
     "text": [
      "\r\n",
      "Training:  30%|██████████████▏                                | 77/254 [02:39<06:40,  2.26s/it, loss=0.0089]"
     ]
    },
    {
     "name": "stderr",
     "output_type": "stream",
     "text": [
      "\r\n",
      "Training:  31%|██████████████▍                                | 78/254 [02:39<05:30,  1.88s/it, loss=0.0089]"
     ]
    },
    {
     "name": "stderr",
     "output_type": "stream",
     "text": [
      "\r\n",
      "Training:  31%|██████████████▍                                | 78/254 [02:41<05:30,  1.88s/it, loss=0.0087]"
     ]
    },
    {
     "name": "stderr",
     "output_type": "stream",
     "text": [
      "\r\n",
      "Training:  31%|██████████████▌                                | 79/254 [02:41<05:42,  1.96s/it, loss=0.0087]"
     ]
    },
    {
     "name": "stderr",
     "output_type": "stream",
     "text": [
      "\r\n",
      "Training:  31%|██████████████▌                                | 79/254 [02:44<05:42,  1.96s/it, loss=0.0037]"
     ]
    },
    {
     "name": "stderr",
     "output_type": "stream",
     "text": [
      "\r\n",
      "Training:  31%|██████████████▊                                | 80/254 [02:44<05:59,  2.06s/it, loss=0.0037]"
     ]
    },
    {
     "name": "stderr",
     "output_type": "stream",
     "text": [
      "\r\n",
      "Training:  31%|██████████████▊                                | 80/254 [02:46<05:59,  2.06s/it, loss=0.0196]"
     ]
    },
    {
     "name": "stderr",
     "output_type": "stream",
     "text": [
      "\r\n",
      "Training:  32%|██████████████▉                                | 81/254 [02:46<06:17,  2.18s/it, loss=0.0196]"
     ]
    },
    {
     "name": "stderr",
     "output_type": "stream",
     "text": [
      "\r\n",
      "Training:  32%|██████████████▉                                | 81/254 [02:48<06:17,  2.18s/it, loss=0.0380]"
     ]
    },
    {
     "name": "stderr",
     "output_type": "stream",
     "text": [
      "\r\n",
      "Training:  32%|███████████████▏                               | 82/254 [02:48<06:22,  2.22s/it, loss=0.0380]"
     ]
    },
    {
     "name": "stderr",
     "output_type": "stream",
     "text": [
      "\r\n",
      "Training:  32%|███████████████▏                               | 82/254 [02:51<06:22,  2.22s/it, loss=0.0059]"
     ]
    },
    {
     "name": "stderr",
     "output_type": "stream",
     "text": [
      "\r\n",
      "Training:  33%|███████████████▎                               | 83/254 [02:51<06:21,  2.23s/it, loss=0.0059]"
     ]
    },
    {
     "name": "stderr",
     "output_type": "stream",
     "text": [
      "\r\n",
      "Training:  33%|███████████████▎                               | 83/254 [02:53<06:21,  2.23s/it, loss=0.0501]"
     ]
    },
    {
     "name": "stderr",
     "output_type": "stream",
     "text": [
      "\r\n",
      "Training:  33%|███████████████▌                               | 84/254 [02:53<06:15,  2.21s/it, loss=0.0501]"
     ]
    },
    {
     "name": "stderr",
     "output_type": "stream",
     "text": [
      "\r\n",
      "Training:  33%|███████████████▌                               | 84/254 [02:55<06:15,  2.21s/it, loss=0.0043]"
     ]
    },
    {
     "name": "stderr",
     "output_type": "stream",
     "text": [
      "\r\n",
      "Training:  33%|███████████████▋                               | 85/254 [02:55<06:24,  2.28s/it, loss=0.0043]"
     ]
    },
    {
     "name": "stderr",
     "output_type": "stream",
     "text": [
      "\r\n",
      "Training:  33%|███████████████▋                               | 85/254 [02:57<06:24,  2.28s/it, loss=0.0378]"
     ]
    },
    {
     "name": "stderr",
     "output_type": "stream",
     "text": [
      "\r\n",
      "Training:  34%|███████████████▉                               | 86/254 [02:57<06:20,  2.26s/it, loss=0.0378]"
     ]
    },
    {
     "name": "stderr",
     "output_type": "stream",
     "text": [
      "\r\n",
      "Training:  34%|███████████████▉                               | 86/254 [03:00<06:20,  2.26s/it, loss=0.0046]"
     ]
    },
    {
     "name": "stderr",
     "output_type": "stream",
     "text": [
      "\r\n",
      "Training:  34%|████████████████                               | 87/254 [03:00<06:15,  2.25s/it, loss=0.0046]"
     ]
    },
    {
     "name": "stderr",
     "output_type": "stream",
     "text": [
      "\r\n",
      "Training:  34%|████████████████                               | 87/254 [03:02<06:15,  2.25s/it, loss=0.0302]"
     ]
    },
    {
     "name": "stderr",
     "output_type": "stream",
     "text": [
      "\r\n",
      "Training:  35%|████████████████▎                              | 88/254 [03:02<06:05,  2.20s/it, loss=0.0302]"
     ]
    },
    {
     "name": "stderr",
     "output_type": "stream",
     "text": [
      "\r\n",
      "Training:  35%|████████████████▎                              | 88/254 [03:04<06:05,  2.20s/it, loss=0.0056]"
     ]
    },
    {
     "name": "stderr",
     "output_type": "stream",
     "text": [
      "\r\n",
      "Training:  35%|████████████████▍                              | 89/254 [03:04<05:56,  2.16s/it, loss=0.0056]"
     ]
    },
    {
     "name": "stderr",
     "output_type": "stream",
     "text": [
      "\r\n",
      "Training:  35%|████████████████▍                              | 89/254 [03:06<05:56,  2.16s/it, loss=0.0026]"
     ]
    },
    {
     "name": "stderr",
     "output_type": "stream",
     "text": [
      "\r\n",
      "Training:  35%|████████████████▋                              | 90/254 [03:06<05:51,  2.14s/it, loss=0.0026]"
     ]
    },
    {
     "name": "stderr",
     "output_type": "stream",
     "text": [
      "\r\n",
      "Training:  35%|████████████████▋                              | 90/254 [03:08<05:51,  2.14s/it, loss=0.0143]"
     ]
    },
    {
     "name": "stderr",
     "output_type": "stream",
     "text": [
      "\r\n",
      "Training:  36%|████████████████▊                              | 91/254 [03:08<05:46,  2.13s/it, loss=0.0143]"
     ]
    },
    {
     "name": "stderr",
     "output_type": "stream",
     "text": [
      "\r\n",
      "Training:  36%|████████████████▊                              | 91/254 [03:10<05:46,  2.13s/it, loss=0.0026]"
     ]
    },
    {
     "name": "stderr",
     "output_type": "stream",
     "text": [
      "\r\n",
      "Training:  36%|█████████████████                              | 92/254 [03:10<05:42,  2.12s/it, loss=0.0026]"
     ]
    },
    {
     "name": "stderr",
     "output_type": "stream",
     "text": [
      "\r\n",
      "Training:  36%|█████████████████                              | 92/254 [03:11<05:42,  2.12s/it, loss=0.0035]"
     ]
    },
    {
     "name": "stderr",
     "output_type": "stream",
     "text": [
      "\r\n",
      "Training:  37%|█████████████████▏                             | 93/254 [03:11<04:36,  1.72s/it, loss=0.0035]"
     ]
    },
    {
     "name": "stderr",
     "output_type": "stream",
     "text": [
      "\r\n",
      "Training:  37%|█████████████████▏                             | 93/254 [03:13<04:36,  1.72s/it, loss=0.0035]"
     ]
    },
    {
     "name": "stderr",
     "output_type": "stream",
     "text": [
      "\r\n",
      "Training:  37%|█████████████████▍                             | 94/254 [03:13<05:03,  1.90s/it, loss=0.0035]"
     ]
    },
    {
     "name": "stderr",
     "output_type": "stream",
     "text": [
      "\r\n",
      "Training:  37%|█████████████████▍                             | 94/254 [03:15<05:03,  1.90s/it, loss=0.0072]"
     ]
    },
    {
     "name": "stderr",
     "output_type": "stream",
     "text": [
      "\r\n",
      "Training:  37%|█████████████████▌                             | 95/254 [03:15<05:19,  2.01s/it, loss=0.0072]"
     ]
    },
    {
     "name": "stderr",
     "output_type": "stream",
     "text": [
      "\r\n",
      "Training:  37%|█████████████████▌                             | 95/254 [03:18<05:19,  2.01s/it, loss=0.0283]"
     ]
    },
    {
     "name": "stderr",
     "output_type": "stream",
     "text": [
      "\r\n",
      "Training:  38%|█████████████████▊                             | 96/254 [03:18<05:27,  2.07s/it, loss=0.0283]"
     ]
    },
    {
     "name": "stderr",
     "output_type": "stream",
     "text": [
      "\r\n",
      "Training:  38%|█████████████████▊                             | 96/254 [03:20<05:27,  2.07s/it, loss=0.0025]"
     ]
    },
    {
     "name": "stderr",
     "output_type": "stream",
     "text": [
      "\r\n",
      "Training:  38%|█████████████████▉                             | 97/254 [03:20<05:32,  2.12s/it, loss=0.0025]"
     ]
    },
    {
     "name": "stderr",
     "output_type": "stream",
     "text": [
      "\r\n",
      "Training:  38%|█████████████████▉                             | 97/254 [03:22<05:32,  2.12s/it, loss=0.0066]"
     ]
    },
    {
     "name": "stderr",
     "output_type": "stream",
     "text": [
      "\r\n",
      "Training:  39%|██████████████████▏                            | 98/254 [03:22<05:32,  2.13s/it, loss=0.0066]"
     ]
    },
    {
     "name": "stderr",
     "output_type": "stream",
     "text": [
      "\r\n",
      "Training:  39%|██████████████████▏                            | 98/254 [03:24<05:32,  2.13s/it, loss=0.0040]"
     ]
    },
    {
     "name": "stderr",
     "output_type": "stream",
     "text": [
      "\r\n",
      "Training:  39%|██████████████████▎                            | 99/254 [03:24<05:39,  2.19s/it, loss=0.0040]"
     ]
    },
    {
     "name": "stderr",
     "output_type": "stream",
     "text": [
      "\r\n",
      "Training:  39%|██████████████████▎                            | 99/254 [03:27<05:39,  2.19s/it, loss=0.0045]"
     ]
    },
    {
     "name": "stderr",
     "output_type": "stream",
     "text": [
      "\r\n",
      "Training:  39%|██████████████████                            | 100/254 [03:27<05:42,  2.22s/it, loss=0.0045]"
     ]
    },
    {
     "name": "stderr",
     "output_type": "stream",
     "text": [
      "\r\n",
      "Training:  39%|██████████████████                            | 100/254 [03:29<05:42,  2.22s/it, loss=0.0037]"
     ]
    },
    {
     "name": "stderr",
     "output_type": "stream",
     "text": [
      "\r\n",
      "Training:  40%|██████████████████▎                           | 101/254 [03:29<05:42,  2.24s/it, loss=0.0037]"
     ]
    },
    {
     "name": "stderr",
     "output_type": "stream",
     "text": [
      "\r\n",
      "Training:  40%|██████████████████▎                           | 101/254 [03:31<05:42,  2.24s/it, loss=0.0310]"
     ]
    },
    {
     "name": "stderr",
     "output_type": "stream",
     "text": [
      "\r\n",
      "Training:  40%|██████████████████▍                           | 102/254 [03:31<05:33,  2.20s/it, loss=0.0310]"
     ]
    },
    {
     "name": "stderr",
     "output_type": "stream",
     "text": [
      "\r\n",
      "Training:  40%|██████████████████▍                           | 102/254 [03:33<05:33,  2.20s/it, loss=0.0692]"
     ]
    },
    {
     "name": "stderr",
     "output_type": "stream",
     "text": [
      "\r\n",
      "Training:  41%|██████████████████▋                           | 103/254 [03:33<05:27,  2.17s/it, loss=0.0692]"
     ]
    },
    {
     "name": "stderr",
     "output_type": "stream",
     "text": [
      "\r\n",
      "Training:  41%|██████████████████▋                           | 103/254 [03:35<05:27,  2.17s/it, loss=0.0724]"
     ]
    },
    {
     "name": "stderr",
     "output_type": "stream",
     "text": [
      "\r\n",
      "Training:  41%|██████████████████▊                           | 104/254 [03:35<05:25,  2.17s/it, loss=0.0724]"
     ]
    },
    {
     "name": "stderr",
     "output_type": "stream",
     "text": [
      "\r\n",
      "Training:  41%|██████████████████▊                           | 104/254 [03:37<05:25,  2.17s/it, loss=0.0547]"
     ]
    },
    {
     "name": "stderr",
     "output_type": "stream",
     "text": [
      "\r\n",
      "Training:  41%|███████████████████                           | 105/254 [03:37<05:23,  2.17s/it, loss=0.0547]"
     ]
    },
    {
     "name": "stderr",
     "output_type": "stream",
     "text": [
      "\r\n",
      "Training:  41%|███████████████████                           | 105/254 [03:40<05:23,  2.17s/it, loss=0.1200]"
     ]
    },
    {
     "name": "stderr",
     "output_type": "stream",
     "text": [
      "\r\n",
      "Training:  42%|███████████████████▏                          | 106/254 [03:40<05:16,  2.14s/it, loss=0.1200]"
     ]
    },
    {
     "name": "stderr",
     "output_type": "stream",
     "text": [
      "\r\n",
      "Training:  42%|███████████████████▏                          | 106/254 [03:42<05:16,  2.14s/it, loss=0.0224]"
     ]
    },
    {
     "name": "stderr",
     "output_type": "stream",
     "text": [
      "\r\n",
      "Training:  42%|███████████████████▍                          | 107/254 [03:42<05:12,  2.12s/it, loss=0.0224]"
     ]
    },
    {
     "name": "stderr",
     "output_type": "stream",
     "text": [
      "\r\n",
      "Training:  42%|███████████████████▍                          | 107/254 [03:42<05:12,  2.12s/it, loss=0.0247]"
     ]
    },
    {
     "name": "stderr",
     "output_type": "stream",
     "text": [
      "\r\n",
      "Training:  43%|███████████████████▌                          | 108/254 [03:42<04:14,  1.74s/it, loss=0.0247]"
     ]
    },
    {
     "name": "stderr",
     "output_type": "stream",
     "text": [
      "\r\n",
      "Training:  43%|███████████████████▌                          | 108/254 [03:45<04:14,  1.74s/it, loss=0.0075]"
     ]
    },
    {
     "name": "stderr",
     "output_type": "stream",
     "text": [
      "\r\n",
      "Training:  43%|███████████████████▋                          | 109/254 [03:45<04:29,  1.86s/it, loss=0.0075]"
     ]
    },
    {
     "name": "stderr",
     "output_type": "stream",
     "text": [
      "\r\n",
      "Training:  43%|███████████████████▋                          | 109/254 [03:47<04:29,  1.86s/it, loss=0.0096]"
     ]
    },
    {
     "name": "stderr",
     "output_type": "stream",
     "text": [
      "\r\n",
      "Training:  43%|███████████████████▉                          | 110/254 [03:47<04:37,  1.92s/it, loss=0.0096]"
     ]
    },
    {
     "name": "stderr",
     "output_type": "stream",
     "text": [
      "\r\n",
      "Training:  43%|███████████████████▉                          | 110/254 [03:49<04:37,  1.92s/it, loss=0.1034]"
     ]
    },
    {
     "name": "stderr",
     "output_type": "stream",
     "text": [
      "\r\n",
      "Training:  44%|████████████████████                          | 111/254 [03:49<04:41,  1.97s/it, loss=0.1034]"
     ]
    },
    {
     "name": "stderr",
     "output_type": "stream",
     "text": [
      "\r\n",
      "Training:  44%|████████████████████                          | 111/254 [03:51<04:41,  1.97s/it, loss=0.0838]"
     ]
    },
    {
     "name": "stderr",
     "output_type": "stream",
     "text": [
      "\r\n",
      "Training:  44%|████████████████████▎                         | 112/254 [03:51<04:43,  2.00s/it, loss=0.0838]"
     ]
    },
    {
     "name": "stderr",
     "output_type": "stream",
     "text": [
      "\r\n",
      "Training:  44%|████████████████████▎                         | 112/254 [03:53<04:43,  2.00s/it, loss=0.0150]"
     ]
    },
    {
     "name": "stderr",
     "output_type": "stream",
     "text": [
      "\r\n",
      "Training:  44%|████████████████████▍                         | 113/254 [03:53<04:44,  2.02s/it, loss=0.0150]"
     ]
    },
    {
     "name": "stderr",
     "output_type": "stream",
     "text": [
      "\r\n",
      "Training:  44%|████████████████████▍                         | 113/254 [03:55<04:44,  2.02s/it, loss=0.0560]"
     ]
    },
    {
     "name": "stderr",
     "output_type": "stream",
     "text": [
      "\r\n",
      "Training:  45%|████████████████████▋                         | 114/254 [03:55<04:44,  2.03s/it, loss=0.0560]"
     ]
    },
    {
     "name": "stderr",
     "output_type": "stream",
     "text": [
      "\r\n",
      "Training:  45%|████████████████████▋                         | 114/254 [03:57<04:44,  2.03s/it, loss=0.0690]"
     ]
    },
    {
     "name": "stderr",
     "output_type": "stream",
     "text": [
      "\r\n",
      "Training:  45%|████████████████████▊                         | 115/254 [03:57<04:44,  2.04s/it, loss=0.0690]"
     ]
    },
    {
     "name": "stderr",
     "output_type": "stream",
     "text": [
      "\r\n",
      "Training:  45%|████████████████████▊                         | 115/254 [03:59<04:44,  2.04s/it, loss=0.0096]"
     ]
    },
    {
     "name": "stderr",
     "output_type": "stream",
     "text": [
      "\r\n",
      "Training:  46%|█████████████████████                         | 116/254 [03:59<04:43,  2.05s/it, loss=0.0096]"
     ]
    },
    {
     "name": "stderr",
     "output_type": "stream",
     "text": [
      "\r\n",
      "Training:  46%|█████████████████████                         | 116/254 [04:01<04:43,  2.05s/it, loss=0.0933]"
     ]
    },
    {
     "name": "stderr",
     "output_type": "stream",
     "text": [
      "\r\n",
      "Training:  46%|█████████████████████▏                        | 117/254 [04:01<04:42,  2.06s/it, loss=0.0933]"
     ]
    },
    {
     "name": "stderr",
     "output_type": "stream",
     "text": [
      "\r\n",
      "Training:  46%|█████████████████████▏                        | 117/254 [04:03<04:42,  2.06s/it, loss=0.0035]"
     ]
    },
    {
     "name": "stderr",
     "output_type": "stream",
     "text": [
      "\r\n",
      "Training:  46%|█████████████████████▎                        | 118/254 [04:03<04:41,  2.07s/it, loss=0.0035]"
     ]
    },
    {
     "name": "stderr",
     "output_type": "stream",
     "text": [
      "\r\n",
      "Training:  46%|█████████████████████▎                        | 118/254 [04:05<04:41,  2.07s/it, loss=0.0103]"
     ]
    },
    {
     "name": "stderr",
     "output_type": "stream",
     "text": [
      "\r\n",
      "Training:  47%|█████████████████████▌                        | 119/254 [04:05<04:39,  2.07s/it, loss=0.0103]"
     ]
    },
    {
     "name": "stderr",
     "output_type": "stream",
     "text": [
      "\r\n",
      "Training:  47%|█████████████████████▌                        | 119/254 [04:07<04:39,  2.07s/it, loss=0.0189]"
     ]
    },
    {
     "name": "stderr",
     "output_type": "stream",
     "text": [
      "\r\n",
      "Training:  47%|█████████████████████▋                        | 120/254 [04:07<04:37,  2.07s/it, loss=0.0189]"
     ]
    },
    {
     "name": "stderr",
     "output_type": "stream",
     "text": [
      "\r\n",
      "Training:  47%|█████████████████████▋                        | 120/254 [04:09<04:37,  2.07s/it, loss=0.0053]"
     ]
    },
    {
     "name": "stderr",
     "output_type": "stream",
     "text": [
      "\r\n",
      "Training:  48%|█████████████████████▉                        | 121/254 [04:09<04:35,  2.07s/it, loss=0.0053]"
     ]
    },
    {
     "name": "stderr",
     "output_type": "stream",
     "text": [
      "\r\n",
      "Training:  48%|█████████████████████▉                        | 121/254 [04:12<04:35,  2.07s/it, loss=0.0051]"
     ]
    },
    {
     "name": "stderr",
     "output_type": "stream",
     "text": [
      "\r\n",
      "Training:  48%|██████████████████████                        | 122/254 [04:12<04:33,  2.07s/it, loss=0.0051]"
     ]
    },
    {
     "name": "stderr",
     "output_type": "stream",
     "text": [
      "\r\n",
      "Training:  48%|██████████████████████                        | 122/254 [04:12<04:33,  2.07s/it, loss=0.0049]"
     ]
    },
    {
     "name": "stderr",
     "output_type": "stream",
     "text": [
      "\r\n",
      "Training:  48%|██████████████████████▎                       | 123/254 [04:12<03:42,  1.70s/it, loss=0.0049]"
     ]
    },
    {
     "name": "stderr",
     "output_type": "stream",
     "text": [
      "\r\n",
      "Training:  48%|██████████████████████▎                       | 123/254 [04:14<03:42,  1.70s/it, loss=0.0036]"
     ]
    },
    {
     "name": "stderr",
     "output_type": "stream",
     "text": [
      "\r\n",
      "Training:  49%|██████████████████████▍                       | 124/254 [04:14<03:55,  1.81s/it, loss=0.0036]"
     ]
    },
    {
     "name": "stderr",
     "output_type": "stream",
     "text": [
      "\r\n",
      "Training:  49%|██████████████████████▍                       | 124/254 [04:17<03:55,  1.81s/it, loss=0.0613]"
     ]
    },
    {
     "name": "stderr",
     "output_type": "stream",
     "text": [
      "\r\n",
      "Training:  49%|██████████████████████▋                       | 125/254 [04:17<04:03,  1.89s/it, loss=0.0613]"
     ]
    },
    {
     "name": "stderr",
     "output_type": "stream",
     "text": [
      "\r\n",
      "Training:  49%|██████████████████████▋                       | 125/254 [04:19<04:03,  1.89s/it, loss=0.0931]"
     ]
    },
    {
     "name": "stderr",
     "output_type": "stream",
     "text": [
      "\r\n",
      "Training:  50%|██████████████████████▊                       | 126/254 [04:19<04:08,  1.94s/it, loss=0.0931]"
     ]
    },
    {
     "name": "stderr",
     "output_type": "stream",
     "text": [
      "\r\n",
      "Training:  50%|██████████████████████▊                       | 126/254 [04:21<04:08,  1.94s/it, loss=0.0054]"
     ]
    },
    {
     "name": "stderr",
     "output_type": "stream",
     "text": [
      "\r\n",
      "Training:  50%|███████████████████████                       | 127/254 [04:21<04:11,  1.98s/it, loss=0.0054]"
     ]
    },
    {
     "name": "stderr",
     "output_type": "stream",
     "text": [
      "\r\n",
      "Training:  50%|███████████████████████                       | 127/254 [04:23<04:11,  1.98s/it, loss=0.0575]"
     ]
    },
    {
     "name": "stderr",
     "output_type": "stream",
     "text": [
      "\r\n",
      "Training:  50%|███████████████████████▏                      | 128/254 [04:23<04:13,  2.01s/it, loss=0.0575]"
     ]
    },
    {
     "name": "stderr",
     "output_type": "stream",
     "text": [
      "\r\n",
      "Training:  50%|███████████████████████▏                      | 128/254 [04:25<04:13,  2.01s/it, loss=0.0296]"
     ]
    },
    {
     "name": "stderr",
     "output_type": "stream",
     "text": [
      "\r\n",
      "Training:  51%|███████████████████████▎                      | 129/254 [04:25<04:13,  2.03s/it, loss=0.0296]"
     ]
    },
    {
     "name": "stderr",
     "output_type": "stream",
     "text": [
      "\r\n",
      "Training:  51%|███████████████████████▎                      | 129/254 [04:27<04:13,  2.03s/it, loss=0.0031]"
     ]
    },
    {
     "name": "stderr",
     "output_type": "stream",
     "text": [
      "\r\n",
      "Training:  51%|███████████████████████▌                      | 130/254 [04:27<04:13,  2.04s/it, loss=0.0031]"
     ]
    },
    {
     "name": "stderr",
     "output_type": "stream",
     "text": [
      "\r\n",
      "Training:  51%|███████████████████████▌                      | 130/254 [04:29<04:13,  2.04s/it, loss=0.0391]"
     ]
    },
    {
     "name": "stderr",
     "output_type": "stream",
     "text": [
      "\r\n",
      "Training:  52%|███████████████████████▋                      | 131/254 [04:29<04:12,  2.05s/it, loss=0.0391]"
     ]
    },
    {
     "name": "stderr",
     "output_type": "stream",
     "text": [
      "\r\n",
      "Training:  52%|███████████████████████▋                      | 131/254 [04:31<04:12,  2.05s/it, loss=0.0165]"
     ]
    },
    {
     "name": "stderr",
     "output_type": "stream",
     "text": [
      "\r\n",
      "Training:  52%|███████████████████████▉                      | 132/254 [04:31<04:11,  2.06s/it, loss=0.0165]"
     ]
    },
    {
     "name": "stderr",
     "output_type": "stream",
     "text": [
      "\r\n",
      "Training:  52%|███████████████████████▉                      | 132/254 [04:33<04:11,  2.06s/it, loss=0.0023]"
     ]
    },
    {
     "name": "stderr",
     "output_type": "stream",
     "text": [
      "\r\n",
      "Training:  52%|████████████████████████                      | 133/254 [04:33<04:09,  2.07s/it, loss=0.0023]"
     ]
    },
    {
     "name": "stderr",
     "output_type": "stream",
     "text": [
      "\r\n",
      "Training:  52%|████████████████████████                      | 133/254 [04:35<04:09,  2.07s/it, loss=0.0043]"
     ]
    },
    {
     "name": "stderr",
     "output_type": "stream",
     "text": [
      "\r\n",
      "Training:  53%|████████████████████████▎                     | 134/254 [04:35<04:08,  2.07s/it, loss=0.0043]"
     ]
    },
    {
     "name": "stderr",
     "output_type": "stream",
     "text": [
      "\r\n",
      "Training:  53%|████████████████████████▎                     | 134/254 [04:37<04:08,  2.07s/it, loss=0.1524]"
     ]
    },
    {
     "name": "stderr",
     "output_type": "stream",
     "text": [
      "\r\n",
      "Training:  53%|████████████████████████▍                     | 135/254 [04:37<04:06,  2.07s/it, loss=0.1524]"
     ]
    },
    {
     "name": "stderr",
     "output_type": "stream",
     "text": [
      "\r\n",
      "Training:  53%|████████████████████████▍                     | 135/254 [04:39<04:06,  2.07s/it, loss=0.0168]"
     ]
    },
    {
     "name": "stderr",
     "output_type": "stream",
     "text": [
      "\r\n",
      "Training:  54%|████████████████████████▋                     | 136/254 [04:39<04:04,  2.07s/it, loss=0.0168]"
     ]
    },
    {
     "name": "stderr",
     "output_type": "stream",
     "text": [
      "\r\n",
      "Training:  54%|████████████████████████▋                     | 136/254 [04:41<04:04,  2.07s/it, loss=0.0036]"
     ]
    },
    {
     "name": "stderr",
     "output_type": "stream",
     "text": [
      "\r\n",
      "Training:  54%|████████████████████████▊                     | 137/254 [04:41<04:02,  2.07s/it, loss=0.0036]"
     ]
    },
    {
     "name": "stderr",
     "output_type": "stream",
     "text": [
      "\r\n",
      "Training:  54%|████████████████████████▊                     | 137/254 [04:43<04:02,  2.07s/it, loss=0.0167]"
     ]
    },
    {
     "name": "stderr",
     "output_type": "stream",
     "text": [
      "\r\n",
      "Training:  54%|████████████████████████▉                     | 138/254 [04:43<04:00,  2.07s/it, loss=0.0167]"
     ]
    },
    {
     "name": "stderr",
     "output_type": "stream",
     "text": [
      "\r\n",
      "Training:  54%|████████████████████████▉                     | 138/254 [04:44<04:00,  2.07s/it, loss=0.0045]"
     ]
    },
    {
     "name": "stderr",
     "output_type": "stream",
     "text": [
      "\r\n",
      "Training:  55%|█████████████████████████▏                    | 139/254 [04:44<03:15,  1.70s/it, loss=0.0045]"
     ]
    },
    {
     "name": "stderr",
     "output_type": "stream",
     "text": [
      "\r\n",
      "Training:  55%|█████████████████████████▏                    | 139/254 [04:46<03:15,  1.70s/it, loss=0.0624]"
     ]
    },
    {
     "name": "stderr",
     "output_type": "stream",
     "text": [
      "\r\n",
      "Training:  55%|█████████████████████████▎                    | 140/254 [04:46<03:26,  1.81s/it, loss=0.0624]"
     ]
    },
    {
     "name": "stderr",
     "output_type": "stream",
     "text": [
      "\r\n",
      "Training:  55%|█████████████████████████▎                    | 140/254 [04:48<03:26,  1.81s/it, loss=0.0201]"
     ]
    },
    {
     "name": "stderr",
     "output_type": "stream",
     "text": [
      "\r\n",
      "Training:  56%|█████████████████████████▌                    | 141/254 [04:48<03:33,  1.89s/it, loss=0.0201]"
     ]
    },
    {
     "name": "stderr",
     "output_type": "stream",
     "text": [
      "\r\n",
      "Training:  56%|█████████████████████████▌                    | 141/254 [04:51<03:33,  1.89s/it, loss=0.0148]"
     ]
    },
    {
     "name": "stderr",
     "output_type": "stream",
     "text": [
      "\r\n",
      "Training:  56%|█████████████████████████▋                    | 142/254 [04:51<03:37,  1.94s/it, loss=0.0148]"
     ]
    },
    {
     "name": "stderr",
     "output_type": "stream",
     "text": [
      "\r\n",
      "Training:  56%|█████████████████████████▋                    | 142/254 [04:53<03:37,  1.94s/it, loss=0.0976]"
     ]
    },
    {
     "name": "stderr",
     "output_type": "stream",
     "text": [
      "\r\n",
      "Training:  56%|█████████████████████████▉                    | 143/254 [04:53<03:39,  1.98s/it, loss=0.0976]"
     ]
    },
    {
     "name": "stderr",
     "output_type": "stream",
     "text": [
      "\r\n",
      "Training:  56%|█████████████████████████▉                    | 143/254 [04:55<03:39,  1.98s/it, loss=0.0500]"
     ]
    },
    {
     "name": "stderr",
     "output_type": "stream",
     "text": [
      "\r\n",
      "Training:  57%|██████████████████████████                    | 144/254 [04:55<03:40,  2.01s/it, loss=0.0500]"
     ]
    },
    {
     "name": "stderr",
     "output_type": "stream",
     "text": [
      "\r\n",
      "Training:  57%|██████████████████████████                    | 144/254 [04:57<03:40,  2.01s/it, loss=0.0057]"
     ]
    },
    {
     "name": "stderr",
     "output_type": "stream",
     "text": [
      "\r\n",
      "Training:  57%|██████████████████████████▎                   | 145/254 [04:57<03:40,  2.02s/it, loss=0.0057]"
     ]
    },
    {
     "name": "stderr",
     "output_type": "stream",
     "text": [
      "\r\n",
      "Training:  57%|██████████████████████████▎                   | 145/254 [04:59<03:40,  2.02s/it, loss=0.0080]"
     ]
    },
    {
     "name": "stderr",
     "output_type": "stream",
     "text": [
      "\r\n",
      "Training:  57%|██████████████████████████▍                   | 146/254 [04:59<03:40,  2.04s/it, loss=0.0080]"
     ]
    },
    {
     "name": "stderr",
     "output_type": "stream",
     "text": [
      "\r\n",
      "Training:  57%|██████████████████████████▍                   | 146/254 [05:01<03:40,  2.04s/it, loss=0.0363]"
     ]
    },
    {
     "name": "stderr",
     "output_type": "stream",
     "text": [
      "\r\n",
      "Training:  58%|██████████████████████████▌                   | 147/254 [05:01<03:39,  2.05s/it, loss=0.0363]"
     ]
    },
    {
     "name": "stderr",
     "output_type": "stream",
     "text": [
      "\r\n",
      "Training:  58%|██████████████████████████▌                   | 147/254 [05:03<03:39,  2.05s/it, loss=0.0215]"
     ]
    },
    {
     "name": "stderr",
     "output_type": "stream",
     "text": [
      "\r\n",
      "Training:  58%|██████████████████████████▊                   | 148/254 [05:03<03:37,  2.05s/it, loss=0.0215]"
     ]
    },
    {
     "name": "stderr",
     "output_type": "stream",
     "text": [
      "\r\n",
      "Training:  58%|██████████████████████████▊                   | 148/254 [05:05<03:37,  2.05s/it, loss=0.0926]"
     ]
    },
    {
     "name": "stderr",
     "output_type": "stream",
     "text": [
      "\r\n",
      "Training:  59%|██████████████████████████▉                   | 149/254 [05:05<03:36,  2.06s/it, loss=0.0926]"
     ]
    },
    {
     "name": "stderr",
     "output_type": "stream",
     "text": [
      "\r\n",
      "Training:  59%|██████████████████████████▉                   | 149/254 [05:07<03:36,  2.06s/it, loss=0.0378]"
     ]
    },
    {
     "name": "stderr",
     "output_type": "stream",
     "text": [
      "\r\n",
      "Training:  59%|███████████████████████████▏                  | 150/254 [05:07<03:34,  2.06s/it, loss=0.0378]"
     ]
    },
    {
     "name": "stderr",
     "output_type": "stream",
     "text": [
      "\r\n",
      "Training:  59%|███████████████████████████▏                  | 150/254 [05:09<03:34,  2.06s/it, loss=0.0588]"
     ]
    },
    {
     "name": "stderr",
     "output_type": "stream",
     "text": [
      "\r\n",
      "Training:  59%|███████████████████████████▎                  | 151/254 [05:09<03:32,  2.07s/it, loss=0.0588]"
     ]
    },
    {
     "name": "stderr",
     "output_type": "stream",
     "text": [
      "\r\n",
      "Training:  59%|███████████████████████████▎                  | 151/254 [05:11<03:32,  2.07s/it, loss=0.0157]"
     ]
    },
    {
     "name": "stderr",
     "output_type": "stream",
     "text": [
      "\r\n",
      "Training:  60%|███████████████████████████▌                  | 152/254 [05:11<03:30,  2.07s/it, loss=0.0157]"
     ]
    },
    {
     "name": "stderr",
     "output_type": "stream",
     "text": [
      "\r\n",
      "Training:  60%|███████████████████████████▌                  | 152/254 [05:13<03:30,  2.07s/it, loss=0.1778]"
     ]
    },
    {
     "name": "stderr",
     "output_type": "stream",
     "text": [
      "\r\n",
      "Training:  60%|███████████████████████████▋                  | 153/254 [05:13<03:28,  2.07s/it, loss=0.1778]"
     ]
    },
    {
     "name": "stderr",
     "output_type": "stream",
     "text": [
      "\r\n",
      "Training:  60%|███████████████████████████▋                  | 153/254 [05:14<03:28,  2.07s/it, loss=0.0163]"
     ]
    },
    {
     "name": "stderr",
     "output_type": "stream",
     "text": [
      "\r\n",
      "Training:  61%|███████████████████████████▉                  | 154/254 [05:14<02:49,  1.70s/it, loss=0.0163]"
     ]
    },
    {
     "name": "stderr",
     "output_type": "stream",
     "text": [
      "\r\n",
      "Training:  61%|███████████████████████████▉                  | 154/254 [05:16<02:49,  1.70s/it, loss=0.0811]"
     ]
    },
    {
     "name": "stderr",
     "output_type": "stream",
     "text": [
      "\r\n",
      "Training:  61%|████████████████████████████                  | 155/254 [05:16<02:58,  1.81s/it, loss=0.0811]"
     ]
    },
    {
     "name": "stderr",
     "output_type": "stream",
     "text": [
      "\r\n",
      "Training:  61%|████████████████████████████                  | 155/254 [05:18<02:58,  1.81s/it, loss=0.0102]"
     ]
    },
    {
     "name": "stderr",
     "output_type": "stream",
     "text": [
      "\r\n",
      "Training:  61%|████████████████████████████▎                 | 156/254 [05:18<03:04,  1.89s/it, loss=0.0102]"
     ]
    },
    {
     "name": "stderr",
     "output_type": "stream",
     "text": [
      "\r\n",
      "Training:  61%|████████████████████████████▎                 | 156/254 [05:20<03:04,  1.89s/it, loss=0.0060]"
     ]
    },
    {
     "name": "stderr",
     "output_type": "stream",
     "text": [
      "\r\n",
      "Training:  62%|████████████████████████████▍                 | 157/254 [05:20<03:08,  1.94s/it, loss=0.0060]"
     ]
    },
    {
     "name": "stderr",
     "output_type": "stream",
     "text": [
      "\r\n",
      "Training:  62%|████████████████████████████▍                 | 157/254 [05:22<03:08,  1.94s/it, loss=0.0075]"
     ]
    },
    {
     "name": "stderr",
     "output_type": "stream",
     "text": [
      "\r\n",
      "Training:  62%|████████████████████████████▌                 | 158/254 [05:22<03:10,  1.98s/it, loss=0.0075]"
     ]
    },
    {
     "name": "stderr",
     "output_type": "stream",
     "text": [
      "\r\n",
      "Training:  62%|████████████████████████████▌                 | 158/254 [05:24<03:10,  1.98s/it, loss=0.0139]"
     ]
    },
    {
     "name": "stderr",
     "output_type": "stream",
     "text": [
      "\r\n",
      "Training:  63%|████████████████████████████▊                 | 159/254 [05:24<03:10,  2.01s/it, loss=0.0139]"
     ]
    },
    {
     "name": "stderr",
     "output_type": "stream",
     "text": [
      "\r\n",
      "Training:  63%|████████████████████████████▊                 | 159/254 [05:27<03:10,  2.01s/it, loss=0.0188]"
     ]
    },
    {
     "name": "stderr",
     "output_type": "stream",
     "text": [
      "\r\n",
      "Training:  63%|████████████████████████████▉                 | 160/254 [05:27<03:10,  2.03s/it, loss=0.0188]"
     ]
    },
    {
     "name": "stderr",
     "output_type": "stream",
     "text": [
      "\r\n",
      "Training:  63%|████████████████████████████▉                 | 160/254 [05:29<03:10,  2.03s/it, loss=0.2167]"
     ]
    },
    {
     "name": "stderr",
     "output_type": "stream",
     "text": [
      "\r\n",
      "Training:  63%|█████████████████████████████▏                | 161/254 [05:29<03:09,  2.04s/it, loss=0.2167]"
     ]
    },
    {
     "name": "stderr",
     "output_type": "stream",
     "text": [
      "\r\n",
      "Training:  63%|█████████████████████████████▏                | 161/254 [05:31<03:09,  2.04s/it, loss=0.0081]"
     ]
    },
    {
     "name": "stderr",
     "output_type": "stream",
     "text": [
      "\r\n",
      "Training:  64%|█████████████████████████████▎                | 162/254 [05:31<03:08,  2.05s/it, loss=0.0081]"
     ]
    },
    {
     "name": "stderr",
     "output_type": "stream",
     "text": [
      "\r\n",
      "Training:  64%|█████████████████████████████▎                | 162/254 [05:33<03:08,  2.05s/it, loss=0.1117]"
     ]
    },
    {
     "name": "stderr",
     "output_type": "stream",
     "text": [
      "\r\n",
      "Training:  64%|█████████████████████████████▌                | 163/254 [05:33<03:07,  2.06s/it, loss=0.1117]"
     ]
    },
    {
     "name": "stderr",
     "output_type": "stream",
     "text": [
      "\r\n",
      "Training:  64%|█████████████████████████████▌                | 163/254 [05:35<03:07,  2.06s/it, loss=0.0221]"
     ]
    },
    {
     "name": "stderr",
     "output_type": "stream",
     "text": [
      "\r\n",
      "Training:  65%|█████████████████████████████▋                | 164/254 [05:35<03:05,  2.06s/it, loss=0.0221]"
     ]
    },
    {
     "name": "stderr",
     "output_type": "stream",
     "text": [
      "\r\n",
      "Training:  65%|█████████████████████████████▋                | 164/254 [05:37<03:05,  2.06s/it, loss=0.0032]"
     ]
    },
    {
     "name": "stderr",
     "output_type": "stream",
     "text": [
      "\r\n",
      "Training:  65%|█████████████████████████████▉                | 165/254 [05:37<03:04,  2.07s/it, loss=0.0032]"
     ]
    },
    {
     "name": "stderr",
     "output_type": "stream",
     "text": [
      "\r\n",
      "Training:  65%|█████████████████████████████▉                | 165/254 [05:39<03:04,  2.07s/it, loss=0.0969]"
     ]
    },
    {
     "name": "stderr",
     "output_type": "stream",
     "text": [
      "\r\n",
      "Training:  65%|██████████████████████████████                | 166/254 [05:39<03:02,  2.07s/it, loss=0.0969]"
     ]
    },
    {
     "name": "stderr",
     "output_type": "stream",
     "text": [
      "\r\n",
      "Training:  65%|██████████████████████████████                | 166/254 [05:41<03:02,  2.07s/it, loss=0.0188]"
     ]
    },
    {
     "name": "stderr",
     "output_type": "stream",
     "text": [
      "\r\n",
      "Training:  66%|██████████████████████████████▏               | 167/254 [05:41<03:00,  2.07s/it, loss=0.0188]"
     ]
    },
    {
     "name": "stderr",
     "output_type": "stream",
     "text": [
      "\r\n",
      "Training:  66%|██████████████████████████████▏               | 167/254 [05:43<03:00,  2.07s/it, loss=0.0052]"
     ]
    },
    {
     "name": "stderr",
     "output_type": "stream",
     "text": [
      "\r\n",
      "Training:  66%|██████████████████████████████▍               | 168/254 [05:43<02:57,  2.07s/it, loss=0.0052]"
     ]
    },
    {
     "name": "stderr",
     "output_type": "stream",
     "text": [
      "\r\n",
      "Training:  66%|██████████████████████████████▍               | 168/254 [05:45<02:57,  2.07s/it, loss=0.0049]"
     ]
    },
    {
     "name": "stderr",
     "output_type": "stream",
     "text": [
      "\r\n",
      "Training:  67%|██████████████████████████████▌               | 169/254 [05:45<02:55,  2.07s/it, loss=0.0049]"
     ]
    },
    {
     "name": "stderr",
     "output_type": "stream",
     "text": [
      "\r\n",
      "Training:  67%|██████████████████████████████▌               | 169/254 [05:46<02:55,  2.07s/it, loss=0.0087]"
     ]
    },
    {
     "name": "stderr",
     "output_type": "stream",
     "text": [
      "\r\n",
      "Training:  67%|██████████████████████████████▊               | 170/254 [05:46<02:22,  1.69s/it, loss=0.0087]"
     ]
    },
    {
     "name": "stderr",
     "output_type": "stream",
     "text": [
      "\r\n",
      "Training:  67%|██████████████████████████████▊               | 170/254 [05:48<02:22,  1.69s/it, loss=0.0047]"
     ]
    },
    {
     "name": "stderr",
     "output_type": "stream",
     "text": [
      "\r\n",
      "Training:  67%|██████████████████████████████▉               | 171/254 [05:48<02:29,  1.80s/it, loss=0.0047]"
     ]
    },
    {
     "name": "stderr",
     "output_type": "stream",
     "text": [
      "\r\n",
      "Training:  67%|██████████████████████████████▉               | 171/254 [05:50<02:29,  1.80s/it, loss=0.0045]"
     ]
    },
    {
     "name": "stderr",
     "output_type": "stream",
     "text": [
      "\r\n",
      "Training:  68%|███████████████████████████████▏              | 172/254 [05:50<02:34,  1.88s/it, loss=0.0045]"
     ]
    },
    {
     "name": "stderr",
     "output_type": "stream",
     "text": [
      "\r\n",
      "Training:  68%|███████████████████████████████▏              | 172/254 [05:52<02:34,  1.88s/it, loss=0.0936]"
     ]
    },
    {
     "name": "stderr",
     "output_type": "stream",
     "text": [
      "\r\n",
      "Training:  68%|███████████████████████████████▎              | 173/254 [05:52<02:37,  1.94s/it, loss=0.0936]"
     ]
    },
    {
     "name": "stderr",
     "output_type": "stream",
     "text": [
      "\r\n",
      "Training:  68%|███████████████████████████████▎              | 173/254 [05:54<02:37,  1.94s/it, loss=0.0293]"
     ]
    },
    {
     "name": "stderr",
     "output_type": "stream",
     "text": [
      "\r\n",
      "Training:  69%|███████████████████████████████▌              | 174/254 [05:54<02:38,  1.98s/it, loss=0.0293]"
     ]
    },
    {
     "name": "stderr",
     "output_type": "stream",
     "text": [
      "\r\n",
      "Training:  69%|███████████████████████████████▌              | 174/254 [05:56<02:38,  1.98s/it, loss=0.0798]"
     ]
    },
    {
     "name": "stderr",
     "output_type": "stream",
     "text": [
      "\r\n",
      "Training:  69%|███████████████████████████████▋              | 175/254 [05:56<02:38,  2.01s/it, loss=0.0798]"
     ]
    },
    {
     "name": "stderr",
     "output_type": "stream",
     "text": [
      "\r\n",
      "Training:  69%|███████████████████████████████▋              | 175/254 [05:58<02:38,  2.01s/it, loss=0.0053]"
     ]
    },
    {
     "name": "stderr",
     "output_type": "stream",
     "text": [
      "\r\n",
      "Training:  69%|███████████████████████████████▊              | 176/254 [05:58<02:38,  2.03s/it, loss=0.0053]"
     ]
    },
    {
     "name": "stderr",
     "output_type": "stream",
     "text": [
      "\r\n",
      "Training:  69%|███████████████████████████████▊              | 176/254 [06:01<02:38,  2.03s/it, loss=0.0046]"
     ]
    },
    {
     "name": "stderr",
     "output_type": "stream",
     "text": [
      "\r\n",
      "Training:  70%|████████████████████████████████              | 177/254 [06:01<02:37,  2.05s/it, loss=0.0046]"
     ]
    },
    {
     "name": "stderr",
     "output_type": "stream",
     "text": [
      "\r\n",
      "Training:  70%|████████████████████████████████              | 177/254 [06:03<02:37,  2.05s/it, loss=0.0059]"
     ]
    },
    {
     "name": "stderr",
     "output_type": "stream",
     "text": [
      "\r\n",
      "Training:  70%|████████████████████████████████▏             | 178/254 [06:03<02:36,  2.06s/it, loss=0.0059]"
     ]
    },
    {
     "name": "stderr",
     "output_type": "stream",
     "text": [
      "\r\n",
      "Training:  70%|████████████████████████████████▏             | 178/254 [06:05<02:36,  2.06s/it, loss=0.2029]"
     ]
    },
    {
     "name": "stderr",
     "output_type": "stream",
     "text": [
      "\r\n",
      "Training:  70%|████████████████████████████████▍             | 179/254 [06:05<02:34,  2.06s/it, loss=0.2029]"
     ]
    },
    {
     "name": "stderr",
     "output_type": "stream",
     "text": [
      "\r\n",
      "Training:  70%|████████████████████████████████▍             | 179/254 [06:07<02:34,  2.06s/it, loss=0.0087]"
     ]
    },
    {
     "name": "stderr",
     "output_type": "stream",
     "text": [
      "\r\n",
      "Training:  71%|████████████████████████████████▌             | 180/254 [06:07<02:33,  2.07s/it, loss=0.0087]"
     ]
    },
    {
     "name": "stderr",
     "output_type": "stream",
     "text": [
      "\r\n",
      "Training:  71%|████████████████████████████████▌             | 180/254 [06:09<02:33,  2.07s/it, loss=0.0883]"
     ]
    },
    {
     "name": "stderr",
     "output_type": "stream",
     "text": [
      "\r\n",
      "Training:  71%|████████████████████████████████▊             | 181/254 [06:09<02:31,  2.08s/it, loss=0.0883]"
     ]
    },
    {
     "name": "stderr",
     "output_type": "stream",
     "text": [
      "\r\n",
      "Training:  71%|████████████████████████████████▊             | 181/254 [06:11<02:31,  2.08s/it, loss=0.0163]"
     ]
    },
    {
     "name": "stderr",
     "output_type": "stream",
     "text": [
      "\r\n",
      "Training:  72%|████████████████████████████████▉             | 182/254 [06:11<02:29,  2.08s/it, loss=0.0163]"
     ]
    },
    {
     "name": "stderr",
     "output_type": "stream",
     "text": [
      "\r\n",
      "Training:  72%|████████████████████████████████▉             | 182/254 [06:13<02:29,  2.08s/it, loss=0.0131]"
     ]
    },
    {
     "name": "stderr",
     "output_type": "stream",
     "text": [
      "\r\n",
      "Training:  72%|█████████████████████████████████▏            | 183/254 [06:13<02:27,  2.08s/it, loss=0.0131]"
     ]
    },
    {
     "name": "stderr",
     "output_type": "stream",
     "text": [
      "\r\n",
      "Training:  72%|█████████████████████████████████▏            | 183/254 [06:15<02:27,  2.08s/it, loss=0.0122]"
     ]
    },
    {
     "name": "stderr",
     "output_type": "stream",
     "text": [
      "\r\n",
      "Training:  72%|█████████████████████████████████▎            | 184/254 [06:15<02:25,  2.07s/it, loss=0.0122]"
     ]
    },
    {
     "name": "stderr",
     "output_type": "stream",
     "text": [
      "\r\n",
      "Training:  72%|█████████████████████████████████▎            | 184/254 [06:16<02:25,  2.07s/it, loss=0.0088]"
     ]
    },
    {
     "name": "stderr",
     "output_type": "stream",
     "text": [
      "\r\n",
      "Training:  73%|█████████████████████████████████▌            | 185/254 [06:16<01:55,  1.68s/it, loss=0.0088]"
     ]
    },
    {
     "name": "stderr",
     "output_type": "stream",
     "text": [
      "\r\n",
      "Training:  73%|█████████████████████████████████▌            | 185/254 [06:18<01:55,  1.68s/it, loss=0.0533]"
     ]
    },
    {
     "name": "stderr",
     "output_type": "stream",
     "text": [
      "\r\n",
      "Training:  73%|█████████████████████████████████▋            | 186/254 [06:18<02:01,  1.79s/it, loss=0.0533]"
     ]
    },
    {
     "name": "stderr",
     "output_type": "stream",
     "text": [
      "\r\n",
      "Training:  73%|█████████████████████████████████▋            | 186/254 [06:20<02:01,  1.79s/it, loss=0.0544]"
     ]
    },
    {
     "name": "stderr",
     "output_type": "stream",
     "text": [
      "\r\n",
      "Training:  74%|█████████████████████████████████▊            | 187/254 [06:20<02:05,  1.87s/it, loss=0.0544]"
     ]
    },
    {
     "name": "stderr",
     "output_type": "stream",
     "text": [
      "\r\n",
      "Training:  74%|█████████████████████████████████▊            | 187/254 [06:22<02:05,  1.87s/it, loss=0.0060]"
     ]
    },
    {
     "name": "stderr",
     "output_type": "stream",
     "text": [
      "\r\n",
      "Training:  74%|██████████████████████████████████            | 188/254 [06:22<02:07,  1.93s/it, loss=0.0060]"
     ]
    },
    {
     "name": "stderr",
     "output_type": "stream",
     "text": [
      "\r\n",
      "Training:  74%|██████████████████████████████████            | 188/254 [06:24<02:07,  1.93s/it, loss=0.0044]"
     ]
    },
    {
     "name": "stderr",
     "output_type": "stream",
     "text": [
      "\r\n",
      "Training:  74%|██████████████████████████████████▏           | 189/254 [06:24<02:07,  1.96s/it, loss=0.0044]"
     ]
    },
    {
     "name": "stderr",
     "output_type": "stream",
     "text": [
      "\r\n",
      "Training:  74%|██████████████████████████████████▏           | 189/254 [06:26<02:07,  1.96s/it, loss=0.0099]"
     ]
    },
    {
     "name": "stderr",
     "output_type": "stream",
     "text": [
      "\r\n",
      "Training:  75%|██████████████████████████████████▍           | 190/254 [06:26<02:07,  1.98s/it, loss=0.0099]"
     ]
    },
    {
     "name": "stderr",
     "output_type": "stream",
     "text": [
      "\r\n",
      "Training:  75%|██████████████████████████████████▍           | 190/254 [06:28<02:07,  1.98s/it, loss=0.0249]"
     ]
    },
    {
     "name": "stderr",
     "output_type": "stream",
     "text": [
      "\r\n",
      "Training:  75%|██████████████████████████████████▌           | 191/254 [06:28<02:07,  2.03s/it, loss=0.0249]"
     ]
    },
    {
     "name": "stderr",
     "output_type": "stream",
     "text": [
      "\r\n",
      "Training:  75%|██████████████████████████████████▌           | 191/254 [06:30<02:07,  2.03s/it, loss=0.0170]"
     ]
    },
    {
     "name": "stderr",
     "output_type": "stream",
     "text": [
      "\r\n",
      "Training:  76%|██████████████████████████████████▊           | 192/254 [06:30<02:07,  2.06s/it, loss=0.0170]"
     ]
    },
    {
     "name": "stderr",
     "output_type": "stream",
     "text": [
      "\r\n",
      "Training:  76%|██████████████████████████████████▊           | 192/254 [06:32<02:07,  2.06s/it, loss=0.0046]"
     ]
    },
    {
     "name": "stderr",
     "output_type": "stream",
     "text": [
      "\r\n",
      "Training:  76%|██████████████████████████████████▉           | 193/254 [06:32<02:06,  2.07s/it, loss=0.0046]"
     ]
    },
    {
     "name": "stderr",
     "output_type": "stream",
     "text": [
      "\r\n",
      "Training:  76%|██████████████████████████████████▉           | 193/254 [06:35<02:06,  2.07s/it, loss=0.0099]"
     ]
    },
    {
     "name": "stderr",
     "output_type": "stream",
     "text": [
      "\r\n",
      "Training:  76%|███████████████████████████████████▏          | 194/254 [06:35<02:04,  2.07s/it, loss=0.0099]"
     ]
    },
    {
     "name": "stderr",
     "output_type": "stream",
     "text": [
      "\r\n",
      "Training:  76%|███████████████████████████████████▏          | 194/254 [06:37<02:04,  2.07s/it, loss=0.0059]"
     ]
    },
    {
     "name": "stderr",
     "output_type": "stream",
     "text": [
      "\r\n",
      "Training:  77%|███████████████████████████████████▎          | 195/254 [06:37<02:02,  2.07s/it, loss=0.0059]"
     ]
    },
    {
     "name": "stderr",
     "output_type": "stream",
     "text": [
      "\r\n",
      "Training:  77%|███████████████████████████████████▎          | 195/254 [06:39<02:02,  2.07s/it, loss=0.0030]"
     ]
    },
    {
     "name": "stderr",
     "output_type": "stream",
     "text": [
      "\r\n",
      "Training:  77%|███████████████████████████████████▍          | 196/254 [06:39<02:00,  2.07s/it, loss=0.0030]"
     ]
    },
    {
     "name": "stderr",
     "output_type": "stream",
     "text": [
      "\r\n",
      "Training:  77%|███████████████████████████████████▍          | 196/254 [06:41<02:00,  2.07s/it, loss=0.0043]"
     ]
    },
    {
     "name": "stderr",
     "output_type": "stream",
     "text": [
      "\r\n",
      "Training:  78%|███████████████████████████████████▋          | 197/254 [06:41<01:58,  2.07s/it, loss=0.0043]"
     ]
    },
    {
     "name": "stderr",
     "output_type": "stream",
     "text": [
      "\r\n",
      "Training:  78%|███████████████████████████████████▋          | 197/254 [06:43<01:58,  2.07s/it, loss=0.0103]"
     ]
    },
    {
     "name": "stderr",
     "output_type": "stream",
     "text": [
      "\r\n",
      "Training:  78%|███████████████████████████████████▊          | 198/254 [06:43<01:56,  2.07s/it, loss=0.0103]"
     ]
    },
    {
     "name": "stderr",
     "output_type": "stream",
     "text": [
      "\r\n",
      "Training:  78%|███████████████████████████████████▊          | 198/254 [06:45<01:56,  2.07s/it, loss=0.0084]"
     ]
    },
    {
     "name": "stderr",
     "output_type": "stream",
     "text": [
      "\r\n",
      "Training:  78%|████████████████████████████████████          | 199/254 [06:45<01:53,  2.07s/it, loss=0.0084]"
     ]
    },
    {
     "name": "stderr",
     "output_type": "stream",
     "text": [
      "\r\n",
      "Training:  78%|████████████████████████████████████          | 199/254 [06:47<01:53,  2.07s/it, loss=0.0260]"
     ]
    },
    {
     "name": "stderr",
     "output_type": "stream",
     "text": [
      "\r\n",
      "Training:  79%|████████████████████████████████████▏         | 200/254 [06:47<01:51,  2.07s/it, loss=0.0260]"
     ]
    },
    {
     "name": "stderr",
     "output_type": "stream",
     "text": [
      "\r\n",
      "Training:  79%|████████████████████████████████████▏         | 200/254 [06:48<01:51,  2.07s/it, loss=0.0021]"
     ]
    },
    {
     "name": "stderr",
     "output_type": "stream",
     "text": [
      "\r\n",
      "Training:  79%|████████████████████████████████████▍         | 201/254 [06:48<01:29,  1.69s/it, loss=0.0021]"
     ]
    },
    {
     "name": "stderr",
     "output_type": "stream",
     "text": [
      "\r\n",
      "Training:  79%|████████████████████████████████████▍         | 201/254 [06:50<01:29,  1.69s/it, loss=0.0055]"
     ]
    },
    {
     "name": "stderr",
     "output_type": "stream",
     "text": [
      "\r\n",
      "Training:  80%|████████████████████████████████████▌         | 202/254 [06:50<01:33,  1.80s/it, loss=0.0055]"
     ]
    },
    {
     "name": "stderr",
     "output_type": "stream",
     "text": [
      "\r\n",
      "Training:  80%|████████████████████████████████████▌         | 202/254 [06:52<01:33,  1.80s/it, loss=0.0019]"
     ]
    },
    {
     "name": "stderr",
     "output_type": "stream",
     "text": [
      "\r\n",
      "Training:  80%|████████████████████████████████████▊         | 203/254 [06:52<01:35,  1.88s/it, loss=0.0019]"
     ]
    },
    {
     "name": "stderr",
     "output_type": "stream",
     "text": [
      "\r\n",
      "Training:  80%|████████████████████████████████████▊         | 203/254 [06:54<01:35,  1.88s/it, loss=0.0029]"
     ]
    },
    {
     "name": "stderr",
     "output_type": "stream",
     "text": [
      "\r\n",
      "Training:  80%|████████████████████████████████████▉         | 204/254 [06:54<01:36,  1.94s/it, loss=0.0029]"
     ]
    },
    {
     "name": "stderr",
     "output_type": "stream",
     "text": [
      "\r\n",
      "Training:  80%|████████████████████████████████████▉         | 204/254 [06:56<01:36,  1.94s/it, loss=0.0451]"
     ]
    },
    {
     "name": "stderr",
     "output_type": "stream",
     "text": [
      "\r\n",
      "Training:  81%|█████████████████████████████████████▏        | 205/254 [06:56<01:36,  1.98s/it, loss=0.0451]"
     ]
    },
    {
     "name": "stderr",
     "output_type": "stream",
     "text": [
      "\r\n",
      "Training:  81%|█████████████████████████████████████▏        | 205/254 [06:58<01:36,  1.98s/it, loss=0.0133]"
     ]
    },
    {
     "name": "stderr",
     "output_type": "stream",
     "text": [
      "\r\n",
      "Training:  81%|█████████████████████████████████████▎        | 206/254 [06:58<01:36,  2.01s/it, loss=0.0133]"
     ]
    },
    {
     "name": "stderr",
     "output_type": "stream",
     "text": [
      "\r\n",
      "Training:  81%|█████████████████████████████████████▎        | 206/254 [07:00<01:36,  2.01s/it, loss=0.0865]"
     ]
    },
    {
     "name": "stderr",
     "output_type": "stream",
     "text": [
      "\r\n",
      "Training:  81%|█████████████████████████████████████▍        | 207/254 [07:00<01:35,  2.02s/it, loss=0.0865]"
     ]
    },
    {
     "name": "stderr",
     "output_type": "stream",
     "text": [
      "\r\n",
      "Training:  81%|█████████████████████████████████████▍        | 207/254 [07:02<01:35,  2.02s/it, loss=0.0047]"
     ]
    },
    {
     "name": "stderr",
     "output_type": "stream",
     "text": [
      "\r\n",
      "Training:  82%|█████████████████████████████████████▋        | 208/254 [07:02<01:33,  2.04s/it, loss=0.0047]"
     ]
    },
    {
     "name": "stderr",
     "output_type": "stream",
     "text": [
      "\r\n",
      "Training:  82%|█████████████████████████████████████▋        | 208/254 [07:04<01:33,  2.04s/it, loss=0.0020]"
     ]
    },
    {
     "name": "stderr",
     "output_type": "stream",
     "text": [
      "\r\n",
      "Training:  82%|█████████████████████████████████████▊        | 209/254 [07:04<01:32,  2.05s/it, loss=0.0020]"
     ]
    },
    {
     "name": "stderr",
     "output_type": "stream",
     "text": [
      "\r\n",
      "Training:  82%|█████████████████████████████████████▊        | 209/254 [07:06<01:32,  2.05s/it, loss=0.0627]"
     ]
    },
    {
     "name": "stderr",
     "output_type": "stream",
     "text": [
      "\r\n",
      "Training:  83%|██████████████████████████████████████        | 210/254 [07:06<01:31,  2.09s/it, loss=0.0627]"
     ]
    },
    {
     "name": "stderr",
     "output_type": "stream",
     "text": [
      "\r\n",
      "Training:  83%|██████████████████████████████████████        | 210/254 [07:09<01:31,  2.09s/it, loss=0.0220]"
     ]
    },
    {
     "name": "stderr",
     "output_type": "stream",
     "text": [
      "\r\n",
      "Training:  83%|██████████████████████████████████████▏       | 211/254 [07:09<01:32,  2.16s/it, loss=0.0220]"
     ]
    },
    {
     "name": "stderr",
     "output_type": "stream",
     "text": [
      "\r\n",
      "Training:  83%|██████████████████████████████████████▏       | 211/254 [07:11<01:32,  2.16s/it, loss=0.0027]"
     ]
    },
    {
     "name": "stderr",
     "output_type": "stream",
     "text": [
      "\r\n",
      "Training:  83%|██████████████████████████████████████▍       | 212/254 [07:11<01:32,  2.19s/it, loss=0.0027]"
     ]
    },
    {
     "name": "stderr",
     "output_type": "stream",
     "text": [
      "\r\n",
      "Training:  83%|██████████████████████████████████████▍       | 212/254 [07:13<01:32,  2.19s/it, loss=0.0506]"
     ]
    },
    {
     "name": "stderr",
     "output_type": "stream",
     "text": [
      "\r\n",
      "Training:  84%|██████████████████████████████████████▌       | 213/254 [07:13<01:32,  2.27s/it, loss=0.0506]"
     ]
    },
    {
     "name": "stderr",
     "output_type": "stream",
     "text": [
      "\r\n",
      "Training:  84%|██████████████████████████████████████▌       | 213/254 [07:16<01:32,  2.27s/it, loss=0.0018]"
     ]
    },
    {
     "name": "stderr",
     "output_type": "stream",
     "text": [
      "\r\n",
      "Training:  84%|██████████████████████████████████████▊       | 214/254 [07:16<01:29,  2.23s/it, loss=0.0018]"
     ]
    },
    {
     "name": "stderr",
     "output_type": "stream",
     "text": [
      "\r\n",
      "Training:  84%|██████████████████████████████████████▊       | 214/254 [07:18<01:29,  2.23s/it, loss=0.0463]"
     ]
    },
    {
     "name": "stderr",
     "output_type": "stream",
     "text": [
      "\r\n",
      "Training:  85%|██████████████████████████████████████▉       | 215/254 [07:18<01:28,  2.28s/it, loss=0.0463]"
     ]
    },
    {
     "name": "stderr",
     "output_type": "stream",
     "text": [
      "\r\n",
      "Training:  85%|██████████████████████████████████████▉       | 215/254 [07:19<01:28,  2.28s/it, loss=0.0162]"
     ]
    },
    {
     "name": "stderr",
     "output_type": "stream",
     "text": [
      "\r\n",
      "Training:  85%|███████████████████████████████████████       | 216/254 [07:19<01:11,  1.89s/it, loss=0.0162]"
     ]
    },
    {
     "name": "stderr",
     "output_type": "stream",
     "text": [
      "\r\n",
      "Training:  85%|███████████████████████████████████████       | 216/254 [07:21<01:11,  1.89s/it, loss=0.0132]"
     ]
    },
    {
     "name": "stderr",
     "output_type": "stream",
     "text": [
      "\r\n",
      "Training:  85%|███████████████████████████████████████▎      | 217/254 [07:21<01:13,  1.99s/it, loss=0.0132]"
     ]
    },
    {
     "name": "stderr",
     "output_type": "stream",
     "text": [
      "\r\n",
      "Training:  85%|███████████████████████████████████████▎      | 217/254 [07:23<01:13,  1.99s/it, loss=0.0301]"
     ]
    },
    {
     "name": "stderr",
     "output_type": "stream",
     "text": [
      "\r\n",
      "Training:  86%|███████████████████████████████████████▍      | 218/254 [07:23<01:13,  2.04s/it, loss=0.0301]"
     ]
    },
    {
     "name": "stderr",
     "output_type": "stream",
     "text": [
      "\r\n",
      "Training:  86%|███████████████████████████████████████▍      | 218/254 [07:26<01:13,  2.04s/it, loss=0.3014]"
     ]
    },
    {
     "name": "stderr",
     "output_type": "stream",
     "text": [
      "\r\n",
      "Training:  86%|███████████████████████████████████████▋      | 219/254 [07:26<01:12,  2.06s/it, loss=0.3014]"
     ]
    },
    {
     "name": "stderr",
     "output_type": "stream",
     "text": [
      "\r\n",
      "Training:  86%|███████████████████████████████████████▋      | 219/254 [07:28<01:12,  2.06s/it, loss=0.0034]"
     ]
    },
    {
     "name": "stderr",
     "output_type": "stream",
     "text": [
      "\r\n",
      "Training:  87%|███████████████████████████████████████▊      | 220/254 [07:28<01:10,  2.07s/it, loss=0.0034]"
     ]
    },
    {
     "name": "stderr",
     "output_type": "stream",
     "text": [
      "\r\n",
      "Training:  87%|███████████████████████████████████████▊      | 220/254 [07:30<01:10,  2.07s/it, loss=0.0202]"
     ]
    },
    {
     "name": "stderr",
     "output_type": "stream",
     "text": [
      "\r\n",
      "Training:  87%|████████████████████████████████████████      | 221/254 [07:30<01:08,  2.07s/it, loss=0.0202]"
     ]
    },
    {
     "name": "stderr",
     "output_type": "stream",
     "text": [
      "\r\n",
      "Training:  87%|████████████████████████████████████████      | 221/254 [07:32<01:08,  2.07s/it, loss=0.0021]"
     ]
    },
    {
     "name": "stderr",
     "output_type": "stream",
     "text": [
      "\r\n",
      "Training:  87%|████████████████████████████████████████▏     | 222/254 [07:32<01:06,  2.07s/it, loss=0.0021]"
     ]
    },
    {
     "name": "stderr",
     "output_type": "stream",
     "text": [
      "\r\n",
      "Training:  87%|████████████████████████████████████████▏     | 222/254 [07:34<01:06,  2.07s/it, loss=0.0018]"
     ]
    },
    {
     "name": "stderr",
     "output_type": "stream",
     "text": [
      "\r\n",
      "Training:  88%|████████████████████████████████████████▍     | 223/254 [07:34<01:04,  2.07s/it, loss=0.0018]"
     ]
    },
    {
     "name": "stderr",
     "output_type": "stream",
     "text": [
      "\r\n",
      "Training:  88%|████████████████████████████████████████▍     | 223/254 [07:36<01:04,  2.07s/it, loss=0.0067]"
     ]
    },
    {
     "name": "stderr",
     "output_type": "stream",
     "text": [
      "\r\n",
      "Training:  88%|████████████████████████████████████████▌     | 224/254 [07:36<01:02,  2.07s/it, loss=0.0067]"
     ]
    },
    {
     "name": "stderr",
     "output_type": "stream",
     "text": [
      "\r\n",
      "Training:  88%|████████████████████████████████████████▌     | 224/254 [07:38<01:02,  2.07s/it, loss=0.0137]"
     ]
    },
    {
     "name": "stderr",
     "output_type": "stream",
     "text": [
      "\r\n",
      "Training:  89%|████████████████████████████████████████▋     | 225/254 [07:38<01:00,  2.07s/it, loss=0.0137]"
     ]
    },
    {
     "name": "stderr",
     "output_type": "stream",
     "text": [
      "\r\n",
      "Training:  89%|████████████████████████████████████████▋     | 225/254 [07:40<01:00,  2.07s/it, loss=0.0041]"
     ]
    },
    {
     "name": "stderr",
     "output_type": "stream",
     "text": [
      "\r\n",
      "Training:  89%|████████████████████████████████████████▉     | 226/254 [07:40<00:57,  2.07s/it, loss=0.0041]"
     ]
    },
    {
     "name": "stderr",
     "output_type": "stream",
     "text": [
      "\r\n",
      "Training:  89%|████████████████████████████████████████▉     | 226/254 [07:42<00:57,  2.07s/it, loss=0.1354]"
     ]
    },
    {
     "name": "stderr",
     "output_type": "stream",
     "text": [
      "\r\n",
      "Training:  89%|█████████████████████████████████████████     | 227/254 [07:42<00:56,  2.07s/it, loss=0.1354]"
     ]
    },
    {
     "name": "stderr",
     "output_type": "stream",
     "text": [
      "\r\n",
      "Training:  89%|█████████████████████████████████████████     | 227/254 [07:44<00:56,  2.07s/it, loss=0.0039]"
     ]
    },
    {
     "name": "stderr",
     "output_type": "stream",
     "text": [
      "\r\n",
      "Training:  90%|█████████████████████████████████████████▎    | 228/254 [07:44<00:53,  2.07s/it, loss=0.0039]"
     ]
    },
    {
     "name": "stderr",
     "output_type": "stream",
     "text": [
      "\r\n",
      "Training:  90%|█████████████████████████████████████████▎    | 228/254 [07:46<00:53,  2.07s/it, loss=0.0024]"
     ]
    },
    {
     "name": "stderr",
     "output_type": "stream",
     "text": [
      "\r\n",
      "Training:  90%|█████████████████████████████████████████▍    | 229/254 [07:46<00:51,  2.07s/it, loss=0.0024]"
     ]
    },
    {
     "name": "stderr",
     "output_type": "stream",
     "text": [
      "\r\n",
      "Training:  90%|█████████████████████████████████████████▍    | 229/254 [07:48<00:51,  2.07s/it, loss=0.0028]"
     ]
    },
    {
     "name": "stderr",
     "output_type": "stream",
     "text": [
      "\r\n",
      "Training:  91%|█████████████████████████████████████████▋    | 230/254 [07:48<00:49,  2.07s/it, loss=0.0028]"
     ]
    },
    {
     "name": "stderr",
     "output_type": "stream",
     "text": [
      "\r\n",
      "Training:  91%|█████████████████████████████████████████▋    | 230/254 [07:49<00:49,  2.07s/it, loss=0.0639]"
     ]
    },
    {
     "name": "stderr",
     "output_type": "stream",
     "text": [
      "\r\n",
      "Training:  91%|█████████████████████████████████████████▊    | 231/254 [07:49<00:39,  1.70s/it, loss=0.0639]"
     ]
    },
    {
     "name": "stderr",
     "output_type": "stream",
     "text": [
      "\r\n",
      "Training:  91%|█████████████████████████████████████████▊    | 231/254 [07:51<00:39,  1.70s/it, loss=0.0028]"
     ]
    },
    {
     "name": "stderr",
     "output_type": "stream",
     "text": [
      "\r\n",
      "Training:  91%|██████████████████████████████████████████    | 232/254 [07:51<00:39,  1.81s/it, loss=0.0028]"
     ]
    },
    {
     "name": "stderr",
     "output_type": "stream",
     "text": [
      "\r\n",
      "Training:  91%|██████████████████████████████████████████    | 232/254 [07:53<00:39,  1.81s/it, loss=0.0356]"
     ]
    },
    {
     "name": "stderr",
     "output_type": "stream",
     "text": [
      "\r\n",
      "Training:  92%|██████████████████████████████████████████▏   | 233/254 [07:53<00:39,  1.89s/it, loss=0.0356]"
     ]
    },
    {
     "name": "stderr",
     "output_type": "stream",
     "text": [
      "\r\n",
      "Training:  92%|██████████████████████████████████████████▏   | 233/254 [07:56<00:39,  1.89s/it, loss=0.0023]"
     ]
    },
    {
     "name": "stderr",
     "output_type": "stream",
     "text": [
      "\r\n",
      "Training:  92%|██████████████████████████████████████████▍   | 234/254 [07:56<00:41,  2.06s/it, loss=0.0023]"
     ]
    },
    {
     "name": "stderr",
     "output_type": "stream",
     "text": [
      "\r\n",
      "Training:  92%|██████████████████████████████████████████▍   | 234/254 [07:58<00:41,  2.06s/it, loss=0.1473]"
     ]
    },
    {
     "name": "stderr",
     "output_type": "stream",
     "text": [
      "\r\n",
      "Training:  93%|██████████████████████████████████████████▌   | 235/254 [07:58<00:42,  2.23s/it, loss=0.1473]"
     ]
    },
    {
     "name": "stderr",
     "output_type": "stream",
     "text": [
      "\r\n",
      "Training:  93%|██████████████████████████████████████████▌   | 235/254 [08:01<00:42,  2.23s/it, loss=0.0028]"
     ]
    },
    {
     "name": "stderr",
     "output_type": "stream",
     "text": [
      "\r\n",
      "Training:  93%|██████████████████████████████████████████▋   | 236/254 [08:01<00:41,  2.31s/it, loss=0.0028]"
     ]
    },
    {
     "name": "stderr",
     "output_type": "stream",
     "text": [
      "\r\n",
      "Training:  93%|██████████████████████████████████████████▋   | 236/254 [08:03<00:41,  2.31s/it, loss=0.0476]"
     ]
    },
    {
     "name": "stderr",
     "output_type": "stream",
     "text": [
      "\r\n",
      "Training:  93%|██████████████████████████████████████████▉   | 237/254 [08:03<00:38,  2.29s/it, loss=0.0476]"
     ]
    },
    {
     "name": "stderr",
     "output_type": "stream",
     "text": [
      "\r\n",
      "Training:  93%|██████████████████████████████████████████▉   | 237/254 [08:05<00:38,  2.29s/it, loss=0.0568]"
     ]
    },
    {
     "name": "stderr",
     "output_type": "stream",
     "text": [
      "\r\n",
      "Training:  94%|███████████████████████████████████████████   | 238/254 [08:05<00:36,  2.28s/it, loss=0.0568]"
     ]
    },
    {
     "name": "stderr",
     "output_type": "stream",
     "text": [
      "\r\n",
      "Training:  94%|███████████████████████████████████████████   | 238/254 [08:08<00:36,  2.28s/it, loss=0.0069]"
     ]
    },
    {
     "name": "stderr",
     "output_type": "stream",
     "text": [
      "\r\n",
      "Training:  94%|███████████████████████████████████████████▎  | 239/254 [08:08<00:34,  2.28s/it, loss=0.0069]"
     ]
    },
    {
     "name": "stderr",
     "output_type": "stream",
     "text": [
      "\r\n",
      "Training:  94%|███████████████████████████████████████████▎  | 239/254 [08:10<00:34,  2.28s/it, loss=0.0386]"
     ]
    },
    {
     "name": "stderr",
     "output_type": "stream",
     "text": [
      "\r\n",
      "Training:  94%|███████████████████████████████████████████▍  | 240/254 [08:10<00:31,  2.26s/it, loss=0.0386]"
     ]
    },
    {
     "name": "stderr",
     "output_type": "stream",
     "text": [
      "\r\n",
      "Training:  94%|███████████████████████████████████████████▍  | 240/254 [08:12<00:31,  2.26s/it, loss=0.0033]"
     ]
    },
    {
     "name": "stderr",
     "output_type": "stream",
     "text": [
      "\r\n",
      "Training:  95%|███████████████████████████████████████████▋  | 241/254 [08:12<00:28,  2.21s/it, loss=0.0033]"
     ]
    },
    {
     "name": "stderr",
     "output_type": "stream",
     "text": [
      "\r\n",
      "Training:  95%|███████████████████████████████████████████▋  | 241/254 [08:14<00:28,  2.21s/it, loss=0.0169]"
     ]
    },
    {
     "name": "stderr",
     "output_type": "stream",
     "text": [
      "\r\n",
      "Training:  95%|███████████████████████████████████████████▊  | 242/254 [08:14<00:26,  2.19s/it, loss=0.0169]"
     ]
    },
    {
     "name": "stderr",
     "output_type": "stream",
     "text": [
      "\r\n",
      "Training:  95%|███████████████████████████████████████████▊  | 242/254 [08:16<00:26,  2.19s/it, loss=0.0044]"
     ]
    },
    {
     "name": "stderr",
     "output_type": "stream",
     "text": [
      "\r\n",
      "Training:  96%|████████████████████████████████████████████  | 243/254 [08:16<00:24,  2.23s/it, loss=0.0044]"
     ]
    },
    {
     "name": "stderr",
     "output_type": "stream",
     "text": [
      "\r\n",
      "Training:  96%|████████████████████████████████████████████  | 243/254 [08:19<00:24,  2.23s/it, loss=0.0048]"
     ]
    },
    {
     "name": "stderr",
     "output_type": "stream",
     "text": [
      "\r\n",
      "Training:  96%|████████████████████████████████████████████▏ | 244/254 [08:19<00:22,  2.24s/it, loss=0.0048]"
     ]
    },
    {
     "name": "stderr",
     "output_type": "stream",
     "text": [
      "\r\n",
      "Training:  96%|████████████████████████████████████████████▏ | 244/254 [08:20<00:22,  2.24s/it, loss=0.0031]"
     ]
    },
    {
     "name": "stderr",
     "output_type": "stream",
     "text": [
      "\r\n",
      "Training:  96%|████████████████████████████████████████████▎ | 245/254 [08:20<00:16,  1.88s/it, loss=0.0031]"
     ]
    },
    {
     "name": "stderr",
     "output_type": "stream",
     "text": [
      "\r\n",
      "Training:  96%|████████████████████████████████████████████▎ | 245/254 [08:22<00:16,  1.88s/it, loss=0.0046]"
     ]
    },
    {
     "name": "stderr",
     "output_type": "stream",
     "text": [
      "\r\n",
      "Training:  97%|████████████████████████████████████████████▌ | 246/254 [08:22<00:15,  1.96s/it, loss=0.0046]"
     ]
    },
    {
     "name": "stderr",
     "output_type": "stream",
     "text": [
      "\r\n",
      "Training:  97%|████████████████████████████████████████████▌ | 246/254 [08:24<00:15,  1.96s/it, loss=0.0031]"
     ]
    },
    {
     "name": "stderr",
     "output_type": "stream",
     "text": [
      "\r\n",
      "Training:  97%|████████████████████████████████████████████▋ | 247/254 [08:24<00:13,  2.00s/it, loss=0.0031]"
     ]
    },
    {
     "name": "stderr",
     "output_type": "stream",
     "text": [
      "\r\n",
      "Training:  97%|████████████████████████████████████████████▋ | 247/254 [08:26<00:13,  2.00s/it, loss=0.0110]"
     ]
    },
    {
     "name": "stderr",
     "output_type": "stream",
     "text": [
      "\r\n",
      "Training:  98%|████████████████████████████████████████████▉ | 248/254 [08:26<00:12,  2.02s/it, loss=0.0110]"
     ]
    },
    {
     "name": "stderr",
     "output_type": "stream",
     "text": [
      "\r\n",
      "Training:  98%|████████████████████████████████████████████▉ | 248/254 [08:28<00:12,  2.02s/it, loss=0.0730]"
     ]
    },
    {
     "name": "stderr",
     "output_type": "stream",
     "text": [
      "\r\n",
      "Training:  98%|█████████████████████████████████████████████ | 249/254 [08:28<00:10,  2.04s/it, loss=0.0730]"
     ]
    },
    {
     "name": "stderr",
     "output_type": "stream",
     "text": [
      "\r\n",
      "Training:  98%|█████████████████████████████████████████████ | 249/254 [08:30<00:10,  2.04s/it, loss=0.0029]"
     ]
    },
    {
     "name": "stderr",
     "output_type": "stream",
     "text": [
      "\r\n",
      "Training:  98%|█████████████████████████████████████████████▎| 250/254 [08:30<00:08,  2.05s/it, loss=0.0029]"
     ]
    },
    {
     "name": "stderr",
     "output_type": "stream",
     "text": [
      "\r\n",
      "Training:  98%|█████████████████████████████████████████████▎| 250/254 [08:32<00:08,  2.05s/it, loss=0.0172]"
     ]
    },
    {
     "name": "stderr",
     "output_type": "stream",
     "text": [
      "\r\n",
      "Training:  99%|█████████████████████████████████████████████▍| 251/254 [08:32<00:06,  2.06s/it, loss=0.0172]"
     ]
    },
    {
     "name": "stderr",
     "output_type": "stream",
     "text": [
      "\r\n",
      "Training:  99%|█████████████████████████████████████████████▍| 251/254 [08:34<00:06,  2.06s/it, loss=0.0030]"
     ]
    },
    {
     "name": "stderr",
     "output_type": "stream",
     "text": [
      "\r\n",
      "Training:  99%|█████████████████████████████████████████████▋| 252/254 [08:34<00:04,  2.07s/it, loss=0.0030]"
     ]
    },
    {
     "name": "stderr",
     "output_type": "stream",
     "text": [
      "\r\n",
      "Training:  99%|█████████████████████████████████████████████▋| 252/254 [08:36<00:04,  2.07s/it, loss=0.0056]"
     ]
    },
    {
     "name": "stderr",
     "output_type": "stream",
     "text": [
      "\r\n",
      "Training: 100%|█████████████████████████████████████████████▊| 253/254 [08:36<00:02,  2.07s/it, loss=0.0056]"
     ]
    },
    {
     "name": "stderr",
     "output_type": "stream",
     "text": [
      "\r\n",
      "Training: 100%|█████████████████████████████████████████████▊| 253/254 [08:38<00:02,  2.07s/it, loss=0.0051]"
     ]
    },
    {
     "name": "stderr",
     "output_type": "stream",
     "text": [
      "\r\n",
      "Training: 100%|██████████████████████████████████████████████| 254/254 [08:38<00:00,  1.80s/it, loss=0.0051]"
     ]
    },
    {
     "name": "stderr",
     "output_type": "stream",
     "text": [
      "\r\n",
      "Training: 100%|██████████████████████████████████████████████| 254/254 [08:38<00:00,  2.04s/it, loss=0.0051]"
     ]
    },
    {
     "name": "stderr",
     "output_type": "stream",
     "text": [
      "\n",
      "INFO:src.models.trainer:Training metrics: {'accuracy': 0.9911340967861101, 'f1': 0.9910238180674771, 'precision': 0.9909959724260647, 'recall': 0.9911340967861101, 'loss': 0.032486221137067936}\n"
     ]
    },
    {
     "name": "stderr",
     "output_type": "stream",
     "text": [
      "\r\n",
      "Evaluating:   0%|                                                                    | 0/55 [00:00<?, ?it/s]"
     ]
    },
    {
     "name": "stderr",
     "output_type": "stream",
     "text": [
      "\r\n",
      "Evaluating:   2%|█                                                           | 1/55 [00:01<01:33,  1.73s/it]"
     ]
    },
    {
     "name": "stderr",
     "output_type": "stream",
     "text": [
      "\r\n",
      "Evaluating:   4%|██▏                                                         | 2/55 [00:03<01:31,  1.72s/it]"
     ]
    },
    {
     "name": "stderr",
     "output_type": "stream",
     "text": [
      "\r\n",
      "Evaluating:   5%|███▎                                                        | 3/55 [00:05<01:29,  1.72s/it]"
     ]
    },
    {
     "name": "stderr",
     "output_type": "stream",
     "text": [
      "\r\n",
      "Evaluating:   7%|████▎                                                       | 4/55 [00:06<01:28,  1.73s/it]"
     ]
    },
    {
     "name": "stderr",
     "output_type": "stream",
     "text": [
      "\r\n",
      "Evaluating:   9%|█████▍                                                      | 5/55 [00:08<01:26,  1.73s/it]"
     ]
    },
    {
     "name": "stderr",
     "output_type": "stream",
     "text": [
      "\r\n",
      "Evaluating:  11%|██████▌                                                     | 6/55 [00:10<01:24,  1.73s/it]"
     ]
    },
    {
     "name": "stderr",
     "output_type": "stream",
     "text": [
      "\r\n",
      "Evaluating:  13%|███████▋                                                    | 7/55 [00:12<01:22,  1.73s/it]"
     ]
    },
    {
     "name": "stderr",
     "output_type": "stream",
     "text": [
      "\r\n",
      "Evaluating:  15%|████████▋                                                   | 8/55 [00:13<01:21,  1.74s/it]"
     ]
    },
    {
     "name": "stderr",
     "output_type": "stream",
     "text": [
      "\r\n",
      "Evaluating:  16%|█████████▊                                                  | 9/55 [00:14<01:01,  1.33s/it]"
     ]
    },
    {
     "name": "stderr",
     "output_type": "stream",
     "text": [
      "\r\n",
      "Evaluating:  18%|██████████▋                                                | 10/55 [00:15<01:04,  1.44s/it]"
     ]
    },
    {
     "name": "stderr",
     "output_type": "stream",
     "text": [
      "\r\n",
      "Evaluating:  20%|███████████▊                                               | 11/55 [00:17<01:07,  1.52s/it]"
     ]
    },
    {
     "name": "stderr",
     "output_type": "stream",
     "text": [
      "\r\n",
      "Evaluating:  22%|████████████▊                                              | 12/55 [00:19<01:07,  1.57s/it]"
     ]
    },
    {
     "name": "stderr",
     "output_type": "stream",
     "text": [
      "\r\n",
      "Evaluating:  24%|█████████████▉                                             | 13/55 [00:21<01:07,  1.61s/it]"
     ]
    },
    {
     "name": "stderr",
     "output_type": "stream",
     "text": [
      "\r\n",
      "Evaluating:  25%|███████████████                                            | 14/55 [00:22<01:06,  1.63s/it]"
     ]
    },
    {
     "name": "stderr",
     "output_type": "stream",
     "text": [
      "\r\n",
      "Evaluating:  27%|████████████████                                           | 15/55 [00:24<01:06,  1.65s/it]"
     ]
    },
    {
     "name": "stderr",
     "output_type": "stream",
     "text": [
      "\r\n",
      "Evaluating:  29%|█████████████████▏                                         | 16/55 [00:26<01:05,  1.67s/it]"
     ]
    },
    {
     "name": "stderr",
     "output_type": "stream",
     "text": [
      "\r\n",
      "Evaluating:  31%|██████████████████▏                                        | 17/55 [00:27<01:04,  1.69s/it]"
     ]
    },
    {
     "name": "stderr",
     "output_type": "stream",
     "text": [
      "\r\n",
      "Evaluating:  33%|███████████████████▎                                       | 18/55 [00:29<01:02,  1.69s/it]"
     ]
    },
    {
     "name": "stderr",
     "output_type": "stream",
     "text": [
      "\r\n",
      "Evaluating:  35%|████████████████████▍                                      | 19/55 [00:31<01:01,  1.70s/it]"
     ]
    },
    {
     "name": "stderr",
     "output_type": "stream",
     "text": [
      "\r\n",
      "Evaluating:  36%|█████████████████████▍                                     | 20/55 [00:33<00:59,  1.71s/it]"
     ]
    },
    {
     "name": "stderr",
     "output_type": "stream",
     "text": [
      "\r\n",
      "Evaluating:  38%|██████████████████████▌                                    | 21/55 [00:34<00:58,  1.72s/it]"
     ]
    },
    {
     "name": "stderr",
     "output_type": "stream",
     "text": [
      "\r\n",
      "Evaluating:  40%|███████████████████████▌                                   | 22/55 [00:36<00:57,  1.73s/it]"
     ]
    },
    {
     "name": "stderr",
     "output_type": "stream",
     "text": [
      "\r\n",
      "Evaluating:  42%|████████████████████████▋                                  | 23/55 [00:38<00:55,  1.72s/it]"
     ]
    },
    {
     "name": "stderr",
     "output_type": "stream",
     "text": [
      "\r\n",
      "Evaluating:  44%|█████████████████████████▋                                 | 24/55 [00:39<00:53,  1.72s/it]"
     ]
    },
    {
     "name": "stderr",
     "output_type": "stream",
     "text": [
      "\r\n",
      "Evaluating:  45%|██████████████████████████▊                                | 25/55 [00:41<00:51,  1.71s/it]"
     ]
    },
    {
     "name": "stderr",
     "output_type": "stream",
     "text": [
      "\r\n",
      "Evaluating:  47%|███████████████████████████▉                               | 26/55 [00:43<00:49,  1.71s/it]"
     ]
    },
    {
     "name": "stderr",
     "output_type": "stream",
     "text": [
      "\r\n",
      "Evaluating:  49%|████████████████████████████▉                              | 27/55 [00:45<00:48,  1.72s/it]"
     ]
    },
    {
     "name": "stderr",
     "output_type": "stream",
     "text": [
      "\r\n",
      "Evaluating:  51%|██████████████████████████████                             | 28/55 [00:45<00:35,  1.32s/it]"
     ]
    },
    {
     "name": "stderr",
     "output_type": "stream",
     "text": [
      "\r\n",
      "Evaluating:  53%|███████████████████████████████                            | 29/55 [00:47<00:37,  1.44s/it]"
     ]
    },
    {
     "name": "stderr",
     "output_type": "stream",
     "text": [
      "\r\n",
      "Evaluating:  55%|████████████████████████████████▏                          | 30/55 [00:48<00:37,  1.52s/it]"
     ]
    },
    {
     "name": "stderr",
     "output_type": "stream",
     "text": [
      "\r\n",
      "Evaluating:  56%|█████████████████████████████████▎                         | 31/55 [00:50<00:37,  1.57s/it]"
     ]
    },
    {
     "name": "stderr",
     "output_type": "stream",
     "text": [
      "\r\n",
      "Evaluating:  58%|██████████████████████████████████▎                        | 32/55 [00:52<00:37,  1.61s/it]"
     ]
    },
    {
     "name": "stderr",
     "output_type": "stream",
     "text": [
      "\r\n",
      "Evaluating:  60%|███████████████████████████████████▍                       | 33/55 [00:53<00:35,  1.63s/it]"
     ]
    },
    {
     "name": "stderr",
     "output_type": "stream",
     "text": [
      "\r\n",
      "Evaluating:  62%|████████████████████████████████████▍                      | 34/55 [00:55<00:34,  1.65s/it]"
     ]
    },
    {
     "name": "stderr",
     "output_type": "stream",
     "text": [
      "\r\n",
      "Evaluating:  64%|█████████████████████████████████████▌                     | 35/55 [00:57<00:33,  1.67s/it]"
     ]
    },
    {
     "name": "stderr",
     "output_type": "stream",
     "text": [
      "\r\n",
      "Evaluating:  65%|██████████████████████████████████████▌                    | 36/55 [00:59<00:32,  1.69s/it]"
     ]
    },
    {
     "name": "stderr",
     "output_type": "stream",
     "text": [
      "\r\n",
      "Evaluating:  67%|███████████████████████████████████████▋                   | 37/55 [01:00<00:30,  1.70s/it]"
     ]
    },
    {
     "name": "stderr",
     "output_type": "stream",
     "text": [
      "\r\n",
      "Evaluating:  69%|████████████████████████████████████████▊                  | 38/55 [01:02<00:29,  1.72s/it]"
     ]
    },
    {
     "name": "stderr",
     "output_type": "stream",
     "text": [
      "\r\n",
      "Evaluating:  71%|█████████████████████████████████████████▊                 | 39/55 [01:04<00:27,  1.72s/it]"
     ]
    },
    {
     "name": "stderr",
     "output_type": "stream",
     "text": [
      "\r\n",
      "Evaluating:  73%|██████████████████████████████████████████▉                | 40/55 [01:06<00:25,  1.72s/it]"
     ]
    },
    {
     "name": "stderr",
     "output_type": "stream",
     "text": [
      "\r\n",
      "Evaluating:  75%|███████████████████████████████████████████▉               | 41/55 [01:07<00:24,  1.71s/it]"
     ]
    },
    {
     "name": "stderr",
     "output_type": "stream",
     "text": [
      "\r\n",
      "Evaluating:  76%|█████████████████████████████████████████████              | 42/55 [01:09<00:22,  1.72s/it]"
     ]
    },
    {
     "name": "stderr",
     "output_type": "stream",
     "text": [
      "\r\n",
      "Evaluating:  78%|██████████████████████████████████████████████▏            | 43/55 [01:11<00:20,  1.72s/it]"
     ]
    },
    {
     "name": "stderr",
     "output_type": "stream",
     "text": [
      "\r\n",
      "Evaluating:  80%|███████████████████████████████████████████████▏           | 44/55 [01:12<00:18,  1.72s/it]"
     ]
    },
    {
     "name": "stderr",
     "output_type": "stream",
     "text": [
      "\r\n",
      "Evaluating:  82%|████████████████████████████████████████████████▎          | 45/55 [01:14<00:17,  1.71s/it]"
     ]
    },
    {
     "name": "stderr",
     "output_type": "stream",
     "text": [
      "\r\n",
      "Evaluating:  84%|█████████████████████████████████████████████████▎         | 46/55 [01:15<00:11,  1.32s/it]"
     ]
    },
    {
     "name": "stderr",
     "output_type": "stream",
     "text": [
      "\r\n",
      "Evaluating:  85%|██████████████████████████████████████████████████▍        | 47/55 [01:16<00:11,  1.44s/it]"
     ]
    },
    {
     "name": "stderr",
     "output_type": "stream",
     "text": [
      "\r\n",
      "Evaluating:  87%|███████████████████████████████████████████████████▍       | 48/55 [01:18<00:10,  1.51s/it]"
     ]
    },
    {
     "name": "stderr",
     "output_type": "stream",
     "text": [
      "\r\n",
      "Evaluating:  89%|████████████████████████████████████████████████████▌      | 49/55 [01:20<00:09,  1.57s/it]"
     ]
    },
    {
     "name": "stderr",
     "output_type": "stream",
     "text": [
      "\r\n",
      "Evaluating:  91%|█████████████████████████████████████████████████████▋     | 50/55 [01:21<00:08,  1.62s/it]"
     ]
    },
    {
     "name": "stderr",
     "output_type": "stream",
     "text": [
      "\r\n",
      "Evaluating:  93%|██████████████████████████████████████████████████████▋    | 51/55 [01:23<00:06,  1.65s/it]"
     ]
    },
    {
     "name": "stderr",
     "output_type": "stream",
     "text": [
      "\r\n",
      "Evaluating:  95%|███████████████████████████████████████████████████████▊   | 52/55 [01:25<00:05,  1.67s/it]"
     ]
    },
    {
     "name": "stderr",
     "output_type": "stream",
     "text": [
      "\r\n",
      "Evaluating:  96%|████████████████████████████████████████████████████████▊  | 53/55 [01:27<00:03,  1.69s/it]"
     ]
    },
    {
     "name": "stderr",
     "output_type": "stream",
     "text": [
      "\r\n",
      "Evaluating:  98%|█████████████████████████████████████████████████████████▉ | 54/55 [01:28<00:01,  1.69s/it]"
     ]
    },
    {
     "name": "stderr",
     "output_type": "stream",
     "text": [
      "\r\n",
      "Evaluating: 100%|███████████████████████████████████████████████████████████| 55/55 [01:29<00:00,  1.27s/it]"
     ]
    },
    {
     "name": "stderr",
     "output_type": "stream",
     "text": [
      "\r\n",
      "Evaluating: 100%|███████████████████████████████████████████████████████████| 55/55 [01:29<00:00,  1.62s/it]"
     ]
    },
    {
     "name": "stderr",
     "output_type": "stream",
     "text": [
      "\n",
      "INFO:src.models.trainer:Validation metrics: {'accuracy': 0.9913817868428613, 'f1': 0.99130613895785, 'precision': 0.9912741747015649, 'recall': 0.9913817868428613, 'auc': 0.9969461574952562, 'loss': 0.027544582506049086}\n"
     ]
    },
    {
     "name": "stderr",
     "output_type": "stream",
     "text": [
      "INFO:src.models.trainer:New best model with validation AUC: 0.9969\n"
     ]
    },
    {
     "name": "stderr",
     "output_type": "stream",
     "text": [
      "INFO:src.models.trainer:\n",
      "Epoch 3/3\n"
     ]
    },
    {
     "name": "stderr",
     "output_type": "stream",
     "text": [
      "\r\n",
      "Training:   0%|                                                                     | 0/254 [00:00<?, ?it/s]"
     ]
    },
    {
     "name": "stderr",
     "output_type": "stream",
     "text": [
      "/home/luuka/thesis/workspace/src/models/trainer.py:91: FutureWarning: `torch.cuda.amp.autocast(args...)` is deprecated. Please use `torch.amp.autocast('cuda', args...)` instead.\n",
      "  with torch.cuda.amp.autocast():\n"
     ]
    },
    {
     "name": "stderr",
     "output_type": "stream",
     "text": [
      "\r\n",
      "Training:   0%|                                                        | 0/254 [00:02<?, ?it/s, loss=0.1093]"
     ]
    },
    {
     "name": "stderr",
     "output_type": "stream",
     "text": [
      "\r\n",
      "Training:   0%|▏                                               | 1/254 [00:02<09:16,  2.20s/it, loss=0.1093]"
     ]
    },
    {
     "name": "stderr",
     "output_type": "stream",
     "text": [
      "\r\n",
      "Training:   0%|▏                                               | 1/254 [00:04<09:16,  2.20s/it, loss=0.0039]"
     ]
    },
    {
     "name": "stderr",
     "output_type": "stream",
     "text": [
      "\r\n",
      "Training:   1%|▍                                               | 2/254 [00:04<08:58,  2.14s/it, loss=0.0039]"
     ]
    },
    {
     "name": "stderr",
     "output_type": "stream",
     "text": [
      "\r\n",
      "Training:   1%|▍                                               | 2/254 [00:06<08:58,  2.14s/it, loss=0.0030]"
     ]
    },
    {
     "name": "stderr",
     "output_type": "stream",
     "text": [
      "\r\n",
      "Training:   1%|▌                                               | 3/254 [00:06<08:49,  2.11s/it, loss=0.0030]"
     ]
    },
    {
     "name": "stderr",
     "output_type": "stream",
     "text": [
      "\r\n",
      "Training:   1%|▌                                               | 3/254 [00:08<08:49,  2.11s/it, loss=0.0563]"
     ]
    },
    {
     "name": "stderr",
     "output_type": "stream",
     "text": [
      "\r\n",
      "Training:   2%|▊                                               | 4/254 [00:08<08:44,  2.10s/it, loss=0.0563]"
     ]
    },
    {
     "name": "stderr",
     "output_type": "stream",
     "text": [
      "\r\n",
      "Training:   2%|▊                                               | 4/254 [00:10<08:44,  2.10s/it, loss=0.0037]"
     ]
    },
    {
     "name": "stderr",
     "output_type": "stream",
     "text": [
      "\r\n",
      "Training:   2%|▉                                               | 5/254 [00:10<08:41,  2.09s/it, loss=0.0037]"
     ]
    },
    {
     "name": "stderr",
     "output_type": "stream",
     "text": [
      "\r\n",
      "Training:   2%|▉                                               | 5/254 [00:12<08:41,  2.09s/it, loss=0.0061]"
     ]
    },
    {
     "name": "stderr",
     "output_type": "stream",
     "text": [
      "\r\n",
      "Training:   2%|█▏                                              | 6/254 [00:12<08:38,  2.09s/it, loss=0.0061]"
     ]
    },
    {
     "name": "stderr",
     "output_type": "stream",
     "text": [
      "\r\n",
      "Training:   2%|█▏                                              | 6/254 [00:14<08:38,  2.09s/it, loss=0.0129]"
     ]
    },
    {
     "name": "stderr",
     "output_type": "stream",
     "text": [
      "\r\n",
      "Training:   3%|█▎                                              | 7/254 [00:14<08:36,  2.09s/it, loss=0.0129]"
     ]
    },
    {
     "name": "stderr",
     "output_type": "stream",
     "text": [
      "\r\n",
      "Training:   3%|█▎                                              | 7/254 [00:15<08:36,  2.09s/it, loss=0.0052]"
     ]
    },
    {
     "name": "stderr",
     "output_type": "stream",
     "text": [
      "\r\n",
      "Training:   3%|█▌                                              | 8/254 [00:15<06:56,  1.69s/it, loss=0.0052]"
     ]
    },
    {
     "name": "stderr",
     "output_type": "stream",
     "text": [
      "\r\n",
      "Training:   3%|█▌                                              | 8/254 [00:17<06:56,  1.69s/it, loss=0.0098]"
     ]
    },
    {
     "name": "stderr",
     "output_type": "stream",
     "text": [
      "\r\n",
      "Training:   4%|█▋                                              | 9/254 [00:17<07:24,  1.82s/it, loss=0.0098]"
     ]
    },
    {
     "name": "stderr",
     "output_type": "stream",
     "text": [
      "\r\n",
      "Training:   4%|█▋                                              | 9/254 [00:19<07:24,  1.82s/it, loss=0.0076]"
     ]
    },
    {
     "name": "stderr",
     "output_type": "stream",
     "text": [
      "\r\n",
      "Training:   4%|█▊                                             | 10/254 [00:19<07:43,  1.90s/it, loss=0.0076]"
     ]
    },
    {
     "name": "stderr",
     "output_type": "stream",
     "text": [
      "\r\n",
      "Training:   4%|█▊                                             | 10/254 [00:21<07:43,  1.90s/it, loss=0.0486]"
     ]
    },
    {
     "name": "stderr",
     "output_type": "stream",
     "text": [
      "\r\n",
      "Training:   4%|██                                             | 11/254 [00:21<07:55,  1.96s/it, loss=0.0486]"
     ]
    },
    {
     "name": "stderr",
     "output_type": "stream",
     "text": [
      "\r\n",
      "Training:   4%|██                                             | 11/254 [00:23<07:55,  1.96s/it, loss=0.0057]"
     ]
    },
    {
     "name": "stderr",
     "output_type": "stream",
     "text": [
      "\r\n",
      "Training:   5%|██▏                                            | 12/254 [00:23<08:02,  1.99s/it, loss=0.0057]"
     ]
    },
    {
     "name": "stderr",
     "output_type": "stream",
     "text": [
      "\r\n",
      "Training:   5%|██▏                                            | 12/254 [00:25<08:02,  1.99s/it, loss=0.0582]"
     ]
    },
    {
     "name": "stderr",
     "output_type": "stream",
     "text": [
      "\r\n",
      "Training:   5%|██▍                                            | 13/254 [00:25<08:07,  2.02s/it, loss=0.0582]"
     ]
    },
    {
     "name": "stderr",
     "output_type": "stream",
     "text": [
      "\r\n",
      "Training:   5%|██▍                                            | 13/254 [00:28<08:07,  2.02s/it, loss=0.0079]"
     ]
    },
    {
     "name": "stderr",
     "output_type": "stream",
     "text": [
      "\r\n",
      "Training:   6%|██▌                                            | 14/254 [00:28<08:09,  2.04s/it, loss=0.0079]"
     ]
    },
    {
     "name": "stderr",
     "output_type": "stream",
     "text": [
      "\r\n",
      "Training:   6%|██▌                                            | 14/254 [00:30<08:09,  2.04s/it, loss=0.0054]"
     ]
    },
    {
     "name": "stderr",
     "output_type": "stream",
     "text": [
      "\r\n",
      "Training:   6%|██▊                                            | 15/254 [00:30<08:10,  2.05s/it, loss=0.0054]"
     ]
    },
    {
     "name": "stderr",
     "output_type": "stream",
     "text": [
      "\r\n",
      "Training:   6%|██▊                                            | 15/254 [00:32<08:10,  2.05s/it, loss=0.0309]"
     ]
    },
    {
     "name": "stderr",
     "output_type": "stream",
     "text": [
      "\r\n",
      "Training:   6%|██▉                                            | 16/254 [00:32<08:10,  2.06s/it, loss=0.0309]"
     ]
    },
    {
     "name": "stderr",
     "output_type": "stream",
     "text": [
      "\r\n",
      "Training:   6%|██▉                                            | 16/254 [00:34<08:10,  2.06s/it, loss=0.0176]"
     ]
    },
    {
     "name": "stderr",
     "output_type": "stream",
     "text": [
      "\r\n",
      "Training:   7%|███▏                                           | 17/254 [00:34<08:10,  2.07s/it, loss=0.0176]"
     ]
    },
    {
     "name": "stderr",
     "output_type": "stream",
     "text": [
      "\r\n",
      "Training:   7%|███▏                                           | 17/254 [00:36<08:10,  2.07s/it, loss=0.0350]"
     ]
    },
    {
     "name": "stderr",
     "output_type": "stream",
     "text": [
      "\r\n",
      "Training:   7%|███▎                                           | 18/254 [00:36<08:09,  2.07s/it, loss=0.0350]"
     ]
    },
    {
     "name": "stderr",
     "output_type": "stream",
     "text": [
      "\r\n",
      "Training:   7%|███▎                                           | 18/254 [00:38<08:09,  2.07s/it, loss=0.0029]"
     ]
    },
    {
     "name": "stderr",
     "output_type": "stream",
     "text": [
      "\r\n",
      "Training:   7%|███▌                                           | 19/254 [00:38<08:07,  2.08s/it, loss=0.0029]"
     ]
    },
    {
     "name": "stderr",
     "output_type": "stream",
     "text": [
      "\r\n",
      "Training:   7%|███▌                                           | 19/254 [00:40<08:07,  2.08s/it, loss=0.0694]"
     ]
    },
    {
     "name": "stderr",
     "output_type": "stream",
     "text": [
      "\r\n",
      "Training:   8%|███▋                                           | 20/254 [00:40<08:06,  2.08s/it, loss=0.0694]"
     ]
    },
    {
     "name": "stderr",
     "output_type": "stream",
     "text": [
      "\r\n",
      "Training:   8%|███▋                                           | 20/254 [00:42<08:06,  2.08s/it, loss=0.0161]"
     ]
    },
    {
     "name": "stderr",
     "output_type": "stream",
     "text": [
      "\r\n",
      "Training:   8%|███▉                                           | 21/254 [00:42<08:04,  2.08s/it, loss=0.0161]"
     ]
    },
    {
     "name": "stderr",
     "output_type": "stream",
     "text": [
      "\r\n",
      "Training:   8%|███▉                                           | 21/254 [00:44<08:04,  2.08s/it, loss=0.0077]"
     ]
    },
    {
     "name": "stderr",
     "output_type": "stream",
     "text": [
      "\r\n",
      "Training:   9%|████                                           | 22/254 [00:44<08:02,  2.08s/it, loss=0.0077]"
     ]
    },
    {
     "name": "stderr",
     "output_type": "stream",
     "text": [
      "\r\n",
      "Training:   9%|████                                           | 22/254 [00:45<08:02,  2.08s/it, loss=0.0073]"
     ]
    },
    {
     "name": "stderr",
     "output_type": "stream",
     "text": [
      "\r\n",
      "Training:   9%|████▎                                          | 23/254 [00:45<06:33,  1.71s/it, loss=0.0073]"
     ]
    },
    {
     "name": "stderr",
     "output_type": "stream",
     "text": [
      "\r\n",
      "Training:   9%|████▎                                          | 23/254 [00:47<06:33,  1.71s/it, loss=0.0296]"
     ]
    },
    {
     "name": "stderr",
     "output_type": "stream",
     "text": [
      "\r\n",
      "Training:   9%|████▍                                          | 24/254 [00:47<06:58,  1.82s/it, loss=0.0296]"
     ]
    },
    {
     "name": "stderr",
     "output_type": "stream",
     "text": [
      "\r\n",
      "Training:   9%|████▍                                          | 24/254 [00:49<06:58,  1.82s/it, loss=0.0035]"
     ]
    },
    {
     "name": "stderr",
     "output_type": "stream",
     "text": [
      "\r\n",
      "Training:  10%|████▋                                          | 25/254 [00:49<07:14,  1.90s/it, loss=0.0035]"
     ]
    },
    {
     "name": "stderr",
     "output_type": "stream",
     "text": [
      "\r\n",
      "Training:  10%|████▋                                          | 25/254 [00:51<07:14,  1.90s/it, loss=0.0022]"
     ]
    },
    {
     "name": "stderr",
     "output_type": "stream",
     "text": [
      "\r\n",
      "Training:  10%|████▊                                          | 26/254 [00:51<07:25,  1.95s/it, loss=0.0022]"
     ]
    },
    {
     "name": "stderr",
     "output_type": "stream",
     "text": [
      "\r\n",
      "Training:  10%|████▊                                          | 26/254 [00:53<07:25,  1.95s/it, loss=0.0121]"
     ]
    },
    {
     "name": "stderr",
     "output_type": "stream",
     "text": [
      "\r\n",
      "Training:  11%|████▉                                          | 27/254 [00:53<07:32,  1.99s/it, loss=0.0121]"
     ]
    },
    {
     "name": "stderr",
     "output_type": "stream",
     "text": [
      "\r\n",
      "Training:  11%|████▉                                          | 27/254 [00:55<07:32,  1.99s/it, loss=0.0682]"
     ]
    },
    {
     "name": "stderr",
     "output_type": "stream",
     "text": [
      "\r\n",
      "Training:  11%|█████▏                                         | 28/254 [00:55<07:36,  2.02s/it, loss=0.0682]"
     ]
    },
    {
     "name": "stderr",
     "output_type": "stream",
     "text": [
      "\r\n",
      "Training:  11%|█████▏                                         | 28/254 [00:58<07:36,  2.02s/it, loss=0.0325]"
     ]
    },
    {
     "name": "stderr",
     "output_type": "stream",
     "text": [
      "\r\n",
      "Training:  11%|█████▎                                         | 29/254 [00:58<07:39,  2.04s/it, loss=0.0325]"
     ]
    },
    {
     "name": "stderr",
     "output_type": "stream",
     "text": [
      "\r\n",
      "Training:  11%|█████▎                                         | 29/254 [01:00<07:39,  2.04s/it, loss=0.0023]"
     ]
    },
    {
     "name": "stderr",
     "output_type": "stream",
     "text": [
      "\r\n",
      "Training:  12%|█████▌                                         | 30/254 [01:00<07:39,  2.05s/it, loss=0.0023]"
     ]
    },
    {
     "name": "stderr",
     "output_type": "stream",
     "text": [
      "\r\n",
      "Training:  12%|█████▌                                         | 30/254 [01:02<07:39,  2.05s/it, loss=0.0030]"
     ]
    },
    {
     "name": "stderr",
     "output_type": "stream",
     "text": [
      "\r\n",
      "Training:  12%|█████▋                                         | 31/254 [01:02<07:39,  2.06s/it, loss=0.0030]"
     ]
    },
    {
     "name": "stderr",
     "output_type": "stream",
     "text": [
      "\r\n",
      "Training:  12%|█████▋                                         | 31/254 [01:04<07:39,  2.06s/it, loss=0.0018]"
     ]
    },
    {
     "name": "stderr",
     "output_type": "stream",
     "text": [
      "\r\n",
      "Training:  13%|█████▉                                         | 32/254 [01:04<07:39,  2.07s/it, loss=0.0018]"
     ]
    },
    {
     "name": "stderr",
     "output_type": "stream",
     "text": [
      "\r\n",
      "Training:  13%|█████▉                                         | 32/254 [01:06<07:39,  2.07s/it, loss=0.0021]"
     ]
    },
    {
     "name": "stderr",
     "output_type": "stream",
     "text": [
      "\r\n",
      "Training:  13%|██████                                         | 33/254 [01:06<07:38,  2.07s/it, loss=0.0021]"
     ]
    },
    {
     "name": "stderr",
     "output_type": "stream",
     "text": [
      "\r\n",
      "Training:  13%|██████                                         | 33/254 [01:08<07:38,  2.07s/it, loss=0.0043]"
     ]
    },
    {
     "name": "stderr",
     "output_type": "stream",
     "text": [
      "\r\n",
      "Training:  13%|██████▎                                        | 34/254 [01:08<07:37,  2.08s/it, loss=0.0043]"
     ]
    },
    {
     "name": "stderr",
     "output_type": "stream",
     "text": [
      "\r\n",
      "Training:  13%|██████▎                                        | 34/254 [01:10<07:37,  2.08s/it, loss=0.0024]"
     ]
    },
    {
     "name": "stderr",
     "output_type": "stream",
     "text": [
      "\r\n",
      "Training:  14%|██████▍                                        | 35/254 [01:10<07:35,  2.08s/it, loss=0.0024]"
     ]
    },
    {
     "name": "stderr",
     "output_type": "stream",
     "text": [
      "\r\n",
      "Training:  14%|██████▍                                        | 35/254 [01:12<07:35,  2.08s/it, loss=0.0626]"
     ]
    },
    {
     "name": "stderr",
     "output_type": "stream",
     "text": [
      "\r\n",
      "Training:  14%|██████▋                                        | 36/254 [01:12<07:34,  2.08s/it, loss=0.0626]"
     ]
    },
    {
     "name": "stderr",
     "output_type": "stream",
     "text": [
      "\r\n",
      "Training:  14%|██████▋                                        | 36/254 [01:14<07:34,  2.08s/it, loss=0.0184]"
     ]
    },
    {
     "name": "stderr",
     "output_type": "stream",
     "text": [
      "\r\n",
      "Training:  15%|██████▊                                        | 37/254 [01:14<07:32,  2.08s/it, loss=0.0184]"
     ]
    },
    {
     "name": "stderr",
     "output_type": "stream",
     "text": [
      "\r\n",
      "Training:  15%|██████▊                                        | 37/254 [01:15<07:32,  2.08s/it, loss=0.1316]"
     ]
    },
    {
     "name": "stderr",
     "output_type": "stream",
     "text": [
      "\r\n",
      "Training:  15%|███████                                        | 38/254 [01:15<06:08,  1.71s/it, loss=0.1316]"
     ]
    },
    {
     "name": "stderr",
     "output_type": "stream",
     "text": [
      "\r\n",
      "Training:  15%|███████                                        | 38/254 [01:17<06:08,  1.71s/it, loss=0.0030]"
     ]
    },
    {
     "name": "stderr",
     "output_type": "stream",
     "text": [
      "\r\n",
      "Training:  15%|███████▏                                       | 39/254 [01:17<06:31,  1.82s/it, loss=0.0030]"
     ]
    },
    {
     "name": "stderr",
     "output_type": "stream",
     "text": [
      "\r\n",
      "Training:  15%|███████▏                                       | 39/254 [01:19<06:31,  1.82s/it, loss=0.0022]"
     ]
    },
    {
     "name": "stderr",
     "output_type": "stream",
     "text": [
      "\r\n",
      "Training:  16%|███████▍                                       | 40/254 [01:19<06:46,  1.90s/it, loss=0.0022]"
     ]
    },
    {
     "name": "stderr",
     "output_type": "stream",
     "text": [
      "\r\n",
      "Training:  16%|███████▍                                       | 40/254 [01:21<06:46,  1.90s/it, loss=0.0083]"
     ]
    },
    {
     "name": "stderr",
     "output_type": "stream",
     "text": [
      "\r\n",
      "Training:  16%|███████▌                                       | 41/254 [01:21<06:56,  1.96s/it, loss=0.0083]"
     ]
    },
    {
     "name": "stderr",
     "output_type": "stream",
     "text": [
      "\r\n",
      "Training:  16%|███████▌                                       | 41/254 [01:23<06:56,  1.96s/it, loss=0.1149]"
     ]
    },
    {
     "name": "stderr",
     "output_type": "stream",
     "text": [
      "\r\n",
      "Training:  17%|███████▊                                       | 42/254 [01:23<07:02,  2.00s/it, loss=0.1149]"
     ]
    },
    {
     "name": "stderr",
     "output_type": "stream",
     "text": [
      "\r\n",
      "Training:  17%|███████▊                                       | 42/254 [01:26<07:02,  2.00s/it, loss=0.1349]"
     ]
    },
    {
     "name": "stderr",
     "output_type": "stream",
     "text": [
      "\r\n",
      "Training:  17%|███████▉                                       | 43/254 [01:26<07:07,  2.02s/it, loss=0.1349]"
     ]
    },
    {
     "name": "stderr",
     "output_type": "stream",
     "text": [
      "\r\n",
      "Training:  17%|███████▉                                       | 43/254 [01:28<07:07,  2.02s/it, loss=0.0332]"
     ]
    },
    {
     "name": "stderr",
     "output_type": "stream",
     "text": [
      "\r\n",
      "Training:  17%|████████▏                                      | 44/254 [01:28<07:08,  2.04s/it, loss=0.0332]"
     ]
    },
    {
     "name": "stderr",
     "output_type": "stream",
     "text": [
      "\r\n",
      "Training:  17%|████████▏                                      | 44/254 [01:30<07:08,  2.04s/it, loss=0.0029]"
     ]
    },
    {
     "name": "stderr",
     "output_type": "stream",
     "text": [
      "\r\n",
      "Training:  18%|████████▎                                      | 45/254 [01:30<07:09,  2.06s/it, loss=0.0029]"
     ]
    },
    {
     "name": "stderr",
     "output_type": "stream",
     "text": [
      "\r\n",
      "Training:  18%|████████▎                                      | 45/254 [01:32<07:09,  2.06s/it, loss=0.0049]"
     ]
    },
    {
     "name": "stderr",
     "output_type": "stream",
     "text": [
      "\r\n",
      "Training:  18%|████████▌                                      | 46/254 [01:32<07:09,  2.06s/it, loss=0.0049]"
     ]
    },
    {
     "name": "stderr",
     "output_type": "stream",
     "text": [
      "\r\n",
      "Training:  18%|████████▌                                      | 46/254 [01:34<07:09,  2.06s/it, loss=0.0164]"
     ]
    },
    {
     "name": "stderr",
     "output_type": "stream",
     "text": [
      "\r\n",
      "Training:  19%|████████▋                                      | 47/254 [01:34<07:08,  2.07s/it, loss=0.0164]"
     ]
    },
    {
     "name": "stderr",
     "output_type": "stream",
     "text": [
      "\r\n",
      "Training:  19%|████████▋                                      | 47/254 [01:36<07:08,  2.07s/it, loss=0.1078]"
     ]
    },
    {
     "name": "stderr",
     "output_type": "stream",
     "text": [
      "\r\n",
      "Training:  19%|████████▉                                      | 48/254 [01:36<07:07,  2.08s/it, loss=0.1078]"
     ]
    },
    {
     "name": "stderr",
     "output_type": "stream",
     "text": [
      "\r\n",
      "Training:  19%|████████▉                                      | 48/254 [01:38<07:07,  2.08s/it, loss=0.0091]"
     ]
    },
    {
     "name": "stderr",
     "output_type": "stream",
     "text": [
      "\r\n",
      "Training:  19%|█████████                                      | 49/254 [01:38<07:06,  2.08s/it, loss=0.0091]"
     ]
    },
    {
     "name": "stderr",
     "output_type": "stream",
     "text": [
      "\r\n",
      "Training:  19%|█████████                                      | 49/254 [01:40<07:06,  2.08s/it, loss=0.0137]"
     ]
    },
    {
     "name": "stderr",
     "output_type": "stream",
     "text": [
      "\r\n",
      "Training:  20%|█████████▎                                     | 50/254 [01:40<07:04,  2.08s/it, loss=0.0137]"
     ]
    },
    {
     "name": "stderr",
     "output_type": "stream",
     "text": [
      "\r\n",
      "Training:  20%|█████████▎                                     | 50/254 [01:42<07:04,  2.08s/it, loss=0.0025]"
     ]
    },
    {
     "name": "stderr",
     "output_type": "stream",
     "text": [
      "\r\n",
      "Training:  20%|█████████▍                                     | 51/254 [01:42<07:02,  2.08s/it, loss=0.0025]"
     ]
    },
    {
     "name": "stderr",
     "output_type": "stream",
     "text": [
      "\r\n",
      "Training:  20%|█████████▍                                     | 51/254 [01:44<07:02,  2.08s/it, loss=0.0054]"
     ]
    },
    {
     "name": "stderr",
     "output_type": "stream",
     "text": [
      "\r\n",
      "Training:  20%|█████████▌                                     | 52/254 [01:44<07:00,  2.08s/it, loss=0.0054]"
     ]
    },
    {
     "name": "stderr",
     "output_type": "stream",
     "text": [
      "\r\n",
      "Training:  20%|█████████▌                                     | 52/254 [01:46<07:00,  2.08s/it, loss=0.0033]"
     ]
    },
    {
     "name": "stderr",
     "output_type": "stream",
     "text": [
      "\r\n",
      "Training:  21%|█████████▊                                     | 53/254 [01:46<06:58,  2.08s/it, loss=0.0033]"
     ]
    },
    {
     "name": "stderr",
     "output_type": "stream",
     "text": [
      "\r\n",
      "Training:  21%|█████████▊                                     | 53/254 [01:47<06:58,  2.08s/it, loss=0.0035]"
     ]
    },
    {
     "name": "stderr",
     "output_type": "stream",
     "text": [
      "\r\n",
      "Training:  21%|█████████▉                                     | 54/254 [01:47<05:38,  1.69s/it, loss=0.0035]"
     ]
    },
    {
     "name": "stderr",
     "output_type": "stream",
     "text": [
      "\r\n",
      "Training:  21%|█████████▉                                     | 54/254 [01:49<05:38,  1.69s/it, loss=0.0124]"
     ]
    },
    {
     "name": "stderr",
     "output_type": "stream",
     "text": [
      "\r\n",
      "Training:  22%|██████████▏                                    | 55/254 [01:49<06:00,  1.81s/it, loss=0.0124]"
     ]
    },
    {
     "name": "stderr",
     "output_type": "stream",
     "text": [
      "\r\n",
      "Training:  22%|██████████▏                                    | 55/254 [01:51<06:00,  1.81s/it, loss=0.1136]"
     ]
    },
    {
     "name": "stderr",
     "output_type": "stream",
     "text": [
      "\r\n",
      "Training:  22%|██████████▎                                    | 56/254 [01:51<06:15,  1.89s/it, loss=0.1136]"
     ]
    },
    {
     "name": "stderr",
     "output_type": "stream",
     "text": [
      "\r\n",
      "Training:  22%|██████████▎                                    | 56/254 [01:53<06:15,  1.89s/it, loss=0.0025]"
     ]
    },
    {
     "name": "stderr",
     "output_type": "stream",
     "text": [
      "\r\n",
      "Training:  22%|██████████▌                                    | 57/254 [01:53<06:24,  1.95s/it, loss=0.0025]"
     ]
    },
    {
     "name": "stderr",
     "output_type": "stream",
     "text": [
      "\r\n",
      "Training:  22%|██████████▌                                    | 57/254 [01:55<06:24,  1.95s/it, loss=0.1026]"
     ]
    },
    {
     "name": "stderr",
     "output_type": "stream",
     "text": [
      "\r\n",
      "Training:  23%|██████████▋                                    | 58/254 [01:55<06:30,  1.99s/it, loss=0.1026]"
     ]
    },
    {
     "name": "stderr",
     "output_type": "stream",
     "text": [
      "\r\n",
      "Training:  23%|██████████▋                                    | 58/254 [01:58<06:30,  1.99s/it, loss=0.0071]"
     ]
    },
    {
     "name": "stderr",
     "output_type": "stream",
     "text": [
      "\r\n",
      "Training:  23%|██████████▉                                    | 59/254 [01:58<06:33,  2.02s/it, loss=0.0071]"
     ]
    },
    {
     "name": "stderr",
     "output_type": "stream",
     "text": [
      "\r\n",
      "Training:  23%|██████████▉                                    | 59/254 [02:00<06:33,  2.02s/it, loss=0.0030]"
     ]
    },
    {
     "name": "stderr",
     "output_type": "stream",
     "text": [
      "\r\n",
      "Training:  24%|███████████                                    | 60/254 [02:00<06:36,  2.04s/it, loss=0.0030]"
     ]
    },
    {
     "name": "stderr",
     "output_type": "stream",
     "text": [
      "\r\n",
      "Training:  24%|███████████                                    | 60/254 [02:02<06:36,  2.04s/it, loss=0.0639]"
     ]
    },
    {
     "name": "stderr",
     "output_type": "stream",
     "text": [
      "\r\n",
      "Training:  24%|███████████▎                                   | 61/254 [02:02<06:36,  2.06s/it, loss=0.0639]"
     ]
    },
    {
     "name": "stderr",
     "output_type": "stream",
     "text": [
      "\r\n",
      "Training:  24%|███████████▎                                   | 61/254 [02:04<06:36,  2.06s/it, loss=0.0161]"
     ]
    },
    {
     "name": "stderr",
     "output_type": "stream",
     "text": [
      "\r\n",
      "Training:  24%|███████████▍                                   | 62/254 [02:04<06:36,  2.07s/it, loss=0.0161]"
     ]
    },
    {
     "name": "stderr",
     "output_type": "stream",
     "text": [
      "\r\n",
      "Training:  24%|███████████▍                                   | 62/254 [02:06<06:36,  2.07s/it, loss=0.1790]"
     ]
    },
    {
     "name": "stderr",
     "output_type": "stream",
     "text": [
      "\r\n",
      "Training:  25%|███████████▋                                   | 63/254 [02:06<06:35,  2.07s/it, loss=0.1790]"
     ]
    },
    {
     "name": "stderr",
     "output_type": "stream",
     "text": [
      "\r\n",
      "Training:  25%|███████████▋                                   | 63/254 [02:08<06:35,  2.07s/it, loss=0.0560]"
     ]
    },
    {
     "name": "stderr",
     "output_type": "stream",
     "text": [
      "\r\n",
      "Training:  25%|███████████▊                                   | 64/254 [02:08<06:34,  2.08s/it, loss=0.0560]"
     ]
    },
    {
     "name": "stderr",
     "output_type": "stream",
     "text": [
      "\r\n",
      "Training:  25%|███████████▊                                   | 64/254 [02:10<06:34,  2.08s/it, loss=0.0051]"
     ]
    },
    {
     "name": "stderr",
     "output_type": "stream",
     "text": [
      "\r\n",
      "Training:  26%|████████████                                   | 65/254 [02:10<06:33,  2.08s/it, loss=0.0051]"
     ]
    },
    {
     "name": "stderr",
     "output_type": "stream",
     "text": [
      "\r\n",
      "Training:  26%|████████████                                   | 65/254 [02:12<06:33,  2.08s/it, loss=0.0034]"
     ]
    },
    {
     "name": "stderr",
     "output_type": "stream",
     "text": [
      "\r\n",
      "Training:  26%|████████████▏                                  | 66/254 [02:12<06:32,  2.09s/it, loss=0.0034]"
     ]
    },
    {
     "name": "stderr",
     "output_type": "stream",
     "text": [
      "\r\n",
      "Training:  26%|████████████▏                                  | 66/254 [02:14<06:32,  2.09s/it, loss=0.0060]"
     ]
    },
    {
     "name": "stderr",
     "output_type": "stream",
     "text": [
      "\r\n",
      "Training:  26%|████████████▍                                  | 67/254 [02:14<06:30,  2.09s/it, loss=0.0060]"
     ]
    },
    {
     "name": "stderr",
     "output_type": "stream",
     "text": [
      "\r\n",
      "Training:  26%|████████████▍                                  | 67/254 [02:16<06:30,  2.09s/it, loss=0.0093]"
     ]
    },
    {
     "name": "stderr",
     "output_type": "stream",
     "text": [
      "\r\n",
      "Training:  27%|████████████▌                                  | 68/254 [02:16<06:28,  2.09s/it, loss=0.0093]"
     ]
    },
    {
     "name": "stderr",
     "output_type": "stream",
     "text": [
      "\r\n",
      "Training:  27%|████████████▌                                  | 68/254 [02:17<06:28,  2.09s/it, loss=0.0430]"
     ]
    },
    {
     "name": "stderr",
     "output_type": "stream",
     "text": [
      "\r\n",
      "Training:  27%|████████████▊                                  | 69/254 [02:17<05:13,  1.69s/it, loss=0.0430]"
     ]
    },
    {
     "name": "stderr",
     "output_type": "stream",
     "text": [
      "\r\n",
      "Training:  27%|████████████▊                                  | 69/254 [02:19<05:13,  1.69s/it, loss=0.0072]"
     ]
    },
    {
     "name": "stderr",
     "output_type": "stream",
     "text": [
      "\r\n",
      "Training:  28%|████████████▉                                  | 70/254 [02:19<05:33,  1.81s/it, loss=0.0072]"
     ]
    },
    {
     "name": "stderr",
     "output_type": "stream",
     "text": [
      "\r\n",
      "Training:  28%|████████████▉                                  | 70/254 [02:21<05:33,  1.81s/it, loss=0.0472]"
     ]
    },
    {
     "name": "stderr",
     "output_type": "stream",
     "text": [
      "\r\n",
      "Training:  28%|█████████████▏                                 | 71/254 [02:21<05:46,  1.89s/it, loss=0.0472]"
     ]
    },
    {
     "name": "stderr",
     "output_type": "stream",
     "text": [
      "\r\n",
      "Training:  28%|█████████████▏                                 | 71/254 [02:23<05:46,  1.89s/it, loss=0.0045]"
     ]
    },
    {
     "name": "stderr",
     "output_type": "stream",
     "text": [
      "\r\n",
      "Training:  28%|█████████████▎                                 | 72/254 [02:23<05:54,  1.95s/it, loss=0.0045]"
     ]
    },
    {
     "name": "stderr",
     "output_type": "stream",
     "text": [
      "\r\n",
      "Training:  28%|█████████████▎                                 | 72/254 [02:26<05:54,  1.95s/it, loss=0.0026]"
     ]
    },
    {
     "name": "stderr",
     "output_type": "stream",
     "text": [
      "\r\n",
      "Training:  29%|█████████████▌                                 | 73/254 [02:26<05:59,  1.99s/it, loss=0.0026]"
     ]
    },
    {
     "name": "stderr",
     "output_type": "stream",
     "text": [
      "\r\n",
      "Training:  29%|█████████████▌                                 | 73/254 [02:28<05:59,  1.99s/it, loss=0.0095]"
     ]
    },
    {
     "name": "stderr",
     "output_type": "stream",
     "text": [
      "\r\n",
      "Training:  29%|█████████████▋                                 | 74/254 [02:28<06:03,  2.02s/it, loss=0.0095]"
     ]
    },
    {
     "name": "stderr",
     "output_type": "stream",
     "text": [
      "\r\n",
      "Training:  29%|█████████████▋                                 | 74/254 [02:30<06:03,  2.02s/it, loss=0.0039]"
     ]
    },
    {
     "name": "stderr",
     "output_type": "stream",
     "text": [
      "\r\n",
      "Training:  30%|█████████████▉                                 | 75/254 [02:30<06:05,  2.04s/it, loss=0.0039]"
     ]
    },
    {
     "name": "stderr",
     "output_type": "stream",
     "text": [
      "\r\n",
      "Training:  30%|█████████████▉                                 | 75/254 [02:32<06:05,  2.04s/it, loss=0.0022]"
     ]
    },
    {
     "name": "stderr",
     "output_type": "stream",
     "text": [
      "\r\n",
      "Training:  30%|██████████████                                 | 76/254 [02:32<06:07,  2.06s/it, loss=0.0022]"
     ]
    },
    {
     "name": "stderr",
     "output_type": "stream",
     "text": [
      "\r\n",
      "Training:  30%|██████████████                                 | 76/254 [02:34<06:07,  2.06s/it, loss=0.0023]"
     ]
    },
    {
     "name": "stderr",
     "output_type": "stream",
     "text": [
      "\r\n",
      "Training:  30%|██████████████▏                                | 77/254 [02:34<06:07,  2.08s/it, loss=0.0023]"
     ]
    },
    {
     "name": "stderr",
     "output_type": "stream",
     "text": [
      "\r\n",
      "Training:  30%|██████████████▏                                | 77/254 [02:36<06:07,  2.08s/it, loss=0.0035]"
     ]
    },
    {
     "name": "stderr",
     "output_type": "stream",
     "text": [
      "\r\n",
      "Training:  31%|██████████████▍                                | 78/254 [02:36<06:06,  2.08s/it, loss=0.0035]"
     ]
    },
    {
     "name": "stderr",
     "output_type": "stream",
     "text": [
      "\r\n",
      "Training:  31%|██████████████▍                                | 78/254 [02:38<06:06,  2.08s/it, loss=0.0017]"
     ]
    },
    {
     "name": "stderr",
     "output_type": "stream",
     "text": [
      "\r\n",
      "Training:  31%|██████████████▌                                | 79/254 [02:38<06:05,  2.09s/it, loss=0.0017]"
     ]
    },
    {
     "name": "stderr",
     "output_type": "stream",
     "text": [
      "\r\n",
      "Training:  31%|██████████████▌                                | 79/254 [02:40<06:05,  2.09s/it, loss=0.0030]"
     ]
    },
    {
     "name": "stderr",
     "output_type": "stream",
     "text": [
      "\r\n",
      "Training:  31%|██████████████▊                                | 80/254 [02:40<06:03,  2.09s/it, loss=0.0030]"
     ]
    },
    {
     "name": "stderr",
     "output_type": "stream",
     "text": [
      "\r\n",
      "Training:  31%|██████████████▊                                | 80/254 [02:42<06:03,  2.09s/it, loss=0.0269]"
     ]
    },
    {
     "name": "stderr",
     "output_type": "stream",
     "text": [
      "\r\n",
      "Training:  32%|██████████████▉                                | 81/254 [02:42<06:01,  2.09s/it, loss=0.0269]"
     ]
    },
    {
     "name": "stderr",
     "output_type": "stream",
     "text": [
      "\r\n",
      "Training:  32%|██████████████▉                                | 81/254 [02:44<06:01,  2.09s/it, loss=0.0103]"
     ]
    },
    {
     "name": "stderr",
     "output_type": "stream",
     "text": [
      "\r\n",
      "Training:  32%|███████████████▏                               | 82/254 [02:44<05:59,  2.09s/it, loss=0.0103]"
     ]
    },
    {
     "name": "stderr",
     "output_type": "stream",
     "text": [
      "\r\n",
      "Training:  32%|███████████████▏                               | 82/254 [02:46<05:59,  2.09s/it, loss=0.0040]"
     ]
    },
    {
     "name": "stderr",
     "output_type": "stream",
     "text": [
      "\r\n",
      "Training:  33%|███████████████▎                               | 83/254 [02:46<05:56,  2.09s/it, loss=0.0040]"
     ]
    },
    {
     "name": "stderr",
     "output_type": "stream",
     "text": [
      "\r\n",
      "Training:  33%|███████████████▎                               | 83/254 [02:49<05:56,  2.09s/it, loss=0.0190]"
     ]
    },
    {
     "name": "stderr",
     "output_type": "stream",
     "text": [
      "\r\n",
      "Training:  33%|███████████████▌                               | 84/254 [02:49<05:54,  2.09s/it, loss=0.0190]"
     ]
    },
    {
     "name": "stderr",
     "output_type": "stream",
     "text": [
      "\r\n",
      "Training:  33%|███████████████▌                               | 84/254 [02:49<05:54,  2.09s/it, loss=0.0264]"
     ]
    },
    {
     "name": "stderr",
     "output_type": "stream",
     "text": [
      "\r\n",
      "Training:  33%|███████████████▋                               | 85/254 [02:49<04:45,  1.69s/it, loss=0.0264]"
     ]
    },
    {
     "name": "stderr",
     "output_type": "stream",
     "text": [
      "\r\n",
      "Training:  33%|███████████████▋                               | 85/254 [02:51<04:45,  1.69s/it, loss=0.1050]"
     ]
    },
    {
     "name": "stderr",
     "output_type": "stream",
     "text": [
      "\r\n",
      "Training:  34%|███████████████▉                               | 86/254 [02:51<05:03,  1.81s/it, loss=0.1050]"
     ]
    },
    {
     "name": "stderr",
     "output_type": "stream",
     "text": [
      "\r\n",
      "Training:  34%|███████████████▉                               | 86/254 [02:53<05:03,  1.81s/it, loss=0.0977]"
     ]
    },
    {
     "name": "stderr",
     "output_type": "stream",
     "text": [
      "\r\n",
      "Training:  34%|████████████████                               | 87/254 [02:53<05:15,  1.89s/it, loss=0.0977]"
     ]
    },
    {
     "name": "stderr",
     "output_type": "stream",
     "text": [
      "\r\n",
      "Training:  34%|████████████████                               | 87/254 [02:56<05:15,  1.89s/it, loss=0.0017]"
     ]
    },
    {
     "name": "stderr",
     "output_type": "stream",
     "text": [
      "\r\n",
      "Training:  35%|████████████████▎                              | 88/254 [02:56<05:23,  1.95s/it, loss=0.0017]"
     ]
    },
    {
     "name": "stderr",
     "output_type": "stream",
     "text": [
      "\r\n",
      "Training:  35%|████████████████▎                              | 88/254 [02:58<05:23,  1.95s/it, loss=0.0790]"
     ]
    },
    {
     "name": "stderr",
     "output_type": "stream",
     "text": [
      "\r\n",
      "Training:  35%|████████████████▍                              | 89/254 [02:58<05:28,  1.99s/it, loss=0.0790]"
     ]
    },
    {
     "name": "stderr",
     "output_type": "stream",
     "text": [
      "\r\n",
      "Training:  35%|████████████████▍                              | 89/254 [03:00<05:28,  1.99s/it, loss=0.0032]"
     ]
    },
    {
     "name": "stderr",
     "output_type": "stream",
     "text": [
      "\r\n",
      "Training:  35%|████████████████▋                              | 90/254 [03:00<05:30,  2.02s/it, loss=0.0032]"
     ]
    },
    {
     "name": "stderr",
     "output_type": "stream",
     "text": [
      "\r\n",
      "Training:  35%|████████████████▋                              | 90/254 [03:02<05:30,  2.02s/it, loss=0.0019]"
     ]
    },
    {
     "name": "stderr",
     "output_type": "stream",
     "text": [
      "\r\n",
      "Training:  36%|████████████████▊                              | 91/254 [03:02<05:32,  2.04s/it, loss=0.0019]"
     ]
    },
    {
     "name": "stderr",
     "output_type": "stream",
     "text": [
      "\r\n",
      "Training:  36%|████████████████▊                              | 91/254 [03:04<05:32,  2.04s/it, loss=0.0021]"
     ]
    },
    {
     "name": "stderr",
     "output_type": "stream",
     "text": [
      "\r\n",
      "Training:  36%|█████████████████                              | 92/254 [03:04<05:32,  2.05s/it, loss=0.0021]"
     ]
    },
    {
     "name": "stderr",
     "output_type": "stream",
     "text": [
      "\r\n",
      "Training:  36%|█████████████████                              | 92/254 [03:06<05:32,  2.05s/it, loss=0.0051]"
     ]
    },
    {
     "name": "stderr",
     "output_type": "stream",
     "text": [
      "\r\n",
      "Training:  37%|█████████████████▏                             | 93/254 [03:06<05:40,  2.11s/it, loss=0.0051]"
     ]
    },
    {
     "name": "stderr",
     "output_type": "stream",
     "text": [
      "\r\n",
      "Training:  37%|█████████████████▏                             | 93/254 [03:08<05:40,  2.11s/it, loss=0.0019]"
     ]
    },
    {
     "name": "stderr",
     "output_type": "stream",
     "text": [
      "\r\n",
      "Training:  37%|█████████████████▍                             | 94/254 [03:08<05:37,  2.11s/it, loss=0.0019]"
     ]
    },
    {
     "name": "stderr",
     "output_type": "stream",
     "text": [
      "\r\n",
      "Training:  37%|█████████████████▍                             | 94/254 [03:10<05:37,  2.11s/it, loss=0.0024]"
     ]
    },
    {
     "name": "stderr",
     "output_type": "stream",
     "text": [
      "\r\n",
      "Training:  37%|█████████████████▌                             | 95/254 [03:10<05:36,  2.12s/it, loss=0.0024]"
     ]
    },
    {
     "name": "stderr",
     "output_type": "stream",
     "text": [
      "\r\n",
      "Training:  37%|█████████████████▌                             | 95/254 [03:12<05:36,  2.12s/it, loss=0.0018]"
     ]
    },
    {
     "name": "stderr",
     "output_type": "stream",
     "text": [
      "\r\n",
      "Training:  38%|█████████████████▊                             | 96/254 [03:12<05:33,  2.11s/it, loss=0.0018]"
     ]
    },
    {
     "name": "stderr",
     "output_type": "stream",
     "text": [
      "\r\n",
      "Training:  38%|█████████████████▊                             | 96/254 [03:15<05:33,  2.11s/it, loss=0.0033]"
     ]
    },
    {
     "name": "stderr",
     "output_type": "stream",
     "text": [
      "\r\n",
      "Training:  38%|█████████████████▉                             | 97/254 [03:15<05:30,  2.10s/it, loss=0.0033]"
     ]
    },
    {
     "name": "stderr",
     "output_type": "stream",
     "text": [
      "\r\n",
      "Training:  38%|█████████████████▉                             | 97/254 [03:17<05:30,  2.10s/it, loss=0.0063]"
     ]
    },
    {
     "name": "stderr",
     "output_type": "stream",
     "text": [
      "\r\n",
      "Training:  39%|██████████████████▏                            | 98/254 [03:17<05:27,  2.10s/it, loss=0.0063]"
     ]
    },
    {
     "name": "stderr",
     "output_type": "stream",
     "text": [
      "\r\n",
      "Training:  39%|██████████████████▏                            | 98/254 [03:19<05:27,  2.10s/it, loss=0.0015]"
     ]
    },
    {
     "name": "stderr",
     "output_type": "stream",
     "text": [
      "\r\n",
      "Training:  39%|██████████████████▎                            | 99/254 [03:19<05:24,  2.09s/it, loss=0.0015]"
     ]
    },
    {
     "name": "stderr",
     "output_type": "stream",
     "text": [
      "\r\n",
      "Training:  39%|██████████████████▎                            | 99/254 [03:20<05:24,  2.09s/it, loss=0.0017]"
     ]
    },
    {
     "name": "stderr",
     "output_type": "stream",
     "text": [
      "\r\n",
      "Training:  39%|██████████████████                            | 100/254 [03:20<04:23,  1.71s/it, loss=0.0017]"
     ]
    },
    {
     "name": "stderr",
     "output_type": "stream",
     "text": [
      "\r\n",
      "Training:  39%|██████████████████                            | 100/254 [03:22<04:23,  1.71s/it, loss=0.0195]"
     ]
    },
    {
     "name": "stderr",
     "output_type": "stream",
     "text": [
      "\r\n",
      "Training:  40%|██████████████████▎                           | 101/254 [03:22<04:39,  1.82s/it, loss=0.0195]"
     ]
    },
    {
     "name": "stderr",
     "output_type": "stream",
     "text": [
      "\r\n",
      "Training:  40%|██████████████████▎                           | 101/254 [03:24<04:39,  1.82s/it, loss=0.0032]"
     ]
    },
    {
     "name": "stderr",
     "output_type": "stream",
     "text": [
      "\r\n",
      "Training:  40%|██████████████████▍                           | 102/254 [03:24<04:49,  1.90s/it, loss=0.0032]"
     ]
    },
    {
     "name": "stderr",
     "output_type": "stream",
     "text": [
      "\r\n",
      "Training:  40%|██████████████████▍                           | 102/254 [03:26<04:49,  1.90s/it, loss=0.0647]"
     ]
    },
    {
     "name": "stderr",
     "output_type": "stream",
     "text": [
      "\r\n",
      "Training:  41%|██████████████████▋                           | 103/254 [03:26<04:55,  1.96s/it, loss=0.0647]"
     ]
    },
    {
     "name": "stderr",
     "output_type": "stream",
     "text": [
      "\r\n",
      "Training:  41%|██████████████████▋                           | 103/254 [03:28<04:55,  1.96s/it, loss=0.0046]"
     ]
    },
    {
     "name": "stderr",
     "output_type": "stream",
     "text": [
      "\r\n",
      "Training:  41%|██████████████████▊                           | 104/254 [03:28<04:59,  1.99s/it, loss=0.0046]"
     ]
    },
    {
     "name": "stderr",
     "output_type": "stream",
     "text": [
      "\r\n",
      "Training:  41%|██████████████████▊                           | 104/254 [03:30<04:59,  1.99s/it, loss=0.0957]"
     ]
    },
    {
     "name": "stderr",
     "output_type": "stream",
     "text": [
      "\r\n",
      "Training:  41%|███████████████████                           | 105/254 [03:30<05:01,  2.02s/it, loss=0.0957]"
     ]
    },
    {
     "name": "stderr",
     "output_type": "stream",
     "text": [
      "\r\n",
      "Training:  41%|███████████████████                           | 105/254 [03:32<05:01,  2.02s/it, loss=0.0137]"
     ]
    },
    {
     "name": "stderr",
     "output_type": "stream",
     "text": [
      "\r\n",
      "Training:  42%|███████████████████▏                          | 106/254 [03:32<05:02,  2.04s/it, loss=0.0137]"
     ]
    },
    {
     "name": "stderr",
     "output_type": "stream",
     "text": [
      "\r\n",
      "Training:  42%|███████████████████▏                          | 106/254 [03:34<05:02,  2.04s/it, loss=0.0024]"
     ]
    },
    {
     "name": "stderr",
     "output_type": "stream",
     "text": [
      "\r\n",
      "Training:  42%|███████████████████▍                          | 107/254 [03:34<05:02,  2.06s/it, loss=0.0024]"
     ]
    },
    {
     "name": "stderr",
     "output_type": "stream",
     "text": [
      "\r\n",
      "Training:  42%|███████████████████▍                          | 107/254 [03:36<05:02,  2.06s/it, loss=0.0014]"
     ]
    },
    {
     "name": "stderr",
     "output_type": "stream",
     "text": [
      "\r\n",
      "Training:  43%|███████████████████▌                          | 108/254 [03:36<05:01,  2.07s/it, loss=0.0014]"
     ]
    },
    {
     "name": "stderr",
     "output_type": "stream",
     "text": [
      "\r\n",
      "Training:  43%|███████████████████▌                          | 108/254 [03:38<05:01,  2.07s/it, loss=0.0926]"
     ]
    },
    {
     "name": "stderr",
     "output_type": "stream",
     "text": [
      "\r\n",
      "Training:  43%|███████████████████▋                          | 109/254 [03:38<05:00,  2.07s/it, loss=0.0926]"
     ]
    },
    {
     "name": "stderr",
     "output_type": "stream",
     "text": [
      "\r\n",
      "Training:  43%|███████████████████▋                          | 109/254 [03:40<05:00,  2.07s/it, loss=0.0031]"
     ]
    },
    {
     "name": "stderr",
     "output_type": "stream",
     "text": [
      "\r\n",
      "Training:  43%|███████████████████▉                          | 110/254 [03:40<04:59,  2.08s/it, loss=0.0031]"
     ]
    },
    {
     "name": "stderr",
     "output_type": "stream",
     "text": [
      "\r\n",
      "Training:  43%|███████████████████▉                          | 110/254 [03:43<04:59,  2.08s/it, loss=0.0495]"
     ]
    },
    {
     "name": "stderr",
     "output_type": "stream",
     "text": [
      "\r\n",
      "Training:  44%|████████████████████                          | 111/254 [03:43<04:57,  2.08s/it, loss=0.0495]"
     ]
    },
    {
     "name": "stderr",
     "output_type": "stream",
     "text": [
      "\r\n",
      "Training:  44%|████████████████████                          | 111/254 [03:45<04:57,  2.08s/it, loss=0.0089]"
     ]
    },
    {
     "name": "stderr",
     "output_type": "stream",
     "text": [
      "\r\n",
      "Training:  44%|████████████████████▎                         | 112/254 [03:45<04:55,  2.08s/it, loss=0.0089]"
     ]
    },
    {
     "name": "stderr",
     "output_type": "stream",
     "text": [
      "\r\n",
      "Training:  44%|████████████████████▎                         | 112/254 [03:47<04:55,  2.08s/it, loss=0.0728]"
     ]
    },
    {
     "name": "stderr",
     "output_type": "stream",
     "text": [
      "\r\n",
      "Training:  44%|████████████████████▍                         | 113/254 [03:47<04:53,  2.08s/it, loss=0.0728]"
     ]
    },
    {
     "name": "stderr",
     "output_type": "stream",
     "text": [
      "\r\n",
      "Training:  44%|████████████████████▍                         | 113/254 [03:49<04:53,  2.08s/it, loss=0.0864]"
     ]
    },
    {
     "name": "stderr",
     "output_type": "stream",
     "text": [
      "\r\n",
      "Training:  45%|████████████████████▋                         | 114/254 [03:49<04:51,  2.08s/it, loss=0.0864]"
     ]
    },
    {
     "name": "stderr",
     "output_type": "stream",
     "text": [
      "\r\n",
      "Training:  45%|████████████████████▋                         | 114/254 [03:51<04:51,  2.08s/it, loss=0.0045]"
     ]
    },
    {
     "name": "stderr",
     "output_type": "stream",
     "text": [
      "\r\n",
      "Training:  45%|████████████████████▊                         | 115/254 [03:51<04:49,  2.08s/it, loss=0.0045]"
     ]
    },
    {
     "name": "stderr",
     "output_type": "stream",
     "text": [
      "\r\n",
      "Training:  45%|████████████████████▊                         | 115/254 [03:52<04:49,  2.08s/it, loss=0.0025]"
     ]
    },
    {
     "name": "stderr",
     "output_type": "stream",
     "text": [
      "\r\n",
      "Training:  46%|█████████████████████                         | 116/254 [03:52<03:54,  1.70s/it, loss=0.0025]"
     ]
    },
    {
     "name": "stderr",
     "output_type": "stream",
     "text": [
      "\r\n",
      "Training:  46%|█████████████████████                         | 116/254 [03:54<03:54,  1.70s/it, loss=0.0359]"
     ]
    },
    {
     "name": "stderr",
     "output_type": "stream",
     "text": [
      "\r\n",
      "Training:  46%|█████████████████████▏                        | 117/254 [03:54<04:08,  1.81s/it, loss=0.0359]"
     ]
    },
    {
     "name": "stderr",
     "output_type": "stream",
     "text": [
      "\r\n",
      "Training:  46%|█████████████████████▏                        | 117/254 [03:56<04:08,  1.81s/it, loss=0.0060]"
     ]
    },
    {
     "name": "stderr",
     "output_type": "stream",
     "text": [
      "\r\n",
      "Training:  46%|█████████████████████▎                        | 118/254 [03:56<04:17,  1.89s/it, loss=0.0060]"
     ]
    },
    {
     "name": "stderr",
     "output_type": "stream",
     "text": [
      "\r\n",
      "Training:  46%|█████████████████████▎                        | 118/254 [03:58<04:17,  1.89s/it, loss=0.0415]"
     ]
    },
    {
     "name": "stderr",
     "output_type": "stream",
     "text": [
      "\r\n",
      "Training:  47%|█████████████████████▌                        | 119/254 [03:58<04:23,  1.95s/it, loss=0.0415]"
     ]
    },
    {
     "name": "stderr",
     "output_type": "stream",
     "text": [
      "\r\n",
      "Training:  47%|█████████████████████▌                        | 119/254 [04:00<04:23,  1.95s/it, loss=0.0795]"
     ]
    },
    {
     "name": "stderr",
     "output_type": "stream",
     "text": [
      "\r\n",
      "Training:  47%|█████████████████████▋                        | 120/254 [04:00<04:26,  1.99s/it, loss=0.0795]"
     ]
    },
    {
     "name": "stderr",
     "output_type": "stream",
     "text": [
      "\r\n",
      "Training:  47%|█████████████████████▋                        | 120/254 [04:02<04:26,  1.99s/it, loss=0.0675]"
     ]
    },
    {
     "name": "stderr",
     "output_type": "stream",
     "text": [
      "\r\n",
      "Training:  48%|█████████████████████▉                        | 121/254 [04:02<04:28,  2.02s/it, loss=0.0675]"
     ]
    },
    {
     "name": "stderr",
     "output_type": "stream",
     "text": [
      "\r\n",
      "Training:  48%|█████████████████████▉                        | 121/254 [04:04<04:28,  2.02s/it, loss=0.0943]"
     ]
    },
    {
     "name": "stderr",
     "output_type": "stream",
     "text": [
      "\r\n",
      "Training:  48%|██████████████████████                        | 122/254 [04:04<04:29,  2.04s/it, loss=0.0943]"
     ]
    },
    {
     "name": "stderr",
     "output_type": "stream",
     "text": [
      "\r\n",
      "Training:  48%|██████████████████████                        | 122/254 [04:06<04:29,  2.04s/it, loss=0.0132]"
     ]
    },
    {
     "name": "stderr",
     "output_type": "stream",
     "text": [
      "\r\n",
      "Training:  48%|██████████████████████▎                       | 123/254 [04:06<04:28,  2.05s/it, loss=0.0132]"
     ]
    },
    {
     "name": "stderr",
     "output_type": "stream",
     "text": [
      "\r\n",
      "Training:  48%|██████████████████████▎                       | 123/254 [04:08<04:28,  2.05s/it, loss=0.0106]"
     ]
    },
    {
     "name": "stderr",
     "output_type": "stream",
     "text": [
      "\r\n",
      "Training:  49%|██████████████████████▍                       | 124/254 [04:08<04:28,  2.06s/it, loss=0.0106]"
     ]
    },
    {
     "name": "stderr",
     "output_type": "stream",
     "text": [
      "\r\n",
      "Training:  49%|██████████████████████▍                       | 124/254 [04:10<04:28,  2.06s/it, loss=0.0023]"
     ]
    },
    {
     "name": "stderr",
     "output_type": "stream",
     "text": [
      "\r\n",
      "Training:  49%|██████████████████████▋                       | 125/254 [04:10<04:26,  2.07s/it, loss=0.0023]"
     ]
    },
    {
     "name": "stderr",
     "output_type": "stream",
     "text": [
      "\r\n",
      "Training:  49%|██████████████████████▋                       | 125/254 [04:13<04:26,  2.07s/it, loss=0.0067]"
     ]
    },
    {
     "name": "stderr",
     "output_type": "stream",
     "text": [
      "\r\n",
      "Training:  50%|██████████████████████▊                       | 126/254 [04:13<04:25,  2.07s/it, loss=0.0067]"
     ]
    },
    {
     "name": "stderr",
     "output_type": "stream",
     "text": [
      "\r\n",
      "Training:  50%|██████████████████████▊                       | 126/254 [04:15<04:25,  2.07s/it, loss=0.0073]"
     ]
    },
    {
     "name": "stderr",
     "output_type": "stream",
     "text": [
      "\r\n",
      "Training:  50%|███████████████████████                       | 127/254 [04:15<04:23,  2.08s/it, loss=0.0073]"
     ]
    },
    {
     "name": "stderr",
     "output_type": "stream",
     "text": [
      "\r\n",
      "Training:  50%|███████████████████████                       | 127/254 [04:17<04:23,  2.08s/it, loss=0.0024]"
     ]
    },
    {
     "name": "stderr",
     "output_type": "stream",
     "text": [
      "\r\n",
      "Training:  50%|███████████████████████▏                      | 128/254 [04:17<04:22,  2.08s/it, loss=0.0024]"
     ]
    },
    {
     "name": "stderr",
     "output_type": "stream",
     "text": [
      "\r\n",
      "Training:  50%|███████████████████████▏                      | 128/254 [04:19<04:22,  2.08s/it, loss=0.0023]"
     ]
    },
    {
     "name": "stderr",
     "output_type": "stream",
     "text": [
      "\r\n",
      "Training:  51%|███████████████████████▎                      | 129/254 [04:19<04:20,  2.08s/it, loss=0.0023]"
     ]
    },
    {
     "name": "stderr",
     "output_type": "stream",
     "text": [
      "\r\n",
      "Training:  51%|███████████████████████▎                      | 129/254 [04:21<04:20,  2.08s/it, loss=0.0024]"
     ]
    },
    {
     "name": "stderr",
     "output_type": "stream",
     "text": [
      "\r\n",
      "Training:  51%|███████████████████████▌                      | 130/254 [04:21<04:18,  2.09s/it, loss=0.0024]"
     ]
    },
    {
     "name": "stderr",
     "output_type": "stream",
     "text": [
      "\r\n",
      "Training:  51%|███████████████████████▌                      | 130/254 [04:22<04:18,  2.09s/it, loss=0.0469]"
     ]
    },
    {
     "name": "stderr",
     "output_type": "stream",
     "text": [
      "\r\n",
      "Training:  52%|███████████████████████▋                      | 131/254 [04:22<03:29,  1.70s/it, loss=0.0469]"
     ]
    },
    {
     "name": "stderr",
     "output_type": "stream",
     "text": [
      "\r\n",
      "Training:  52%|███████████████████████▋                      | 131/254 [04:24<03:29,  1.70s/it, loss=0.0168]"
     ]
    },
    {
     "name": "stderr",
     "output_type": "stream",
     "text": [
      "\r\n",
      "Training:  52%|███████████████████████▉                      | 132/254 [04:24<03:41,  1.82s/it, loss=0.0168]"
     ]
    },
    {
     "name": "stderr",
     "output_type": "stream",
     "text": [
      "\r\n",
      "Training:  52%|███████████████████████▉                      | 132/254 [04:26<03:41,  1.82s/it, loss=0.0036]"
     ]
    },
    {
     "name": "stderr",
     "output_type": "stream",
     "text": [
      "\r\n",
      "Training:  52%|████████████████████████                      | 133/254 [04:26<03:49,  1.90s/it, loss=0.0036]"
     ]
    },
    {
     "name": "stderr",
     "output_type": "stream",
     "text": [
      "\r\n",
      "Training:  52%|████████████████████████                      | 133/254 [04:28<03:49,  1.90s/it, loss=0.0027]"
     ]
    },
    {
     "name": "stderr",
     "output_type": "stream",
     "text": [
      "\r\n",
      "Training:  53%|████████████████████████▎                     | 134/254 [04:28<03:54,  1.95s/it, loss=0.0027]"
     ]
    },
    {
     "name": "stderr",
     "output_type": "stream",
     "text": [
      "\r\n",
      "Training:  53%|████████████████████████▎                     | 134/254 [04:30<03:54,  1.95s/it, loss=0.0025]"
     ]
    },
    {
     "name": "stderr",
     "output_type": "stream",
     "text": [
      "\r\n",
      "Training:  53%|████████████████████████▍                     | 135/254 [04:30<03:57,  1.99s/it, loss=0.0025]"
     ]
    },
    {
     "name": "stderr",
     "output_type": "stream",
     "text": [
      "\r\n",
      "Training:  53%|████████████████████████▍                     | 135/254 [04:32<03:57,  1.99s/it, loss=0.0031]"
     ]
    },
    {
     "name": "stderr",
     "output_type": "stream",
     "text": [
      "\r\n",
      "Training:  54%|████████████████████████▋                     | 136/254 [04:32<03:58,  2.02s/it, loss=0.0031]"
     ]
    },
    {
     "name": "stderr",
     "output_type": "stream",
     "text": [
      "\r\n",
      "Training:  54%|████████████████████████▋                     | 136/254 [04:34<03:58,  2.02s/it, loss=0.0063]"
     ]
    },
    {
     "name": "stderr",
     "output_type": "stream",
     "text": [
      "\r\n",
      "Training:  54%|████████████████████████▊                     | 137/254 [04:34<03:58,  2.04s/it, loss=0.0063]"
     ]
    },
    {
     "name": "stderr",
     "output_type": "stream",
     "text": [
      "\r\n",
      "Training:  54%|████████████████████████▊                     | 137/254 [04:36<03:58,  2.04s/it, loss=0.0021]"
     ]
    },
    {
     "name": "stderr",
     "output_type": "stream",
     "text": [
      "\r\n",
      "Training:  54%|████████████████████████▉                     | 138/254 [04:36<03:58,  2.05s/it, loss=0.0021]"
     ]
    },
    {
     "name": "stderr",
     "output_type": "stream",
     "text": [
      "\r\n",
      "Training:  54%|████████████████████████▉                     | 138/254 [04:38<03:58,  2.05s/it, loss=0.0023]"
     ]
    },
    {
     "name": "stderr",
     "output_type": "stream",
     "text": [
      "\r\n",
      "Training:  55%|█████████████████████████▏                    | 139/254 [04:38<03:57,  2.06s/it, loss=0.0023]"
     ]
    },
    {
     "name": "stderr",
     "output_type": "stream",
     "text": [
      "\r\n",
      "Training:  55%|█████████████████████████▏                    | 139/254 [04:40<03:57,  2.06s/it, loss=0.0019]"
     ]
    },
    {
     "name": "stderr",
     "output_type": "stream",
     "text": [
      "\r\n",
      "Training:  55%|█████████████████████████▎                    | 140/254 [04:40<03:55,  2.07s/it, loss=0.0019]"
     ]
    },
    {
     "name": "stderr",
     "output_type": "stream",
     "text": [
      "\r\n",
      "Training:  55%|█████████████████████████▎                    | 140/254 [04:48<03:55,  2.07s/it, loss=0.0624]"
     ]
    },
    {
     "name": "stderr",
     "output_type": "stream",
     "text": [
      "\r\n",
      "Training:  56%|█████████████████████████▌                    | 141/254 [04:48<07:13,  3.83s/it, loss=0.0624]"
     ]
    },
    {
     "name": "stderr",
     "output_type": "stream",
     "text": [
      "\r\n",
      "Training:  56%|█████████████████████████▌                    | 141/254 [04:50<07:13,  3.83s/it, loss=0.0027]"
     ]
    },
    {
     "name": "stderr",
     "output_type": "stream",
     "text": [
      "\r\n",
      "Training:  56%|█████████████████████████▋                    | 142/254 [04:50<06:10,  3.31s/it, loss=0.0027]"
     ]
    },
    {
     "name": "stderr",
     "output_type": "stream",
     "text": [
      "\r\n",
      "Training:  56%|█████████████████████████▋                    | 142/254 [04:53<06:10,  3.31s/it, loss=0.0080]"
     ]
    },
    {
     "name": "stderr",
     "output_type": "stream",
     "text": [
      "\r\n",
      "Training:  56%|█████████████████████████▉                    | 143/254 [04:53<05:26,  2.94s/it, loss=0.0080]"
     ]
    },
    {
     "name": "stderr",
     "output_type": "stream",
     "text": [
      "\r\n",
      "Training:  56%|█████████████████████████▉                    | 143/254 [04:54<05:26,  2.94s/it, loss=0.0029]"
     ]
    },
    {
     "name": "stderr",
     "output_type": "stream",
     "text": [
      "\r\n",
      "Training:  57%|██████████████████████████                    | 144/254 [04:54<04:23,  2.40s/it, loss=0.0029]"
     ]
    },
    {
     "name": "stderr",
     "output_type": "stream",
     "text": [
      "\r\n",
      "Training:  57%|██████████████████████████                    | 144/254 [04:56<04:23,  2.40s/it, loss=0.0299]"
     ]
    },
    {
     "name": "stderr",
     "output_type": "stream",
     "text": [
      "\r\n",
      "Training:  57%|██████████████████████████▎                   | 145/254 [04:56<04:22,  2.41s/it, loss=0.0299]"
     ]
    },
    {
     "name": "stderr",
     "output_type": "stream",
     "text": [
      "\r\n",
      "Training:  57%|██████████████████████████▎                   | 145/254 [04:58<04:22,  2.41s/it, loss=0.0020]"
     ]
    },
    {
     "name": "stderr",
     "output_type": "stream",
     "text": [
      "\r\n",
      "Training:  57%|██████████████████████████▍                   | 146/254 [04:58<04:18,  2.40s/it, loss=0.0020]"
     ]
    },
    {
     "name": "stderr",
     "output_type": "stream",
     "text": [
      "\r\n",
      "Training:  57%|██████████████████████████▍                   | 146/254 [05:01<04:18,  2.40s/it, loss=0.0742]"
     ]
    },
    {
     "name": "stderr",
     "output_type": "stream",
     "text": [
      "\r\n",
      "Training:  58%|██████████████████████████▌                   | 147/254 [05:01<04:13,  2.37s/it, loss=0.0742]"
     ]
    },
    {
     "name": "stderr",
     "output_type": "stream",
     "text": [
      "\r\n",
      "Training:  58%|██████████████████████████▌                   | 147/254 [05:03<04:13,  2.37s/it, loss=0.0047]"
     ]
    },
    {
     "name": "stderr",
     "output_type": "stream",
     "text": [
      "\r\n",
      "Training:  58%|██████████████████████████▊                   | 148/254 [05:03<04:04,  2.31s/it, loss=0.0047]"
     ]
    },
    {
     "name": "stderr",
     "output_type": "stream",
     "text": [
      "\r\n",
      "Training:  58%|██████████████████████████▊                   | 148/254 [05:05<04:04,  2.31s/it, loss=0.0645]"
     ]
    },
    {
     "name": "stderr",
     "output_type": "stream",
     "text": [
      "\r\n",
      "Training:  59%|██████████████████████████▉                   | 149/254 [05:05<03:55,  2.24s/it, loss=0.0645]"
     ]
    },
    {
     "name": "stderr",
     "output_type": "stream",
     "text": [
      "\r\n",
      "Training:  59%|██████████████████████████▉                   | 149/254 [05:07<03:55,  2.24s/it, loss=0.0042]"
     ]
    },
    {
     "name": "stderr",
     "output_type": "stream",
     "text": [
      "\r\n",
      "Training:  59%|███████████████████████████▏                  | 150/254 [05:07<03:47,  2.19s/it, loss=0.0042]"
     ]
    },
    {
     "name": "stderr",
     "output_type": "stream",
     "text": [
      "\r\n",
      "Training:  59%|███████████████████████████▏                  | 150/254 [05:09<03:47,  2.19s/it, loss=0.0110]"
     ]
    },
    {
     "name": "stderr",
     "output_type": "stream",
     "text": [
      "\r\n",
      "Training:  59%|███████████████████████████▎                  | 151/254 [05:09<03:41,  2.15s/it, loss=0.0110]"
     ]
    },
    {
     "name": "stderr",
     "output_type": "stream",
     "text": [
      "\r\n",
      "Training:  59%|███████████████████████████▎                  | 151/254 [05:11<03:41,  2.15s/it, loss=0.0055]"
     ]
    },
    {
     "name": "stderr",
     "output_type": "stream",
     "text": [
      "\r\n",
      "Training:  60%|███████████████████████████▌                  | 152/254 [05:11<03:37,  2.13s/it, loss=0.0055]"
     ]
    },
    {
     "name": "stderr",
     "output_type": "stream",
     "text": [
      "\r\n",
      "Training:  60%|███████████████████████████▌                  | 152/254 [05:13<03:37,  2.13s/it, loss=0.0602]"
     ]
    },
    {
     "name": "stderr",
     "output_type": "stream",
     "text": [
      "\r\n",
      "Training:  60%|███████████████████████████▋                  | 153/254 [05:13<03:33,  2.12s/it, loss=0.0602]"
     ]
    },
    {
     "name": "stderr",
     "output_type": "stream",
     "text": [
      "\r\n",
      "Training:  60%|███████████████████████████▋                  | 153/254 [05:15<03:33,  2.12s/it, loss=0.0076]"
     ]
    },
    {
     "name": "stderr",
     "output_type": "stream",
     "text": [
      "\r\n",
      "Training:  61%|███████████████████████████▉                  | 154/254 [05:15<03:30,  2.10s/it, loss=0.0076]"
     ]
    },
    {
     "name": "stderr",
     "output_type": "stream",
     "text": [
      "\r\n",
      "Training:  61%|███████████████████████████▉                  | 154/254 [05:17<03:30,  2.10s/it, loss=0.0020]"
     ]
    },
    {
     "name": "stderr",
     "output_type": "stream",
     "text": [
      "\r\n",
      "Training:  61%|████████████████████████████                  | 155/254 [05:17<03:27,  2.10s/it, loss=0.0020]"
     ]
    },
    {
     "name": "stderr",
     "output_type": "stream",
     "text": [
      "\r\n",
      "Training:  61%|████████████████████████████                  | 155/254 [05:20<03:27,  2.10s/it, loss=0.0656]"
     ]
    },
    {
     "name": "stderr",
     "output_type": "stream",
     "text": [
      "\r\n",
      "Training:  61%|████████████████████████████▎                 | 156/254 [05:20<03:24,  2.09s/it, loss=0.0656]"
     ]
    },
    {
     "name": "stderr",
     "output_type": "stream",
     "text": [
      "\r\n",
      "Training:  61%|████████████████████████████▎                 | 156/254 [05:22<03:24,  2.09s/it, loss=0.0964]"
     ]
    },
    {
     "name": "stderr",
     "output_type": "stream",
     "text": [
      "\r\n",
      "Training:  62%|████████████████████████████▍                 | 157/254 [05:22<03:22,  2.08s/it, loss=0.0964]"
     ]
    },
    {
     "name": "stderr",
     "output_type": "stream",
     "text": [
      "\r\n",
      "Training:  62%|████████████████████████████▍                 | 157/254 [05:24<03:22,  2.08s/it, loss=0.0042]"
     ]
    },
    {
     "name": "stderr",
     "output_type": "stream",
     "text": [
      "\r\n",
      "Training:  62%|████████████████████████████▌                 | 158/254 [05:24<03:19,  2.08s/it, loss=0.0042]"
     ]
    },
    {
     "name": "stderr",
     "output_type": "stream",
     "text": [
      "\r\n",
      "Training:  62%|████████████████████████████▌                 | 158/254 [05:24<03:19,  2.08s/it, loss=0.0044]"
     ]
    },
    {
     "name": "stderr",
     "output_type": "stream",
     "text": [
      "\r\n",
      "Training:  63%|████████████████████████████▊                 | 159/254 [05:24<02:40,  1.69s/it, loss=0.0044]"
     ]
    },
    {
     "name": "stderr",
     "output_type": "stream",
     "text": [
      "\r\n",
      "Training:  63%|████████████████████████████▊                 | 159/254 [05:27<02:40,  1.69s/it, loss=0.0559]"
     ]
    },
    {
     "name": "stderr",
     "output_type": "stream",
     "text": [
      "\r\n",
      "Training:  63%|████████████████████████████▉                 | 160/254 [05:27<02:49,  1.81s/it, loss=0.0559]"
     ]
    },
    {
     "name": "stderr",
     "output_type": "stream",
     "text": [
      "\r\n",
      "Training:  63%|████████████████████████████▉                 | 160/254 [05:29<02:49,  1.81s/it, loss=0.0029]"
     ]
    },
    {
     "name": "stderr",
     "output_type": "stream",
     "text": [
      "\r\n",
      "Training:  63%|█████████████████████████████▏                | 161/254 [05:29<02:55,  1.89s/it, loss=0.0029]"
     ]
    },
    {
     "name": "stderr",
     "output_type": "stream",
     "text": [
      "\r\n",
      "Training:  63%|█████████████████████████████▏                | 161/254 [05:31<02:55,  1.89s/it, loss=0.0032]"
     ]
    },
    {
     "name": "stderr",
     "output_type": "stream",
     "text": [
      "\r\n",
      "Training:  64%|█████████████████████████████▎                | 162/254 [05:31<02:58,  1.94s/it, loss=0.0032]"
     ]
    },
    {
     "name": "stderr",
     "output_type": "stream",
     "text": [
      "\r\n",
      "Training:  64%|█████████████████████████████▎                | 162/254 [05:33<02:58,  1.94s/it, loss=0.1021]"
     ]
    },
    {
     "name": "stderr",
     "output_type": "stream",
     "text": [
      "\r\n",
      "Training:  64%|█████████████████████████████▌                | 163/254 [05:33<03:00,  1.98s/it, loss=0.1021]"
     ]
    },
    {
     "name": "stderr",
     "output_type": "stream",
     "text": [
      "\r\n",
      "Training:  64%|█████████████████████████████▌                | 163/254 [05:35<03:00,  1.98s/it, loss=0.0027]"
     ]
    },
    {
     "name": "stderr",
     "output_type": "stream",
     "text": [
      "\r\n",
      "Training:  65%|█████████████████████████████▋                | 164/254 [05:35<03:00,  2.01s/it, loss=0.0027]"
     ]
    },
    {
     "name": "stderr",
     "output_type": "stream",
     "text": [
      "\r\n",
      "Training:  65%|█████████████████████████████▋                | 164/254 [05:37<03:00,  2.01s/it, loss=0.0034]"
     ]
    },
    {
     "name": "stderr",
     "output_type": "stream",
     "text": [
      "\r\n",
      "Training:  65%|█████████████████████████████▉                | 165/254 [05:37<03:00,  2.03s/it, loss=0.0034]"
     ]
    },
    {
     "name": "stderr",
     "output_type": "stream",
     "text": [
      "\r\n",
      "Training:  65%|█████████████████████████████▉                | 165/254 [05:39<03:00,  2.03s/it, loss=0.0059]"
     ]
    },
    {
     "name": "stderr",
     "output_type": "stream",
     "text": [
      "\r\n",
      "Training:  65%|██████████████████████████████                | 166/254 [05:39<02:59,  2.04s/it, loss=0.0059]"
     ]
    },
    {
     "name": "stderr",
     "output_type": "stream",
     "text": [
      "\r\n",
      "Training:  65%|██████████████████████████████                | 166/254 [05:41<02:59,  2.04s/it, loss=0.0028]"
     ]
    },
    {
     "name": "stderr",
     "output_type": "stream",
     "text": [
      "\r\n",
      "Training:  66%|██████████████████████████████▏               | 167/254 [05:41<02:58,  2.05s/it, loss=0.0028]"
     ]
    },
    {
     "name": "stderr",
     "output_type": "stream",
     "text": [
      "\r\n",
      "Training:  66%|██████████████████████████████▏               | 167/254 [05:43<02:58,  2.05s/it, loss=0.0057]"
     ]
    },
    {
     "name": "stderr",
     "output_type": "stream",
     "text": [
      "\r\n",
      "Training:  66%|██████████████████████████████▍               | 168/254 [05:43<02:56,  2.06s/it, loss=0.0057]"
     ]
    },
    {
     "name": "stderr",
     "output_type": "stream",
     "text": [
      "\r\n",
      "Training:  66%|██████████████████████████████▍               | 168/254 [05:45<02:56,  2.06s/it, loss=0.0100]"
     ]
    },
    {
     "name": "stderr",
     "output_type": "stream",
     "text": [
      "\r\n",
      "Training:  67%|██████████████████████████████▌               | 169/254 [05:45<02:55,  2.06s/it, loss=0.0100]"
     ]
    },
    {
     "name": "stderr",
     "output_type": "stream",
     "text": [
      "\r\n",
      "Training:  67%|██████████████████████████████▌               | 169/254 [05:47<02:55,  2.06s/it, loss=0.0429]"
     ]
    },
    {
     "name": "stderr",
     "output_type": "stream",
     "text": [
      "\r\n",
      "Training:  67%|██████████████████████████████▊               | 170/254 [05:47<02:53,  2.07s/it, loss=0.0429]"
     ]
    },
    {
     "name": "stderr",
     "output_type": "stream",
     "text": [
      "\r\n",
      "Training:  67%|██████████████████████████████▊               | 170/254 [05:49<02:53,  2.07s/it, loss=0.0028]"
     ]
    },
    {
     "name": "stderr",
     "output_type": "stream",
     "text": [
      "\r\n",
      "Training:  67%|██████████████████████████████▉               | 171/254 [05:49<02:51,  2.07s/it, loss=0.0028]"
     ]
    },
    {
     "name": "stderr",
     "output_type": "stream",
     "text": [
      "\r\n",
      "Training:  67%|██████████████████████████████▉               | 171/254 [05:51<02:51,  2.07s/it, loss=0.0839]"
     ]
    },
    {
     "name": "stderr",
     "output_type": "stream",
     "text": [
      "\r\n",
      "Training:  68%|███████████████████████████████▏              | 172/254 [05:51<02:49,  2.07s/it, loss=0.0839]"
     ]
    },
    {
     "name": "stderr",
     "output_type": "stream",
     "text": [
      "\r\n",
      "Training:  68%|███████████████████████████████▏              | 172/254 [05:54<02:49,  2.07s/it, loss=0.0188]"
     ]
    },
    {
     "name": "stderr",
     "output_type": "stream",
     "text": [
      "\r\n",
      "Training:  68%|███████████████████████████████▎              | 173/254 [05:54<02:47,  2.07s/it, loss=0.0188]"
     ]
    },
    {
     "name": "stderr",
     "output_type": "stream",
     "text": [
      "\r\n",
      "Training:  68%|███████████████████████████████▎              | 173/254 [05:54<02:47,  2.07s/it, loss=0.0070]"
     ]
    },
    {
     "name": "stderr",
     "output_type": "stream",
     "text": [
      "\r\n",
      "Training:  69%|███████████████████████████████▌              | 174/254 [05:54<02:14,  1.69s/it, loss=0.0070]"
     ]
    },
    {
     "name": "stderr",
     "output_type": "stream",
     "text": [
      "\r\n",
      "Training:  69%|███████████████████████████████▌              | 174/254 [05:56<02:14,  1.69s/it, loss=0.0633]"
     ]
    },
    {
     "name": "stderr",
     "output_type": "stream",
     "text": [
      "\r\n",
      "Training:  69%|███████████████████████████████▋              | 175/254 [05:56<02:22,  1.80s/it, loss=0.0633]"
     ]
    },
    {
     "name": "stderr",
     "output_type": "stream",
     "text": [
      "\r\n",
      "Training:  69%|███████████████████████████████▋              | 175/254 [05:58<02:22,  1.80s/it, loss=0.0013]"
     ]
    },
    {
     "name": "stderr",
     "output_type": "stream",
     "text": [
      "\r\n",
      "Training:  69%|███████████████████████████████▊              | 176/254 [05:58<02:26,  1.88s/it, loss=0.0013]"
     ]
    },
    {
     "name": "stderr",
     "output_type": "stream",
     "text": [
      "\r\n",
      "Training:  69%|███████████████████████████████▊              | 176/254 [06:01<02:26,  1.88s/it, loss=0.0147]"
     ]
    },
    {
     "name": "stderr",
     "output_type": "stream",
     "text": [
      "\r\n",
      "Training:  70%|████████████████████████████████              | 177/254 [06:01<02:29,  1.94s/it, loss=0.0147]"
     ]
    },
    {
     "name": "stderr",
     "output_type": "stream",
     "text": [
      "\r\n",
      "Training:  70%|████████████████████████████████              | 177/254 [06:03<02:29,  1.94s/it, loss=0.0840]"
     ]
    },
    {
     "name": "stderr",
     "output_type": "stream",
     "text": [
      "\r\n",
      "Training:  70%|████████████████████████████████▏             | 178/254 [06:03<02:30,  1.98s/it, loss=0.0840]"
     ]
    },
    {
     "name": "stderr",
     "output_type": "stream",
     "text": [
      "\r\n",
      "Training:  70%|████████████████████████████████▏             | 178/254 [06:05<02:30,  1.98s/it, loss=0.0038]"
     ]
    },
    {
     "name": "stderr",
     "output_type": "stream",
     "text": [
      "\r\n",
      "Training:  70%|████████████████████████████████▍             | 179/254 [06:05<02:30,  2.01s/it, loss=0.0038]"
     ]
    },
    {
     "name": "stderr",
     "output_type": "stream",
     "text": [
      "\r\n",
      "Training:  70%|████████████████████████████████▍             | 179/254 [06:07<02:30,  2.01s/it, loss=0.0066]"
     ]
    },
    {
     "name": "stderr",
     "output_type": "stream",
     "text": [
      "\r\n",
      "Training:  71%|████████████████████████████████▌             | 180/254 [06:07<02:30,  2.03s/it, loss=0.0066]"
     ]
    },
    {
     "name": "stderr",
     "output_type": "stream",
     "text": [
      "\r\n",
      "Training:  71%|████████████████████████████████▌             | 180/254 [06:09<02:30,  2.03s/it, loss=0.0412]"
     ]
    },
    {
     "name": "stderr",
     "output_type": "stream",
     "text": [
      "\r\n",
      "Training:  71%|████████████████████████████████▊             | 181/254 [06:09<02:29,  2.04s/it, loss=0.0412]"
     ]
    },
    {
     "name": "stderr",
     "output_type": "stream",
     "text": [
      "\r\n",
      "Training:  71%|████████████████████████████████▊             | 181/254 [06:11<02:29,  2.04s/it, loss=0.0142]"
     ]
    },
    {
     "name": "stderr",
     "output_type": "stream",
     "text": [
      "\r\n",
      "Training:  72%|████████████████████████████████▉             | 182/254 [06:11<02:27,  2.05s/it, loss=0.0142]"
     ]
    },
    {
     "name": "stderr",
     "output_type": "stream",
     "text": [
      "\r\n",
      "Training:  72%|████████████████████████████████▉             | 182/254 [06:13<02:27,  2.05s/it, loss=0.0816]"
     ]
    },
    {
     "name": "stderr",
     "output_type": "stream",
     "text": [
      "\r\n",
      "Training:  72%|█████████████████████████████████▏            | 183/254 [06:13<02:26,  2.06s/it, loss=0.0816]"
     ]
    },
    {
     "name": "stderr",
     "output_type": "stream",
     "text": [
      "\r\n",
      "Training:  72%|█████████████████████████████████▏            | 183/254 [06:15<02:26,  2.06s/it, loss=0.0196]"
     ]
    },
    {
     "name": "stderr",
     "output_type": "stream",
     "text": [
      "\r\n",
      "Training:  72%|█████████████████████████████████▎            | 184/254 [06:15<02:24,  2.06s/it, loss=0.0196]"
     ]
    },
    {
     "name": "stderr",
     "output_type": "stream",
     "text": [
      "\r\n",
      "Training:  72%|█████████████████████████████████▎            | 184/254 [06:17<02:24,  2.06s/it, loss=0.0025]"
     ]
    },
    {
     "name": "stderr",
     "output_type": "stream",
     "text": [
      "\r\n",
      "Training:  73%|█████████████████████████████████▌            | 185/254 [06:17<02:22,  2.07s/it, loss=0.0025]"
     ]
    },
    {
     "name": "stderr",
     "output_type": "stream",
     "text": [
      "\r\n",
      "Training:  73%|█████████████████████████████████▌            | 185/254 [06:19<02:22,  2.07s/it, loss=0.0022]"
     ]
    },
    {
     "name": "stderr",
     "output_type": "stream",
     "text": [
      "\r\n",
      "Training:  73%|█████████████████████████████████▋            | 186/254 [06:19<02:20,  2.07s/it, loss=0.0022]"
     ]
    },
    {
     "name": "stderr",
     "output_type": "stream",
     "text": [
      "\r\n",
      "Training:  73%|█████████████████████████████████▋            | 186/254 [06:21<02:20,  2.07s/it, loss=0.0109]"
     ]
    },
    {
     "name": "stderr",
     "output_type": "stream",
     "text": [
      "\r\n",
      "Training:  74%|█████████████████████████████████▊            | 187/254 [06:21<02:18,  2.07s/it, loss=0.0109]"
     ]
    },
    {
     "name": "stderr",
     "output_type": "stream",
     "text": [
      "\r\n",
      "Training:  74%|█████████████████████████████████▊            | 187/254 [06:23<02:18,  2.07s/it, loss=0.0021]"
     ]
    },
    {
     "name": "stderr",
     "output_type": "stream",
     "text": [
      "\r\n",
      "Training:  74%|██████████████████████████████████            | 188/254 [06:23<02:16,  2.07s/it, loss=0.0021]"
     ]
    },
    {
     "name": "stderr",
     "output_type": "stream",
     "text": [
      "\r\n",
      "Training:  74%|██████████████████████████████████            | 188/254 [06:25<02:16,  2.07s/it, loss=0.0394]"
     ]
    },
    {
     "name": "stderr",
     "output_type": "stream",
     "text": [
      "\r\n",
      "Training:  74%|██████████████████████████████████▏           | 189/254 [06:25<02:14,  2.07s/it, loss=0.0394]"
     ]
    },
    {
     "name": "stderr",
     "output_type": "stream",
     "text": [
      "\r\n",
      "Training:  74%|██████████████████████████████████▏           | 189/254 [06:26<02:14,  2.07s/it, loss=0.1247]"
     ]
    },
    {
     "name": "stderr",
     "output_type": "stream",
     "text": [
      "\r\n",
      "Training:  75%|██████████████████████████████████▍           | 190/254 [06:26<01:47,  1.69s/it, loss=0.1247]"
     ]
    },
    {
     "name": "stderr",
     "output_type": "stream",
     "text": [
      "\r\n",
      "Training:  75%|██████████████████████████████████▍           | 190/254 [06:28<01:47,  1.69s/it, loss=0.0029]"
     ]
    },
    {
     "name": "stderr",
     "output_type": "stream",
     "text": [
      "\r\n",
      "Training:  75%|██████████████████████████████████▌           | 191/254 [06:28<01:53,  1.80s/it, loss=0.0029]"
     ]
    },
    {
     "name": "stderr",
     "output_type": "stream",
     "text": [
      "\r\n",
      "Training:  75%|██████████████████████████████████▌           | 191/254 [06:30<01:53,  1.80s/it, loss=0.0084]"
     ]
    },
    {
     "name": "stderr",
     "output_type": "stream",
     "text": [
      "\r\n",
      "Training:  76%|██████████████████████████████████▊           | 192/254 [06:30<01:56,  1.88s/it, loss=0.0084]"
     ]
    },
    {
     "name": "stderr",
     "output_type": "stream",
     "text": [
      "\r\n",
      "Training:  76%|██████████████████████████████████▊           | 192/254 [06:32<01:56,  1.88s/it, loss=0.0116]"
     ]
    },
    {
     "name": "stderr",
     "output_type": "stream",
     "text": [
      "\r\n",
      "Training:  76%|██████████████████████████████████▉           | 193/254 [06:32<01:58,  1.94s/it, loss=0.0116]"
     ]
    },
    {
     "name": "stderr",
     "output_type": "stream",
     "text": [
      "\r\n",
      "Training:  76%|██████████████████████████████████▉           | 193/254 [06:34<01:58,  1.94s/it, loss=0.0175]"
     ]
    },
    {
     "name": "stderr",
     "output_type": "stream",
     "text": [
      "\r\n",
      "Training:  76%|███████████████████████████████████▏          | 194/254 [06:34<01:58,  1.98s/it, loss=0.0175]"
     ]
    },
    {
     "name": "stderr",
     "output_type": "stream",
     "text": [
      "\r\n",
      "Training:  76%|███████████████████████████████████▏          | 194/254 [06:37<01:58,  1.98s/it, loss=0.0985]"
     ]
    },
    {
     "name": "stderr",
     "output_type": "stream",
     "text": [
      "\r\n",
      "Training:  77%|███████████████████████████████████▎          | 195/254 [06:37<01:58,  2.01s/it, loss=0.0985]"
     ]
    },
    {
     "name": "stderr",
     "output_type": "stream",
     "text": [
      "\r\n",
      "Training:  77%|███████████████████████████████████▎          | 195/254 [06:39<01:58,  2.01s/it, loss=0.0103]"
     ]
    },
    {
     "name": "stderr",
     "output_type": "stream",
     "text": [
      "\r\n",
      "Training:  77%|███████████████████████████████████▍          | 196/254 [06:39<01:57,  2.03s/it, loss=0.0103]"
     ]
    },
    {
     "name": "stderr",
     "output_type": "stream",
     "text": [
      "\r\n",
      "Training:  77%|███████████████████████████████████▍          | 196/254 [06:41<01:57,  2.03s/it, loss=0.0062]"
     ]
    },
    {
     "name": "stderr",
     "output_type": "stream",
     "text": [
      "\r\n",
      "Training:  78%|███████████████████████████████████▋          | 197/254 [06:41<01:56,  2.04s/it, loss=0.0062]"
     ]
    },
    {
     "name": "stderr",
     "output_type": "stream",
     "text": [
      "\r\n",
      "Training:  78%|███████████████████████████████████▋          | 197/254 [06:43<01:56,  2.04s/it, loss=0.0038]"
     ]
    },
    {
     "name": "stderr",
     "output_type": "stream",
     "text": [
      "\r\n",
      "Training:  78%|███████████████████████████████████▊          | 198/254 [06:43<01:54,  2.05s/it, loss=0.0038]"
     ]
    },
    {
     "name": "stderr",
     "output_type": "stream",
     "text": [
      "\r\n",
      "Training:  78%|███████████████████████████████████▊          | 198/254 [06:45<01:54,  2.05s/it, loss=0.0048]"
     ]
    },
    {
     "name": "stderr",
     "output_type": "stream",
     "text": [
      "\r\n",
      "Training:  78%|████████████████████████████████████          | 199/254 [06:45<01:53,  2.06s/it, loss=0.0048]"
     ]
    },
    {
     "name": "stderr",
     "output_type": "stream",
     "text": [
      "\r\n",
      "Training:  78%|████████████████████████████████████          | 199/254 [06:47<01:53,  2.06s/it, loss=0.0036]"
     ]
    },
    {
     "name": "stderr",
     "output_type": "stream",
     "text": [
      "\r\n",
      "Training:  79%|████████████████████████████████████▏         | 200/254 [06:47<01:51,  2.06s/it, loss=0.0036]"
     ]
    },
    {
     "name": "stderr",
     "output_type": "stream",
     "text": [
      "\r\n",
      "Training:  79%|████████████████████████████████████▏         | 200/254 [06:49<01:51,  2.06s/it, loss=0.0155]"
     ]
    },
    {
     "name": "stderr",
     "output_type": "stream",
     "text": [
      "\r\n",
      "Training:  79%|████████████████████████████████████▍         | 201/254 [06:49<01:49,  2.07s/it, loss=0.0155]"
     ]
    },
    {
     "name": "stderr",
     "output_type": "stream",
     "text": [
      "\r\n",
      "Training:  79%|████████████████████████████████████▍         | 201/254 [06:51<01:49,  2.07s/it, loss=0.0221]"
     ]
    },
    {
     "name": "stderr",
     "output_type": "stream",
     "text": [
      "\r\n",
      "Training:  80%|████████████████████████████████████▌         | 202/254 [06:51<01:50,  2.13s/it, loss=0.0221]"
     ]
    },
    {
     "name": "stderr",
     "output_type": "stream",
     "text": [
      "\r\n",
      "Training:  80%|████████████████████████████████████▌         | 202/254 [06:54<01:50,  2.13s/it, loss=0.1158]"
     ]
    },
    {
     "name": "stderr",
     "output_type": "stream",
     "text": [
      "\r\n",
      "Training:  80%|████████████████████████████████████▊         | 203/254 [06:54<01:55,  2.26s/it, loss=0.1158]"
     ]
    },
    {
     "name": "stderr",
     "output_type": "stream",
     "text": [
      "\r\n",
      "Training:  80%|████████████████████████████████████▊         | 203/254 [06:56<01:55,  2.26s/it, loss=0.0038]"
     ]
    },
    {
     "name": "stderr",
     "output_type": "stream",
     "text": [
      "\r\n",
      "Training:  80%|████████████████████████████████████▉         | 204/254 [06:56<01:54,  2.29s/it, loss=0.0038]"
     ]
    },
    {
     "name": "stderr",
     "output_type": "stream",
     "text": [
      "\r\n",
      "Training:  80%|████████████████████████████████████▉         | 204/254 [06:57<01:54,  2.29s/it, loss=0.0042]"
     ]
    },
    {
     "name": "stderr",
     "output_type": "stream",
     "text": [
      "\r\n",
      "Training:  81%|█████████████████████████████████████▏        | 205/254 [06:57<01:33,  1.91s/it, loss=0.0042]"
     ]
    },
    {
     "name": "stderr",
     "output_type": "stream",
     "text": [
      "\r\n",
      "Training:  81%|█████████████████████████████████████▏        | 205/254 [07:00<01:33,  1.91s/it, loss=0.0149]"
     ]
    },
    {
     "name": "stderr",
     "output_type": "stream",
     "text": [
      "\r\n",
      "Training:  81%|█████████████████████████████████████▎        | 206/254 [07:00<01:36,  2.02s/it, loss=0.0149]"
     ]
    },
    {
     "name": "stderr",
     "output_type": "stream",
     "text": [
      "\r\n",
      "Training:  81%|█████████████████████████████████████▎        | 206/254 [07:02<01:36,  2.02s/it, loss=0.1133]"
     ]
    },
    {
     "name": "stderr",
     "output_type": "stream",
     "text": [
      "\r\n",
      "Training:  81%|█████████████████████████████████████▍        | 207/254 [07:02<01:40,  2.14s/it, loss=0.1133]"
     ]
    },
    {
     "name": "stderr",
     "output_type": "stream",
     "text": [
      "\r\n",
      "Training:  81%|█████████████████████████████████████▍        | 207/254 [07:04<01:40,  2.14s/it, loss=0.0039]"
     ]
    },
    {
     "name": "stderr",
     "output_type": "stream",
     "text": [
      "\r\n",
      "Training:  82%|█████████████████████████████████████▋        | 208/254 [07:04<01:39,  2.17s/it, loss=0.0039]"
     ]
    },
    {
     "name": "stderr",
     "output_type": "stream",
     "text": [
      "\r\n",
      "Training:  82%|█████████████████████████████████████▋        | 208/254 [07:06<01:39,  2.17s/it, loss=0.0027]"
     ]
    },
    {
     "name": "stderr",
     "output_type": "stream",
     "text": [
      "\r\n",
      "Training:  82%|█████████████████████████████████████▊        | 209/254 [07:06<01:39,  2.21s/it, loss=0.0027]"
     ]
    },
    {
     "name": "stderr",
     "output_type": "stream",
     "text": [
      "\r\n",
      "Training:  82%|█████████████████████████████████████▊        | 209/254 [07:09<01:39,  2.21s/it, loss=0.0302]"
     ]
    },
    {
     "name": "stderr",
     "output_type": "stream",
     "text": [
      "\r\n",
      "Training:  83%|██████████████████████████████████████        | 210/254 [07:09<01:35,  2.18s/it, loss=0.0302]"
     ]
    },
    {
     "name": "stderr",
     "output_type": "stream",
     "text": [
      "\r\n",
      "Training:  83%|██████████████████████████████████████        | 210/254 [07:11<01:35,  2.18s/it, loss=0.0109]"
     ]
    },
    {
     "name": "stderr",
     "output_type": "stream",
     "text": [
      "\r\n",
      "Training:  83%|██████████████████████████████████████▏       | 211/254 [07:11<01:36,  2.24s/it, loss=0.0109]"
     ]
    },
    {
     "name": "stderr",
     "output_type": "stream",
     "text": [
      "\r\n",
      "Training:  83%|██████████████████████████████████████▏       | 211/254 [07:13<01:36,  2.24s/it, loss=0.0035]"
     ]
    },
    {
     "name": "stderr",
     "output_type": "stream",
     "text": [
      "\r\n",
      "Training:  83%|██████████████████████████████████████▍       | 212/254 [07:13<01:34,  2.24s/it, loss=0.0035]"
     ]
    },
    {
     "name": "stderr",
     "output_type": "stream",
     "text": [
      "\r\n",
      "Training:  83%|██████████████████████████████████████▍       | 212/254 [07:15<01:34,  2.24s/it, loss=0.0116]"
     ]
    },
    {
     "name": "stderr",
     "output_type": "stream",
     "text": [
      "\r\n",
      "Training:  84%|██████████████████████████████████████▌       | 213/254 [07:15<01:30,  2.21s/it, loss=0.0116]"
     ]
    },
    {
     "name": "stderr",
     "output_type": "stream",
     "text": [
      "\r\n",
      "Training:  84%|██████████████████████████████████████▌       | 213/254 [07:18<01:30,  2.21s/it, loss=0.0030]"
     ]
    },
    {
     "name": "stderr",
     "output_type": "stream",
     "text": [
      "\r\n",
      "Training:  84%|██████████████████████████████████████▊       | 214/254 [07:18<01:29,  2.24s/it, loss=0.0030]"
     ]
    },
    {
     "name": "stderr",
     "output_type": "stream",
     "text": [
      "\r\n",
      "Training:  84%|██████████████████████████████████████▊       | 214/254 [07:20<01:29,  2.24s/it, loss=0.0036]"
     ]
    },
    {
     "name": "stderr",
     "output_type": "stream",
     "text": [
      "\r\n",
      "Training:  85%|██████████████████████████████████████▉       | 215/254 [07:20<01:25,  2.20s/it, loss=0.0036]"
     ]
    },
    {
     "name": "stderr",
     "output_type": "stream",
     "text": [
      "\r\n",
      "Training:  85%|██████████████████████████████████████▉       | 215/254 [07:22<01:25,  2.20s/it, loss=0.0132]"
     ]
    },
    {
     "name": "stderr",
     "output_type": "stream",
     "text": [
      "\r\n",
      "Training:  85%|███████████████████████████████████████       | 216/254 [07:22<01:22,  2.17s/it, loss=0.0132]"
     ]
    },
    {
     "name": "stderr",
     "output_type": "stream",
     "text": [
      "\r\n",
      "Training:  85%|███████████████████████████████████████       | 216/254 [07:24<01:22,  2.17s/it, loss=0.0028]"
     ]
    },
    {
     "name": "stderr",
     "output_type": "stream",
     "text": [
      "\r\n",
      "Training:  85%|███████████████████████████████████████▎      | 217/254 [07:24<01:19,  2.14s/it, loss=0.0028]"
     ]
    },
    {
     "name": "stderr",
     "output_type": "stream",
     "text": [
      "\r\n",
      "Training:  85%|███████████████████████████████████████▎      | 217/254 [07:26<01:19,  2.14s/it, loss=0.0049]"
     ]
    },
    {
     "name": "stderr",
     "output_type": "stream",
     "text": [
      "\r\n",
      "Training:  86%|███████████████████████████████████████▍      | 218/254 [07:26<01:16,  2.14s/it, loss=0.0049]"
     ]
    },
    {
     "name": "stderr",
     "output_type": "stream",
     "text": [
      "\r\n",
      "Training:  86%|███████████████████████████████████████▍      | 218/254 [07:27<01:16,  2.14s/it, loss=0.0096]"
     ]
    },
    {
     "name": "stderr",
     "output_type": "stream",
     "text": [
      "\r\n",
      "Training:  86%|███████████████████████████████████████▋      | 219/254 [07:27<01:00,  1.73s/it, loss=0.0096]"
     ]
    },
    {
     "name": "stderr",
     "output_type": "stream",
     "text": [
      "\r\n",
      "Training:  86%|███████████████████████████████████████▋      | 219/254 [07:29<01:00,  1.73s/it, loss=0.0166]"
     ]
    },
    {
     "name": "stderr",
     "output_type": "stream",
     "text": [
      "\r\n",
      "Training:  87%|███████████████████████████████████████▊      | 220/254 [07:29<01:02,  1.84s/it, loss=0.0166]"
     ]
    },
    {
     "name": "stderr",
     "output_type": "stream",
     "text": [
      "\r\n",
      "Training:  87%|███████████████████████████████████████▊      | 220/254 [07:31<01:02,  1.84s/it, loss=0.0077]"
     ]
    },
    {
     "name": "stderr",
     "output_type": "stream",
     "text": [
      "\r\n",
      "Training:  87%|████████████████████████████████████████      | 221/254 [07:31<01:04,  1.94s/it, loss=0.0077]"
     ]
    },
    {
     "name": "stderr",
     "output_type": "stream",
     "text": [
      "\r\n",
      "Training:  87%|████████████████████████████████████████      | 221/254 [07:33<01:04,  1.94s/it, loss=0.0468]"
     ]
    },
    {
     "name": "stderr",
     "output_type": "stream",
     "text": [
      "\r\n",
      "Training:  87%|████████████████████████████████████████▏     | 222/254 [07:33<01:06,  2.07s/it, loss=0.0468]"
     ]
    },
    {
     "name": "stderr",
     "output_type": "stream",
     "text": [
      "\r\n",
      "Training:  87%|████████████████████████████████████████▏     | 222/254 [07:36<01:06,  2.07s/it, loss=0.0599]"
     ]
    },
    {
     "name": "stderr",
     "output_type": "stream",
     "text": [
      "\r\n",
      "Training:  88%|████████████████████████████████████████▍     | 223/254 [07:36<01:04,  2.07s/it, loss=0.0599]"
     ]
    },
    {
     "name": "stderr",
     "output_type": "stream",
     "text": [
      "\r\n",
      "Training:  88%|████████████████████████████████████████▍     | 223/254 [07:38<01:04,  2.07s/it, loss=0.0360]"
     ]
    },
    {
     "name": "stderr",
     "output_type": "stream",
     "text": [
      "\r\n",
      "Training:  88%|████████████████████████████████████████▌     | 224/254 [07:38<01:02,  2.07s/it, loss=0.0360]"
     ]
    },
    {
     "name": "stderr",
     "output_type": "stream",
     "text": [
      "\r\n",
      "Training:  88%|████████████████████████████████████████▌     | 224/254 [07:40<01:02,  2.07s/it, loss=0.0285]"
     ]
    },
    {
     "name": "stderr",
     "output_type": "stream",
     "text": [
      "\r\n",
      "Training:  89%|████████████████████████████████████████▋     | 225/254 [07:40<01:00,  2.07s/it, loss=0.0285]"
     ]
    },
    {
     "name": "stderr",
     "output_type": "stream",
     "text": [
      "\r\n",
      "Training:  89%|████████████████████████████████████████▋     | 225/254 [07:42<01:00,  2.07s/it, loss=0.0392]"
     ]
    },
    {
     "name": "stderr",
     "output_type": "stream",
     "text": [
      "\r\n",
      "Training:  89%|████████████████████████████████████████▉     | 226/254 [07:42<00:58,  2.08s/it, loss=0.0392]"
     ]
    },
    {
     "name": "stderr",
     "output_type": "stream",
     "text": [
      "\r\n",
      "Training:  89%|████████████████████████████████████████▉     | 226/254 [07:44<00:58,  2.08s/it, loss=0.0026]"
     ]
    },
    {
     "name": "stderr",
     "output_type": "stream",
     "text": [
      "\r\n",
      "Training:  89%|█████████████████████████████████████████     | 227/254 [07:44<00:56,  2.08s/it, loss=0.0026]"
     ]
    },
    {
     "name": "stderr",
     "output_type": "stream",
     "text": [
      "\r\n",
      "Training:  89%|█████████████████████████████████████████     | 227/254 [07:46<00:56,  2.08s/it, loss=0.0041]"
     ]
    },
    {
     "name": "stderr",
     "output_type": "stream",
     "text": [
      "\r\n",
      "Training:  90%|█████████████████████████████████████████▎    | 228/254 [07:46<00:54,  2.08s/it, loss=0.0041]"
     ]
    },
    {
     "name": "stderr",
     "output_type": "stream",
     "text": [
      "\r\n",
      "Training:  90%|█████████████████████████████████████████▎    | 228/254 [07:48<00:54,  2.08s/it, loss=0.0076]"
     ]
    },
    {
     "name": "stderr",
     "output_type": "stream",
     "text": [
      "\r\n",
      "Training:  90%|█████████████████████████████████████████▍    | 229/254 [07:48<00:52,  2.08s/it, loss=0.0076]"
     ]
    },
    {
     "name": "stderr",
     "output_type": "stream",
     "text": [
      "\r\n",
      "Training:  90%|█████████████████████████████████████████▍    | 229/254 [07:50<00:52,  2.08s/it, loss=0.0025]"
     ]
    },
    {
     "name": "stderr",
     "output_type": "stream",
     "text": [
      "\r\n",
      "Training:  91%|█████████████████████████████████████████▋    | 230/254 [07:50<00:49,  2.08s/it, loss=0.0025]"
     ]
    },
    {
     "name": "stderr",
     "output_type": "stream",
     "text": [
      "\r\n",
      "Training:  91%|█████████████████████████████████████████▋    | 230/254 [07:52<00:49,  2.08s/it, loss=0.0098]"
     ]
    },
    {
     "name": "stderr",
     "output_type": "stream",
     "text": [
      "\r\n",
      "Training:  91%|█████████████████████████████████████████▊    | 231/254 [07:52<00:47,  2.08s/it, loss=0.0098]"
     ]
    },
    {
     "name": "stderr",
     "output_type": "stream",
     "text": [
      "\r\n",
      "Training:  91%|█████████████████████████████████████████▊    | 231/254 [07:54<00:47,  2.08s/it, loss=0.0048]"
     ]
    },
    {
     "name": "stderr",
     "output_type": "stream",
     "text": [
      "\r\n",
      "Training:  91%|██████████████████████████████████████████    | 232/254 [07:54<00:45,  2.08s/it, loss=0.0048]"
     ]
    },
    {
     "name": "stderr",
     "output_type": "stream",
     "text": [
      "\r\n",
      "Training:  91%|██████████████████████████████████████████    | 232/254 [07:56<00:45,  2.08s/it, loss=0.0811]"
     ]
    },
    {
     "name": "stderr",
     "output_type": "stream",
     "text": [
      "\r\n",
      "Training:  92%|██████████████████████████████████████████▏   | 233/254 [07:56<00:43,  2.08s/it, loss=0.0811]"
     ]
    },
    {
     "name": "stderr",
     "output_type": "stream",
     "text": [
      "\r\n",
      "Training:  92%|██████████████████████████████████████████▏   | 233/254 [07:58<00:43,  2.08s/it, loss=0.0319]"
     ]
    },
    {
     "name": "stderr",
     "output_type": "stream",
     "text": [
      "\r\n",
      "Training:  92%|██████████████████████████████████████████▍   | 234/254 [07:58<00:41,  2.08s/it, loss=0.0319]"
     ]
    },
    {
     "name": "stderr",
     "output_type": "stream",
     "text": [
      "\r\n",
      "Training:  92%|██████████████████████████████████████████▍   | 234/254 [07:59<00:41,  2.08s/it, loss=0.0029]"
     ]
    },
    {
     "name": "stderr",
     "output_type": "stream",
     "text": [
      "\r\n",
      "Training:  93%|██████████████████████████████████████████▌   | 235/254 [07:59<00:31,  1.68s/it, loss=0.0029]"
     ]
    },
    {
     "name": "stderr",
     "output_type": "stream",
     "text": [
      "\r\n",
      "Training:  93%|██████████████████████████████████████████▌   | 235/254 [08:01<00:31,  1.68s/it, loss=0.0159]"
     ]
    },
    {
     "name": "stderr",
     "output_type": "stream",
     "text": [
      "\r\n",
      "Training:  93%|██████████████████████████████████████████▋   | 236/254 [08:01<00:32,  1.80s/it, loss=0.0159]"
     ]
    },
    {
     "name": "stderr",
     "output_type": "stream",
     "text": [
      "\r\n",
      "Training:  93%|██████████████████████████████████████████▋   | 236/254 [08:03<00:32,  1.80s/it, loss=0.0251]"
     ]
    },
    {
     "name": "stderr",
     "output_type": "stream",
     "text": [
      "\r\n",
      "Training:  93%|██████████████████████████████████████████▉   | 237/254 [08:03<00:31,  1.88s/it, loss=0.0251]"
     ]
    },
    {
     "name": "stderr",
     "output_type": "stream",
     "text": [
      "\r\n",
      "Training:  93%|██████████████████████████████████████████▉   | 237/254 [08:05<00:31,  1.88s/it, loss=0.0035]"
     ]
    },
    {
     "name": "stderr",
     "output_type": "stream",
     "text": [
      "\r\n",
      "Training:  94%|███████████████████████████████████████████   | 238/254 [08:05<00:30,  1.94s/it, loss=0.0035]"
     ]
    },
    {
     "name": "stderr",
     "output_type": "stream",
     "text": [
      "\r\n",
      "Training:  94%|███████████████████████████████████████████   | 238/254 [08:07<00:30,  1.94s/it, loss=0.0048]"
     ]
    },
    {
     "name": "stderr",
     "output_type": "stream",
     "text": [
      "\r\n",
      "Training:  94%|███████████████████████████████████████████▎  | 239/254 [08:07<00:29,  1.98s/it, loss=0.0048]"
     ]
    },
    {
     "name": "stderr",
     "output_type": "stream",
     "text": [
      "\r\n",
      "Training:  94%|███████████████████████████████████████████▎  | 239/254 [08:10<00:29,  1.98s/it, loss=0.0115]"
     ]
    },
    {
     "name": "stderr",
     "output_type": "stream",
     "text": [
      "\r\n",
      "Training:  94%|███████████████████████████████████████████▍  | 240/254 [08:10<00:28,  2.01s/it, loss=0.0115]"
     ]
    },
    {
     "name": "stderr",
     "output_type": "stream",
     "text": [
      "\r\n",
      "Training:  94%|███████████████████████████████████████████▍  | 240/254 [08:12<00:28,  2.01s/it, loss=0.0312]"
     ]
    },
    {
     "name": "stderr",
     "output_type": "stream",
     "text": [
      "\r\n",
      "Training:  95%|███████████████████████████████████████████▋  | 241/254 [08:12<00:26,  2.04s/it, loss=0.0312]"
     ]
    },
    {
     "name": "stderr",
     "output_type": "stream",
     "text": [
      "\r\n",
      "Training:  95%|███████████████████████████████████████████▋  | 241/254 [08:14<00:26,  2.04s/it, loss=0.0151]"
     ]
    },
    {
     "name": "stderr",
     "output_type": "stream",
     "text": [
      "\r\n",
      "Training:  95%|███████████████████████████████████████████▊  | 242/254 [08:14<00:24,  2.06s/it, loss=0.0151]"
     ]
    },
    {
     "name": "stderr",
     "output_type": "stream",
     "text": [
      "\r\n",
      "Training:  95%|███████████████████████████████████████████▊  | 242/254 [08:16<00:24,  2.06s/it, loss=0.0030]"
     ]
    },
    {
     "name": "stderr",
     "output_type": "stream",
     "text": [
      "\r\n",
      "Training:  96%|████████████████████████████████████████████  | 243/254 [08:16<00:22,  2.07s/it, loss=0.0030]"
     ]
    },
    {
     "name": "stderr",
     "output_type": "stream",
     "text": [
      "\r\n",
      "Training:  96%|████████████████████████████████████████████  | 243/254 [08:18<00:22,  2.07s/it, loss=0.0032]"
     ]
    },
    {
     "name": "stderr",
     "output_type": "stream",
     "text": [
      "\r\n",
      "Training:  96%|████████████████████████████████████████████▏ | 244/254 [08:18<00:20,  2.07s/it, loss=0.0032]"
     ]
    },
    {
     "name": "stderr",
     "output_type": "stream",
     "text": [
      "\r\n",
      "Training:  96%|████████████████████████████████████████████▏ | 244/254 [08:20<00:20,  2.07s/it, loss=0.0021]"
     ]
    },
    {
     "name": "stderr",
     "output_type": "stream",
     "text": [
      "\r\n",
      "Training:  96%|████████████████████████████████████████████▎ | 245/254 [08:20<00:18,  2.07s/it, loss=0.0021]"
     ]
    },
    {
     "name": "stderr",
     "output_type": "stream",
     "text": [
      "\r\n",
      "Training:  96%|████████████████████████████████████████████▎ | 245/254 [08:22<00:18,  2.07s/it, loss=0.0177]"
     ]
    },
    {
     "name": "stderr",
     "output_type": "stream",
     "text": [
      "\r\n",
      "Training:  97%|████████████████████████████████████████████▌ | 246/254 [08:22<00:16,  2.07s/it, loss=0.0177]"
     ]
    },
    {
     "name": "stderr",
     "output_type": "stream",
     "text": [
      "\r\n",
      "Training:  97%|████████████████████████████████████████████▌ | 246/254 [08:24<00:16,  2.07s/it, loss=0.0049]"
     ]
    },
    {
     "name": "stderr",
     "output_type": "stream",
     "text": [
      "\r\n",
      "Training:  97%|████████████████████████████████████████████▋ | 247/254 [08:24<00:14,  2.08s/it, loss=0.0049]"
     ]
    },
    {
     "name": "stderr",
     "output_type": "stream",
     "text": [
      "\r\n",
      "Training:  97%|████████████████████████████████████████████▋ | 247/254 [08:26<00:14,  2.08s/it, loss=0.0053]"
     ]
    },
    {
     "name": "stderr",
     "output_type": "stream",
     "text": [
      "\r\n",
      "Training:  98%|████████████████████████████████████████████▉ | 248/254 [08:26<00:12,  2.07s/it, loss=0.0053]"
     ]
    },
    {
     "name": "stderr",
     "output_type": "stream",
     "text": [
      "\r\n",
      "Training:  98%|████████████████████████████████████████████▉ | 248/254 [08:28<00:12,  2.07s/it, loss=0.0101]"
     ]
    },
    {
     "name": "stderr",
     "output_type": "stream",
     "text": [
      "\r\n",
      "Training:  98%|█████████████████████████████████████████████ | 249/254 [08:28<00:10,  2.08s/it, loss=0.0101]"
     ]
    },
    {
     "name": "stderr",
     "output_type": "stream",
     "text": [
      "\r\n",
      "Training:  98%|█████████████████████████████████████████████ | 249/254 [08:29<00:10,  2.08s/it, loss=0.0108]"
     ]
    },
    {
     "name": "stderr",
     "output_type": "stream",
     "text": [
      "\r\n",
      "Training:  98%|█████████████████████████████████████████████▎| 250/254 [08:29<00:06,  1.67s/it, loss=0.0108]"
     ]
    },
    {
     "name": "stderr",
     "output_type": "stream",
     "text": [
      "\r\n",
      "Training:  98%|█████████████████████████████████████████████▎| 250/254 [08:31<00:06,  1.67s/it, loss=0.0596]"
     ]
    },
    {
     "name": "stderr",
     "output_type": "stream",
     "text": [
      "\r\n",
      "Training:  99%|█████████████████████████████████████████████▍| 251/254 [08:31<00:05,  1.79s/it, loss=0.0596]"
     ]
    },
    {
     "name": "stderr",
     "output_type": "stream",
     "text": [
      "\r\n",
      "Training:  99%|█████████████████████████████████████████████▍| 251/254 [08:33<00:05,  1.79s/it, loss=0.0141]"
     ]
    },
    {
     "name": "stderr",
     "output_type": "stream",
     "text": [
      "\r\n",
      "Training:  99%|█████████████████████████████████████████████▋| 252/254 [08:33<00:03,  1.87s/it, loss=0.0141]"
     ]
    },
    {
     "name": "stderr",
     "output_type": "stream",
     "text": [
      "\r\n",
      "Training:  99%|█████████████████████████████████████████████▋| 252/254 [08:35<00:03,  1.87s/it, loss=0.0032]"
     ]
    },
    {
     "name": "stderr",
     "output_type": "stream",
     "text": [
      "\r\n",
      "Training: 100%|█████████████████████████████████████████████▊| 253/254 [08:35<00:01,  1.93s/it, loss=0.0032]"
     ]
    },
    {
     "name": "stderr",
     "output_type": "stream",
     "text": [
      "\r\n",
      "Training: 100%|█████████████████████████████████████████████▊| 253/254 [08:36<00:01,  1.93s/it, loss=0.0065]"
     ]
    },
    {
     "name": "stderr",
     "output_type": "stream",
     "text": [
      "\r\n",
      "Training: 100%|██████████████████████████████████████████████| 254/254 [08:36<00:00,  1.70s/it, loss=0.0065]"
     ]
    },
    {
     "name": "stderr",
     "output_type": "stream",
     "text": [
      "\r\n",
      "Training: 100%|██████████████████████████████████████████████| 254/254 [08:36<00:00,  2.03s/it, loss=0.0065]"
     ]
    },
    {
     "name": "stderr",
     "output_type": "stream",
     "text": [
      "\n",
      "INFO:src.models.trainer:Training metrics: {'accuracy': 0.9936584164511759, 'f1': 0.9936132050624205, 'precision': 0.9935957621296436, 'recall': 0.9936584164511759, 'loss': 0.0237497659931766}\n"
     ]
    },
    {
     "name": "stderr",
     "output_type": "stream",
     "text": [
      "\r\n",
      "Evaluating:   0%|                                                                    | 0/55 [00:00<?, ?it/s]"
     ]
    },
    {
     "name": "stderr",
     "output_type": "stream",
     "text": [
      "\r\n",
      "Evaluating:   2%|█                                                           | 1/55 [00:01<01:32,  1.71s/it]"
     ]
    },
    {
     "name": "stderr",
     "output_type": "stream",
     "text": [
      "\r\n",
      "Evaluating:   4%|██▏                                                         | 2/55 [00:03<01:29,  1.69s/it]"
     ]
    },
    {
     "name": "stderr",
     "output_type": "stream",
     "text": [
      "\r\n",
      "Evaluating:   5%|███▎                                                        | 3/55 [00:05<01:28,  1.69s/it]"
     ]
    },
    {
     "name": "stderr",
     "output_type": "stream",
     "text": [
      "\r\n",
      "Evaluating:   7%|████▎                                                       | 4/55 [00:06<01:26,  1.69s/it]"
     ]
    },
    {
     "name": "stderr",
     "output_type": "stream",
     "text": [
      "\r\n",
      "Evaluating:   9%|█████▍                                                      | 5/55 [00:08<01:24,  1.69s/it]"
     ]
    },
    {
     "name": "stderr",
     "output_type": "stream",
     "text": [
      "\r\n",
      "Evaluating:  11%|██████▌                                                     | 6/55 [00:10<01:22,  1.69s/it]"
     ]
    },
    {
     "name": "stderr",
     "output_type": "stream",
     "text": [
      "\r\n",
      "Evaluating:  13%|███████▋                                                    | 7/55 [00:11<01:21,  1.70s/it]"
     ]
    },
    {
     "name": "stderr",
     "output_type": "stream",
     "text": [
      "\r\n",
      "Evaluating:  15%|████████▋                                                   | 8/55 [00:13<01:20,  1.71s/it]"
     ]
    },
    {
     "name": "stderr",
     "output_type": "stream",
     "text": [
      "\r\n",
      "Evaluating:  16%|█████████▊                                                  | 9/55 [00:15<01:18,  1.72s/it]"
     ]
    },
    {
     "name": "stderr",
     "output_type": "stream",
     "text": [
      "\r\n",
      "Evaluating:  18%|██████████▋                                                | 10/55 [00:17<01:17,  1.72s/it]"
     ]
    },
    {
     "name": "stderr",
     "output_type": "stream",
     "text": [
      "\r\n",
      "Evaluating:  20%|███████████▊                                               | 11/55 [00:18<01:15,  1.71s/it]"
     ]
    },
    {
     "name": "stderr",
     "output_type": "stream",
     "text": [
      "\r\n",
      "Evaluating:  22%|████████████▊                                              | 12/55 [00:20<01:13,  1.71s/it]"
     ]
    },
    {
     "name": "stderr",
     "output_type": "stream",
     "text": [
      "\r\n",
      "Evaluating:  24%|█████████████▉                                             | 13/55 [00:22<01:12,  1.72s/it]"
     ]
    },
    {
     "name": "stderr",
     "output_type": "stream",
     "text": [
      "\r\n",
      "Evaluating:  25%|███████████████                                            | 14/55 [00:23<01:09,  1.71s/it]"
     ]
    },
    {
     "name": "stderr",
     "output_type": "stream",
     "text": [
      "\r\n",
      "Evaluating:  27%|████████████████                                           | 15/55 [00:24<00:53,  1.33s/it]"
     ]
    },
    {
     "name": "stderr",
     "output_type": "stream",
     "text": [
      "\r\n",
      "Evaluating:  29%|█████████████████▏                                         | 16/55 [00:26<00:56,  1.44s/it]"
     ]
    },
    {
     "name": "stderr",
     "output_type": "stream",
     "text": [
      "\r\n",
      "Evaluating:  31%|██████████████████▏                                        | 17/55 [00:27<00:57,  1.53s/it]"
     ]
    },
    {
     "name": "stderr",
     "output_type": "stream",
     "text": [
      "\r\n",
      "Evaluating:  33%|███████████████████▎                                       | 18/55 [00:29<00:58,  1.58s/it]"
     ]
    },
    {
     "name": "stderr",
     "output_type": "stream",
     "text": [
      "\r\n",
      "Evaluating:  35%|████████████████████▍                                      | 19/55 [00:31<00:58,  1.61s/it]"
     ]
    },
    {
     "name": "stderr",
     "output_type": "stream",
     "text": [
      "\r\n",
      "Evaluating:  36%|█████████████████████▍                                     | 20/55 [00:32<00:57,  1.64s/it]"
     ]
    },
    {
     "name": "stderr",
     "output_type": "stream",
     "text": [
      "\r\n",
      "Evaluating:  38%|██████████████████████▌                                    | 21/55 [00:34<00:56,  1.65s/it]"
     ]
    },
    {
     "name": "stderr",
     "output_type": "stream",
     "text": [
      "\r\n",
      "Evaluating:  40%|███████████████████████▌                                   | 22/55 [00:36<00:55,  1.67s/it]"
     ]
    },
    {
     "name": "stderr",
     "output_type": "stream",
     "text": [
      "\r\n",
      "Evaluating:  42%|████████████████████████▋                                  | 23/55 [00:37<00:53,  1.68s/it]"
     ]
    },
    {
     "name": "stderr",
     "output_type": "stream",
     "text": [
      "\r\n",
      "Evaluating:  44%|█████████████████████████▋                                 | 24/55 [00:39<00:52,  1.69s/it]"
     ]
    },
    {
     "name": "stderr",
     "output_type": "stream",
     "text": [
      "\r\n",
      "Evaluating:  45%|██████████████████████████▊                                | 25/55 [00:41<00:51,  1.70s/it]"
     ]
    },
    {
     "name": "stderr",
     "output_type": "stream",
     "text": [
      "\r\n",
      "Evaluating:  47%|███████████████████████████▉                               | 26/55 [00:43<00:49,  1.70s/it]"
     ]
    },
    {
     "name": "stderr",
     "output_type": "stream",
     "text": [
      "\r\n",
      "Evaluating:  49%|████████████████████████████▉                              | 27/55 [00:44<00:47,  1.70s/it]"
     ]
    },
    {
     "name": "stderr",
     "output_type": "stream",
     "text": [
      "\r\n",
      "Evaluating:  51%|██████████████████████████████                             | 28/55 [00:46<00:45,  1.70s/it]"
     ]
    },
    {
     "name": "stderr",
     "output_type": "stream",
     "text": [
      "\r\n",
      "Evaluating:  53%|███████████████████████████████                            | 29/55 [00:48<00:44,  1.70s/it]"
     ]
    },
    {
     "name": "stderr",
     "output_type": "stream",
     "text": [
      "\r\n",
      "Evaluating:  55%|████████████████████████████████▏                          | 30/55 [00:49<00:42,  1.70s/it]"
     ]
    },
    {
     "name": "stderr",
     "output_type": "stream",
     "text": [
      "\r\n",
      "Evaluating:  56%|█████████████████████████████████▎                         | 31/55 [00:51<00:40,  1.70s/it]"
     ]
    },
    {
     "name": "stderr",
     "output_type": "stream",
     "text": [
      "\r\n",
      "Evaluating:  58%|██████████████████████████████████▎                        | 32/55 [00:53<00:39,  1.70s/it]"
     ]
    },
    {
     "name": "stderr",
     "output_type": "stream",
     "text": [
      "\r\n",
      "Evaluating:  60%|███████████████████████████████████▍                       | 33/55 [00:54<00:37,  1.70s/it]"
     ]
    },
    {
     "name": "stderr",
     "output_type": "stream",
     "text": [
      "\r\n",
      "Evaluating:  62%|████████████████████████████████████▍                      | 34/55 [00:55<00:27,  1.31s/it]"
     ]
    },
    {
     "name": "stderr",
     "output_type": "stream",
     "text": [
      "\r\n",
      "Evaluating:  64%|█████████████████████████████████████▌                     | 35/55 [00:57<00:28,  1.43s/it]"
     ]
    },
    {
     "name": "stderr",
     "output_type": "stream",
     "text": [
      "\r\n",
      "Evaluating:  65%|██████████████████████████████████████▌                    | 36/55 [00:58<00:28,  1.51s/it]"
     ]
    },
    {
     "name": "stderr",
     "output_type": "stream",
     "text": [
      "\r\n",
      "Evaluating:  67%|███████████████████████████████████████▋                   | 37/55 [01:00<00:28,  1.56s/it]"
     ]
    },
    {
     "name": "stderr",
     "output_type": "stream",
     "text": [
      "\r\n",
      "Evaluating:  69%|████████████████████████████████████████▊                  | 38/55 [01:02<00:27,  1.59s/it]"
     ]
    },
    {
     "name": "stderr",
     "output_type": "stream",
     "text": [
      "\r\n",
      "Evaluating:  71%|█████████████████████████████████████████▊                 | 39/55 [01:03<00:25,  1.62s/it]"
     ]
    },
    {
     "name": "stderr",
     "output_type": "stream",
     "text": [
      "\r\n",
      "Evaluating:  73%|██████████████████████████████████████████▉                | 40/55 [01:05<00:24,  1.65s/it]"
     ]
    },
    {
     "name": "stderr",
     "output_type": "stream",
     "text": [
      "\r\n",
      "Evaluating:  75%|███████████████████████████████████████████▉               | 41/55 [01:07<00:23,  1.66s/it]"
     ]
    },
    {
     "name": "stderr",
     "output_type": "stream",
     "text": [
      "\r\n",
      "Evaluating:  76%|█████████████████████████████████████████████              | 42/55 [01:08<00:21,  1.68s/it]"
     ]
    },
    {
     "name": "stderr",
     "output_type": "stream",
     "text": [
      "\r\n",
      "Evaluating:  78%|██████████████████████████████████████████████▏            | 43/55 [01:10<00:20,  1.68s/it]"
     ]
    },
    {
     "name": "stderr",
     "output_type": "stream",
     "text": [
      "\r\n",
      "Evaluating:  80%|███████████████████████████████████████████████▏           | 44/55 [01:12<00:18,  1.69s/it]"
     ]
    },
    {
     "name": "stderr",
     "output_type": "stream",
     "text": [
      "\r\n",
      "Evaluating:  82%|████████████████████████████████████████████████▎          | 45/55 [01:14<00:16,  1.69s/it]"
     ]
    },
    {
     "name": "stderr",
     "output_type": "stream",
     "text": [
      "\r\n",
      "Evaluating:  84%|█████████████████████████████████████████████████▎         | 46/55 [01:15<00:15,  1.70s/it]"
     ]
    },
    {
     "name": "stderr",
     "output_type": "stream",
     "text": [
      "\r\n",
      "Evaluating:  85%|██████████████████████████████████████████████████▍        | 47/55 [01:17<00:13,  1.69s/it]"
     ]
    },
    {
     "name": "stderr",
     "output_type": "stream",
     "text": [
      "\r\n",
      "Evaluating:  87%|███████████████████████████████████████████████████▍       | 48/55 [01:19<00:11,  1.70s/it]"
     ]
    },
    {
     "name": "stderr",
     "output_type": "stream",
     "text": [
      "\r\n",
      "Evaluating:  89%|████████████████████████████████████████████████████▌      | 49/55 [01:20<00:10,  1.71s/it]"
     ]
    },
    {
     "name": "stderr",
     "output_type": "stream",
     "text": [
      "\r\n",
      "Evaluating:  91%|█████████████████████████████████████████████████████▋     | 50/55 [01:22<00:08,  1.71s/it]"
     ]
    },
    {
     "name": "stderr",
     "output_type": "stream",
     "text": [
      "\r\n",
      "Evaluating:  93%|██████████████████████████████████████████████████████▋    | 51/55 [01:24<00:06,  1.70s/it]"
     ]
    },
    {
     "name": "stderr",
     "output_type": "stream",
     "text": [
      "\r\n",
      "Evaluating:  95%|███████████████████████████████████████████████████████▊   | 52/55 [01:25<00:05,  1.70s/it]"
     ]
    },
    {
     "name": "stderr",
     "output_type": "stream",
     "text": [
      "\r\n",
      "Evaluating:  96%|████████████████████████████████████████████████████████▊  | 53/55 [01:26<00:02,  1.32s/it]"
     ]
    },
    {
     "name": "stderr",
     "output_type": "stream",
     "text": [
      "\r\n",
      "Evaluating:  98%|█████████████████████████████████████████████████████████▉ | 54/55 [01:28<00:01,  1.43s/it]"
     ]
    },
    {
     "name": "stderr",
     "output_type": "stream",
     "text": [
      "\r\n",
      "Evaluating: 100%|███████████████████████████████████████████████████████████| 55/55 [01:28<00:00,  1.08s/it]"
     ]
    },
    {
     "name": "stderr",
     "output_type": "stream",
     "text": [
      "\r\n",
      "Evaluating: 100%|███████████████████████████████████████████████████████████| 55/55 [01:28<00:00,  1.61s/it]"
     ]
    },
    {
     "name": "stderr",
     "output_type": "stream",
     "text": [
      "\n",
      "INFO:src.models.trainer:Validation metrics: {'accuracy': 0.9902326917552428, 'f1': 0.9902115780047193, 'precision': 0.9901931012491764, 'recall': 0.9902326917552428, 'auc': 0.9975631381584892, 'loss': 0.0324845795720731}\n"
     ]
    },
    {
     "name": "stderr",
     "output_type": "stream",
     "text": [
      "INFO:src.models.trainer:New best model with validation AUC: 0.9976\n"
     ]
    },
    {
     "name": "stderr",
     "output_type": "stream",
     "text": [
      "INFO:src.models.trainer:\n",
      "Evaluating on test set...\n"
     ]
    },
    {
     "name": "stderr",
     "output_type": "stream",
     "text": [
      "\r\n",
      "Evaluating:   0%|                                                                    | 0/55 [00:00<?, ?it/s]"
     ]
    },
    {
     "name": "stderr",
     "output_type": "stream",
     "text": [
      "\r\n",
      "Evaluating:   2%|█                                                           | 1/55 [00:01<01:39,  1.85s/it]"
     ]
    },
    {
     "name": "stderr",
     "output_type": "stream",
     "text": [
      "\r\n",
      "Evaluating:   4%|██▏                                                         | 2/55 [00:03<01:34,  1.78s/it]"
     ]
    },
    {
     "name": "stderr",
     "output_type": "stream",
     "text": [
      "\r\n",
      "Evaluating:   5%|███▎                                                        | 3/55 [00:05<01:31,  1.77s/it]"
     ]
    },
    {
     "name": "stderr",
     "output_type": "stream",
     "text": [
      "\r\n",
      "Evaluating:   7%|████▎                                                       | 4/55 [00:07<01:28,  1.74s/it]"
     ]
    },
    {
     "name": "stderr",
     "output_type": "stream",
     "text": [
      "\r\n",
      "Evaluating:   9%|█████▍                                                      | 5/55 [00:08<01:26,  1.72s/it]"
     ]
    },
    {
     "name": "stderr",
     "output_type": "stream",
     "text": [
      "\r\n",
      "Evaluating:  11%|██████▌                                                     | 6/55 [00:10<01:24,  1.72s/it]"
     ]
    },
    {
     "name": "stderr",
     "output_type": "stream",
     "text": [
      "\r\n",
      "Evaluating:  13%|███████▋                                                    | 7/55 [00:12<01:22,  1.71s/it]"
     ]
    },
    {
     "name": "stderr",
     "output_type": "stream",
     "text": [
      "\r\n",
      "Evaluating:  15%|████████▋                                                   | 8/55 [00:13<01:20,  1.72s/it]"
     ]
    },
    {
     "name": "stderr",
     "output_type": "stream",
     "text": [
      "\r\n",
      "Evaluating:  16%|█████████▊                                                  | 9/55 [00:15<01:18,  1.71s/it]"
     ]
    },
    {
     "name": "stderr",
     "output_type": "stream",
     "text": [
      "\r\n",
      "Evaluating:  18%|██████████▋                                                | 10/55 [00:17<01:16,  1.70s/it]"
     ]
    },
    {
     "name": "stderr",
     "output_type": "stream",
     "text": [
      "\r\n",
      "Evaluating:  20%|███████████▊                                               | 11/55 [00:18<01:15,  1.71s/it]"
     ]
    },
    {
     "name": "stderr",
     "output_type": "stream",
     "text": [
      "\r\n",
      "Evaluating:  22%|████████████▊                                              | 12/55 [00:20<01:13,  1.70s/it]"
     ]
    },
    {
     "name": "stderr",
     "output_type": "stream",
     "text": [
      "\r\n",
      "Evaluating:  24%|█████████████▉                                             | 13/55 [00:22<01:11,  1.70s/it]"
     ]
    },
    {
     "name": "stderr",
     "output_type": "stream",
     "text": [
      "\r\n",
      "Evaluating:  25%|███████████████                                            | 14/55 [00:24<01:10,  1.71s/it]"
     ]
    },
    {
     "name": "stderr",
     "output_type": "stream",
     "text": [
      "\r\n",
      "Evaluating:  27%|████████████████                                           | 15/55 [00:24<00:53,  1.33s/it]"
     ]
    },
    {
     "name": "stderr",
     "output_type": "stream",
     "text": [
      "\r\n",
      "Evaluating:  29%|█████████████████▏                                         | 16/55 [00:26<00:56,  1.44s/it]"
     ]
    },
    {
     "name": "stderr",
     "output_type": "stream",
     "text": [
      "\r\n",
      "Evaluating:  31%|██████████████████▏                                        | 17/55 [00:27<00:57,  1.52s/it]"
     ]
    },
    {
     "name": "stderr",
     "output_type": "stream",
     "text": [
      "\r\n",
      "Evaluating:  33%|███████████████████▎                                       | 18/55 [00:29<00:58,  1.57s/it]"
     ]
    },
    {
     "name": "stderr",
     "output_type": "stream",
     "text": [
      "\r\n",
      "Evaluating:  35%|████████████████████▍                                      | 19/55 [00:31<00:58,  1.62s/it]"
     ]
    },
    {
     "name": "stderr",
     "output_type": "stream",
     "text": [
      "\r\n",
      "Evaluating:  36%|█████████████████████▍                                     | 20/55 [00:33<00:57,  1.63s/it]"
     ]
    },
    {
     "name": "stderr",
     "output_type": "stream",
     "text": [
      "\r\n",
      "Evaluating:  38%|██████████████████████▌                                    | 21/55 [00:34<00:56,  1.65s/it]"
     ]
    },
    {
     "name": "stderr",
     "output_type": "stream",
     "text": [
      "\r\n",
      "Evaluating:  40%|███████████████████████▌                                   | 22/55 [00:36<00:54,  1.66s/it]"
     ]
    },
    {
     "name": "stderr",
     "output_type": "stream",
     "text": [
      "\r\n",
      "Evaluating:  42%|████████████████████████▋                                  | 23/55 [00:38<00:53,  1.68s/it]"
     ]
    },
    {
     "name": "stderr",
     "output_type": "stream",
     "text": [
      "\r\n",
      "Evaluating:  44%|█████████████████████████▋                                 | 24/55 [00:39<00:52,  1.69s/it]"
     ]
    },
    {
     "name": "stderr",
     "output_type": "stream",
     "text": [
      "\r\n",
      "Evaluating:  45%|██████████████████████████▊                                | 25/55 [00:41<00:50,  1.70s/it]"
     ]
    },
    {
     "name": "stderr",
     "output_type": "stream",
     "text": [
      "\r\n",
      "Evaluating:  47%|███████████████████████████▉                               | 26/55 [00:43<00:49,  1.70s/it]"
     ]
    },
    {
     "name": "stderr",
     "output_type": "stream",
     "text": [
      "\r\n",
      "Evaluating:  49%|████████████████████████████▉                              | 27/55 [00:44<00:47,  1.70s/it]"
     ]
    },
    {
     "name": "stderr",
     "output_type": "stream",
     "text": [
      "\r\n",
      "Evaluating:  51%|██████████████████████████████                             | 28/55 [00:46<00:45,  1.70s/it]"
     ]
    },
    {
     "name": "stderr",
     "output_type": "stream",
     "text": [
      "\r\n",
      "Evaluating:  53%|███████████████████████████████                            | 29/55 [00:48<00:44,  1.70s/it]"
     ]
    },
    {
     "name": "stderr",
     "output_type": "stream",
     "text": [
      "\r\n",
      "Evaluating:  55%|████████████████████████████████▏                          | 30/55 [00:50<00:42,  1.70s/it]"
     ]
    },
    {
     "name": "stderr",
     "output_type": "stream",
     "text": [
      "\r\n",
      "Evaluating:  56%|█████████████████████████████████▎                         | 31/55 [00:51<00:40,  1.70s/it]"
     ]
    },
    {
     "name": "stderr",
     "output_type": "stream",
     "text": [
      "\r\n",
      "Evaluating:  58%|██████████████████████████████████▎                        | 32/55 [00:53<00:39,  1.70s/it]"
     ]
    },
    {
     "name": "stderr",
     "output_type": "stream",
     "text": [
      "\r\n",
      "Evaluating:  60%|███████████████████████████████████▍                       | 33/55 [00:55<00:37,  1.71s/it]"
     ]
    },
    {
     "name": "stderr",
     "output_type": "stream",
     "text": [
      "\r\n",
      "Evaluating:  62%|████████████████████████████████████▍                      | 34/55 [00:55<00:27,  1.32s/it]"
     ]
    },
    {
     "name": "stderr",
     "output_type": "stream",
     "text": [
      "\r\n",
      "Evaluating:  64%|█████████████████████████████████████▌                     | 35/55 [00:57<00:28,  1.43s/it]"
     ]
    },
    {
     "name": "stderr",
     "output_type": "stream",
     "text": [
      "\r\n",
      "Evaluating:  65%|██████████████████████████████████████▌                    | 36/55 [00:58<00:28,  1.52s/it]"
     ]
    },
    {
     "name": "stderr",
     "output_type": "stream",
     "text": [
      "\r\n",
      "Evaluating:  67%|███████████████████████████████████████▋                   | 37/55 [01:00<00:28,  1.58s/it]"
     ]
    },
    {
     "name": "stderr",
     "output_type": "stream",
     "text": [
      "\r\n",
      "Evaluating:  69%|████████████████████████████████████████▊                  | 38/55 [01:02<00:27,  1.62s/it]"
     ]
    },
    {
     "name": "stderr",
     "output_type": "stream",
     "text": [
      "\r\n",
      "Evaluating:  71%|█████████████████████████████████████████▊                 | 39/55 [01:04<00:26,  1.64s/it]"
     ]
    },
    {
     "name": "stderr",
     "output_type": "stream",
     "text": [
      "\r\n",
      "Evaluating:  73%|██████████████████████████████████████████▉                | 40/55 [01:05<00:24,  1.66s/it]"
     ]
    },
    {
     "name": "stderr",
     "output_type": "stream",
     "text": [
      "\r\n",
      "Evaluating:  75%|███████████████████████████████████████████▉               | 41/55 [01:07<00:23,  1.66s/it]"
     ]
    },
    {
     "name": "stderr",
     "output_type": "stream",
     "text": [
      "\r\n",
      "Evaluating:  76%|█████████████████████████████████████████████              | 42/55 [01:09<00:21,  1.68s/it]"
     ]
    },
    {
     "name": "stderr",
     "output_type": "stream",
     "text": [
      "\r\n",
      "Evaluating:  78%|██████████████████████████████████████████████▏            | 43/55 [01:10<00:20,  1.68s/it]"
     ]
    },
    {
     "name": "stderr",
     "output_type": "stream",
     "text": [
      "\r\n",
      "Evaluating:  80%|███████████████████████████████████████████████▏           | 44/55 [01:12<00:18,  1.70s/it]"
     ]
    },
    {
     "name": "stderr",
     "output_type": "stream",
     "text": [
      "\r\n",
      "Evaluating:  82%|████████████████████████████████████████████████▎          | 45/55 [01:14<00:16,  1.70s/it]"
     ]
    },
    {
     "name": "stderr",
     "output_type": "stream",
     "text": [
      "\r\n",
      "Evaluating:  84%|█████████████████████████████████████████████████▎         | 46/55 [01:16<00:15,  1.70s/it]"
     ]
    },
    {
     "name": "stderr",
     "output_type": "stream",
     "text": [
      "\r\n",
      "Evaluating:  85%|██████████████████████████████████████████████████▍        | 47/55 [01:17<00:13,  1.71s/it]"
     ]
    },
    {
     "name": "stderr",
     "output_type": "stream",
     "text": [
      "\r\n",
      "Evaluating:  87%|███████████████████████████████████████████████████▍       | 48/55 [01:19<00:11,  1.70s/it]"
     ]
    },
    {
     "name": "stderr",
     "output_type": "stream",
     "text": [
      "\r\n",
      "Evaluating:  89%|████████████████████████████████████████████████████▌      | 49/55 [01:21<00:10,  1.70s/it]"
     ]
    },
    {
     "name": "stderr",
     "output_type": "stream",
     "text": [
      "\r\n",
      "Evaluating:  91%|█████████████████████████████████████████████████████▋     | 50/55 [01:22<00:08,  1.70s/it]"
     ]
    },
    {
     "name": "stderr",
     "output_type": "stream",
     "text": [
      "\r\n",
      "Evaluating:  93%|██████████████████████████████████████████████████████▋    | 51/55 [01:24<00:06,  1.70s/it]"
     ]
    },
    {
     "name": "stderr",
     "output_type": "stream",
     "text": [
      "\r\n",
      "Evaluating:  95%|███████████████████████████████████████████████████████▊   | 52/55 [01:26<00:05,  1.70s/it]"
     ]
    },
    {
     "name": "stderr",
     "output_type": "stream",
     "text": [
      "\r\n",
      "Evaluating:  96%|████████████████████████████████████████████████████████▊  | 53/55 [01:26<00:02,  1.30s/it]"
     ]
    },
    {
     "name": "stderr",
     "output_type": "stream",
     "text": [
      "\r\n",
      "Evaluating:  98%|█████████████████████████████████████████████████████████▉ | 54/55 [01:28<00:01,  1.42s/it]"
     ]
    },
    {
     "name": "stderr",
     "output_type": "stream",
     "text": [
      "\r\n",
      "Evaluating: 100%|███████████████████████████████████████████████████████████| 55/55 [01:28<00:00,  1.08s/it]"
     ]
    },
    {
     "name": "stderr",
     "output_type": "stream",
     "text": [
      "\r\n",
      "Evaluating: 100%|███████████████████████████████████████████████████████████| 55/55 [01:28<00:00,  1.61s/it]"
     ]
    },
    {
     "name": "stderr",
     "output_type": "stream",
     "text": [
      "\n",
      "INFO:src.models.trainer:Test metrics: {'accuracy': 0.9919563343866705, 'f1': 0.9920638666417363, 'precision': 0.9922670808257981, 'recall': 0.9919563343866705, 'auc': 0.9980134867495976, 'loss': 0.024995344035877762}\n"
     ]
    },
    {
     "name": "stdout",
     "output_type": "stream",
     "text": [
      "\n",
      "Training completed!\n",
      "\n",
      "Final metrics:\n",
      "accuracy: 0.9920\n",
      "f1: 0.9921\n",
      "precision: 0.9923\n",
      "recall: 0.9920\n",
      "auc: 0.9980\n",
      "loss: 0.0250\n"
     ]
    }
   ],
   "source": [
    "# Train the model\n",
    "final_metrics = trainer.train()\n",
    "\n",
    "print(\"\\nTraining completed!\")\n",
    "print(\"\\nFinal metrics:\")\n",
    "for metric, value in final_metrics.items():\n",
    "    print(f\"{metric}: {value:.4f}\")\n",
    "\n",
    "# Save final configuration and results\n",
    "results = {\n",
    "    'config': config,\n",
    "    'final_metrics': final_metrics\n",
    "}\n",
    "\n",
    "with open(CHECKPOINT_DIR / 'training_results.json', 'w') as f:\n",
    "    json.dump(results, f, indent=2)"
   ]
  },
  {
   "cell_type": "code",
   "execution_count": null,
   "id": "5b69dc68",
   "metadata": {
    "papermill": {
     "duration": 0.03735,
     "end_time": "2025-03-28T01:30:26.260506",
     "exception": false,
     "start_time": "2025-03-28T01:30:26.223156",
     "status": "completed"
    },
    "tags": []
   },
   "outputs": [],
   "source": []
  }
 ],
 "metadata": {
  "kernelspec": {
   "display_name": "Python 3 (ipykernel)",
   "language": "python",
   "name": "python3"
  },
  "papermill": {
   "duration": 2012.850696,
   "end_time": "2025-03-28T01:30:29.234919",
   "exception": null,
   "input_path": "/tmp/tmpvpx_3uop.ipynb",
   "output_path": "/home/luuka/thesis/workspace/output/02_train.ipynb",
   "parameters": {
    "product": {
     "metrics": "/home/luuka/thesis/workspace/checkpoints/best_model_info.json",
     "model": "/home/luuka/thesis/workspace/checkpoints/best_model.pt",
     "nb": "/home/luuka/thesis/workspace/output/02_train.ipynb",
     "results": "/home/luuka/thesis/workspace/checkpoints/training_results.json"
    }
   },
   "start_time": "2025-03-28T00:56:56.384223"
  }
 },
 "nbformat": 4,
 "nbformat_minor": 5
}
