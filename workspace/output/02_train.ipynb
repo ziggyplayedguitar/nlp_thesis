{
 "cells": [
  {
   "cell_type": "code",
   "execution_count": 1,
   "id": "f48636d5",
   "metadata": {
    "execution": {
     "iopub.execute_input": "2025-03-26T21:18:43.183765Z",
     "iopub.status.busy": "2025-03-26T21:18:43.183408Z",
     "iopub.status.idle": "2025-03-26T21:18:43.186843Z",
     "shell.execute_reply": "2025-03-26T21:18:43.186484Z"
    },
    "papermill": {
     "duration": 0.005846,
     "end_time": "2025-03-26T21:18:43.187436",
     "exception": false,
     "start_time": "2025-03-26T21:18:43.181590",
     "status": "completed"
    },
    "tags": [
     "parameters"
    ]
   },
   "outputs": [],
   "source": [
    "# declare a list tasks whose products you want to use as inputs\n",
    "upstream = None\n"
   ]
  },
  {
   "cell_type": "code",
   "execution_count": 2,
   "id": "99f01c7f",
   "metadata": {
    "execution": {
     "iopub.execute_input": "2025-03-26T21:18:43.194107Z",
     "iopub.status.busy": "2025-03-26T21:18:43.193914Z",
     "iopub.status.idle": "2025-03-26T21:18:43.195916Z",
     "shell.execute_reply": "2025-03-26T21:18:43.195596Z"
    },
    "papermill": {
     "duration": 0.003669,
     "end_time": "2025-03-26T21:18:43.196487",
     "exception": false,
     "start_time": "2025-03-26T21:18:43.192818",
     "status": "completed"
    },
    "tags": [
     "injected-parameters"
    ]
   },
   "outputs": [],
   "source": [
    "# Parameters\n",
    "product = {\"nb\": \"/home/luuka/thesis/workspace/output/02_train.ipynb\", \"model\": \"/home/luuka/thesis/workspace/checkpoints/best_model.pt\", \"metrics\": \"/home/luuka/thesis/workspace/checkpoints/best_model_info.json\", \"results\": \"/home/luuka/thesis/workspace/checkpoints/training_results.json\"}\n"
   ]
  },
  {
   "cell_type": "code",
   "execution_count": 3,
   "id": "0e267ffc",
   "metadata": {
    "execution": {
     "iopub.execute_input": "2025-03-26T21:18:43.198461Z",
     "iopub.status.busy": "2025-03-26T21:18:43.198279Z",
     "iopub.status.idle": "2025-03-26T21:18:46.826703Z",
     "shell.execute_reply": "2025-03-26T21:18:46.826269Z"
    },
    "papermill": {
     "duration": 3.630494,
     "end_time": "2025-03-26T21:18:46.827703",
     "exception": false,
     "start_time": "2025-03-26T21:18:43.197209",
     "status": "completed"
    },
    "tags": []
   },
   "outputs": [],
   "source": [
    "# Imports and Setup\n",
    "import pandas as pd\n",
    "import numpy as np\n",
    "from pathlib import Path\n",
    "import sys\n",
    "import logging\n",
    "import json\n",
    "import torch\n",
    "from torch.utils.data import DataLoader\n",
    "from tqdm import tqdm\n",
    "\n",
    "# Add project root to path\n",
    "sys.path.append(str(Path.cwd().parent))\n",
    "\n",
    "# Import custom modules\n",
    "from src.models.bert_model import TrollDetector\n",
    "from src.models.trainer import TrollDetectorTrainer\n",
    "from src.data_tools.dataset import TrollDataset, collate_batch\n",
    "\n",
    "# Set up logging\n",
    "logging.basicConfig(level=logging.INFO)\n",
    "logger = logging.getLogger(__name__)"
   ]
  },
  {
   "cell_type": "code",
   "execution_count": 4,
   "id": "c92cb16b",
   "metadata": {
    "execution": {
     "iopub.execute_input": "2025-03-26T21:18:46.830482Z",
     "iopub.status.busy": "2025-03-26T21:18:46.830236Z",
     "iopub.status.idle": "2025-03-26T21:18:46.833762Z",
     "shell.execute_reply": "2025-03-26T21:18:46.833389Z"
    },
    "papermill": {
     "duration": 0.0055,
     "end_time": "2025-03-26T21:18:46.834369",
     "exception": false,
     "start_time": "2025-03-26T21:18:46.828869",
     "status": "completed"
    },
    "tags": []
   },
   "outputs": [
    {
     "name": "stdout",
     "output_type": "stream",
     "text": [
      "Configuration loaded:\n",
      "model_name: distilbert-base-multilingual-cased\n",
      "max_length: 64\n",
      "batch_size: 64\n",
      "learning_rate: 2e-05\n",
      "weight_decay: 0.01\n",
      "num_epochs: 3\n",
      "warmup_steps: 0\n",
      "max_grad_norm: 1.0\n",
      "comments_per_user: 5\n",
      "use_wandb: False\n",
      "random_state: 42\n"
     ]
    }
   ],
   "source": [
    "# Define paths\n",
    "DATA_DIR = Path('../data')\n",
    "PROCESSED_DATA_DIR = DATA_DIR / 'processed'\n",
    "CHECKPOINT_DIR = Path('../checkpoints')\n",
    "\n",
    "# Create checkpoint directory\n",
    "CHECKPOINT_DIR.mkdir(parents=True, exist_ok=True)\n",
    "\n",
    "# Training configuration\n",
    "config = {\n",
    "    'model_name': 'distilbert-base-multilingual-cased',\n",
    "    'max_length': 64,\n",
    "    'batch_size': 64,\n",
    "    'learning_rate': 2e-5,\n",
    "    'weight_decay': 0.01,\n",
    "    'num_epochs': 3,\n",
    "    'warmup_steps': 0,\n",
    "    'max_grad_norm': 1.0,\n",
    "    'comments_per_user': 5,\n",
    "    'use_wandb': False,\n",
    "    'random_state': 42  # Default if config not found\n",
    "}\n",
    "\n",
    "# Try to load preprocessing config\n",
    "try:\n",
    "    with open(PROCESSED_DATA_DIR / 'preprocessing_config.json', 'r') as f:\n",
    "        preproc_config = json.load(f)\n",
    "        config['random_state'] = preproc_config.get('random_state', 42)\n",
    "except FileNotFoundError:\n",
    "    print(\"Warning: preprocessing_config.json not found, using default random_state\")\n",
    "\n",
    "print(\"Configuration loaded:\")\n",
    "for key, value in config.items():\n",
    "    print(f\"{key}: {value}\")"
   ]
  },
  {
   "cell_type": "code",
   "execution_count": 5,
   "id": "f3767e1b",
   "metadata": {
    "execution": {
     "iopub.execute_input": "2025-03-26T21:18:46.836579Z",
     "iopub.status.busy": "2025-03-26T21:18:46.836306Z",
     "iopub.status.idle": "2025-03-26T21:18:46.909872Z",
     "shell.execute_reply": "2025-03-26T21:18:46.909402Z"
    },
    "papermill": {
     "duration": 0.075358,
     "end_time": "2025-03-26T21:18:46.910510",
     "exception": false,
     "start_time": "2025-03-26T21:18:46.835152",
     "status": "completed"
    },
    "tags": []
   },
   "outputs": [
    {
     "name": "stdout",
     "output_type": "stream",
     "text": [
      "Dataset sizes:\n",
      "Train: 1724555 samples, 16242 authors\n",
      "Val:   558573 samples, 3481 authors\n",
      "Test:  418812 samples, 3481 authors\n"
     ]
    }
   ],
   "source": [
    "# Load preprocessed data splits\n",
    "train_df = pd.read_parquet(PROCESSED_DATA_DIR / 'train.parquet')\n",
    "val_df = pd.read_parquet(PROCESSED_DATA_DIR / 'val.parquet')\n",
    "test_df = pd.read_parquet(PROCESSED_DATA_DIR / 'test.parquet')\n",
    "\n",
    "print(\"Dataset sizes:\")\n",
    "print(f\"Train: {len(train_df)} samples, {train_df['author'].nunique()} authors\")\n",
    "print(f\"Val:   {len(val_df)} samples, {val_df['author'].nunique()} authors\")\n",
    "print(f\"Test:  {len(test_df)} samples, {test_df['author'].nunique()} authors\")"
   ]
  },
  {
   "cell_type": "code",
   "execution_count": 6,
   "id": "45fe3bd7",
   "metadata": {
    "execution": {
     "iopub.execute_input": "2025-03-26T21:18:46.912841Z",
     "iopub.status.busy": "2025-03-26T21:18:46.912697Z",
     "iopub.status.idle": "2025-03-26T21:18:48.622200Z",
     "shell.execute_reply": "2025-03-26T21:18:48.621785Z"
    },
    "papermill": {
     "duration": 1.711679,
     "end_time": "2025-03-26T21:18:48.623146",
     "exception": false,
     "start_time": "2025-03-26T21:18:46.911467",
     "status": "completed"
    },
    "tags": []
   },
   "outputs": [],
   "source": [
    "# Create Datasets and DataLoaders\n",
    "# Initialize datasets\n",
    "train_dataset = TrollDataset(\n",
    "    train_df,\n",
    "    tokenizer_name=config['model_name'],\n",
    "    max_length=config['max_length'],\n",
    "    comments_per_user=config['comments_per_user']\n",
    ")\n",
    "\n",
    "val_dataset = TrollDataset(\n",
    "    val_df,\n",
    "    tokenizer_name=config['model_name'],\n",
    "    max_length=config['max_length'],\n",
    "    comments_per_user=config['comments_per_user']\n",
    ")\n",
    "\n",
    "test_dataset = TrollDataset(\n",
    "    test_df,\n",
    "    tokenizer_name=config['model_name'],\n",
    "    max_length=config['max_length'],\n",
    "    comments_per_user=config['comments_per_user']\n",
    ")\n",
    "\n",
    "# Create dataloaders\n",
    "train_loader = DataLoader(\n",
    "    train_dataset,\n",
    "    batch_size=config['batch_size'],\n",
    "    shuffle=True,\n",
    "    collate_fn=collate_batch\n",
    ")\n",
    "\n",
    "val_loader = DataLoader(\n",
    "    val_dataset,\n",
    "    batch_size=config['batch_size'],\n",
    "    shuffle=False,\n",
    "    collate_fn=collate_batch\n",
    ")\n",
    "\n",
    "test_loader = DataLoader(\n",
    "    test_dataset,\n",
    "    batch_size=config['batch_size'],\n",
    "    shuffle=False,\n",
    "    collate_fn=collate_batch\n",
    ")"
   ]
  },
  {
   "cell_type": "code",
   "execution_count": 7,
   "id": "be1b89ff",
   "metadata": {
    "execution": {
     "iopub.execute_input": "2025-03-26T21:18:48.626047Z",
     "iopub.status.busy": "2025-03-26T21:18:48.625804Z",
     "iopub.status.idle": "2025-03-26T21:18:49.621061Z",
     "shell.execute_reply": "2025-03-26T21:18:49.620670Z"
    },
    "papermill": {
     "duration": 0.997339,
     "end_time": "2025-03-26T21:18:49.621678",
     "exception": false,
     "start_time": "2025-03-26T21:18:48.624339",
     "status": "completed"
    },
    "tags": []
   },
   "outputs": [
    {
     "name": "stderr",
     "output_type": "stream",
     "text": [
      "/home/luuka/thesis/workspace/src/models/trainer.py:48: FutureWarning: `torch.cuda.amp.GradScaler(args...)` is deprecated. Please use `torch.amp.GradScaler('cuda', args...)` instead.\n",
      "  self.scaler = GradScaler()\n"
     ]
    }
   ],
   "source": [
    "# Initialize Model and Trainer\n",
    "model = TrollDetector(\n",
    "    model_name=config['model_name'],\n",
    "    dropout_rate=0.1\n",
    ")\n",
    "\n",
    "# Initialize trainer\n",
    "trainer = TrollDetectorTrainer(\n",
    "    model=model,\n",
    "    train_loader=train_loader,\n",
    "    val_loader=val_loader,\n",
    "    test_loader=test_loader,\n",
    "    learning_rate=config['learning_rate'],\n",
    "    weight_decay=config['weight_decay'],\n",
    "    max_grad_norm=config['max_grad_norm'],\n",
    "    num_epochs=config['num_epochs'],\n",
    "    warmup_steps=config['warmup_steps'],\n",
    "    checkpoint_dir=CHECKPOINT_DIR,\n",
    "    use_wandb=config['use_wandb']\n",
    ")"
   ]
  },
  {
   "cell_type": "code",
   "execution_count": 8,
   "id": "3e34eaa9",
   "metadata": {
    "execution": {
     "iopub.execute_input": "2025-03-26T21:18:49.624273Z",
     "iopub.status.busy": "2025-03-26T21:18:49.624069Z",
     "iopub.status.idle": "2025-03-26T21:23:27.817228Z",
     "shell.execute_reply": "2025-03-26T21:23:27.816799Z"
    },
    "papermill": {
     "duration": 278.195125,
     "end_time": "2025-03-26T21:23:27.817917",
     "exception": false,
     "start_time": "2025-03-26T21:18:49.622792",
     "status": "completed"
    },
    "tags": []
   },
   "outputs": [
    {
     "name": "stderr",
     "output_type": "stream",
     "text": [
      "INFO:src.models.trainer:Starting training on device: cuda\n"
     ]
    },
    {
     "name": "stderr",
     "output_type": "stream",
     "text": [
      "INFO:src.models.trainer:Training samples: 16242\n"
     ]
    },
    {
     "name": "stderr",
     "output_type": "stream",
     "text": [
      "INFO:src.models.trainer:Validation samples: 3481\n"
     ]
    },
    {
     "name": "stderr",
     "output_type": "stream",
     "text": [
      "INFO:src.models.trainer:\n",
      "Epoch 1/3\n"
     ]
    },
    {
     "name": "stderr",
     "output_type": "stream",
     "text": [
      "\r",
      "Training:   0%|                                                                     | 0/254 [00:00<?, ?it/s]"
     ]
    },
    {
     "name": "stderr",
     "output_type": "stream",
     "text": [
      "/home/luuka/thesis/workspace/src/models/trainer.py:91: FutureWarning: `torch.cuda.amp.autocast(args...)` is deprecated. Please use `torch.amp.autocast('cuda', args...)` instead.\n",
      "  with torch.cuda.amp.autocast():\n"
     ]
    },
    {
     "name": "stderr",
     "output_type": "stream",
     "text": [
      "\r",
      "Training:   0%|                                                        | 0/254 [00:04<?, ?it/s, loss=0.7202]"
     ]
    },
    {
     "name": "stderr",
     "output_type": "stream",
     "text": [
      "\r",
      "Training:   0%|▏                                               | 1/254 [00:04<16:55,  4.01s/it, loss=0.7202]"
     ]
    },
    {
     "name": "stderr",
     "output_type": "stream",
     "text": [
      "\r",
      "Training:   0%|▏                                               | 1/254 [00:04<16:55,  4.01s/it, loss=0.6471]"
     ]
    },
    {
     "name": "stderr",
     "output_type": "stream",
     "text": [
      "\r",
      "Training:   1%|▍                                               | 2/254 [00:04<07:39,  1.82s/it, loss=0.6471]"
     ]
    },
    {
     "name": "stderr",
     "output_type": "stream",
     "text": [
      "\r",
      "Training:   1%|▍                                               | 2/254 [00:04<07:39,  1.82s/it, loss=0.5509]"
     ]
    },
    {
     "name": "stderr",
     "output_type": "stream",
     "text": [
      "\r",
      "Training:   1%|▌                                               | 3/254 [00:04<04:42,  1.12s/it, loss=0.5509]"
     ]
    },
    {
     "name": "stderr",
     "output_type": "stream",
     "text": [
      "\r",
      "Training:   1%|▌                                               | 3/254 [00:04<04:42,  1.12s/it, loss=0.5029]"
     ]
    },
    {
     "name": "stderr",
     "output_type": "stream",
     "text": [
      "\r",
      "Training:   2%|▊                                               | 4/254 [00:04<03:18,  1.26it/s, loss=0.5029]"
     ]
    },
    {
     "name": "stderr",
     "output_type": "stream",
     "text": [
      "\r",
      "Training:   2%|▊                                               | 4/254 [00:05<03:18,  1.26it/s, loss=0.4657]"
     ]
    },
    {
     "name": "stderr",
     "output_type": "stream",
     "text": [
      "\r",
      "Training:   2%|▉                                               | 5/254 [00:05<02:32,  1.63it/s, loss=0.4657]"
     ]
    },
    {
     "name": "stderr",
     "output_type": "stream",
     "text": [
      "\r",
      "Training:   2%|▉                                               | 5/254 [00:05<02:32,  1.63it/s, loss=0.3910]"
     ]
    },
    {
     "name": "stderr",
     "output_type": "stream",
     "text": [
      "\r",
      "Training:   2%|█▏                                              | 6/254 [00:05<02:04,  1.99it/s, loss=0.3910]"
     ]
    },
    {
     "name": "stderr",
     "output_type": "stream",
     "text": [
      "\r",
      "Training:   2%|█▏                                              | 6/254 [00:05<02:04,  1.99it/s, loss=0.3962]"
     ]
    },
    {
     "name": "stderr",
     "output_type": "stream",
     "text": [
      "\r",
      "Training:   3%|█▎                                              | 7/254 [00:05<01:47,  2.30it/s, loss=0.3962]"
     ]
    },
    {
     "name": "stderr",
     "output_type": "stream",
     "text": [
      "\r",
      "Training:   3%|█▎                                              | 7/254 [00:06<01:47,  2.30it/s, loss=0.2960]"
     ]
    },
    {
     "name": "stderr",
     "output_type": "stream",
     "text": [
      "\r",
      "Training:   3%|█▌                                              | 8/254 [00:06<01:35,  2.57it/s, loss=0.2960]"
     ]
    },
    {
     "name": "stderr",
     "output_type": "stream",
     "text": [
      "\r",
      "Training:   3%|█▌                                              | 8/254 [00:06<01:35,  2.57it/s, loss=0.2564]"
     ]
    },
    {
     "name": "stderr",
     "output_type": "stream",
     "text": [
      "\r",
      "Training:   4%|█▋                                              | 9/254 [00:06<01:27,  2.80it/s, loss=0.2564]"
     ]
    },
    {
     "name": "stderr",
     "output_type": "stream",
     "text": [
      "\r",
      "Training:   4%|█▋                                              | 9/254 [00:06<01:27,  2.80it/s, loss=0.3787]"
     ]
    },
    {
     "name": "stderr",
     "output_type": "stream",
     "text": [
      "\r",
      "Training:   4%|█▊                                             | 10/254 [00:06<01:22,  2.97it/s, loss=0.3787]"
     ]
    },
    {
     "name": "stderr",
     "output_type": "stream",
     "text": [
      "\r",
      "Training:   4%|█▊                                             | 10/254 [00:06<01:22,  2.97it/s, loss=0.1741]"
     ]
    },
    {
     "name": "stderr",
     "output_type": "stream",
     "text": [
      "\r",
      "Training:   4%|██                                             | 11/254 [00:06<01:18,  3.11it/s, loss=0.1741]"
     ]
    },
    {
     "name": "stderr",
     "output_type": "stream",
     "text": [
      "\r",
      "Training:   4%|██                                             | 11/254 [00:07<01:18,  3.11it/s, loss=0.2003]"
     ]
    },
    {
     "name": "stderr",
     "output_type": "stream",
     "text": [
      "\r",
      "Training:   5%|██▏                                            | 12/254 [00:07<01:15,  3.21it/s, loss=0.2003]"
     ]
    },
    {
     "name": "stderr",
     "output_type": "stream",
     "text": [
      "\r",
      "Training:   5%|██▏                                            | 12/254 [00:07<01:15,  3.21it/s, loss=0.2611]"
     ]
    },
    {
     "name": "stderr",
     "output_type": "stream",
     "text": [
      "\r",
      "Training:   5%|██▍                                            | 13/254 [00:07<01:13,  3.28it/s, loss=0.2611]"
     ]
    },
    {
     "name": "stderr",
     "output_type": "stream",
     "text": [
      "\r",
      "Training:   5%|██▍                                            | 13/254 [00:07<01:13,  3.28it/s, loss=0.1927]"
     ]
    },
    {
     "name": "stderr",
     "output_type": "stream",
     "text": [
      "\r",
      "Training:   6%|██▌                                            | 14/254 [00:07<01:12,  3.33it/s, loss=0.1927]"
     ]
    },
    {
     "name": "stderr",
     "output_type": "stream",
     "text": [
      "\r",
      "Training:   6%|██▌                                            | 14/254 [00:08<01:12,  3.33it/s, loss=0.1861]"
     ]
    },
    {
     "name": "stderr",
     "output_type": "stream",
     "text": [
      "\r",
      "Training:   6%|██▊                                            | 15/254 [00:08<01:10,  3.37it/s, loss=0.1861]"
     ]
    },
    {
     "name": "stderr",
     "output_type": "stream",
     "text": [
      "\r",
      "Training:   6%|██▊                                            | 15/254 [00:08<01:10,  3.37it/s, loss=0.1772]"
     ]
    },
    {
     "name": "stderr",
     "output_type": "stream",
     "text": [
      "\r",
      "Training:   6%|██▉                                            | 16/254 [00:08<01:10,  3.39it/s, loss=0.1772]"
     ]
    },
    {
     "name": "stderr",
     "output_type": "stream",
     "text": [
      "\r",
      "Training:   6%|██▉                                            | 16/254 [00:08<01:10,  3.39it/s, loss=0.1766]"
     ]
    },
    {
     "name": "stderr",
     "output_type": "stream",
     "text": [
      "\r",
      "Training:   7%|███▏                                           | 17/254 [00:08<01:09,  3.41it/s, loss=0.1766]"
     ]
    },
    {
     "name": "stderr",
     "output_type": "stream",
     "text": [
      "\r",
      "Training:   7%|███▏                                           | 17/254 [00:08<01:09,  3.41it/s, loss=0.2676]"
     ]
    },
    {
     "name": "stderr",
     "output_type": "stream",
     "text": [
      "\r",
      "Training:   7%|███▎                                           | 18/254 [00:08<01:08,  3.43it/s, loss=0.2676]"
     ]
    },
    {
     "name": "stderr",
     "output_type": "stream",
     "text": [
      "\r",
      "Training:   7%|███▎                                           | 18/254 [00:09<01:08,  3.43it/s, loss=0.2559]"
     ]
    },
    {
     "name": "stderr",
     "output_type": "stream",
     "text": [
      "\r",
      "Training:   7%|███▌                                           | 19/254 [00:09<01:08,  3.44it/s, loss=0.2559]"
     ]
    },
    {
     "name": "stderr",
     "output_type": "stream",
     "text": [
      "\r",
      "Training:   7%|███▌                                           | 19/254 [00:09<01:08,  3.44it/s, loss=0.3173]"
     ]
    },
    {
     "name": "stderr",
     "output_type": "stream",
     "text": [
      "\r",
      "Training:   8%|███▋                                           | 20/254 [00:09<01:08,  3.44it/s, loss=0.3173]"
     ]
    },
    {
     "name": "stderr",
     "output_type": "stream",
     "text": [
      "\r",
      "Training:   8%|███▋                                           | 20/254 [00:09<01:08,  3.44it/s, loss=0.2181]"
     ]
    },
    {
     "name": "stderr",
     "output_type": "stream",
     "text": [
      "\r",
      "Training:   8%|███▉                                           | 21/254 [00:09<01:07,  3.45it/s, loss=0.2181]"
     ]
    },
    {
     "name": "stderr",
     "output_type": "stream",
     "text": [
      "\r",
      "Training:   8%|███▉                                           | 21/254 [00:10<01:07,  3.45it/s, loss=0.0833]"
     ]
    },
    {
     "name": "stderr",
     "output_type": "stream",
     "text": [
      "\r",
      "Training:   9%|████                                           | 22/254 [00:10<01:07,  3.45it/s, loss=0.0833]"
     ]
    },
    {
     "name": "stderr",
     "output_type": "stream",
     "text": [
      "\r",
      "Training:   9%|████                                           | 22/254 [00:10<01:07,  3.45it/s, loss=0.1084]"
     ]
    },
    {
     "name": "stderr",
     "output_type": "stream",
     "text": [
      "\r",
      "Training:   9%|████▎                                          | 23/254 [00:10<01:07,  3.44it/s, loss=0.1084]"
     ]
    },
    {
     "name": "stderr",
     "output_type": "stream",
     "text": [
      "\r",
      "Training:   9%|████▎                                          | 23/254 [00:10<01:07,  3.44it/s, loss=0.3470]"
     ]
    },
    {
     "name": "stderr",
     "output_type": "stream",
     "text": [
      "\r",
      "Training:   9%|████▍                                          | 24/254 [00:10<01:06,  3.44it/s, loss=0.3470]"
     ]
    },
    {
     "name": "stderr",
     "output_type": "stream",
     "text": [
      "\r",
      "Training:   9%|████▍                                          | 24/254 [00:10<01:06,  3.44it/s, loss=0.2538]"
     ]
    },
    {
     "name": "stderr",
     "output_type": "stream",
     "text": [
      "\r",
      "Training:  10%|████▋                                          | 25/254 [00:10<01:06,  3.44it/s, loss=0.2538]"
     ]
    },
    {
     "name": "stderr",
     "output_type": "stream",
     "text": [
      "\r",
      "Training:  10%|████▋                                          | 25/254 [00:11<01:06,  3.44it/s, loss=0.1504]"
     ]
    },
    {
     "name": "stderr",
     "output_type": "stream",
     "text": [
      "\r",
      "Training:  10%|████▊                                          | 26/254 [00:11<01:06,  3.45it/s, loss=0.1504]"
     ]
    },
    {
     "name": "stderr",
     "output_type": "stream",
     "text": [
      "\r",
      "Training:  10%|████▊                                          | 26/254 [00:11<01:06,  3.45it/s, loss=0.1950]"
     ]
    },
    {
     "name": "stderr",
     "output_type": "stream",
     "text": [
      "\r",
      "Training:  11%|████▉                                          | 27/254 [00:11<01:05,  3.45it/s, loss=0.1950]"
     ]
    },
    {
     "name": "stderr",
     "output_type": "stream",
     "text": [
      "\r",
      "Training:  11%|████▉                                          | 27/254 [00:11<01:05,  3.45it/s, loss=0.0951]"
     ]
    },
    {
     "name": "stderr",
     "output_type": "stream",
     "text": [
      "\r",
      "Training:  11%|█████▏                                         | 28/254 [00:11<01:05,  3.45it/s, loss=0.0951]"
     ]
    },
    {
     "name": "stderr",
     "output_type": "stream",
     "text": [
      "\r",
      "Training:  11%|█████▏                                         | 28/254 [00:12<01:05,  3.45it/s, loss=0.1713]"
     ]
    },
    {
     "name": "stderr",
     "output_type": "stream",
     "text": [
      "\r",
      "Training:  11%|█████▎                                         | 29/254 [00:12<01:05,  3.45it/s, loss=0.1713]"
     ]
    },
    {
     "name": "stderr",
     "output_type": "stream",
     "text": [
      "\r",
      "Training:  11%|█████▎                                         | 29/254 [00:12<01:05,  3.45it/s, loss=0.1470]"
     ]
    },
    {
     "name": "stderr",
     "output_type": "stream",
     "text": [
      "\r",
      "Training:  12%|█████▌                                         | 30/254 [00:12<01:04,  3.46it/s, loss=0.1470]"
     ]
    },
    {
     "name": "stderr",
     "output_type": "stream",
     "text": [
      "\r",
      "Training:  12%|█████▌                                         | 30/254 [00:12<01:04,  3.46it/s, loss=0.2312]"
     ]
    },
    {
     "name": "stderr",
     "output_type": "stream",
     "text": [
      "\r",
      "Training:  12%|█████▋                                         | 31/254 [00:12<01:04,  3.46it/s, loss=0.2312]"
     ]
    },
    {
     "name": "stderr",
     "output_type": "stream",
     "text": [
      "\r",
      "Training:  12%|█████▋                                         | 31/254 [00:12<01:04,  3.46it/s, loss=0.2127]"
     ]
    },
    {
     "name": "stderr",
     "output_type": "stream",
     "text": [
      "\r",
      "Training:  13%|█████▉                                         | 32/254 [00:12<01:04,  3.45it/s, loss=0.2127]"
     ]
    },
    {
     "name": "stderr",
     "output_type": "stream",
     "text": [
      "\r",
      "Training:  13%|█████▉                                         | 32/254 [00:13<01:04,  3.45it/s, loss=0.0959]"
     ]
    },
    {
     "name": "stderr",
     "output_type": "stream",
     "text": [
      "\r",
      "Training:  13%|██████                                         | 33/254 [00:13<01:03,  3.45it/s, loss=0.0959]"
     ]
    },
    {
     "name": "stderr",
     "output_type": "stream",
     "text": [
      "\r",
      "Training:  13%|██████                                         | 33/254 [00:13<01:03,  3.45it/s, loss=0.1382]"
     ]
    },
    {
     "name": "stderr",
     "output_type": "stream",
     "text": [
      "\r",
      "Training:  13%|██████▎                                        | 34/254 [00:13<01:03,  3.45it/s, loss=0.1382]"
     ]
    },
    {
     "name": "stderr",
     "output_type": "stream",
     "text": [
      "\r",
      "Training:  13%|██████▎                                        | 34/254 [00:13<01:03,  3.45it/s, loss=0.1568]"
     ]
    },
    {
     "name": "stderr",
     "output_type": "stream",
     "text": [
      "\r",
      "Training:  14%|██████▍                                        | 35/254 [00:13<01:03,  3.45it/s, loss=0.1568]"
     ]
    },
    {
     "name": "stderr",
     "output_type": "stream",
     "text": [
      "\r",
      "Training:  14%|██████▍                                        | 35/254 [00:14<01:03,  3.45it/s, loss=0.2190]"
     ]
    },
    {
     "name": "stderr",
     "output_type": "stream",
     "text": [
      "\r",
      "Training:  14%|██████▋                                        | 36/254 [00:14<01:03,  3.45it/s, loss=0.2190]"
     ]
    },
    {
     "name": "stderr",
     "output_type": "stream",
     "text": [
      "\r",
      "Training:  14%|██████▋                                        | 36/254 [00:14<01:03,  3.45it/s, loss=0.1782]"
     ]
    },
    {
     "name": "stderr",
     "output_type": "stream",
     "text": [
      "\r",
      "Training:  15%|██████▊                                        | 37/254 [00:14<01:02,  3.45it/s, loss=0.1782]"
     ]
    },
    {
     "name": "stderr",
     "output_type": "stream",
     "text": [
      "\r",
      "Training:  15%|██████▊                                        | 37/254 [00:14<01:02,  3.45it/s, loss=0.0990]"
     ]
    },
    {
     "name": "stderr",
     "output_type": "stream",
     "text": [
      "\r",
      "Training:  15%|███████                                        | 38/254 [00:14<01:02,  3.44it/s, loss=0.0990]"
     ]
    },
    {
     "name": "stderr",
     "output_type": "stream",
     "text": [
      "\r",
      "Training:  15%|███████                                        | 38/254 [00:15<01:02,  3.44it/s, loss=0.1639]"
     ]
    },
    {
     "name": "stderr",
     "output_type": "stream",
     "text": [
      "\r",
      "Training:  15%|███████▏                                       | 39/254 [00:15<01:02,  3.45it/s, loss=0.1639]"
     ]
    },
    {
     "name": "stderr",
     "output_type": "stream",
     "text": [
      "\r",
      "Training:  15%|███████▏                                       | 39/254 [00:15<01:02,  3.45it/s, loss=0.1314]"
     ]
    },
    {
     "name": "stderr",
     "output_type": "stream",
     "text": [
      "\r",
      "Training:  16%|███████▍                                       | 40/254 [00:15<01:02,  3.44it/s, loss=0.1314]"
     ]
    },
    {
     "name": "stderr",
     "output_type": "stream",
     "text": [
      "\r",
      "Training:  16%|███████▍                                       | 40/254 [00:15<01:02,  3.44it/s, loss=0.1322]"
     ]
    },
    {
     "name": "stderr",
     "output_type": "stream",
     "text": [
      "\r",
      "Training:  16%|███████▌                                       | 41/254 [00:15<01:01,  3.44it/s, loss=0.1322]"
     ]
    },
    {
     "name": "stderr",
     "output_type": "stream",
     "text": [
      "\r",
      "Training:  16%|███████▌                                       | 41/254 [00:15<01:01,  3.44it/s, loss=0.1095]"
     ]
    },
    {
     "name": "stderr",
     "output_type": "stream",
     "text": [
      "\r",
      "Training:  17%|███████▊                                       | 42/254 [00:15<01:01,  3.44it/s, loss=0.1095]"
     ]
    },
    {
     "name": "stderr",
     "output_type": "stream",
     "text": [
      "\r",
      "Training:  17%|███████▊                                       | 42/254 [00:16<01:01,  3.44it/s, loss=0.2125]"
     ]
    },
    {
     "name": "stderr",
     "output_type": "stream",
     "text": [
      "\r",
      "Training:  17%|███████▉                                       | 43/254 [00:16<01:01,  3.44it/s, loss=0.2125]"
     ]
    },
    {
     "name": "stderr",
     "output_type": "stream",
     "text": [
      "\r",
      "Training:  17%|███████▉                                       | 43/254 [00:16<01:01,  3.44it/s, loss=0.1315]"
     ]
    },
    {
     "name": "stderr",
     "output_type": "stream",
     "text": [
      "\r",
      "Training:  17%|████████▏                                      | 44/254 [00:16<01:01,  3.44it/s, loss=0.1315]"
     ]
    },
    {
     "name": "stderr",
     "output_type": "stream",
     "text": [
      "\r",
      "Training:  17%|████████▏                                      | 44/254 [00:16<01:01,  3.44it/s, loss=0.1050]"
     ]
    },
    {
     "name": "stderr",
     "output_type": "stream",
     "text": [
      "\r",
      "Training:  18%|████████▎                                      | 45/254 [00:16<01:00,  3.44it/s, loss=0.1050]"
     ]
    },
    {
     "name": "stderr",
     "output_type": "stream",
     "text": [
      "\r",
      "Training:  18%|████████▎                                      | 45/254 [00:17<01:00,  3.44it/s, loss=0.1223]"
     ]
    },
    {
     "name": "stderr",
     "output_type": "stream",
     "text": [
      "\r",
      "Training:  18%|████████▌                                      | 46/254 [00:17<01:00,  3.44it/s, loss=0.1223]"
     ]
    },
    {
     "name": "stderr",
     "output_type": "stream",
     "text": [
      "\r",
      "Training:  18%|████████▌                                      | 46/254 [00:17<01:00,  3.44it/s, loss=0.2479]"
     ]
    },
    {
     "name": "stderr",
     "output_type": "stream",
     "text": [
      "\r",
      "Training:  19%|████████▋                                      | 47/254 [00:17<01:00,  3.44it/s, loss=0.2479]"
     ]
    },
    {
     "name": "stderr",
     "output_type": "stream",
     "text": [
      "\r",
      "Training:  19%|████████▋                                      | 47/254 [00:17<01:00,  3.44it/s, loss=0.0981]"
     ]
    },
    {
     "name": "stderr",
     "output_type": "stream",
     "text": [
      "\r",
      "Training:  19%|████████▉                                      | 48/254 [00:17<00:59,  3.44it/s, loss=0.0981]"
     ]
    },
    {
     "name": "stderr",
     "output_type": "stream",
     "text": [
      "\r",
      "Training:  19%|████████▉                                      | 48/254 [00:17<00:59,  3.44it/s, loss=0.1026]"
     ]
    },
    {
     "name": "stderr",
     "output_type": "stream",
     "text": [
      "\r",
      "Training:  19%|█████████                                      | 49/254 [00:17<00:59,  3.44it/s, loss=0.1026]"
     ]
    },
    {
     "name": "stderr",
     "output_type": "stream",
     "text": [
      "\r",
      "Training:  19%|█████████                                      | 49/254 [00:18<00:59,  3.44it/s, loss=0.1044]"
     ]
    },
    {
     "name": "stderr",
     "output_type": "stream",
     "text": [
      "\r",
      "Training:  20%|█████████▎                                     | 50/254 [00:18<00:59,  3.44it/s, loss=0.1044]"
     ]
    },
    {
     "name": "stderr",
     "output_type": "stream",
     "text": [
      "\r",
      "Training:  20%|█████████▎                                     | 50/254 [00:18<00:59,  3.44it/s, loss=0.1173]"
     ]
    },
    {
     "name": "stderr",
     "output_type": "stream",
     "text": [
      "\r",
      "Training:  20%|█████████▍                                     | 51/254 [00:18<00:59,  3.44it/s, loss=0.1173]"
     ]
    },
    {
     "name": "stderr",
     "output_type": "stream",
     "text": [
      "\r",
      "Training:  20%|█████████▍                                     | 51/254 [00:18<00:59,  3.44it/s, loss=0.0827]"
     ]
    },
    {
     "name": "stderr",
     "output_type": "stream",
     "text": [
      "\r",
      "Training:  20%|█████████▌                                     | 52/254 [00:18<00:58,  3.44it/s, loss=0.0827]"
     ]
    },
    {
     "name": "stderr",
     "output_type": "stream",
     "text": [
      "\r",
      "Training:  20%|█████████▌                                     | 52/254 [00:19<00:58,  3.44it/s, loss=0.1052]"
     ]
    },
    {
     "name": "stderr",
     "output_type": "stream",
     "text": [
      "\r",
      "Training:  21%|█████████▊                                     | 53/254 [00:19<00:58,  3.44it/s, loss=0.1052]"
     ]
    },
    {
     "name": "stderr",
     "output_type": "stream",
     "text": [
      "\r",
      "Training:  21%|█████████▊                                     | 53/254 [00:19<00:58,  3.44it/s, loss=0.1684]"
     ]
    },
    {
     "name": "stderr",
     "output_type": "stream",
     "text": [
      "\r",
      "Training:  21%|█████████▉                                     | 54/254 [00:19<00:58,  3.44it/s, loss=0.1684]"
     ]
    },
    {
     "name": "stderr",
     "output_type": "stream",
     "text": [
      "\r",
      "Training:  21%|█████████▉                                     | 54/254 [00:19<00:58,  3.44it/s, loss=0.0922]"
     ]
    },
    {
     "name": "stderr",
     "output_type": "stream",
     "text": [
      "\r",
      "Training:  22%|██████████▏                                    | 55/254 [00:19<00:57,  3.44it/s, loss=0.0922]"
     ]
    },
    {
     "name": "stderr",
     "output_type": "stream",
     "text": [
      "\r",
      "Training:  22%|██████████▏                                    | 55/254 [00:19<00:57,  3.44it/s, loss=0.0663]"
     ]
    },
    {
     "name": "stderr",
     "output_type": "stream",
     "text": [
      "\r",
      "Training:  22%|██████████▎                                    | 56/254 [00:19<00:57,  3.44it/s, loss=0.0663]"
     ]
    },
    {
     "name": "stderr",
     "output_type": "stream",
     "text": [
      "\r",
      "Training:  22%|██████████▎                                    | 56/254 [00:20<00:57,  3.44it/s, loss=0.1448]"
     ]
    },
    {
     "name": "stderr",
     "output_type": "stream",
     "text": [
      "\r",
      "Training:  22%|██████████▌                                    | 57/254 [00:20<00:57,  3.44it/s, loss=0.1448]"
     ]
    },
    {
     "name": "stderr",
     "output_type": "stream",
     "text": [
      "\r",
      "Training:  22%|██████████▌                                    | 57/254 [00:20<00:57,  3.44it/s, loss=0.0795]"
     ]
    },
    {
     "name": "stderr",
     "output_type": "stream",
     "text": [
      "\r",
      "Training:  23%|██████████▋                                    | 58/254 [00:20<00:56,  3.44it/s, loss=0.0795]"
     ]
    },
    {
     "name": "stderr",
     "output_type": "stream",
     "text": [
      "\r",
      "Training:  23%|██████████▋                                    | 58/254 [00:20<00:56,  3.44it/s, loss=0.0935]"
     ]
    },
    {
     "name": "stderr",
     "output_type": "stream",
     "text": [
      "\r",
      "Training:  23%|██████████▉                                    | 59/254 [00:20<00:56,  3.44it/s, loss=0.0935]"
     ]
    },
    {
     "name": "stderr",
     "output_type": "stream",
     "text": [
      "\r",
      "Training:  23%|██████████▉                                    | 59/254 [00:21<00:56,  3.44it/s, loss=0.1336]"
     ]
    },
    {
     "name": "stderr",
     "output_type": "stream",
     "text": [
      "\r",
      "Training:  24%|███████████                                    | 60/254 [00:21<00:56,  3.44it/s, loss=0.1336]"
     ]
    },
    {
     "name": "stderr",
     "output_type": "stream",
     "text": [
      "\r",
      "Training:  24%|███████████                                    | 60/254 [00:21<00:56,  3.44it/s, loss=0.0359]"
     ]
    },
    {
     "name": "stderr",
     "output_type": "stream",
     "text": [
      "\r",
      "Training:  24%|███████████▎                                   | 61/254 [00:21<00:56,  3.44it/s, loss=0.0359]"
     ]
    },
    {
     "name": "stderr",
     "output_type": "stream",
     "text": [
      "\r",
      "Training:  24%|███████████▎                                   | 61/254 [00:21<00:56,  3.44it/s, loss=0.1294]"
     ]
    },
    {
     "name": "stderr",
     "output_type": "stream",
     "text": [
      "\r",
      "Training:  24%|███████████▍                                   | 62/254 [00:21<00:55,  3.44it/s, loss=0.1294]"
     ]
    },
    {
     "name": "stderr",
     "output_type": "stream",
     "text": [
      "\r",
      "Training:  24%|███████████▍                                   | 62/254 [00:22<00:55,  3.44it/s, loss=0.2096]"
     ]
    },
    {
     "name": "stderr",
     "output_type": "stream",
     "text": [
      "\r",
      "Training:  25%|███████████▋                                   | 63/254 [00:22<00:55,  3.44it/s, loss=0.2096]"
     ]
    },
    {
     "name": "stderr",
     "output_type": "stream",
     "text": [
      "\r",
      "Training:  25%|███████████▋                                   | 63/254 [00:22<00:55,  3.44it/s, loss=0.0418]"
     ]
    },
    {
     "name": "stderr",
     "output_type": "stream",
     "text": [
      "\r",
      "Training:  25%|███████████▊                                   | 64/254 [00:22<00:55,  3.44it/s, loss=0.0418]"
     ]
    },
    {
     "name": "stderr",
     "output_type": "stream",
     "text": [
      "\r",
      "Training:  25%|███████████▊                                   | 64/254 [00:22<00:55,  3.44it/s, loss=0.0527]"
     ]
    },
    {
     "name": "stderr",
     "output_type": "stream",
     "text": [
      "\r",
      "Training:  26%|████████████                                   | 65/254 [00:22<00:55,  3.44it/s, loss=0.0527]"
     ]
    },
    {
     "name": "stderr",
     "output_type": "stream",
     "text": [
      "\r",
      "Training:  26%|████████████                                   | 65/254 [00:22<00:55,  3.44it/s, loss=0.0838]"
     ]
    },
    {
     "name": "stderr",
     "output_type": "stream",
     "text": [
      "\r",
      "Training:  26%|████████████▏                                  | 66/254 [00:22<00:54,  3.44it/s, loss=0.0838]"
     ]
    },
    {
     "name": "stderr",
     "output_type": "stream",
     "text": [
      "\r",
      "Training:  26%|████████████▏                                  | 66/254 [00:23<00:54,  3.44it/s, loss=0.0672]"
     ]
    },
    {
     "name": "stderr",
     "output_type": "stream",
     "text": [
      "\r",
      "Training:  26%|████████████▍                                  | 67/254 [00:23<00:54,  3.44it/s, loss=0.0672]"
     ]
    },
    {
     "name": "stderr",
     "output_type": "stream",
     "text": [
      "\r",
      "Training:  26%|████████████▍                                  | 67/254 [00:23<00:54,  3.44it/s, loss=0.0748]"
     ]
    },
    {
     "name": "stderr",
     "output_type": "stream",
     "text": [
      "\r",
      "Training:  27%|████████████▌                                  | 68/254 [00:23<00:54,  3.44it/s, loss=0.0748]"
     ]
    },
    {
     "name": "stderr",
     "output_type": "stream",
     "text": [
      "\r",
      "Training:  27%|████████████▌                                  | 68/254 [00:23<00:54,  3.44it/s, loss=0.0817]"
     ]
    },
    {
     "name": "stderr",
     "output_type": "stream",
     "text": [
      "\r",
      "Training:  27%|████████████▊                                  | 69/254 [00:23<00:53,  3.44it/s, loss=0.0817]"
     ]
    },
    {
     "name": "stderr",
     "output_type": "stream",
     "text": [
      "\r",
      "Training:  27%|████████████▊                                  | 69/254 [00:24<00:53,  3.44it/s, loss=0.0696]"
     ]
    },
    {
     "name": "stderr",
     "output_type": "stream",
     "text": [
      "\r",
      "Training:  28%|████████████▉                                  | 70/254 [00:24<00:53,  3.44it/s, loss=0.0696]"
     ]
    },
    {
     "name": "stderr",
     "output_type": "stream",
     "text": [
      "\r",
      "Training:  28%|████████████▉                                  | 70/254 [00:24<00:53,  3.44it/s, loss=0.1135]"
     ]
    },
    {
     "name": "stderr",
     "output_type": "stream",
     "text": [
      "\r",
      "Training:  28%|█████████████▏                                 | 71/254 [00:24<00:53,  3.44it/s, loss=0.1135]"
     ]
    },
    {
     "name": "stderr",
     "output_type": "stream",
     "text": [
      "\r",
      "Training:  28%|█████████████▏                                 | 71/254 [00:24<00:53,  3.44it/s, loss=0.0707]"
     ]
    },
    {
     "name": "stderr",
     "output_type": "stream",
     "text": [
      "\r",
      "Training:  28%|█████████████▎                                 | 72/254 [00:24<00:52,  3.44it/s, loss=0.0707]"
     ]
    },
    {
     "name": "stderr",
     "output_type": "stream",
     "text": [
      "\r",
      "Training:  28%|█████████████▎                                 | 72/254 [00:24<00:52,  3.44it/s, loss=0.0604]"
     ]
    },
    {
     "name": "stderr",
     "output_type": "stream",
     "text": [
      "\r",
      "Training:  29%|█████████████▌                                 | 73/254 [00:24<00:52,  3.44it/s, loss=0.0604]"
     ]
    },
    {
     "name": "stderr",
     "output_type": "stream",
     "text": [
      "\r",
      "Training:  29%|█████████████▌                                 | 73/254 [00:25<00:52,  3.44it/s, loss=0.0441]"
     ]
    },
    {
     "name": "stderr",
     "output_type": "stream",
     "text": [
      "\r",
      "Training:  29%|█████████████▋                                 | 74/254 [00:25<00:52,  3.44it/s, loss=0.0441]"
     ]
    },
    {
     "name": "stderr",
     "output_type": "stream",
     "text": [
      "\r",
      "Training:  29%|█████████████▋                                 | 74/254 [00:25<00:52,  3.44it/s, loss=0.0452]"
     ]
    },
    {
     "name": "stderr",
     "output_type": "stream",
     "text": [
      "\r",
      "Training:  30%|█████████████▉                                 | 75/254 [00:25<00:52,  3.44it/s, loss=0.0452]"
     ]
    },
    {
     "name": "stderr",
     "output_type": "stream",
     "text": [
      "\r",
      "Training:  30%|█████████████▉                                 | 75/254 [00:25<00:52,  3.44it/s, loss=0.0534]"
     ]
    },
    {
     "name": "stderr",
     "output_type": "stream",
     "text": [
      "\r",
      "Training:  30%|██████████████                                 | 76/254 [00:25<00:51,  3.44it/s, loss=0.0534]"
     ]
    },
    {
     "name": "stderr",
     "output_type": "stream",
     "text": [
      "\r",
      "Training:  30%|██████████████                                 | 76/254 [00:26<00:51,  3.44it/s, loss=0.0798]"
     ]
    },
    {
     "name": "stderr",
     "output_type": "stream",
     "text": [
      "\r",
      "Training:  30%|██████████████▏                                | 77/254 [00:26<00:51,  3.44it/s, loss=0.0798]"
     ]
    },
    {
     "name": "stderr",
     "output_type": "stream",
     "text": [
      "\r",
      "Training:  30%|██████████████▏                                | 77/254 [00:26<00:51,  3.44it/s, loss=0.1204]"
     ]
    },
    {
     "name": "stderr",
     "output_type": "stream",
     "text": [
      "\r",
      "Training:  31%|██████████████▍                                | 78/254 [00:26<00:51,  3.44it/s, loss=0.1204]"
     ]
    },
    {
     "name": "stderr",
     "output_type": "stream",
     "text": [
      "\r",
      "Training:  31%|██████████████▍                                | 78/254 [00:26<00:51,  3.44it/s, loss=0.0617]"
     ]
    },
    {
     "name": "stderr",
     "output_type": "stream",
     "text": [
      "\r",
      "Training:  31%|██████████████▌                                | 79/254 [00:26<00:50,  3.44it/s, loss=0.0617]"
     ]
    },
    {
     "name": "stderr",
     "output_type": "stream",
     "text": [
      "\r",
      "Training:  31%|██████████████▌                                | 79/254 [00:26<00:50,  3.44it/s, loss=0.0475]"
     ]
    },
    {
     "name": "stderr",
     "output_type": "stream",
     "text": [
      "\r",
      "Training:  31%|██████████████▊                                | 80/254 [00:26<00:50,  3.44it/s, loss=0.0475]"
     ]
    },
    {
     "name": "stderr",
     "output_type": "stream",
     "text": [
      "\r",
      "Training:  31%|██████████████▊                                | 80/254 [00:27<00:50,  3.44it/s, loss=0.0276]"
     ]
    },
    {
     "name": "stderr",
     "output_type": "stream",
     "text": [
      "\r",
      "Training:  32%|██████████████▉                                | 81/254 [00:27<00:50,  3.44it/s, loss=0.0276]"
     ]
    },
    {
     "name": "stderr",
     "output_type": "stream",
     "text": [
      "\r",
      "Training:  32%|██████████████▉                                | 81/254 [00:27<00:50,  3.44it/s, loss=0.0423]"
     ]
    },
    {
     "name": "stderr",
     "output_type": "stream",
     "text": [
      "\r",
      "Training:  32%|███████████████▏                               | 82/254 [00:27<00:49,  3.44it/s, loss=0.0423]"
     ]
    },
    {
     "name": "stderr",
     "output_type": "stream",
     "text": [
      "\r",
      "Training:  32%|███████████████▏                               | 82/254 [00:27<00:49,  3.44it/s, loss=0.0357]"
     ]
    },
    {
     "name": "stderr",
     "output_type": "stream",
     "text": [
      "\r",
      "Training:  33%|███████████████▎                               | 83/254 [00:27<00:49,  3.44it/s, loss=0.0357]"
     ]
    },
    {
     "name": "stderr",
     "output_type": "stream",
     "text": [
      "\r",
      "Training:  33%|███████████████▎                               | 83/254 [00:28<00:49,  3.44it/s, loss=0.0267]"
     ]
    },
    {
     "name": "stderr",
     "output_type": "stream",
     "text": [
      "\r",
      "Training:  33%|███████████████▌                               | 84/254 [00:28<00:49,  3.44it/s, loss=0.0267]"
     ]
    },
    {
     "name": "stderr",
     "output_type": "stream",
     "text": [
      "\r",
      "Training:  33%|███████████████▌                               | 84/254 [00:28<00:49,  3.44it/s, loss=0.2329]"
     ]
    },
    {
     "name": "stderr",
     "output_type": "stream",
     "text": [
      "\r",
      "Training:  33%|███████████████▋                               | 85/254 [00:28<00:49,  3.43it/s, loss=0.2329]"
     ]
    },
    {
     "name": "stderr",
     "output_type": "stream",
     "text": [
      "\r",
      "Training:  33%|███████████████▋                               | 85/254 [00:28<00:49,  3.43it/s, loss=0.1392]"
     ]
    },
    {
     "name": "stderr",
     "output_type": "stream",
     "text": [
      "\r",
      "Training:  34%|███████████████▉                               | 86/254 [00:28<00:48,  3.44it/s, loss=0.1392]"
     ]
    },
    {
     "name": "stderr",
     "output_type": "stream",
     "text": [
      "\r",
      "Training:  34%|███████████████▉                               | 86/254 [00:28<00:48,  3.44it/s, loss=0.1659]"
     ]
    },
    {
     "name": "stderr",
     "output_type": "stream",
     "text": [
      "\r",
      "Training:  34%|████████████████                               | 87/254 [00:28<00:48,  3.44it/s, loss=0.1659]"
     ]
    },
    {
     "name": "stderr",
     "output_type": "stream",
     "text": [
      "\r",
      "Training:  34%|████████████████                               | 87/254 [00:28<00:48,  3.44it/s, loss=0.0815]"
     ]
    },
    {
     "name": "stderr",
     "output_type": "stream",
     "text": [
      "\r",
      "Training:  34%|████████████████                               | 87/254 [00:28<00:48,  3.44it/s, loss=0.0146]"
     ]
    },
    {
     "name": "stderr",
     "output_type": "stream",
     "text": [
      "\r",
      "Training:  34%|████████████████                               | 87/254 [00:28<00:48,  3.44it/s, loss=0.0079]"
     ]
    },
    {
     "name": "stderr",
     "output_type": "stream",
     "text": [
      "\r",
      "Training:  34%|████████████████                               | 87/254 [00:29<00:48,  3.44it/s, loss=0.0858]"
     ]
    },
    {
     "name": "stderr",
     "output_type": "stream",
     "text": [
      "\r",
      "Training:  36%|████████████████▊                              | 91/254 [00:29<00:22,  7.14it/s, loss=0.0858]"
     ]
    },
    {
     "name": "stderr",
     "output_type": "stream",
     "text": [
      "\r",
      "Training:  36%|████████████████▊                              | 91/254 [00:29<00:22,  7.14it/s, loss=0.0591]"
     ]
    },
    {
     "name": "stderr",
     "output_type": "stream",
     "text": [
      "\r",
      "Training:  36%|█████████████████                              | 92/254 [00:29<00:27,  5.96it/s, loss=0.0591]"
     ]
    },
    {
     "name": "stderr",
     "output_type": "stream",
     "text": [
      "\r",
      "Training:  36%|█████████████████                              | 92/254 [00:29<00:27,  5.96it/s, loss=0.0829]"
     ]
    },
    {
     "name": "stderr",
     "output_type": "stream",
     "text": [
      "\r",
      "Training:  37%|█████████████████▏                             | 93/254 [00:29<00:31,  5.17it/s, loss=0.0829]"
     ]
    },
    {
     "name": "stderr",
     "output_type": "stream",
     "text": [
      "\r",
      "Training:  37%|█████████████████▏                             | 93/254 [00:30<00:31,  5.17it/s, loss=0.0232]"
     ]
    },
    {
     "name": "stderr",
     "output_type": "stream",
     "text": [
      "\r",
      "Training:  37%|█████████████████▍                             | 94/254 [00:30<00:34,  4.63it/s, loss=0.0232]"
     ]
    },
    {
     "name": "stderr",
     "output_type": "stream",
     "text": [
      "\r",
      "Training:  37%|█████████████████▍                             | 94/254 [00:30<00:34,  4.63it/s, loss=0.0701]"
     ]
    },
    {
     "name": "stderr",
     "output_type": "stream",
     "text": [
      "\r",
      "Training:  37%|█████████████████▌                             | 95/254 [00:30<00:37,  4.27it/s, loss=0.0701]"
     ]
    },
    {
     "name": "stderr",
     "output_type": "stream",
     "text": [
      "\r",
      "Training:  37%|█████████████████▌                             | 95/254 [00:30<00:37,  4.27it/s, loss=0.0218]"
     ]
    },
    {
     "name": "stderr",
     "output_type": "stream",
     "text": [
      "\r",
      "Training:  38%|█████████████████▊                             | 96/254 [00:30<00:39,  4.02it/s, loss=0.0218]"
     ]
    },
    {
     "name": "stderr",
     "output_type": "stream",
     "text": [
      "\r",
      "Training:  38%|█████████████████▊                             | 96/254 [00:30<00:39,  4.02it/s, loss=0.0221]"
     ]
    },
    {
     "name": "stderr",
     "output_type": "stream",
     "text": [
      "\r",
      "Training:  38%|█████████████████▉                             | 97/254 [00:30<00:40,  3.84it/s, loss=0.0221]"
     ]
    },
    {
     "name": "stderr",
     "output_type": "stream",
     "text": [
      "\r",
      "Training:  38%|█████████████████▉                             | 97/254 [00:31<00:40,  3.84it/s, loss=0.0376]"
     ]
    },
    {
     "name": "stderr",
     "output_type": "stream",
     "text": [
      "\r",
      "Training:  39%|██████████████████▏                            | 98/254 [00:31<00:41,  3.72it/s, loss=0.0376]"
     ]
    },
    {
     "name": "stderr",
     "output_type": "stream",
     "text": [
      "\r",
      "Training:  39%|██████████████████▏                            | 98/254 [00:31<00:41,  3.72it/s, loss=0.1118]"
     ]
    },
    {
     "name": "stderr",
     "output_type": "stream",
     "text": [
      "\r",
      "Training:  39%|██████████████████▎                            | 99/254 [00:31<00:42,  3.64it/s, loss=0.1118]"
     ]
    },
    {
     "name": "stderr",
     "output_type": "stream",
     "text": [
      "\r",
      "Training:  39%|██████████████████▎                            | 99/254 [00:31<00:42,  3.64it/s, loss=0.0166]"
     ]
    },
    {
     "name": "stderr",
     "output_type": "stream",
     "text": [
      "\r",
      "Training:  39%|██████████████████                            | 100/254 [00:31<00:43,  3.58it/s, loss=0.0166]"
     ]
    },
    {
     "name": "stderr",
     "output_type": "stream",
     "text": [
      "\r",
      "Training:  39%|██████████████████                            | 100/254 [00:32<00:43,  3.58it/s, loss=0.0941]"
     ]
    },
    {
     "name": "stderr",
     "output_type": "stream",
     "text": [
      "\r",
      "Training:  40%|██████████████████▎                           | 101/254 [00:32<00:43,  3.54it/s, loss=0.0941]"
     ]
    },
    {
     "name": "stderr",
     "output_type": "stream",
     "text": [
      "\r",
      "Training:  40%|██████████████████▎                           | 101/254 [00:32<00:43,  3.54it/s, loss=0.0978]"
     ]
    },
    {
     "name": "stderr",
     "output_type": "stream",
     "text": [
      "\r",
      "Training:  40%|██████████████████▍                           | 102/254 [00:32<00:43,  3.51it/s, loss=0.0978]"
     ]
    },
    {
     "name": "stderr",
     "output_type": "stream",
     "text": [
      "\r",
      "Training:  40%|██████████████████▍                           | 102/254 [00:32<00:43,  3.51it/s, loss=0.0098]"
     ]
    },
    {
     "name": "stderr",
     "output_type": "stream",
     "text": [
      "\r",
      "Training:  41%|██████████████████▋                           | 103/254 [00:32<00:43,  3.49it/s, loss=0.0098]"
     ]
    },
    {
     "name": "stderr",
     "output_type": "stream",
     "text": [
      "\r",
      "Training:  41%|██████████████████▋                           | 103/254 [00:32<00:43,  3.49it/s, loss=0.0367]"
     ]
    },
    {
     "name": "stderr",
     "output_type": "stream",
     "text": [
      "\r",
      "Training:  41%|██████████████████▊                           | 104/254 [00:32<00:43,  3.48it/s, loss=0.0367]"
     ]
    },
    {
     "name": "stderr",
     "output_type": "stream",
     "text": [
      "\r",
      "Training:  41%|██████████████████▊                           | 104/254 [00:33<00:43,  3.48it/s, loss=0.0117]"
     ]
    },
    {
     "name": "stderr",
     "output_type": "stream",
     "text": [
      "\r",
      "Training:  41%|███████████████████                           | 105/254 [00:33<00:42,  3.47it/s, loss=0.0117]"
     ]
    },
    {
     "name": "stderr",
     "output_type": "stream",
     "text": [
      "\r",
      "Training:  41%|███████████████████                           | 105/254 [00:33<00:42,  3.47it/s, loss=0.0196]"
     ]
    },
    {
     "name": "stderr",
     "output_type": "stream",
     "text": [
      "\r",
      "Training:  42%|███████████████████▏                          | 106/254 [00:33<00:42,  3.46it/s, loss=0.0196]"
     ]
    },
    {
     "name": "stderr",
     "output_type": "stream",
     "text": [
      "\r",
      "Training:  42%|███████████████████▏                          | 106/254 [00:33<00:42,  3.46it/s, loss=0.0999]"
     ]
    },
    {
     "name": "stderr",
     "output_type": "stream",
     "text": [
      "\r",
      "Training:  42%|███████████████████▍                          | 107/254 [00:33<00:42,  3.45it/s, loss=0.0999]"
     ]
    },
    {
     "name": "stderr",
     "output_type": "stream",
     "text": [
      "\r",
      "Training:  42%|███████████████████▍                          | 107/254 [00:34<00:42,  3.45it/s, loss=0.0113]"
     ]
    },
    {
     "name": "stderr",
     "output_type": "stream",
     "text": [
      "\r",
      "Training:  43%|███████████████████▌                          | 108/254 [00:34<00:42,  3.45it/s, loss=0.0113]"
     ]
    },
    {
     "name": "stderr",
     "output_type": "stream",
     "text": [
      "\r",
      "Training:  43%|███████████████████▌                          | 108/254 [00:34<00:42,  3.45it/s, loss=0.0864]"
     ]
    },
    {
     "name": "stderr",
     "output_type": "stream",
     "text": [
      "\r",
      "Training:  43%|███████████████████▋                          | 109/254 [00:34<00:42,  3.45it/s, loss=0.0864]"
     ]
    },
    {
     "name": "stderr",
     "output_type": "stream",
     "text": [
      "\r",
      "Training:  43%|███████████████████▋                          | 109/254 [00:34<00:42,  3.45it/s, loss=0.0093]"
     ]
    },
    {
     "name": "stderr",
     "output_type": "stream",
     "text": [
      "\r",
      "Training:  43%|███████████████████▉                          | 110/254 [00:34<00:41,  3.44it/s, loss=0.0093]"
     ]
    },
    {
     "name": "stderr",
     "output_type": "stream",
     "text": [
      "\r",
      "Training:  43%|███████████████████▉                          | 110/254 [00:35<00:41,  3.44it/s, loss=0.0484]"
     ]
    },
    {
     "name": "stderr",
     "output_type": "stream",
     "text": [
      "\r",
      "Training:  44%|████████████████████                          | 111/254 [00:35<00:41,  3.44it/s, loss=0.0484]"
     ]
    },
    {
     "name": "stderr",
     "output_type": "stream",
     "text": [
      "\r",
      "Training:  44%|████████████████████                          | 111/254 [00:35<00:41,  3.44it/s, loss=0.0388]"
     ]
    },
    {
     "name": "stderr",
     "output_type": "stream",
     "text": [
      "\r",
      "Training:  44%|████████████████████▎                         | 112/254 [00:35<00:41,  3.44it/s, loss=0.0388]"
     ]
    },
    {
     "name": "stderr",
     "output_type": "stream",
     "text": [
      "\r",
      "Training:  44%|████████████████████▎                         | 112/254 [00:35<00:41,  3.44it/s, loss=0.0342]"
     ]
    },
    {
     "name": "stderr",
     "output_type": "stream",
     "text": [
      "\r",
      "Training:  44%|████████████████████▍                         | 113/254 [00:35<00:40,  3.44it/s, loss=0.0342]"
     ]
    },
    {
     "name": "stderr",
     "output_type": "stream",
     "text": [
      "\r",
      "Training:  44%|████████████████████▍                         | 113/254 [00:35<00:40,  3.44it/s, loss=0.0059]"
     ]
    },
    {
     "name": "stderr",
     "output_type": "stream",
     "text": [
      "\r",
      "Training:  45%|████████████████████▋                         | 114/254 [00:35<00:40,  3.44it/s, loss=0.0059]"
     ]
    },
    {
     "name": "stderr",
     "output_type": "stream",
     "text": [
      "\r",
      "Training:  45%|████████████████████▋                         | 114/254 [00:36<00:40,  3.44it/s, loss=0.0850]"
     ]
    },
    {
     "name": "stderr",
     "output_type": "stream",
     "text": [
      "\r",
      "Training:  45%|████████████████████▊                         | 115/254 [00:36<00:40,  3.44it/s, loss=0.0850]"
     ]
    },
    {
     "name": "stderr",
     "output_type": "stream",
     "text": [
      "\r",
      "Training:  45%|████████████████████▊                         | 115/254 [00:36<00:40,  3.44it/s, loss=0.0436]"
     ]
    },
    {
     "name": "stderr",
     "output_type": "stream",
     "text": [
      "\r",
      "Training:  46%|█████████████████████                         | 116/254 [00:36<00:40,  3.44it/s, loss=0.0436]"
     ]
    },
    {
     "name": "stderr",
     "output_type": "stream",
     "text": [
      "\r",
      "Training:  46%|█████████████████████                         | 116/254 [00:36<00:40,  3.44it/s, loss=0.0452]"
     ]
    },
    {
     "name": "stderr",
     "output_type": "stream",
     "text": [
      "\r",
      "Training:  46%|█████████████████████▏                        | 117/254 [00:36<00:39,  3.44it/s, loss=0.0452]"
     ]
    },
    {
     "name": "stderr",
     "output_type": "stream",
     "text": [
      "\r",
      "Training:  46%|█████████████████████▏                        | 117/254 [00:37<00:39,  3.44it/s, loss=0.0388]"
     ]
    },
    {
     "name": "stderr",
     "output_type": "stream",
     "text": [
      "\r",
      "Training:  46%|█████████████████████▎                        | 118/254 [00:37<00:39,  3.44it/s, loss=0.0388]"
     ]
    },
    {
     "name": "stderr",
     "output_type": "stream",
     "text": [
      "\r",
      "Training:  46%|█████████████████████▎                        | 118/254 [00:37<00:39,  3.44it/s, loss=0.0187]"
     ]
    },
    {
     "name": "stderr",
     "output_type": "stream",
     "text": [
      "\r",
      "Training:  47%|█████████████████████▌                        | 119/254 [00:37<00:39,  3.44it/s, loss=0.0187]"
     ]
    },
    {
     "name": "stderr",
     "output_type": "stream",
     "text": [
      "\r",
      "Training:  47%|█████████████████████▌                        | 119/254 [00:37<00:39,  3.44it/s, loss=0.0284]"
     ]
    },
    {
     "name": "stderr",
     "output_type": "stream",
     "text": [
      "\r",
      "Training:  47%|█████████████████████▋                        | 120/254 [00:37<00:38,  3.44it/s, loss=0.0284]"
     ]
    },
    {
     "name": "stderr",
     "output_type": "stream",
     "text": [
      "\r",
      "Training:  47%|█████████████████████▋                        | 120/254 [00:37<00:38,  3.44it/s, loss=0.0183]"
     ]
    },
    {
     "name": "stderr",
     "output_type": "stream",
     "text": [
      "\r",
      "Training:  48%|█████████████████████▉                        | 121/254 [00:37<00:38,  3.44it/s, loss=0.0183]"
     ]
    },
    {
     "name": "stderr",
     "output_type": "stream",
     "text": [
      "\r",
      "Training:  48%|█████████████████████▉                        | 121/254 [00:38<00:38,  3.44it/s, loss=0.0881]"
     ]
    },
    {
     "name": "stderr",
     "output_type": "stream",
     "text": [
      "\r",
      "Training:  48%|██████████████████████                        | 122/254 [00:38<00:38,  3.44it/s, loss=0.0881]"
     ]
    },
    {
     "name": "stderr",
     "output_type": "stream",
     "text": [
      "\r",
      "Training:  48%|██████████████████████                        | 122/254 [00:38<00:38,  3.44it/s, loss=0.0110]"
     ]
    },
    {
     "name": "stderr",
     "output_type": "stream",
     "text": [
      "\r",
      "Training:  48%|██████████████████████▎                       | 123/254 [00:38<00:38,  3.44it/s, loss=0.0110]"
     ]
    },
    {
     "name": "stderr",
     "output_type": "stream",
     "text": [
      "\r",
      "Training:  48%|██████████████████████▎                       | 123/254 [00:38<00:38,  3.44it/s, loss=0.0364]"
     ]
    },
    {
     "name": "stderr",
     "output_type": "stream",
     "text": [
      "\r",
      "Training:  49%|██████████████████████▍                       | 124/254 [00:38<00:37,  3.44it/s, loss=0.0364]"
     ]
    },
    {
     "name": "stderr",
     "output_type": "stream",
     "text": [
      "\r",
      "Training:  49%|██████████████████████▍                       | 124/254 [00:39<00:37,  3.44it/s, loss=0.0126]"
     ]
    },
    {
     "name": "stderr",
     "output_type": "stream",
     "text": [
      "\r",
      "Training:  49%|██████████████████████▋                       | 125/254 [00:39<00:37,  3.44it/s, loss=0.0126]"
     ]
    },
    {
     "name": "stderr",
     "output_type": "stream",
     "text": [
      "\r",
      "Training:  49%|██████████████████████▋                       | 125/254 [00:39<00:37,  3.44it/s, loss=0.0136]"
     ]
    },
    {
     "name": "stderr",
     "output_type": "stream",
     "text": [
      "\r",
      "Training:  50%|██████████████████████▊                       | 126/254 [00:39<00:37,  3.43it/s, loss=0.0136]"
     ]
    },
    {
     "name": "stderr",
     "output_type": "stream",
     "text": [
      "\r",
      "Training:  50%|██████████████████████▊                       | 126/254 [00:39<00:37,  3.43it/s, loss=0.0955]"
     ]
    },
    {
     "name": "stderr",
     "output_type": "stream",
     "text": [
      "\r",
      "Training:  50%|███████████████████████                       | 127/254 [00:39<00:36,  3.44it/s, loss=0.0955]"
     ]
    },
    {
     "name": "stderr",
     "output_type": "stream",
     "text": [
      "\r",
      "Training:  50%|███████████████████████                       | 127/254 [00:39<00:36,  3.44it/s, loss=0.0067]"
     ]
    },
    {
     "name": "stderr",
     "output_type": "stream",
     "text": [
      "\r",
      "Training:  50%|███████████████████████▏                      | 128/254 [00:39<00:36,  3.44it/s, loss=0.0067]"
     ]
    },
    {
     "name": "stderr",
     "output_type": "stream",
     "text": [
      "\r",
      "Training:  50%|███████████████████████▏                      | 128/254 [00:40<00:36,  3.44it/s, loss=0.1232]"
     ]
    },
    {
     "name": "stderr",
     "output_type": "stream",
     "text": [
      "\r",
      "Training:  51%|███████████████████████▎                      | 129/254 [00:40<00:36,  3.44it/s, loss=0.1232]"
     ]
    },
    {
     "name": "stderr",
     "output_type": "stream",
     "text": [
      "\r",
      "Training:  51%|███████████████████████▎                      | 129/254 [00:40<00:36,  3.44it/s, loss=0.0512]"
     ]
    },
    {
     "name": "stderr",
     "output_type": "stream",
     "text": [
      "\r",
      "Training:  51%|███████████████████████▌                      | 130/254 [00:40<00:36,  3.44it/s, loss=0.0512]"
     ]
    },
    {
     "name": "stderr",
     "output_type": "stream",
     "text": [
      "\r",
      "Training:  51%|███████████████████████▌                      | 130/254 [00:40<00:36,  3.44it/s, loss=0.0328]"
     ]
    },
    {
     "name": "stderr",
     "output_type": "stream",
     "text": [
      "\r",
      "Training:  52%|███████████████████████▋                      | 131/254 [00:40<00:35,  3.44it/s, loss=0.0328]"
     ]
    },
    {
     "name": "stderr",
     "output_type": "stream",
     "text": [
      "\r",
      "Training:  52%|███████████████████████▋                      | 131/254 [00:41<00:35,  3.44it/s, loss=0.0306]"
     ]
    },
    {
     "name": "stderr",
     "output_type": "stream",
     "text": [
      "\r",
      "Training:  52%|███████████████████████▉                      | 132/254 [00:41<00:35,  3.43it/s, loss=0.0306]"
     ]
    },
    {
     "name": "stderr",
     "output_type": "stream",
     "text": [
      "\r",
      "Training:  52%|███████████████████████▉                      | 132/254 [00:41<00:35,  3.43it/s, loss=0.0914]"
     ]
    },
    {
     "name": "stderr",
     "output_type": "stream",
     "text": [
      "\r",
      "Training:  52%|████████████████████████                      | 133/254 [00:41<00:35,  3.43it/s, loss=0.0914]"
     ]
    },
    {
     "name": "stderr",
     "output_type": "stream",
     "text": [
      "\r",
      "Training:  52%|████████████████████████                      | 133/254 [00:41<00:35,  3.43it/s, loss=0.0772]"
     ]
    },
    {
     "name": "stderr",
     "output_type": "stream",
     "text": [
      "\r",
      "Training:  53%|████████████████████████▎                     | 134/254 [00:41<00:34,  3.43it/s, loss=0.0772]"
     ]
    },
    {
     "name": "stderr",
     "output_type": "stream",
     "text": [
      "\r",
      "Training:  53%|████████████████████████▎                     | 134/254 [00:41<00:34,  3.43it/s, loss=0.0184]"
     ]
    },
    {
     "name": "stderr",
     "output_type": "stream",
     "text": [
      "\r",
      "Training:  53%|████████████████████████▍                     | 135/254 [00:41<00:34,  3.43it/s, loss=0.0184]"
     ]
    },
    {
     "name": "stderr",
     "output_type": "stream",
     "text": [
      "\r",
      "Training:  53%|████████████████████████▍                     | 135/254 [00:42<00:34,  3.43it/s, loss=0.1155]"
     ]
    },
    {
     "name": "stderr",
     "output_type": "stream",
     "text": [
      "\r",
      "Training:  54%|████████████████████████▋                     | 136/254 [00:42<00:34,  3.43it/s, loss=0.1155]"
     ]
    },
    {
     "name": "stderr",
     "output_type": "stream",
     "text": [
      "\r",
      "Training:  54%|████████████████████████▋                     | 136/254 [00:42<00:34,  3.43it/s, loss=0.0357]"
     ]
    },
    {
     "name": "stderr",
     "output_type": "stream",
     "text": [
      "\r",
      "Training:  54%|████████████████████████▊                     | 137/254 [00:42<00:34,  3.43it/s, loss=0.0357]"
     ]
    },
    {
     "name": "stderr",
     "output_type": "stream",
     "text": [
      "\r",
      "Training:  54%|████████████████████████▊                     | 137/254 [00:42<00:34,  3.43it/s, loss=0.0808]"
     ]
    },
    {
     "name": "stderr",
     "output_type": "stream",
     "text": [
      "\r",
      "Training:  54%|████████████████████████▉                     | 138/254 [00:42<00:33,  3.44it/s, loss=0.0808]"
     ]
    },
    {
     "name": "stderr",
     "output_type": "stream",
     "text": [
      "\r",
      "Training:  54%|████████████████████████▉                     | 138/254 [00:43<00:33,  3.44it/s, loss=0.0311]"
     ]
    },
    {
     "name": "stderr",
     "output_type": "stream",
     "text": [
      "\r",
      "Training:  55%|█████████████████████████▏                    | 139/254 [00:43<00:33,  3.44it/s, loss=0.0311]"
     ]
    },
    {
     "name": "stderr",
     "output_type": "stream",
     "text": [
      "\r",
      "Training:  55%|█████████████████████████▏                    | 139/254 [00:43<00:33,  3.44it/s, loss=0.0616]"
     ]
    },
    {
     "name": "stderr",
     "output_type": "stream",
     "text": [
      "\r",
      "Training:  55%|█████████████████████████▎                    | 140/254 [00:43<00:33,  3.43it/s, loss=0.0616]"
     ]
    },
    {
     "name": "stderr",
     "output_type": "stream",
     "text": [
      "\r",
      "Training:  55%|█████████████████████████▎                    | 140/254 [00:43<00:33,  3.43it/s, loss=0.0192]"
     ]
    },
    {
     "name": "stderr",
     "output_type": "stream",
     "text": [
      "\r",
      "Training:  56%|█████████████████████████▌                    | 141/254 [00:43<00:32,  3.43it/s, loss=0.0192]"
     ]
    },
    {
     "name": "stderr",
     "output_type": "stream",
     "text": [
      "\r",
      "Training:  56%|█████████████████████████▌                    | 141/254 [00:44<00:32,  3.43it/s, loss=0.0123]"
     ]
    },
    {
     "name": "stderr",
     "output_type": "stream",
     "text": [
      "\r",
      "Training:  56%|█████████████████████████▋                    | 142/254 [00:44<00:32,  3.43it/s, loss=0.0123]"
     ]
    },
    {
     "name": "stderr",
     "output_type": "stream",
     "text": [
      "\r",
      "Training:  56%|█████████████████████████▋                    | 142/254 [00:44<00:32,  3.43it/s, loss=0.0790]"
     ]
    },
    {
     "name": "stderr",
     "output_type": "stream",
     "text": [
      "\r",
      "Training:  56%|█████████████████████████▉                    | 143/254 [00:44<00:32,  3.44it/s, loss=0.0790]"
     ]
    },
    {
     "name": "stderr",
     "output_type": "stream",
     "text": [
      "\r",
      "Training:  56%|█████████████████████████▉                    | 143/254 [00:44<00:32,  3.44it/s, loss=0.0111]"
     ]
    },
    {
     "name": "stderr",
     "output_type": "stream",
     "text": [
      "\r",
      "Training:  57%|██████████████████████████                    | 144/254 [00:44<00:32,  3.44it/s, loss=0.0111]"
     ]
    },
    {
     "name": "stderr",
     "output_type": "stream",
     "text": [
      "\r",
      "Training:  57%|██████████████████████████                    | 144/254 [00:44<00:32,  3.44it/s, loss=0.1071]"
     ]
    },
    {
     "name": "stderr",
     "output_type": "stream",
     "text": [
      "\r",
      "Training:  57%|██████████████████████████▎                   | 145/254 [00:44<00:31,  3.43it/s, loss=0.1071]"
     ]
    },
    {
     "name": "stderr",
     "output_type": "stream",
     "text": [
      "\r",
      "Training:  57%|██████████████████████████▎                   | 145/254 [00:45<00:31,  3.43it/s, loss=0.0120]"
     ]
    },
    {
     "name": "stderr",
     "output_type": "stream",
     "text": [
      "\r",
      "Training:  57%|██████████████████████████▍                   | 146/254 [00:45<00:31,  3.43it/s, loss=0.0120]"
     ]
    },
    {
     "name": "stderr",
     "output_type": "stream",
     "text": [
      "\r",
      "Training:  57%|██████████████████████████▍                   | 146/254 [00:45<00:31,  3.43it/s, loss=0.0120]"
     ]
    },
    {
     "name": "stderr",
     "output_type": "stream",
     "text": [
      "\r",
      "Training:  58%|██████████████████████████▌                   | 147/254 [00:45<00:31,  3.44it/s, loss=0.0120]"
     ]
    },
    {
     "name": "stderr",
     "output_type": "stream",
     "text": [
      "\r",
      "Training:  58%|██████████████████████████▌                   | 147/254 [00:45<00:31,  3.44it/s, loss=0.1108]"
     ]
    },
    {
     "name": "stderr",
     "output_type": "stream",
     "text": [
      "\r",
      "Training:  58%|██████████████████████████▊                   | 148/254 [00:45<00:30,  3.44it/s, loss=0.1108]"
     ]
    },
    {
     "name": "stderr",
     "output_type": "stream",
     "text": [
      "\r",
      "Training:  58%|██████████████████████████▊                   | 148/254 [00:46<00:30,  3.44it/s, loss=0.1366]"
     ]
    },
    {
     "name": "stderr",
     "output_type": "stream",
     "text": [
      "\r",
      "Training:  59%|██████████████████████████▉                   | 149/254 [00:46<00:30,  3.44it/s, loss=0.1366]"
     ]
    },
    {
     "name": "stderr",
     "output_type": "stream",
     "text": [
      "\r",
      "Training:  59%|██████████████████████████▉                   | 149/254 [00:46<00:30,  3.44it/s, loss=0.0878]"
     ]
    },
    {
     "name": "stderr",
     "output_type": "stream",
     "text": [
      "\r",
      "Training:  59%|███████████████████████████▏                  | 150/254 [00:46<00:30,  3.43it/s, loss=0.0878]"
     ]
    },
    {
     "name": "stderr",
     "output_type": "stream",
     "text": [
      "\r",
      "Training:  59%|███████████████████████████▏                  | 150/254 [00:46<00:30,  3.43it/s, loss=0.0282]"
     ]
    },
    {
     "name": "stderr",
     "output_type": "stream",
     "text": [
      "\r",
      "Training:  59%|███████████████████████████▎                  | 151/254 [00:46<00:30,  3.43it/s, loss=0.0282]"
     ]
    },
    {
     "name": "stderr",
     "output_type": "stream",
     "text": [
      "\r",
      "Training:  59%|███████████████████████████▎                  | 151/254 [00:46<00:30,  3.43it/s, loss=0.0798]"
     ]
    },
    {
     "name": "stderr",
     "output_type": "stream",
     "text": [
      "\r",
      "Training:  60%|███████████████████████████▌                  | 152/254 [00:46<00:29,  3.43it/s, loss=0.0798]"
     ]
    },
    {
     "name": "stderr",
     "output_type": "stream",
     "text": [
      "\r",
      "Training:  60%|███████████████████████████▌                  | 152/254 [00:47<00:29,  3.43it/s, loss=0.0090]"
     ]
    },
    {
     "name": "stderr",
     "output_type": "stream",
     "text": [
      "\r",
      "Training:  60%|███████████████████████████▋                  | 153/254 [00:47<00:29,  3.43it/s, loss=0.0090]"
     ]
    },
    {
     "name": "stderr",
     "output_type": "stream",
     "text": [
      "\r",
      "Training:  60%|███████████████████████████▋                  | 153/254 [00:47<00:29,  3.43it/s, loss=0.0144]"
     ]
    },
    {
     "name": "stderr",
     "output_type": "stream",
     "text": [
      "\r",
      "Training:  61%|███████████████████████████▉                  | 154/254 [00:47<00:29,  3.43it/s, loss=0.0144]"
     ]
    },
    {
     "name": "stderr",
     "output_type": "stream",
     "text": [
      "\r",
      "Training:  61%|███████████████████████████▉                  | 154/254 [00:47<00:29,  3.43it/s, loss=0.0740]"
     ]
    },
    {
     "name": "stderr",
     "output_type": "stream",
     "text": [
      "\r",
      "Training:  61%|████████████████████████████                  | 155/254 [00:47<00:28,  3.43it/s, loss=0.0740]"
     ]
    },
    {
     "name": "stderr",
     "output_type": "stream",
     "text": [
      "\r",
      "Training:  61%|████████████████████████████                  | 155/254 [00:48<00:28,  3.43it/s, loss=0.0339]"
     ]
    },
    {
     "name": "stderr",
     "output_type": "stream",
     "text": [
      "\r",
      "Training:  61%|████████████████████████████▎                 | 156/254 [00:48<00:28,  3.43it/s, loss=0.0339]"
     ]
    },
    {
     "name": "stderr",
     "output_type": "stream",
     "text": [
      "\r",
      "Training:  61%|████████████████████████████▎                 | 156/254 [00:48<00:28,  3.43it/s, loss=0.0113]"
     ]
    },
    {
     "name": "stderr",
     "output_type": "stream",
     "text": [
      "\r",
      "Training:  62%|████████████████████████████▍                 | 157/254 [00:48<00:28,  3.43it/s, loss=0.0113]"
     ]
    },
    {
     "name": "stderr",
     "output_type": "stream",
     "text": [
      "\r",
      "Training:  62%|████████████████████████████▍                 | 157/254 [00:48<00:28,  3.43it/s, loss=0.0256]"
     ]
    },
    {
     "name": "stderr",
     "output_type": "stream",
     "text": [
      "\r",
      "Training:  62%|████████████████████████████▌                 | 158/254 [00:48<00:27,  3.44it/s, loss=0.0256]"
     ]
    },
    {
     "name": "stderr",
     "output_type": "stream",
     "text": [
      "\r",
      "Training:  62%|████████████████████████████▌                 | 158/254 [00:48<00:27,  3.44it/s, loss=0.0482]"
     ]
    },
    {
     "name": "stderr",
     "output_type": "stream",
     "text": [
      "\r",
      "Training:  63%|████████████████████████████▊                 | 159/254 [00:48<00:27,  3.44it/s, loss=0.0482]"
     ]
    },
    {
     "name": "stderr",
     "output_type": "stream",
     "text": [
      "\r",
      "Training:  63%|████████████████████████████▊                 | 159/254 [00:49<00:27,  3.44it/s, loss=0.0133]"
     ]
    },
    {
     "name": "stderr",
     "output_type": "stream",
     "text": [
      "\r",
      "Training:  63%|████████████████████████████▉                 | 160/254 [00:49<00:27,  3.44it/s, loss=0.0133]"
     ]
    },
    {
     "name": "stderr",
     "output_type": "stream",
     "text": [
      "\r",
      "Training:  63%|████████████████████████████▉                 | 160/254 [00:49<00:27,  3.44it/s, loss=0.0649]"
     ]
    },
    {
     "name": "stderr",
     "output_type": "stream",
     "text": [
      "\r",
      "Training:  63%|█████████████████████████████▏                | 161/254 [00:49<00:27,  3.43it/s, loss=0.0649]"
     ]
    },
    {
     "name": "stderr",
     "output_type": "stream",
     "text": [
      "\r",
      "Training:  63%|█████████████████████████████▏                | 161/254 [00:49<00:27,  3.43it/s, loss=0.0861]"
     ]
    },
    {
     "name": "stderr",
     "output_type": "stream",
     "text": [
      "\r",
      "Training:  64%|█████████████████████████████▎                | 162/254 [00:49<00:26,  3.43it/s, loss=0.0861]"
     ]
    },
    {
     "name": "stderr",
     "output_type": "stream",
     "text": [
      "\r",
      "Training:  64%|█████████████████████████████▎                | 162/254 [00:50<00:26,  3.43it/s, loss=0.0145]"
     ]
    },
    {
     "name": "stderr",
     "output_type": "stream",
     "text": [
      "\r",
      "Training:  64%|█████████████████████████████▌                | 163/254 [00:50<00:26,  3.43it/s, loss=0.0145]"
     ]
    },
    {
     "name": "stderr",
     "output_type": "stream",
     "text": [
      "\r",
      "Training:  64%|█████████████████████████████▌                | 163/254 [00:50<00:26,  3.43it/s, loss=0.0731]"
     ]
    },
    {
     "name": "stderr",
     "output_type": "stream",
     "text": [
      "\r",
      "Training:  65%|█████████████████████████████▋                | 164/254 [00:50<00:26,  3.43it/s, loss=0.0731]"
     ]
    },
    {
     "name": "stderr",
     "output_type": "stream",
     "text": [
      "\r",
      "Training:  65%|█████████████████████████████▋                | 164/254 [00:50<00:26,  3.43it/s, loss=0.0686]"
     ]
    },
    {
     "name": "stderr",
     "output_type": "stream",
     "text": [
      "\r",
      "Training:  65%|█████████████████████████████▉                | 165/254 [00:50<00:25,  3.43it/s, loss=0.0686]"
     ]
    },
    {
     "name": "stderr",
     "output_type": "stream",
     "text": [
      "\r",
      "Training:  65%|█████████████████████████████▉                | 165/254 [00:51<00:25,  3.43it/s, loss=0.0161]"
     ]
    },
    {
     "name": "stderr",
     "output_type": "stream",
     "text": [
      "\r",
      "Training:  65%|██████████████████████████████                | 166/254 [00:51<00:25,  3.44it/s, loss=0.0161]"
     ]
    },
    {
     "name": "stderr",
     "output_type": "stream",
     "text": [
      "\r",
      "Training:  65%|██████████████████████████████                | 166/254 [00:51<00:25,  3.44it/s, loss=0.0260]"
     ]
    },
    {
     "name": "stderr",
     "output_type": "stream",
     "text": [
      "\r",
      "Training:  66%|██████████████████████████████▏               | 167/254 [00:51<00:25,  3.43it/s, loss=0.0260]"
     ]
    },
    {
     "name": "stderr",
     "output_type": "stream",
     "text": [
      "\r",
      "Training:  66%|██████████████████████████████▏               | 167/254 [00:51<00:25,  3.43it/s, loss=0.0570]"
     ]
    },
    {
     "name": "stderr",
     "output_type": "stream",
     "text": [
      "\r",
      "Training:  66%|██████████████████████████████▍               | 168/254 [00:51<00:25,  3.43it/s, loss=0.0570]"
     ]
    },
    {
     "name": "stderr",
     "output_type": "stream",
     "text": [
      "\r",
      "Training:  66%|██████████████████████████████▍               | 168/254 [00:51<00:25,  3.43it/s, loss=0.1016]"
     ]
    },
    {
     "name": "stderr",
     "output_type": "stream",
     "text": [
      "\r",
      "Training:  67%|██████████████████████████████▌               | 169/254 [00:51<00:24,  3.43it/s, loss=0.1016]"
     ]
    },
    {
     "name": "stderr",
     "output_type": "stream",
     "text": [
      "\r",
      "Training:  67%|██████████████████████████████▌               | 169/254 [00:52<00:24,  3.43it/s, loss=0.0739]"
     ]
    },
    {
     "name": "stderr",
     "output_type": "stream",
     "text": [
      "\r",
      "Training:  67%|██████████████████████████████▊               | 170/254 [00:52<00:24,  3.43it/s, loss=0.0739]"
     ]
    },
    {
     "name": "stderr",
     "output_type": "stream",
     "text": [
      "\r",
      "Training:  67%|██████████████████████████████▊               | 170/254 [00:52<00:24,  3.43it/s, loss=0.0667]"
     ]
    },
    {
     "name": "stderr",
     "output_type": "stream",
     "text": [
      "\r",
      "Training:  67%|██████████████████████████████▉               | 171/254 [00:52<00:24,  3.43it/s, loss=0.0667]"
     ]
    },
    {
     "name": "stderr",
     "output_type": "stream",
     "text": [
      "\r",
      "Training:  67%|██████████████████████████████▉               | 171/254 [00:52<00:24,  3.43it/s, loss=0.0943]"
     ]
    },
    {
     "name": "stderr",
     "output_type": "stream",
     "text": [
      "\r",
      "Training:  68%|███████████████████████████████▏              | 172/254 [00:52<00:23,  3.43it/s, loss=0.0943]"
     ]
    },
    {
     "name": "stderr",
     "output_type": "stream",
     "text": [
      "\r",
      "Training:  68%|███████████████████████████████▏              | 172/254 [00:53<00:23,  3.43it/s, loss=0.0228]"
     ]
    },
    {
     "name": "stderr",
     "output_type": "stream",
     "text": [
      "\r",
      "Training:  68%|███████████████████████████████▎              | 173/254 [00:53<00:23,  3.43it/s, loss=0.0228]"
     ]
    },
    {
     "name": "stderr",
     "output_type": "stream",
     "text": [
      "\r",
      "Training:  68%|███████████████████████████████▎              | 173/254 [00:53<00:23,  3.43it/s, loss=0.0960]"
     ]
    },
    {
     "name": "stderr",
     "output_type": "stream",
     "text": [
      "\r",
      "Training:  69%|███████████████████████████████▌              | 174/254 [00:53<00:23,  3.43it/s, loss=0.0960]"
     ]
    },
    {
     "name": "stderr",
     "output_type": "stream",
     "text": [
      "\r",
      "Training:  69%|███████████████████████████████▌              | 174/254 [00:53<00:23,  3.43it/s, loss=0.0682]"
     ]
    },
    {
     "name": "stderr",
     "output_type": "stream",
     "text": [
      "\r",
      "Training:  69%|███████████████████████████████▋              | 175/254 [00:53<00:22,  3.44it/s, loss=0.0682]"
     ]
    },
    {
     "name": "stderr",
     "output_type": "stream",
     "text": [
      "\r",
      "Training:  69%|███████████████████████████████▋              | 175/254 [00:53<00:22,  3.44it/s, loss=0.0373]"
     ]
    },
    {
     "name": "stderr",
     "output_type": "stream",
     "text": [
      "\r",
      "Training:  69%|███████████████████████████████▊              | 176/254 [00:53<00:22,  3.44it/s, loss=0.0373]"
     ]
    },
    {
     "name": "stderr",
     "output_type": "stream",
     "text": [
      "\r",
      "Training:  69%|███████████████████████████████▊              | 176/254 [00:54<00:22,  3.44it/s, loss=0.0431]"
     ]
    },
    {
     "name": "stderr",
     "output_type": "stream",
     "text": [
      "\r",
      "Training:  70%|████████████████████████████████              | 177/254 [00:54<00:22,  3.44it/s, loss=0.0431]"
     ]
    },
    {
     "name": "stderr",
     "output_type": "stream",
     "text": [
      "\r",
      "Training:  70%|████████████████████████████████              | 177/254 [00:54<00:22,  3.44it/s, loss=0.0383]"
     ]
    },
    {
     "name": "stderr",
     "output_type": "stream",
     "text": [
      "\r",
      "Training:  70%|████████████████████████████████▏             | 178/254 [00:54<00:22,  3.44it/s, loss=0.0383]"
     ]
    },
    {
     "name": "stderr",
     "output_type": "stream",
     "text": [
      "\r",
      "Training:  70%|████████████████████████████████▏             | 178/254 [00:54<00:22,  3.44it/s, loss=0.0102]"
     ]
    },
    {
     "name": "stderr",
     "output_type": "stream",
     "text": [
      "\r",
      "Training:  70%|████████████████████████████████▍             | 179/254 [00:54<00:21,  3.44it/s, loss=0.0102]"
     ]
    },
    {
     "name": "stderr",
     "output_type": "stream",
     "text": [
      "\r",
      "Training:  70%|████████████████████████████████▍             | 179/254 [00:55<00:21,  3.44it/s, loss=0.0613]"
     ]
    },
    {
     "name": "stderr",
     "output_type": "stream",
     "text": [
      "\r",
      "Training:  71%|████████████████████████████████▌             | 180/254 [00:55<00:21,  3.44it/s, loss=0.0613]"
     ]
    },
    {
     "name": "stderr",
     "output_type": "stream",
     "text": [
      "\r",
      "Training:  71%|████████████████████████████████▌             | 180/254 [00:55<00:21,  3.44it/s, loss=0.0118]"
     ]
    },
    {
     "name": "stderr",
     "output_type": "stream",
     "text": [
      "\r",
      "Training:  71%|████████████████████████████████▊             | 181/254 [00:55<00:21,  3.44it/s, loss=0.0118]"
     ]
    },
    {
     "name": "stderr",
     "output_type": "stream",
     "text": [
      "\r",
      "Training:  71%|████████████████████████████████▊             | 181/254 [00:55<00:21,  3.44it/s, loss=0.0178]"
     ]
    },
    {
     "name": "stderr",
     "output_type": "stream",
     "text": [
      "\r",
      "Training:  72%|████████████████████████████████▉             | 182/254 [00:55<00:20,  3.44it/s, loss=0.0178]"
     ]
    },
    {
     "name": "stderr",
     "output_type": "stream",
     "text": [
      "\r",
      "Training:  72%|████████████████████████████████▉             | 182/254 [00:55<00:20,  3.44it/s, loss=0.0499]"
     ]
    },
    {
     "name": "stderr",
     "output_type": "stream",
     "text": [
      "\r",
      "Training:  72%|█████████████████████████████████▏            | 183/254 [00:55<00:20,  3.44it/s, loss=0.0499]"
     ]
    },
    {
     "name": "stderr",
     "output_type": "stream",
     "text": [
      "\r",
      "Training:  72%|█████████████████████████████████▏            | 183/254 [00:56<00:20,  3.44it/s, loss=0.0885]"
     ]
    },
    {
     "name": "stderr",
     "output_type": "stream",
     "text": [
      "\r",
      "Training:  72%|█████████████████████████████████▎            | 184/254 [00:56<00:20,  3.44it/s, loss=0.0885]"
     ]
    },
    {
     "name": "stderr",
     "output_type": "stream",
     "text": [
      "\r",
      "Training:  72%|█████████████████████████████████▎            | 184/254 [00:56<00:20,  3.44it/s, loss=0.0670]"
     ]
    },
    {
     "name": "stderr",
     "output_type": "stream",
     "text": [
      "\r",
      "Training:  73%|█████████████████████████████████▌            | 185/254 [00:56<00:20,  3.44it/s, loss=0.0670]"
     ]
    },
    {
     "name": "stderr",
     "output_type": "stream",
     "text": [
      "\r",
      "Training:  73%|█████████████████████████████████▌            | 185/254 [00:56<00:20,  3.44it/s, loss=0.0438]"
     ]
    },
    {
     "name": "stderr",
     "output_type": "stream",
     "text": [
      "\r",
      "Training:  73%|█████████████████████████████████▋            | 186/254 [00:56<00:19,  3.44it/s, loss=0.0438]"
     ]
    },
    {
     "name": "stderr",
     "output_type": "stream",
     "text": [
      "\r",
      "Training:  73%|█████████████████████████████████▋            | 186/254 [00:57<00:19,  3.44it/s, loss=0.0061]"
     ]
    },
    {
     "name": "stderr",
     "output_type": "stream",
     "text": [
      "\r",
      "Training:  74%|█████████████████████████████████▊            | 187/254 [00:57<00:19,  3.44it/s, loss=0.0061]"
     ]
    },
    {
     "name": "stderr",
     "output_type": "stream",
     "text": [
      "\r",
      "Training:  74%|█████████████████████████████████▊            | 187/254 [00:57<00:19,  3.44it/s, loss=0.0389]"
     ]
    },
    {
     "name": "stderr",
     "output_type": "stream",
     "text": [
      "\r",
      "Training:  74%|██████████████████████████████████            | 188/254 [00:57<00:19,  3.42it/s, loss=0.0389]"
     ]
    },
    {
     "name": "stderr",
     "output_type": "stream",
     "text": [
      "\r",
      "Training:  74%|██████████████████████████████████            | 188/254 [00:57<00:19,  3.42it/s, loss=0.0126]"
     ]
    },
    {
     "name": "stderr",
     "output_type": "stream",
     "text": [
      "\r",
      "Training:  74%|██████████████████████████████████▏           | 189/254 [00:57<00:19,  3.41it/s, loss=0.0126]"
     ]
    },
    {
     "name": "stderr",
     "output_type": "stream",
     "text": [
      "\r",
      "Training:  74%|██████████████████████████████████▏           | 189/254 [00:58<00:19,  3.41it/s, loss=0.0059]"
     ]
    },
    {
     "name": "stderr",
     "output_type": "stream",
     "text": [
      "\r",
      "Training:  75%|██████████████████████████████████▍           | 190/254 [00:58<00:18,  3.42it/s, loss=0.0059]"
     ]
    },
    {
     "name": "stderr",
     "output_type": "stream",
     "text": [
      "\r",
      "Training:  75%|██████████████████████████████████▍           | 190/254 [00:58<00:18,  3.42it/s, loss=0.0082]"
     ]
    },
    {
     "name": "stderr",
     "output_type": "stream",
     "text": [
      "\r",
      "Training:  75%|██████████████████████████████████▌           | 191/254 [00:58<00:18,  3.43it/s, loss=0.0082]"
     ]
    },
    {
     "name": "stderr",
     "output_type": "stream",
     "text": [
      "\r",
      "Training:  75%|██████████████████████████████████▌           | 191/254 [00:58<00:18,  3.43it/s, loss=0.0178]"
     ]
    },
    {
     "name": "stderr",
     "output_type": "stream",
     "text": [
      "\r",
      "Training:  76%|██████████████████████████████████▊           | 192/254 [00:58<00:18,  3.43it/s, loss=0.0178]"
     ]
    },
    {
     "name": "stderr",
     "output_type": "stream",
     "text": [
      "\r",
      "Training:  76%|██████████████████████████████████▊           | 192/254 [00:58<00:18,  3.43it/s, loss=0.0938]"
     ]
    },
    {
     "name": "stderr",
     "output_type": "stream",
     "text": [
      "\r",
      "Training:  76%|██████████████████████████████████▉           | 193/254 [00:58<00:17,  3.44it/s, loss=0.0938]"
     ]
    },
    {
     "name": "stderr",
     "output_type": "stream",
     "text": [
      "\r",
      "Training:  76%|██████████████████████████████████▉           | 193/254 [00:59<00:17,  3.44it/s, loss=0.0081]"
     ]
    },
    {
     "name": "stderr",
     "output_type": "stream",
     "text": [
      "\r",
      "Training:  76%|███████████████████████████████████▏          | 194/254 [00:59<00:17,  3.44it/s, loss=0.0081]"
     ]
    },
    {
     "name": "stderr",
     "output_type": "stream",
     "text": [
      "\r",
      "Training:  76%|███████████████████████████████████▏          | 194/254 [00:59<00:17,  3.44it/s, loss=0.0730]"
     ]
    },
    {
     "name": "stderr",
     "output_type": "stream",
     "text": [
      "\r",
      "Training:  77%|███████████████████████████████████▎          | 195/254 [00:59<00:17,  3.44it/s, loss=0.0730]"
     ]
    },
    {
     "name": "stderr",
     "output_type": "stream",
     "text": [
      "\r",
      "Training:  77%|███████████████████████████████████▎          | 195/254 [00:59<00:17,  3.44it/s, loss=0.0111]"
     ]
    },
    {
     "name": "stderr",
     "output_type": "stream",
     "text": [
      "\r",
      "Training:  77%|███████████████████████████████████▍          | 196/254 [00:59<00:16,  3.44it/s, loss=0.0111]"
     ]
    },
    {
     "name": "stderr",
     "output_type": "stream",
     "text": [
      "\r",
      "Training:  77%|███████████████████████████████████▍          | 196/254 [01:00<00:16,  3.44it/s, loss=0.0965]"
     ]
    },
    {
     "name": "stderr",
     "output_type": "stream",
     "text": [
      "\r",
      "Training:  78%|███████████████████████████████████▋          | 197/254 [01:00<00:16,  3.43it/s, loss=0.0965]"
     ]
    },
    {
     "name": "stderr",
     "output_type": "stream",
     "text": [
      "\r",
      "Training:  78%|███████████████████████████████████▋          | 197/254 [00:59<00:16,  3.43it/s, loss=0.1571]"
     ]
    },
    {
     "name": "stderr",
     "output_type": "stream",
     "text": [
      "\r",
      "Training:  78%|███████████████████████████████████▋          | 197/254 [00:59<00:16,  3.43it/s, loss=0.0064]"
     ]
    },
    {
     "name": "stderr",
     "output_type": "stream",
     "text": [
      "\r",
      "Training:  78%|███████████████████████████████████▋          | 197/254 [00:59<00:16,  3.43it/s, loss=0.0215]"
     ]
    },
    {
     "name": "stderr",
     "output_type": "stream",
     "text": [
      "\r",
      "Training:  78%|███████████████████████████████████▋          | 197/254 [01:00<00:16,  3.43it/s, loss=0.0466]"
     ]
    },
    {
     "name": "stderr",
     "output_type": "stream",
     "text": [
      "\r",
      "Training:  79%|████████████████████████████████████▍         | 201/254 [01:00<00:07,  7.37it/s, loss=0.0466]"
     ]
    },
    {
     "name": "stderr",
     "output_type": "stream",
     "text": [
      "\r",
      "Training:  79%|████████████████████████████████████▍         | 201/254 [01:00<00:07,  7.37it/s, loss=0.0094]"
     ]
    },
    {
     "name": "stderr",
     "output_type": "stream",
     "text": [
      "\r",
      "Training:  80%|████████████████████████████████████▌         | 202/254 [01:00<00:08,  6.08it/s, loss=0.0094]"
     ]
    },
    {
     "name": "stderr",
     "output_type": "stream",
     "text": [
      "\r",
      "Training:  80%|████████████████████████████████████▌         | 202/254 [01:00<00:08,  6.08it/s, loss=0.0056]"
     ]
    },
    {
     "name": "stderr",
     "output_type": "stream",
     "text": [
      "\r",
      "Training:  80%|████████████████████████████████████▊         | 203/254 [01:00<00:09,  5.24it/s, loss=0.0056]"
     ]
    },
    {
     "name": "stderr",
     "output_type": "stream",
     "text": [
      "\r",
      "Training:  80%|████████████████████████████████████▊         | 203/254 [01:01<00:09,  5.24it/s, loss=0.0635]"
     ]
    },
    {
     "name": "stderr",
     "output_type": "stream",
     "text": [
      "\r",
      "Training:  80%|████████████████████████████████████▉         | 204/254 [01:01<00:10,  4.68it/s, loss=0.0635]"
     ]
    },
    {
     "name": "stderr",
     "output_type": "stream",
     "text": [
      "\r",
      "Training:  80%|████████████████████████████████████▉         | 204/254 [01:01<00:10,  4.68it/s, loss=0.0056]"
     ]
    },
    {
     "name": "stderr",
     "output_type": "stream",
     "text": [
      "\r",
      "Training:  81%|█████████████████████████████████████▏        | 205/254 [01:01<00:11,  4.31it/s, loss=0.0056]"
     ]
    },
    {
     "name": "stderr",
     "output_type": "stream",
     "text": [
      "\r",
      "Training:  81%|█████████████████████████████████████▏        | 205/254 [01:01<00:11,  4.31it/s, loss=0.0072]"
     ]
    },
    {
     "name": "stderr",
     "output_type": "stream",
     "text": [
      "\r",
      "Training:  81%|█████████████████████████████████████▎        | 206/254 [01:01<00:11,  4.05it/s, loss=0.0072]"
     ]
    },
    {
     "name": "stderr",
     "output_type": "stream",
     "text": [
      "\r",
      "Training:  81%|█████████████████████████████████████▎        | 206/254 [01:01<00:11,  4.05it/s, loss=0.0180]"
     ]
    },
    {
     "name": "stderr",
     "output_type": "stream",
     "text": [
      "\r",
      "Training:  81%|█████████████████████████████████████▍        | 207/254 [01:01<00:12,  3.86it/s, loss=0.0180]"
     ]
    },
    {
     "name": "stderr",
     "output_type": "stream",
     "text": [
      "\r",
      "Training:  81%|█████████████████████████████████████▍        | 207/254 [01:02<00:12,  3.86it/s, loss=0.0396]"
     ]
    },
    {
     "name": "stderr",
     "output_type": "stream",
     "text": [
      "\r",
      "Training:  82%|█████████████████████████████████████▋        | 208/254 [01:02<00:12,  3.74it/s, loss=0.0396]"
     ]
    },
    {
     "name": "stderr",
     "output_type": "stream",
     "text": [
      "\r",
      "Training:  82%|█████████████████████████████████████▋        | 208/254 [01:02<00:12,  3.74it/s, loss=0.0200]"
     ]
    },
    {
     "name": "stderr",
     "output_type": "stream",
     "text": [
      "\r",
      "Training:  82%|█████████████████████████████████████▊        | 209/254 [01:02<00:12,  3.65it/s, loss=0.0200]"
     ]
    },
    {
     "name": "stderr",
     "output_type": "stream",
     "text": [
      "\r",
      "Training:  82%|█████████████████████████████████████▊        | 209/254 [01:02<00:12,  3.65it/s, loss=0.0045]"
     ]
    },
    {
     "name": "stderr",
     "output_type": "stream",
     "text": [
      "\r",
      "Training:  83%|██████████████████████████████████████        | 210/254 [01:02<00:12,  3.58it/s, loss=0.0045]"
     ]
    },
    {
     "name": "stderr",
     "output_type": "stream",
     "text": [
      "\r",
      "Training:  83%|██████████████████████████████████████        | 210/254 [01:03<00:12,  3.58it/s, loss=0.0039]"
     ]
    },
    {
     "name": "stderr",
     "output_type": "stream",
     "text": [
      "\r",
      "Training:  83%|██████████████████████████████████████▏       | 211/254 [01:03<00:12,  3.54it/s, loss=0.0039]"
     ]
    },
    {
     "name": "stderr",
     "output_type": "stream",
     "text": [
      "\r",
      "Training:  83%|██████████████████████████████████████▏       | 211/254 [01:03<00:12,  3.54it/s, loss=0.0238]"
     ]
    },
    {
     "name": "stderr",
     "output_type": "stream",
     "text": [
      "\r",
      "Training:  83%|██████████████████████████████████████▍       | 212/254 [01:03<00:11,  3.51it/s, loss=0.0238]"
     ]
    },
    {
     "name": "stderr",
     "output_type": "stream",
     "text": [
      "\r",
      "Training:  83%|██████████████████████████████████████▍       | 212/254 [01:03<00:11,  3.51it/s, loss=0.0055]"
     ]
    },
    {
     "name": "stderr",
     "output_type": "stream",
     "text": [
      "\r",
      "Training:  84%|██████████████████████████████████████▌       | 213/254 [01:03<00:11,  3.50it/s, loss=0.0055]"
     ]
    },
    {
     "name": "stderr",
     "output_type": "stream",
     "text": [
      "\r",
      "Training:  84%|██████████████████████████████████████▌       | 213/254 [01:03<00:11,  3.50it/s, loss=0.0162]"
     ]
    },
    {
     "name": "stderr",
     "output_type": "stream",
     "text": [
      "\r",
      "Training:  84%|██████████████████████████████████████▊       | 214/254 [01:03<00:11,  3.48it/s, loss=0.0162]"
     ]
    },
    {
     "name": "stderr",
     "output_type": "stream",
     "text": [
      "\r",
      "Training:  84%|██████████████████████████████████████▊       | 214/254 [01:04<00:11,  3.48it/s, loss=0.0069]"
     ]
    },
    {
     "name": "stderr",
     "output_type": "stream",
     "text": [
      "\r",
      "Training:  85%|██████████████████████████████████████▉       | 215/254 [01:04<00:11,  3.47it/s, loss=0.0069]"
     ]
    },
    {
     "name": "stderr",
     "output_type": "stream",
     "text": [
      "\r",
      "Training:  85%|██████████████████████████████████████▉       | 215/254 [01:04<00:11,  3.47it/s, loss=0.0031]"
     ]
    },
    {
     "name": "stderr",
     "output_type": "stream",
     "text": [
      "\r",
      "Training:  85%|███████████████████████████████████████       | 216/254 [01:04<00:10,  3.47it/s, loss=0.0031]"
     ]
    },
    {
     "name": "stderr",
     "output_type": "stream",
     "text": [
      "\r",
      "Training:  85%|███████████████████████████████████████       | 216/254 [01:04<00:10,  3.47it/s, loss=0.0030]"
     ]
    },
    {
     "name": "stderr",
     "output_type": "stream",
     "text": [
      "\r",
      "Training:  85%|███████████████████████████████████████▎      | 217/254 [01:04<00:10,  3.46it/s, loss=0.0030]"
     ]
    },
    {
     "name": "stderr",
     "output_type": "stream",
     "text": [
      "\r",
      "Training:  85%|███████████████████████████████████████▎      | 217/254 [01:05<00:10,  3.46it/s, loss=0.1140]"
     ]
    },
    {
     "name": "stderr",
     "output_type": "stream",
     "text": [
      "\r",
      "Training:  86%|███████████████████████████████████████▍      | 218/254 [01:05<00:10,  3.45it/s, loss=0.1140]"
     ]
    },
    {
     "name": "stderr",
     "output_type": "stream",
     "text": [
      "\r",
      "Training:  86%|███████████████████████████████████████▍      | 218/254 [01:05<00:10,  3.45it/s, loss=0.0258]"
     ]
    },
    {
     "name": "stderr",
     "output_type": "stream",
     "text": [
      "\r",
      "Training:  86%|███████████████████████████████████████▋      | 219/254 [01:05<00:10,  3.46it/s, loss=0.0258]"
     ]
    },
    {
     "name": "stderr",
     "output_type": "stream",
     "text": [
      "\r",
      "Training:  86%|███████████████████████████████████████▋      | 219/254 [01:05<00:10,  3.46it/s, loss=0.0105]"
     ]
    },
    {
     "name": "stderr",
     "output_type": "stream",
     "text": [
      "\r",
      "Training:  87%|███████████████████████████████████████▊      | 220/254 [01:05<00:09,  3.45it/s, loss=0.0105]"
     ]
    },
    {
     "name": "stderr",
     "output_type": "stream",
     "text": [
      "\r",
      "Training:  87%|███████████████████████████████████████▊      | 220/254 [01:06<00:09,  3.45it/s, loss=0.0074]"
     ]
    },
    {
     "name": "stderr",
     "output_type": "stream",
     "text": [
      "\r",
      "Training:  87%|████████████████████████████████████████      | 221/254 [01:06<00:09,  3.45it/s, loss=0.0074]"
     ]
    },
    {
     "name": "stderr",
     "output_type": "stream",
     "text": [
      "\r",
      "Training:  87%|████████████████████████████████████████      | 221/254 [01:06<00:09,  3.45it/s, loss=0.0723]"
     ]
    },
    {
     "name": "stderr",
     "output_type": "stream",
     "text": [
      "\r",
      "Training:  87%|████████████████████████████████████████▏     | 222/254 [01:06<00:09,  3.45it/s, loss=0.0723]"
     ]
    },
    {
     "name": "stderr",
     "output_type": "stream",
     "text": [
      "\r",
      "Training:  87%|████████████████████████████████████████▏     | 222/254 [01:06<00:09,  3.45it/s, loss=0.0040]"
     ]
    },
    {
     "name": "stderr",
     "output_type": "stream",
     "text": [
      "\r",
      "Training:  88%|████████████████████████████████████████▍     | 223/254 [01:06<00:08,  3.45it/s, loss=0.0040]"
     ]
    },
    {
     "name": "stderr",
     "output_type": "stream",
     "text": [
      "\r",
      "Training:  88%|████████████████████████████████████████▍     | 223/254 [01:06<00:08,  3.45it/s, loss=0.0039]"
     ]
    },
    {
     "name": "stderr",
     "output_type": "stream",
     "text": [
      "\r",
      "Training:  88%|████████████████████████████████████████▌     | 224/254 [01:06<00:08,  3.45it/s, loss=0.0039]"
     ]
    },
    {
     "name": "stderr",
     "output_type": "stream",
     "text": [
      "\r",
      "Training:  88%|████████████████████████████████████████▌     | 224/254 [01:07<00:08,  3.45it/s, loss=0.1092]"
     ]
    },
    {
     "name": "stderr",
     "output_type": "stream",
     "text": [
      "\r",
      "Training:  89%|████████████████████████████████████████▋     | 225/254 [01:07<00:08,  3.45it/s, loss=0.1092]"
     ]
    },
    {
     "name": "stderr",
     "output_type": "stream",
     "text": [
      "\r",
      "Training:  89%|████████████████████████████████████████▋     | 225/254 [01:07<00:08,  3.45it/s, loss=0.0137]"
     ]
    },
    {
     "name": "stderr",
     "output_type": "stream",
     "text": [
      "\r",
      "Training:  89%|████████████████████████████████████████▉     | 226/254 [01:07<00:08,  3.45it/s, loss=0.0137]"
     ]
    },
    {
     "name": "stderr",
     "output_type": "stream",
     "text": [
      "\r",
      "Training:  89%|████████████████████████████████████████▉     | 226/254 [01:07<00:08,  3.45it/s, loss=0.0065]"
     ]
    },
    {
     "name": "stderr",
     "output_type": "stream",
     "text": [
      "\r",
      "Training:  89%|█████████████████████████████████████████     | 227/254 [01:07<00:07,  3.45it/s, loss=0.0065]"
     ]
    },
    {
     "name": "stderr",
     "output_type": "stream",
     "text": [
      "\r",
      "Training:  89%|█████████████████████████████████████████     | 227/254 [01:08<00:07,  3.45it/s, loss=0.0355]"
     ]
    },
    {
     "name": "stderr",
     "output_type": "stream",
     "text": [
      "\r",
      "Training:  90%|█████████████████████████████████████████▎    | 228/254 [01:08<00:07,  3.45it/s, loss=0.0355]"
     ]
    },
    {
     "name": "stderr",
     "output_type": "stream",
     "text": [
      "\r",
      "Training:  90%|█████████████████████████████████████████▎    | 228/254 [01:08<00:07,  3.45it/s, loss=0.0058]"
     ]
    },
    {
     "name": "stderr",
     "output_type": "stream",
     "text": [
      "\r",
      "Training:  90%|█████████████████████████████████████████▍    | 229/254 [01:08<00:07,  3.45it/s, loss=0.0058]"
     ]
    },
    {
     "name": "stderr",
     "output_type": "stream",
     "text": [
      "\r",
      "Training:  90%|█████████████████████████████████████████▍    | 229/254 [01:08<00:07,  3.45it/s, loss=0.0108]"
     ]
    },
    {
     "name": "stderr",
     "output_type": "stream",
     "text": [
      "\r",
      "Training:  91%|█████████████████████████████████████████▋    | 230/254 [01:08<00:06,  3.45it/s, loss=0.0108]"
     ]
    },
    {
     "name": "stderr",
     "output_type": "stream",
     "text": [
      "\r",
      "Training:  91%|█████████████████████████████████████████▋    | 230/254 [01:08<00:06,  3.45it/s, loss=0.0853]"
     ]
    },
    {
     "name": "stderr",
     "output_type": "stream",
     "text": [
      "\r",
      "Training:  91%|█████████████████████████████████████████▊    | 231/254 [01:08<00:06,  3.44it/s, loss=0.0853]"
     ]
    },
    {
     "name": "stderr",
     "output_type": "stream",
     "text": [
      "\r",
      "Training:  91%|█████████████████████████████████████████▊    | 231/254 [01:09<00:06,  3.44it/s, loss=0.0938]"
     ]
    },
    {
     "name": "stderr",
     "output_type": "stream",
     "text": [
      "\r",
      "Training:  91%|██████████████████████████████████████████    | 232/254 [01:09<00:06,  3.44it/s, loss=0.0938]"
     ]
    },
    {
     "name": "stderr",
     "output_type": "stream",
     "text": [
      "\r",
      "Training:  91%|██████████████████████████████████████████    | 232/254 [01:09<00:06,  3.44it/s, loss=0.0331]"
     ]
    },
    {
     "name": "stderr",
     "output_type": "stream",
     "text": [
      "\r",
      "Training:  92%|██████████████████████████████████████████▏   | 233/254 [01:09<00:06,  3.43it/s, loss=0.0331]"
     ]
    },
    {
     "name": "stderr",
     "output_type": "stream",
     "text": [
      "\r",
      "Training:  92%|██████████████████████████████████████████▏   | 233/254 [01:09<00:06,  3.43it/s, loss=0.0047]"
     ]
    },
    {
     "name": "stderr",
     "output_type": "stream",
     "text": [
      "\r",
      "Training:  92%|██████████████████████████████████████████▍   | 234/254 [01:09<00:05,  3.43it/s, loss=0.0047]"
     ]
    },
    {
     "name": "stderr",
     "output_type": "stream",
     "text": [
      "\r",
      "Training:  92%|██████████████████████████████████████████▍   | 234/254 [01:10<00:05,  3.43it/s, loss=0.0054]"
     ]
    },
    {
     "name": "stderr",
     "output_type": "stream",
     "text": [
      "\r",
      "Training:  93%|██████████████████████████████████████████▌   | 235/254 [01:10<00:05,  3.43it/s, loss=0.0054]"
     ]
    },
    {
     "name": "stderr",
     "output_type": "stream",
     "text": [
      "\r",
      "Training:  93%|██████████████████████████████████████████▌   | 235/254 [01:10<00:05,  3.43it/s, loss=0.0058]"
     ]
    },
    {
     "name": "stderr",
     "output_type": "stream",
     "text": [
      "\r",
      "Training:  93%|██████████████████████████████████████████▋   | 236/254 [01:10<00:05,  3.42it/s, loss=0.0058]"
     ]
    },
    {
     "name": "stderr",
     "output_type": "stream",
     "text": [
      "\r",
      "Training:  93%|██████████████████████████████████████████▋   | 236/254 [01:10<00:05,  3.42it/s, loss=0.0358]"
     ]
    },
    {
     "name": "stderr",
     "output_type": "stream",
     "text": [
      "\r",
      "Training:  93%|██████████████████████████████████████████▉   | 237/254 [01:10<00:04,  3.42it/s, loss=0.0358]"
     ]
    },
    {
     "name": "stderr",
     "output_type": "stream",
     "text": [
      "\r",
      "Training:  93%|██████████████████████████████████████████▉   | 237/254 [01:10<00:04,  3.42it/s, loss=0.0384]"
     ]
    },
    {
     "name": "stderr",
     "output_type": "stream",
     "text": [
      "\r",
      "Training:  94%|███████████████████████████████████████████   | 238/254 [01:10<00:04,  3.42it/s, loss=0.0384]"
     ]
    },
    {
     "name": "stderr",
     "output_type": "stream",
     "text": [
      "\r",
      "Training:  94%|███████████████████████████████████████████   | 238/254 [01:11<00:04,  3.42it/s, loss=0.0573]"
     ]
    },
    {
     "name": "stderr",
     "output_type": "stream",
     "text": [
      "\r",
      "Training:  94%|███████████████████████████████████████████▎  | 239/254 [01:11<00:04,  3.42it/s, loss=0.0573]"
     ]
    },
    {
     "name": "stderr",
     "output_type": "stream",
     "text": [
      "\r",
      "Training:  94%|███████████████████████████████████████████▎  | 239/254 [01:11<00:04,  3.42it/s, loss=0.0379]"
     ]
    },
    {
     "name": "stderr",
     "output_type": "stream",
     "text": [
      "\r",
      "Training:  94%|███████████████████████████████████████████▍  | 240/254 [01:11<00:04,  3.42it/s, loss=0.0379]"
     ]
    },
    {
     "name": "stderr",
     "output_type": "stream",
     "text": [
      "\r",
      "Training:  94%|███████████████████████████████████████████▍  | 240/254 [01:11<00:04,  3.42it/s, loss=0.0723]"
     ]
    },
    {
     "name": "stderr",
     "output_type": "stream",
     "text": [
      "\r",
      "Training:  95%|███████████████████████████████████████████▋  | 241/254 [01:11<00:03,  3.42it/s, loss=0.0723]"
     ]
    },
    {
     "name": "stderr",
     "output_type": "stream",
     "text": [
      "\r",
      "Training:  95%|███████████████████████████████████████████▋  | 241/254 [01:12<00:03,  3.42it/s, loss=0.0050]"
     ]
    },
    {
     "name": "stderr",
     "output_type": "stream",
     "text": [
      "\r",
      "Training:  95%|███████████████████████████████████████████▊  | 242/254 [01:12<00:03,  3.43it/s, loss=0.0050]"
     ]
    },
    {
     "name": "stderr",
     "output_type": "stream",
     "text": [
      "\r",
      "Training:  95%|███████████████████████████████████████████▊  | 242/254 [01:12<00:03,  3.43it/s, loss=0.0217]"
     ]
    },
    {
     "name": "stderr",
     "output_type": "stream",
     "text": [
      "\r",
      "Training:  96%|████████████████████████████████████████████  | 243/254 [01:12<00:03,  3.43it/s, loss=0.0217]"
     ]
    },
    {
     "name": "stderr",
     "output_type": "stream",
     "text": [
      "\r",
      "Training:  96%|████████████████████████████████████████████  | 243/254 [01:12<00:03,  3.43it/s, loss=0.1565]"
     ]
    },
    {
     "name": "stderr",
     "output_type": "stream",
     "text": [
      "\r",
      "Training:  96%|████████████████████████████████████████████▏ | 244/254 [01:12<00:02,  3.43it/s, loss=0.1565]"
     ]
    },
    {
     "name": "stderr",
     "output_type": "stream",
     "text": [
      "\r",
      "Training:  96%|████████████████████████████████████████████▏ | 244/254 [01:13<00:02,  3.43it/s, loss=0.0682]"
     ]
    },
    {
     "name": "stderr",
     "output_type": "stream",
     "text": [
      "\r",
      "Training:  96%|████████████████████████████████████████████▎ | 245/254 [01:13<00:02,  3.43it/s, loss=0.0682]"
     ]
    },
    {
     "name": "stderr",
     "output_type": "stream",
     "text": [
      "\r",
      "Training:  96%|████████████████████████████████████████████▎ | 245/254 [01:13<00:02,  3.43it/s, loss=0.0532]"
     ]
    },
    {
     "name": "stderr",
     "output_type": "stream",
     "text": [
      "\r",
      "Training:  97%|████████████████████████████████████████████▌ | 246/254 [01:13<00:02,  3.43it/s, loss=0.0532]"
     ]
    },
    {
     "name": "stderr",
     "output_type": "stream",
     "text": [
      "\r",
      "Training:  97%|████████████████████████████████████████████▌ | 246/254 [01:13<00:02,  3.43it/s, loss=0.0806]"
     ]
    },
    {
     "name": "stderr",
     "output_type": "stream",
     "text": [
      "\r",
      "Training:  97%|████████████████████████████████████████████▋ | 247/254 [01:13<00:02,  3.43it/s, loss=0.0806]"
     ]
    },
    {
     "name": "stderr",
     "output_type": "stream",
     "text": [
      "\r",
      "Training:  97%|████████████████████████████████████████████▋ | 247/254 [01:13<00:02,  3.43it/s, loss=0.0121]"
     ]
    },
    {
     "name": "stderr",
     "output_type": "stream",
     "text": [
      "\r",
      "Training:  98%|████████████████████████████████████████████▉ | 248/254 [01:13<00:01,  3.43it/s, loss=0.0121]"
     ]
    },
    {
     "name": "stderr",
     "output_type": "stream",
     "text": [
      "\r",
      "Training:  98%|████████████████████████████████████████████▉ | 248/254 [01:14<00:01,  3.43it/s, loss=0.0693]"
     ]
    },
    {
     "name": "stderr",
     "output_type": "stream",
     "text": [
      "\r",
      "Training:  98%|█████████████████████████████████████████████ | 249/254 [01:14<00:01,  3.43it/s, loss=0.0693]"
     ]
    },
    {
     "name": "stderr",
     "output_type": "stream",
     "text": [
      "\r",
      "Training:  98%|█████████████████████████████████████████████ | 249/254 [01:14<00:01,  3.43it/s, loss=0.0578]"
     ]
    },
    {
     "name": "stderr",
     "output_type": "stream",
     "text": [
      "\r",
      "Training:  98%|█████████████████████████████████████████████▎| 250/254 [01:14<00:01,  3.43it/s, loss=0.0578]"
     ]
    },
    {
     "name": "stderr",
     "output_type": "stream",
     "text": [
      "\r",
      "Training:  98%|█████████████████████████████████████████████▎| 250/254 [01:14<00:01,  3.43it/s, loss=0.0083]"
     ]
    },
    {
     "name": "stderr",
     "output_type": "stream",
     "text": [
      "\r",
      "Training:  99%|█████████████████████████████████████████████▍| 251/254 [01:14<00:00,  3.43it/s, loss=0.0083]"
     ]
    },
    {
     "name": "stderr",
     "output_type": "stream",
     "text": [
      "\r",
      "Training:  99%|█████████████████████████████████████████████▍| 251/254 [01:15<00:00,  3.43it/s, loss=0.0433]"
     ]
    },
    {
     "name": "stderr",
     "output_type": "stream",
     "text": [
      "\r",
      "Training:  99%|█████████████████████████████████████████████▋| 252/254 [01:15<00:00,  3.43it/s, loss=0.0433]"
     ]
    },
    {
     "name": "stderr",
     "output_type": "stream",
     "text": [
      "\r",
      "Training:  99%|█████████████████████████████████████████████▋| 252/254 [01:15<00:00,  3.43it/s, loss=0.1472]"
     ]
    },
    {
     "name": "stderr",
     "output_type": "stream",
     "text": [
      "\r",
      "Training: 100%|█████████████████████████████████████████████▊| 253/254 [01:15<00:00,  3.43it/s, loss=0.1472]"
     ]
    },
    {
     "name": "stderr",
     "output_type": "stream",
     "text": [
      "\r",
      "Training: 100%|█████████████████████████████████████████████▊| 253/254 [01:15<00:00,  3.43it/s, loss=0.1010]"
     ]
    },
    {
     "name": "stderr",
     "output_type": "stream",
     "text": [
      "\r",
      "Training: 100%|██████████████████████████████████████████████| 254/254 [01:15<00:00,  3.62it/s, loss=0.1010]"
     ]
    },
    {
     "name": "stderr",
     "output_type": "stream",
     "text": [
      "\r",
      "Training: 100%|██████████████████████████████████████████████| 254/254 [01:15<00:00,  3.36it/s, loss=0.1010]"
     ]
    },
    {
     "name": "stderr",
     "output_type": "stream",
     "text": [
      "\n",
      "INFO:src.models.trainer:Training metrics: {'accuracy': 0.9716783647334072, 'f1': 0.9694696756900656, 'precision': 0.9698159096788874, 'recall': 0.9716783647334072, 'loss': 0.08771872385515003}\n"
     ]
    },
    {
     "name": "stderr",
     "output_type": "stream",
     "text": [
      "\r",
      "Evaluating:   0%|                                                                    | 0/55 [00:00<?, ?it/s]"
     ]
    },
    {
     "name": "stderr",
     "output_type": "stream",
     "text": [
      "\r",
      "Evaluating:   2%|█                                                           | 1/55 [00:00<00:16,  3.32it/s]"
     ]
    },
    {
     "name": "stderr",
     "output_type": "stream",
     "text": [
      "\r",
      "Evaluating:   4%|██▏                                                         | 2/55 [00:00<00:14,  3.75it/s]"
     ]
    },
    {
     "name": "stderr",
     "output_type": "stream",
     "text": [
      "\r",
      "Evaluating:   5%|███▎                                                        | 3/55 [00:00<00:13,  3.90it/s]"
     ]
    },
    {
     "name": "stderr",
     "output_type": "stream",
     "text": [
      "\r",
      "Evaluating:   7%|████▎                                                       | 4/55 [00:01<00:12,  3.98it/s]"
     ]
    },
    {
     "name": "stderr",
     "output_type": "stream",
     "text": [
      "\r",
      "Evaluating:   9%|█████▍                                                      | 5/55 [00:01<00:12,  4.03it/s]"
     ]
    },
    {
     "name": "stderr",
     "output_type": "stream",
     "text": [
      "\r",
      "Evaluating:  11%|██████▌                                                     | 6/55 [00:01<00:12,  4.05it/s]"
     ]
    },
    {
     "name": "stderr",
     "output_type": "stream",
     "text": [
      "\r",
      "Evaluating:  13%|███████▋                                                    | 7/55 [00:01<00:11,  4.06it/s]"
     ]
    },
    {
     "name": "stderr",
     "output_type": "stream",
     "text": [
      "\r",
      "Evaluating:  15%|████████▋                                                   | 8/55 [00:02<00:11,  4.08it/s]"
     ]
    },
    {
     "name": "stderr",
     "output_type": "stream",
     "text": [
      "\r",
      "Evaluating:  16%|█████████▊                                                  | 9/55 [00:02<00:11,  4.10it/s]"
     ]
    },
    {
     "name": "stderr",
     "output_type": "stream",
     "text": [
      "\r",
      "Evaluating:  18%|██████████▋                                                | 10/55 [00:02<00:10,  4.09it/s]"
     ]
    },
    {
     "name": "stderr",
     "output_type": "stream",
     "text": [
      "\r",
      "Evaluating:  20%|███████████▊                                               | 11/55 [00:02<00:10,  4.10it/s]"
     ]
    },
    {
     "name": "stderr",
     "output_type": "stream",
     "text": [
      "\r",
      "Evaluating:  22%|████████████▊                                              | 12/55 [00:02<00:10,  4.11it/s]"
     ]
    },
    {
     "name": "stderr",
     "output_type": "stream",
     "text": [
      "\r",
      "Evaluating:  24%|█████████████▉                                             | 13/55 [00:03<00:10,  4.11it/s]"
     ]
    },
    {
     "name": "stderr",
     "output_type": "stream",
     "text": [
      "\r",
      "Evaluating:  25%|███████████████                                            | 14/55 [00:03<00:09,  4.11it/s]"
     ]
    },
    {
     "name": "stderr",
     "output_type": "stream",
     "text": [
      "\r",
      "Evaluating:  27%|████████████████                                           | 15/55 [00:03<00:09,  4.11it/s]"
     ]
    },
    {
     "name": "stderr",
     "output_type": "stream",
     "text": [
      "\r",
      "Evaluating:  29%|█████████████████▏                                         | 16/55 [00:03<00:09,  4.11it/s]"
     ]
    },
    {
     "name": "stderr",
     "output_type": "stream",
     "text": [
      "\r",
      "Evaluating:  31%|██████████████████▏                                        | 17/55 [00:04<00:09,  4.11it/s]"
     ]
    },
    {
     "name": "stderr",
     "output_type": "stream",
     "text": [
      "\r",
      "Evaluating:  33%|███████████████████▎                                       | 18/55 [00:04<00:08,  4.11it/s]"
     ]
    },
    {
     "name": "stderr",
     "output_type": "stream",
     "text": [
      "\r",
      "Evaluating:  35%|████████████████████▍                                      | 19/55 [00:04<00:08,  4.11it/s]"
     ]
    },
    {
     "name": "stderr",
     "output_type": "stream",
     "text": [
      "\r",
      "Evaluating:  36%|█████████████████████▍                                     | 20/55 [00:04<00:08,  4.11it/s]"
     ]
    },
    {
     "name": "stderr",
     "output_type": "stream",
     "text": [
      "\r",
      "Evaluating:  38%|██████████████████████▌                                    | 21/55 [00:05<00:08,  4.11it/s]"
     ]
    },
    {
     "name": "stderr",
     "output_type": "stream",
     "text": [
      "\r",
      "Evaluating:  40%|███████████████████████▌                                   | 22/55 [00:05<00:08,  4.10it/s]"
     ]
    },
    {
     "name": "stderr",
     "output_type": "stream",
     "text": [
      "\r",
      "Evaluating:  42%|████████████████████████▋                                  | 23/55 [00:05<00:07,  4.11it/s]"
     ]
    },
    {
     "name": "stderr",
     "output_type": "stream",
     "text": [
      "\r",
      "Evaluating:  44%|█████████████████████████▋                                 | 24/55 [00:05<00:07,  4.11it/s]"
     ]
    },
    {
     "name": "stderr",
     "output_type": "stream",
     "text": [
      "\r",
      "Evaluating:  45%|██████████████████████████▊                                | 25/55 [00:06<00:07,  4.11it/s]"
     ]
    },
    {
     "name": "stderr",
     "output_type": "stream",
     "text": [
      "\r",
      "Evaluating:  47%|███████████████████████████▉                               | 26/55 [00:06<00:07,  4.12it/s]"
     ]
    },
    {
     "name": "stderr",
     "output_type": "stream",
     "text": [
      "\r",
      "Evaluating:  49%|████████████████████████████▉                              | 27/55 [00:06<00:06,  4.11it/s]"
     ]
    },
    {
     "name": "stderr",
     "output_type": "stream",
     "text": [
      "\r",
      "Evaluating:  51%|██████████████████████████████                             | 28/55 [00:06<00:06,  4.12it/s]"
     ]
    },
    {
     "name": "stderr",
     "output_type": "stream",
     "text": [
      "\r",
      "Evaluating:  53%|███████████████████████████████                            | 29/55 [00:07<00:06,  4.12it/s]"
     ]
    },
    {
     "name": "stderr",
     "output_type": "stream",
     "text": [
      "\r",
      "Evaluating:  55%|████████████████████████████████▏                          | 30/55 [00:07<00:06,  4.11it/s]"
     ]
    },
    {
     "name": "stderr",
     "output_type": "stream",
     "text": [
      "\r",
      "Evaluating:  56%|█████████████████████████████████▎                         | 31/55 [00:07<00:05,  4.11it/s]"
     ]
    },
    {
     "name": "stderr",
     "output_type": "stream",
     "text": [
      "\r",
      "Evaluating:  58%|██████████████████████████████████▎                        | 32/55 [00:07<00:05,  4.11it/s]"
     ]
    },
    {
     "name": "stderr",
     "output_type": "stream",
     "text": [
      "\r",
      "Evaluating:  60%|███████████████████████████████████▍                       | 33/55 [00:08<00:05,  4.11it/s]"
     ]
    },
    {
     "name": "stderr",
     "output_type": "stream",
     "text": [
      "\r",
      "Evaluating:  62%|████████████████████████████████████▍                      | 34/55 [00:08<00:05,  4.11it/s]"
     ]
    },
    {
     "name": "stderr",
     "output_type": "stream",
     "text": [
      "\r",
      "Evaluating:  64%|█████████████████████████████████████▌                     | 35/55 [00:08<00:04,  4.11it/s]"
     ]
    },
    {
     "name": "stderr",
     "output_type": "stream",
     "text": [
      "\r",
      "Evaluating:  65%|██████████████████████████████████████▌                    | 36/55 [00:08<00:04,  4.11it/s]"
     ]
    },
    {
     "name": "stderr",
     "output_type": "stream",
     "text": [
      "\r",
      "Evaluating:  67%|███████████████████████████████████████▋                   | 37/55 [00:09<00:04,  4.12it/s]"
     ]
    },
    {
     "name": "stderr",
     "output_type": "stream",
     "text": [
      "\r",
      "Evaluating:  69%|████████████████████████████████████████▊                  | 38/55 [00:09<00:04,  4.11it/s]"
     ]
    },
    {
     "name": "stderr",
     "output_type": "stream",
     "text": [
      "\r",
      "Evaluating:  71%|█████████████████████████████████████████▊                 | 39/55 [00:09<00:03,  4.11it/s]"
     ]
    },
    {
     "name": "stderr",
     "output_type": "stream",
     "text": [
      "\r",
      "Evaluating:  73%|██████████████████████████████████████████▉                | 40/55 [00:09<00:03,  4.11it/s]"
     ]
    },
    {
     "name": "stderr",
     "output_type": "stream",
     "text": [
      "\r",
      "Evaluating:  75%|███████████████████████████████████████████▉               | 41/55 [00:10<00:03,  4.12it/s]"
     ]
    },
    {
     "name": "stderr",
     "output_type": "stream",
     "text": [
      "\r",
      "Evaluating:  76%|█████████████████████████████████████████████              | 42/55 [00:10<00:03,  4.12it/s]"
     ]
    },
    {
     "name": "stderr",
     "output_type": "stream",
     "text": [
      "\r",
      "Evaluating:  78%|██████████████████████████████████████████████▏            | 43/55 [00:10<00:02,  4.12it/s]"
     ]
    },
    {
     "name": "stderr",
     "output_type": "stream",
     "text": [
      "\r",
      "Evaluating:  80%|███████████████████████████████████████████████▏           | 44/55 [00:10<00:02,  4.12it/s]"
     ]
    },
    {
     "name": "stderr",
     "output_type": "stream",
     "text": [
      "\r",
      "Evaluating:  82%|████████████████████████████████████████████████▎          | 45/55 [00:11<00:02,  4.12it/s]"
     ]
    },
    {
     "name": "stderr",
     "output_type": "stream",
     "text": [
      "\r",
      "Evaluating:  84%|█████████████████████████████████████████████████▎         | 46/55 [00:11<00:02,  4.13it/s]"
     ]
    },
    {
     "name": "stderr",
     "output_type": "stream",
     "text": [
      "\r",
      "Evaluating:  85%|██████████████████████████████████████████████████▍        | 47/55 [00:11<00:01,  4.12it/s]"
     ]
    },
    {
     "name": "stderr",
     "output_type": "stream",
     "text": [
      "\r",
      "Evaluating:  87%|███████████████████████████████████████████████████▍       | 48/55 [00:11<00:01,  4.12it/s]"
     ]
    },
    {
     "name": "stderr",
     "output_type": "stream",
     "text": [
      "\r",
      "Evaluating:  89%|████████████████████████████████████████████████████▌      | 49/55 [00:11<00:01,  4.13it/s]"
     ]
    },
    {
     "name": "stderr",
     "output_type": "stream",
     "text": [
      "\r",
      "Evaluating:  91%|█████████████████████████████████████████████████████▋     | 50/55 [00:12<00:01,  4.13it/s]"
     ]
    },
    {
     "name": "stderr",
     "output_type": "stream",
     "text": [
      "\r",
      "Evaluating:  93%|██████████████████████████████████████████████████████▋    | 51/55 [00:12<00:00,  4.13it/s]"
     ]
    },
    {
     "name": "stderr",
     "output_type": "stream",
     "text": [
      "\r",
      "Evaluating:  95%|███████████████████████████████████████████████████████▊   | 52/55 [00:12<00:00,  4.13it/s]"
     ]
    },
    {
     "name": "stderr",
     "output_type": "stream",
     "text": [
      "\r",
      "Evaluating:  96%|████████████████████████████████████████████████████████▊  | 53/55 [00:12<00:00,  4.13it/s]"
     ]
    },
    {
     "name": "stderr",
     "output_type": "stream",
     "text": [
      "\r",
      "Evaluating:  98%|█████████████████████████████████████████████████████████▉ | 54/55 [00:13<00:00,  4.13it/s]"
     ]
    },
    {
     "name": "stderr",
     "output_type": "stream",
     "text": [
      "\r",
      "Evaluating: 100%|███████████████████████████████████████████████████████████| 55/55 [00:13<00:00,  4.14it/s]"
     ]
    },
    {
     "name": "stderr",
     "output_type": "stream",
     "text": [
      "\n",
      "INFO:src.models.trainer:Validation metrics: {'accuracy': 0.986210858948578, 'f1': 0.9865201777881956, 'precision': 0.9871110428532801, 'recall': 0.986210858948578, 'auc': 0.9950458005782958, 'loss': 0.04091122022152625}\n"
     ]
    },
    {
     "name": "stderr",
     "output_type": "stream",
     "text": [
      "INFO:src.models.trainer:New best model with validation AUC: 0.9950\n"
     ]
    },
    {
     "name": "stderr",
     "output_type": "stream",
     "text": [
      "INFO:src.models.trainer:\n",
      "Epoch 2/3\n"
     ]
    },
    {
     "name": "stderr",
     "output_type": "stream",
     "text": [
      "\r",
      "Training:   0%|                                                                     | 0/254 [00:00<?, ?it/s]"
     ]
    },
    {
     "name": "stderr",
     "output_type": "stream",
     "text": [
      "/home/luuka/thesis/workspace/src/models/trainer.py:91: FutureWarning: `torch.cuda.amp.autocast(args...)` is deprecated. Please use `torch.amp.autocast('cuda', args...)` instead.\n",
      "  with torch.cuda.amp.autocast():\n"
     ]
    },
    {
     "name": "stderr",
     "output_type": "stream",
     "text": [
      "\r",
      "Training:   0%|                                                        | 0/254 [00:00<?, ?it/s, loss=0.0320]"
     ]
    },
    {
     "name": "stderr",
     "output_type": "stream",
     "text": [
      "\r",
      "Training:   0%|▏                                               | 1/254 [00:00<02:15,  1.87it/s, loss=0.0320]"
     ]
    },
    {
     "name": "stderr",
     "output_type": "stream",
     "text": [
      "\r",
      "Training:   0%|▏                                               | 1/254 [00:00<02:15,  1.87it/s, loss=0.0267]"
     ]
    },
    {
     "name": "stderr",
     "output_type": "stream",
     "text": [
      "\r",
      "Training:   1%|▍                                               | 2/254 [00:00<01:38,  2.55it/s, loss=0.0267]"
     ]
    },
    {
     "name": "stderr",
     "output_type": "stream",
     "text": [
      "\r",
      "Training:   1%|▍                                               | 2/254 [00:01<01:38,  2.55it/s, loss=0.0302]"
     ]
    },
    {
     "name": "stderr",
     "output_type": "stream",
     "text": [
      "\r",
      "Training:   1%|▌                                               | 3/254 [00:01<01:26,  2.90it/s, loss=0.0302]"
     ]
    },
    {
     "name": "stderr",
     "output_type": "stream",
     "text": [
      "\r",
      "Training:   1%|▌                                               | 3/254 [00:01<01:26,  2.90it/s, loss=0.0340]"
     ]
    },
    {
     "name": "stderr",
     "output_type": "stream",
     "text": [
      "\r",
      "Training:   2%|▊                                               | 4/254 [00:01<01:20,  3.09it/s, loss=0.0340]"
     ]
    },
    {
     "name": "stderr",
     "output_type": "stream",
     "text": [
      "\r",
      "Training:   2%|▊                                               | 4/254 [00:01<01:20,  3.09it/s, loss=0.0894]"
     ]
    },
    {
     "name": "stderr",
     "output_type": "stream",
     "text": [
      "\r",
      "Training:   2%|▉                                               | 5/254 [00:01<01:17,  3.22it/s, loss=0.0894]"
     ]
    },
    {
     "name": "stderr",
     "output_type": "stream",
     "text": [
      "\r",
      "Training:   2%|▉                                               | 5/254 [00:01<01:17,  3.22it/s, loss=0.0507]"
     ]
    },
    {
     "name": "stderr",
     "output_type": "stream",
     "text": [
      "\r",
      "Training:   2%|█▏                                              | 6/254 [00:01<01:15,  3.31it/s, loss=0.0507]"
     ]
    },
    {
     "name": "stderr",
     "output_type": "stream",
     "text": [
      "\r",
      "Training:   2%|█▏                                              | 6/254 [00:02<01:15,  3.31it/s, loss=0.0059]"
     ]
    },
    {
     "name": "stderr",
     "output_type": "stream",
     "text": [
      "\r",
      "Training:   3%|█▎                                              | 7/254 [00:02<01:13,  3.37it/s, loss=0.0059]"
     ]
    },
    {
     "name": "stderr",
     "output_type": "stream",
     "text": [
      "\r",
      "Training:   3%|█▎                                              | 7/254 [00:02<01:13,  3.37it/s, loss=0.0073]"
     ]
    },
    {
     "name": "stderr",
     "output_type": "stream",
     "text": [
      "\r",
      "Training:   3%|█▌                                              | 8/254 [00:02<01:12,  3.40it/s, loss=0.0073]"
     ]
    },
    {
     "name": "stderr",
     "output_type": "stream",
     "text": [
      "\r",
      "Training:   3%|█▌                                              | 8/254 [00:02<01:12,  3.40it/s, loss=0.0720]"
     ]
    },
    {
     "name": "stderr",
     "output_type": "stream",
     "text": [
      "\r",
      "Training:   4%|█▋                                              | 9/254 [00:02<01:11,  3.42it/s, loss=0.0720]"
     ]
    },
    {
     "name": "stderr",
     "output_type": "stream",
     "text": [
      "\r",
      "Training:   4%|█▋                                              | 9/254 [00:03<01:11,  3.42it/s, loss=0.0057]"
     ]
    },
    {
     "name": "stderr",
     "output_type": "stream",
     "text": [
      "\r",
      "Training:   4%|█▊                                             | 10/254 [00:03<01:10,  3.44it/s, loss=0.0057]"
     ]
    },
    {
     "name": "stderr",
     "output_type": "stream",
     "text": [
      "\r",
      "Training:   4%|█▊                                             | 10/254 [00:03<01:10,  3.44it/s, loss=0.0049]"
     ]
    },
    {
     "name": "stderr",
     "output_type": "stream",
     "text": [
      "\r",
      "Training:   4%|██                                             | 11/254 [00:03<01:10,  3.45it/s, loss=0.0049]"
     ]
    },
    {
     "name": "stderr",
     "output_type": "stream",
     "text": [
      "\r",
      "Training:   4%|██                                             | 11/254 [00:03<01:10,  3.45it/s, loss=0.1229]"
     ]
    },
    {
     "name": "stderr",
     "output_type": "stream",
     "text": [
      "\r",
      "Training:   5%|██▏                                            | 12/254 [00:03<01:09,  3.46it/s, loss=0.1229]"
     ]
    },
    {
     "name": "stderr",
     "output_type": "stream",
     "text": [
      "\r",
      "Training:   5%|██▏                                            | 12/254 [00:03<01:09,  3.46it/s, loss=0.0885]"
     ]
    },
    {
     "name": "stderr",
     "output_type": "stream",
     "text": [
      "\r",
      "Training:   5%|██▍                                            | 13/254 [00:03<01:09,  3.46it/s, loss=0.0885]"
     ]
    },
    {
     "name": "stderr",
     "output_type": "stream",
     "text": [
      "\r",
      "Training:   5%|██▍                                            | 13/254 [00:04<01:09,  3.46it/s, loss=0.0681]"
     ]
    },
    {
     "name": "stderr",
     "output_type": "stream",
     "text": [
      "\r",
      "Training:   6%|██▌                                            | 14/254 [00:04<01:09,  3.46it/s, loss=0.0681]"
     ]
    },
    {
     "name": "stderr",
     "output_type": "stream",
     "text": [
      "\r",
      "Training:   6%|██▌                                            | 14/254 [00:04<01:09,  3.46it/s, loss=0.0192]"
     ]
    },
    {
     "name": "stderr",
     "output_type": "stream",
     "text": [
      "\r",
      "Training:   6%|██▊                                            | 15/254 [00:04<01:08,  3.47it/s, loss=0.0192]"
     ]
    },
    {
     "name": "stderr",
     "output_type": "stream",
     "text": [
      "\r",
      "Training:   6%|██▊                                            | 15/254 [00:04<01:08,  3.47it/s, loss=0.0465]"
     ]
    },
    {
     "name": "stderr",
     "output_type": "stream",
     "text": [
      "\r",
      "Training:   6%|██▉                                            | 16/254 [00:04<01:08,  3.47it/s, loss=0.0465]"
     ]
    },
    {
     "name": "stderr",
     "output_type": "stream",
     "text": [
      "\r",
      "Training:   6%|██▉                                            | 16/254 [00:05<01:08,  3.47it/s, loss=0.0084]"
     ]
    },
    {
     "name": "stderr",
     "output_type": "stream",
     "text": [
      "\r",
      "Training:   7%|███▏                                           | 17/254 [00:05<01:08,  3.48it/s, loss=0.0084]"
     ]
    },
    {
     "name": "stderr",
     "output_type": "stream",
     "text": [
      "\r",
      "Training:   7%|███▏                                           | 17/254 [00:05<01:08,  3.48it/s, loss=0.0069]"
     ]
    },
    {
     "name": "stderr",
     "output_type": "stream",
     "text": [
      "\r",
      "Training:   7%|███▎                                           | 18/254 [00:05<01:07,  3.48it/s, loss=0.0069]"
     ]
    },
    {
     "name": "stderr",
     "output_type": "stream",
     "text": [
      "\r",
      "Training:   7%|███▎                                           | 18/254 [00:05<01:07,  3.48it/s, loss=0.0517]"
     ]
    },
    {
     "name": "stderr",
     "output_type": "stream",
     "text": [
      "\r",
      "Training:   7%|███▌                                           | 19/254 [00:05<01:07,  3.48it/s, loss=0.0517]"
     ]
    },
    {
     "name": "stderr",
     "output_type": "stream",
     "text": [
      "\r",
      "Training:   7%|███▌                                           | 19/254 [00:06<01:07,  3.48it/s, loss=0.1033]"
     ]
    },
    {
     "name": "stderr",
     "output_type": "stream",
     "text": [
      "\r",
      "Training:   8%|███▋                                           | 20/254 [00:06<01:07,  3.48it/s, loss=0.1033]"
     ]
    },
    {
     "name": "stderr",
     "output_type": "stream",
     "text": [
      "\r",
      "Training:   8%|███▋                                           | 20/254 [00:06<01:07,  3.48it/s, loss=0.0633]"
     ]
    },
    {
     "name": "stderr",
     "output_type": "stream",
     "text": [
      "\r",
      "Training:   8%|███▉                                           | 21/254 [00:06<01:06,  3.48it/s, loss=0.0633]"
     ]
    },
    {
     "name": "stderr",
     "output_type": "stream",
     "text": [
      "\r",
      "Training:   8%|███▉                                           | 21/254 [00:06<01:06,  3.48it/s, loss=0.0152]"
     ]
    },
    {
     "name": "stderr",
     "output_type": "stream",
     "text": [
      "\r",
      "Training:   9%|████                                           | 22/254 [00:06<01:06,  3.48it/s, loss=0.0152]"
     ]
    },
    {
     "name": "stderr",
     "output_type": "stream",
     "text": [
      "\r",
      "Training:   9%|████                                           | 22/254 [00:06<01:06,  3.48it/s, loss=0.0238]"
     ]
    },
    {
     "name": "stderr",
     "output_type": "stream",
     "text": [
      "\r",
      "Training:   9%|████▎                                          | 23/254 [00:06<01:06,  3.48it/s, loss=0.0238]"
     ]
    },
    {
     "name": "stderr",
     "output_type": "stream",
     "text": [
      "\r",
      "Training:   9%|████▎                                          | 23/254 [00:07<01:06,  3.48it/s, loss=0.0593]"
     ]
    },
    {
     "name": "stderr",
     "output_type": "stream",
     "text": [
      "\r",
      "Training:   9%|████▍                                          | 24/254 [00:07<01:06,  3.48it/s, loss=0.0593]"
     ]
    },
    {
     "name": "stderr",
     "output_type": "stream",
     "text": [
      "\r",
      "Training:   9%|████▍                                          | 24/254 [00:07<01:06,  3.48it/s, loss=0.0200]"
     ]
    },
    {
     "name": "stderr",
     "output_type": "stream",
     "text": [
      "\r",
      "Training:  10%|████▋                                          | 25/254 [00:07<01:05,  3.48it/s, loss=0.0200]"
     ]
    },
    {
     "name": "stderr",
     "output_type": "stream",
     "text": [
      "\r",
      "Training:  10%|████▋                                          | 25/254 [00:07<01:05,  3.48it/s, loss=0.0134]"
     ]
    },
    {
     "name": "stderr",
     "output_type": "stream",
     "text": [
      "\r",
      "Training:  10%|████▊                                          | 26/254 [00:07<01:05,  3.48it/s, loss=0.0134]"
     ]
    },
    {
     "name": "stderr",
     "output_type": "stream",
     "text": [
      "\r",
      "Training:  10%|████▊                                          | 26/254 [00:08<01:05,  3.48it/s, loss=0.0069]"
     ]
    },
    {
     "name": "stderr",
     "output_type": "stream",
     "text": [
      "\r",
      "Training:  11%|████▉                                          | 27/254 [00:08<01:05,  3.48it/s, loss=0.0069]"
     ]
    },
    {
     "name": "stderr",
     "output_type": "stream",
     "text": [
      "\r",
      "Training:  11%|████▉                                          | 27/254 [00:08<01:05,  3.48it/s, loss=0.0903]"
     ]
    },
    {
     "name": "stderr",
     "output_type": "stream",
     "text": [
      "\r",
      "Training:  11%|█████▏                                         | 28/254 [00:08<01:04,  3.49it/s, loss=0.0903]"
     ]
    },
    {
     "name": "stderr",
     "output_type": "stream",
     "text": [
      "\r",
      "Training:  11%|█████▏                                         | 28/254 [00:08<01:04,  3.49it/s, loss=0.0058]"
     ]
    },
    {
     "name": "stderr",
     "output_type": "stream",
     "text": [
      "\r",
      "Training:  11%|█████▎                                         | 29/254 [00:08<01:04,  3.48it/s, loss=0.0058]"
     ]
    },
    {
     "name": "stderr",
     "output_type": "stream",
     "text": [
      "\r",
      "Training:  11%|█████▎                                         | 29/254 [00:08<01:04,  3.48it/s, loss=0.0045]"
     ]
    },
    {
     "name": "stderr",
     "output_type": "stream",
     "text": [
      "\r",
      "Training:  12%|█████▌                                         | 30/254 [00:08<01:04,  3.47it/s, loss=0.0045]"
     ]
    },
    {
     "name": "stderr",
     "output_type": "stream",
     "text": [
      "\r",
      "Training:  12%|█████▌                                         | 30/254 [00:09<01:04,  3.47it/s, loss=0.0588]"
     ]
    },
    {
     "name": "stderr",
     "output_type": "stream",
     "text": [
      "\r",
      "Training:  12%|█████▋                                         | 31/254 [00:09<01:04,  3.46it/s, loss=0.0588]"
     ]
    },
    {
     "name": "stderr",
     "output_type": "stream",
     "text": [
      "\r",
      "Training:  12%|█████▋                                         | 31/254 [00:09<01:04,  3.46it/s, loss=0.0094]"
     ]
    },
    {
     "name": "stderr",
     "output_type": "stream",
     "text": [
      "\r",
      "Training:  13%|█████▉                                         | 32/254 [00:09<01:04,  3.45it/s, loss=0.0094]"
     ]
    },
    {
     "name": "stderr",
     "output_type": "stream",
     "text": [
      "\r",
      "Training:  13%|█████▉                                         | 32/254 [00:09<01:04,  3.45it/s, loss=0.0250]"
     ]
    },
    {
     "name": "stderr",
     "output_type": "stream",
     "text": [
      "\r",
      "Training:  13%|██████                                         | 33/254 [00:09<01:04,  3.45it/s, loss=0.0250]"
     ]
    },
    {
     "name": "stderr",
     "output_type": "stream",
     "text": [
      "\r",
      "Training:  13%|██████                                         | 33/254 [00:10<01:04,  3.45it/s, loss=0.0046]"
     ]
    },
    {
     "name": "stderr",
     "output_type": "stream",
     "text": [
      "\r",
      "Training:  13%|██████▎                                        | 34/254 [00:10<01:03,  3.45it/s, loss=0.0046]"
     ]
    },
    {
     "name": "stderr",
     "output_type": "stream",
     "text": [
      "\r",
      "Training:  13%|██████▎                                        | 34/254 [00:10<01:03,  3.45it/s, loss=0.0060]"
     ]
    },
    {
     "name": "stderr",
     "output_type": "stream",
     "text": [
      "\r",
      "Training:  14%|██████▍                                        | 35/254 [00:10<01:03,  3.45it/s, loss=0.0060]"
     ]
    },
    {
     "name": "stderr",
     "output_type": "stream",
     "text": [
      "\r",
      "Training:  14%|██████▍                                        | 35/254 [00:10<01:03,  3.45it/s, loss=0.0070]"
     ]
    },
    {
     "name": "stderr",
     "output_type": "stream",
     "text": [
      "\r",
      "Training:  14%|██████▋                                        | 36/254 [00:10<01:03,  3.45it/s, loss=0.0070]"
     ]
    },
    {
     "name": "stderr",
     "output_type": "stream",
     "text": [
      "\r",
      "Training:  14%|██████▋                                        | 36/254 [00:10<01:03,  3.45it/s, loss=0.0036]"
     ]
    },
    {
     "name": "stderr",
     "output_type": "stream",
     "text": [
      "\r",
      "Training:  15%|██████▊                                        | 37/254 [00:10<01:03,  3.44it/s, loss=0.0036]"
     ]
    },
    {
     "name": "stderr",
     "output_type": "stream",
     "text": [
      "\r",
      "Training:  15%|██████▊                                        | 37/254 [00:11<01:03,  3.44it/s, loss=0.0353]"
     ]
    },
    {
     "name": "stderr",
     "output_type": "stream",
     "text": [
      "\r",
      "Training:  15%|███████                                        | 38/254 [00:11<01:02,  3.44it/s, loss=0.0353]"
     ]
    },
    {
     "name": "stderr",
     "output_type": "stream",
     "text": [
      "\r",
      "Training:  15%|███████                                        | 38/254 [00:11<01:02,  3.44it/s, loss=0.0254]"
     ]
    },
    {
     "name": "stderr",
     "output_type": "stream",
     "text": [
      "\r",
      "Training:  15%|███████▏                                       | 39/254 [00:11<01:02,  3.44it/s, loss=0.0254]"
     ]
    },
    {
     "name": "stderr",
     "output_type": "stream",
     "text": [
      "\r",
      "Training:  15%|███████▏                                       | 39/254 [00:11<01:02,  3.44it/s, loss=0.0530]"
     ]
    },
    {
     "name": "stderr",
     "output_type": "stream",
     "text": [
      "\r",
      "Training:  16%|███████▍                                       | 40/254 [00:11<01:02,  3.44it/s, loss=0.0530]"
     ]
    },
    {
     "name": "stderr",
     "output_type": "stream",
     "text": [
      "\r",
      "Training:  16%|███████▍                                       | 40/254 [00:12<01:02,  3.44it/s, loss=0.0045]"
     ]
    },
    {
     "name": "stderr",
     "output_type": "stream",
     "text": [
      "\r",
      "Training:  16%|███████▌                                       | 41/254 [00:12<01:01,  3.45it/s, loss=0.0045]"
     ]
    },
    {
     "name": "stderr",
     "output_type": "stream",
     "text": [
      "\r",
      "Training:  16%|███████▌                                       | 41/254 [00:12<01:01,  3.45it/s, loss=0.0030]"
     ]
    },
    {
     "name": "stderr",
     "output_type": "stream",
     "text": [
      "\r",
      "Training:  17%|███████▊                                       | 42/254 [00:12<01:01,  3.44it/s, loss=0.0030]"
     ]
    },
    {
     "name": "stderr",
     "output_type": "stream",
     "text": [
      "\r",
      "Training:  17%|███████▊                                       | 42/254 [00:12<01:01,  3.44it/s, loss=0.0648]"
     ]
    },
    {
     "name": "stderr",
     "output_type": "stream",
     "text": [
      "\r",
      "Training:  17%|███████▉                                       | 43/254 [00:12<01:01,  3.44it/s, loss=0.0648]"
     ]
    },
    {
     "name": "stderr",
     "output_type": "stream",
     "text": [
      "\r",
      "Training:  17%|███████▉                                       | 43/254 [00:12<01:01,  3.44it/s, loss=0.0344]"
     ]
    },
    {
     "name": "stderr",
     "output_type": "stream",
     "text": [
      "\r",
      "Training:  17%|████████▏                                      | 44/254 [00:12<01:01,  3.44it/s, loss=0.0344]"
     ]
    },
    {
     "name": "stderr",
     "output_type": "stream",
     "text": [
      "\r",
      "Training:  17%|████████▏                                      | 44/254 [00:13<01:01,  3.44it/s, loss=0.0051]"
     ]
    },
    {
     "name": "stderr",
     "output_type": "stream",
     "text": [
      "\r",
      "Training:  18%|████████▎                                      | 45/254 [00:13<01:00,  3.44it/s, loss=0.0051]"
     ]
    },
    {
     "name": "stderr",
     "output_type": "stream",
     "text": [
      "\r",
      "Training:  18%|████████▎                                      | 45/254 [00:13<01:00,  3.44it/s, loss=0.0945]"
     ]
    },
    {
     "name": "stderr",
     "output_type": "stream",
     "text": [
      "\r",
      "Training:  18%|████████▌                                      | 46/254 [00:13<01:00,  3.44it/s, loss=0.0945]"
     ]
    },
    {
     "name": "stderr",
     "output_type": "stream",
     "text": [
      "\r",
      "Training:  18%|████████▌                                      | 46/254 [00:13<01:00,  3.44it/s, loss=0.0588]"
     ]
    },
    {
     "name": "stderr",
     "output_type": "stream",
     "text": [
      "\r",
      "Training:  19%|████████▋                                      | 47/254 [00:13<01:00,  3.44it/s, loss=0.0588]"
     ]
    },
    {
     "name": "stderr",
     "output_type": "stream",
     "text": [
      "\r",
      "Training:  19%|████████▋                                      | 47/254 [00:14<01:00,  3.44it/s, loss=0.0063]"
     ]
    },
    {
     "name": "stderr",
     "output_type": "stream",
     "text": [
      "\r",
      "Training:  19%|████████▉                                      | 48/254 [00:14<00:59,  3.44it/s, loss=0.0063]"
     ]
    },
    {
     "name": "stderr",
     "output_type": "stream",
     "text": [
      "\r",
      "Training:  19%|████████▉                                      | 48/254 [00:14<00:59,  3.44it/s, loss=0.0515]"
     ]
    },
    {
     "name": "stderr",
     "output_type": "stream",
     "text": [
      "\r",
      "Training:  19%|█████████                                      | 49/254 [00:14<00:59,  3.44it/s, loss=0.0515]"
     ]
    },
    {
     "name": "stderr",
     "output_type": "stream",
     "text": [
      "\r",
      "Training:  19%|█████████                                      | 49/254 [00:14<00:59,  3.44it/s, loss=0.0597]"
     ]
    },
    {
     "name": "stderr",
     "output_type": "stream",
     "text": [
      "\r",
      "Training:  20%|█████████▎                                     | 50/254 [00:14<00:59,  3.44it/s, loss=0.0597]"
     ]
    },
    {
     "name": "stderr",
     "output_type": "stream",
     "text": [
      "\r",
      "Training:  20%|█████████▎                                     | 50/254 [00:14<00:59,  3.44it/s, loss=0.0047]"
     ]
    },
    {
     "name": "stderr",
     "output_type": "stream",
     "text": [
      "\r",
      "Training:  20%|█████████▍                                     | 51/254 [00:14<00:58,  3.44it/s, loss=0.0047]"
     ]
    },
    {
     "name": "stderr",
     "output_type": "stream",
     "text": [
      "\r",
      "Training:  20%|█████████▍                                     | 51/254 [00:15<00:58,  3.44it/s, loss=0.0136]"
     ]
    },
    {
     "name": "stderr",
     "output_type": "stream",
     "text": [
      "\r",
      "Training:  20%|█████████▌                                     | 52/254 [00:15<00:58,  3.44it/s, loss=0.0136]"
     ]
    },
    {
     "name": "stderr",
     "output_type": "stream",
     "text": [
      "\r",
      "Training:  20%|█████████▌                                     | 52/254 [00:15<00:58,  3.44it/s, loss=0.0453]"
     ]
    },
    {
     "name": "stderr",
     "output_type": "stream",
     "text": [
      "\r",
      "Training:  21%|█████████▊                                     | 53/254 [00:15<00:58,  3.44it/s, loss=0.0453]"
     ]
    },
    {
     "name": "stderr",
     "output_type": "stream",
     "text": [
      "\r",
      "Training:  21%|█████████▊                                     | 53/254 [00:15<00:58,  3.44it/s, loss=0.0164]"
     ]
    },
    {
     "name": "stderr",
     "output_type": "stream",
     "text": [
      "\r",
      "Training:  21%|█████████▉                                     | 54/254 [00:15<00:58,  3.45it/s, loss=0.0164]"
     ]
    },
    {
     "name": "stderr",
     "output_type": "stream",
     "text": [
      "\r",
      "Training:  21%|█████████▉                                     | 54/254 [00:16<00:58,  3.45it/s, loss=0.0087]"
     ]
    },
    {
     "name": "stderr",
     "output_type": "stream",
     "text": [
      "\r",
      "Training:  22%|██████████▏                                    | 55/254 [00:16<00:57,  3.44it/s, loss=0.0087]"
     ]
    },
    {
     "name": "stderr",
     "output_type": "stream",
     "text": [
      "\r",
      "Training:  22%|██████████▏                                    | 55/254 [00:16<00:57,  3.44it/s, loss=0.1077]"
     ]
    },
    {
     "name": "stderr",
     "output_type": "stream",
     "text": [
      "\r",
      "Training:  22%|██████████▎                                    | 56/254 [00:16<00:57,  3.44it/s, loss=0.1077]"
     ]
    },
    {
     "name": "stderr",
     "output_type": "stream",
     "text": [
      "\r",
      "Training:  22%|██████████▎                                    | 56/254 [00:16<00:57,  3.44it/s, loss=0.0081]"
     ]
    },
    {
     "name": "stderr",
     "output_type": "stream",
     "text": [
      "\r",
      "Training:  22%|██████████▌                                    | 57/254 [00:16<00:57,  3.44it/s, loss=0.0081]"
     ]
    },
    {
     "name": "stderr",
     "output_type": "stream",
     "text": [
      "\r",
      "Training:  22%|██████████▌                                    | 57/254 [00:17<00:57,  3.44it/s, loss=0.0077]"
     ]
    },
    {
     "name": "stderr",
     "output_type": "stream",
     "text": [
      "\r",
      "Training:  23%|██████████▋                                    | 58/254 [00:17<00:56,  3.44it/s, loss=0.0077]"
     ]
    },
    {
     "name": "stderr",
     "output_type": "stream",
     "text": [
      "\r",
      "Training:  23%|██████████▋                                    | 58/254 [00:17<00:56,  3.44it/s, loss=0.0085]"
     ]
    },
    {
     "name": "stderr",
     "output_type": "stream",
     "text": [
      "\r",
      "Training:  23%|██████████▉                                    | 59/254 [00:17<00:56,  3.44it/s, loss=0.0085]"
     ]
    },
    {
     "name": "stderr",
     "output_type": "stream",
     "text": [
      "\r",
      "Training:  23%|██████████▉                                    | 59/254 [00:17<00:56,  3.44it/s, loss=0.0098]"
     ]
    },
    {
     "name": "stderr",
     "output_type": "stream",
     "text": [
      "\r",
      "Training:  24%|███████████                                    | 60/254 [00:17<00:56,  3.44it/s, loss=0.0098]"
     ]
    },
    {
     "name": "stderr",
     "output_type": "stream",
     "text": [
      "\r",
      "Training:  24%|███████████                                    | 60/254 [00:17<00:56,  3.44it/s, loss=0.0135]"
     ]
    },
    {
     "name": "stderr",
     "output_type": "stream",
     "text": [
      "\r",
      "Training:  24%|███████████▎                                   | 61/254 [00:17<00:56,  3.43it/s, loss=0.0135]"
     ]
    },
    {
     "name": "stderr",
     "output_type": "stream",
     "text": [
      "\r",
      "Training:  24%|███████████▎                                   | 61/254 [00:18<00:56,  3.43it/s, loss=0.0091]"
     ]
    },
    {
     "name": "stderr",
     "output_type": "stream",
     "text": [
      "\r",
      "Training:  24%|███████████▍                                   | 62/254 [00:18<00:56,  3.42it/s, loss=0.0091]"
     ]
    },
    {
     "name": "stderr",
     "output_type": "stream",
     "text": [
      "\r",
      "Training:  24%|███████████▍                                   | 62/254 [00:18<00:56,  3.42it/s, loss=0.0121]"
     ]
    },
    {
     "name": "stderr",
     "output_type": "stream",
     "text": [
      "\r",
      "Training:  25%|███████████▋                                   | 63/254 [00:18<00:55,  3.41it/s, loss=0.0121]"
     ]
    },
    {
     "name": "stderr",
     "output_type": "stream",
     "text": [
      "\r",
      "Training:  25%|███████████▋                                   | 63/254 [00:18<00:55,  3.41it/s, loss=0.1037]"
     ]
    },
    {
     "name": "stderr",
     "output_type": "stream",
     "text": [
      "\r",
      "Training:  25%|███████████▊                                   | 64/254 [00:18<00:55,  3.41it/s, loss=0.1037]"
     ]
    },
    {
     "name": "stderr",
     "output_type": "stream",
     "text": [
      "\r",
      "Training:  25%|███████████▊                                   | 64/254 [00:19<00:55,  3.41it/s, loss=0.0135]"
     ]
    },
    {
     "name": "stderr",
     "output_type": "stream",
     "text": [
      "\r",
      "Training:  26%|████████████                                   | 65/254 [00:19<00:55,  3.40it/s, loss=0.0135]"
     ]
    },
    {
     "name": "stderr",
     "output_type": "stream",
     "text": [
      "\r",
      "Training:  26%|████████████                                   | 65/254 [00:19<00:55,  3.40it/s, loss=0.0379]"
     ]
    },
    {
     "name": "stderr",
     "output_type": "stream",
     "text": [
      "\r",
      "Training:  26%|████████████▏                                  | 66/254 [00:19<00:55,  3.40it/s, loss=0.0379]"
     ]
    },
    {
     "name": "stderr",
     "output_type": "stream",
     "text": [
      "\r",
      "Training:  26%|████████████▏                                  | 66/254 [00:19<00:55,  3.40it/s, loss=0.0697]"
     ]
    },
    {
     "name": "stderr",
     "output_type": "stream",
     "text": [
      "\r",
      "Training:  26%|████████████▍                                  | 67/254 [00:19<00:54,  3.40it/s, loss=0.0697]"
     ]
    },
    {
     "name": "stderr",
     "output_type": "stream",
     "text": [
      "\r",
      "Training:  26%|████████████▍                                  | 67/254 [00:19<00:54,  3.40it/s, loss=0.0179]"
     ]
    },
    {
     "name": "stderr",
     "output_type": "stream",
     "text": [
      "\r",
      "Training:  27%|████████████▌                                  | 68/254 [00:19<00:54,  3.41it/s, loss=0.0179]"
     ]
    },
    {
     "name": "stderr",
     "output_type": "stream",
     "text": [
      "\r",
      "Training:  27%|████████████▌                                  | 68/254 [00:20<00:54,  3.41it/s, loss=0.0091]"
     ]
    },
    {
     "name": "stderr",
     "output_type": "stream",
     "text": [
      "\r",
      "Training:  27%|████████████▊                                  | 69/254 [00:20<00:54,  3.40it/s, loss=0.0091]"
     ]
    },
    {
     "name": "stderr",
     "output_type": "stream",
     "text": [
      "\r",
      "Training:  27%|████████████▊                                  | 69/254 [00:20<00:54,  3.40it/s, loss=0.0144]"
     ]
    },
    {
     "name": "stderr",
     "output_type": "stream",
     "text": [
      "\r",
      "Training:  28%|████████████▉                                  | 70/254 [00:20<00:54,  3.40it/s, loss=0.0144]"
     ]
    },
    {
     "name": "stderr",
     "output_type": "stream",
     "text": [
      "\r",
      "Training:  28%|████████████▉                                  | 70/254 [00:20<00:54,  3.40it/s, loss=0.0036]"
     ]
    },
    {
     "name": "stderr",
     "output_type": "stream",
     "text": [
      "\r",
      "Training:  28%|█████████████▏                                 | 71/254 [00:20<00:53,  3.40it/s, loss=0.0036]"
     ]
    },
    {
     "name": "stderr",
     "output_type": "stream",
     "text": [
      "\r",
      "Training:  28%|█████████████▏                                 | 71/254 [00:21<00:53,  3.40it/s, loss=0.0037]"
     ]
    },
    {
     "name": "stderr",
     "output_type": "stream",
     "text": [
      "\r",
      "Training:  28%|█████████████▎                                 | 72/254 [00:21<00:53,  3.40it/s, loss=0.0037]"
     ]
    },
    {
     "name": "stderr",
     "output_type": "stream",
     "text": [
      "\r",
      "Training:  28%|█████████████▎                                 | 72/254 [00:21<00:53,  3.40it/s, loss=0.0125]"
     ]
    },
    {
     "name": "stderr",
     "output_type": "stream",
     "text": [
      "\r",
      "Training:  29%|█████████████▌                                 | 73/254 [00:21<00:53,  3.39it/s, loss=0.0125]"
     ]
    },
    {
     "name": "stderr",
     "output_type": "stream",
     "text": [
      "\r",
      "Training:  29%|█████████████▌                                 | 73/254 [00:21<00:53,  3.39it/s, loss=0.0197]"
     ]
    },
    {
     "name": "stderr",
     "output_type": "stream",
     "text": [
      "\r",
      "Training:  29%|█████████████▋                                 | 74/254 [00:21<00:53,  3.39it/s, loss=0.0197]"
     ]
    },
    {
     "name": "stderr",
     "output_type": "stream",
     "text": [
      "\r",
      "Training:  29%|█████████████▋                                 | 74/254 [00:22<00:53,  3.39it/s, loss=0.0089]"
     ]
    },
    {
     "name": "stderr",
     "output_type": "stream",
     "text": [
      "\r",
      "Training:  30%|█████████████▉                                 | 75/254 [00:22<00:52,  3.40it/s, loss=0.0089]"
     ]
    },
    {
     "name": "stderr",
     "output_type": "stream",
     "text": [
      "\r",
      "Training:  30%|█████████████▉                                 | 75/254 [00:22<00:52,  3.40it/s, loss=0.0387]"
     ]
    },
    {
     "name": "stderr",
     "output_type": "stream",
     "text": [
      "\r",
      "Training:  30%|██████████████                                 | 76/254 [00:22<00:52,  3.39it/s, loss=0.0387]"
     ]
    },
    {
     "name": "stderr",
     "output_type": "stream",
     "text": [
      "\r",
      "Training:  30%|██████████████                                 | 76/254 [00:22<00:52,  3.39it/s, loss=0.0964]"
     ]
    },
    {
     "name": "stderr",
     "output_type": "stream",
     "text": [
      "\r",
      "Training:  30%|██████████████▏                                | 77/254 [00:22<00:52,  3.40it/s, loss=0.0964]"
     ]
    },
    {
     "name": "stderr",
     "output_type": "stream",
     "text": [
      "\r",
      "Training:  30%|██████████████▏                                | 77/254 [00:22<00:52,  3.40it/s, loss=0.0035]"
     ]
    },
    {
     "name": "stderr",
     "output_type": "stream",
     "text": [
      "\r",
      "Training:  31%|██████████████▍                                | 78/254 [00:22<00:51,  3.40it/s, loss=0.0035]"
     ]
    },
    {
     "name": "stderr",
     "output_type": "stream",
     "text": [
      "\r",
      "Training:  31%|██████████████▍                                | 78/254 [00:23<00:51,  3.40it/s, loss=0.0078]"
     ]
    },
    {
     "name": "stderr",
     "output_type": "stream",
     "text": [
      "\r",
      "Training:  31%|██████████████▌                                | 79/254 [00:23<00:51,  3.40it/s, loss=0.0078]"
     ]
    },
    {
     "name": "stderr",
     "output_type": "stream",
     "text": [
      "\r",
      "Training:  31%|██████████████▌                                | 79/254 [00:23<00:51,  3.40it/s, loss=0.0881]"
     ]
    },
    {
     "name": "stderr",
     "output_type": "stream",
     "text": [
      "\r",
      "Training:  31%|██████████████▊                                | 80/254 [00:23<00:51,  3.40it/s, loss=0.0881]"
     ]
    },
    {
     "name": "stderr",
     "output_type": "stream",
     "text": [
      "\r",
      "Training:  31%|██████████████▊                                | 80/254 [00:23<00:51,  3.40it/s, loss=0.0027]"
     ]
    },
    {
     "name": "stderr",
     "output_type": "stream",
     "text": [
      "\r",
      "Training:  32%|██████████████▉                                | 81/254 [00:23<00:50,  3.40it/s, loss=0.0027]"
     ]
    },
    {
     "name": "stderr",
     "output_type": "stream",
     "text": [
      "\r",
      "Training:  32%|██████████████▉                                | 81/254 [00:24<00:50,  3.40it/s, loss=0.0346]"
     ]
    },
    {
     "name": "stderr",
     "output_type": "stream",
     "text": [
      "\r",
      "Training:  32%|███████████████▏                               | 82/254 [00:24<00:50,  3.41it/s, loss=0.0346]"
     ]
    },
    {
     "name": "stderr",
     "output_type": "stream",
     "text": [
      "\r",
      "Training:  32%|███████████████▏                               | 82/254 [00:24<00:50,  3.41it/s, loss=0.0029]"
     ]
    },
    {
     "name": "stderr",
     "output_type": "stream",
     "text": [
      "\r",
      "Training:  33%|███████████████▎                               | 83/254 [00:24<00:50,  3.42it/s, loss=0.0029]"
     ]
    },
    {
     "name": "stderr",
     "output_type": "stream",
     "text": [
      "\r",
      "Training:  33%|███████████████▎                               | 83/254 [00:24<00:50,  3.42it/s, loss=0.2615]"
     ]
    },
    {
     "name": "stderr",
     "output_type": "stream",
     "text": [
      "\r",
      "Training:  33%|███████████████▌                               | 84/254 [00:24<00:49,  3.43it/s, loss=0.2615]"
     ]
    },
    {
     "name": "stderr",
     "output_type": "stream",
     "text": [
      "\r",
      "Training:  33%|███████████████▌                               | 84/254 [00:24<00:49,  3.43it/s, loss=0.0065]"
     ]
    },
    {
     "name": "stderr",
     "output_type": "stream",
     "text": [
      "\r",
      "Training:  33%|███████████████▋                               | 85/254 [00:24<00:49,  3.43it/s, loss=0.0065]"
     ]
    },
    {
     "name": "stderr",
     "output_type": "stream",
     "text": [
      "\r",
      "Training:  33%|███████████████▋                               | 85/254 [00:25<00:49,  3.43it/s, loss=0.0463]"
     ]
    },
    {
     "name": "stderr",
     "output_type": "stream",
     "text": [
      "\r",
      "Training:  34%|███████████████▉                               | 86/254 [00:25<00:48,  3.44it/s, loss=0.0463]"
     ]
    },
    {
     "name": "stderr",
     "output_type": "stream",
     "text": [
      "\r",
      "Training:  34%|███████████████▉                               | 86/254 [00:25<00:48,  3.44it/s, loss=0.0179]"
     ]
    },
    {
     "name": "stderr",
     "output_type": "stream",
     "text": [
      "\r",
      "Training:  34%|████████████████                               | 87/254 [00:25<00:48,  3.43it/s, loss=0.0179]"
     ]
    },
    {
     "name": "stderr",
     "output_type": "stream",
     "text": [
      "\r",
      "Training:  34%|████████████████                               | 87/254 [00:25<00:48,  3.43it/s, loss=0.0038]"
     ]
    },
    {
     "name": "stderr",
     "output_type": "stream",
     "text": [
      "\r",
      "Training:  35%|████████████████▎                              | 88/254 [00:25<00:48,  3.44it/s, loss=0.0038]"
     ]
    },
    {
     "name": "stderr",
     "output_type": "stream",
     "text": [
      "\r",
      "Training:  35%|████████████████▎                              | 88/254 [00:26<00:48,  3.44it/s, loss=0.0113]"
     ]
    },
    {
     "name": "stderr",
     "output_type": "stream",
     "text": [
      "\r",
      "Training:  35%|████████████████▍                              | 89/254 [00:26<00:47,  3.44it/s, loss=0.0113]"
     ]
    },
    {
     "name": "stderr",
     "output_type": "stream",
     "text": [
      "\r",
      "Training:  35%|████████████████▍                              | 89/254 [00:26<00:47,  3.44it/s, loss=0.0246]"
     ]
    },
    {
     "name": "stderr",
     "output_type": "stream",
     "text": [
      "\r",
      "Training:  35%|████████████████▋                              | 90/254 [00:26<00:47,  3.45it/s, loss=0.0246]"
     ]
    },
    {
     "name": "stderr",
     "output_type": "stream",
     "text": [
      "\r",
      "Training:  35%|████████████████▋                              | 90/254 [00:26<00:47,  3.45it/s, loss=0.0221]"
     ]
    },
    {
     "name": "stderr",
     "output_type": "stream",
     "text": [
      "\r",
      "Training:  36%|████████████████▊                              | 91/254 [00:26<00:47,  3.44it/s, loss=0.0221]"
     ]
    },
    {
     "name": "stderr",
     "output_type": "stream",
     "text": [
      "\r",
      "Training:  36%|████████████████▊                              | 91/254 [00:26<00:47,  3.44it/s, loss=0.0241]"
     ]
    },
    {
     "name": "stderr",
     "output_type": "stream",
     "text": [
      "\r",
      "Training:  36%|█████████████████                              | 92/254 [00:26<00:47,  3.44it/s, loss=0.0241]"
     ]
    },
    {
     "name": "stderr",
     "output_type": "stream",
     "text": [
      "\r",
      "Training:  36%|█████████████████                              | 92/254 [00:27<00:47,  3.44it/s, loss=0.0659]"
     ]
    },
    {
     "name": "stderr",
     "output_type": "stream",
     "text": [
      "\r",
      "Training:  37%|█████████████████▏                             | 93/254 [00:27<00:46,  3.45it/s, loss=0.0659]"
     ]
    },
    {
     "name": "stderr",
     "output_type": "stream",
     "text": [
      "\r",
      "Training:  37%|█████████████████▏                             | 93/254 [00:27<00:46,  3.45it/s, loss=0.0079]"
     ]
    },
    {
     "name": "stderr",
     "output_type": "stream",
     "text": [
      "\r",
      "Training:  37%|█████████████████▍                             | 94/254 [00:27<00:46,  3.44it/s, loss=0.0079]"
     ]
    },
    {
     "name": "stderr",
     "output_type": "stream",
     "text": [
      "\r",
      "Training:  37%|█████████████████▍                             | 94/254 [00:27<00:46,  3.44it/s, loss=0.0713]"
     ]
    },
    {
     "name": "stderr",
     "output_type": "stream",
     "text": [
      "\r",
      "Training:  37%|█████████████████▌                             | 95/254 [00:27<00:46,  3.45it/s, loss=0.0713]"
     ]
    },
    {
     "name": "stderr",
     "output_type": "stream",
     "text": [
      "\r",
      "Training:  37%|█████████████████▌                             | 95/254 [00:28<00:46,  3.45it/s, loss=0.0025]"
     ]
    },
    {
     "name": "stderr",
     "output_type": "stream",
     "text": [
      "\r",
      "Training:  38%|█████████████████▊                             | 96/254 [00:28<00:45,  3.45it/s, loss=0.0025]"
     ]
    },
    {
     "name": "stderr",
     "output_type": "stream",
     "text": [
      "\r",
      "Training:  38%|█████████████████▊                             | 96/254 [00:28<00:45,  3.45it/s, loss=0.1094]"
     ]
    },
    {
     "name": "stderr",
     "output_type": "stream",
     "text": [
      "\r",
      "Training:  38%|█████████████████▉                             | 97/254 [00:28<00:45,  3.45it/s, loss=0.1094]"
     ]
    },
    {
     "name": "stderr",
     "output_type": "stream",
     "text": [
      "\r",
      "Training:  38%|█████████████████▉                             | 97/254 [00:28<00:45,  3.45it/s, loss=0.0089]"
     ]
    },
    {
     "name": "stderr",
     "output_type": "stream",
     "text": [
      "\r",
      "Training:  39%|██████████████████▏                            | 98/254 [00:28<00:45,  3.45it/s, loss=0.0089]"
     ]
    },
    {
     "name": "stderr",
     "output_type": "stream",
     "text": [
      "\r",
      "Training:  39%|██████████████████▏                            | 98/254 [00:28<00:45,  3.45it/s, loss=0.0054]"
     ]
    },
    {
     "name": "stderr",
     "output_type": "stream",
     "text": [
      "\r",
      "Training:  39%|██████████████████▎                            | 99/254 [00:28<00:44,  3.45it/s, loss=0.0054]"
     ]
    },
    {
     "name": "stderr",
     "output_type": "stream",
     "text": [
      "\r",
      "Training:  39%|██████████████████▎                            | 99/254 [00:29<00:44,  3.45it/s, loss=0.1020]"
     ]
    },
    {
     "name": "stderr",
     "output_type": "stream",
     "text": [
      "\r",
      "Training:  39%|██████████████████                            | 100/254 [00:29<00:44,  3.45it/s, loss=0.1020]"
     ]
    },
    {
     "name": "stderr",
     "output_type": "stream",
     "text": [
      "\r",
      "Training:  39%|██████████████████                            | 100/254 [00:29<00:44,  3.45it/s, loss=0.1301]"
     ]
    },
    {
     "name": "stderr",
     "output_type": "stream",
     "text": [
      "\r",
      "Training:  40%|██████████████████▎                           | 101/254 [00:29<00:44,  3.44it/s, loss=0.1301]"
     ]
    },
    {
     "name": "stderr",
     "output_type": "stream",
     "text": [
      "\r",
      "Training:  40%|██████████████████▎                           | 101/254 [00:29<00:44,  3.44it/s, loss=0.0077]"
     ]
    },
    {
     "name": "stderr",
     "output_type": "stream",
     "text": [
      "\r",
      "Training:  40%|██████████████████▍                           | 102/254 [00:29<00:44,  3.44it/s, loss=0.0077]"
     ]
    },
    {
     "name": "stderr",
     "output_type": "stream",
     "text": [
      "\r",
      "Training:  40%|██████████████████▍                           | 102/254 [00:30<00:44,  3.44it/s, loss=0.0530]"
     ]
    },
    {
     "name": "stderr",
     "output_type": "stream",
     "text": [
      "\r",
      "Training:  41%|██████████████████▋                           | 103/254 [00:30<00:43,  3.45it/s, loss=0.0530]"
     ]
    },
    {
     "name": "stderr",
     "output_type": "stream",
     "text": [
      "\r",
      "Training:  41%|██████████████████▋                           | 103/254 [00:30<00:43,  3.45it/s, loss=0.0261]"
     ]
    },
    {
     "name": "stderr",
     "output_type": "stream",
     "text": [
      "\r",
      "Training:  41%|██████████████████▊                           | 104/254 [00:30<00:43,  3.44it/s, loss=0.0261]"
     ]
    },
    {
     "name": "stderr",
     "output_type": "stream",
     "text": [
      "\r",
      "Training:  41%|██████████████████▊                           | 104/254 [00:30<00:43,  3.44it/s, loss=0.0403]"
     ]
    },
    {
     "name": "stderr",
     "output_type": "stream",
     "text": [
      "\r",
      "Training:  41%|███████████████████                           | 105/254 [00:30<00:43,  3.44it/s, loss=0.0403]"
     ]
    },
    {
     "name": "stderr",
     "output_type": "stream",
     "text": [
      "\r",
      "Training:  41%|███████████████████                           | 105/254 [00:31<00:43,  3.44it/s, loss=0.0595]"
     ]
    },
    {
     "name": "stderr",
     "output_type": "stream",
     "text": [
      "\r",
      "Training:  42%|███████████████████▏                          | 106/254 [00:31<00:43,  3.44it/s, loss=0.0595]"
     ]
    },
    {
     "name": "stderr",
     "output_type": "stream",
     "text": [
      "\r",
      "Training:  42%|███████████████████▏                          | 106/254 [00:30<00:43,  3.44it/s, loss=0.1468]"
     ]
    },
    {
     "name": "stderr",
     "output_type": "stream",
     "text": [
      "\r",
      "Training:  42%|███████████████████▏                          | 106/254 [00:30<00:43,  3.44it/s, loss=0.2694]"
     ]
    },
    {
     "name": "stderr",
     "output_type": "stream",
     "text": [
      "\r",
      "Training:  42%|███████████████████▏                          | 106/254 [00:30<00:43,  3.44it/s, loss=0.0045]"
     ]
    },
    {
     "name": "stderr",
     "output_type": "stream",
     "text": [
      "\r",
      "Training:  42%|███████████████████▏                          | 106/254 [00:31<00:43,  3.44it/s, loss=0.0061]"
     ]
    },
    {
     "name": "stderr",
     "output_type": "stream",
     "text": [
      "\r",
      "Training:  43%|███████████████████▉                          | 110/254 [00:31<00:20,  7.03it/s, loss=0.0061]"
     ]
    },
    {
     "name": "stderr",
     "output_type": "stream",
     "text": [
      "\r",
      "Training:  43%|███████████████████▉                          | 110/254 [00:31<00:20,  7.03it/s, loss=0.0434]"
     ]
    },
    {
     "name": "stderr",
     "output_type": "stream",
     "text": [
      "\r",
      "Training:  44%|████████████████████                          | 111/254 [00:31<00:24,  5.91it/s, loss=0.0434]"
     ]
    },
    {
     "name": "stderr",
     "output_type": "stream",
     "text": [
      "\r",
      "Training:  44%|████████████████████                          | 111/254 [00:31<00:24,  5.91it/s, loss=0.0126]"
     ]
    },
    {
     "name": "stderr",
     "output_type": "stream",
     "text": [
      "\r",
      "Training:  44%|████████████████████▎                         | 112/254 [00:31<00:27,  5.14it/s, loss=0.0126]"
     ]
    },
    {
     "name": "stderr",
     "output_type": "stream",
     "text": [
      "\r",
      "Training:  44%|████████████████████▎                         | 112/254 [00:32<00:27,  5.14it/s, loss=0.0117]"
     ]
    },
    {
     "name": "stderr",
     "output_type": "stream",
     "text": [
      "\r",
      "Training:  44%|████████████████████▍                         | 113/254 [00:32<00:30,  4.62it/s, loss=0.0117]"
     ]
    },
    {
     "name": "stderr",
     "output_type": "stream",
     "text": [
      "\r",
      "Training:  44%|████████████████████▍                         | 113/254 [00:32<00:30,  4.62it/s, loss=0.0111]"
     ]
    },
    {
     "name": "stderr",
     "output_type": "stream",
     "text": [
      "\r",
      "Training:  45%|████████████████████▋                         | 114/254 [00:32<00:32,  4.26it/s, loss=0.0111]"
     ]
    },
    {
     "name": "stderr",
     "output_type": "stream",
     "text": [
      "\r",
      "Training:  45%|████████████████████▋                         | 114/254 [00:32<00:32,  4.26it/s, loss=0.0109]"
     ]
    },
    {
     "name": "stderr",
     "output_type": "stream",
     "text": [
      "\r",
      "Training:  45%|████████████████████▊                         | 115/254 [00:32<00:34,  4.01it/s, loss=0.0109]"
     ]
    },
    {
     "name": "stderr",
     "output_type": "stream",
     "text": [
      "\r",
      "Training:  45%|████████████████████▊                         | 115/254 [00:32<00:34,  4.01it/s, loss=0.0209]"
     ]
    },
    {
     "name": "stderr",
     "output_type": "stream",
     "text": [
      "\r",
      "Training:  46%|█████████████████████                         | 116/254 [00:32<00:35,  3.84it/s, loss=0.0209]"
     ]
    },
    {
     "name": "stderr",
     "output_type": "stream",
     "text": [
      "\r",
      "Training:  46%|█████████████████████                         | 116/254 [00:33<00:35,  3.84it/s, loss=0.0231]"
     ]
    },
    {
     "name": "stderr",
     "output_type": "stream",
     "text": [
      "\r",
      "Training:  46%|█████████████████████▏                        | 117/254 [00:33<00:36,  3.72it/s, loss=0.0231]"
     ]
    },
    {
     "name": "stderr",
     "output_type": "stream",
     "text": [
      "\r",
      "Training:  46%|█████████████████████▏                        | 117/254 [00:33<00:36,  3.72it/s, loss=0.0224]"
     ]
    },
    {
     "name": "stderr",
     "output_type": "stream",
     "text": [
      "\r",
      "Training:  46%|█████████████████████▎                        | 118/254 [00:33<00:37,  3.64it/s, loss=0.0224]"
     ]
    },
    {
     "name": "stderr",
     "output_type": "stream",
     "text": [
      "\r",
      "Training:  46%|█████████████████████▎                        | 118/254 [00:33<00:37,  3.64it/s, loss=0.0279]"
     ]
    },
    {
     "name": "stderr",
     "output_type": "stream",
     "text": [
      "\r",
      "Training:  47%|█████████████████████▌                        | 119/254 [00:33<00:37,  3.58it/s, loss=0.0279]"
     ]
    },
    {
     "name": "stderr",
     "output_type": "stream",
     "text": [
      "\r",
      "Training:  47%|█████████████████████▌                        | 119/254 [00:34<00:37,  3.58it/s, loss=0.1155]"
     ]
    },
    {
     "name": "stderr",
     "output_type": "stream",
     "text": [
      "\r",
      "Training:  47%|█████████████████████▋                        | 120/254 [00:34<00:37,  3.54it/s, loss=0.1155]"
     ]
    },
    {
     "name": "stderr",
     "output_type": "stream",
     "text": [
      "\r",
      "Training:  47%|█████████████████████▋                        | 120/254 [00:34<00:37,  3.54it/s, loss=0.0082]"
     ]
    },
    {
     "name": "stderr",
     "output_type": "stream",
     "text": [
      "\r",
      "Training:  48%|█████████████████████▉                        | 121/254 [00:34<00:37,  3.51it/s, loss=0.0082]"
     ]
    },
    {
     "name": "stderr",
     "output_type": "stream",
     "text": [
      "\r",
      "Training:  48%|█████████████████████▉                        | 121/254 [00:34<00:37,  3.51it/s, loss=0.0140]"
     ]
    },
    {
     "name": "stderr",
     "output_type": "stream",
     "text": [
      "\r",
      "Training:  48%|██████████████████████                        | 122/254 [00:34<00:37,  3.49it/s, loss=0.0140]"
     ]
    },
    {
     "name": "stderr",
     "output_type": "stream",
     "text": [
      "\r",
      "Training:  48%|██████████████████████                        | 122/254 [00:35<00:37,  3.49it/s, loss=0.0025]"
     ]
    },
    {
     "name": "stderr",
     "output_type": "stream",
     "text": [
      "\r",
      "Training:  48%|██████████████████████▎                       | 123/254 [00:35<00:37,  3.48it/s, loss=0.0025]"
     ]
    },
    {
     "name": "stderr",
     "output_type": "stream",
     "text": [
      "\r",
      "Training:  48%|██████████████████████▎                       | 123/254 [00:35<00:37,  3.48it/s, loss=0.0067]"
     ]
    },
    {
     "name": "stderr",
     "output_type": "stream",
     "text": [
      "\r",
      "Training:  49%|██████████████████████▍                       | 124/254 [00:35<00:37,  3.47it/s, loss=0.0067]"
     ]
    },
    {
     "name": "stderr",
     "output_type": "stream",
     "text": [
      "\r",
      "Training:  49%|██████████████████████▍                       | 124/254 [00:35<00:37,  3.47it/s, loss=0.0210]"
     ]
    },
    {
     "name": "stderr",
     "output_type": "stream",
     "text": [
      "\r",
      "Training:  49%|██████████████████████▋                       | 125/254 [00:35<00:37,  3.46it/s, loss=0.0210]"
     ]
    },
    {
     "name": "stderr",
     "output_type": "stream",
     "text": [
      "\r",
      "Training:  49%|██████████████████████▋                       | 125/254 [00:35<00:37,  3.46it/s, loss=0.0056]"
     ]
    },
    {
     "name": "stderr",
     "output_type": "stream",
     "text": [
      "\r",
      "Training:  50%|██████████████████████▊                       | 126/254 [00:35<00:37,  3.45it/s, loss=0.0056]"
     ]
    },
    {
     "name": "stderr",
     "output_type": "stream",
     "text": [
      "\r",
      "Training:  50%|██████████████████████▊                       | 126/254 [00:36<00:37,  3.45it/s, loss=0.0455]"
     ]
    },
    {
     "name": "stderr",
     "output_type": "stream",
     "text": [
      "\r",
      "Training:  50%|███████████████████████                       | 127/254 [00:36<00:36,  3.45it/s, loss=0.0455]"
     ]
    },
    {
     "name": "stderr",
     "output_type": "stream",
     "text": [
      "\r",
      "Training:  50%|███████████████████████                       | 127/254 [00:36<00:36,  3.45it/s, loss=0.0045]"
     ]
    },
    {
     "name": "stderr",
     "output_type": "stream",
     "text": [
      "\r",
      "Training:  50%|███████████████████████▏                      | 128/254 [00:36<00:36,  3.45it/s, loss=0.0045]"
     ]
    },
    {
     "name": "stderr",
     "output_type": "stream",
     "text": [
      "\r",
      "Training:  50%|███████████████████████▏                      | 128/254 [00:36<00:36,  3.45it/s, loss=0.1368]"
     ]
    },
    {
     "name": "stderr",
     "output_type": "stream",
     "text": [
      "\r",
      "Training:  51%|███████████████████████▎                      | 129/254 [00:36<00:36,  3.45it/s, loss=0.1368]"
     ]
    },
    {
     "name": "stderr",
     "output_type": "stream",
     "text": [
      "\r",
      "Training:  51%|███████████████████████▎                      | 129/254 [00:37<00:36,  3.45it/s, loss=0.0166]"
     ]
    },
    {
     "name": "stderr",
     "output_type": "stream",
     "text": [
      "\r",
      "Training:  51%|███████████████████████▌                      | 130/254 [00:37<00:35,  3.45it/s, loss=0.0166]"
     ]
    },
    {
     "name": "stderr",
     "output_type": "stream",
     "text": [
      "\r",
      "Training:  51%|███████████████████████▌                      | 130/254 [00:37<00:35,  3.45it/s, loss=0.0466]"
     ]
    },
    {
     "name": "stderr",
     "output_type": "stream",
     "text": [
      "\r",
      "Training:  52%|███████████████████████▋                      | 131/254 [00:37<00:35,  3.45it/s, loss=0.0466]"
     ]
    },
    {
     "name": "stderr",
     "output_type": "stream",
     "text": [
      "\r",
      "Training:  52%|███████████████████████▋                      | 131/254 [00:37<00:35,  3.45it/s, loss=0.0050]"
     ]
    },
    {
     "name": "stderr",
     "output_type": "stream",
     "text": [
      "\r",
      "Training:  52%|███████████████████████▉                      | 132/254 [00:37<00:35,  3.45it/s, loss=0.0050]"
     ]
    },
    {
     "name": "stderr",
     "output_type": "stream",
     "text": [
      "\r",
      "Training:  52%|███████████████████████▉                      | 132/254 [00:37<00:35,  3.45it/s, loss=0.0026]"
     ]
    },
    {
     "name": "stderr",
     "output_type": "stream",
     "text": [
      "\r",
      "Training:  52%|████████████████████████                      | 133/254 [00:37<00:35,  3.45it/s, loss=0.0026]"
     ]
    },
    {
     "name": "stderr",
     "output_type": "stream",
     "text": [
      "\r",
      "Training:  52%|████████████████████████                      | 133/254 [00:38<00:35,  3.45it/s, loss=0.0023]"
     ]
    },
    {
     "name": "stderr",
     "output_type": "stream",
     "text": [
      "\r",
      "Training:  53%|████████████████████████▎                     | 134/254 [00:38<00:34,  3.45it/s, loss=0.0023]"
     ]
    },
    {
     "name": "stderr",
     "output_type": "stream",
     "text": [
      "\r",
      "Training:  53%|████████████████████████▎                     | 134/254 [00:38<00:34,  3.45it/s, loss=0.0047]"
     ]
    },
    {
     "name": "stderr",
     "output_type": "stream",
     "text": [
      "\r",
      "Training:  53%|████████████████████████▍                     | 135/254 [00:38<00:34,  3.44it/s, loss=0.0047]"
     ]
    },
    {
     "name": "stderr",
     "output_type": "stream",
     "text": [
      "\r",
      "Training:  53%|████████████████████████▍                     | 135/254 [00:38<00:34,  3.44it/s, loss=0.0403]"
     ]
    },
    {
     "name": "stderr",
     "output_type": "stream",
     "text": [
      "\r",
      "Training:  54%|████████████████████████▋                     | 136/254 [00:38<00:34,  3.43it/s, loss=0.0403]"
     ]
    },
    {
     "name": "stderr",
     "output_type": "stream",
     "text": [
      "\r",
      "Training:  54%|████████████████████████▋                     | 136/254 [00:39<00:34,  3.43it/s, loss=0.0067]"
     ]
    },
    {
     "name": "stderr",
     "output_type": "stream",
     "text": [
      "\r",
      "Training:  54%|████████████████████████▊                     | 137/254 [00:39<00:34,  3.43it/s, loss=0.0067]"
     ]
    },
    {
     "name": "stderr",
     "output_type": "stream",
     "text": [
      "\r",
      "Training:  54%|████████████████████████▊                     | 137/254 [00:39<00:34,  3.43it/s, loss=0.0062]"
     ]
    },
    {
     "name": "stderr",
     "output_type": "stream",
     "text": [
      "\r",
      "Training:  54%|████████████████████████▉                     | 138/254 [00:39<00:33,  3.43it/s, loss=0.0062]"
     ]
    },
    {
     "name": "stderr",
     "output_type": "stream",
     "text": [
      "\r",
      "Training:  54%|████████████████████████▉                     | 138/254 [00:39<00:33,  3.43it/s, loss=0.0063]"
     ]
    },
    {
     "name": "stderr",
     "output_type": "stream",
     "text": [
      "\r",
      "Training:  55%|█████████████████████████▏                    | 139/254 [00:39<00:33,  3.44it/s, loss=0.0063]"
     ]
    },
    {
     "name": "stderr",
     "output_type": "stream",
     "text": [
      "\r",
      "Training:  55%|█████████████████████████▏                    | 139/254 [00:39<00:33,  3.44it/s, loss=0.1573]"
     ]
    },
    {
     "name": "stderr",
     "output_type": "stream",
     "text": [
      "\r",
      "Training:  55%|█████████████████████████▎                    | 140/254 [00:39<00:33,  3.44it/s, loss=0.1573]"
     ]
    },
    {
     "name": "stderr",
     "output_type": "stream",
     "text": [
      "\r",
      "Training:  55%|█████████████████████████▎                    | 140/254 [00:40<00:33,  3.44it/s, loss=0.1098]"
     ]
    },
    {
     "name": "stderr",
     "output_type": "stream",
     "text": [
      "\r",
      "Training:  56%|█████████████████████████▌                    | 141/254 [00:40<00:32,  3.44it/s, loss=0.1098]"
     ]
    },
    {
     "name": "stderr",
     "output_type": "stream",
     "text": [
      "\r",
      "Training:  56%|█████████████████████████▌                    | 141/254 [00:40<00:32,  3.44it/s, loss=0.0108]"
     ]
    },
    {
     "name": "stderr",
     "output_type": "stream",
     "text": [
      "\r",
      "Training:  56%|█████████████████████████▋                    | 142/254 [00:40<00:32,  3.44it/s, loss=0.0108]"
     ]
    },
    {
     "name": "stderr",
     "output_type": "stream",
     "text": [
      "\r",
      "Training:  56%|█████████████████████████▋                    | 142/254 [00:40<00:32,  3.44it/s, loss=0.1074]"
     ]
    },
    {
     "name": "stderr",
     "output_type": "stream",
     "text": [
      "\r",
      "Training:  56%|█████████████████████████▉                    | 143/254 [00:40<00:32,  3.44it/s, loss=0.1074]"
     ]
    },
    {
     "name": "stderr",
     "output_type": "stream",
     "text": [
      "\r",
      "Training:  56%|█████████████████████████▉                    | 143/254 [00:41<00:32,  3.44it/s, loss=0.1015]"
     ]
    },
    {
     "name": "stderr",
     "output_type": "stream",
     "text": [
      "\r",
      "Training:  57%|██████████████████████████                    | 144/254 [00:41<00:31,  3.44it/s, loss=0.1015]"
     ]
    },
    {
     "name": "stderr",
     "output_type": "stream",
     "text": [
      "\r",
      "Training:  57%|██████████████████████████                    | 144/254 [00:41<00:31,  3.44it/s, loss=0.0093]"
     ]
    },
    {
     "name": "stderr",
     "output_type": "stream",
     "text": [
      "\r",
      "Training:  57%|██████████████████████████▎                   | 145/254 [00:41<00:31,  3.44it/s, loss=0.0093]"
     ]
    },
    {
     "name": "stderr",
     "output_type": "stream",
     "text": [
      "\r",
      "Training:  57%|██████████████████████████▎                   | 145/254 [00:41<00:31,  3.44it/s, loss=0.0616]"
     ]
    },
    {
     "name": "stderr",
     "output_type": "stream",
     "text": [
      "\r",
      "Training:  57%|██████████████████████████▍                   | 146/254 [00:41<00:31,  3.44it/s, loss=0.0616]"
     ]
    },
    {
     "name": "stderr",
     "output_type": "stream",
     "text": [
      "\r",
      "Training:  57%|██████████████████████████▍                   | 146/254 [00:42<00:31,  3.44it/s, loss=0.0126]"
     ]
    },
    {
     "name": "stderr",
     "output_type": "stream",
     "text": [
      "\r",
      "Training:  58%|██████████████████████████▌                   | 147/254 [00:42<00:31,  3.44it/s, loss=0.0126]"
     ]
    },
    {
     "name": "stderr",
     "output_type": "stream",
     "text": [
      "\r",
      "Training:  58%|██████████████████████████▌                   | 147/254 [00:42<00:31,  3.44it/s, loss=0.0149]"
     ]
    },
    {
     "name": "stderr",
     "output_type": "stream",
     "text": [
      "\r",
      "Training:  58%|██████████████████████████▊                   | 148/254 [00:42<00:30,  3.44it/s, loss=0.0149]"
     ]
    },
    {
     "name": "stderr",
     "output_type": "stream",
     "text": [
      "\r",
      "Training:  58%|██████████████████████████▊                   | 148/254 [00:42<00:30,  3.44it/s, loss=0.0072]"
     ]
    },
    {
     "name": "stderr",
     "output_type": "stream",
     "text": [
      "\r",
      "Training:  59%|██████████████████████████▉                   | 149/254 [00:42<00:30,  3.44it/s, loss=0.0072]"
     ]
    },
    {
     "name": "stderr",
     "output_type": "stream",
     "text": [
      "\r",
      "Training:  59%|██████████████████████████▉                   | 149/254 [00:42<00:30,  3.44it/s, loss=0.0060]"
     ]
    },
    {
     "name": "stderr",
     "output_type": "stream",
     "text": [
      "\r",
      "Training:  59%|███████████████████████████▏                  | 150/254 [00:42<00:30,  3.44it/s, loss=0.0060]"
     ]
    },
    {
     "name": "stderr",
     "output_type": "stream",
     "text": [
      "\r",
      "Training:  59%|███████████████████████████▏                  | 150/254 [00:43<00:30,  3.44it/s, loss=0.0202]"
     ]
    },
    {
     "name": "stderr",
     "output_type": "stream",
     "text": [
      "\r",
      "Training:  59%|███████████████████████████▎                  | 151/254 [00:43<00:29,  3.44it/s, loss=0.0202]"
     ]
    },
    {
     "name": "stderr",
     "output_type": "stream",
     "text": [
      "\r",
      "Training:  59%|███████████████████████████▎                  | 151/254 [00:43<00:29,  3.44it/s, loss=0.1068]"
     ]
    },
    {
     "name": "stderr",
     "output_type": "stream",
     "text": [
      "\r",
      "Training:  60%|███████████████████████████▌                  | 152/254 [00:43<00:29,  3.44it/s, loss=0.1068]"
     ]
    },
    {
     "name": "stderr",
     "output_type": "stream",
     "text": [
      "\r",
      "Training:  60%|███████████████████████████▌                  | 152/254 [00:43<00:29,  3.44it/s, loss=0.0225]"
     ]
    },
    {
     "name": "stderr",
     "output_type": "stream",
     "text": [
      "\r",
      "Training:  60%|███████████████████████████▋                  | 153/254 [00:43<00:29,  3.44it/s, loss=0.0225]"
     ]
    },
    {
     "name": "stderr",
     "output_type": "stream",
     "text": [
      "\r",
      "Training:  60%|███████████████████████████▋                  | 153/254 [00:44<00:29,  3.44it/s, loss=0.0080]"
     ]
    },
    {
     "name": "stderr",
     "output_type": "stream",
     "text": [
      "\r",
      "Training:  61%|███████████████████████████▉                  | 154/254 [00:44<00:29,  3.44it/s, loss=0.0080]"
     ]
    },
    {
     "name": "stderr",
     "output_type": "stream",
     "text": [
      "\r",
      "Training:  61%|███████████████████████████▉                  | 154/254 [00:44<00:29,  3.44it/s, loss=0.0116]"
     ]
    },
    {
     "name": "stderr",
     "output_type": "stream",
     "text": [
      "\r",
      "Training:  61%|████████████████████████████                  | 155/254 [00:44<00:28,  3.44it/s, loss=0.0116]"
     ]
    },
    {
     "name": "stderr",
     "output_type": "stream",
     "text": [
      "\r",
      "Training:  61%|████████████████████████████                  | 155/254 [00:44<00:28,  3.44it/s, loss=0.0400]"
     ]
    },
    {
     "name": "stderr",
     "output_type": "stream",
     "text": [
      "\r",
      "Training:  61%|████████████████████████████▎                 | 156/254 [00:44<00:28,  3.44it/s, loss=0.0400]"
     ]
    },
    {
     "name": "stderr",
     "output_type": "stream",
     "text": [
      "\r",
      "Training:  61%|████████████████████████████▎                 | 156/254 [00:44<00:28,  3.44it/s, loss=0.0138]"
     ]
    },
    {
     "name": "stderr",
     "output_type": "stream",
     "text": [
      "\r",
      "Training:  62%|████████████████████████████▍                 | 157/254 [00:44<00:28,  3.44it/s, loss=0.0138]"
     ]
    },
    {
     "name": "stderr",
     "output_type": "stream",
     "text": [
      "\r",
      "Training:  62%|████████████████████████████▍                 | 157/254 [00:45<00:28,  3.44it/s, loss=0.0056]"
     ]
    },
    {
     "name": "stderr",
     "output_type": "stream",
     "text": [
      "\r",
      "Training:  62%|████████████████████████████▌                 | 158/254 [00:45<00:27,  3.44it/s, loss=0.0056]"
     ]
    },
    {
     "name": "stderr",
     "output_type": "stream",
     "text": [
      "\r",
      "Training:  62%|████████████████████████████▌                 | 158/254 [00:45<00:27,  3.44it/s, loss=0.0311]"
     ]
    },
    {
     "name": "stderr",
     "output_type": "stream",
     "text": [
      "\r",
      "Training:  63%|████████████████████████████▊                 | 159/254 [00:45<00:27,  3.42it/s, loss=0.0311]"
     ]
    },
    {
     "name": "stderr",
     "output_type": "stream",
     "text": [
      "\r",
      "Training:  63%|████████████████████████████▊                 | 159/254 [00:45<00:27,  3.42it/s, loss=0.0023]"
     ]
    },
    {
     "name": "stderr",
     "output_type": "stream",
     "text": [
      "\r",
      "Training:  63%|████████████████████████████▉                 | 160/254 [00:45<00:27,  3.43it/s, loss=0.0023]"
     ]
    },
    {
     "name": "stderr",
     "output_type": "stream",
     "text": [
      "\r",
      "Training:  63%|████████████████████████████▉                 | 160/254 [00:46<00:27,  3.43it/s, loss=0.0026]"
     ]
    },
    {
     "name": "stderr",
     "output_type": "stream",
     "text": [
      "\r",
      "Training:  63%|█████████████████████████████▏                | 161/254 [00:46<00:27,  3.43it/s, loss=0.0026]"
     ]
    },
    {
     "name": "stderr",
     "output_type": "stream",
     "text": [
      "\r",
      "Training:  63%|█████████████████████████████▏                | 161/254 [00:46<00:27,  3.43it/s, loss=0.0304]"
     ]
    },
    {
     "name": "stderr",
     "output_type": "stream",
     "text": [
      "\r",
      "Training:  64%|█████████████████████████████▎                | 162/254 [00:46<00:26,  3.43it/s, loss=0.0304]"
     ]
    },
    {
     "name": "stderr",
     "output_type": "stream",
     "text": [
      "\r",
      "Training:  64%|█████████████████████████████▎                | 162/254 [00:46<00:26,  3.43it/s, loss=0.0038]"
     ]
    },
    {
     "name": "stderr",
     "output_type": "stream",
     "text": [
      "\r",
      "Training:  64%|█████████████████████████████▌                | 163/254 [00:46<00:26,  3.43it/s, loss=0.0038]"
     ]
    },
    {
     "name": "stderr",
     "output_type": "stream",
     "text": [
      "\r",
      "Training:  64%|█████████████████████████████▌                | 163/254 [00:46<00:26,  3.43it/s, loss=0.0058]"
     ]
    },
    {
     "name": "stderr",
     "output_type": "stream",
     "text": [
      "\r",
      "Training:  65%|█████████████████████████████▋                | 164/254 [00:46<00:26,  3.43it/s, loss=0.0058]"
     ]
    },
    {
     "name": "stderr",
     "output_type": "stream",
     "text": [
      "\r",
      "Training:  65%|█████████████████████████████▋                | 164/254 [00:47<00:26,  3.43it/s, loss=0.0025]"
     ]
    },
    {
     "name": "stderr",
     "output_type": "stream",
     "text": [
      "\r",
      "Training:  65%|█████████████████████████████▉                | 165/254 [00:47<00:25,  3.44it/s, loss=0.0025]"
     ]
    },
    {
     "name": "stderr",
     "output_type": "stream",
     "text": [
      "\r",
      "Training:  65%|█████████████████████████████▉                | 165/254 [00:47<00:25,  3.44it/s, loss=0.0023]"
     ]
    },
    {
     "name": "stderr",
     "output_type": "stream",
     "text": [
      "\r",
      "Training:  65%|██████████████████████████████                | 166/254 [00:47<00:25,  3.44it/s, loss=0.0023]"
     ]
    },
    {
     "name": "stderr",
     "output_type": "stream",
     "text": [
      "\r",
      "Training:  65%|██████████████████████████████                | 166/254 [00:47<00:25,  3.44it/s, loss=0.0346]"
     ]
    },
    {
     "name": "stderr",
     "output_type": "stream",
     "text": [
      "\r",
      "Training:  66%|██████████████████████████████▏               | 167/254 [00:47<00:25,  3.44it/s, loss=0.0346]"
     ]
    },
    {
     "name": "stderr",
     "output_type": "stream",
     "text": [
      "\r",
      "Training:  66%|██████████████████████████████▏               | 167/254 [00:48<00:25,  3.44it/s, loss=0.0230]"
     ]
    },
    {
     "name": "stderr",
     "output_type": "stream",
     "text": [
      "\r",
      "Training:  66%|██████████████████████████████▍               | 168/254 [00:48<00:24,  3.45it/s, loss=0.0230]"
     ]
    },
    {
     "name": "stderr",
     "output_type": "stream",
     "text": [
      "\r",
      "Training:  66%|██████████████████████████████▍               | 168/254 [00:48<00:24,  3.45it/s, loss=0.0298]"
     ]
    },
    {
     "name": "stderr",
     "output_type": "stream",
     "text": [
      "\r",
      "Training:  67%|██████████████████████████████▌               | 169/254 [00:48<00:24,  3.44it/s, loss=0.0298]"
     ]
    },
    {
     "name": "stderr",
     "output_type": "stream",
     "text": [
      "\r",
      "Training:  67%|██████████████████████████████▌               | 169/254 [00:48<00:24,  3.44it/s, loss=0.0027]"
     ]
    },
    {
     "name": "stderr",
     "output_type": "stream",
     "text": [
      "\r",
      "Training:  67%|██████████████████████████████▊               | 170/254 [00:48<00:24,  3.44it/s, loss=0.0027]"
     ]
    },
    {
     "name": "stderr",
     "output_type": "stream",
     "text": [
      "\r",
      "Training:  67%|██████████████████████████████▊               | 170/254 [00:48<00:24,  3.44it/s, loss=0.0488]"
     ]
    },
    {
     "name": "stderr",
     "output_type": "stream",
     "text": [
      "\r",
      "Training:  67%|██████████████████████████████▉               | 171/254 [00:48<00:24,  3.44it/s, loss=0.0488]"
     ]
    },
    {
     "name": "stderr",
     "output_type": "stream",
     "text": [
      "\r",
      "Training:  67%|██████████████████████████████▉               | 171/254 [00:49<00:24,  3.44it/s, loss=0.0367]"
     ]
    },
    {
     "name": "stderr",
     "output_type": "stream",
     "text": [
      "\r",
      "Training:  68%|███████████████████████████████▏              | 172/254 [00:49<00:23,  3.44it/s, loss=0.0367]"
     ]
    },
    {
     "name": "stderr",
     "output_type": "stream",
     "text": [
      "\r",
      "Training:  68%|███████████████████████████████▏              | 172/254 [00:49<00:23,  3.44it/s, loss=0.0849]"
     ]
    },
    {
     "name": "stderr",
     "output_type": "stream",
     "text": [
      "\r",
      "Training:  68%|███████████████████████████████▎              | 173/254 [00:49<00:23,  3.44it/s, loss=0.0849]"
     ]
    },
    {
     "name": "stderr",
     "output_type": "stream",
     "text": [
      "\r",
      "Training:  68%|███████████████████████████████▎              | 173/254 [00:49<00:23,  3.44it/s, loss=0.0083]"
     ]
    },
    {
     "name": "stderr",
     "output_type": "stream",
     "text": [
      "\r",
      "Training:  69%|███████████████████████████████▌              | 174/254 [00:49<00:23,  3.44it/s, loss=0.0083]"
     ]
    },
    {
     "name": "stderr",
     "output_type": "stream",
     "text": [
      "\r",
      "Training:  69%|███████████████████████████████▌              | 174/254 [00:50<00:23,  3.44it/s, loss=0.0247]"
     ]
    },
    {
     "name": "stderr",
     "output_type": "stream",
     "text": [
      "\r",
      "Training:  69%|███████████████████████████████▋              | 175/254 [00:50<00:22,  3.44it/s, loss=0.0247]"
     ]
    },
    {
     "name": "stderr",
     "output_type": "stream",
     "text": [
      "\r",
      "Training:  69%|███████████████████████████████▋              | 175/254 [00:50<00:22,  3.44it/s, loss=0.0170]"
     ]
    },
    {
     "name": "stderr",
     "output_type": "stream",
     "text": [
      "\r",
      "Training:  69%|███████████████████████████████▊              | 176/254 [00:50<00:22,  3.44it/s, loss=0.0170]"
     ]
    },
    {
     "name": "stderr",
     "output_type": "stream",
     "text": [
      "\r",
      "Training:  69%|███████████████████████████████▊              | 176/254 [00:50<00:22,  3.44it/s, loss=0.0185]"
     ]
    },
    {
     "name": "stderr",
     "output_type": "stream",
     "text": [
      "\r",
      "Training:  70%|████████████████████████████████              | 177/254 [00:50<00:22,  3.44it/s, loss=0.0185]"
     ]
    },
    {
     "name": "stderr",
     "output_type": "stream",
     "text": [
      "\r",
      "Training:  70%|████████████████████████████████              | 177/254 [00:51<00:22,  3.44it/s, loss=0.0132]"
     ]
    },
    {
     "name": "stderr",
     "output_type": "stream",
     "text": [
      "\r",
      "Training:  70%|████████████████████████████████▏             | 178/254 [00:51<00:22,  3.44it/s, loss=0.0132]"
     ]
    },
    {
     "name": "stderr",
     "output_type": "stream",
     "text": [
      "\r",
      "Training:  70%|████████████████████████████████▏             | 178/254 [00:51<00:22,  3.44it/s, loss=0.0043]"
     ]
    },
    {
     "name": "stderr",
     "output_type": "stream",
     "text": [
      "\r",
      "Training:  70%|████████████████████████████████▍             | 179/254 [00:51<00:21,  3.45it/s, loss=0.0043]"
     ]
    },
    {
     "name": "stderr",
     "output_type": "stream",
     "text": [
      "\r",
      "Training:  70%|████████████████████████████████▍             | 179/254 [00:51<00:21,  3.45it/s, loss=0.0035]"
     ]
    },
    {
     "name": "stderr",
     "output_type": "stream",
     "text": [
      "\r",
      "Training:  71%|████████████████████████████████▌             | 180/254 [00:51<00:21,  3.45it/s, loss=0.0035]"
     ]
    },
    {
     "name": "stderr",
     "output_type": "stream",
     "text": [
      "\r",
      "Training:  71%|████████████████████████████████▌             | 180/254 [00:51<00:21,  3.45it/s, loss=0.0392]"
     ]
    },
    {
     "name": "stderr",
     "output_type": "stream",
     "text": [
      "\r",
      "Training:  71%|████████████████████████████████▊             | 181/254 [00:51<00:21,  3.44it/s, loss=0.0392]"
     ]
    },
    {
     "name": "stderr",
     "output_type": "stream",
     "text": [
      "\r",
      "Training:  71%|████████████████████████████████▊             | 181/254 [00:52<00:21,  3.44it/s, loss=0.0030]"
     ]
    },
    {
     "name": "stderr",
     "output_type": "stream",
     "text": [
      "\r",
      "Training:  72%|████████████████████████████████▉             | 182/254 [00:52<00:20,  3.44it/s, loss=0.0030]"
     ]
    },
    {
     "name": "stderr",
     "output_type": "stream",
     "text": [
      "\r",
      "Training:  72%|████████████████████████████████▉             | 182/254 [00:52<00:20,  3.44it/s, loss=0.0016]"
     ]
    },
    {
     "name": "stderr",
     "output_type": "stream",
     "text": [
      "\r",
      "Training:  72%|█████████████████████████████████▏            | 183/254 [00:52<00:20,  3.44it/s, loss=0.0016]"
     ]
    },
    {
     "name": "stderr",
     "output_type": "stream",
     "text": [
      "\r",
      "Training:  72%|█████████████████████████████████▏            | 183/254 [00:52<00:20,  3.44it/s, loss=0.0461]"
     ]
    },
    {
     "name": "stderr",
     "output_type": "stream",
     "text": [
      "\r",
      "Training:  72%|█████████████████████████████████▎            | 184/254 [00:52<00:20,  3.44it/s, loss=0.0461]"
     ]
    },
    {
     "name": "stderr",
     "output_type": "stream",
     "text": [
      "\r",
      "Training:  72%|█████████████████████████████████▎            | 184/254 [00:53<00:20,  3.44it/s, loss=0.0025]"
     ]
    },
    {
     "name": "stderr",
     "output_type": "stream",
     "text": [
      "\r",
      "Training:  73%|█████████████████████████████████▌            | 185/254 [00:53<00:20,  3.45it/s, loss=0.0025]"
     ]
    },
    {
     "name": "stderr",
     "output_type": "stream",
     "text": [
      "\r",
      "Training:  73%|█████████████████████████████████▌            | 185/254 [00:53<00:20,  3.45it/s, loss=0.0011]"
     ]
    },
    {
     "name": "stderr",
     "output_type": "stream",
     "text": [
      "\r",
      "Training:  73%|█████████████████████████████████▋            | 186/254 [00:53<00:19,  3.44it/s, loss=0.0011]"
     ]
    },
    {
     "name": "stderr",
     "output_type": "stream",
     "text": [
      "\r",
      "Training:  73%|█████████████████████████████████▋            | 186/254 [00:53<00:19,  3.44it/s, loss=0.1028]"
     ]
    },
    {
     "name": "stderr",
     "output_type": "stream",
     "text": [
      "\r",
      "Training:  74%|█████████████████████████████████▊            | 187/254 [00:53<00:19,  3.44it/s, loss=0.1028]"
     ]
    },
    {
     "name": "stderr",
     "output_type": "stream",
     "text": [
      "\r",
      "Training:  74%|█████████████████████████████████▊            | 187/254 [00:53<00:19,  3.44it/s, loss=0.0152]"
     ]
    },
    {
     "name": "stderr",
     "output_type": "stream",
     "text": [
      "\r",
      "Training:  74%|██████████████████████████████████            | 188/254 [00:53<00:19,  3.44it/s, loss=0.0152]"
     ]
    },
    {
     "name": "stderr",
     "output_type": "stream",
     "text": [
      "\r",
      "Training:  74%|██████████████████████████████████            | 188/254 [00:54<00:19,  3.44it/s, loss=0.1331]"
     ]
    },
    {
     "name": "stderr",
     "output_type": "stream",
     "text": [
      "\r",
      "Training:  74%|██████████████████████████████████▏           | 189/254 [00:54<00:18,  3.44it/s, loss=0.1331]"
     ]
    },
    {
     "name": "stderr",
     "output_type": "stream",
     "text": [
      "\r",
      "Training:  74%|██████████████████████████████████▏           | 189/254 [00:54<00:18,  3.44it/s, loss=0.0073]"
     ]
    },
    {
     "name": "stderr",
     "output_type": "stream",
     "text": [
      "\r",
      "Training:  75%|██████████████████████████████████▍           | 190/254 [00:54<00:18,  3.44it/s, loss=0.0073]"
     ]
    },
    {
     "name": "stderr",
     "output_type": "stream",
     "text": [
      "\r",
      "Training:  75%|██████████████████████████████████▍           | 190/254 [00:54<00:18,  3.44it/s, loss=0.0366]"
     ]
    },
    {
     "name": "stderr",
     "output_type": "stream",
     "text": [
      "\r",
      "Training:  75%|██████████████████████████████████▌           | 191/254 [00:54<00:18,  3.44it/s, loss=0.0366]"
     ]
    },
    {
     "name": "stderr",
     "output_type": "stream",
     "text": [
      "\r",
      "Training:  75%|██████████████████████████████████▌           | 191/254 [00:55<00:18,  3.44it/s, loss=0.0038]"
     ]
    },
    {
     "name": "stderr",
     "output_type": "stream",
     "text": [
      "\r",
      "Training:  76%|██████████████████████████████████▊           | 192/254 [00:55<00:18,  3.44it/s, loss=0.0038]"
     ]
    },
    {
     "name": "stderr",
     "output_type": "stream",
     "text": [
      "\r",
      "Training:  76%|██████████████████████████████████▊           | 192/254 [00:55<00:18,  3.44it/s, loss=0.0035]"
     ]
    },
    {
     "name": "stderr",
     "output_type": "stream",
     "text": [
      "\r",
      "Training:  76%|██████████████████████████████████▉           | 193/254 [00:55<00:17,  3.44it/s, loss=0.0035]"
     ]
    },
    {
     "name": "stderr",
     "output_type": "stream",
     "text": [
      "\r",
      "Training:  76%|██████████████████████████████████▉           | 193/254 [00:55<00:17,  3.44it/s, loss=0.0765]"
     ]
    },
    {
     "name": "stderr",
     "output_type": "stream",
     "text": [
      "\r",
      "Training:  76%|███████████████████████████████████▏          | 194/254 [00:55<00:17,  3.44it/s, loss=0.0765]"
     ]
    },
    {
     "name": "stderr",
     "output_type": "stream",
     "text": [
      "\r",
      "Training:  76%|███████████████████████████████████▏          | 194/254 [00:55<00:17,  3.44it/s, loss=0.0615]"
     ]
    },
    {
     "name": "stderr",
     "output_type": "stream",
     "text": [
      "\r",
      "Training:  77%|███████████████████████████████████▎          | 195/254 [00:55<00:17,  3.44it/s, loss=0.0615]"
     ]
    },
    {
     "name": "stderr",
     "output_type": "stream",
     "text": [
      "\r",
      "Training:  77%|███████████████████████████████████▎          | 195/254 [00:56<00:17,  3.44it/s, loss=0.1071]"
     ]
    },
    {
     "name": "stderr",
     "output_type": "stream",
     "text": [
      "\r",
      "Training:  77%|███████████████████████████████████▍          | 196/254 [00:56<00:16,  3.44it/s, loss=0.1071]"
     ]
    },
    {
     "name": "stderr",
     "output_type": "stream",
     "text": [
      "\r",
      "Training:  77%|███████████████████████████████████▍          | 196/254 [00:56<00:16,  3.44it/s, loss=0.0157]"
     ]
    },
    {
     "name": "stderr",
     "output_type": "stream",
     "text": [
      "\r",
      "Training:  78%|███████████████████████████████████▋          | 197/254 [00:56<00:16,  3.44it/s, loss=0.0157]"
     ]
    },
    {
     "name": "stderr",
     "output_type": "stream",
     "text": [
      "\r",
      "Training:  78%|███████████████████████████████████▋          | 197/254 [00:56<00:16,  3.44it/s, loss=0.0047]"
     ]
    },
    {
     "name": "stderr",
     "output_type": "stream",
     "text": [
      "\r",
      "Training:  78%|███████████████████████████████████▊          | 198/254 [00:56<00:16,  3.44it/s, loss=0.0047]"
     ]
    },
    {
     "name": "stderr",
     "output_type": "stream",
     "text": [
      "\r",
      "Training:  78%|███████████████████████████████████▊          | 198/254 [00:57<00:16,  3.44it/s, loss=0.0073]"
     ]
    },
    {
     "name": "stderr",
     "output_type": "stream",
     "text": [
      "\r",
      "Training:  78%|████████████████████████████████████          | 199/254 [00:57<00:15,  3.44it/s, loss=0.0073]"
     ]
    },
    {
     "name": "stderr",
     "output_type": "stream",
     "text": [
      "\r",
      "Training:  78%|████████████████████████████████████          | 199/254 [00:57<00:15,  3.44it/s, loss=0.0167]"
     ]
    },
    {
     "name": "stderr",
     "output_type": "stream",
     "text": [
      "\r",
      "Training:  79%|████████████████████████████████████▏         | 200/254 [00:57<00:15,  3.44it/s, loss=0.0167]"
     ]
    },
    {
     "name": "stderr",
     "output_type": "stream",
     "text": [
      "\r",
      "Training:  79%|████████████████████████████████████▏         | 200/254 [00:57<00:15,  3.44it/s, loss=0.0154]"
     ]
    },
    {
     "name": "stderr",
     "output_type": "stream",
     "text": [
      "\r",
      "Training:  79%|████████████████████████████████████▍         | 201/254 [00:57<00:15,  3.44it/s, loss=0.0154]"
     ]
    },
    {
     "name": "stderr",
     "output_type": "stream",
     "text": [
      "\r",
      "Training:  79%|████████████████████████████████████▍         | 201/254 [00:57<00:15,  3.44it/s, loss=0.0082]"
     ]
    },
    {
     "name": "stderr",
     "output_type": "stream",
     "text": [
      "\r",
      "Training:  80%|████████████████████████████████████▌         | 202/254 [00:57<00:15,  3.44it/s, loss=0.0082]"
     ]
    },
    {
     "name": "stderr",
     "output_type": "stream",
     "text": [
      "\r",
      "Training:  80%|████████████████████████████████████▌         | 202/254 [00:58<00:15,  3.44it/s, loss=0.0038]"
     ]
    },
    {
     "name": "stderr",
     "output_type": "stream",
     "text": [
      "\r",
      "Training:  80%|████████████████████████████████████▊         | 203/254 [00:58<00:14,  3.44it/s, loss=0.0038]"
     ]
    },
    {
     "name": "stderr",
     "output_type": "stream",
     "text": [
      "\r",
      "Training:  80%|████████████████████████████████████▊         | 203/254 [00:58<00:14,  3.44it/s, loss=0.0091]"
     ]
    },
    {
     "name": "stderr",
     "output_type": "stream",
     "text": [
      "\r",
      "Training:  80%|████████████████████████████████████▉         | 204/254 [00:58<00:14,  3.44it/s, loss=0.0091]"
     ]
    },
    {
     "name": "stderr",
     "output_type": "stream",
     "text": [
      "\r",
      "Training:  80%|████████████████████████████████████▉         | 204/254 [00:58<00:14,  3.44it/s, loss=0.0099]"
     ]
    },
    {
     "name": "stderr",
     "output_type": "stream",
     "text": [
      "\r",
      "Training:  81%|█████████████████████████████████████▏        | 205/254 [00:58<00:14,  3.44it/s, loss=0.0099]"
     ]
    },
    {
     "name": "stderr",
     "output_type": "stream",
     "text": [
      "\r",
      "Training:  81%|█████████████████████████████████████▏        | 205/254 [00:59<00:14,  3.44it/s, loss=0.0061]"
     ]
    },
    {
     "name": "stderr",
     "output_type": "stream",
     "text": [
      "\r",
      "Training:  81%|█████████████████████████████████████▎        | 206/254 [00:59<00:13,  3.44it/s, loss=0.0061]"
     ]
    },
    {
     "name": "stderr",
     "output_type": "stream",
     "text": [
      "\r",
      "Training:  81%|█████████████████████████████████████▎        | 206/254 [00:59<00:13,  3.44it/s, loss=0.0027]"
     ]
    },
    {
     "name": "stderr",
     "output_type": "stream",
     "text": [
      "\r",
      "Training:  81%|█████████████████████████████████████▍        | 207/254 [00:59<00:13,  3.44it/s, loss=0.0027]"
     ]
    },
    {
     "name": "stderr",
     "output_type": "stream",
     "text": [
      "\r",
      "Training:  81%|█████████████████████████████████████▍        | 207/254 [00:59<00:13,  3.44it/s, loss=0.0032]"
     ]
    },
    {
     "name": "stderr",
     "output_type": "stream",
     "text": [
      "\r",
      "Training:  82%|█████████████████████████████████████▋        | 208/254 [00:59<00:13,  3.44it/s, loss=0.0032]"
     ]
    },
    {
     "name": "stderr",
     "output_type": "stream",
     "text": [
      "\r",
      "Training:  82%|█████████████████████████████████████▋        | 208/254 [01:00<00:13,  3.44it/s, loss=0.0268]"
     ]
    },
    {
     "name": "stderr",
     "output_type": "stream",
     "text": [
      "\r",
      "Training:  82%|█████████████████████████████████████▊        | 209/254 [01:00<00:13,  3.44it/s, loss=0.0268]"
     ]
    },
    {
     "name": "stderr",
     "output_type": "stream",
     "text": [
      "\r",
      "Training:  82%|█████████████████████████████████████▊        | 209/254 [01:00<00:13,  3.44it/s, loss=0.0057]"
     ]
    },
    {
     "name": "stderr",
     "output_type": "stream",
     "text": [
      "\r",
      "Training:  83%|██████████████████████████████████████        | 210/254 [01:00<00:12,  3.43it/s, loss=0.0057]"
     ]
    },
    {
     "name": "stderr",
     "output_type": "stream",
     "text": [
      "\r",
      "Training:  83%|██████████████████████████████████████        | 210/254 [01:00<00:12,  3.43it/s, loss=0.0047]"
     ]
    },
    {
     "name": "stderr",
     "output_type": "stream",
     "text": [
      "\r",
      "Training:  83%|██████████████████████████████████████▏       | 211/254 [01:00<00:12,  3.43it/s, loss=0.0047]"
     ]
    },
    {
     "name": "stderr",
     "output_type": "stream",
     "text": [
      "\r",
      "Training:  83%|██████████████████████████████████████▏       | 211/254 [01:00<00:12,  3.43it/s, loss=0.0624]"
     ]
    },
    {
     "name": "stderr",
     "output_type": "stream",
     "text": [
      "\r",
      "Training:  83%|██████████████████████████████████████▍       | 212/254 [01:00<00:12,  3.43it/s, loss=0.0624]"
     ]
    },
    {
     "name": "stderr",
     "output_type": "stream",
     "text": [
      "\r",
      "Training:  83%|██████████████████████████████████████▍       | 212/254 [01:01<00:12,  3.43it/s, loss=0.0187]"
     ]
    },
    {
     "name": "stderr",
     "output_type": "stream",
     "text": [
      "\r",
      "Training:  84%|██████████████████████████████████████▌       | 213/254 [01:01<00:11,  3.44it/s, loss=0.0187]"
     ]
    },
    {
     "name": "stderr",
     "output_type": "stream",
     "text": [
      "\r",
      "Training:  84%|██████████████████████████████████████▌       | 213/254 [01:01<00:11,  3.44it/s, loss=0.1651]"
     ]
    },
    {
     "name": "stderr",
     "output_type": "stream",
     "text": [
      "\r",
      "Training:  84%|██████████████████████████████████████▊       | 214/254 [01:01<00:11,  3.44it/s, loss=0.1651]"
     ]
    },
    {
     "name": "stderr",
     "output_type": "stream",
     "text": [
      "\r",
      "Training:  84%|██████████████████████████████████████▊       | 214/254 [01:01<00:11,  3.44it/s, loss=0.0352]"
     ]
    },
    {
     "name": "stderr",
     "output_type": "stream",
     "text": [
      "\r",
      "Training:  85%|██████████████████████████████████████▉       | 215/254 [01:01<00:11,  3.45it/s, loss=0.0352]"
     ]
    },
    {
     "name": "stderr",
     "output_type": "stream",
     "text": [
      "\r",
      "Training:  85%|██████████████████████████████████████▉       | 215/254 [01:02<00:11,  3.45it/s, loss=0.0084]"
     ]
    },
    {
     "name": "stderr",
     "output_type": "stream",
     "text": [
      "\r",
      "Training:  85%|███████████████████████████████████████       | 216/254 [01:02<00:11,  3.44it/s, loss=0.0084]"
     ]
    },
    {
     "name": "stderr",
     "output_type": "stream",
     "text": [
      "\r",
      "Training:  85%|███████████████████████████████████████       | 216/254 [01:02<00:11,  3.44it/s, loss=0.0209]"
     ]
    },
    {
     "name": "stderr",
     "output_type": "stream",
     "text": [
      "\r",
      "Training:  85%|███████████████████████████████████████▎      | 217/254 [01:02<00:10,  3.45it/s, loss=0.0209]"
     ]
    },
    {
     "name": "stderr",
     "output_type": "stream",
     "text": [
      "\r",
      "Training:  85%|███████████████████████████████████████▎      | 217/254 [01:01<00:10,  3.45it/s, loss=0.0023]"
     ]
    },
    {
     "name": "stderr",
     "output_type": "stream",
     "text": [
      "\r",
      "Training:  85%|███████████████████████████████████████▎      | 217/254 [01:01<00:10,  3.45it/s, loss=0.0023]"
     ]
    },
    {
     "name": "stderr",
     "output_type": "stream",
     "text": [
      "\r",
      "Training:  85%|███████████████████████████████████████▎      | 217/254 [01:02<00:10,  3.45it/s, loss=0.0552]"
     ]
    },
    {
     "name": "stderr",
     "output_type": "stream",
     "text": [
      "\r",
      "Training:  85%|███████████████████████████████████████▎      | 217/254 [01:02<00:10,  3.45it/s, loss=0.0231]"
     ]
    },
    {
     "name": "stderr",
     "output_type": "stream",
     "text": [
      "\r",
      "Training:  87%|████████████████████████████████████████      | 221/254 [01:02<00:04,  7.14it/s, loss=0.0231]"
     ]
    },
    {
     "name": "stderr",
     "output_type": "stream",
     "text": [
      "\r",
      "Training:  87%|████████████████████████████████████████      | 221/254 [01:02<00:04,  7.14it/s, loss=0.0084]"
     ]
    },
    {
     "name": "stderr",
     "output_type": "stream",
     "text": [
      "\r",
      "Training:  87%|████████████████████████████████████████▏     | 222/254 [01:02<00:05,  5.97it/s, loss=0.0084]"
     ]
    },
    {
     "name": "stderr",
     "output_type": "stream",
     "text": [
      "\r",
      "Training:  87%|████████████████████████████████████████▏     | 222/254 [01:03<00:05,  5.97it/s, loss=0.0165]"
     ]
    },
    {
     "name": "stderr",
     "output_type": "stream",
     "text": [
      "\r",
      "Training:  88%|████████████████████████████████████████▍     | 223/254 [01:03<00:05,  5.18it/s, loss=0.0165]"
     ]
    },
    {
     "name": "stderr",
     "output_type": "stream",
     "text": [
      "\r",
      "Training:  88%|████████████████████████████████████████▍     | 223/254 [01:03<00:05,  5.18it/s, loss=0.0179]"
     ]
    },
    {
     "name": "stderr",
     "output_type": "stream",
     "text": [
      "\r",
      "Training:  88%|████████████████████████████████████████▌     | 224/254 [01:03<00:06,  4.64it/s, loss=0.0179]"
     ]
    },
    {
     "name": "stderr",
     "output_type": "stream",
     "text": [
      "\r",
      "Training:  88%|████████████████████████████████████████▌     | 224/254 [01:03<00:06,  4.64it/s, loss=0.0084]"
     ]
    },
    {
     "name": "stderr",
     "output_type": "stream",
     "text": [
      "\r",
      "Training:  89%|████████████████████████████████████████▋     | 225/254 [01:03<00:06,  4.27it/s, loss=0.0084]"
     ]
    },
    {
     "name": "stderr",
     "output_type": "stream",
     "text": [
      "\r",
      "Training:  89%|████████████████████████████████████████▋     | 225/254 [01:04<00:06,  4.27it/s, loss=0.0062]"
     ]
    },
    {
     "name": "stderr",
     "output_type": "stream",
     "text": [
      "\r",
      "Training:  89%|████████████████████████████████████████▉     | 226/254 [01:04<00:06,  4.01it/s, loss=0.0062]"
     ]
    },
    {
     "name": "stderr",
     "output_type": "stream",
     "text": [
      "\r",
      "Training:  89%|████████████████████████████████████████▉     | 226/254 [01:04<00:06,  4.01it/s, loss=0.0023]"
     ]
    },
    {
     "name": "stderr",
     "output_type": "stream",
     "text": [
      "\r",
      "Training:  89%|█████████████████████████████████████████     | 227/254 [01:04<00:07,  3.84it/s, loss=0.0023]"
     ]
    },
    {
     "name": "stderr",
     "output_type": "stream",
     "text": [
      "\r",
      "Training:  89%|█████████████████████████████████████████     | 227/254 [01:04<00:07,  3.84it/s, loss=0.0043]"
     ]
    },
    {
     "name": "stderr",
     "output_type": "stream",
     "text": [
      "\r",
      "Training:  90%|█████████████████████████████████████████▎    | 228/254 [01:04<00:06,  3.72it/s, loss=0.0043]"
     ]
    },
    {
     "name": "stderr",
     "output_type": "stream",
     "text": [
      "\r",
      "Training:  90%|█████████████████████████████████████████▎    | 228/254 [01:04<00:06,  3.72it/s, loss=0.0104]"
     ]
    },
    {
     "name": "stderr",
     "output_type": "stream",
     "text": [
      "\r",
      "Training:  90%|█████████████████████████████████████████▍    | 229/254 [01:04<00:06,  3.64it/s, loss=0.0104]"
     ]
    },
    {
     "name": "stderr",
     "output_type": "stream",
     "text": [
      "\r",
      "Training:  90%|█████████████████████████████████████████▍    | 229/254 [01:05<00:06,  3.64it/s, loss=0.0034]"
     ]
    },
    {
     "name": "stderr",
     "output_type": "stream",
     "text": [
      "\r",
      "Training:  91%|█████████████████████████████████████████▋    | 230/254 [01:05<00:06,  3.58it/s, loss=0.0034]"
     ]
    },
    {
     "name": "stderr",
     "output_type": "stream",
     "text": [
      "\r",
      "Training:  91%|█████████████████████████████████████████▋    | 230/254 [01:05<00:06,  3.58it/s, loss=0.0144]"
     ]
    },
    {
     "name": "stderr",
     "output_type": "stream",
     "text": [
      "\r",
      "Training:  91%|█████████████████████████████████████████▊    | 231/254 [01:05<00:06,  3.54it/s, loss=0.0144]"
     ]
    },
    {
     "name": "stderr",
     "output_type": "stream",
     "text": [
      "\r",
      "Training:  91%|█████████████████████████████████████████▊    | 231/254 [01:05<00:06,  3.54it/s, loss=0.0016]"
     ]
    },
    {
     "name": "stderr",
     "output_type": "stream",
     "text": [
      "\r",
      "Training:  91%|██████████████████████████████████████████    | 232/254 [01:05<00:06,  3.51it/s, loss=0.0016]"
     ]
    },
    {
     "name": "stderr",
     "output_type": "stream",
     "text": [
      "\r",
      "Training:  91%|██████████████████████████████████████████    | 232/254 [01:06<00:06,  3.51it/s, loss=0.0308]"
     ]
    },
    {
     "name": "stderr",
     "output_type": "stream",
     "text": [
      "\r",
      "Training:  92%|██████████████████████████████████████████▏   | 233/254 [01:06<00:06,  3.49it/s, loss=0.0308]"
     ]
    },
    {
     "name": "stderr",
     "output_type": "stream",
     "text": [
      "\r",
      "Training:  92%|██████████████████████████████████████████▏   | 233/254 [01:06<00:06,  3.49it/s, loss=0.0016]"
     ]
    },
    {
     "name": "stderr",
     "output_type": "stream",
     "text": [
      "\r",
      "Training:  92%|██████████████████████████████████████████▍   | 234/254 [01:06<00:05,  3.48it/s, loss=0.0016]"
     ]
    },
    {
     "name": "stderr",
     "output_type": "stream",
     "text": [
      "\r",
      "Training:  92%|██████████████████████████████████████████▍   | 234/254 [01:06<00:05,  3.48it/s, loss=0.0194]"
     ]
    },
    {
     "name": "stderr",
     "output_type": "stream",
     "text": [
      "\r",
      "Training:  93%|██████████████████████████████████████████▌   | 235/254 [01:06<00:05,  3.47it/s, loss=0.0194]"
     ]
    },
    {
     "name": "stderr",
     "output_type": "stream",
     "text": [
      "\r",
      "Training:  93%|██████████████████████████████████████████▌   | 235/254 [01:06<00:05,  3.47it/s, loss=0.0130]"
     ]
    },
    {
     "name": "stderr",
     "output_type": "stream",
     "text": [
      "\r",
      "Training:  93%|██████████████████████████████████████████▋   | 236/254 [01:06<00:05,  3.46it/s, loss=0.0130]"
     ]
    },
    {
     "name": "stderr",
     "output_type": "stream",
     "text": [
      "\r",
      "Training:  93%|██████████████████████████████████████████▋   | 236/254 [01:07<00:05,  3.46it/s, loss=0.0138]"
     ]
    },
    {
     "name": "stderr",
     "output_type": "stream",
     "text": [
      "\r",
      "Training:  93%|██████████████████████████████████████████▉   | 237/254 [01:07<00:04,  3.46it/s, loss=0.0138]"
     ]
    },
    {
     "name": "stderr",
     "output_type": "stream",
     "text": [
      "\r",
      "Training:  93%|██████████████████████████████████████████▉   | 237/254 [01:07<00:04,  3.46it/s, loss=0.0684]"
     ]
    },
    {
     "name": "stderr",
     "output_type": "stream",
     "text": [
      "\r",
      "Training:  94%|███████████████████████████████████████████   | 238/254 [01:07<00:04,  3.46it/s, loss=0.0684]"
     ]
    },
    {
     "name": "stderr",
     "output_type": "stream",
     "text": [
      "\r",
      "Training:  94%|███████████████████████████████████████████   | 238/254 [01:07<00:04,  3.46it/s, loss=0.0726]"
     ]
    },
    {
     "name": "stderr",
     "output_type": "stream",
     "text": [
      "\r",
      "Training:  94%|███████████████████████████████████████████▎  | 239/254 [01:07<00:04,  3.45it/s, loss=0.0726]"
     ]
    },
    {
     "name": "stderr",
     "output_type": "stream",
     "text": [
      "\r",
      "Training:  94%|███████████████████████████████████████████▎  | 239/254 [01:08<00:04,  3.45it/s, loss=0.0027]"
     ]
    },
    {
     "name": "stderr",
     "output_type": "stream",
     "text": [
      "\r",
      "Training:  94%|███████████████████████████████████████████▍  | 240/254 [01:08<00:04,  3.45it/s, loss=0.0027]"
     ]
    },
    {
     "name": "stderr",
     "output_type": "stream",
     "text": [
      "\r",
      "Training:  94%|███████████████████████████████████████████▍  | 240/254 [01:08<00:04,  3.45it/s, loss=0.1006]"
     ]
    },
    {
     "name": "stderr",
     "output_type": "stream",
     "text": [
      "\r",
      "Training:  95%|███████████████████████████████████████████▋  | 241/254 [01:08<00:03,  3.45it/s, loss=0.1006]"
     ]
    },
    {
     "name": "stderr",
     "output_type": "stream",
     "text": [
      "\r",
      "Training:  95%|███████████████████████████████████████████▋  | 241/254 [01:08<00:03,  3.45it/s, loss=0.0989]"
     ]
    },
    {
     "name": "stderr",
     "output_type": "stream",
     "text": [
      "\r",
      "Training:  95%|███████████████████████████████████████████▊  | 242/254 [01:08<00:03,  3.45it/s, loss=0.0989]"
     ]
    },
    {
     "name": "stderr",
     "output_type": "stream",
     "text": [
      "\r",
      "Training:  95%|███████████████████████████████████████████▊  | 242/254 [01:08<00:03,  3.45it/s, loss=0.0036]"
     ]
    },
    {
     "name": "stderr",
     "output_type": "stream",
     "text": [
      "\r",
      "Training:  96%|████████████████████████████████████████████  | 243/254 [01:08<00:03,  3.45it/s, loss=0.0036]"
     ]
    },
    {
     "name": "stderr",
     "output_type": "stream",
     "text": [
      "\r",
      "Training:  96%|████████████████████████████████████████████  | 243/254 [01:09<00:03,  3.45it/s, loss=0.0042]"
     ]
    },
    {
     "name": "stderr",
     "output_type": "stream",
     "text": [
      "\r",
      "Training:  96%|████████████████████████████████████████████▏ | 244/254 [01:09<00:02,  3.45it/s, loss=0.0042]"
     ]
    },
    {
     "name": "stderr",
     "output_type": "stream",
     "text": [
      "\r",
      "Training:  96%|████████████████████████████████████████████▏ | 244/254 [01:09<00:02,  3.45it/s, loss=0.0030]"
     ]
    },
    {
     "name": "stderr",
     "output_type": "stream",
     "text": [
      "\r",
      "Training:  96%|████████████████████████████████████████████▎ | 245/254 [01:09<00:02,  3.44it/s, loss=0.0030]"
     ]
    },
    {
     "name": "stderr",
     "output_type": "stream",
     "text": [
      "\r",
      "Training:  96%|████████████████████████████████████████████▎ | 245/254 [01:09<00:02,  3.44it/s, loss=0.0031]"
     ]
    },
    {
     "name": "stderr",
     "output_type": "stream",
     "text": [
      "\r",
      "Training:  97%|████████████████████████████████████████████▌ | 246/254 [01:09<00:02,  3.44it/s, loss=0.0031]"
     ]
    },
    {
     "name": "stderr",
     "output_type": "stream",
     "text": [
      "\r",
      "Training:  97%|████████████████████████████████████████████▌ | 246/254 [01:10<00:02,  3.44it/s, loss=0.1007]"
     ]
    },
    {
     "name": "stderr",
     "output_type": "stream",
     "text": [
      "\r",
      "Training:  97%|████████████████████████████████████████████▋ | 247/254 [01:10<00:02,  3.44it/s, loss=0.1007]"
     ]
    },
    {
     "name": "stderr",
     "output_type": "stream",
     "text": [
      "\r",
      "Training:  97%|████████████████████████████████████████████▋ | 247/254 [01:10<00:02,  3.44it/s, loss=0.0068]"
     ]
    },
    {
     "name": "stderr",
     "output_type": "stream",
     "text": [
      "\r",
      "Training:  98%|████████████████████████████████████████████▉ | 248/254 [01:10<00:01,  3.44it/s, loss=0.0068]"
     ]
    },
    {
     "name": "stderr",
     "output_type": "stream",
     "text": [
      "\r",
      "Training:  98%|████████████████████████████████████████████▉ | 248/254 [01:10<00:01,  3.44it/s, loss=0.0062]"
     ]
    },
    {
     "name": "stderr",
     "output_type": "stream",
     "text": [
      "\r",
      "Training:  98%|█████████████████████████████████████████████ | 249/254 [01:10<00:01,  3.44it/s, loss=0.0062]"
     ]
    },
    {
     "name": "stderr",
     "output_type": "stream",
     "text": [
      "\r",
      "Training:  98%|█████████████████████████████████████████████ | 249/254 [01:10<00:01,  3.44it/s, loss=0.1483]"
     ]
    },
    {
     "name": "stderr",
     "output_type": "stream",
     "text": [
      "\r",
      "Training:  98%|█████████████████████████████████████████████▎| 250/254 [01:10<00:01,  3.45it/s, loss=0.1483]"
     ]
    },
    {
     "name": "stderr",
     "output_type": "stream",
     "text": [
      "\r",
      "Training:  98%|█████████████████████████████████████████████▎| 250/254 [01:11<00:01,  3.45it/s, loss=0.0087]"
     ]
    },
    {
     "name": "stderr",
     "output_type": "stream",
     "text": [
      "\r",
      "Training:  99%|█████████████████████████████████████████████▍| 251/254 [01:11<00:00,  3.45it/s, loss=0.0087]"
     ]
    },
    {
     "name": "stderr",
     "output_type": "stream",
     "text": [
      "\r",
      "Training:  99%|█████████████████████████████████████████████▍| 251/254 [01:11<00:00,  3.45it/s, loss=0.0117]"
     ]
    },
    {
     "name": "stderr",
     "output_type": "stream",
     "text": [
      "\r",
      "Training:  99%|█████████████████████████████████████████████▋| 252/254 [01:11<00:00,  3.45it/s, loss=0.0117]"
     ]
    },
    {
     "name": "stderr",
     "output_type": "stream",
     "text": [
      "\r",
      "Training:  99%|█████████████████████████████████████████████▋| 252/254 [01:11<00:00,  3.45it/s, loss=0.0159]"
     ]
    },
    {
     "name": "stderr",
     "output_type": "stream",
     "text": [
      "\r",
      "Training: 100%|█████████████████████████████████████████████▊| 253/254 [01:11<00:00,  3.45it/s, loss=0.0159]"
     ]
    },
    {
     "name": "stderr",
     "output_type": "stream",
     "text": [
      "\r",
      "Training: 100%|█████████████████████████████████████████████▊| 253/254 [01:12<00:00,  3.45it/s, loss=0.0361]"
     ]
    },
    {
     "name": "stderr",
     "output_type": "stream",
     "text": [
      "\r",
      "Training: 100%|██████████████████████████████████████████████| 254/254 [01:12<00:00,  3.63it/s, loss=0.0361]"
     ]
    },
    {
     "name": "stderr",
     "output_type": "stream",
     "text": [
      "\r",
      "Training: 100%|██████████████████████████████████████████████| 254/254 [01:12<00:00,  3.52it/s, loss=0.0361]"
     ]
    },
    {
     "name": "stderr",
     "output_type": "stream",
     "text": [
      "\n",
      "INFO:src.models.trainer:Training metrics: {'accuracy': 0.9906415466075607, 'f1': 0.9905299241400216, 'precision': 0.9904937958103133, 'recall': 0.9906415466075607, 'loss': 0.03210861804917103}\n"
     ]
    },
    {
     "name": "stderr",
     "output_type": "stream",
     "text": [
      "\r",
      "Evaluating:   0%|                                                                    | 0/55 [00:00<?, ?it/s]"
     ]
    },
    {
     "name": "stderr",
     "output_type": "stream",
     "text": [
      "\r",
      "Evaluating:   2%|█                                                           | 1/55 [00:00<00:13,  4.12it/s]"
     ]
    },
    {
     "name": "stderr",
     "output_type": "stream",
     "text": [
      "\r",
      "Evaluating:   4%|██▏                                                         | 2/55 [00:00<00:12,  4.13it/s]"
     ]
    },
    {
     "name": "stderr",
     "output_type": "stream",
     "text": [
      "\r",
      "Evaluating:   5%|███▎                                                        | 3/55 [00:00<00:12,  4.13it/s]"
     ]
    },
    {
     "name": "stderr",
     "output_type": "stream",
     "text": [
      "\r",
      "Evaluating:   7%|████▎                                                       | 4/55 [00:00<00:12,  4.12it/s]"
     ]
    },
    {
     "name": "stderr",
     "output_type": "stream",
     "text": [
      "\r",
      "Evaluating:   9%|█████▍                                                      | 5/55 [00:01<00:12,  4.13it/s]"
     ]
    },
    {
     "name": "stderr",
     "output_type": "stream",
     "text": [
      "\r",
      "Evaluating:  11%|██████▌                                                     | 6/55 [00:01<00:11,  4.13it/s]"
     ]
    },
    {
     "name": "stderr",
     "output_type": "stream",
     "text": [
      "\r",
      "Evaluating:  13%|███████▋                                                    | 7/55 [00:01<00:11,  4.13it/s]"
     ]
    },
    {
     "name": "stderr",
     "output_type": "stream",
     "text": [
      "\r",
      "Evaluating:  15%|████████▋                                                   | 8/55 [00:01<00:11,  4.14it/s]"
     ]
    },
    {
     "name": "stderr",
     "output_type": "stream",
     "text": [
      "\r",
      "Evaluating:  16%|█████████▊                                                  | 9/55 [00:02<00:11,  4.14it/s]"
     ]
    },
    {
     "name": "stderr",
     "output_type": "stream",
     "text": [
      "\r",
      "Evaluating:  18%|██████████▋                                                | 10/55 [00:02<00:10,  4.13it/s]"
     ]
    },
    {
     "name": "stderr",
     "output_type": "stream",
     "text": [
      "\r",
      "Evaluating:  20%|███████████▊                                               | 11/55 [00:02<00:10,  4.13it/s]"
     ]
    },
    {
     "name": "stderr",
     "output_type": "stream",
     "text": [
      "\r",
      "Evaluating:  22%|████████████▊                                              | 12/55 [00:02<00:10,  4.14it/s]"
     ]
    },
    {
     "name": "stderr",
     "output_type": "stream",
     "text": [
      "\r",
      "Evaluating:  24%|█████████████▉                                             | 13/55 [00:03<00:10,  4.14it/s]"
     ]
    },
    {
     "name": "stderr",
     "output_type": "stream",
     "text": [
      "\r",
      "Evaluating:  25%|███████████████                                            | 14/55 [00:03<00:09,  4.14it/s]"
     ]
    },
    {
     "name": "stderr",
     "output_type": "stream",
     "text": [
      "\r",
      "Evaluating:  27%|████████████████                                           | 15/55 [00:03<00:09,  4.13it/s]"
     ]
    },
    {
     "name": "stderr",
     "output_type": "stream",
     "text": [
      "\r",
      "Evaluating:  29%|█████████████████▏                                         | 16/55 [00:03<00:09,  4.14it/s]"
     ]
    },
    {
     "name": "stderr",
     "output_type": "stream",
     "text": [
      "\r",
      "Evaluating:  31%|██████████████████▏                                        | 17/55 [00:04<00:09,  4.14it/s]"
     ]
    },
    {
     "name": "stderr",
     "output_type": "stream",
     "text": [
      "\r",
      "Evaluating:  33%|███████████████████▎                                       | 18/55 [00:04<00:08,  4.13it/s]"
     ]
    },
    {
     "name": "stderr",
     "output_type": "stream",
     "text": [
      "\r",
      "Evaluating:  35%|████████████████████▍                                      | 19/55 [00:04<00:08,  4.07it/s]"
     ]
    },
    {
     "name": "stderr",
     "output_type": "stream",
     "text": [
      "\r",
      "Evaluating:  36%|█████████████████████▍                                     | 20/55 [00:04<00:08,  4.07it/s]"
     ]
    },
    {
     "name": "stderr",
     "output_type": "stream",
     "text": [
      "\r",
      "Evaluating:  38%|██████████████████████▌                                    | 21/55 [00:05<00:08,  4.08it/s]"
     ]
    },
    {
     "name": "stderr",
     "output_type": "stream",
     "text": [
      "\r",
      "Evaluating:  40%|███████████████████████▌                                   | 22/55 [00:05<00:08,  4.10it/s]"
     ]
    },
    {
     "name": "stderr",
     "output_type": "stream",
     "text": [
      "\r",
      "Evaluating:  42%|████████████████████████▋                                  | 23/55 [00:05<00:07,  4.11it/s]"
     ]
    },
    {
     "name": "stderr",
     "output_type": "stream",
     "text": [
      "\r",
      "Evaluating:  44%|█████████████████████████▋                                 | 24/55 [00:05<00:07,  4.12it/s]"
     ]
    },
    {
     "name": "stderr",
     "output_type": "stream",
     "text": [
      "\r",
      "Evaluating:  45%|██████████████████████████▊                                | 25/55 [00:06<00:07,  4.12it/s]"
     ]
    },
    {
     "name": "stderr",
     "output_type": "stream",
     "text": [
      "\r",
      "Evaluating:  47%|███████████████████████████▉                               | 26/55 [00:06<00:07,  4.13it/s]"
     ]
    },
    {
     "name": "stderr",
     "output_type": "stream",
     "text": [
      "\r",
      "Evaluating:  49%|████████████████████████████▉                              | 27/55 [00:06<00:06,  4.12it/s]"
     ]
    },
    {
     "name": "stderr",
     "output_type": "stream",
     "text": [
      "\r",
      "Evaluating:  51%|██████████████████████████████                             | 28/55 [00:06<00:06,  4.13it/s]"
     ]
    },
    {
     "name": "stderr",
     "output_type": "stream",
     "text": [
      "\r",
      "Evaluating:  53%|███████████████████████████████                            | 29/55 [00:07<00:06,  4.13it/s]"
     ]
    },
    {
     "name": "stderr",
     "output_type": "stream",
     "text": [
      "\r",
      "Evaluating:  55%|████████████████████████████████▏                          | 30/55 [00:07<00:06,  4.13it/s]"
     ]
    },
    {
     "name": "stderr",
     "output_type": "stream",
     "text": [
      "\r",
      "Evaluating:  56%|█████████████████████████████████▎                         | 31/55 [00:07<00:05,  4.13it/s]"
     ]
    },
    {
     "name": "stderr",
     "output_type": "stream",
     "text": [
      "\r",
      "Evaluating:  58%|██████████████████████████████████▎                        | 32/55 [00:07<00:05,  4.13it/s]"
     ]
    },
    {
     "name": "stderr",
     "output_type": "stream",
     "text": [
      "\r",
      "Evaluating:  60%|███████████████████████████████████▍                       | 33/55 [00:08<00:05,  4.12it/s]"
     ]
    },
    {
     "name": "stderr",
     "output_type": "stream",
     "text": [
      "\r",
      "Evaluating:  62%|████████████████████████████████████▍                      | 34/55 [00:08<00:05,  4.12it/s]"
     ]
    },
    {
     "name": "stderr",
     "output_type": "stream",
     "text": [
      "\r",
      "Evaluating:  64%|█████████████████████████████████████▌                     | 35/55 [00:08<00:04,  4.11it/s]"
     ]
    },
    {
     "name": "stderr",
     "output_type": "stream",
     "text": [
      "\r",
      "Evaluating:  65%|██████████████████████████████████████▌                    | 36/55 [00:08<00:04,  4.12it/s]"
     ]
    },
    {
     "name": "stderr",
     "output_type": "stream",
     "text": [
      "\r",
      "Evaluating:  67%|███████████████████████████████████████▋                   | 37/55 [00:08<00:04,  4.12it/s]"
     ]
    },
    {
     "name": "stderr",
     "output_type": "stream",
     "text": [
      "\r",
      "Evaluating:  69%|████████████████████████████████████████▊                  | 38/55 [00:09<00:04,  4.13it/s]"
     ]
    },
    {
     "name": "stderr",
     "output_type": "stream",
     "text": [
      "\r",
      "Evaluating:  71%|█████████████████████████████████████████▊                 | 39/55 [00:09<00:03,  4.12it/s]"
     ]
    },
    {
     "name": "stderr",
     "output_type": "stream",
     "text": [
      "\r",
      "Evaluating:  73%|██████████████████████████████████████████▉                | 40/55 [00:09<00:03,  4.12it/s]"
     ]
    },
    {
     "name": "stderr",
     "output_type": "stream",
     "text": [
      "\r",
      "Evaluating:  75%|███████████████████████████████████████████▉               | 41/55 [00:09<00:03,  4.12it/s]"
     ]
    },
    {
     "name": "stderr",
     "output_type": "stream",
     "text": [
      "\r",
      "Evaluating:  76%|█████████████████████████████████████████████              | 42/55 [00:10<00:03,  4.12it/s]"
     ]
    },
    {
     "name": "stderr",
     "output_type": "stream",
     "text": [
      "\r",
      "Evaluating:  78%|██████████████████████████████████████████████▏            | 43/55 [00:10<00:02,  4.13it/s]"
     ]
    },
    {
     "name": "stderr",
     "output_type": "stream",
     "text": [
      "\r",
      "Evaluating:  80%|███████████████████████████████████████████████▏           | 44/55 [00:10<00:02,  4.12it/s]"
     ]
    },
    {
     "name": "stderr",
     "output_type": "stream",
     "text": [
      "\r",
      "Evaluating:  82%|████████████████████████████████████████████████▎          | 45/55 [00:10<00:02,  4.13it/s]"
     ]
    },
    {
     "name": "stderr",
     "output_type": "stream",
     "text": [
      "\r",
      "Evaluating:  84%|█████████████████████████████████████████████████▎         | 46/55 [00:11<00:02,  4.13it/s]"
     ]
    },
    {
     "name": "stderr",
     "output_type": "stream",
     "text": [
      "\r",
      "Evaluating:  85%|██████████████████████████████████████████████████▍        | 47/55 [00:11<00:01,  4.13it/s]"
     ]
    },
    {
     "name": "stderr",
     "output_type": "stream",
     "text": [
      "\r",
      "Evaluating:  87%|███████████████████████████████████████████████████▍       | 48/55 [00:11<00:01,  4.13it/s]"
     ]
    },
    {
     "name": "stderr",
     "output_type": "stream",
     "text": [
      "\r",
      "Evaluating:  89%|████████████████████████████████████████████████████▌      | 49/55 [00:11<00:01,  4.13it/s]"
     ]
    },
    {
     "name": "stderr",
     "output_type": "stream",
     "text": [
      "\r",
      "Evaluating:  91%|█████████████████████████████████████████████████████▋     | 50/55 [00:12<00:01,  4.13it/s]"
     ]
    },
    {
     "name": "stderr",
     "output_type": "stream",
     "text": [
      "\r",
      "Evaluating:  93%|██████████████████████████████████████████████████████▋    | 51/55 [00:12<00:00,  4.12it/s]"
     ]
    },
    {
     "name": "stderr",
     "output_type": "stream",
     "text": [
      "\r",
      "Evaluating:  95%|███████████████████████████████████████████████████████▊   | 52/55 [00:12<00:00,  4.13it/s]"
     ]
    },
    {
     "name": "stderr",
     "output_type": "stream",
     "text": [
      "\r",
      "Evaluating:  96%|████████████████████████████████████████████████████████▊  | 53/55 [00:12<00:00,  4.13it/s]"
     ]
    },
    {
     "name": "stderr",
     "output_type": "stream",
     "text": [
      "\r",
      "Evaluating:  98%|█████████████████████████████████████████████████████████▉ | 54/55 [00:13<00:00,  4.13it/s]"
     ]
    },
    {
     "name": "stderr",
     "output_type": "stream",
     "text": [
      "\r",
      "Evaluating: 100%|███████████████████████████████████████████████████████████| 55/55 [00:13<00:00,  4.17it/s]"
     ]
    },
    {
     "name": "stderr",
     "output_type": "stream",
     "text": [
      "\n",
      "INFO:src.models.trainer:Validation metrics: {'accuracy': 0.9870726802642918, 'f1': 0.987247763867615, 'precision': 0.987525179580877, 'recall': 0.9870726802642918, 'auc': 0.994047619047619, 'loss': 0.0395410046171905}\n"
     ]
    },
    {
     "name": "stderr",
     "output_type": "stream",
     "text": [
      "INFO:src.models.trainer:\n",
      "Epoch 3/3\n"
     ]
    },
    {
     "name": "stderr",
     "output_type": "stream",
     "text": [
      "\r",
      "Training:   0%|                                                                     | 0/254 [00:00<?, ?it/s]"
     ]
    },
    {
     "name": "stderr",
     "output_type": "stream",
     "text": [
      "/home/luuka/thesis/workspace/src/models/trainer.py:91: FutureWarning: `torch.cuda.amp.autocast(args...)` is deprecated. Please use `torch.amp.autocast('cuda', args...)` instead.\n",
      "  with torch.cuda.amp.autocast():\n"
     ]
    },
    {
     "name": "stderr",
     "output_type": "stream",
     "text": [
      "\r",
      "Training:   0%|                                                        | 0/254 [00:00<?, ?it/s, loss=0.0591]"
     ]
    },
    {
     "name": "stderr",
     "output_type": "stream",
     "text": [
      "\r",
      "Training:   0%|▏                                               | 1/254 [00:00<01:13,  3.44it/s, loss=0.0591]"
     ]
    },
    {
     "name": "stderr",
     "output_type": "stream",
     "text": [
      "\r",
      "Training:   0%|▏                                               | 1/254 [00:00<01:13,  3.44it/s, loss=0.0143]"
     ]
    },
    {
     "name": "stderr",
     "output_type": "stream",
     "text": [
      "\r",
      "Training:   1%|▍                                               | 2/254 [00:00<01:13,  3.44it/s, loss=0.0143]"
     ]
    },
    {
     "name": "stderr",
     "output_type": "stream",
     "text": [
      "\r",
      "Training:   1%|▍                                               | 2/254 [00:00<01:13,  3.44it/s, loss=0.0689]"
     ]
    },
    {
     "name": "stderr",
     "output_type": "stream",
     "text": [
      "\r",
      "Training:   1%|▌                                               | 3/254 [00:00<01:13,  3.44it/s, loss=0.0689]"
     ]
    },
    {
     "name": "stderr",
     "output_type": "stream",
     "text": [
      "\r",
      "Training:   1%|▌                                               | 3/254 [00:01<01:13,  3.44it/s, loss=0.0729]"
     ]
    },
    {
     "name": "stderr",
     "output_type": "stream",
     "text": [
      "\r",
      "Training:   2%|▊                                               | 4/254 [00:01<01:12,  3.44it/s, loss=0.0729]"
     ]
    },
    {
     "name": "stderr",
     "output_type": "stream",
     "text": [
      "\r",
      "Training:   2%|▊                                               | 4/254 [00:01<01:12,  3.44it/s, loss=0.1195]"
     ]
    },
    {
     "name": "stderr",
     "output_type": "stream",
     "text": [
      "\r",
      "Training:   2%|▉                                               | 5/254 [00:01<01:12,  3.43it/s, loss=0.1195]"
     ]
    },
    {
     "name": "stderr",
     "output_type": "stream",
     "text": [
      "\r",
      "Training:   2%|▉                                               | 5/254 [00:01<01:12,  3.43it/s, loss=0.0394]"
     ]
    },
    {
     "name": "stderr",
     "output_type": "stream",
     "text": [
      "\r",
      "Training:   2%|█▏                                              | 6/254 [00:01<01:12,  3.43it/s, loss=0.0394]"
     ]
    },
    {
     "name": "stderr",
     "output_type": "stream",
     "text": [
      "\r",
      "Training:   2%|█▏                                              | 6/254 [00:02<01:12,  3.43it/s, loss=0.0071]"
     ]
    },
    {
     "name": "stderr",
     "output_type": "stream",
     "text": [
      "\r",
      "Training:   3%|█▎                                              | 7/254 [00:02<01:11,  3.43it/s, loss=0.0071]"
     ]
    },
    {
     "name": "stderr",
     "output_type": "stream",
     "text": [
      "\r",
      "Training:   3%|█▎                                              | 7/254 [00:02<01:11,  3.43it/s, loss=0.0026]"
     ]
    },
    {
     "name": "stderr",
     "output_type": "stream",
     "text": [
      "\r",
      "Training:   3%|█▌                                              | 8/254 [00:02<01:11,  3.43it/s, loss=0.0026]"
     ]
    },
    {
     "name": "stderr",
     "output_type": "stream",
     "text": [
      "\r",
      "Training:   3%|█▌                                              | 8/254 [00:02<01:11,  3.43it/s, loss=0.0112]"
     ]
    },
    {
     "name": "stderr",
     "output_type": "stream",
     "text": [
      "\r",
      "Training:   4%|█▋                                              | 9/254 [00:02<01:11,  3.43it/s, loss=0.0112]"
     ]
    },
    {
     "name": "stderr",
     "output_type": "stream",
     "text": [
      "\r",
      "Training:   4%|█▋                                              | 9/254 [00:02<01:11,  3.43it/s, loss=0.0036]"
     ]
    },
    {
     "name": "stderr",
     "output_type": "stream",
     "text": [
      "\r",
      "Training:   4%|█▊                                             | 10/254 [00:02<01:11,  3.43it/s, loss=0.0036]"
     ]
    },
    {
     "name": "stderr",
     "output_type": "stream",
     "text": [
      "\r",
      "Training:   4%|█▊                                             | 10/254 [00:03<01:11,  3.43it/s, loss=0.0041]"
     ]
    },
    {
     "name": "stderr",
     "output_type": "stream",
     "text": [
      "\r",
      "Training:   4%|██                                             | 11/254 [00:03<01:10,  3.43it/s, loss=0.0041]"
     ]
    },
    {
     "name": "stderr",
     "output_type": "stream",
     "text": [
      "\r",
      "Training:   4%|██                                             | 11/254 [00:03<01:10,  3.43it/s, loss=0.0166]"
     ]
    },
    {
     "name": "stderr",
     "output_type": "stream",
     "text": [
      "\r",
      "Training:   5%|██▏                                            | 12/254 [00:03<01:10,  3.43it/s, loss=0.0166]"
     ]
    },
    {
     "name": "stderr",
     "output_type": "stream",
     "text": [
      "\r",
      "Training:   5%|██▏                                            | 12/254 [00:03<01:10,  3.43it/s, loss=0.0026]"
     ]
    },
    {
     "name": "stderr",
     "output_type": "stream",
     "text": [
      "\r",
      "Training:   5%|██▍                                            | 13/254 [00:03<01:10,  3.43it/s, loss=0.0026]"
     ]
    },
    {
     "name": "stderr",
     "output_type": "stream",
     "text": [
      "\r",
      "Training:   5%|██▍                                            | 13/254 [00:04<01:10,  3.43it/s, loss=0.0072]"
     ]
    },
    {
     "name": "stderr",
     "output_type": "stream",
     "text": [
      "\r",
      "Training:   6%|██▌                                            | 14/254 [00:04<01:09,  3.43it/s, loss=0.0072]"
     ]
    },
    {
     "name": "stderr",
     "output_type": "stream",
     "text": [
      "\r",
      "Training:   6%|██▌                                            | 14/254 [00:04<01:09,  3.43it/s, loss=0.0869]"
     ]
    },
    {
     "name": "stderr",
     "output_type": "stream",
     "text": [
      "\r",
      "Training:   6%|██▊                                            | 15/254 [00:04<01:09,  3.43it/s, loss=0.0869]"
     ]
    },
    {
     "name": "stderr",
     "output_type": "stream",
     "text": [
      "\r",
      "Training:   6%|██▊                                            | 15/254 [00:04<01:09,  3.43it/s, loss=0.0165]"
     ]
    },
    {
     "name": "stderr",
     "output_type": "stream",
     "text": [
      "\r",
      "Training:   6%|██▉                                            | 16/254 [00:04<01:09,  3.43it/s, loss=0.0165]"
     ]
    },
    {
     "name": "stderr",
     "output_type": "stream",
     "text": [
      "\r",
      "Training:   6%|██▉                                            | 16/254 [00:04<01:09,  3.43it/s, loss=0.0044]"
     ]
    },
    {
     "name": "stderr",
     "output_type": "stream",
     "text": [
      "\r",
      "Training:   7%|███▏                                           | 17/254 [00:04<01:09,  3.43it/s, loss=0.0044]"
     ]
    },
    {
     "name": "stderr",
     "output_type": "stream",
     "text": [
      "\r",
      "Training:   7%|███▏                                           | 17/254 [00:05<01:09,  3.43it/s, loss=0.0029]"
     ]
    },
    {
     "name": "stderr",
     "output_type": "stream",
     "text": [
      "\r",
      "Training:   7%|███▎                                           | 18/254 [00:05<01:08,  3.43it/s, loss=0.0029]"
     ]
    },
    {
     "name": "stderr",
     "output_type": "stream",
     "text": [
      "\r",
      "Training:   7%|███▎                                           | 18/254 [00:05<01:08,  3.43it/s, loss=0.0023]"
     ]
    },
    {
     "name": "stderr",
     "output_type": "stream",
     "text": [
      "\r",
      "Training:   7%|███▌                                           | 19/254 [00:05<01:08,  3.42it/s, loss=0.0023]"
     ]
    },
    {
     "name": "stderr",
     "output_type": "stream",
     "text": [
      "\r",
      "Training:   7%|███▌                                           | 19/254 [00:05<01:08,  3.42it/s, loss=0.0548]"
     ]
    },
    {
     "name": "stderr",
     "output_type": "stream",
     "text": [
      "\r",
      "Training:   8%|███▋                                           | 20/254 [00:05<01:08,  3.43it/s, loss=0.0548]"
     ]
    },
    {
     "name": "stderr",
     "output_type": "stream",
     "text": [
      "\r",
      "Training:   8%|███▋                                           | 20/254 [00:06<01:08,  3.43it/s, loss=0.0025]"
     ]
    },
    {
     "name": "stderr",
     "output_type": "stream",
     "text": [
      "\r",
      "Training:   8%|███▉                                           | 21/254 [00:06<01:07,  3.43it/s, loss=0.0025]"
     ]
    },
    {
     "name": "stderr",
     "output_type": "stream",
     "text": [
      "\r",
      "Training:   8%|███▉                                           | 21/254 [00:06<01:07,  3.43it/s, loss=0.0078]"
     ]
    },
    {
     "name": "stderr",
     "output_type": "stream",
     "text": [
      "\r",
      "Training:   9%|████                                           | 22/254 [00:06<01:07,  3.43it/s, loss=0.0078]"
     ]
    },
    {
     "name": "stderr",
     "output_type": "stream",
     "text": [
      "\r",
      "Training:   9%|████                                           | 22/254 [00:06<01:07,  3.43it/s, loss=0.0023]"
     ]
    },
    {
     "name": "stderr",
     "output_type": "stream",
     "text": [
      "\r",
      "Training:   9%|████▎                                          | 23/254 [00:06<01:07,  3.43it/s, loss=0.0023]"
     ]
    },
    {
     "name": "stderr",
     "output_type": "stream",
     "text": [
      "\r",
      "Training:   9%|████▎                                          | 23/254 [00:06<01:07,  3.43it/s, loss=0.0019]"
     ]
    },
    {
     "name": "stderr",
     "output_type": "stream",
     "text": [
      "\r",
      "Training:   9%|████▍                                          | 24/254 [00:06<01:06,  3.44it/s, loss=0.0019]"
     ]
    },
    {
     "name": "stderr",
     "output_type": "stream",
     "text": [
      "\r",
      "Training:   9%|████▍                                          | 24/254 [00:07<01:06,  3.44it/s, loss=0.0771]"
     ]
    },
    {
     "name": "stderr",
     "output_type": "stream",
     "text": [
      "\r",
      "Training:  10%|████▋                                          | 25/254 [00:07<01:06,  3.43it/s, loss=0.0771]"
     ]
    },
    {
     "name": "stderr",
     "output_type": "stream",
     "text": [
      "\r",
      "Training:  10%|████▋                                          | 25/254 [00:07<01:06,  3.43it/s, loss=0.0128]"
     ]
    },
    {
     "name": "stderr",
     "output_type": "stream",
     "text": [
      "\r",
      "Training:  10%|████▊                                          | 26/254 [00:07<01:06,  3.44it/s, loss=0.0128]"
     ]
    },
    {
     "name": "stderr",
     "output_type": "stream",
     "text": [
      "\r",
      "Training:  10%|████▊                                          | 26/254 [00:07<01:06,  3.44it/s, loss=0.0026]"
     ]
    },
    {
     "name": "stderr",
     "output_type": "stream",
     "text": [
      "\r",
      "Training:  11%|████▉                                          | 27/254 [00:07<01:06,  3.43it/s, loss=0.0026]"
     ]
    },
    {
     "name": "stderr",
     "output_type": "stream",
     "text": [
      "\r",
      "Training:  11%|████▉                                          | 27/254 [00:08<01:06,  3.43it/s, loss=0.0028]"
     ]
    },
    {
     "name": "stderr",
     "output_type": "stream",
     "text": [
      "\r",
      "Training:  11%|█████▏                                         | 28/254 [00:08<01:05,  3.44it/s, loss=0.0028]"
     ]
    },
    {
     "name": "stderr",
     "output_type": "stream",
     "text": [
      "\r",
      "Training:  11%|█████▏                                         | 28/254 [00:08<01:05,  3.44it/s, loss=0.0029]"
     ]
    },
    {
     "name": "stderr",
     "output_type": "stream",
     "text": [
      "\r",
      "Training:  11%|█████▎                                         | 29/254 [00:08<01:05,  3.44it/s, loss=0.0029]"
     ]
    },
    {
     "name": "stderr",
     "output_type": "stream",
     "text": [
      "\r",
      "Training:  11%|█████▎                                         | 29/254 [00:07<01:05,  3.44it/s, loss=0.0730]"
     ]
    },
    {
     "name": "stderr",
     "output_type": "stream",
     "text": [
      "\r",
      "Training:  11%|█████▎                                         | 29/254 [00:08<01:05,  3.44it/s, loss=0.0020]"
     ]
    },
    {
     "name": "stderr",
     "output_type": "stream",
     "text": [
      "\r",
      "Training:  11%|█████▎                                         | 29/254 [00:08<01:05,  3.44it/s, loss=0.0613]"
     ]
    },
    {
     "name": "stderr",
     "output_type": "stream",
     "text": [
      "\r",
      "Training:  11%|█████▎                                         | 29/254 [00:08<01:05,  3.44it/s, loss=0.0103]"
     ]
    },
    {
     "name": "stderr",
     "output_type": "stream",
     "text": [
      "\r",
      "Training:  13%|██████                                         | 33/254 [00:08<00:31,  7.12it/s, loss=0.0103]"
     ]
    },
    {
     "name": "stderr",
     "output_type": "stream",
     "text": [
      "\r",
      "Training:  13%|██████                                         | 33/254 [00:08<00:31,  7.12it/s, loss=0.0180]"
     ]
    },
    {
     "name": "stderr",
     "output_type": "stream",
     "text": [
      "\r",
      "Training:  13%|██████▎                                        | 34/254 [00:08<00:37,  5.94it/s, loss=0.0180]"
     ]
    },
    {
     "name": "stderr",
     "output_type": "stream",
     "text": [
      "\r",
      "Training:  13%|██████▎                                        | 34/254 [00:09<00:37,  5.94it/s, loss=0.0032]"
     ]
    },
    {
     "name": "stderr",
     "output_type": "stream",
     "text": [
      "\r",
      "Training:  14%|██████▍                                        | 35/254 [00:09<00:42,  5.15it/s, loss=0.0032]"
     ]
    },
    {
     "name": "stderr",
     "output_type": "stream",
     "text": [
      "\r",
      "Training:  14%|██████▍                                        | 35/254 [00:09<00:42,  5.15it/s, loss=0.0038]"
     ]
    },
    {
     "name": "stderr",
     "output_type": "stream",
     "text": [
      "\r",
      "Training:  14%|██████▋                                        | 36/254 [00:09<00:47,  4.60it/s, loss=0.0038]"
     ]
    },
    {
     "name": "stderr",
     "output_type": "stream",
     "text": [
      "\r",
      "Training:  14%|██████▋                                        | 36/254 [00:09<00:47,  4.60it/s, loss=0.0051]"
     ]
    },
    {
     "name": "stderr",
     "output_type": "stream",
     "text": [
      "\r",
      "Training:  15%|██████▊                                        | 37/254 [00:09<00:51,  4.21it/s, loss=0.0051]"
     ]
    },
    {
     "name": "stderr",
     "output_type": "stream",
     "text": [
      "\r",
      "Training:  15%|██████▊                                        | 37/254 [00:10<00:51,  4.21it/s, loss=0.0123]"
     ]
    },
    {
     "name": "stderr",
     "output_type": "stream",
     "text": [
      "\r",
      "Training:  15%|███████                                        | 38/254 [00:10<00:54,  3.96it/s, loss=0.0123]"
     ]
    },
    {
     "name": "stderr",
     "output_type": "stream",
     "text": [
      "\r",
      "Training:  15%|███████                                        | 38/254 [00:10<00:54,  3.96it/s, loss=0.0157]"
     ]
    },
    {
     "name": "stderr",
     "output_type": "stream",
     "text": [
      "\r",
      "Training:  15%|███████▏                                       | 39/254 [00:10<00:56,  3.80it/s, loss=0.0157]"
     ]
    },
    {
     "name": "stderr",
     "output_type": "stream",
     "text": [
      "\r",
      "Training:  15%|███████▏                                       | 39/254 [00:10<00:56,  3.80it/s, loss=0.0054]"
     ]
    },
    {
     "name": "stderr",
     "output_type": "stream",
     "text": [
      "\r",
      "Training:  16%|███████▍                                       | 40/254 [00:10<00:57,  3.69it/s, loss=0.0054]"
     ]
    },
    {
     "name": "stderr",
     "output_type": "stream",
     "text": [
      "\r",
      "Training:  16%|███████▍                                       | 40/254 [00:11<00:57,  3.69it/s, loss=0.0032]"
     ]
    },
    {
     "name": "stderr",
     "output_type": "stream",
     "text": [
      "\r",
      "Training:  16%|███████▌                                       | 41/254 [00:11<00:58,  3.61it/s, loss=0.0032]"
     ]
    },
    {
     "name": "stderr",
     "output_type": "stream",
     "text": [
      "\r",
      "Training:  16%|███████▌                                       | 41/254 [00:11<00:58,  3.61it/s, loss=0.0190]"
     ]
    },
    {
     "name": "stderr",
     "output_type": "stream",
     "text": [
      "\r",
      "Training:  17%|███████▊                                       | 42/254 [00:11<00:59,  3.55it/s, loss=0.0190]"
     ]
    },
    {
     "name": "stderr",
     "output_type": "stream",
     "text": [
      "\r",
      "Training:  17%|███████▊                                       | 42/254 [00:11<00:59,  3.55it/s, loss=0.0285]"
     ]
    },
    {
     "name": "stderr",
     "output_type": "stream",
     "text": [
      "\r",
      "Training:  17%|███████▉                                       | 43/254 [00:11<00:59,  3.52it/s, loss=0.0285]"
     ]
    },
    {
     "name": "stderr",
     "output_type": "stream",
     "text": [
      "\r",
      "Training:  17%|███████▉                                       | 43/254 [00:11<00:59,  3.52it/s, loss=0.0110]"
     ]
    },
    {
     "name": "stderr",
     "output_type": "stream",
     "text": [
      "\r",
      "Training:  17%|████████▏                                      | 44/254 [00:11<01:00,  3.49it/s, loss=0.0110]"
     ]
    },
    {
     "name": "stderr",
     "output_type": "stream",
     "text": [
      "\r",
      "Training:  17%|████████▏                                      | 44/254 [00:12<01:00,  3.49it/s, loss=0.0417]"
     ]
    },
    {
     "name": "stderr",
     "output_type": "stream",
     "text": [
      "\r",
      "Training:  18%|████████▎                                      | 45/254 [00:12<01:00,  3.48it/s, loss=0.0417]"
     ]
    },
    {
     "name": "stderr",
     "output_type": "stream",
     "text": [
      "\r",
      "Training:  18%|████████▎                                      | 45/254 [00:12<01:00,  3.48it/s, loss=0.0029]"
     ]
    },
    {
     "name": "stderr",
     "output_type": "stream",
     "text": [
      "\r",
      "Training:  18%|████████▌                                      | 46/254 [00:12<01:00,  3.46it/s, loss=0.0029]"
     ]
    },
    {
     "name": "stderr",
     "output_type": "stream",
     "text": [
      "\r",
      "Training:  18%|████████▌                                      | 46/254 [00:12<01:00,  3.46it/s, loss=0.0406]"
     ]
    },
    {
     "name": "stderr",
     "output_type": "stream",
     "text": [
      "\r",
      "Training:  19%|████████▋                                      | 47/254 [00:12<00:59,  3.45it/s, loss=0.0406]"
     ]
    },
    {
     "name": "stderr",
     "output_type": "stream",
     "text": [
      "\r",
      "Training:  19%|████████▋                                      | 47/254 [00:13<00:59,  3.45it/s, loss=0.0033]"
     ]
    },
    {
     "name": "stderr",
     "output_type": "stream",
     "text": [
      "\r",
      "Training:  19%|████████▉                                      | 48/254 [00:13<00:59,  3.44it/s, loss=0.0033]"
     ]
    },
    {
     "name": "stderr",
     "output_type": "stream",
     "text": [
      "\r",
      "Training:  19%|████████▉                                      | 48/254 [00:13<00:59,  3.44it/s, loss=0.0024]"
     ]
    },
    {
     "name": "stderr",
     "output_type": "stream",
     "text": [
      "\r",
      "Training:  19%|█████████                                      | 49/254 [00:13<00:59,  3.44it/s, loss=0.0024]"
     ]
    },
    {
     "name": "stderr",
     "output_type": "stream",
     "text": [
      "\r",
      "Training:  19%|█████████                                      | 49/254 [00:13<00:59,  3.44it/s, loss=0.0080]"
     ]
    },
    {
     "name": "stderr",
     "output_type": "stream",
     "text": [
      "\r",
      "Training:  20%|█████████▎                                     | 50/254 [00:13<00:59,  3.42it/s, loss=0.0080]"
     ]
    },
    {
     "name": "stderr",
     "output_type": "stream",
     "text": [
      "\r",
      "Training:  20%|█████████▎                                     | 50/254 [00:13<00:59,  3.42it/s, loss=0.0017]"
     ]
    },
    {
     "name": "stderr",
     "output_type": "stream",
     "text": [
      "\r",
      "Training:  20%|█████████▍                                     | 51/254 [00:13<00:59,  3.43it/s, loss=0.0017]"
     ]
    },
    {
     "name": "stderr",
     "output_type": "stream",
     "text": [
      "\r",
      "Training:  20%|█████████▍                                     | 51/254 [00:14<00:59,  3.43it/s, loss=0.0048]"
     ]
    },
    {
     "name": "stderr",
     "output_type": "stream",
     "text": [
      "\r",
      "Training:  20%|█████████▌                                     | 52/254 [00:14<00:58,  3.43it/s, loss=0.0048]"
     ]
    },
    {
     "name": "stderr",
     "output_type": "stream",
     "text": [
      "\r",
      "Training:  20%|█████████▌                                     | 52/254 [00:14<00:58,  3.43it/s, loss=0.0041]"
     ]
    },
    {
     "name": "stderr",
     "output_type": "stream",
     "text": [
      "\r",
      "Training:  21%|█████████▊                                     | 53/254 [00:14<00:58,  3.42it/s, loss=0.0041]"
     ]
    },
    {
     "name": "stderr",
     "output_type": "stream",
     "text": [
      "\r",
      "Training:  21%|█████████▊                                     | 53/254 [00:14<00:58,  3.42it/s, loss=0.0018]"
     ]
    },
    {
     "name": "stderr",
     "output_type": "stream",
     "text": [
      "\r",
      "Training:  21%|█████████▉                                     | 54/254 [00:14<00:58,  3.42it/s, loss=0.0018]"
     ]
    },
    {
     "name": "stderr",
     "output_type": "stream",
     "text": [
      "\r",
      "Training:  21%|█████████▉                                     | 54/254 [00:15<00:58,  3.42it/s, loss=0.0111]"
     ]
    },
    {
     "name": "stderr",
     "output_type": "stream",
     "text": [
      "\r",
      "Training:  22%|██████████▏                                    | 55/254 [00:15<00:58,  3.42it/s, loss=0.0111]"
     ]
    },
    {
     "name": "stderr",
     "output_type": "stream",
     "text": [
      "\r",
      "Training:  22%|██████████▏                                    | 55/254 [00:15<00:58,  3.42it/s, loss=0.0489]"
     ]
    },
    {
     "name": "stderr",
     "output_type": "stream",
     "text": [
      "\r",
      "Training:  22%|██████████▎                                    | 56/254 [00:15<00:57,  3.43it/s, loss=0.0489]"
     ]
    },
    {
     "name": "stderr",
     "output_type": "stream",
     "text": [
      "\r",
      "Training:  22%|██████████▎                                    | 56/254 [00:15<00:57,  3.43it/s, loss=0.0163]"
     ]
    },
    {
     "name": "stderr",
     "output_type": "stream",
     "text": [
      "\r",
      "Training:  22%|██████████▌                                    | 57/254 [00:15<00:57,  3.43it/s, loss=0.0163]"
     ]
    },
    {
     "name": "stderr",
     "output_type": "stream",
     "text": [
      "\r",
      "Training:  22%|██████████▌                                    | 57/254 [00:15<00:57,  3.43it/s, loss=0.0194]"
     ]
    },
    {
     "name": "stderr",
     "output_type": "stream",
     "text": [
      "\r",
      "Training:  23%|██████████▋                                    | 58/254 [00:15<00:57,  3.43it/s, loss=0.0194]"
     ]
    },
    {
     "name": "stderr",
     "output_type": "stream",
     "text": [
      "\r",
      "Training:  23%|██████████▋                                    | 58/254 [00:16<00:57,  3.43it/s, loss=0.0047]"
     ]
    },
    {
     "name": "stderr",
     "output_type": "stream",
     "text": [
      "\r",
      "Training:  23%|██████████▉                                    | 59/254 [00:16<00:56,  3.43it/s, loss=0.0047]"
     ]
    },
    {
     "name": "stderr",
     "output_type": "stream",
     "text": [
      "\r",
      "Training:  23%|██████████▉                                    | 59/254 [00:16<00:56,  3.43it/s, loss=0.0268]"
     ]
    },
    {
     "name": "stderr",
     "output_type": "stream",
     "text": [
      "\r",
      "Training:  24%|███████████                                    | 60/254 [00:16<00:56,  3.43it/s, loss=0.0268]"
     ]
    },
    {
     "name": "stderr",
     "output_type": "stream",
     "text": [
      "\r",
      "Training:  24%|███████████                                    | 60/254 [00:16<00:56,  3.43it/s, loss=0.0622]"
     ]
    },
    {
     "name": "stderr",
     "output_type": "stream",
     "text": [
      "\r",
      "Training:  24%|███████████▎                                   | 61/254 [00:16<00:56,  3.43it/s, loss=0.0622]"
     ]
    },
    {
     "name": "stderr",
     "output_type": "stream",
     "text": [
      "\r",
      "Training:  24%|███████████▎                                   | 61/254 [00:17<00:56,  3.43it/s, loss=0.0269]"
     ]
    },
    {
     "name": "stderr",
     "output_type": "stream",
     "text": [
      "\r",
      "Training:  24%|███████████▍                                   | 62/254 [00:17<00:55,  3.43it/s, loss=0.0269]"
     ]
    },
    {
     "name": "stderr",
     "output_type": "stream",
     "text": [
      "\r",
      "Training:  24%|███████████▍                                   | 62/254 [00:17<00:55,  3.43it/s, loss=0.0174]"
     ]
    },
    {
     "name": "stderr",
     "output_type": "stream",
     "text": [
      "\r",
      "Training:  25%|███████████▋                                   | 63/254 [00:17<00:55,  3.43it/s, loss=0.0174]"
     ]
    },
    {
     "name": "stderr",
     "output_type": "stream",
     "text": [
      "\r",
      "Training:  25%|███████████▋                                   | 63/254 [00:17<00:55,  3.43it/s, loss=0.0060]"
     ]
    },
    {
     "name": "stderr",
     "output_type": "stream",
     "text": [
      "\r",
      "Training:  25%|███████████▊                                   | 64/254 [00:17<00:55,  3.43it/s, loss=0.0060]"
     ]
    },
    {
     "name": "stderr",
     "output_type": "stream",
     "text": [
      "\r",
      "Training:  25%|███████████▊                                   | 64/254 [00:18<00:55,  3.43it/s, loss=0.0033]"
     ]
    },
    {
     "name": "stderr",
     "output_type": "stream",
     "text": [
      "\r",
      "Training:  26%|████████████                                   | 65/254 [00:18<00:55,  3.43it/s, loss=0.0033]"
     ]
    },
    {
     "name": "stderr",
     "output_type": "stream",
     "text": [
      "\r",
      "Training:  26%|████████████                                   | 65/254 [00:18<00:55,  3.43it/s, loss=0.0150]"
     ]
    },
    {
     "name": "stderr",
     "output_type": "stream",
     "text": [
      "\r",
      "Training:  26%|████████████▏                                  | 66/254 [00:18<00:54,  3.43it/s, loss=0.0150]"
     ]
    },
    {
     "name": "stderr",
     "output_type": "stream",
     "text": [
      "\r",
      "Training:  26%|████████████▏                                  | 66/254 [00:18<00:54,  3.43it/s, loss=0.0058]"
     ]
    },
    {
     "name": "stderr",
     "output_type": "stream",
     "text": [
      "\r",
      "Training:  26%|████████████▍                                  | 67/254 [00:18<00:54,  3.43it/s, loss=0.0058]"
     ]
    },
    {
     "name": "stderr",
     "output_type": "stream",
     "text": [
      "\r",
      "Training:  26%|████████████▍                                  | 67/254 [00:18<00:54,  3.43it/s, loss=0.1046]"
     ]
    },
    {
     "name": "stderr",
     "output_type": "stream",
     "text": [
      "\r",
      "Training:  27%|████████████▌                                  | 68/254 [00:18<00:54,  3.43it/s, loss=0.1046]"
     ]
    },
    {
     "name": "stderr",
     "output_type": "stream",
     "text": [
      "\r",
      "Training:  27%|████████████▌                                  | 68/254 [00:19<00:54,  3.43it/s, loss=0.0067]"
     ]
    },
    {
     "name": "stderr",
     "output_type": "stream",
     "text": [
      "\r",
      "Training:  27%|████████████▊                                  | 69/254 [00:19<00:53,  3.43it/s, loss=0.0067]"
     ]
    },
    {
     "name": "stderr",
     "output_type": "stream",
     "text": [
      "\r",
      "Training:  27%|████████████▊                                  | 69/254 [00:19<00:53,  3.43it/s, loss=0.0040]"
     ]
    },
    {
     "name": "stderr",
     "output_type": "stream",
     "text": [
      "\r",
      "Training:  28%|████████████▉                                  | 70/254 [00:19<00:53,  3.43it/s, loss=0.0040]"
     ]
    },
    {
     "name": "stderr",
     "output_type": "stream",
     "text": [
      "\r",
      "Training:  28%|████████████▉                                  | 70/254 [00:19<00:53,  3.43it/s, loss=0.0249]"
     ]
    },
    {
     "name": "stderr",
     "output_type": "stream",
     "text": [
      "\r",
      "Training:  28%|█████████████▏                                 | 71/254 [00:19<00:53,  3.43it/s, loss=0.0249]"
     ]
    },
    {
     "name": "stderr",
     "output_type": "stream",
     "text": [
      "\r",
      "Training:  28%|█████████████▏                                 | 71/254 [00:20<00:53,  3.43it/s, loss=0.0051]"
     ]
    },
    {
     "name": "stderr",
     "output_type": "stream",
     "text": [
      "\r",
      "Training:  28%|█████████████▎                                 | 72/254 [00:20<00:53,  3.43it/s, loss=0.0051]"
     ]
    },
    {
     "name": "stderr",
     "output_type": "stream",
     "text": [
      "\r",
      "Training:  28%|█████████████▎                                 | 72/254 [00:20<00:53,  3.43it/s, loss=0.0449]"
     ]
    },
    {
     "name": "stderr",
     "output_type": "stream",
     "text": [
      "\r",
      "Training:  29%|█████████████▌                                 | 73/254 [00:20<00:52,  3.43it/s, loss=0.0449]"
     ]
    },
    {
     "name": "stderr",
     "output_type": "stream",
     "text": [
      "\r",
      "Training:  29%|█████████████▌                                 | 73/254 [00:20<00:52,  3.43it/s, loss=0.0064]"
     ]
    },
    {
     "name": "stderr",
     "output_type": "stream",
     "text": [
      "\r",
      "Training:  29%|█████████████▋                                 | 74/254 [00:20<00:52,  3.43it/s, loss=0.0064]"
     ]
    },
    {
     "name": "stderr",
     "output_type": "stream",
     "text": [
      "\r",
      "Training:  29%|█████████████▋                                 | 74/254 [00:20<00:52,  3.43it/s, loss=0.0313]"
     ]
    },
    {
     "name": "stderr",
     "output_type": "stream",
     "text": [
      "\r",
      "Training:  30%|█████████████▉                                 | 75/254 [00:20<00:52,  3.43it/s, loss=0.0313]"
     ]
    },
    {
     "name": "stderr",
     "output_type": "stream",
     "text": [
      "\r",
      "Training:  30%|█████████████▉                                 | 75/254 [00:21<00:52,  3.43it/s, loss=0.0069]"
     ]
    },
    {
     "name": "stderr",
     "output_type": "stream",
     "text": [
      "\r",
      "Training:  30%|██████████████                                 | 76/254 [00:21<00:51,  3.43it/s, loss=0.0069]"
     ]
    },
    {
     "name": "stderr",
     "output_type": "stream",
     "text": [
      "\r",
      "Training:  30%|██████████████                                 | 76/254 [00:21<00:51,  3.43it/s, loss=0.0022]"
     ]
    },
    {
     "name": "stderr",
     "output_type": "stream",
     "text": [
      "\r",
      "Training:  30%|██████████████▏                                | 77/254 [00:21<00:51,  3.44it/s, loss=0.0022]"
     ]
    },
    {
     "name": "stderr",
     "output_type": "stream",
     "text": [
      "\r",
      "Training:  30%|██████████████▏                                | 77/254 [00:21<00:51,  3.44it/s, loss=0.0088]"
     ]
    },
    {
     "name": "stderr",
     "output_type": "stream",
     "text": [
      "\r",
      "Training:  31%|██████████████▍                                | 78/254 [00:21<00:51,  3.44it/s, loss=0.0088]"
     ]
    },
    {
     "name": "stderr",
     "output_type": "stream",
     "text": [
      "\r",
      "Training:  31%|██████████████▍                                | 78/254 [00:22<00:51,  3.44it/s, loss=0.0071]"
     ]
    },
    {
     "name": "stderr",
     "output_type": "stream",
     "text": [
      "\r",
      "Training:  31%|██████████████▌                                | 79/254 [00:22<00:50,  3.44it/s, loss=0.0071]"
     ]
    },
    {
     "name": "stderr",
     "output_type": "stream",
     "text": [
      "\r",
      "Training:  31%|██████████████▌                                | 79/254 [00:22<00:50,  3.44it/s, loss=0.0688]"
     ]
    },
    {
     "name": "stderr",
     "output_type": "stream",
     "text": [
      "\r",
      "Training:  31%|██████████████▊                                | 80/254 [00:22<00:50,  3.44it/s, loss=0.0688]"
     ]
    },
    {
     "name": "stderr",
     "output_type": "stream",
     "text": [
      "\r",
      "Training:  31%|██████████████▊                                | 80/254 [00:22<00:50,  3.44it/s, loss=0.0460]"
     ]
    },
    {
     "name": "stderr",
     "output_type": "stream",
     "text": [
      "\r",
      "Training:  32%|██████████████▉                                | 81/254 [00:22<00:50,  3.43it/s, loss=0.0460]"
     ]
    },
    {
     "name": "stderr",
     "output_type": "stream",
     "text": [
      "\r",
      "Training:  32%|██████████████▉                                | 81/254 [00:22<00:50,  3.43it/s, loss=0.0028]"
     ]
    },
    {
     "name": "stderr",
     "output_type": "stream",
     "text": [
      "\r",
      "Training:  32%|███████████████▏                               | 82/254 [00:22<00:50,  3.43it/s, loss=0.0028]"
     ]
    },
    {
     "name": "stderr",
     "output_type": "stream",
     "text": [
      "\r",
      "Training:  32%|███████████████▏                               | 82/254 [00:23<00:50,  3.43it/s, loss=0.1509]"
     ]
    },
    {
     "name": "stderr",
     "output_type": "stream",
     "text": [
      "\r",
      "Training:  33%|███████████████▎                               | 83/254 [00:23<00:49,  3.43it/s, loss=0.1509]"
     ]
    },
    {
     "name": "stderr",
     "output_type": "stream",
     "text": [
      "\r",
      "Training:  33%|███████████████▎                               | 83/254 [00:23<00:49,  3.43it/s, loss=0.0047]"
     ]
    },
    {
     "name": "stderr",
     "output_type": "stream",
     "text": [
      "\r",
      "Training:  33%|███████████████▌                               | 84/254 [00:23<00:49,  3.43it/s, loss=0.0047]"
     ]
    },
    {
     "name": "stderr",
     "output_type": "stream",
     "text": [
      "\r",
      "Training:  33%|███████████████▌                               | 84/254 [00:23<00:49,  3.43it/s, loss=0.0148]"
     ]
    },
    {
     "name": "stderr",
     "output_type": "stream",
     "text": [
      "\r",
      "Training:  33%|███████████████▋                               | 85/254 [00:23<00:49,  3.43it/s, loss=0.0148]"
     ]
    },
    {
     "name": "stderr",
     "output_type": "stream",
     "text": [
      "\r",
      "Training:  33%|███████████████▋                               | 85/254 [00:24<00:49,  3.43it/s, loss=0.0727]"
     ]
    },
    {
     "name": "stderr",
     "output_type": "stream",
     "text": [
      "\r",
      "Training:  34%|███████████████▉                               | 86/254 [00:24<00:48,  3.43it/s, loss=0.0727]"
     ]
    },
    {
     "name": "stderr",
     "output_type": "stream",
     "text": [
      "\r",
      "Training:  34%|███████████████▉                               | 86/254 [00:24<00:48,  3.43it/s, loss=0.0098]"
     ]
    },
    {
     "name": "stderr",
     "output_type": "stream",
     "text": [
      "\r",
      "Training:  34%|████████████████                               | 87/254 [00:24<00:48,  3.43it/s, loss=0.0098]"
     ]
    },
    {
     "name": "stderr",
     "output_type": "stream",
     "text": [
      "\r",
      "Training:  34%|████████████████                               | 87/254 [00:24<00:48,  3.43it/s, loss=0.0111]"
     ]
    },
    {
     "name": "stderr",
     "output_type": "stream",
     "text": [
      "\r",
      "Training:  35%|████████████████▎                              | 88/254 [00:24<00:48,  3.43it/s, loss=0.0111]"
     ]
    },
    {
     "name": "stderr",
     "output_type": "stream",
     "text": [
      "\r",
      "Training:  35%|████████████████▎                              | 88/254 [00:25<00:48,  3.43it/s, loss=0.0051]"
     ]
    },
    {
     "name": "stderr",
     "output_type": "stream",
     "text": [
      "\r",
      "Training:  35%|████████████████▍                              | 89/254 [00:25<00:48,  3.43it/s, loss=0.0051]"
     ]
    },
    {
     "name": "stderr",
     "output_type": "stream",
     "text": [
      "\r",
      "Training:  35%|████████████████▍                              | 89/254 [00:25<00:48,  3.43it/s, loss=0.0405]"
     ]
    },
    {
     "name": "stderr",
     "output_type": "stream",
     "text": [
      "\r",
      "Training:  35%|████████████████▋                              | 90/254 [00:25<00:47,  3.43it/s, loss=0.0405]"
     ]
    },
    {
     "name": "stderr",
     "output_type": "stream",
     "text": [
      "\r",
      "Training:  35%|████████████████▋                              | 90/254 [00:25<00:47,  3.43it/s, loss=0.0045]"
     ]
    },
    {
     "name": "stderr",
     "output_type": "stream",
     "text": [
      "\r",
      "Training:  36%|████████████████▊                              | 91/254 [00:25<00:47,  3.43it/s, loss=0.0045]"
     ]
    },
    {
     "name": "stderr",
     "output_type": "stream",
     "text": [
      "\r",
      "Training:  36%|████████████████▊                              | 91/254 [00:25<00:47,  3.43it/s, loss=0.0071]"
     ]
    },
    {
     "name": "stderr",
     "output_type": "stream",
     "text": [
      "\r",
      "Training:  36%|█████████████████                              | 92/254 [00:25<00:47,  3.43it/s, loss=0.0071]"
     ]
    },
    {
     "name": "stderr",
     "output_type": "stream",
     "text": [
      "\r",
      "Training:  36%|█████████████████                              | 92/254 [00:26<00:47,  3.43it/s, loss=0.0184]"
     ]
    },
    {
     "name": "stderr",
     "output_type": "stream",
     "text": [
      "\r",
      "Training:  37%|█████████████████▏                             | 93/254 [00:26<00:46,  3.43it/s, loss=0.0184]"
     ]
    },
    {
     "name": "stderr",
     "output_type": "stream",
     "text": [
      "\r",
      "Training:  37%|█████████████████▏                             | 93/254 [00:26<00:46,  3.43it/s, loss=0.0340]"
     ]
    },
    {
     "name": "stderr",
     "output_type": "stream",
     "text": [
      "\r",
      "Training:  37%|█████████████████▍                             | 94/254 [00:26<00:46,  3.43it/s, loss=0.0340]"
     ]
    },
    {
     "name": "stderr",
     "output_type": "stream",
     "text": [
      "\r",
      "Training:  37%|█████████████████▍                             | 94/254 [00:26<00:46,  3.43it/s, loss=0.0646]"
     ]
    },
    {
     "name": "stderr",
     "output_type": "stream",
     "text": [
      "\r",
      "Training:  37%|█████████████████▌                             | 95/254 [00:26<00:46,  3.43it/s, loss=0.0646]"
     ]
    },
    {
     "name": "stderr",
     "output_type": "stream",
     "text": [
      "\r",
      "Training:  37%|█████████████████▌                             | 95/254 [00:27<00:46,  3.43it/s, loss=0.0026]"
     ]
    },
    {
     "name": "stderr",
     "output_type": "stream",
     "text": [
      "\r",
      "Training:  38%|█████████████████▊                             | 96/254 [00:27<00:46,  3.43it/s, loss=0.0026]"
     ]
    },
    {
     "name": "stderr",
     "output_type": "stream",
     "text": [
      "\r",
      "Training:  38%|█████████████████▊                             | 96/254 [00:27<00:46,  3.43it/s, loss=0.0080]"
     ]
    },
    {
     "name": "stderr",
     "output_type": "stream",
     "text": [
      "\r",
      "Training:  38%|█████████████████▉                             | 97/254 [00:27<00:45,  3.43it/s, loss=0.0080]"
     ]
    },
    {
     "name": "stderr",
     "output_type": "stream",
     "text": [
      "\r",
      "Training:  38%|█████████████████▉                             | 97/254 [00:27<00:45,  3.43it/s, loss=0.1003]"
     ]
    },
    {
     "name": "stderr",
     "output_type": "stream",
     "text": [
      "\r",
      "Training:  39%|██████████████████▏                            | 98/254 [00:27<00:45,  3.43it/s, loss=0.1003]"
     ]
    },
    {
     "name": "stderr",
     "output_type": "stream",
     "text": [
      "\r",
      "Training:  39%|██████████████████▏                            | 98/254 [00:27<00:45,  3.43it/s, loss=0.0057]"
     ]
    },
    {
     "name": "stderr",
     "output_type": "stream",
     "text": [
      "\r",
      "Training:  39%|██████████████████▎                            | 99/254 [00:27<00:45,  3.43it/s, loss=0.0057]"
     ]
    },
    {
     "name": "stderr",
     "output_type": "stream",
     "text": [
      "\r",
      "Training:  39%|██████████████████▎                            | 99/254 [00:28<00:45,  3.43it/s, loss=0.1013]"
     ]
    },
    {
     "name": "stderr",
     "output_type": "stream",
     "text": [
      "\r",
      "Training:  39%|██████████████████                            | 100/254 [00:28<00:44,  3.43it/s, loss=0.1013]"
     ]
    },
    {
     "name": "stderr",
     "output_type": "stream",
     "text": [
      "\r",
      "Training:  39%|██████████████████                            | 100/254 [00:28<00:44,  3.43it/s, loss=0.0020]"
     ]
    },
    {
     "name": "stderr",
     "output_type": "stream",
     "text": [
      "\r",
      "Training:  40%|██████████████████▎                           | 101/254 [00:28<00:44,  3.43it/s, loss=0.0020]"
     ]
    },
    {
     "name": "stderr",
     "output_type": "stream",
     "text": [
      "\r",
      "Training:  40%|██████████████████▎                           | 101/254 [00:28<00:44,  3.43it/s, loss=0.0016]"
     ]
    },
    {
     "name": "stderr",
     "output_type": "stream",
     "text": [
      "\r",
      "Training:  40%|██████████████████▍                           | 102/254 [00:28<00:44,  3.43it/s, loss=0.0016]"
     ]
    },
    {
     "name": "stderr",
     "output_type": "stream",
     "text": [
      "\r",
      "Training:  40%|██████████████████▍                           | 102/254 [00:29<00:44,  3.43it/s, loss=0.0031]"
     ]
    },
    {
     "name": "stderr",
     "output_type": "stream",
     "text": [
      "\r",
      "Training:  41%|██████████████████▋                           | 103/254 [00:29<00:44,  3.42it/s, loss=0.0031]"
     ]
    },
    {
     "name": "stderr",
     "output_type": "stream",
     "text": [
      "\r",
      "Training:  41%|██████████████████▋                           | 103/254 [00:29<00:44,  3.42it/s, loss=0.0019]"
     ]
    },
    {
     "name": "stderr",
     "output_type": "stream",
     "text": [
      "\r",
      "Training:  41%|██████████████████▊                           | 104/254 [00:29<00:43,  3.43it/s, loss=0.0019]"
     ]
    },
    {
     "name": "stderr",
     "output_type": "stream",
     "text": [
      "\r",
      "Training:  41%|██████████████████▊                           | 104/254 [00:29<00:43,  3.43it/s, loss=0.0812]"
     ]
    },
    {
     "name": "stderr",
     "output_type": "stream",
     "text": [
      "\r",
      "Training:  41%|███████████████████                           | 105/254 [00:29<00:43,  3.43it/s, loss=0.0812]"
     ]
    },
    {
     "name": "stderr",
     "output_type": "stream",
     "text": [
      "\r",
      "Training:  41%|███████████████████                           | 105/254 [00:29<00:43,  3.43it/s, loss=0.0301]"
     ]
    },
    {
     "name": "stderr",
     "output_type": "stream",
     "text": [
      "\r",
      "Training:  42%|███████████████████▏                          | 106/254 [00:29<00:43,  3.43it/s, loss=0.0301]"
     ]
    },
    {
     "name": "stderr",
     "output_type": "stream",
     "text": [
      "\r",
      "Training:  42%|███████████████████▏                          | 106/254 [00:30<00:43,  3.43it/s, loss=0.0956]"
     ]
    },
    {
     "name": "stderr",
     "output_type": "stream",
     "text": [
      "\r",
      "Training:  42%|███████████████████▍                          | 107/254 [00:30<00:42,  3.43it/s, loss=0.0956]"
     ]
    },
    {
     "name": "stderr",
     "output_type": "stream",
     "text": [
      "\r",
      "Training:  42%|███████████████████▍                          | 107/254 [00:30<00:42,  3.43it/s, loss=0.0220]"
     ]
    },
    {
     "name": "stderr",
     "output_type": "stream",
     "text": [
      "\r",
      "Training:  43%|███████████████████▌                          | 108/254 [00:30<00:42,  3.43it/s, loss=0.0220]"
     ]
    },
    {
     "name": "stderr",
     "output_type": "stream",
     "text": [
      "\r",
      "Training:  43%|███████████████████▌                          | 108/254 [00:30<00:42,  3.43it/s, loss=0.0304]"
     ]
    },
    {
     "name": "stderr",
     "output_type": "stream",
     "text": [
      "\r",
      "Training:  43%|███████████████████▋                          | 109/254 [00:30<00:42,  3.43it/s, loss=0.0304]"
     ]
    },
    {
     "name": "stderr",
     "output_type": "stream",
     "text": [
      "\r",
      "Training:  43%|███████████████████▋                          | 109/254 [00:31<00:42,  3.43it/s, loss=0.0021]"
     ]
    },
    {
     "name": "stderr",
     "output_type": "stream",
     "text": [
      "\r",
      "Training:  43%|███████████████████▉                          | 110/254 [00:31<00:41,  3.43it/s, loss=0.0021]"
     ]
    },
    {
     "name": "stderr",
     "output_type": "stream",
     "text": [
      "\r",
      "Training:  43%|███████████████████▉                          | 110/254 [00:31<00:41,  3.43it/s, loss=0.0028]"
     ]
    },
    {
     "name": "stderr",
     "output_type": "stream",
     "text": [
      "\r",
      "Training:  44%|████████████████████                          | 111/254 [00:31<00:41,  3.43it/s, loss=0.0028]"
     ]
    },
    {
     "name": "stderr",
     "output_type": "stream",
     "text": [
      "\r",
      "Training:  44%|████████████████████                          | 111/254 [00:31<00:41,  3.43it/s, loss=0.0137]"
     ]
    },
    {
     "name": "stderr",
     "output_type": "stream",
     "text": [
      "\r",
      "Training:  44%|████████████████████▎                         | 112/254 [00:31<00:41,  3.43it/s, loss=0.0137]"
     ]
    },
    {
     "name": "stderr",
     "output_type": "stream",
     "text": [
      "\r",
      "Training:  44%|████████████████████▎                         | 112/254 [00:32<00:41,  3.43it/s, loss=0.0095]"
     ]
    },
    {
     "name": "stderr",
     "output_type": "stream",
     "text": [
      "\r",
      "Training:  44%|████████████████████▍                         | 113/254 [00:32<00:41,  3.43it/s, loss=0.0095]"
     ]
    },
    {
     "name": "stderr",
     "output_type": "stream",
     "text": [
      "\r",
      "Training:  44%|████████████████████▍                         | 113/254 [00:32<00:41,  3.43it/s, loss=0.0022]"
     ]
    },
    {
     "name": "stderr",
     "output_type": "stream",
     "text": [
      "\r",
      "Training:  45%|████████████████████▋                         | 114/254 [00:32<00:40,  3.43it/s, loss=0.0022]"
     ]
    },
    {
     "name": "stderr",
     "output_type": "stream",
     "text": [
      "\r",
      "Training:  45%|████████████████████▋                         | 114/254 [00:32<00:40,  3.43it/s, loss=0.0030]"
     ]
    },
    {
     "name": "stderr",
     "output_type": "stream",
     "text": [
      "\r",
      "Training:  45%|████████████████████▊                         | 115/254 [00:32<00:40,  3.43it/s, loss=0.0030]"
     ]
    },
    {
     "name": "stderr",
     "output_type": "stream",
     "text": [
      "\r",
      "Training:  45%|████████████████████▊                         | 115/254 [00:32<00:40,  3.43it/s, loss=0.0055]"
     ]
    },
    {
     "name": "stderr",
     "output_type": "stream",
     "text": [
      "\r",
      "Training:  46%|█████████████████████                         | 116/254 [00:32<00:40,  3.43it/s, loss=0.0055]"
     ]
    },
    {
     "name": "stderr",
     "output_type": "stream",
     "text": [
      "\r",
      "Training:  46%|█████████████████████                         | 116/254 [00:33<00:40,  3.43it/s, loss=0.0021]"
     ]
    },
    {
     "name": "stderr",
     "output_type": "stream",
     "text": [
      "\r",
      "Training:  46%|█████████████████████▏                        | 117/254 [00:33<00:39,  3.43it/s, loss=0.0021]"
     ]
    },
    {
     "name": "stderr",
     "output_type": "stream",
     "text": [
      "\r",
      "Training:  46%|█████████████████████▏                        | 117/254 [00:33<00:39,  3.43it/s, loss=0.0499]"
     ]
    },
    {
     "name": "stderr",
     "output_type": "stream",
     "text": [
      "\r",
      "Training:  46%|█████████████████████▎                        | 118/254 [00:33<00:39,  3.43it/s, loss=0.0499]"
     ]
    },
    {
     "name": "stderr",
     "output_type": "stream",
     "text": [
      "\r",
      "Training:  46%|█████████████████████▎                        | 118/254 [00:33<00:39,  3.43it/s, loss=0.0102]"
     ]
    },
    {
     "name": "stderr",
     "output_type": "stream",
     "text": [
      "\r",
      "Training:  47%|█████████████████████▌                        | 119/254 [00:33<00:39,  3.43it/s, loss=0.0102]"
     ]
    },
    {
     "name": "stderr",
     "output_type": "stream",
     "text": [
      "\r",
      "Training:  47%|█████████████████████▌                        | 119/254 [00:34<00:39,  3.43it/s, loss=0.0540]"
     ]
    },
    {
     "name": "stderr",
     "output_type": "stream",
     "text": [
      "\r",
      "Training:  47%|█████████████████████▋                        | 120/254 [00:34<00:39,  3.41it/s, loss=0.0540]"
     ]
    },
    {
     "name": "stderr",
     "output_type": "stream",
     "text": [
      "\r",
      "Training:  47%|█████████████████████▋                        | 120/254 [00:34<00:39,  3.41it/s, loss=0.0033]"
     ]
    },
    {
     "name": "stderr",
     "output_type": "stream",
     "text": [
      "\r",
      "Training:  48%|█████████████████████▉                        | 121/254 [00:34<00:39,  3.39it/s, loss=0.0033]"
     ]
    },
    {
     "name": "stderr",
     "output_type": "stream",
     "text": [
      "\r",
      "Training:  48%|█████████████████████▉                        | 121/254 [00:34<00:39,  3.39it/s, loss=0.1103]"
     ]
    },
    {
     "name": "stderr",
     "output_type": "stream",
     "text": [
      "\r",
      "Training:  48%|██████████████████████                        | 122/254 [00:34<00:38,  3.40it/s, loss=0.1103]"
     ]
    },
    {
     "name": "stderr",
     "output_type": "stream",
     "text": [
      "\r",
      "Training:  48%|██████████████████████                        | 122/254 [00:34<00:38,  3.40it/s, loss=0.0677]"
     ]
    },
    {
     "name": "stderr",
     "output_type": "stream",
     "text": [
      "\r",
      "Training:  48%|██████████████████████▎                       | 123/254 [00:34<00:38,  3.40it/s, loss=0.0677]"
     ]
    },
    {
     "name": "stderr",
     "output_type": "stream",
     "text": [
      "\r",
      "Training:  48%|██████████████████████▎                       | 123/254 [00:35<00:38,  3.40it/s, loss=0.0652]"
     ]
    },
    {
     "name": "stderr",
     "output_type": "stream",
     "text": [
      "\r",
      "Training:  49%|██████████████████████▍                       | 124/254 [00:35<00:38,  3.42it/s, loss=0.0652]"
     ]
    },
    {
     "name": "stderr",
     "output_type": "stream",
     "text": [
      "\r",
      "Training:  49%|██████████████████████▍                       | 124/254 [00:35<00:38,  3.42it/s, loss=0.0031]"
     ]
    },
    {
     "name": "stderr",
     "output_type": "stream",
     "text": [
      "\r",
      "Training:  49%|██████████████████████▋                       | 125/254 [00:35<00:37,  3.42it/s, loss=0.0031]"
     ]
    },
    {
     "name": "stderr",
     "output_type": "stream",
     "text": [
      "\r",
      "Training:  49%|██████████████████████▋                       | 125/254 [00:35<00:37,  3.42it/s, loss=0.0013]"
     ]
    },
    {
     "name": "stderr",
     "output_type": "stream",
     "text": [
      "\r",
      "Training:  50%|██████████████████████▊                       | 126/254 [00:35<00:37,  3.42it/s, loss=0.0013]"
     ]
    },
    {
     "name": "stderr",
     "output_type": "stream",
     "text": [
      "\r",
      "Training:  50%|██████████████████████▊                       | 126/254 [00:36<00:37,  3.42it/s, loss=0.0017]"
     ]
    },
    {
     "name": "stderr",
     "output_type": "stream",
     "text": [
      "\r",
      "Training:  50%|███████████████████████                       | 127/254 [00:36<00:37,  3.42it/s, loss=0.0017]"
     ]
    },
    {
     "name": "stderr",
     "output_type": "stream",
     "text": [
      "\r",
      "Training:  50%|███████████████████████                       | 127/254 [00:36<00:37,  3.42it/s, loss=0.0014]"
     ]
    },
    {
     "name": "stderr",
     "output_type": "stream",
     "text": [
      "\r",
      "Training:  50%|███████████████████████▏                      | 128/254 [00:36<00:36,  3.42it/s, loss=0.0014]"
     ]
    },
    {
     "name": "stderr",
     "output_type": "stream",
     "text": [
      "\r",
      "Training:  50%|███████████████████████▏                      | 128/254 [00:36<00:36,  3.42it/s, loss=0.0035]"
     ]
    },
    {
     "name": "stderr",
     "output_type": "stream",
     "text": [
      "\r",
      "Training:  51%|███████████████████████▎                      | 129/254 [00:36<00:36,  3.43it/s, loss=0.0035]"
     ]
    },
    {
     "name": "stderr",
     "output_type": "stream",
     "text": [
      "\r",
      "Training:  51%|███████████████████████▎                      | 129/254 [00:36<00:36,  3.43it/s, loss=0.0104]"
     ]
    },
    {
     "name": "stderr",
     "output_type": "stream",
     "text": [
      "\r",
      "Training:  51%|███████████████████████▌                      | 130/254 [00:36<00:36,  3.42it/s, loss=0.0104]"
     ]
    },
    {
     "name": "stderr",
     "output_type": "stream",
     "text": [
      "\r",
      "Training:  51%|███████████████████████▌                      | 130/254 [00:37<00:36,  3.42it/s, loss=0.0016]"
     ]
    },
    {
     "name": "stderr",
     "output_type": "stream",
     "text": [
      "\r",
      "Training:  52%|███████████████████████▋                      | 131/254 [00:37<00:35,  3.43it/s, loss=0.0016]"
     ]
    },
    {
     "name": "stderr",
     "output_type": "stream",
     "text": [
      "\r",
      "Training:  52%|███████████████████████▋                      | 131/254 [00:37<00:35,  3.43it/s, loss=0.0592]"
     ]
    },
    {
     "name": "stderr",
     "output_type": "stream",
     "text": [
      "\r",
      "Training:  52%|███████████████████████▉                      | 132/254 [00:37<00:35,  3.43it/s, loss=0.0592]"
     ]
    },
    {
     "name": "stderr",
     "output_type": "stream",
     "text": [
      "\r",
      "Training:  52%|███████████████████████▉                      | 132/254 [00:37<00:35,  3.43it/s, loss=0.0021]"
     ]
    },
    {
     "name": "stderr",
     "output_type": "stream",
     "text": [
      "\r",
      "Training:  52%|████████████████████████                      | 133/254 [00:37<00:35,  3.43it/s, loss=0.0021]"
     ]
    },
    {
     "name": "stderr",
     "output_type": "stream",
     "text": [
      "\r",
      "Training:  52%|████████████████████████                      | 133/254 [00:38<00:35,  3.43it/s, loss=0.0048]"
     ]
    },
    {
     "name": "stderr",
     "output_type": "stream",
     "text": [
      "\r",
      "Training:  53%|████████████████████████▎                     | 134/254 [00:38<00:34,  3.43it/s, loss=0.0048]"
     ]
    },
    {
     "name": "stderr",
     "output_type": "stream",
     "text": [
      "\r",
      "Training:  53%|████████████████████████▎                     | 134/254 [00:38<00:34,  3.43it/s, loss=0.0015]"
     ]
    },
    {
     "name": "stderr",
     "output_type": "stream",
     "text": [
      "\r",
      "Training:  53%|████████████████████████▍                     | 135/254 [00:38<00:34,  3.43it/s, loss=0.0015]"
     ]
    },
    {
     "name": "stderr",
     "output_type": "stream",
     "text": [
      "\r",
      "Training:  53%|████████████████████████▍                     | 135/254 [00:38<00:34,  3.43it/s, loss=0.0921]"
     ]
    },
    {
     "name": "stderr",
     "output_type": "stream",
     "text": [
      "\r",
      "Training:  54%|████████████████████████▋                     | 136/254 [00:38<00:34,  3.43it/s, loss=0.0921]"
     ]
    },
    {
     "name": "stderr",
     "output_type": "stream",
     "text": [
      "\r",
      "Training:  54%|████████████████████████▋                     | 136/254 [00:39<00:34,  3.43it/s, loss=0.0026]"
     ]
    },
    {
     "name": "stderr",
     "output_type": "stream",
     "text": [
      "\r",
      "Training:  54%|████████████████████████▊                     | 137/254 [00:39<00:34,  3.42it/s, loss=0.0026]"
     ]
    },
    {
     "name": "stderr",
     "output_type": "stream",
     "text": [
      "\r",
      "Training:  54%|████████████████████████▊                     | 137/254 [00:39<00:34,  3.42it/s, loss=0.1049]"
     ]
    },
    {
     "name": "stderr",
     "output_type": "stream",
     "text": [
      "\r",
      "Training:  54%|████████████████████████▉                     | 138/254 [00:39<00:33,  3.43it/s, loss=0.1049]"
     ]
    },
    {
     "name": "stderr",
     "output_type": "stream",
     "text": [
      "\r",
      "Training:  54%|████████████████████████▉                     | 138/254 [00:39<00:33,  3.43it/s, loss=0.0018]"
     ]
    },
    {
     "name": "stderr",
     "output_type": "stream",
     "text": [
      "\r",
      "Training:  55%|█████████████████████████▏                    | 139/254 [00:39<00:33,  3.43it/s, loss=0.0018]"
     ]
    },
    {
     "name": "stderr",
     "output_type": "stream",
     "text": [
      "\r",
      "Training:  55%|█████████████████████████▏                    | 139/254 [00:38<00:33,  3.43it/s, loss=0.0451]"
     ]
    },
    {
     "name": "stderr",
     "output_type": "stream",
     "text": [
      "\r",
      "Training:  55%|█████████████████████████▏                    | 139/254 [00:39<00:33,  3.43it/s, loss=0.0016]"
     ]
    },
    {
     "name": "stderr",
     "output_type": "stream",
     "text": [
      "\r",
      "Training:  55%|█████████████████████████▏                    | 139/254 [00:39<00:33,  3.43it/s, loss=0.0011]"
     ]
    },
    {
     "name": "stderr",
     "output_type": "stream",
     "text": [
      "\r",
      "Training:  55%|█████████████████████████▏                    | 139/254 [00:39<00:33,  3.43it/s, loss=0.0043]"
     ]
    },
    {
     "name": "stderr",
     "output_type": "stream",
     "text": [
      "\r",
      "Training:  56%|█████████████████████████▉                    | 143/254 [00:39<00:15,  7.12it/s, loss=0.0043]"
     ]
    },
    {
     "name": "stderr",
     "output_type": "stream",
     "text": [
      "\r",
      "Training:  56%|█████████████████████████▉                    | 143/254 [00:40<00:15,  7.12it/s, loss=0.0200]"
     ]
    },
    {
     "name": "stderr",
     "output_type": "stream",
     "text": [
      "\r",
      "Training:  57%|██████████████████████████                    | 144/254 [00:40<00:18,  5.93it/s, loss=0.0200]"
     ]
    },
    {
     "name": "stderr",
     "output_type": "stream",
     "text": [
      "\r",
      "Training:  57%|██████████████████████████                    | 144/254 [00:40<00:18,  5.93it/s, loss=0.0022]"
     ]
    },
    {
     "name": "stderr",
     "output_type": "stream",
     "text": [
      "\r",
      "Training:  57%|██████████████████████████▎                   | 145/254 [00:40<00:21,  5.16it/s, loss=0.0022]"
     ]
    },
    {
     "name": "stderr",
     "output_type": "stream",
     "text": [
      "\r",
      "Training:  57%|██████████████████████████▎                   | 145/254 [00:40<00:21,  5.16it/s, loss=0.0904]"
     ]
    },
    {
     "name": "stderr",
     "output_type": "stream",
     "text": [
      "\r",
      "Training:  57%|██████████████████████████▍                   | 146/254 [00:40<00:23,  4.62it/s, loss=0.0904]"
     ]
    },
    {
     "name": "stderr",
     "output_type": "stream",
     "text": [
      "\r",
      "Training:  57%|██████████████████████████▍                   | 146/254 [00:40<00:23,  4.62it/s, loss=0.0447]"
     ]
    },
    {
     "name": "stderr",
     "output_type": "stream",
     "text": [
      "\r",
      "Training:  58%|██████████████████████████▌                   | 147/254 [00:40<00:25,  4.26it/s, loss=0.0447]"
     ]
    },
    {
     "name": "stderr",
     "output_type": "stream",
     "text": [
      "\r",
      "Training:  58%|██████████████████████████▌                   | 147/254 [00:41<00:25,  4.26it/s, loss=0.0051]"
     ]
    },
    {
     "name": "stderr",
     "output_type": "stream",
     "text": [
      "\r",
      "Training:  58%|██████████████████████████▊                   | 148/254 [00:41<00:26,  4.00it/s, loss=0.0051]"
     ]
    },
    {
     "name": "stderr",
     "output_type": "stream",
     "text": [
      "\r",
      "Training:  58%|██████████████████████████▊                   | 148/254 [00:41<00:26,  4.00it/s, loss=0.0014]"
     ]
    },
    {
     "name": "stderr",
     "output_type": "stream",
     "text": [
      "\r",
      "Training:  59%|██████████████████████████▉                   | 149/254 [00:41<00:27,  3.84it/s, loss=0.0014]"
     ]
    },
    {
     "name": "stderr",
     "output_type": "stream",
     "text": [
      "\r",
      "Training:  59%|██████████████████████████▉                   | 149/254 [00:41<00:27,  3.84it/s, loss=0.0206]"
     ]
    },
    {
     "name": "stderr",
     "output_type": "stream",
     "text": [
      "\r",
      "Training:  59%|███████████████████████████▏                  | 150/254 [00:41<00:28,  3.71it/s, loss=0.0206]"
     ]
    },
    {
     "name": "stderr",
     "output_type": "stream",
     "text": [
      "\r",
      "Training:  59%|███████████████████████████▏                  | 150/254 [00:42<00:28,  3.71it/s, loss=0.0018]"
     ]
    },
    {
     "name": "stderr",
     "output_type": "stream",
     "text": [
      "\r",
      "Training:  59%|███████████████████████████▎                  | 151/254 [00:42<00:28,  3.62it/s, loss=0.0018]"
     ]
    },
    {
     "name": "stderr",
     "output_type": "stream",
     "text": [
      "\r",
      "Training:  59%|███████████████████████████▎                  | 151/254 [00:42<00:28,  3.62it/s, loss=0.0868]"
     ]
    },
    {
     "name": "stderr",
     "output_type": "stream",
     "text": [
      "\r",
      "Training:  60%|███████████████████████████▌                  | 152/254 [00:42<00:28,  3.56it/s, loss=0.0868]"
     ]
    },
    {
     "name": "stderr",
     "output_type": "stream",
     "text": [
      "\r",
      "Training:  60%|███████████████████████████▌                  | 152/254 [00:42<00:28,  3.56it/s, loss=0.0190]"
     ]
    },
    {
     "name": "stderr",
     "output_type": "stream",
     "text": [
      "\r",
      "Training:  60%|███████████████████████████▋                  | 153/254 [00:42<00:28,  3.52it/s, loss=0.0190]"
     ]
    },
    {
     "name": "stderr",
     "output_type": "stream",
     "text": [
      "\r",
      "Training:  60%|███████████████████████████▋                  | 153/254 [00:43<00:28,  3.52it/s, loss=0.0017]"
     ]
    },
    {
     "name": "stderr",
     "output_type": "stream",
     "text": [
      "\r",
      "Training:  61%|███████████████████████████▉                  | 154/254 [00:43<00:28,  3.49it/s, loss=0.0017]"
     ]
    },
    {
     "name": "stderr",
     "output_type": "stream",
     "text": [
      "\r",
      "Training:  61%|███████████████████████████▉                  | 154/254 [00:43<00:28,  3.49it/s, loss=0.0025]"
     ]
    },
    {
     "name": "stderr",
     "output_type": "stream",
     "text": [
      "\r",
      "Training:  61%|████████████████████████████                  | 155/254 [00:43<00:28,  3.48it/s, loss=0.0025]"
     ]
    },
    {
     "name": "stderr",
     "output_type": "stream",
     "text": [
      "\r",
      "Training:  61%|████████████████████████████                  | 155/254 [00:43<00:28,  3.48it/s, loss=0.0026]"
     ]
    },
    {
     "name": "stderr",
     "output_type": "stream",
     "text": [
      "\r",
      "Training:  61%|████████████████████████████▎                 | 156/254 [00:43<00:28,  3.46it/s, loss=0.0026]"
     ]
    },
    {
     "name": "stderr",
     "output_type": "stream",
     "text": [
      "\r",
      "Training:  61%|████████████████████████████▎                 | 156/254 [00:43<00:28,  3.46it/s, loss=0.0020]"
     ]
    },
    {
     "name": "stderr",
     "output_type": "stream",
     "text": [
      "\r",
      "Training:  62%|████████████████████████████▍                 | 157/254 [00:43<00:28,  3.46it/s, loss=0.0020]"
     ]
    },
    {
     "name": "stderr",
     "output_type": "stream",
     "text": [
      "\r",
      "Training:  62%|████████████████████████████▍                 | 157/254 [00:44<00:28,  3.46it/s, loss=0.0374]"
     ]
    },
    {
     "name": "stderr",
     "output_type": "stream",
     "text": [
      "\r",
      "Training:  62%|████████████████████████████▌                 | 158/254 [00:44<00:27,  3.44it/s, loss=0.0374]"
     ]
    },
    {
     "name": "stderr",
     "output_type": "stream",
     "text": [
      "\r",
      "Training:  62%|████████████████████████████▌                 | 158/254 [00:44<00:27,  3.44it/s, loss=0.0259]"
     ]
    },
    {
     "name": "stderr",
     "output_type": "stream",
     "text": [
      "\r",
      "Training:  63%|████████████████████████████▊                 | 159/254 [00:44<00:27,  3.44it/s, loss=0.0259]"
     ]
    },
    {
     "name": "stderr",
     "output_type": "stream",
     "text": [
      "\r",
      "Training:  63%|████████████████████████████▊                 | 159/254 [00:44<00:27,  3.44it/s, loss=0.0099]"
     ]
    },
    {
     "name": "stderr",
     "output_type": "stream",
     "text": [
      "\r",
      "Training:  63%|████████████████████████████▉                 | 160/254 [00:44<00:27,  3.44it/s, loss=0.0099]"
     ]
    },
    {
     "name": "stderr",
     "output_type": "stream",
     "text": [
      "\r",
      "Training:  63%|████████████████████████████▉                 | 160/254 [00:45<00:27,  3.44it/s, loss=0.0015]"
     ]
    },
    {
     "name": "stderr",
     "output_type": "stream",
     "text": [
      "\r",
      "Training:  63%|█████████████████████████████▏                | 161/254 [00:45<00:27,  3.44it/s, loss=0.0015]"
     ]
    },
    {
     "name": "stderr",
     "output_type": "stream",
     "text": [
      "\r",
      "Training:  63%|█████████████████████████████▏                | 161/254 [00:45<00:27,  3.44it/s, loss=0.0039]"
     ]
    },
    {
     "name": "stderr",
     "output_type": "stream",
     "text": [
      "\r",
      "Training:  64%|█████████████████████████████▎                | 162/254 [00:45<00:26,  3.44it/s, loss=0.0039]"
     ]
    },
    {
     "name": "stderr",
     "output_type": "stream",
     "text": [
      "\r",
      "Training:  64%|█████████████████████████████▎                | 162/254 [00:45<00:26,  3.44it/s, loss=0.0019]"
     ]
    },
    {
     "name": "stderr",
     "output_type": "stream",
     "text": [
      "\r",
      "Training:  64%|█████████████████████████████▌                | 163/254 [00:45<00:26,  3.44it/s, loss=0.0019]"
     ]
    },
    {
     "name": "stderr",
     "output_type": "stream",
     "text": [
      "\r",
      "Training:  64%|█████████████████████████████▌                | 163/254 [00:45<00:26,  3.44it/s, loss=0.0063]"
     ]
    },
    {
     "name": "stderr",
     "output_type": "stream",
     "text": [
      "\r",
      "Training:  65%|█████████████████████████████▋                | 164/254 [00:45<00:26,  3.44it/s, loss=0.0063]"
     ]
    },
    {
     "name": "stderr",
     "output_type": "stream",
     "text": [
      "\r",
      "Training:  65%|█████████████████████████████▋                | 164/254 [00:46<00:26,  3.44it/s, loss=0.1923]"
     ]
    },
    {
     "name": "stderr",
     "output_type": "stream",
     "text": [
      "\r",
      "Training:  65%|█████████████████████████████▉                | 165/254 [00:46<00:25,  3.43it/s, loss=0.1923]"
     ]
    },
    {
     "name": "stderr",
     "output_type": "stream",
     "text": [
      "\r",
      "Training:  65%|█████████████████████████████▉                | 165/254 [00:46<00:25,  3.43it/s, loss=0.0045]"
     ]
    },
    {
     "name": "stderr",
     "output_type": "stream",
     "text": [
      "\r",
      "Training:  65%|██████████████████████████████                | 166/254 [00:46<00:25,  3.44it/s, loss=0.0045]"
     ]
    },
    {
     "name": "stderr",
     "output_type": "stream",
     "text": [
      "\r",
      "Training:  65%|██████████████████████████████                | 166/254 [00:46<00:25,  3.44it/s, loss=0.1180]"
     ]
    },
    {
     "name": "stderr",
     "output_type": "stream",
     "text": [
      "\r",
      "Training:  66%|██████████████████████████████▏               | 167/254 [00:46<00:25,  3.43it/s, loss=0.1180]"
     ]
    },
    {
     "name": "stderr",
     "output_type": "stream",
     "text": [
      "\r",
      "Training:  66%|██████████████████████████████▏               | 167/254 [00:47<00:25,  3.43it/s, loss=0.0387]"
     ]
    },
    {
     "name": "stderr",
     "output_type": "stream",
     "text": [
      "\r",
      "Training:  66%|██████████████████████████████▍               | 168/254 [00:47<00:25,  3.43it/s, loss=0.0387]"
     ]
    },
    {
     "name": "stderr",
     "output_type": "stream",
     "text": [
      "\r",
      "Training:  66%|██████████████████████████████▍               | 168/254 [00:47<00:25,  3.43it/s, loss=0.0035]"
     ]
    },
    {
     "name": "stderr",
     "output_type": "stream",
     "text": [
      "\r",
      "Training:  67%|██████████████████████████████▌               | 169/254 [00:47<00:24,  3.43it/s, loss=0.0035]"
     ]
    },
    {
     "name": "stderr",
     "output_type": "stream",
     "text": [
      "\r",
      "Training:  67%|██████████████████████████████▌               | 169/254 [00:47<00:24,  3.43it/s, loss=0.0017]"
     ]
    },
    {
     "name": "stderr",
     "output_type": "stream",
     "text": [
      "\r",
      "Training:  67%|██████████████████████████████▊               | 170/254 [00:47<00:24,  3.43it/s, loss=0.0017]"
     ]
    },
    {
     "name": "stderr",
     "output_type": "stream",
     "text": [
      "\r",
      "Training:  67%|██████████████████████████████▊               | 170/254 [00:47<00:24,  3.43it/s, loss=0.0012]"
     ]
    },
    {
     "name": "stderr",
     "output_type": "stream",
     "text": [
      "\r",
      "Training:  67%|██████████████████████████████▉               | 171/254 [00:47<00:24,  3.43it/s, loss=0.0012]"
     ]
    },
    {
     "name": "stderr",
     "output_type": "stream",
     "text": [
      "\r",
      "Training:  67%|██████████████████████████████▉               | 171/254 [00:48<00:24,  3.43it/s, loss=0.0454]"
     ]
    },
    {
     "name": "stderr",
     "output_type": "stream",
     "text": [
      "\r",
      "Training:  68%|███████████████████████████████▏              | 172/254 [00:48<00:23,  3.43it/s, loss=0.0454]"
     ]
    },
    {
     "name": "stderr",
     "output_type": "stream",
     "text": [
      "\r",
      "Training:  68%|███████████████████████████████▏              | 172/254 [00:48<00:23,  3.43it/s, loss=0.0027]"
     ]
    },
    {
     "name": "stderr",
     "output_type": "stream",
     "text": [
      "\r",
      "Training:  68%|███████████████████████████████▎              | 173/254 [00:48<00:23,  3.43it/s, loss=0.0027]"
     ]
    },
    {
     "name": "stderr",
     "output_type": "stream",
     "text": [
      "\r",
      "Training:  68%|███████████████████████████████▎              | 173/254 [00:48<00:23,  3.43it/s, loss=0.0183]"
     ]
    },
    {
     "name": "stderr",
     "output_type": "stream",
     "text": [
      "\r",
      "Training:  69%|███████████████████████████████▌              | 174/254 [00:48<00:23,  3.43it/s, loss=0.0183]"
     ]
    },
    {
     "name": "stderr",
     "output_type": "stream",
     "text": [
      "\r",
      "Training:  69%|███████████████████████████████▌              | 174/254 [00:49<00:23,  3.43it/s, loss=0.0081]"
     ]
    },
    {
     "name": "stderr",
     "output_type": "stream",
     "text": [
      "\r",
      "Training:  69%|███████████████████████████████▋              | 175/254 [00:49<00:23,  3.43it/s, loss=0.0081]"
     ]
    },
    {
     "name": "stderr",
     "output_type": "stream",
     "text": [
      "\r",
      "Training:  69%|███████████████████████████████▋              | 175/254 [00:49<00:23,  3.43it/s, loss=0.0408]"
     ]
    },
    {
     "name": "stderr",
     "output_type": "stream",
     "text": [
      "\r",
      "Training:  69%|███████████████████████████████▊              | 176/254 [00:49<00:22,  3.43it/s, loss=0.0408]"
     ]
    },
    {
     "name": "stderr",
     "output_type": "stream",
     "text": [
      "\r",
      "Training:  69%|███████████████████████████████▊              | 176/254 [00:49<00:22,  3.43it/s, loss=0.0015]"
     ]
    },
    {
     "name": "stderr",
     "output_type": "stream",
     "text": [
      "\r",
      "Training:  70%|████████████████████████████████              | 177/254 [00:49<00:22,  3.43it/s, loss=0.0015]"
     ]
    },
    {
     "name": "stderr",
     "output_type": "stream",
     "text": [
      "\r",
      "Training:  70%|████████████████████████████████              | 177/254 [00:50<00:22,  3.43it/s, loss=0.0059]"
     ]
    },
    {
     "name": "stderr",
     "output_type": "stream",
     "text": [
      "\r",
      "Training:  70%|████████████████████████████████▏             | 178/254 [00:50<00:22,  3.43it/s, loss=0.0059]"
     ]
    },
    {
     "name": "stderr",
     "output_type": "stream",
     "text": [
      "\r",
      "Training:  70%|████████████████████████████████▏             | 178/254 [00:50<00:22,  3.43it/s, loss=0.0015]"
     ]
    },
    {
     "name": "stderr",
     "output_type": "stream",
     "text": [
      "\r",
      "Training:  70%|████████████████████████████████▍             | 179/254 [00:50<00:21,  3.43it/s, loss=0.0015]"
     ]
    },
    {
     "name": "stderr",
     "output_type": "stream",
     "text": [
      "\r",
      "Training:  70%|████████████████████████████████▍             | 179/254 [00:50<00:21,  3.43it/s, loss=0.0162]"
     ]
    },
    {
     "name": "stderr",
     "output_type": "stream",
     "text": [
      "\r",
      "Training:  71%|████████████████████████████████▌             | 180/254 [00:50<00:21,  3.43it/s, loss=0.0162]"
     ]
    },
    {
     "name": "stderr",
     "output_type": "stream",
     "text": [
      "\r",
      "Training:  71%|████████████████████████████████▌             | 180/254 [00:50<00:21,  3.43it/s, loss=0.0767]"
     ]
    },
    {
     "name": "stderr",
     "output_type": "stream",
     "text": [
      "\r",
      "Training:  71%|████████████████████████████████▊             | 181/254 [00:50<00:21,  3.43it/s, loss=0.0767]"
     ]
    },
    {
     "name": "stderr",
     "output_type": "stream",
     "text": [
      "\r",
      "Training:  71%|████████████████████████████████▊             | 181/254 [00:51<00:21,  3.43it/s, loss=0.0874]"
     ]
    },
    {
     "name": "stderr",
     "output_type": "stream",
     "text": [
      "\r",
      "Training:  72%|████████████████████████████████▉             | 182/254 [00:51<00:20,  3.43it/s, loss=0.0874]"
     ]
    },
    {
     "name": "stderr",
     "output_type": "stream",
     "text": [
      "\r",
      "Training:  72%|████████████████████████████████▉             | 182/254 [00:51<00:20,  3.43it/s, loss=0.0890]"
     ]
    },
    {
     "name": "stderr",
     "output_type": "stream",
     "text": [
      "\r",
      "Training:  72%|█████████████████████████████████▏            | 183/254 [00:51<00:20,  3.43it/s, loss=0.0890]"
     ]
    },
    {
     "name": "stderr",
     "output_type": "stream",
     "text": [
      "\r",
      "Training:  72%|█████████████████████████████████▏            | 183/254 [00:51<00:20,  3.43it/s, loss=0.0455]"
     ]
    },
    {
     "name": "stderr",
     "output_type": "stream",
     "text": [
      "\r",
      "Training:  72%|█████████████████████████████████▎            | 184/254 [00:51<00:20,  3.43it/s, loss=0.0455]"
     ]
    },
    {
     "name": "stderr",
     "output_type": "stream",
     "text": [
      "\r",
      "Training:  72%|█████████████████████████████████▎            | 184/254 [00:52<00:20,  3.43it/s, loss=0.0076]"
     ]
    },
    {
     "name": "stderr",
     "output_type": "stream",
     "text": [
      "\r",
      "Training:  73%|█████████████████████████████████▌            | 185/254 [00:52<00:20,  3.43it/s, loss=0.0076]"
     ]
    },
    {
     "name": "stderr",
     "output_type": "stream",
     "text": [
      "\r",
      "Training:  73%|█████████████████████████████████▌            | 185/254 [00:52<00:20,  3.43it/s, loss=0.0022]"
     ]
    },
    {
     "name": "stderr",
     "output_type": "stream",
     "text": [
      "\r",
      "Training:  73%|█████████████████████████████████▋            | 186/254 [00:52<00:19,  3.43it/s, loss=0.0022]"
     ]
    },
    {
     "name": "stderr",
     "output_type": "stream",
     "text": [
      "\r",
      "Training:  73%|█████████████████████████████████▋            | 186/254 [00:52<00:19,  3.43it/s, loss=0.0026]"
     ]
    },
    {
     "name": "stderr",
     "output_type": "stream",
     "text": [
      "\r",
      "Training:  74%|█████████████████████████████████▊            | 187/254 [00:52<00:19,  3.42it/s, loss=0.0026]"
     ]
    },
    {
     "name": "stderr",
     "output_type": "stream",
     "text": [
      "\r",
      "Training:  74%|█████████████████████████████████▊            | 187/254 [00:52<00:19,  3.42it/s, loss=0.0015]"
     ]
    },
    {
     "name": "stderr",
     "output_type": "stream",
     "text": [
      "\r",
      "Training:  74%|██████████████████████████████████            | 188/254 [00:52<00:19,  3.43it/s, loss=0.0015]"
     ]
    },
    {
     "name": "stderr",
     "output_type": "stream",
     "text": [
      "\r",
      "Training:  74%|██████████████████████████████████            | 188/254 [00:53<00:19,  3.43it/s, loss=0.0101]"
     ]
    },
    {
     "name": "stderr",
     "output_type": "stream",
     "text": [
      "\r",
      "Training:  74%|██████████████████████████████████▏           | 189/254 [00:53<00:18,  3.43it/s, loss=0.0101]"
     ]
    },
    {
     "name": "stderr",
     "output_type": "stream",
     "text": [
      "\r",
      "Training:  74%|██████████████████████████████████▏           | 189/254 [00:53<00:18,  3.43it/s, loss=0.0240]"
     ]
    },
    {
     "name": "stderr",
     "output_type": "stream",
     "text": [
      "\r",
      "Training:  75%|██████████████████████████████████▍           | 190/254 [00:53<00:18,  3.43it/s, loss=0.0240]"
     ]
    },
    {
     "name": "stderr",
     "output_type": "stream",
     "text": [
      "\r",
      "Training:  75%|██████████████████████████████████▍           | 190/254 [00:53<00:18,  3.43it/s, loss=0.0257]"
     ]
    },
    {
     "name": "stderr",
     "output_type": "stream",
     "text": [
      "\r",
      "Training:  75%|██████████████████████████████████▌           | 191/254 [00:53<00:18,  3.43it/s, loss=0.0257]"
     ]
    },
    {
     "name": "stderr",
     "output_type": "stream",
     "text": [
      "\r",
      "Training:  75%|██████████████████████████████████▌           | 191/254 [00:54<00:18,  3.43it/s, loss=0.0427]"
     ]
    },
    {
     "name": "stderr",
     "output_type": "stream",
     "text": [
      "\r",
      "Training:  76%|██████████████████████████████████▊           | 192/254 [00:54<00:18,  3.43it/s, loss=0.0427]"
     ]
    },
    {
     "name": "stderr",
     "output_type": "stream",
     "text": [
      "\r",
      "Training:  76%|██████████████████████████████████▊           | 192/254 [00:54<00:18,  3.43it/s, loss=0.0276]"
     ]
    },
    {
     "name": "stderr",
     "output_type": "stream",
     "text": [
      "\r",
      "Training:  76%|██████████████████████████████████▉           | 193/254 [00:54<00:17,  3.42it/s, loss=0.0276]"
     ]
    },
    {
     "name": "stderr",
     "output_type": "stream",
     "text": [
      "\r",
      "Training:  76%|██████████████████████████████████▉           | 193/254 [00:54<00:17,  3.42it/s, loss=0.0019]"
     ]
    },
    {
     "name": "stderr",
     "output_type": "stream",
     "text": [
      "\r",
      "Training:  76%|███████████████████████████████████▏          | 194/254 [00:54<00:17,  3.42it/s, loss=0.0019]"
     ]
    },
    {
     "name": "stderr",
     "output_type": "stream",
     "text": [
      "\r",
      "Training:  76%|███████████████████████████████████▏          | 194/254 [00:54<00:17,  3.42it/s, loss=0.0232]"
     ]
    },
    {
     "name": "stderr",
     "output_type": "stream",
     "text": [
      "\r",
      "Training:  77%|███████████████████████████████████▎          | 195/254 [00:54<00:17,  3.42it/s, loss=0.0232]"
     ]
    },
    {
     "name": "stderr",
     "output_type": "stream",
     "text": [
      "\r",
      "Training:  77%|███████████████████████████████████▎          | 195/254 [00:55<00:17,  3.42it/s, loss=0.0019]"
     ]
    },
    {
     "name": "stderr",
     "output_type": "stream",
     "text": [
      "\r",
      "Training:  77%|███████████████████████████████████▍          | 196/254 [00:55<00:17,  3.41it/s, loss=0.0019]"
     ]
    },
    {
     "name": "stderr",
     "output_type": "stream",
     "text": [
      "\r",
      "Training:  77%|███████████████████████████████████▍          | 196/254 [00:55<00:17,  3.41it/s, loss=0.0083]"
     ]
    },
    {
     "name": "stderr",
     "output_type": "stream",
     "text": [
      "\r",
      "Training:  78%|███████████████████████████████████▋          | 197/254 [00:55<00:16,  3.39it/s, loss=0.0083]"
     ]
    },
    {
     "name": "stderr",
     "output_type": "stream",
     "text": [
      "\r",
      "Training:  78%|███████████████████████████████████▋          | 197/254 [00:55<00:16,  3.39it/s, loss=0.0019]"
     ]
    },
    {
     "name": "stderr",
     "output_type": "stream",
     "text": [
      "\r",
      "Training:  78%|███████████████████████████████████▊          | 198/254 [00:55<00:16,  3.40it/s, loss=0.0019]"
     ]
    },
    {
     "name": "stderr",
     "output_type": "stream",
     "text": [
      "\r",
      "Training:  78%|███████████████████████████████████▊          | 198/254 [00:56<00:16,  3.40it/s, loss=0.0019]"
     ]
    },
    {
     "name": "stderr",
     "output_type": "stream",
     "text": [
      "\r",
      "Training:  78%|████████████████████████████████████          | 199/254 [00:56<00:16,  3.41it/s, loss=0.0019]"
     ]
    },
    {
     "name": "stderr",
     "output_type": "stream",
     "text": [
      "\r",
      "Training:  78%|████████████████████████████████████          | 199/254 [00:56<00:16,  3.41it/s, loss=0.0869]"
     ]
    },
    {
     "name": "stderr",
     "output_type": "stream",
     "text": [
      "\r",
      "Training:  79%|████████████████████████████████████▏         | 200/254 [00:56<00:15,  3.41it/s, loss=0.0869]"
     ]
    },
    {
     "name": "stderr",
     "output_type": "stream",
     "text": [
      "\r",
      "Training:  79%|████████████████████████████████████▏         | 200/254 [00:56<00:15,  3.41it/s, loss=0.0822]"
     ]
    },
    {
     "name": "stderr",
     "output_type": "stream",
     "text": [
      "\r",
      "Training:  79%|████████████████████████████████████▍         | 201/254 [00:56<00:15,  3.41it/s, loss=0.0822]"
     ]
    },
    {
     "name": "stderr",
     "output_type": "stream",
     "text": [
      "\r",
      "Training:  79%|████████████████████████████████████▍         | 201/254 [00:57<00:15,  3.41it/s, loss=0.0013]"
     ]
    },
    {
     "name": "stderr",
     "output_type": "stream",
     "text": [
      "\r",
      "Training:  80%|████████████████████████████████████▌         | 202/254 [00:57<00:15,  3.42it/s, loss=0.0013]"
     ]
    },
    {
     "name": "stderr",
     "output_type": "stream",
     "text": [
      "\r",
      "Training:  80%|████████████████████████████████████▌         | 202/254 [00:57<00:15,  3.42it/s, loss=0.0599]"
     ]
    },
    {
     "name": "stderr",
     "output_type": "stream",
     "text": [
      "\r",
      "Training:  80%|████████████████████████████████████▊         | 203/254 [00:57<00:14,  3.42it/s, loss=0.0599]"
     ]
    },
    {
     "name": "stderr",
     "output_type": "stream",
     "text": [
      "\r",
      "Training:  80%|████████████████████████████████████▊         | 203/254 [00:57<00:14,  3.42it/s, loss=0.0019]"
     ]
    },
    {
     "name": "stderr",
     "output_type": "stream",
     "text": [
      "\r",
      "Training:  80%|████████████████████████████████████▉         | 204/254 [00:57<00:14,  3.43it/s, loss=0.0019]"
     ]
    },
    {
     "name": "stderr",
     "output_type": "stream",
     "text": [
      "\r",
      "Training:  80%|████████████████████████████████████▉         | 204/254 [00:57<00:14,  3.43it/s, loss=0.0064]"
     ]
    },
    {
     "name": "stderr",
     "output_type": "stream",
     "text": [
      "\r",
      "Training:  81%|█████████████████████████████████████▏        | 205/254 [00:57<00:14,  3.43it/s, loss=0.0064]"
     ]
    },
    {
     "name": "stderr",
     "output_type": "stream",
     "text": [
      "\r",
      "Training:  81%|█████████████████████████████████████▏        | 205/254 [00:58<00:14,  3.43it/s, loss=0.0121]"
     ]
    },
    {
     "name": "stderr",
     "output_type": "stream",
     "text": [
      "\r",
      "Training:  81%|█████████████████████████████████████▎        | 206/254 [00:58<00:14,  3.43it/s, loss=0.0121]"
     ]
    },
    {
     "name": "stderr",
     "output_type": "stream",
     "text": [
      "\r",
      "Training:  81%|█████████████████████████████████████▎        | 206/254 [00:58<00:14,  3.43it/s, loss=0.0016]"
     ]
    },
    {
     "name": "stderr",
     "output_type": "stream",
     "text": [
      "\r",
      "Training:  81%|█████████████████████████████████████▍        | 207/254 [00:58<00:13,  3.43it/s, loss=0.0016]"
     ]
    },
    {
     "name": "stderr",
     "output_type": "stream",
     "text": [
      "\r",
      "Training:  81%|█████████████████████████████████████▍        | 207/254 [00:58<00:13,  3.43it/s, loss=0.0719]"
     ]
    },
    {
     "name": "stderr",
     "output_type": "stream",
     "text": [
      "\r",
      "Training:  82%|█████████████████████████████████████▋        | 208/254 [00:58<00:13,  3.42it/s, loss=0.0719]"
     ]
    },
    {
     "name": "stderr",
     "output_type": "stream",
     "text": [
      "\r",
      "Training:  82%|█████████████████████████████████████▋        | 208/254 [00:59<00:13,  3.42it/s, loss=0.0019]"
     ]
    },
    {
     "name": "stderr",
     "output_type": "stream",
     "text": [
      "\r",
      "Training:  82%|█████████████████████████████████████▊        | 209/254 [00:59<00:13,  3.43it/s, loss=0.0019]"
     ]
    },
    {
     "name": "stderr",
     "output_type": "stream",
     "text": [
      "\r",
      "Training:  82%|█████████████████████████████████████▊        | 209/254 [00:59<00:13,  3.43it/s, loss=0.0018]"
     ]
    },
    {
     "name": "stderr",
     "output_type": "stream",
     "text": [
      "\r",
      "Training:  83%|██████████████████████████████████████        | 210/254 [00:59<00:12,  3.43it/s, loss=0.0018]"
     ]
    },
    {
     "name": "stderr",
     "output_type": "stream",
     "text": [
      "\r",
      "Training:  83%|██████████████████████████████████████        | 210/254 [00:59<00:12,  3.43it/s, loss=0.0019]"
     ]
    },
    {
     "name": "stderr",
     "output_type": "stream",
     "text": [
      "\r",
      "Training:  83%|██████████████████████████████████████▏       | 211/254 [00:59<00:12,  3.43it/s, loss=0.0019]"
     ]
    },
    {
     "name": "stderr",
     "output_type": "stream",
     "text": [
      "\r",
      "Training:  83%|██████████████████████████████████████▏       | 211/254 [00:59<00:12,  3.43it/s, loss=0.0426]"
     ]
    },
    {
     "name": "stderr",
     "output_type": "stream",
     "text": [
      "\r",
      "Training:  83%|██████████████████████████████████████▍       | 212/254 [00:59<00:12,  3.42it/s, loss=0.0426]"
     ]
    },
    {
     "name": "stderr",
     "output_type": "stream",
     "text": [
      "\r",
      "Training:  83%|██████████████████████████████████████▍       | 212/254 [01:00<00:12,  3.42it/s, loss=0.0024]"
     ]
    },
    {
     "name": "stderr",
     "output_type": "stream",
     "text": [
      "\r",
      "Training:  84%|██████████████████████████████████████▌       | 213/254 [01:00<00:11,  3.42it/s, loss=0.0024]"
     ]
    },
    {
     "name": "stderr",
     "output_type": "stream",
     "text": [
      "\r",
      "Training:  84%|██████████████████████████████████████▌       | 213/254 [01:00<00:11,  3.42it/s, loss=0.0233]"
     ]
    },
    {
     "name": "stderr",
     "output_type": "stream",
     "text": [
      "\r",
      "Training:  84%|██████████████████████████████████████▊       | 214/254 [01:00<00:11,  3.42it/s, loss=0.0233]"
     ]
    },
    {
     "name": "stderr",
     "output_type": "stream",
     "text": [
      "\r",
      "Training:  84%|██████████████████████████████████████▊       | 214/254 [01:00<00:11,  3.42it/s, loss=0.0078]"
     ]
    },
    {
     "name": "stderr",
     "output_type": "stream",
     "text": [
      "\r",
      "Training:  85%|██████████████████████████████████████▉       | 215/254 [01:00<00:11,  3.42it/s, loss=0.0078]"
     ]
    },
    {
     "name": "stderr",
     "output_type": "stream",
     "text": [
      "\r",
      "Training:  85%|██████████████████████████████████████▉       | 215/254 [01:01<00:11,  3.42it/s, loss=0.0017]"
     ]
    },
    {
     "name": "stderr",
     "output_type": "stream",
     "text": [
      "\r",
      "Training:  85%|███████████████████████████████████████       | 216/254 [01:01<00:11,  3.42it/s, loss=0.0017]"
     ]
    },
    {
     "name": "stderr",
     "output_type": "stream",
     "text": [
      "\r",
      "Training:  85%|███████████████████████████████████████       | 216/254 [01:01<00:11,  3.42it/s, loss=0.0509]"
     ]
    },
    {
     "name": "stderr",
     "output_type": "stream",
     "text": [
      "\r",
      "Training:  85%|███████████████████████████████████████▎      | 217/254 [01:01<00:10,  3.43it/s, loss=0.0509]"
     ]
    },
    {
     "name": "stderr",
     "output_type": "stream",
     "text": [
      "\r",
      "Training:  85%|███████████████████████████████████████▎      | 217/254 [01:01<00:10,  3.43it/s, loss=0.0147]"
     ]
    },
    {
     "name": "stderr",
     "output_type": "stream",
     "text": [
      "\r",
      "Training:  86%|███████████████████████████████████████▍      | 218/254 [01:01<00:10,  3.43it/s, loss=0.0147]"
     ]
    },
    {
     "name": "stderr",
     "output_type": "stream",
     "text": [
      "\r",
      "Training:  86%|███████████████████████████████████████▍      | 218/254 [01:01<00:10,  3.43it/s, loss=0.0024]"
     ]
    },
    {
     "name": "stderr",
     "output_type": "stream",
     "text": [
      "\r",
      "Training:  86%|███████████████████████████████████████▋      | 219/254 [01:01<00:10,  3.43it/s, loss=0.0024]"
     ]
    },
    {
     "name": "stderr",
     "output_type": "stream",
     "text": [
      "\r",
      "Training:  86%|███████████████████████████████████████▋      | 219/254 [01:02<00:10,  3.43it/s, loss=0.0025]"
     ]
    },
    {
     "name": "stderr",
     "output_type": "stream",
     "text": [
      "\r",
      "Training:  87%|███████████████████████████████████████▊      | 220/254 [01:02<00:09,  3.43it/s, loss=0.0025]"
     ]
    },
    {
     "name": "stderr",
     "output_type": "stream",
     "text": [
      "\r",
      "Training:  87%|███████████████████████████████████████▊      | 220/254 [01:02<00:09,  3.43it/s, loss=0.0065]"
     ]
    },
    {
     "name": "stderr",
     "output_type": "stream",
     "text": [
      "\r",
      "Training:  87%|████████████████████████████████████████      | 221/254 [01:02<00:09,  3.42it/s, loss=0.0065]"
     ]
    },
    {
     "name": "stderr",
     "output_type": "stream",
     "text": [
      "\r",
      "Training:  87%|████████████████████████████████████████      | 221/254 [01:02<00:09,  3.42it/s, loss=0.0018]"
     ]
    },
    {
     "name": "stderr",
     "output_type": "stream",
     "text": [
      "\r",
      "Training:  87%|████████████████████████████████████████▏     | 222/254 [01:02<00:09,  3.42it/s, loss=0.0018]"
     ]
    },
    {
     "name": "stderr",
     "output_type": "stream",
     "text": [
      "\r",
      "Training:  87%|████████████████████████████████████████▏     | 222/254 [01:03<00:09,  3.42it/s, loss=0.0071]"
     ]
    },
    {
     "name": "stderr",
     "output_type": "stream",
     "text": [
      "\r",
      "Training:  88%|████████████████████████████████████████▍     | 223/254 [01:03<00:09,  3.43it/s, loss=0.0071]"
     ]
    },
    {
     "name": "stderr",
     "output_type": "stream",
     "text": [
      "\r",
      "Training:  88%|████████████████████████████████████████▍     | 223/254 [01:03<00:09,  3.43it/s, loss=0.0889]"
     ]
    },
    {
     "name": "stderr",
     "output_type": "stream",
     "text": [
      "\r",
      "Training:  88%|████████████████████████████████████████▌     | 224/254 [01:03<00:08,  3.43it/s, loss=0.0889]"
     ]
    },
    {
     "name": "stderr",
     "output_type": "stream",
     "text": [
      "\r",
      "Training:  88%|████████████████████████████████████████▌     | 224/254 [01:03<00:08,  3.43it/s, loss=0.0089]"
     ]
    },
    {
     "name": "stderr",
     "output_type": "stream",
     "text": [
      "\r",
      "Training:  89%|████████████████████████████████████████▋     | 225/254 [01:03<00:08,  3.43it/s, loss=0.0089]"
     ]
    },
    {
     "name": "stderr",
     "output_type": "stream",
     "text": [
      "\r",
      "Training:  89%|████████████████████████████████████████▋     | 225/254 [01:04<00:08,  3.43it/s, loss=0.0197]"
     ]
    },
    {
     "name": "stderr",
     "output_type": "stream",
     "text": [
      "\r",
      "Training:  89%|████████████████████████████████████████▉     | 226/254 [01:04<00:08,  3.43it/s, loss=0.0197]"
     ]
    },
    {
     "name": "stderr",
     "output_type": "stream",
     "text": [
      "\r",
      "Training:  89%|████████████████████████████████████████▉     | 226/254 [01:04<00:08,  3.43it/s, loss=0.0776]"
     ]
    },
    {
     "name": "stderr",
     "output_type": "stream",
     "text": [
      "\r",
      "Training:  89%|█████████████████████████████████████████     | 227/254 [01:04<00:07,  3.43it/s, loss=0.0776]"
     ]
    },
    {
     "name": "stderr",
     "output_type": "stream",
     "text": [
      "\r",
      "Training:  89%|█████████████████████████████████████████     | 227/254 [01:04<00:07,  3.43it/s, loss=0.0063]"
     ]
    },
    {
     "name": "stderr",
     "output_type": "stream",
     "text": [
      "\r",
      "Training:  90%|█████████████████████████████████████████▎    | 228/254 [01:04<00:07,  3.42it/s, loss=0.0063]"
     ]
    },
    {
     "name": "stderr",
     "output_type": "stream",
     "text": [
      "\r",
      "Training:  90%|█████████████████████████████████████████▎    | 228/254 [01:04<00:07,  3.42it/s, loss=0.0808]"
     ]
    },
    {
     "name": "stderr",
     "output_type": "stream",
     "text": [
      "\r",
      "Training:  90%|█████████████████████████████████████████▍    | 229/254 [01:04<00:07,  3.43it/s, loss=0.0808]"
     ]
    },
    {
     "name": "stderr",
     "output_type": "stream",
     "text": [
      "\r",
      "Training:  90%|█████████████████████████████████████████▍    | 229/254 [01:05<00:07,  3.43it/s, loss=0.0017]"
     ]
    },
    {
     "name": "stderr",
     "output_type": "stream",
     "text": [
      "\r",
      "Training:  91%|█████████████████████████████████████████▋    | 230/254 [01:05<00:07,  3.43it/s, loss=0.0017]"
     ]
    },
    {
     "name": "stderr",
     "output_type": "stream",
     "text": [
      "\r",
      "Training:  91%|█████████████████████████████████████████▋    | 230/254 [01:05<00:07,  3.43it/s, loss=0.0010]"
     ]
    },
    {
     "name": "stderr",
     "output_type": "stream",
     "text": [
      "\r",
      "Training:  91%|█████████████████████████████████████████▊    | 231/254 [01:05<00:06,  3.43it/s, loss=0.0010]"
     ]
    },
    {
     "name": "stderr",
     "output_type": "stream",
     "text": [
      "\r",
      "Training:  91%|█████████████████████████████████████████▊    | 231/254 [01:05<00:06,  3.43it/s, loss=0.0068]"
     ]
    },
    {
     "name": "stderr",
     "output_type": "stream",
     "text": [
      "\r",
      "Training:  91%|██████████████████████████████████████████    | 232/254 [01:05<00:06,  3.43it/s, loss=0.0068]"
     ]
    },
    {
     "name": "stderr",
     "output_type": "stream",
     "text": [
      "\r",
      "Training:  91%|██████████████████████████████████████████    | 232/254 [01:06<00:06,  3.43it/s, loss=0.0479]"
     ]
    },
    {
     "name": "stderr",
     "output_type": "stream",
     "text": [
      "\r",
      "Training:  92%|██████████████████████████████████████████▏   | 233/254 [01:06<00:06,  3.42it/s, loss=0.0479]"
     ]
    },
    {
     "name": "stderr",
     "output_type": "stream",
     "text": [
      "\r",
      "Training:  92%|██████████████████████████████████████████▏   | 233/254 [01:06<00:06,  3.42it/s, loss=0.0041]"
     ]
    },
    {
     "name": "stderr",
     "output_type": "stream",
     "text": [
      "\r",
      "Training:  92%|██████████████████████████████████████████▍   | 234/254 [01:06<00:05,  3.42it/s, loss=0.0041]"
     ]
    },
    {
     "name": "stderr",
     "output_type": "stream",
     "text": [
      "\r",
      "Training:  92%|██████████████████████████████████████████▍   | 234/254 [01:06<00:05,  3.42it/s, loss=0.0396]"
     ]
    },
    {
     "name": "stderr",
     "output_type": "stream",
     "text": [
      "\r",
      "Training:  93%|██████████████████████████████████████████▌   | 235/254 [01:06<00:05,  3.42it/s, loss=0.0396]"
     ]
    },
    {
     "name": "stderr",
     "output_type": "stream",
     "text": [
      "\r",
      "Training:  93%|██████████████████████████████████████████▌   | 235/254 [01:06<00:05,  3.42it/s, loss=0.0138]"
     ]
    },
    {
     "name": "stderr",
     "output_type": "stream",
     "text": [
      "\r",
      "Training:  93%|██████████████████████████████████████████▋   | 236/254 [01:06<00:05,  3.42it/s, loss=0.0138]"
     ]
    },
    {
     "name": "stderr",
     "output_type": "stream",
     "text": [
      "\r",
      "Training:  93%|██████████████████████████████████████████▋   | 236/254 [01:07<00:05,  3.42it/s, loss=0.0106]"
     ]
    },
    {
     "name": "stderr",
     "output_type": "stream",
     "text": [
      "\r",
      "Training:  93%|██████████████████████████████████████████▉   | 237/254 [01:07<00:04,  3.43it/s, loss=0.0106]"
     ]
    },
    {
     "name": "stderr",
     "output_type": "stream",
     "text": [
      "\r",
      "Training:  93%|██████████████████████████████████████████▉   | 237/254 [01:07<00:04,  3.43it/s, loss=0.0063]"
     ]
    },
    {
     "name": "stderr",
     "output_type": "stream",
     "text": [
      "\r",
      "Training:  94%|███████████████████████████████████████████   | 238/254 [01:07<00:04,  3.43it/s, loss=0.0063]"
     ]
    },
    {
     "name": "stderr",
     "output_type": "stream",
     "text": [
      "\r",
      "Training:  94%|███████████████████████████████████████████   | 238/254 [01:07<00:04,  3.43it/s, loss=0.0022]"
     ]
    },
    {
     "name": "stderr",
     "output_type": "stream",
     "text": [
      "\r",
      "Training:  94%|███████████████████████████████████████████▎  | 239/254 [01:07<00:04,  3.43it/s, loss=0.0022]"
     ]
    },
    {
     "name": "stderr",
     "output_type": "stream",
     "text": [
      "\r",
      "Training:  94%|███████████████████████████████████████████▎  | 239/254 [01:08<00:04,  3.43it/s, loss=0.0456]"
     ]
    },
    {
     "name": "stderr",
     "output_type": "stream",
     "text": [
      "\r",
      "Training:  94%|███████████████████████████████████████████▍  | 240/254 [01:08<00:04,  3.43it/s, loss=0.0456]"
     ]
    },
    {
     "name": "stderr",
     "output_type": "stream",
     "text": [
      "\r",
      "Training:  94%|███████████████████████████████████████████▍  | 240/254 [01:08<00:04,  3.43it/s, loss=0.1005]"
     ]
    },
    {
     "name": "stderr",
     "output_type": "stream",
     "text": [
      "\r",
      "Training:  95%|███████████████████████████████████████████▋  | 241/254 [01:08<00:03,  3.43it/s, loss=0.1005]"
     ]
    },
    {
     "name": "stderr",
     "output_type": "stream",
     "text": [
      "\r",
      "Training:  95%|███████████████████████████████████████████▋  | 241/254 [01:08<00:03,  3.43it/s, loss=0.0636]"
     ]
    },
    {
     "name": "stderr",
     "output_type": "stream",
     "text": [
      "\r",
      "Training:  95%|███████████████████████████████████████████▊  | 242/254 [01:08<00:03,  3.43it/s, loss=0.0636]"
     ]
    },
    {
     "name": "stderr",
     "output_type": "stream",
     "text": [
      "\r",
      "Training:  95%|███████████████████████████████████████████▊  | 242/254 [01:08<00:03,  3.43it/s, loss=0.0034]"
     ]
    },
    {
     "name": "stderr",
     "output_type": "stream",
     "text": [
      "\r",
      "Training:  96%|████████████████████████████████████████████  | 243/254 [01:08<00:03,  3.42it/s, loss=0.0034]"
     ]
    },
    {
     "name": "stderr",
     "output_type": "stream",
     "text": [
      "\r",
      "Training:  96%|████████████████████████████████████████████  | 243/254 [01:09<00:03,  3.42it/s, loss=0.1092]"
     ]
    },
    {
     "name": "stderr",
     "output_type": "stream",
     "text": [
      "\r",
      "Training:  96%|████████████████████████████████████████████▏ | 244/254 [01:09<00:02,  3.42it/s, loss=0.1092]"
     ]
    },
    {
     "name": "stderr",
     "output_type": "stream",
     "text": [
      "\r",
      "Training:  96%|████████████████████████████████████████████▏ | 244/254 [01:09<00:02,  3.42it/s, loss=0.0038]"
     ]
    },
    {
     "name": "stderr",
     "output_type": "stream",
     "text": [
      "\r",
      "Training:  96%|████████████████████████████████████████████▎ | 245/254 [01:09<00:02,  3.42it/s, loss=0.0038]"
     ]
    },
    {
     "name": "stderr",
     "output_type": "stream",
     "text": [
      "\r",
      "Training:  96%|████████████████████████████████████████████▎ | 245/254 [01:09<00:02,  3.42it/s, loss=0.0022]"
     ]
    },
    {
     "name": "stderr",
     "output_type": "stream",
     "text": [
      "\r",
      "Training:  97%|████████████████████████████████████████████▌ | 246/254 [01:09<00:02,  3.42it/s, loss=0.0022]"
     ]
    },
    {
     "name": "stderr",
     "output_type": "stream",
     "text": [
      "\r",
      "Training:  97%|████████████████████████████████████████████▌ | 246/254 [01:10<00:02,  3.42it/s, loss=0.0060]"
     ]
    },
    {
     "name": "stderr",
     "output_type": "stream",
     "text": [
      "\r",
      "Training:  97%|████████████████████████████████████████████▋ | 247/254 [01:10<00:02,  3.41it/s, loss=0.0060]"
     ]
    },
    {
     "name": "stderr",
     "output_type": "stream",
     "text": [
      "\r",
      "Training:  97%|████████████████████████████████████████████▋ | 247/254 [01:10<00:02,  3.41it/s, loss=0.0311]"
     ]
    },
    {
     "name": "stderr",
     "output_type": "stream",
     "text": [
      "\r",
      "Training:  98%|████████████████████████████████████████████▉ | 248/254 [01:10<00:01,  3.41it/s, loss=0.0311]"
     ]
    },
    {
     "name": "stderr",
     "output_type": "stream",
     "text": [
      "\r",
      "Training:  98%|████████████████████████████████████████████▉ | 248/254 [01:10<00:01,  3.41it/s, loss=0.0015]"
     ]
    },
    {
     "name": "stderr",
     "output_type": "stream",
     "text": [
      "\r",
      "Training:  98%|█████████████████████████████████████████████ | 249/254 [01:10<00:01,  3.40it/s, loss=0.0015]"
     ]
    },
    {
     "name": "stderr",
     "output_type": "stream",
     "text": [
      "\r",
      "Training:  98%|█████████████████████████████████████████████ | 249/254 [01:11<00:01,  3.40it/s, loss=0.0019]"
     ]
    },
    {
     "name": "stderr",
     "output_type": "stream",
     "text": [
      "\r",
      "Training:  98%|█████████████████████████████████████████████▎| 250/254 [01:11<00:01,  3.41it/s, loss=0.0019]"
     ]
    },
    {
     "name": "stderr",
     "output_type": "stream",
     "text": [
      "\r",
      "Training:  98%|█████████████████████████████████████████████▎| 250/254 [01:10<00:01,  3.41it/s, loss=0.0027]"
     ]
    },
    {
     "name": "stderr",
     "output_type": "stream",
     "text": [
      "\r",
      "Training:  98%|█████████████████████████████████████████████▎| 250/254 [01:10<00:01,  3.41it/s, loss=0.0880]"
     ]
    },
    {
     "name": "stderr",
     "output_type": "stream",
     "text": [
      "\r",
      "Training:  98%|█████████████████████████████████████████████▎| 250/254 [01:10<00:01,  3.41it/s, loss=0.0123]"
     ]
    },
    {
     "name": "stderr",
     "output_type": "stream",
     "text": [
      "\r",
      "Training:  98%|█████████████████████████████████████████████▎| 250/254 [01:11<00:01,  3.41it/s, loss=0.0502]"
     ]
    },
    {
     "name": "stderr",
     "output_type": "stream",
     "text": [
      "\r",
      "Training: 100%|██████████████████████████████████████████████| 254/254 [01:11<00:00,  7.47it/s, loss=0.0502]"
     ]
    },
    {
     "name": "stderr",
     "output_type": "stream",
     "text": [
      "\r",
      "Training: 100%|██████████████████████████████████████████████| 254/254 [01:11<00:00,  3.57it/s, loss=0.0502]"
     ]
    },
    {
     "name": "stderr",
     "output_type": "stream",
     "text": [
      "\n",
      "INFO:src.models.trainer:Training metrics: {'accuracy': 0.9925501785494397, 'f1': 0.99249706614129, 'precision': 0.9924714609480005, 'recall': 0.9925501785494397, 'loss': 0.024404929290840944}\n"
     ]
    },
    {
     "name": "stderr",
     "output_type": "stream",
     "text": [
      "\r",
      "Evaluating:   0%|                                                                    | 0/55 [00:00<?, ?it/s]"
     ]
    },
    {
     "name": "stderr",
     "output_type": "stream",
     "text": [
      "\r",
      "Evaluating:   2%|█                                                           | 1/55 [00:00<00:13,  4.15it/s]"
     ]
    },
    {
     "name": "stderr",
     "output_type": "stream",
     "text": [
      "\r",
      "Evaluating:   4%|██▏                                                         | 2/55 [00:00<00:12,  4.14it/s]"
     ]
    },
    {
     "name": "stderr",
     "output_type": "stream",
     "text": [
      "\r",
      "Evaluating:   5%|███▎                                                        | 3/55 [00:00<00:12,  4.14it/s]"
     ]
    },
    {
     "name": "stderr",
     "output_type": "stream",
     "text": [
      "\r",
      "Evaluating:   7%|████▎                                                       | 4/55 [00:00<00:12,  4.11it/s]"
     ]
    },
    {
     "name": "stderr",
     "output_type": "stream",
     "text": [
      "\r",
      "Evaluating:   9%|█████▍                                                      | 5/55 [00:01<00:12,  4.11it/s]"
     ]
    },
    {
     "name": "stderr",
     "output_type": "stream",
     "text": [
      "\r",
      "Evaluating:  11%|██████▌                                                     | 6/55 [00:01<00:11,  4.12it/s]"
     ]
    },
    {
     "name": "stderr",
     "output_type": "stream",
     "text": [
      "\r",
      "Evaluating:  13%|███████▋                                                    | 7/55 [00:01<00:11,  4.13it/s]"
     ]
    },
    {
     "name": "stderr",
     "output_type": "stream",
     "text": [
      "\r",
      "Evaluating:  15%|████████▋                                                   | 8/55 [00:01<00:11,  4.12it/s]"
     ]
    },
    {
     "name": "stderr",
     "output_type": "stream",
     "text": [
      "\r",
      "Evaluating:  16%|█████████▊                                                  | 9/55 [00:02<00:11,  4.11it/s]"
     ]
    },
    {
     "name": "stderr",
     "output_type": "stream",
     "text": [
      "\r",
      "Evaluating:  18%|██████████▋                                                | 10/55 [00:02<00:10,  4.11it/s]"
     ]
    },
    {
     "name": "stderr",
     "output_type": "stream",
     "text": [
      "\r",
      "Evaluating:  20%|███████████▊                                               | 11/55 [00:02<00:10,  4.12it/s]"
     ]
    },
    {
     "name": "stderr",
     "output_type": "stream",
     "text": [
      "\r",
      "Evaluating:  22%|████████████▊                                              | 12/55 [00:02<00:10,  4.13it/s]"
     ]
    },
    {
     "name": "stderr",
     "output_type": "stream",
     "text": [
      "\r",
      "Evaluating:  24%|█████████████▉                                             | 13/55 [00:03<00:10,  4.12it/s]"
     ]
    },
    {
     "name": "stderr",
     "output_type": "stream",
     "text": [
      "\r",
      "Evaluating:  25%|███████████████                                            | 14/55 [00:03<00:09,  4.12it/s]"
     ]
    },
    {
     "name": "stderr",
     "output_type": "stream",
     "text": [
      "\r",
      "Evaluating:  27%|████████████████                                           | 15/55 [00:03<00:09,  4.12it/s]"
     ]
    },
    {
     "name": "stderr",
     "output_type": "stream",
     "text": [
      "\r",
      "Evaluating:  29%|█████████████████▏                                         | 16/55 [00:03<00:09,  4.13it/s]"
     ]
    },
    {
     "name": "stderr",
     "output_type": "stream",
     "text": [
      "\r",
      "Evaluating:  31%|██████████████████▏                                        | 17/55 [00:04<00:09,  4.13it/s]"
     ]
    },
    {
     "name": "stderr",
     "output_type": "stream",
     "text": [
      "\r",
      "Evaluating:  33%|███████████████████▎                                       | 18/55 [00:04<00:08,  4.13it/s]"
     ]
    },
    {
     "name": "stderr",
     "output_type": "stream",
     "text": [
      "\r",
      "Evaluating:  35%|████████████████████▍                                      | 19/55 [00:04<00:08,  4.09it/s]"
     ]
    },
    {
     "name": "stderr",
     "output_type": "stream",
     "text": [
      "\r",
      "Evaluating:  36%|█████████████████████▍                                     | 20/55 [00:04<00:08,  4.07it/s]"
     ]
    },
    {
     "name": "stderr",
     "output_type": "stream",
     "text": [
      "\r",
      "Evaluating:  38%|██████████████████████▌                                    | 21/55 [00:05<00:08,  4.06it/s]"
     ]
    },
    {
     "name": "stderr",
     "output_type": "stream",
     "text": [
      "\r",
      "Evaluating:  40%|███████████████████████▌                                   | 22/55 [00:05<00:08,  4.08it/s]"
     ]
    },
    {
     "name": "stderr",
     "output_type": "stream",
     "text": [
      "\r",
      "Evaluating:  42%|████████████████████████▋                                  | 23/55 [00:05<00:07,  4.10it/s]"
     ]
    },
    {
     "name": "stderr",
     "output_type": "stream",
     "text": [
      "\r",
      "Evaluating:  44%|█████████████████████████▋                                 | 24/55 [00:05<00:07,  4.11it/s]"
     ]
    },
    {
     "name": "stderr",
     "output_type": "stream",
     "text": [
      "\r",
      "Evaluating:  45%|██████████████████████████▊                                | 25/55 [00:06<00:07,  4.11it/s]"
     ]
    },
    {
     "name": "stderr",
     "output_type": "stream",
     "text": [
      "\r",
      "Evaluating:  47%|███████████████████████████▉                               | 26/55 [00:06<00:07,  4.12it/s]"
     ]
    },
    {
     "name": "stderr",
     "output_type": "stream",
     "text": [
      "\r",
      "Evaluating:  49%|████████████████████████████▉                              | 27/55 [00:06<00:06,  4.12it/s]"
     ]
    },
    {
     "name": "stderr",
     "output_type": "stream",
     "text": [
      "\r",
      "Evaluating:  51%|██████████████████████████████                             | 28/55 [00:06<00:06,  4.13it/s]"
     ]
    },
    {
     "name": "stderr",
     "output_type": "stream",
     "text": [
      "\r",
      "Evaluating:  53%|███████████████████████████████                            | 29/55 [00:07<00:06,  4.13it/s]"
     ]
    },
    {
     "name": "stderr",
     "output_type": "stream",
     "text": [
      "\r",
      "Evaluating:  55%|████████████████████████████████▏                          | 30/55 [00:07<00:06,  4.12it/s]"
     ]
    },
    {
     "name": "stderr",
     "output_type": "stream",
     "text": [
      "\r",
      "Evaluating:  56%|█████████████████████████████████▎                         | 31/55 [00:07<00:05,  4.12it/s]"
     ]
    },
    {
     "name": "stderr",
     "output_type": "stream",
     "text": [
      "\r",
      "Evaluating:  58%|██████████████████████████████████▎                        | 32/55 [00:07<00:05,  4.12it/s]"
     ]
    },
    {
     "name": "stderr",
     "output_type": "stream",
     "text": [
      "\r",
      "Evaluating:  60%|███████████████████████████████████▍                       | 33/55 [00:08<00:05,  4.13it/s]"
     ]
    },
    {
     "name": "stderr",
     "output_type": "stream",
     "text": [
      "\r",
      "Evaluating:  62%|████████████████████████████████████▍                      | 34/55 [00:08<00:05,  4.11it/s]"
     ]
    },
    {
     "name": "stderr",
     "output_type": "stream",
     "text": [
      "\r",
      "Evaluating:  64%|█████████████████████████████████████▌                     | 35/55 [00:08<00:04,  4.12it/s]"
     ]
    },
    {
     "name": "stderr",
     "output_type": "stream",
     "text": [
      "\r",
      "Evaluating:  65%|██████████████████████████████████████▌                    | 36/55 [00:08<00:04,  4.12it/s]"
     ]
    },
    {
     "name": "stderr",
     "output_type": "stream",
     "text": [
      "\r",
      "Evaluating:  67%|███████████████████████████████████████▋                   | 37/55 [00:08<00:04,  4.12it/s]"
     ]
    },
    {
     "name": "stderr",
     "output_type": "stream",
     "text": [
      "\r",
      "Evaluating:  69%|████████████████████████████████████████▊                  | 38/55 [00:09<00:04,  4.12it/s]"
     ]
    },
    {
     "name": "stderr",
     "output_type": "stream",
     "text": [
      "\r",
      "Evaluating:  71%|█████████████████████████████████████████▊                 | 39/55 [00:09<00:03,  4.12it/s]"
     ]
    },
    {
     "name": "stderr",
     "output_type": "stream",
     "text": [
      "\r",
      "Evaluating:  73%|██████████████████████████████████████████▉                | 40/55 [00:09<00:03,  4.12it/s]"
     ]
    },
    {
     "name": "stderr",
     "output_type": "stream",
     "text": [
      "\r",
      "Evaluating:  75%|███████████████████████████████████████████▉               | 41/55 [00:09<00:03,  4.13it/s]"
     ]
    },
    {
     "name": "stderr",
     "output_type": "stream",
     "text": [
      "\r",
      "Evaluating:  76%|█████████████████████████████████████████████              | 42/55 [00:10<00:03,  4.13it/s]"
     ]
    },
    {
     "name": "stderr",
     "output_type": "stream",
     "text": [
      "\r",
      "Evaluating:  78%|██████████████████████████████████████████████▏            | 43/55 [00:10<00:02,  4.13it/s]"
     ]
    },
    {
     "name": "stderr",
     "output_type": "stream",
     "text": [
      "\r",
      "Evaluating:  80%|███████████████████████████████████████████████▏           | 44/55 [00:10<00:02,  4.13it/s]"
     ]
    },
    {
     "name": "stderr",
     "output_type": "stream",
     "text": [
      "\r",
      "Evaluating:  82%|████████████████████████████████████████████████▎          | 45/55 [00:10<00:02,  4.13it/s]"
     ]
    },
    {
     "name": "stderr",
     "output_type": "stream",
     "text": [
      "\r",
      "Evaluating:  84%|█████████████████████████████████████████████████▎         | 46/55 [00:11<00:02,  4.12it/s]"
     ]
    },
    {
     "name": "stderr",
     "output_type": "stream",
     "text": [
      "\r",
      "Evaluating:  85%|██████████████████████████████████████████████████▍        | 47/55 [00:11<00:01,  4.12it/s]"
     ]
    },
    {
     "name": "stderr",
     "output_type": "stream",
     "text": [
      "\r",
      "Evaluating:  87%|███████████████████████████████████████████████████▍       | 48/55 [00:11<00:01,  4.12it/s]"
     ]
    },
    {
     "name": "stderr",
     "output_type": "stream",
     "text": [
      "\r",
      "Evaluating:  89%|████████████████████████████████████████████████████▌      | 49/55 [00:11<00:01,  4.12it/s]"
     ]
    },
    {
     "name": "stderr",
     "output_type": "stream",
     "text": [
      "\r",
      "Evaluating:  91%|█████████████████████████████████████████████████████▋     | 50/55 [00:12<00:01,  4.12it/s]"
     ]
    },
    {
     "name": "stderr",
     "output_type": "stream",
     "text": [
      "\r",
      "Evaluating:  93%|██████████████████████████████████████████████████████▋    | 51/55 [00:12<00:00,  4.12it/s]"
     ]
    },
    {
     "name": "stderr",
     "output_type": "stream",
     "text": [
      "\r",
      "Evaluating:  95%|███████████████████████████████████████████████████████▊   | 52/55 [00:12<00:00,  4.12it/s]"
     ]
    },
    {
     "name": "stderr",
     "output_type": "stream",
     "text": [
      "\r",
      "Evaluating:  96%|████████████████████████████████████████████████████████▊  | 53/55 [00:12<00:00,  4.12it/s]"
     ]
    },
    {
     "name": "stderr",
     "output_type": "stream",
     "text": [
      "\r",
      "Evaluating:  98%|█████████████████████████████████████████████████████████▉ | 54/55 [00:13<00:00,  4.13it/s]"
     ]
    },
    {
     "name": "stderr",
     "output_type": "stream",
     "text": [
      "\r",
      "Evaluating: 100%|███████████████████████████████████████████████████████████| 55/55 [00:13<00:00,  4.16it/s]"
     ]
    },
    {
     "name": "stderr",
     "output_type": "stream",
     "text": [
      "\n",
      "INFO:src.models.trainer:Validation metrics: {'accuracy': 0.9905199655271474, 'f1': 0.9905301359016675, 'precision': 0.9905409589739459, 'recall': 0.9905199655271474, 'auc': 0.9983325991686997, 'loss': 0.02581841663393954}\n"
     ]
    },
    {
     "name": "stderr",
     "output_type": "stream",
     "text": [
      "INFO:src.models.trainer:New best model with validation AUC: 0.9983\n"
     ]
    },
    {
     "name": "stderr",
     "output_type": "stream",
     "text": [
      "INFO:src.models.trainer:\n",
      "Evaluating on test set...\n"
     ]
    },
    {
     "name": "stderr",
     "output_type": "stream",
     "text": [
      "\r",
      "Evaluating:   0%|                                                                    | 0/55 [00:00<?, ?it/s]"
     ]
    },
    {
     "name": "stderr",
     "output_type": "stream",
     "text": [
      "\r",
      "Evaluating:   2%|█                                                           | 1/55 [00:00<00:25,  2.14it/s]"
     ]
    },
    {
     "name": "stderr",
     "output_type": "stream",
     "text": [
      "\r",
      "Evaluating:   4%|██▏                                                         | 2/55 [00:00<00:17,  2.99it/s]"
     ]
    },
    {
     "name": "stderr",
     "output_type": "stream",
     "text": [
      "\r",
      "Evaluating:   5%|███▎                                                        | 3/55 [00:00<00:15,  3.42it/s]"
     ]
    },
    {
     "name": "stderr",
     "output_type": "stream",
     "text": [
      "\r",
      "Evaluating:   7%|████▎                                                       | 4/55 [00:01<00:13,  3.66it/s]"
     ]
    },
    {
     "name": "stderr",
     "output_type": "stream",
     "text": [
      "\r",
      "Evaluating:   9%|█████▍                                                      | 5/55 [00:01<00:13,  3.82it/s]"
     ]
    },
    {
     "name": "stderr",
     "output_type": "stream",
     "text": [
      "\r",
      "Evaluating:  11%|██████▌                                                     | 6/55 [00:01<00:12,  3.92it/s]"
     ]
    },
    {
     "name": "stderr",
     "output_type": "stream",
     "text": [
      "\r",
      "Evaluating:  13%|███████▋                                                    | 7/55 [00:01<00:12,  3.99it/s]"
     ]
    },
    {
     "name": "stderr",
     "output_type": "stream",
     "text": [
      "\r",
      "Evaluating:  15%|████████▋                                                   | 8/55 [00:02<00:11,  4.03it/s]"
     ]
    },
    {
     "name": "stderr",
     "output_type": "stream",
     "text": [
      "\r",
      "Evaluating:  16%|█████████▊                                                  | 9/55 [00:02<00:11,  4.05it/s]"
     ]
    },
    {
     "name": "stderr",
     "output_type": "stream",
     "text": [
      "\r",
      "Evaluating:  18%|██████████▋                                                | 10/55 [00:02<00:11,  4.08it/s]"
     ]
    },
    {
     "name": "stderr",
     "output_type": "stream",
     "text": [
      "\r",
      "Evaluating:  20%|███████████▊                                               | 11/55 [00:02<00:10,  4.10it/s]"
     ]
    },
    {
     "name": "stderr",
     "output_type": "stream",
     "text": [
      "\r",
      "Evaluating:  22%|████████████▊                                              | 12/55 [00:03<00:10,  4.10it/s]"
     ]
    },
    {
     "name": "stderr",
     "output_type": "stream",
     "text": [
      "\r",
      "Evaluating:  24%|█████████████▉                                             | 13/55 [00:03<00:10,  4.11it/s]"
     ]
    },
    {
     "name": "stderr",
     "output_type": "stream",
     "text": [
      "\r",
      "Evaluating:  25%|███████████████                                            | 14/55 [00:03<00:09,  4.14it/s]"
     ]
    },
    {
     "name": "stderr",
     "output_type": "stream",
     "text": [
      "\r",
      "Evaluating:  27%|████████████████                                           | 15/55 [00:03<00:09,  4.13it/s]"
     ]
    },
    {
     "name": "stderr",
     "output_type": "stream",
     "text": [
      "\r",
      "Evaluating:  29%|█████████████████▏                                         | 16/55 [00:04<00:09,  4.13it/s]"
     ]
    },
    {
     "name": "stderr",
     "output_type": "stream",
     "text": [
      "\r",
      "Evaluating:  31%|██████████████████▏                                        | 17/55 [00:04<00:09,  4.12it/s]"
     ]
    },
    {
     "name": "stderr",
     "output_type": "stream",
     "text": [
      "\r",
      "Evaluating:  33%|███████████████████▎                                       | 18/55 [00:04<00:08,  4.12it/s]"
     ]
    },
    {
     "name": "stderr",
     "output_type": "stream",
     "text": [
      "\r",
      "Evaluating:  35%|████████████████████▍                                      | 19/55 [00:04<00:08,  4.12it/s]"
     ]
    },
    {
     "name": "stderr",
     "output_type": "stream",
     "text": [
      "\r",
      "Evaluating:  36%|█████████████████████▍                                     | 20/55 [00:05<00:08,  4.12it/s]"
     ]
    },
    {
     "name": "stderr",
     "output_type": "stream",
     "text": [
      "\r",
      "Evaluating:  38%|██████████████████████▌                                    | 21/55 [00:05<00:08,  4.12it/s]"
     ]
    },
    {
     "name": "stderr",
     "output_type": "stream",
     "text": [
      "\r",
      "Evaluating:  40%|███████████████████████▌                                   | 22/55 [00:05<00:07,  4.13it/s]"
     ]
    },
    {
     "name": "stderr",
     "output_type": "stream",
     "text": [
      "\r",
      "Evaluating:  42%|████████████████████████▋                                  | 23/55 [00:05<00:07,  4.13it/s]"
     ]
    },
    {
     "name": "stderr",
     "output_type": "stream",
     "text": [
      "\r",
      "Evaluating:  44%|█████████████████████████▋                                 | 24/55 [00:06<00:07,  4.12it/s]"
     ]
    },
    {
     "name": "stderr",
     "output_type": "stream",
     "text": [
      "\r",
      "Evaluating:  45%|██████████████████████████▊                                | 25/55 [00:06<00:07,  4.12it/s]"
     ]
    },
    {
     "name": "stderr",
     "output_type": "stream",
     "text": [
      "\r",
      "Evaluating:  47%|███████████████████████████▉                               | 26/55 [00:06<00:07,  4.12it/s]"
     ]
    },
    {
     "name": "stderr",
     "output_type": "stream",
     "text": [
      "\r",
      "Evaluating:  49%|████████████████████████████▉                              | 27/55 [00:06<00:06,  4.13it/s]"
     ]
    },
    {
     "name": "stderr",
     "output_type": "stream",
     "text": [
      "\r",
      "Evaluating:  51%|██████████████████████████████                             | 28/55 [00:07<00:06,  4.12it/s]"
     ]
    },
    {
     "name": "stderr",
     "output_type": "stream",
     "text": [
      "\r",
      "Evaluating:  53%|███████████████████████████████                            | 29/55 [00:07<00:06,  4.12it/s]"
     ]
    },
    {
     "name": "stderr",
     "output_type": "stream",
     "text": [
      "\r",
      "Evaluating:  55%|████████████████████████████████▏                          | 30/55 [00:07<00:06,  4.12it/s]"
     ]
    },
    {
     "name": "stderr",
     "output_type": "stream",
     "text": [
      "\r",
      "Evaluating:  56%|█████████████████████████████████▎                         | 31/55 [00:07<00:05,  4.12it/s]"
     ]
    },
    {
     "name": "stderr",
     "output_type": "stream",
     "text": [
      "\r",
      "Evaluating:  58%|██████████████████████████████████▎                        | 32/55 [00:07<00:05,  4.13it/s]"
     ]
    },
    {
     "name": "stderr",
     "output_type": "stream",
     "text": [
      "\r",
      "Evaluating:  60%|███████████████████████████████████▍                       | 33/55 [00:08<00:05,  4.12it/s]"
     ]
    },
    {
     "name": "stderr",
     "output_type": "stream",
     "text": [
      "\r",
      "Evaluating:  62%|████████████████████████████████████▍                      | 34/55 [00:08<00:05,  4.12it/s]"
     ]
    },
    {
     "name": "stderr",
     "output_type": "stream",
     "text": [
      "\r",
      "Evaluating:  64%|█████████████████████████████████████▌                     | 35/55 [00:08<00:04,  4.12it/s]"
     ]
    },
    {
     "name": "stderr",
     "output_type": "stream",
     "text": [
      "\r",
      "Evaluating:  65%|██████████████████████████████████████▌                    | 36/55 [00:08<00:04,  4.13it/s]"
     ]
    },
    {
     "name": "stderr",
     "output_type": "stream",
     "text": [
      "\r",
      "Evaluating:  67%|███████████████████████████████████████▋                   | 37/55 [00:09<00:04,  4.13it/s]"
     ]
    },
    {
     "name": "stderr",
     "output_type": "stream",
     "text": [
      "\r",
      "Evaluating:  69%|████████████████████████████████████████▊                  | 38/55 [00:09<00:04,  4.12it/s]"
     ]
    },
    {
     "name": "stderr",
     "output_type": "stream",
     "text": [
      "\r",
      "Evaluating:  71%|█████████████████████████████████████████▊                 | 39/55 [00:09<00:03,  4.12it/s]"
     ]
    },
    {
     "name": "stderr",
     "output_type": "stream",
     "text": [
      "\r",
      "Evaluating:  73%|██████████████████████████████████████████▉                | 40/55 [00:09<00:03,  4.12it/s]"
     ]
    },
    {
     "name": "stderr",
     "output_type": "stream",
     "text": [
      "\r",
      "Evaluating:  75%|███████████████████████████████████████████▉               | 41/55 [00:10<00:03,  4.13it/s]"
     ]
    },
    {
     "name": "stderr",
     "output_type": "stream",
     "text": [
      "\r",
      "Evaluating:  76%|█████████████████████████████████████████████              | 42/55 [00:10<00:03,  4.11it/s]"
     ]
    },
    {
     "name": "stderr",
     "output_type": "stream",
     "text": [
      "\r",
      "Evaluating:  78%|██████████████████████████████████████████████▏            | 43/55 [00:10<00:02,  4.12it/s]"
     ]
    },
    {
     "name": "stderr",
     "output_type": "stream",
     "text": [
      "\r",
      "Evaluating:  80%|███████████████████████████████████████████████▏           | 44/55 [00:10<00:02,  4.12it/s]"
     ]
    },
    {
     "name": "stderr",
     "output_type": "stream",
     "text": [
      "\r",
      "Evaluating:  82%|████████████████████████████████████████████████▎          | 45/55 [00:11<00:02,  4.13it/s]"
     ]
    },
    {
     "name": "stderr",
     "output_type": "stream",
     "text": [
      "\r",
      "Evaluating:  84%|█████████████████████████████████████████████████▎         | 46/55 [00:11<00:02,  4.13it/s]"
     ]
    },
    {
     "name": "stderr",
     "output_type": "stream",
     "text": [
      "\r",
      "Evaluating:  85%|██████████████████████████████████████████████████▍        | 47/55 [00:11<00:01,  4.12it/s]"
     ]
    },
    {
     "name": "stderr",
     "output_type": "stream",
     "text": [
      "\r",
      "Evaluating:  87%|███████████████████████████████████████████████████▍       | 48/55 [00:11<00:01,  4.13it/s]"
     ]
    },
    {
     "name": "stderr",
     "output_type": "stream",
     "text": [
      "\r",
      "Evaluating:  89%|████████████████████████████████████████████████████▌      | 49/55 [00:12<00:01,  4.13it/s]"
     ]
    },
    {
     "name": "stderr",
     "output_type": "stream",
     "text": [
      "\r",
      "Evaluating:  91%|█████████████████████████████████████████████████████▋     | 50/55 [00:12<00:01,  4.13it/s]"
     ]
    },
    {
     "name": "stderr",
     "output_type": "stream",
     "text": [
      "\r",
      "Evaluating:  93%|██████████████████████████████████████████████████████▋    | 51/55 [00:12<00:00,  4.12it/s]"
     ]
    },
    {
     "name": "stderr",
     "output_type": "stream",
     "text": [
      "\r",
      "Evaluating:  95%|███████████████████████████████████████████████████████▊   | 52/55 [00:12<00:00,  4.12it/s]"
     ]
    },
    {
     "name": "stderr",
     "output_type": "stream",
     "text": [
      "\r",
      "Evaluating:  96%|████████████████████████████████████████████████████████▊  | 53/55 [00:13<00:00,  4.13it/s]"
     ]
    },
    {
     "name": "stderr",
     "output_type": "stream",
     "text": [
      "\r",
      "Evaluating:  98%|█████████████████████████████████████████████████████████▉ | 54/55 [00:13<00:00,  4.13it/s]"
     ]
    },
    {
     "name": "stderr",
     "output_type": "stream",
     "text": [
      "\r",
      "Evaluating: 100%|███████████████████████████████████████████████████████████| 55/55 [00:13<00:00,  4.10it/s]"
     ]
    },
    {
     "name": "stderr",
     "output_type": "stream",
     "text": [
      "\n",
      "INFO:src.models.trainer:Test metrics: {'accuracy': 0.993105429474289, 'f1': 0.9930571304602539, 'precision': 0.9930349573909588, 'recall': 0.993105429474289, 'auc': 0.9973089327278057, 'loss': 0.023990894940851087}\n"
     ]
    },
    {
     "name": "stdout",
     "output_type": "stream",
     "text": [
      "\n",
      "Training completed!\n",
      "\n",
      "Final metrics:\n",
      "accuracy: 0.9931\n",
      "f1: 0.9931\n",
      "precision: 0.9930\n",
      "recall: 0.9931\n",
      "auc: 0.9973\n",
      "loss: 0.0240\n"
     ]
    }
   ],
   "source": [
    "# Train the model\n",
    "final_metrics = trainer.train()\n",
    "\n",
    "print(\"\\nTraining completed!\")\n",
    "print(\"\\nFinal metrics:\")\n",
    "for metric, value in final_metrics.items():\n",
    "    print(f\"{metric}: {value:.4f}\")\n",
    "\n",
    "# Save final configuration and results\n",
    "results = {\n",
    "    'config': config,\n",
    "    'final_metrics': final_metrics\n",
    "}\n",
    "\n",
    "with open(CHECKPOINT_DIR / 'training_results.json', 'w') as f:\n",
    "    json.dump(results, f, indent=2)"
   ]
  },
  {
   "cell_type": "code",
   "execution_count": null,
   "id": "5b69dc68",
   "metadata": {
    "papermill": {
     "duration": 0.039262,
     "end_time": "2025-03-26T21:23:27.894441",
     "exception": false,
     "start_time": "2025-03-26T21:23:27.855179",
     "status": "completed"
    },
    "tags": []
   },
   "outputs": [],
   "source": []
  }
 ],
 "metadata": {
  "kernelspec": {
   "display_name": "Python 3 (ipykernel)",
   "language": "python",
   "name": "python3"
  },
  "language_info": {
   "codemirror_mode": {
    "name": "ipython",
    "version": 3
   },
   "file_extension": ".py",
   "mimetype": "text/x-python",
   "name": "python",
   "nbconvert_exporter": "python",
   "pygments_lexer": "ipython3",
   "version": "3.11.5"
  },
  "papermill": {
   "duration": 285.645885,
   "end_time": "2025-03-26T21:23:28.314198",
   "exception": null,
   "input_path": "/tmp/tmphf7w8531.ipynb",
   "output_path": "/home/luuka/thesis/workspace/output/02_train.ipynb",
   "parameters": {
    "product": {
     "metrics": "/home/luuka/thesis/workspace/checkpoints/best_model_info.json",
     "model": "/home/luuka/thesis/workspace/checkpoints/best_model.pt",
     "nb": "/home/luuka/thesis/workspace/output/02_train.ipynb",
     "results": "/home/luuka/thesis/workspace/checkpoints/training_results.json"
    }
   },
   "start_time": "2025-03-26T21:18:42.668313"
  }
 },
 "nbformat": 4,
 "nbformat_minor": 5
}