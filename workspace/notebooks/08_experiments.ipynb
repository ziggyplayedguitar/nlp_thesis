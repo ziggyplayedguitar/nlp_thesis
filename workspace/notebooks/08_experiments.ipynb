{
 "cells": [
  {
   "cell_type": "code",
   "execution_count": 1,
   "metadata": {},
   "outputs": [],
   "source": [
    "from src.data_tools.czech_data_tools import load_czech_media_data"
   ]
  },
  {
   "cell_type": "code",
   "execution_count": 5,
   "metadata": {},
   "outputs": [
    {
     "name": "stderr",
     "output_type": "stream",
     "text": [
      "Loading files: 100%|██████████████████████████████████████████████████████| 124/124 [00:10<00:00, 11.64it/s]\n"
     ]
    },
    {
     "name": "stdout",
     "output_type": "stream",
     "text": [
      "Loaded 845551 comments from 66578 unique authors\n"
     ]
    }
   ],
   "source": [
    "from pathlib import Path\n",
    "\n",
    "DATA_DIR = Path('data')\n",
    "czech_comments = load_czech_media_data(str(DATA_DIR / 'MediaSource'))\n",
    "print(f\"Loaded {len(czech_comments)} comments from {czech_comments['author'].nunique()} unique authors\")"
   ]
  },
  {
   "cell_type": "code",
   "execution_count": 10,
   "metadata": {},
   "outputs": [],
   "source": [
    "import pandas as pd\n",
    "import json\n",
    "\n",
    "# Load annotations\n",
    "annotations_df = pd.read_csv('annotations/user_labels.csv')\n",
    "\n",
    "# Filter out uncertain labels (-1)\n",
    "certain_labels_df = annotations_df[annotations_df['label'].isin([0, 1])]\n",
    "\n",
    "# Create a dictionary of user -> label\n",
    "user_labels = certain_labels_df.set_index('author')['label'].to_dict()\n",
    "\n",
    "# Group comments by user\n",
    "user_comments = {}\n",
    "for user in user_labels.keys():\n",
    "    # Get all comments for this user\n",
    "    user_data = czech_comments[czech_comments['author'] == user]\n",
    "    \n",
    "    # Concatenate all comments for this user\n",
    "    all_comments = ' '.join(user_data['text'].astype(str).tolist())  # replace 'text' with your actual comment column name\n",
    "    \n",
    "    user_comments[user] = all_comments\n",
    "\n",
    "# Create MetaTroll format dataset\n",
    "metatroll_data = []\n",
    "for user, comments in user_comments.items():\n",
    "    metatroll_data.append({\n",
    "        'user_id': user,\n",
    "        'clean_tweets_string': comments,\n",
    "        'troll_domain': 'czech_social',  # single domain for all Czech data\n",
    "        'encoded_label': user_labels[user]\n",
    "    })\n",
    "\n",
    "# Convert to DataFrame and save\n",
    "metatroll_df = pd.DataFrame(metatroll_data)\n",
    "metatroll_df.to_pickle('czech_troll_data.pkl')"
   ]
  },
  {
   "cell_type": "code",
   "execution_count": 11,
   "metadata": {},
   "outputs": [
    {
     "data": {
      "text/html": [
       "<div>\n",
       "<style scoped>\n",
       "    .dataframe tbody tr th:only-of-type {\n",
       "        vertical-align: middle;\n",
       "    }\n",
       "\n",
       "    .dataframe tbody tr th {\n",
       "        vertical-align: top;\n",
       "    }\n",
       "\n",
       "    .dataframe thead th {\n",
       "        text-align: right;\n",
       "    }\n",
       "</style>\n",
       "<table border=\"1\" class=\"dataframe\">\n",
       "  <thead>\n",
       "    <tr style=\"text-align: right;\">\n",
       "      <th></th>\n",
       "      <th>user_id</th>\n",
       "      <th>clean_tweets_string</th>\n",
       "      <th>troll_domain</th>\n",
       "      <th>encoded_label</th>\n",
       "    </tr>\n",
       "  </thead>\n",
       "  <tbody>\n",
       "    <tr>\n",
       "      <th>0</th>\n",
       "      <td>Štěpán Malák</td>\n",
       "      <td>nechce ztrapňovat ukazovat svoji neschopnost, ...</td>\n",
       "      <td>czech_social</td>\n",
       "      <td>1</td>\n",
       "    </tr>\n",
       "    <tr>\n",
       "      <th>1</th>\n",
       "      <td>Jan Benda</td>\n",
       "      <td>přesně Mnichov 1938 nás!!!! Elektrokrámy předr...</td>\n",
       "      <td>czech_social</td>\n",
       "      <td>1</td>\n",
       "    </tr>\n",
       "    <tr>\n",
       "      <th>2</th>\n",
       "      <td>Jindra Macek</td>\n",
       "      <td>Bravo Slovaci♥️ invazi Ruska UA maji cesi nejd...</td>\n",
       "      <td>czech_social</td>\n",
       "      <td>1</td>\n",
       "    </tr>\n",
       "    <tr>\n",
       "      <th>3</th>\n",
       "      <td>Josef Fortelný</td>\n",
       "      <td>Jo Zelenský somrák nevděčný, víc… Okamuru stíh...</td>\n",
       "      <td>czech_social</td>\n",
       "      <td>1</td>\n",
       "    </tr>\n",
       "    <tr>\n",
       "      <th>4</th>\n",
       "      <td>Michal Musil</td>\n",
       "      <td>skvely hrdinove rusaci okupujou ukrajinu ukraj...</td>\n",
       "      <td>czech_social</td>\n",
       "      <td>1</td>\n",
       "    </tr>\n",
       "  </tbody>\n",
       "</table>\n",
       "</div>"
      ],
      "text/plain": [
       "          user_id                                clean_tweets_string  \\\n",
       "0    Štěpán Malák  nechce ztrapňovat ukazovat svoji neschopnost, ...   \n",
       "1       Jan Benda  přesně Mnichov 1938 nás!!!! Elektrokrámy předr...   \n",
       "2    Jindra Macek  Bravo Slovaci♥️ invazi Ruska UA maji cesi nejd...   \n",
       "3  Josef Fortelný  Jo Zelenský somrák nevděčný, víc… Okamuru stíh...   \n",
       "4    Michal Musil  skvely hrdinove rusaci okupujou ukrajinu ukraj...   \n",
       "\n",
       "   troll_domain  encoded_label  \n",
       "0  czech_social              1  \n",
       "1  czech_social              1  \n",
       "2  czech_social              1  \n",
       "3  czech_social              1  \n",
       "4  czech_social              1  "
      ]
     },
     "execution_count": 11,
     "metadata": {},
     "output_type": "execute_result"
    }
   ],
   "source": [
    "metatroll_df.head()"
   ]
  }
 ],
 "metadata": {
  "kernelspec": {
   "display_name": "Python 3 (ipykernel)",
   "language": "python",
   "name": "python3"
  },
  "language_info": {
   "codemirror_mode": {
    "name": "ipython",
    "version": 3
   },
   "file_extension": ".py",
   "mimetype": "text/x-python",
   "name": "python",
   "nbconvert_exporter": "python",
   "pygments_lexer": "ipython3",
   "version": "3.11.5"
  }
 },
 "nbformat": 4,
 "nbformat_minor": 2
}
