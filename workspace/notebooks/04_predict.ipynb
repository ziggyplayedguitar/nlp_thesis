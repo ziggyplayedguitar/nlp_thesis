{
 "cells": [
  {
   "cell_type": "code",
   "execution_count": 7,
   "metadata": {},
   "outputs": [],
   "source": [
    "# Imports and Setup\n",
    "import pandas as pd\n",
    "import numpy as np\n",
    "from pathlib import Path\n",
    "import sys\n",
    "import logging\n",
    "import json\n",
    "import torch\n",
    "\n",
    "import matplotlib.pyplot as plt\n",
    "import seaborn as sns\n",
    "\n",
    "# Add project root to path\n",
    "sys.path.append(str(Path.cwd().parent))\n",
    "\n",
    "# Import modules\n",
    "from src.models.predictor import TrollPredictor\n",
    "\n",
    "# Configure matplotlib and seaborn\n",
    "plt.style.use('default')\n",
    "sns.set_theme()\n",
    "\n",
    "# Set up logging\n",
    "logging.basicConfig(level=logging.INFO)\n",
    "logger = logging.getLogger(__name__)\n",
    "\n",
    "DATA_DIR = Path('data')\n",
    "PREDICTIONS_DIR = Path('output')\n"
   ]
  },
  {
   "cell_type": "code",
   "execution_count": 8,
   "metadata": {},
   "outputs": [
    {
     "name": "stderr",
     "output_type": "stream",
     "text": [
      "INFO:adapters.heads.model_mixin:Adding head 'default' with config {'head_type': 'masked_lm', 'vocab_size': 119547, 'embedding_size': 768, 'layers': 2, 'activation_function': 'gelu', 'layer_norm': True, 'bias': True, 'shift_labels': False, 'label2id': None}.\n",
      "INFO:src.models.predictor:Loaded model weights from ./checkpoints/best_model_ru_only_enhanced_attention.pt\n"
     ]
    }
   ],
   "source": [
    "\n",
    "# Initialize predictor with model\n",
    "# model_path = \"./checkpoints/best_model_final_BCE.pt\"\n",
    "model_path = \"./checkpoints/best_model_ru_only_enhanced_attention.pt\"\n",
    "\n",
    "# Initialize predictor with threshold\n",
    "predictor = TrollPredictor(\n",
    "    model_path=model_path,\n",
    "    # model_name=\"ufal/robeczech-base\",\n",
    "    comments_per_user=10,\n",
    "    max_length=96,\n",
    "    threshold=0.5, # Add threshold parameter\n",
    "    use_adapter=False\n",
    ")"
   ]
  },
  {
   "cell_type": "code",
   "execution_count": 9,
   "metadata": {},
   "outputs": [
    {
     "name": "stderr",
     "output_type": "stream",
     "text": [
      "INFO:src.data_tools.czech_data_tools:Found 124 JSON files to process\n",
      "Loading files:   0%|                                                                            | 0/124 [00:00<?, ?it/s]"
     ]
    },
    {
     "name": "stderr",
     "output_type": "stream",
     "text": [
      "Loading files: 100%|██████████████████████████████████████████████████████████████████| 124/124 [00:11<00:00, 10.35it/s]\n"
     ]
    },
    {
     "name": "stdout",
     "output_type": "stream",
     "text": [
      "Loaded 845743 comments from 66588 unique authors\n"
     ]
    }
   ],
   "source": [
    "from src.data_tools.czech_data_tools import load_czech_media_data\n",
    "\n",
    "DATA_DIR = Path('./data')\n",
    "czech_comments = load_czech_media_data(str(DATA_DIR / 'MediaSource'))\n",
    "print(f\"Loaded {len(czech_comments)} comments from {czech_comments['author'].nunique()} unique authors\")\n",
    "\n",
    "# # Read the processed Czech media comments from parquet file\n",
    "# czech_comments = pd.read_parquet(\"data/processed/czech_media_comments.parquet\")\n",
    "# print(f\"Loaded {len(czech_comments)} comments from {czech_comments['author'].nunique()} unique authors\")"
   ]
  },
  {
   "cell_type": "code",
   "execution_count": 10,
   "metadata": {},
   "outputs": [
    {
     "name": "stdout",
     "output_type": "stream",
     "text": [
      "Reduced to 365353 comments from 8275 authors (all with 10+ comments)\n"
     ]
    }
   ],
   "source": [
    "# Get authors with at least 10 comments and reduce to 50% of those\n",
    "author_counts = czech_comments['author'].value_counts()\n",
    "eligible_authors = author_counts[author_counts >= 10].index\n",
    "sample_size = int(len(eligible_authors) * 0.5) # limit number of authors if faster run needed\n",
    "sampled_authors = np.random.choice(eligible_authors, size=sample_size, replace=False)\n",
    "czech_comments = czech_comments[czech_comments['author'].isin(sampled_authors)]\n",
    "\n",
    "print(f\"Reduced to {len(czech_comments)} comments from {sample_size} authors (all with 10+ comments)\")\n"
   ]
  },
  {
   "cell_type": "code",
   "execution_count": 11,
   "metadata": {},
   "outputs": [
    {
     "name": "stdout",
     "output_type": "stream",
     "text": [
      "Filtered to 365353 comments from 58 labeled authors\n"
     ]
    }
   ],
   "source": [
    "# Load labeled authors from annotations file\n",
    "labeled_authors_df = pd.read_csv('annotations/user_labels.csv')\n",
    "labeled_authors = labeled_authors_df['author'].unique()\n",
    "\n",
    "# Filter czech_comments to only include labeled authors\n",
    "czech_comments_annotated = czech_comments[czech_comments['author'].isin(labeled_authors)]\n",
    "\n",
    "print(f\"Filtered to {len(czech_comments)} comments from {len(labeled_authors)} labeled authors\")\n",
    "predictions_df_labeled = predictor.predict(czech_comments_annotated)\n",
    "# Convert predictions dictionary to dataframe\n",
    "predictions_df_labeled = pd.DataFrame({\n",
    "    'author': czech_comments_annotated['author'].unique(),\n",
    "    'trolliness_score': predictions_df_labeled['trolliness_score'],\n",
    "    'binary_prediction': predictions_df_labeled['prediction'],\n",
    "    'binary_confidence': predictions_df_labeled['binary_confidence']\n",
    "})\n"
   ]
  },
  {
   "cell_type": "code",
   "execution_count": 12,
   "metadata": {},
   "outputs": [
    {
     "name": "stderr",
     "output_type": "stream",
     "text": [
      "100%|███████████████████████████████████████████████████████████████████████████████| 8275/8275 [26:52<00:00,  5.13it/s]\n"
     ]
    }
   ],
   "source": [
    "# Make predictions\n",
    "predictions_df = predictor.predict_authors(czech_comments)\n"
   ]
  },
  {
   "cell_type": "code",
   "execution_count": 13,
   "metadata": {},
   "outputs": [],
   "source": [
    "# Combine labeled and unlabeled predictions, skipping duplicates\n",
    "predictions_df = pd.concat([predictions_df_labeled, predictions_df], axis=0).drop_duplicates(subset=['author'], keep='first')"
   ]
  },
  {
   "cell_type": "code",
   "execution_count": 14,
   "metadata": {},
   "outputs": [],
   "source": [
    "# Save predictions with new columns\n",
    "predictions_df.to_csv(PREDICTIONS_DIR / 'czech_media_predictions_ru_only_enhanced_attention.csv', index=False)\n",
    "\n",
    "# Update the summary statistics to include regression metrics\n",
    "summary_stats = {\n",
    "    'total_authors': len(predictions_df),\n",
    "    'mean_trolliness': predictions_df['trolliness_score'].mean(),\n",
    "    'median_trolliness': predictions_df['trolliness_score'].median(),\n",
    "    'std_trolliness': predictions_df['trolliness_score'].std(),\n",
    "    'troll_percentage': (predictions_df['binary_prediction'] == 'troll').mean() * 100,\n",
    "    'mean_confidence': predictions_df['binary_confidence'].mean(),\n",
    "    'threshold_used': predictor.threshold\n",
    "}\n",
    "\n",
    "# Save summary\n",
    "with open(PREDICTIONS_DIR / 'prediction_summary_ru_only_enhanced_attention.json', 'w') as f:\n",
    "    json.dump(summary_stats, f, indent=2)"
   ]
  },
  {
   "cell_type": "code",
   "execution_count": 23,
   "metadata": {},
   "outputs": [],
   "source": [
    "# Read in predictions from saved CSV\n",
    "predictions_df = pd.read_csv(PREDICTIONS_DIR / 'czech_media_predictions_finetuned_ru_only.csv')\n"
   ]
  },
  {
   "cell_type": "code",
   "execution_count": 15,
   "metadata": {},
   "outputs": [
    {
     "name": "stdout",
     "output_type": "stream",
     "text": [
      "\n",
      "Comparison of Predictions vs Manual Labels:\n",
      "================================================================================\n",
      "\n",
      "Total labeled authors: 29\n",
      "Average trolliness score:\n",
      "           mean  count  std\n",
      "label                      \n",
      "-1     0.102185     11  0.0\n",
      " 0     0.102185     13  0.0\n",
      " 1     0.102185      5  0.0\n",
      "\n",
      "Correlation between trolliness score and manual labels: nan\n",
      "\n",
      "Confusion Matrix (using threshold):\n",
      "Empty DataFrame\n",
      "Columns: []\n",
      "Index: []\n"
     ]
    }
   ],
   "source": [
    "# Create a mapping of labels to numeric values for correlation analysis\n",
    "label_map = {'troll': 1, 'not_troll': 0}\n",
    "labeled_authors_df['label_numeric'] = labeled_authors_df['label'].map(label_map)\n",
    "\n",
    "# Merge predictions with labeled data\n",
    "merged_df = predictions_df.merge(\n",
    "    labeled_authors_df[['author', 'label', 'label_numeric']], \n",
    "    on='author',\n",
    "    how='inner'\n",
    ")\n",
    "\n",
    "print(\"\\nComparison of Predictions vs Manual Labels:\")\n",
    "print(\"=\" * 80)\n",
    "print(f\"\\nTotal labeled authors: {len(merged_df)}\")\n",
    "print(f\"Average trolliness score:\")\n",
    "print(merged_df.groupby('label')['trolliness_score'].agg(['mean', 'count', 'std']))\n",
    "\n",
    "# Calculate correlation between trolliness score and numeric labels\n",
    "correlation = merged_df['trolliness_score'].corr(merged_df['label_numeric'])\n",
    "print(f\"\\nCorrelation between trolliness score and manual labels: {correlation:.3f}\")\n",
    "\n",
    "# Create confusion matrix using threshold\n",
    "threshold = predictor.threshold\n",
    "merged_df['predicted_label'] = (merged_df['trolliness_score'] > threshold).astype(int)\n",
    "confusion = pd.crosstab(\n",
    "    merged_df['label_numeric'], \n",
    "    merged_df['predicted_label'],\n",
    "    margins=True\n",
    ")\n",
    "print(\"\\nConfusion Matrix (using threshold):\")\n",
    "print(confusion)\n"
   ]
  },
  {
   "cell_type": "code",
   "execution_count": 16,
   "metadata": {},
   "outputs": [
    {
     "name": "stdout",
     "output_type": "stream",
     "text": [
      "\n",
      "Top 10 Authors by Trolliness Score (with 5+ comments):\n",
      "================================================================================\n",
      "\n",
      "Author: Petr Gajdáček\n",
      "Trolliness Score: 0.958\n",
      "\n",
      "Sample Comments:\n",
      "\n",
      "1. Kolekci z čokolády jsme měli naposled v roce 1990. Pak už její náhražky ne.\n",
      "\n",
      "2. Poučení pro každého, když na to nemáš, tak nedráždí medvěda, obzvlášť toho ruského!\n",
      "\n",
      "3. Opět má pravdu!\n",
      "\n",
      "4. Amerika s Ruskem jedná o obnovení normálních vztahů a EU vymýšlí další balík sankcí! Pak se EU diví, že jsou na vedlejší koleji!\n",
      "\n",
      "5. Má pravdu americký prezident!\n",
      "\n",
      "--------------------------------------------------------------------------------\n",
      "\n",
      "Author: Jaroslav Jindra\n",
      "Trolliness Score: 0.938\n",
      "\n",
      "Sample Comments:\n",
      "\n",
      "1. Jak tak čtu ty komentáře, tak bude asi lepší když se nedohodnou ‍\n",
      "\n",
      "2. On je strach z neúspěchu nemoc?\n",
      "\n",
      "3. Děkujeme pane Zelenskyj\n",
      "\n",
      "4. S ukrajincema dopadneme stejně jako Švédsko a nebo Německo s muslimama…. No jo no ale musíme být solidární\n",
      "\n",
      "5. S ukrajincema dopadneme stejně jako Švédsko a nebo Německo s muslimama…. No jo no ale musíme být solidární\n",
      "\n",
      "--------------------------------------------------------------------------------\n",
      "\n",
      "Author: Alois Lachman\n",
      "Trolliness Score: 0.938\n",
      "\n",
      "Sample Comments:\n",
      "\n",
      "1. ve všech stranách jsou bývalí komunisti to asi nikomu nevadí a ten nejvyšší je na hradě\n",
      "\n",
      "2. A co ten kříž asi náckovè\n",
      "\n",
      "3. A jak ví ten náš všeználek že Trump nemá pravdu\n",
      "\n",
      "4. Hlavně se utrácí za tanky který patřil už do šrotu\n",
      "\n",
      "5. Vědčina lidí má svůj rozum tak jsou o svátky raději z rodinou\n",
      "\n",
      "--------------------------------------------------------------------------------\n",
      "\n",
      "Author: Pavel Varmuža\n",
      "Trolliness Score: 0.930\n",
      "\n",
      "Sample Comments:\n",
      "\n",
      "1. Cca 12 let je tam občanská válka a teď náhle rychlý pád. To není jen tak.\n",
      "\n",
      "2. Plynovod NordStream 2 chce podle listu Wall Street Journal koupit americký investor Stephen Lynch, štědrý financiér kampaně Donalda Trumpa. Podle Lynche nakonec potrubím plyn opět poteče, neboť to bude v silném zájmu jak Ruska, tak i Německa. Je prý lepší, když na přepravě bude vydělávat Amerika, než aby byla pod kontrolou Ruska.\n",
      "\n",
      "3. Jestliže Rusko může odpalovat rakety přes celou Ukrajinu až na Lvov ,tak je velice nespravedlivé ,aby Ukrajina mohla jen kousek.\n",
      "\n",
      "4. Jsem rád ,že žiji ve svobodné a bezpečné zemi.\n",
      "\n",
      "5. Pavel VarmužaCo je na tom pěti lidem k smíchu je mi záhadou.\n",
      "\n",
      "--------------------------------------------------------------------------------\n",
      "\n",
      "Author: Margareta Jantošová\n",
      "Trolliness Score: 0.927\n",
      "\n",
      "Sample Comments:\n",
      "\n",
      "1. Nevzala bych je i kdyby je dávali zadarmo!\n",
      "\n",
      "2. Jak to jen dělali když ještě žádné dotace nebyly všeho bylo dost a zdravé,nepředražené\n",
      "\n",
      "3. Pavel KrálCo tady kňučíte,jak postižený!\n",
      "\n",
      "4. V utajení asi těžko!\n",
      "\n",
      "5. Dokud si tam budou objednávat hloupí lidé, tak se nic nezmění.\n",
      "\n",
      "--------------------------------------------------------------------------------\n",
      "\n",
      "Author: Zdeněk Nippert\n",
      "Trolliness Score: 0.927\n",
      "\n",
      "Sample Comments:\n",
      "\n",
      "1. To tak vypadá na LSD\n",
      "\n",
      "2. Jenom mě není jasný proč to nezaokrouhlil na 860 000?!\n",
      "\n",
      "3. Posadit na nadrženého hřebce a nechat se projet\n",
      "\n",
      "4. Sláva izraelcům !!\n",
      "\n",
      "5. A teď je na řadě Ukrajina aby se jim omluvil a přestal válčit bolševik\n",
      "\n",
      "--------------------------------------------------------------------------------\n",
      "\n",
      "Author: Lukáš Havel\n",
      "Trolliness Score: 0.924\n",
      "\n",
      "Sample Comments:\n",
      "\n",
      "1. Hlavně na tom vyvařit, viď Ficku\n",
      "\n",
      "2. Teď jsou na řadě Ukrajinci, aby Rusakum teplo a elektřinu\n",
      "\n",
      "3. To zase někdo vypadne z okna, jinak to nevidím\n",
      "\n",
      "4. Paní Konečná ho pochválí\n",
      "\n",
      "5. Jen ať si nandaji, žádná škoda\n",
      "\n",
      "--------------------------------------------------------------------------------\n",
      "\n",
      "Author: Jiří Rybář\n",
      "Trolliness Score: 0.923\n",
      "\n",
      "Sample Comments:\n",
      "\n",
      "1. Havlíčkovi fandím, konečně to někdo řekl na ostro, budu je volit!\n",
      "\n",
      "2. Ještě rok této vlády, a je zde opět komoušov!\n",
      "\n",
      "3. Když se už i takto bojuje v kampani, tak je to zlé!\n",
      "\n",
      "4. No, je to na dobré cestě!\n",
      "\n",
      "5. Když se to převede na počet obyvatel, tak jsme na tom jako poláci!\n",
      "\n",
      "--------------------------------------------------------------------------------\n",
      "\n",
      "Author: František Bareš\n",
      "Trolliness Score: 0.920\n",
      "\n",
      "Sample Comments:\n",
      "\n",
      "1. Mladej bude asi hitlerjunkers.\n",
      "\n",
      "2. Loď která přetrhne kabel by se měla bez diskuzí potopit aby nebylo repete.\n",
      "\n",
      "3. Ještě že si pamatuje kdo uteče vyhraje.\n",
      "\n",
      "4. No stále je dost času na emigraci.\n",
      "\n",
      "5. Pamatuji doby kdy mi o půlnoci museli vyměnit babu.\n",
      "\n",
      "--------------------------------------------------------------------------------\n",
      "\n",
      "Author: Jan Antl\n",
      "Trolliness Score: 0.920\n",
      "\n",
      "Sample Comments:\n",
      "\n",
      "1. Zabaveni majetku a šupem domu!\n",
      "\n",
      "2. Výcvik na F 16 trvá 2-3 roky,tak to psali na seznamu,asi zázračné dítě!\n",
      "\n",
      "3. Všechno bylo připravené i s Havlem !!!\n",
      "\n",
      "4. Kdo mu to poradil?\n",
      "\n",
      "5. Johnson je jeden těch kteŕi přispěli k válce na Ukrajině po zrušení Istanbulské smlouvy!\n",
      "\n",
      "--------------------------------------------------------------------------------\n"
     ]
    }
   ],
   "source": [
    "# Get comment counts per author\n",
    "author_comment_counts = czech_comments['author'].value_counts()\n",
    "authors_with_min_comments = author_comment_counts[author_comment_counts >= 5].index\n",
    "\n",
    "# Get top 10 authors by trolliness score who have at least 5 comments\n",
    "top_trolls = predictions_df[predictions_df['author'].isin(authors_with_min_comments)].nlargest(10, 'trolliness_score')\n",
    "\n",
    "# Save top trolls to CSV with just name and score\n",
    "top_trolls_save = top_trolls[['author', 'trolliness_score']].copy()\n",
    "# top_trolls_save['label'] = top_trolls_save['author'].map(\n",
    "#     labeled_authors_df.set_index('author')['label']\n",
    "# )\n",
    "top_trolls_save.to_csv(PREDICTIONS_DIR / 'top_trolls_BCE.csv', index=False)\n",
    "\n",
    "print(\"\\nTop 10 Authors by Trolliness Score (with 5+ comments):\")\n",
    "print(\"=\" * 80)\n",
    "\n",
    "# Print details for each author\n",
    "for _, author_row in top_trolls.iterrows():\n",
    "    author = author_row['author']\n",
    "    score = author_row['trolliness_score']\n",
    "    \n",
    "    # Get label if available\n",
    "    # label = \"Unlabeled\"\n",
    "    # if author in labeled_authors_df['author'].values:\n",
    "    #     label_val = labeled_authors_df[labeled_authors_df['author'] == author]['label'].iloc[0]\n",
    "    #     label = label_map.get(label_val, \"Unlabeled\")\n",
    "    \n",
    "    print(f\"\\nAuthor: {author}\")\n",
    "    print(f\"Trolliness Score: {score:.3f}\")\n",
    "    # print(f\"Manual Label: {label}\")\n",
    "    \n",
    "    # Get 5 sample comments\n",
    "    author_comments = czech_comments[czech_comments['author'] == author]['text'].head()\n",
    "    print(\"\\nSample Comments:\")\n",
    "    for i, comment in enumerate(author_comments, 1):\n",
    "        print(f\"\\n{i}. {comment}\")\n",
    "    print(\"\\n\" + \"-\" * 80)"
   ]
  },
  {
   "cell_type": "code",
   "execution_count": 22,
   "metadata": {},
   "outputs": [
    {
     "data": {
      "image/png": "[encoded data removed]",
      "text/plain": [
       "<Figure size 1500x500 with 2 Axes>"
      ]
     },
     "metadata": {},
     "output_type": "display_data"
    },
    {
     "name": "stdout",
     "output_type": "stream",
     "text": [
      "\n",
      "Trolliness Score Statistics:\n",
      "----------------------------------------\n",
      "count    8275.000000\n",
      "mean        0.253288\n",
      "std         0.192866\n",
      "min         0.006510\n",
      "25%         0.098828\n",
      "50%         0.212892\n",
      "75%         0.355043\n",
      "max         0.958295\n",
      "Name: trolliness_score, dtype: float64\n"
     ]
    }
   ],
   "source": [
    "# Configure matplotlib and seaborn\n",
    "plt.style.use('default')\n",
    "sns.set_theme()\n",
    "\n",
    "# Create figure with two subplots\n",
    "fig, (ax1, ax2) = plt.subplots(1, 2, figsize=(15, 5))\n",
    "\n",
    "# Plot 1: Pie chart of troll vs non-troll predictions\n",
    "predictions = (predictions_df['trolliness_score'] > predictor.threshold).map({True: 'Troll', False: 'Not Troll'})\n",
    "prediction_counts = predictions.value_counts()\n",
    "\n",
    "ax1.pie(prediction_counts, labels=prediction_counts.index, autopct='%1.1f%%')\n",
    "ax1.set_title('Distribution of Predictions')\n",
    "\n",
    "# Plot 2: Distribution of trolliness scores\n",
    "sns.histplot(data=predictions_df, x='trolliness_score', bins=30, ax=ax2)\n",
    "ax2.axvline(x=predictor.threshold, color='red', linestyle='--', label='Threshold')\n",
    "ax2.set_title('Distribution of Trolliness Scores')\n",
    "ax2.set_xlabel('Trolliness Score')\n",
    "ax2.set_ylabel('Count')\n",
    "ax2.legend()\n",
    "\n",
    "plt.tight_layout()\n",
    "plt.show()\n",
    "\n",
    "# Print summary statistics\n",
    "print(\"\\nTrolliness Score Statistics:\")\n",
    "print(\"-\" * 40)\n",
    "print(predictions_df['trolliness_score'].describe())\n"
   ]
  },
  {
   "cell_type": "code",
   "execution_count": null,
   "metadata": {},
   "outputs": [],
   "source": []
  }
 ],
 "metadata": {
  "kernelspec": {
   "display_name": "Python 3 (ipykernel)",
   "language": "python",
   "name": "python3"
  },
  "language_info": {
   "codemirror_mode": {
    "name": "ipython",
    "version": 3
   },
   "file_extension": ".py",
   "mimetype": "text/x-python",
   "name": "python",
   "nbconvert_exporter": "python",
   "pygments_lexer": "ipython3",
   "version": "3.11.5"
  }
 },
 "nbformat": 4,
 "nbformat_minor": 2
}
