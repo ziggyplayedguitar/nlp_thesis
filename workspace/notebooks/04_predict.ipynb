{
 "cells": [
  {
   "cell_type": "code",
   "execution_count": 2,
   "id": "752f7795",
   "metadata": {
    "tags": [
     "parameters"
    ]
   },
   "outputs": [],
   "source": [
    "# declare a list tasks whose products you want to use as inputs\n",
    "upstream = None\n"
   ]
  },
  {
   "cell_type": "code",
   "execution_count": 3,
   "metadata": {},
   "outputs": [],
   "source": [
    "# Imports and Setup\n",
    "import pandas as pd\n",
    "import numpy as np\n",
    "from pathlib import Path\n",
    "import sys\n",
    "import logging\n",
    "import json\n",
    "import torch\n",
    "import matplotlib.pyplot as plt\n",
    "import seaborn as sns\n",
    "\n",
    "# Add project root to path\n",
    "sys.path.append(str(Path.cwd().parent))\n",
    "\n",
    "# Import modules\n",
    "from src.models.predictor import TrollPredictor\n",
    "from src.data_tools.czech_data_tools import load_czech_media_data\n",
    "from src.data_tools.czech_data_tools import export_comments_by_prediction\n",
    "\n",
    "# Configure matplotlib and seaborn\n",
    "plt.style.use('default')\n",
    "sns.set_theme()\n",
    "\n",
    "# Set up logging\n",
    "logging.basicConfig(level=logging.INFO)\n",
    "logger = logging.getLogger(__name__)"
   ]
  },
  {
   "cell_type": "code",
   "execution_count": 4,
   "metadata": {},
   "outputs": [
    {
     "name": "stderr",
     "output_type": "stream",
     "text": [
      "INFO:src.models.predictor:Loaded model weights from ./checkpoints/finetuned_model.pt\n"
     ]
    }
   ],
   "source": [
    "DATA_DIR = Path('data')\n",
    "\n",
    "# Initialize predictor with model\n",
    "# model_path = \"./checkpoints/best_model.pt\"\n",
    "model_path = \"./checkpoints/finetuned_model.pt\"\n",
    "\n",
    "# Initialize predictor with threshold\n",
    "predictor = TrollPredictor(\n",
    "    model_path=model_path,\n",
    "    comments_per_user=10,\n",
    "    max_length=96,\n",
    "    threshold=0.5  # Add threshold parameter\n",
    ")"
   ]
  },
  {
   "cell_type": "code",
   "execution_count": 6,
   "metadata": {},
   "outputs": [
    {
     "name": "stderr",
     "output_type": "stream",
     "text": [
      "INFO:src.models.predictor:Loaded model weights from ./checkpoints/finetuned_model.pt\n"
     ]
    }
   ],
   "source": [
    "DATA_DIR = Path('data')\n",
    "\n",
    "# Initialize predictor with model\n",
    "# model_path = \"./checkpoints/best_model.pt\"\n",
    "model_path = \"./checkpoints/finetuned_model.pt\"\n",
    "\n",
    "# Initialize predictor with threshold\n",
    "predictor = TrollPredictor(\n",
    "    model_path=model_path,\n",
    "    comments_per_user=10,\n",
    "    max_length=96,\n",
    "    threshold=0.5  # Add threshold parameter\n",
    ")"
   ]
  },
  {
   "cell_type": "code",
   "execution_count": 19,
   "metadata": {},
   "outputs": [
    {
     "name": "stdout",
     "output_type": "stream",
     "text": [
      "Loaded 845764 comments from 66590 unique authors\n"
     ]
    }
   ],
   "source": [
    "# DATA_DIR = Path('./data')\n",
    "# czech_comments = load_czech_media_data(str(DATA_DIR / 'MediaSource'))\n",
    "# print(f\"Loaded {len(czech_comments)} comments from {czech_comments['author'].nunique()} unique authors\")\n",
    "\n",
    "# Read the processed Czech media comments from parquet file\n",
    "czech_comments = pd.read_parquet(\"data/processed/czech_media_comments.parquet\")\n",
    "print(f\"Loaded {len(czech_comments)} comments from {czech_comments['author'].nunique()} unique authors\")"
   ]
  },
  {
   "cell_type": "code",
   "execution_count": 23,
   "metadata": {},
   "outputs": [
    {
     "name": "stdout",
     "output_type": "stream",
     "text": [
      "Reduced to 86413 comments from 2068 authors (all with 10+ comments)\n"
     ]
    }
   ],
   "source": [
    "# Get authors with at least 10 comments and reduce to 50% of those\n",
    "author_counts = czech_comments['author'].value_counts()\n",
    "eligible_authors = author_counts[author_counts >= 10].index\n",
    "sample_size = int(len(eligible_authors) * 0.5)\n",
    "sampled_authors = np.random.choice(eligible_authors, size=sample_size, replace=False)\n",
    "czech_comments = czech_comments[czech_comments['author'].isin(sampled_authors)]\n",
    "\n",
    "print(f\"Reduced to {len(czech_comments)} comments from {sample_size} authors (all with 10+ comments)\")\n"
   ]
  },
  {
   "cell_type": "code",
   "execution_count": 17,
   "metadata": {},
   "outputs": [
    {
     "name": "stdout",
     "output_type": "stream",
     "text": [
      "Filtered to 46415 comments from 54 labeled authors\n"
     ]
    },
    {
     "name": "stderr",
     "output_type": "stream",
     "text": [
      "100%|█████████████████████████████████████████████████████████████████████████████████████| 3/3 [00:00<00:00,  4.84it/s]\n"
     ]
    }
   ],
   "source": [
    "# Load labeled authors from annotations file\n",
    "labeled_authors_df = pd.read_csv('annotations/user_labels.csv')\n",
    "labeled_authors = labeled_authors_df['author'].unique()\n",
    "\n",
    "# Filter czech_comments to only include labeled authors\n",
    "czech_comments_annotated = czech_comments[czech_comments['author'].isin(labeled_authors)]\n",
    "\n",
    "print(f\"Filtered to {len(czech_comments)} comments from {len(labeled_authors)} labeled authors\")\n",
    "predictions_df_labeled = predictor.predict(czech_comments_annotated)"
   ]
  },
  {
   "cell_type": "code",
   "execution_count": 24,
   "metadata": {},
   "outputs": [
    {
     "name": "stderr",
     "output_type": "stream",
     "text": [
      "100%|███████████████████████████████████████████████████████████████████████████████| 2068/2068 [02:17<00:00, 14.99it/s]\n"
     ]
    }
   ],
   "source": [
    "PREDICTIONS_DIR = Path('output')\n",
    "\n",
    "# Make predictions\n",
    "predictions_df = predictor.predict(czech_comments)\n",
    "\n"
   ]
  },
  {
   "cell_type": "code",
   "execution_count": 25,
   "metadata": {},
   "outputs": [],
   "source": [
    "# Combine labeled and unlabeled predictions, skipping duplicates\n",
    "predictions_df = pd.concat([predictions_df_labeled, predictions_df], axis=0).drop_duplicates(subset=['author'], keep='first')\n"
   ]
  },
  {
   "cell_type": "code",
   "execution_count": 26,
   "metadata": {},
   "outputs": [],
   "source": [
    "# Save predictions with new columns\n",
    "predictions_df.to_csv(PREDICTIONS_DIR / 'czech_media_predictions.csv', index=False)\n",
    "\n",
    "# Update the summary statistics to include regression metrics\n",
    "summary_stats = {\n",
    "    'total_authors': len(predictions_df),\n",
    "    'mean_trolliness': predictions_df['trolliness_score'].mean(),\n",
    "    'median_trolliness': predictions_df['trolliness_score'].median(),\n",
    "    'std_trolliness': predictions_df['trolliness_score'].std(),\n",
    "    'troll_percentage': (predictions_df['binary_prediction'] == 'troll').mean() * 100,\n",
    "    'mean_confidence': predictions_df['binary_confidence'].mean(),\n",
    "    'threshold_used': predictor.threshold\n",
    "}\n",
    "\n",
    "# Save summary\n",
    "with open(PREDICTIONS_DIR / 'prediction_summary0.1.json', 'w') as f:\n",
    "    json.dump(summary_stats, f, indent=2)"
   ]
  },
  {
   "cell_type": "code",
   "execution_count": 27,
   "metadata": {},
   "outputs": [
    {
     "name": "stdout",
     "output_type": "stream",
     "text": [
      "\n",
      "Comparison of Predictions vs Manual Labels:\n",
      "================================================================================\n",
      "\n",
      "Total labeled authors: 14\n",
      "Average trolliness score:\n",
      "           mean  count       std\n",
      "label                           \n",
      "-1     0.654866      6  0.241740\n",
      " 0     0.481517      5  0.203853\n",
      " 1     0.764801      3  0.075615\n",
      "\n",
      "Correlation between trolliness score and manual labels: nan\n",
      "\n",
      "Confusion Matrix (using threshold):\n",
      "Empty DataFrame\n",
      "Columns: []\n",
      "Index: []\n"
     ]
    }
   ],
   "source": [
    "# Create a mapping of labels to numeric values for correlation analysis\n",
    "label_map = {'troll': 1, 'not_troll': 0}\n",
    "labeled_authors_df['label_numeric'] = labeled_authors_df['label'].map(label_map)\n",
    "\n",
    "# Merge predictions with labeled data\n",
    "merged_df = predictions_df.merge(\n",
    "    labeled_authors_df[['author', 'label', 'label_numeric']], \n",
    "    on='author',\n",
    "    how='inner'\n",
    ")\n",
    "\n",
    "print(\"\\nComparison of Predictions vs Manual Labels:\")\n",
    "print(\"=\" * 80)\n",
    "print(f\"\\nTotal labeled authors: {len(merged_df)}\")\n",
    "print(f\"Average trolliness score:\")\n",
    "print(merged_df.groupby('label')['trolliness_score'].agg(['mean', 'count', 'std']))\n",
    "\n",
    "# Calculate correlation between trolliness score and numeric labels\n",
    "correlation = merged_df['trolliness_score'].corr(merged_df['label_numeric'])\n",
    "print(f\"\\nCorrelation between trolliness score and manual labels: {correlation:.3f}\")\n",
    "\n",
    "# Create confusion matrix using threshold\n",
    "threshold = predictor.threshold\n",
    "merged_df['predicted_label'] = (merged_df['trolliness_score'] > threshold).astype(int)\n",
    "confusion = pd.crosstab(\n",
    "    merged_df['label_numeric'], \n",
    "    merged_df['predicted_label'],\n",
    "    margins=True\n",
    ")\n",
    "print(\"\\nConfusion Matrix (using threshold):\")\n",
    "print(confusion)\n"
   ]
  },
  {
   "cell_type": "code",
   "execution_count": 15,
   "metadata": {},
   "outputs": [
    {
     "name": "stdout",
     "output_type": "stream",
     "text": [
      "\n",
      "Top 10 Authors by Trolliness Score (with 5+ comments):\n",
      "================================================================================\n",
      "\n",
      "Author: Jirka Alex\n",
      "Trolliness Score: 0.783\n",
      "Manual Label: Unlabeled\n",
      "\n",
      "Sample Comments:\n",
      "\n",
      "1. Prazdna slova\n",
      "\n",
      "2. Prazdna slova\n",
      "\n",
      "3. Brno je zlata lod'\n",
      "\n",
      "4. Pozvou nas?\n",
      "\n",
      "5. Na samote u lesa\n",
      "\n",
      "--------------------------------------------------------------------------------\n",
      "\n",
      "Author: Ivan Penzes\n",
      "Trolliness Score: 0.758\n",
      "Manual Label: Unlabeled\n",
      "\n",
      "Sample Comments:\n",
      "\n",
      "1. Nejlepší zpráva dne ✌️✌️✌️\n",
      "\n",
      "2. Jeden může, druhý nemůže.To je ta rovnost a demokracie podle dnešních vládních stran.....\n",
      "\n",
      "3. Ještě nic neudělal a seznam hrozí katastrofou\n",
      "\n",
      "4. Seznam zase jede bomby\n",
      "\n",
      "5. Bratislava není Kiev\n",
      "\n",
      "--------------------------------------------------------------------------------\n",
      "\n",
      "Author: Zdislava Liďáková\n",
      "Trolliness Score: 0.749\n",
      "Manual Label: Unlabeled\n",
      "\n",
      "Sample Comments:\n",
      "\n",
      "1. …jako v pohádce Ference a Lorence, jen tím, že tu chybí “loupežník” Karaba! Nezbývá, než vydržet do švestek a věřit, že se ledacos změní\n",
      "\n",
      "2. Tak to je celkem jasné. Kdo ještě neviděl film Oppenheimer, doporučuji, ať víte, nás v takovém případě čeká!…\n",
      "\n",
      "3. Pravda byla vždy potírána …Cizinec v metru napadal lidi, ženě sebral hůl, se kterou pak udeřil policistu\n",
      "\n",
      "4. …proč musí mít státní zaměstnanci nejvyšší vzdělání? Aby měli nejvyšší na plat. A proč se živnostníkům zvedají odvody? Aby neměli čas o tom přemýšlet!…\n",
      "\n",
      "5. Tak mi přijde, že to byl a je úmysl a je na světě další nesmysl. Nejprve zvednou důchodový věk, pak jej u některých profesí sníží tím, že zaplatit to musí opět zaměstnavatel\n",
      "\n",
      "--------------------------------------------------------------------------------\n",
      "\n",
      "Author: David Simunek\n",
      "Trolliness Score: 0.728\n",
      "Manual Label: Unlabeled\n",
      "\n",
      "Sample Comments:\n",
      "\n",
      "1. Tak to je Rakousko totálně v …... Blaničtí rytíři a křižáci do zbroje ☝️\n",
      "\n",
      "2. ,, Bravo Syřane, jen tak dále’’ Co bych ním udělal tady totiž napsat nemohu Svoboda slova v roce 2025\n",
      "\n",
      "3. Počátek všeho je problém Ruska, Ukrajiny a USA , nikoliv západní Evropy. Super, již takto je ekonomika Evropy v ……, kdy se právě toto bude týkat každého z nás. Drahota, drahota, drahota….kde vezme ta druhá půlka Evropy plyn pro chod svého průmyslu, domácností atd. ?\n",
      "\n",
      "4. Aha , takže na dávkách dostali a opět odvedli . Ok…jaký to má efekt ? Tím pádem mi může stát poslat roční dávky jako zaměstnanci a já mu je zase z mého platu na konci roku vrátím. Super…,.peníze nikomu chybět nebudou . A kde je ten přínos do rozpočtu státu ? Neni to nula od nuly ?\n",
      "\n",
      "5. Tak ne jenom madam Merkel, ale už i naše vláda leze do…….jiným národům a jejich nechutným požadavkům na území ČR.\n",
      "\n",
      "--------------------------------------------------------------------------------\n",
      "\n",
      "Author: Pavel Zach\n",
      "Trolliness Score: 0.725\n",
      "Manual Label: Unlabeled\n",
      "\n",
      "Sample Comments:\n",
      "\n",
      "1. Důvod je zbytečně rychlá jízda a hustý provoz.Pak už jen ta nepozornost nebo blbost a je hotovo.V Praze se nejezdí,ale popojíždí a stojí.A všichni pálí palivo, které je drahé a ničí přírodu.Prostě blázinec.\n",
      "\n",
      "2. Je to drahý koníček a každý na to nemá.A kdo má,zas je třeba nemůže mít ️\n",
      "\n",
      "3. Prostě dobře pracovala a odváděla mimořádný výkon.\n",
      "\n",
      "4. Taková to byla celebrita,pořád v rozhlasu a televizí.\n",
      "\n",
      "5. No jo, pořád se něco děje.\n",
      "\n",
      "--------------------------------------------------------------------------------\n",
      "\n",
      "Author: Dusan Havel\n",
      "Trolliness Score: 0.723\n",
      "Manual Label: Unlabeled\n",
      "\n",
      "Sample Comments:\n",
      "\n",
      "1. Všechno cizí ven a zavřít hranice\n",
      "\n",
      "2. Tak proč existuje fixace ?\n",
      "\n",
      "3. Zrušit celou ČT\n",
      "\n",
      "4. Proč připravit ? Není lepší udělat něco aby válka nebyla ?\n",
      "\n",
      "5. Odsoudit veterináře , vedoucího farmy , zaměstnance , po jedné stránce je toto otřesné po druhé alespoň se píše a zveřejňuje i takové týrání a nejen chov slepic a brojlerů , ještě by se mělo zveřejnit chov prasat , kachen ,králíků , krůt atd od chovu až po jatka , to by jsme asi koukali všechno by vylezlo na světlo\n",
      "\n",
      "--------------------------------------------------------------------------------\n",
      "\n",
      "Author: Jiří Jouda\n",
      "Trolliness Score: 0.723\n",
      "Manual Label: Unlabeled\n",
      "\n",
      "Sample Comments:\n",
      "\n",
      "1. Zajímalo by mě kolik z těchto jmenovaných firem za posledních 20 let aspoň částečně zainvestovalo do zefektivnění výroby a energetické úspory.\n",
      "\n",
      "2. Že si tak nestěžoval když ho Babiš veřejně podporoval před volbami, všichni to jsou pokrytci…\n",
      "\n",
      "3. Rusáci se chtějí zbavit Zelenského protože jim stojí v cestě k ovládnutí Ukrajiny a Trump jde Putinovi na ruku.\n",
      "\n",
      "4. Rusáci labilním Trumpem manipulují jako malým dítětem, myslete si chcete ale dostaneme se do fáze kdy proti sobě bude mít Evropa dvě Ruska, jedno z východu a druhé ze západu…\n",
      "\n",
      "5. Jestli bude pokračovat v tom dělá tak ani nemusí vyhošťovat a všichni mu z toho Slovenska utečou sami.\n",
      "\n",
      "--------------------------------------------------------------------------------\n",
      "\n",
      "Author: Jan Hesztera\n",
      "Trolliness Score: 0.705\n",
      "Manual Label: Unlabeled\n",
      "\n",
      "Sample Comments:\n",
      "\n",
      "1. Má pravdu Kateřina ♥️\n",
      "\n",
      "2. V pořádku. Jak se do lesa volá, tak se z lesa ozývá ⭐️⭐️⭐️♥️\n",
      "\n",
      "3. To je zřejmě odplata za prezidentské volby, kdy většina hollywoodských hvězd podporovala Kamalu\n",
      "\n",
      "4. Držte se pane Fico, fandíme vàm!!, kéž by i my Češi, jsme měli takového premiéra!!♥️\n",
      "\n",
      "5. Pane Fico, nedejte se!!! Zaklekněte na tu svoloč proukrajinskou!!!\n",
      "\n",
      "--------------------------------------------------------------------------------\n",
      "\n",
      "Author: Krajcik Rostislav\n",
      "Trolliness Score: 0.703\n",
      "Manual Label: Unlabeled\n",
      "\n",
      "Sample Comments:\n",
      "\n",
      "1. Zdeněk ProkešMluv jen a jen za sebe\n",
      "\n",
      "2. Jirka Bass\n",
      "\n",
      "3. Jaromír SurákPřečti si Vence řekl Evropě v Mnichově.\n",
      "\n",
      "4. Jan NovákZajdi si k lékaři.\n",
      "\n",
      "5. Roman PokornýLépe se to popsat nedá\n",
      "\n",
      "--------------------------------------------------------------------------------\n",
      "\n",
      "Author: Stanislav Chládek\n",
      "Trolliness Score: 0.689\n",
      "Manual Label: Unlabeled\n",
      "\n",
      "Sample Comments:\n",
      "\n",
      "1. Znám takové přísloví : Mluviti stříbro , mlčeti zlato ! Pan Kolář by se ho měl doučit ! Důvody jsou snad každému normálně smýšlejícímu jasné ! ‍♂️\n",
      "\n",
      "2. Tak nevím se do toho hned plete Zdechovský ! Všichni víme je to zač ! Konečná se omluvila a dál už ! Až vystřídá Pekarovou v čele sněmovny tak to budete koukat my češi jsme zač ! ‍♂️\n",
      "\n",
      "3. Drzost této madam nezná mezí ! Myslel jsem že po tom způsobila za chaos a zločinnost v evropě už vůbec nevylezla z baráku ! Asi má pořádnou ochranku jinak si to neumím představit ! ‍♀️\n",
      "\n",
      "4. Docela tomu vysvětlení věřím ! Já osobně jsem rád že se nikomu nic nestalo !\n",
      "\n",
      "5. To se nám to hoduje když nám lidi půjčují !\n",
      "\n",
      "--------------------------------------------------------------------------------\n"
     ]
    }
   ],
   "source": [
    "# Get comment counts per author\n",
    "author_comment_counts = czech_comments['author'].value_counts()\n",
    "authors_with_min_comments = author_comment_counts[author_comment_counts >= 5].index\n",
    "\n",
    "# Get top 10 authors by trolliness score who have at least 5 comments\n",
    "top_trolls = predictions_df[predictions_df['author'].isin(authors_with_min_comments)].nlargest(10, 'trolliness_score')\n",
    "\n",
    "# Save top trolls to CSV with just name, score and label (if available)\n",
    "top_trolls_save = top_trolls[['author', 'trolliness_score']].copy()\n",
    "top_trolls_save['label'] = top_trolls_save['author'].map(\n",
    "    labeled_authors_df.set_index('author')['label']\n",
    ")\n",
    "top_trolls_save.to_csv(PREDICTIONS_DIR / 'top_trolls.csv', index=False)\n",
    "\n",
    "print(\"\\nTop 10 Authors by Trolliness Score (with 5+ comments):\")\n",
    "print(\"=\" * 80)\n",
    "\n",
    "# Print details for each author\n",
    "for _, author_row in top_trolls.iterrows():\n",
    "    author = author_row['author']\n",
    "    score = author_row['trolliness_score']\n",
    "    \n",
    "    # Get label if available\n",
    "    label = \"Unlabeled\"\n",
    "    if author in labeled_authors_df['author'].values:\n",
    "        label_val = labeled_authors_df[labeled_authors_df['author'] == author]['label'].iloc[0]\n",
    "        label = label_map.get(label_val, \"Unlabeled\")\n",
    "    \n",
    "    print(f\"\\nAuthor: {author}\")\n",
    "    print(f\"Trolliness Score: {score:.3f}\")\n",
    "    print(f\"Manual Label: {label}\")\n",
    "    \n",
    "    # Get 5 sample comments\n",
    "    author_comments = czech_comments[czech_comments['author'] == author]['text'].head()\n",
    "    print(\"\\nSample Comments:\")\n",
    "    for i, comment in enumerate(author_comments, 1):\n",
    "        print(f\"\\n{i}. {comment}\")\n",
    "    print(\"\\n\" + \"-\" * 80)"
   ]
  },
  {
   "cell_type": "code",
   "execution_count": 20,
   "metadata": {},
   "outputs": [
    {
     "name": "stdout",
     "output_type": "stream",
     "text": [
      "Loaded 44139 comments from 3329 unique authors\n",
      "Filtered to 40679 comments from 1265 authors with at least 5 comments\n",
      "Removed 2064 authors with fewer than 5 comments\n"
     ]
    }
   ],
   "source": [
    "# Count original number of authors and comments\n",
    "total_authors = czech_comments['author'].nunique()\n",
    "total_comments = len(czech_comments)\n",
    "print(f\"Loaded {total_comments} comments from {total_authors} unique authors\")\n",
    "\n",
    "# Filter authors with at least 5 comments\n",
    "author_counts = czech_comments['author'].value_counts()\n",
    "authors_with_min_5 = author_counts[author_counts >= 5].index\n",
    "czech_comments = czech_comments[czech_comments['author'].isin(authors_with_min_5)]\n",
    "\n",
    "# Count filtered number of authors and comments\n",
    "filtered_authors = czech_comments['author'].nunique()\n",
    "filtered_comments = len(czech_comments)\n",
    "print(f\"Filtered to {filtered_comments} comments from {filtered_authors} authors with at least 5 comments\")\n",
    "print(f\"Removed {total_authors - filtered_authors} authors with fewer than 5 comments\")"
   ]
  },
  {
   "cell_type": "code",
   "execution_count": 16,
   "metadata": {},
   "outputs": [
    {
     "data": {
      "image/png": "[encoded data removed]",
      "text/plain": [
       "<Figure size 1500x500 with 2 Axes>"
      ]
     },
     "metadata": {},
     "output_type": "display_data"
    },
    {
     "name": "stdout",
     "output_type": "stream",
     "text": [
      "\n",
      "Trolliness Score Statistics:\n",
      "----------------------------------------\n",
      "count    2068.000000\n",
      "mean        0.180452\n",
      "std         0.117596\n",
      "min         0.050132\n",
      "25%         0.107969\n",
      "50%         0.133828\n",
      "75%         0.205440\n",
      "max         0.783330\n",
      "Name: trolliness_score, dtype: float64\n"
     ]
    }
   ],
   "source": [
    "# Create figure with two subplots\n",
    "fig, (ax1, ax2) = plt.subplots(1, 2, figsize=(15, 5))\n",
    "\n",
    "# Plot 1: Pie chart of troll vs non-troll predictions\n",
    "predictions = (predictions_df['trolliness_score'] > predictor.threshold).map({True: 'Troll', False: 'Not Troll'})\n",
    "prediction_counts = predictions.value_counts()\n",
    "\n",
    "ax1.pie(prediction_counts, labels=prediction_counts.index, autopct='%1.1f%%')\n",
    "ax1.set_title('Distribution of Predictions')\n",
    "\n",
    "# Plot 2: Distribution of trolliness scores\n",
    "sns.histplot(data=predictions_df, x='trolliness_score', bins=30, ax=ax2)\n",
    "ax2.axvline(x=predictor.threshold, color='red', linestyle='--', label='Threshold')\n",
    "ax2.set_title('Distribution of Trolliness Scores')\n",
    "ax2.set_xlabel('Trolliness Score')\n",
    "ax2.set_ylabel('Count')\n",
    "ax2.legend()\n",
    "\n",
    "plt.tight_layout()\n",
    "plt.show()\n",
    "\n",
    "# Print summary statistics\n",
    "print(\"\\nTrolliness Score Statistics:\")\n",
    "print(\"-\" * 40)\n",
    "print(predictions_df['trolliness_score'].describe())\n"
   ]
  },
  {
   "cell_type": "code",
   "execution_count": 15,
   "metadata": {
    "scrolled": false
   },
   "outputs": [
    {
     "data": {
      "image/png": "[encoded data removed]",
      "text/plain": [
       "<Figure size 1000x600 with 1 Axes>"
      ]
     },
     "metadata": {},
     "output_type": "display_data"
    }
   ],
   "source": [
    "# Cell: Analyze predictions by confidence levels\n",
    "# Create visualization\n",
    "plt.figure(figsize=(10, 6))\n",
    "sns.histplot(\n",
    "    data=results_df, \n",
    "    x='confidence', \n",
    "    hue='prediction', \n",
    "    bins=20\n",
    ")\n",
    "plt.title('Prediction Confidence Distribution')\n",
    "plt.xlabel('Confidence Score')\n",
    "plt.ylabel('Count')\n",
    "plt.tight_layout()\n",
    "plt.show()\n",
    "\n",
    "\n"
   ]
  },
  {
   "cell_type": "code",
   "execution_count": 17,
   "metadata": {},
   "outputs": [
    {
     "name": "stderr",
     "output_type": "stream",
     "text": [
      "Processing troll comments: 100%|██████████| 50/50 [00:03<00:00, 16.57it/s]\n"
     ]
    },
    {
     "name": "stdout",
     "output_type": "stream",
     "text": [
      "\n",
      "Exported 1096 comments from 50 authors\n",
      "Output saved to: ../output/troll_comments.json\n"
     ]
    },
    {
     "name": "stderr",
     "output_type": "stream",
     "text": [
      "Processing not_troll comments: 100%|██████████| 50/50 [00:02<00:00, 16.81it/s]"
     ]
    },
    {
     "name": "stdout",
     "output_type": "stream",
     "text": [
      "\n",
      "Exported 678 comments from 50 authors\n",
      "Output saved to: ../output/non_troll_comments.json\n"
     ]
    },
    {
     "name": "stderr",
     "output_type": "stream",
     "text": [
      "\n"
     ]
    }
   ],
   "source": [
    "# Save a sample of troll and not_troll classified comments\n",
    "\n",
    "export_comments_by_prediction(\n",
    "    predictions_df=results_df,\n",
    "    comments_df=czech_comments,\n",
    "    prediction_class='troll',\n",
    "    min_confidence=0.7,\n",
    "    max_confidence=1,\n",
    "    max_authors=50,\n",
    "    output_file=\"../output/troll_comments.json\"\n",
    ")\n",
    "\n",
    "export_comments_by_prediction(\n",
    "    predictions_df=results_df,\n",
    "    comments_df=czech_comments,\n",
    "    prediction_class='not_troll',\n",
    "    min_confidence=0.8,\n",
    "    max_authors=50,\n",
    "    output_file=\"../output/non_troll_comments.json\"\n",
    ")"
   ]
  },
  {
   "cell_type": "code",
   "execution_count": 17,
   "metadata": {},
   "outputs": [],
   "source": [
    "def explain_author(\n",
    "    author_name: str, \n",
    "    predictor_instance: TrollPredictor, \n",
    "    comments_df: pd.DataFrame, \n",
    "    display_plots: bool = True,\n",
    "):\n",
    "    \"\"\"Interactive function to explain why an author was classified as a troll using multiple methods\"\"\"\n",
    "    \n",
    "    # Get author's comments\n",
    "    author_comments = comments_df[comments_df['author'] == author_name]['text'].tolist()\n",
    "    \n",
    "    if not author_comments:\n",
    "        print(f'No comments found for author: {author_name}')\n",
    "        return\n",
    "        \n",
    "    # Get prediction first\n",
    "    pred = predictor_instance.predict_batch(author_comments)\n",
    "    \n",
    "    if pred['prediction'] != 'troll':\n",
    "        print(f'Author {author_name} is not classified as a troll (confidence: {pred[\"confidence\"]:.3f})')\n",
    "        return\n",
    "    \n",
    "    print(f\"\\nAnalyzing author: {author_name}\")\n",
    "    print(f\"Prediction confidence: {pred['confidence']:.3f}\")\n",
    "    print(f\"Troll probability: {pred['probabilities'][1]:.3f}\")\n",
    "    \n",
    "    # Generate occlusion sensitivity explanation\n",
    "    print(\"\\n=== Occlusion Sensitivity Analysis ===\")\n",
    "    explanation = predictor_instance.explain_prediction(author_comments)\n",
    "    \n",
    "    # Print occlusion sensitivity results\n",
    "    for i, exp in enumerate(explanation['explanations'], 1):\n",
    "        print(f\"\\nComment {i}:\")\n",
    "        print(f\"Text: {exp['tweet_text']}\")\n",
    "        print(\"\\nMost influential tokens (Occlusion Sensitivity):\")\n",
    "        \n",
    "        # Create a table with token contributions\n",
    "        contrib_data = []\n",
    "        for contrib in exp['token_contributions']:\n",
    "            direction = \"Supporting\" if contrib['contribution'] == 'positive' else \"Opposing\"\n",
    "            contrib_data.append([\n",
    "                contrib['token'],\n",
    "                f\"{contrib['importance']:.4f}\",\n",
    "                direction\n",
    "            ])\n",
    "        \n",
    "        contrib_df = pd.DataFrame(contrib_data, columns=['Token', 'Importance', 'Effect'])\n",
    "        print(contrib_df.to_string(index=False))\n",
    "        \n",
    "        if display_plots:\n",
    "            img = plt.imread(exp['plot_filename'])\n",
    "            plt.figure(figsize=(12, 4))\n",
    "            plt.imshow(img)\n",
    "            plt.axis('off')\n",
    "            plt.title(f'Occlusion Sensitivity Analysis - Comment {i}')\n",
    "            plt.show()\n",
    "        \n",
    "        print(\"-\" * 80)"
   ]
  },
  {
   "cell_type": "code",
   "execution_count": 18,
   "metadata": {
    "scrolled": false
   },
   "outputs": [
    {
     "name": "stdout",
     "output_type": "stream",
     "text": [
      "No comments found for author: Vladimír Furrer\n",
      "\n",
      "================================================================================\n",
      "\n",
      "No comments found for author: Michal Markó\n",
      "\n",
      "================================================================================\n",
      "\n"
     ]
    }
   ],
   "source": [
    "# Example usage\n",
    "# authors_to_explain = [\n",
    "#     \"Jitka Bártová\",\n",
    "#     \"Roman Myška\",   \n",
    "# ]\n",
    "authors_to_explain = [\n",
    "    \"Vladimír Furrer\",\n",
    "    \"Michal Markó\",   \n",
    "]\n",
    "\n",
    "\n",
    "for author in authors_to_explain:\n",
    "    explain_author(\n",
    "        author_name=author,\n",
    "        predictor_instance=predictor,\n",
    "        comments_df=czech_comments,\n",
    "        display_plots=True,\n",
    "    )\n",
    "    print(\"\\n\" + \"=\"*80 + \"\\n\")"
   ]
  },
  {
   "cell_type": "code",
   "execution_count": 27,
   "metadata": {},
   "outputs": [],
   "source": [
    "# Load your manual annotations\n",
    "annotations_df = pd.read_csv(\"./annotations/user_labels.csv\")\n",
    "\n",
    "# Load comments data\n",
    "comments_df = pd.read_parquet(\"./data/processed/czech_media_comments.parquet\")\n",
    "\n",
    "# Create a small fine-tuning dataset\n",
    "def create_fewshot_dataset(annotations_df, comments_df):\n",
    "    fewshot_data = []\n",
    "    \n",
    "    for _, row in annotations_df.iterrows():\n",
    "        if row['label'] != -1:  # Skip uncertain labels\n",
    "            author_comments = comments_df[comments_df['author'] == row['author']]\n",
    "            \n",
    "            fewshot_data.append({\n",
    "                'author': row['author'],\n",
    "                'comments': author_comments['text'].tolist(),\n",
    "                'label': row['label']  # 0 for not_troll, 1 for troll\n",
    "            })\n",
    "    \n",
    "    return fewshot_data\n",
    "\n",
    "fewshot_data = create_fewshot_dataset(annotations_df, comments_df)"
   ]
  },
  {
   "cell_type": "code",
   "execution_count": 29,
   "metadata": {},
   "outputs": [],
   "source": [
    "from torch.utils.data import Dataset, DataLoader\n",
    "from transformers import AutoTokenizer\n",
    "from src.data_tools.dataset import collate_batch\n",
    "\n",
    "\n",
    "# Create DataLoader for few-shot training\n",
    "from torch.utils.data import Dataset, DataLoader\n",
    "\n",
    "class FewShotDataset(Dataset):\n",
    "    def __init__(\n",
    "        self,\n",
    "        data,\n",
    "        tokenizer_name=\"distilbert-base-multilingual-cased\",\n",
    "        max_length=96,\n",
    "        comments_per_user=10\n",
    "    ):\n",
    "        self.data = data\n",
    "        self.tokenizer = AutoTokenizer.from_pretrained(tokenizer_name)\n",
    "        self.max_length = max_length\n",
    "        self.comments_per_user = comments_per_user\n",
    "        \n",
    "    def __len__(self):\n",
    "        return len(self.data)\n",
    "    \n",
    "    def __getitem__(self, idx):\n",
    "        item = self.data[idx]\n",
    "        comments = item['comments']\n",
    "        \n",
    "        # Handle if we have more or fewer comments than needed\n",
    "        if len(comments) > self.comments_per_user:\n",
    "            comments = comments[:self.comments_per_user]\n",
    "        elif len(comments) < self.comments_per_user:\n",
    "            comments = comments + [comments[-1]] * (self.comments_per_user - len(comments))\n",
    "            \n",
    "        # Tokenize\n",
    "        encodings = self.tokenizer(\n",
    "            comments,\n",
    "            padding='max_length',\n",
    "            truncation=True,\n",
    "            max_length=self.max_length,\n",
    "            return_tensors='pt'\n",
    "        )\n",
    "        \n",
    "        return {\n",
    "            'input_ids': encodings['input_ids'],\n",
    "            'attention_mask': encodings['attention_mask'],\n",
    "            'label': torch.tensor(item['label'], dtype=torch.float),\n",
    "            'author': item['author']\n",
    "        }\n",
    "\n",
    "# Create dataset and dataloader\n",
    "fewshot_dataset = FewShotDataset(fewshot_data)\n",
    "fewshot_loader = DataLoader(\n",
    "    fewshot_dataset,\n",
    "    batch_size=4,  # Small batch size for few-shot learning\n",
    "    shuffle=True,\n",
    "    collate_fn=collate_batch  # Use your existing collate function\n",
    ")"
   ]
  },
  {
   "cell_type": "code",
   "execution_count": 31,
   "metadata": {},
   "outputs": [],
   "source": [
    "# Create dataset and dataloader\n",
    "fewshot_dataset = FewShotDataset(fewshot_data)\n",
    "fewshot_loader = DataLoader(\n",
    "    fewshot_dataset,\n",
    "    batch_size=4,  # Small batch size for few-shot learning\n",
    "    shuffle=True,\n",
    "    collate_fn=collate_batch  # Use your existing collate function\n",
    ")"
   ]
  },
  {
   "cell_type": "code",
   "execution_count": 37,
   "metadata": {},
   "outputs": [],
   "source": [
    "from torch.optim import AdamW\n",
    "from torch.nn import HuberLoss\n",
    "from tqdm import tqdm\n",
    "\n",
    "# Fine-tuning function\n",
    "def finetune_model(model, fewshot_loader, num_epochs=5, learning_rate=1e-5):\n",
    "    device = torch.device(\"cuda\" if torch.cuda.is_available() else \"cpu\")\n",
    "    model = model.to(device)\n",
    "    model.train()\n",
    "    \n",
    "    # Use a smaller learning rate for fine-tuning\n",
    "    optimizer = AdamW(model.parameters(), lr=learning_rate)\n",
    "    criterion = HuberLoss()\n",
    "    \n",
    "    for epoch in range(num_epochs):\n",
    "        total_loss = 0\n",
    "        for batch in tqdm(fewshot_loader, desc=f\"Fine-tuning epoch {epoch+1}/{num_epochs}\"):\n",
    "            input_ids = batch['input_ids'].to(device)\n",
    "            attention_mask = batch['attention_mask'].to(device)\n",
    "            labels = batch['label'].to(device).float()\n",
    "            \n",
    "            # Forward pass\n",
    "            outputs = model(\n",
    "                input_ids=input_ids,\n",
    "                attention_mask=attention_mask,\n",
    "                tweets_per_account=fewshot_loader.dataset.comments_per_user\n",
    "            )\n",
    "            \n",
    "            loss = criterion(outputs['trolliness_score'].squeeze(), labels)\n",
    "            \n",
    "            # Backward pass\n",
    "            loss.backward()\n",
    "            torch.nn.utils.clip_grad_norm_(model.parameters(), 1.0)\n",
    "            optimizer.step()\n",
    "            optimizer.zero_grad()\n",
    "            \n",
    "            total_loss += loss.item()\n",
    "        \n",
    "        avg_loss = total_loss / len(fewshot_loader)\n",
    "        print(f\"Epoch {epoch+1}, Average Loss: {avg_loss:.4f}\")\n",
    "    \n",
    "    return model"
   ]
  },
  {
   "cell_type": "code",
   "execution_count": 33,
   "metadata": {},
   "outputs": [
    {
     "name": "stderr",
     "output_type": "stream",
     "text": [
      "INFO:src.models.predictor:Loaded model weights from ./checkpoints/best_model.pt\n"
     ]
    }
   ],
   "source": [
    "# Now use this for your prediction:\n",
    "# 1. Load your existing model\n",
    "predictor = TrollPredictor(\n",
    "    model_path=\"./checkpoints/best_model.pt\",\n",
    "    comments_per_user=10,\n",
    "    max_length=96,\n",
    "    threshold=0.5\n",
    ")"
   ]
  },
  {
   "cell_type": "code",
   "execution_count": 38,
   "metadata": {},
   "outputs": [
    {
     "name": "stderr",
     "output_type": "stream",
     "text": [
      "Fine-tuning epoch 1/5: 100%|██████████████████████████████████████████████████████████████| 9/9 [00:03<00:00,  2.71it/s]\n"
     ]
    },
    {
     "name": "stdout",
     "output_type": "stream",
     "text": [
      "Epoch 1, Average Loss: 0.1590\n"
     ]
    },
    {
     "name": "stderr",
     "output_type": "stream",
     "text": [
      "Fine-tuning epoch 2/5: 100%|██████████████████████████████████████████████████████████████| 9/9 [00:01<00:00,  6.10it/s]\n"
     ]
    },
    {
     "name": "stdout",
     "output_type": "stream",
     "text": [
      "Epoch 2, Average Loss: 0.1092\n"
     ]
    },
    {
     "name": "stderr",
     "output_type": "stream",
     "text": [
      "Fine-tuning epoch 3/5: 100%|██████████████████████████████████████████████████████████████| 9/9 [00:01<00:00,  6.12it/s]\n"
     ]
    },
    {
     "name": "stdout",
     "output_type": "stream",
     "text": [
      "Epoch 3, Average Loss: 0.0979\n"
     ]
    },
    {
     "name": "stderr",
     "output_type": "stream",
     "text": [
      "Fine-tuning epoch 4/5: 100%|██████████████████████████████████████████████████████████████| 9/9 [00:01<00:00,  6.09it/s]\n"
     ]
    },
    {
     "name": "stdout",
     "output_type": "stream",
     "text": [
      "Epoch 4, Average Loss: 0.0744\n"
     ]
    },
    {
     "name": "stderr",
     "output_type": "stream",
     "text": [
      "Fine-tuning epoch 5/5: 100%|██████████████████████████████████████████████████████████████| 9/9 [00:01<00:00,  6.07it/s]"
     ]
    },
    {
     "name": "stdout",
     "output_type": "stream",
     "text": [
      "Epoch 5, Average Loss: 0.0576\n"
     ]
    },
    {
     "name": "stderr",
     "output_type": "stream",
     "text": [
      "\n"
     ]
    }
   ],
   "source": [
    "# 2. Fine-tune it\n",
    "predictor.model = finetune_model(\n",
    "    predictor.model,\n",
    "    fewshot_loader,\n",
    "    num_epochs=5,\n",
    "    learning_rate=1e-5\n",
    ")"
   ]
  },
  {
   "cell_type": "code",
   "execution_count": 42,
   "metadata": {},
   "outputs": [],
   "source": [
    "# 3. Save the fine-tuned model\n",
    "torch.save(predictor.model.state_dict(), \"./checkpoints/finetuned_model.pt\")"
   ]
  },
  {
   "cell_type": "code",
   "execution_count": null,
   "metadata": {},
   "outputs": [],
   "source": [
    "# dobry novy vysledky - Jaroslav Jindra, Pavel Čanda"
   ]
  }
 ],
 "metadata": {
  "kernelspec": {
   "display_name": "Python 3 (ipykernel)",
   "language": "python",
   "name": "python3"
  },
  "language_info": {
   "codemirror_mode": {
    "name": "ipython",
    "version": 3
   },
   "file_extension": ".py",
   "mimetype": "text/x-python",
   "name": "python",
   "nbconvert_exporter": "python",
   "pygments_lexer": "ipython3",
   "version": "3.11.5"
  }
 },
 "nbformat": 4,
 "nbformat_minor": 2
}
