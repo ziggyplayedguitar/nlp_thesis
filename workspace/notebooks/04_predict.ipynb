{
 "cells": [
  {
   "cell_type": "code",
   "execution_count": 1,
   "metadata": {},
   "outputs": [],
   "source": [
    "# Imports and Setup\n",
    "import pandas as pd\n",
    "import numpy as np\n",
    "from pathlib import Path\n",
    "import sys\n",
    "import logging\n",
    "import json\n",
    "import torch\n",
    "\n",
    "import matplotlib.pyplot as plt\n",
    "import seaborn as sns\n",
    "\n",
    "# Add project root to path\n",
    "sys.path.append(str(Path.cwd().parent))\n",
    "\n",
    "# Import modules\n",
    "from src.models.predictor import TrollPredictor\n",
    "\n",
    "# Configure matplotlib and seaborn\n",
    "plt.style.use('default')\n",
    "sns.set_theme()\n",
    "\n",
    "# Set up logging\n",
    "logging.basicConfig(level=logging.INFO)\n",
    "logger = logging.getLogger(__name__)\n",
    "\n",
    "DATA_DIR = Path('data')\n",
    "PREDICTIONS_DIR = Path('output')\n"
   ]
  },
  {
   "cell_type": "code",
   "execution_count": 12,
   "metadata": {},
   "outputs": [
    {
     "name": "stderr",
     "output_type": "stream",
     "text": [
      "INFO:adapters.heads.model_mixin:Adding head 'default' with config {'head_type': 'masked_lm', 'vocab_size': 119547, 'embedding_size': 768, 'layers': 2, 'activation_function': 'gelu', 'layer_norm': True, 'bias': True, 'shift_labels': False, 'label2id': None}.\n",
      "INFO:src.models.predictor:Loaded model weights from ./checkpoints/finetuned_model_ru_only.pt\n"
     ]
    }
   ],
   "source": [
    "\n",
    "# Initialize predictor with model\n",
    "# model_path = \"./checkpoints/best_model_final_BCE.pt\"\n",
    "model_path = \"./checkpoints/finetuned_model_ru_only.pt\"\n",
    "\n",
    "# Initialize predictor with threshold\n",
    "predictor = TrollPredictor(\n",
    "    model_path=model_path,\n",
    "    model_name=\"ufal/robeczech-base\",\n",
    "    comments_per_user=10,\n",
    "    max_length=96,\n",
    "    threshold=0.5, # Add threshold parameter\n",
    "    use_adapter=False\n",
    ")"
   ]
  },
  {
   "cell_type": "code",
   "execution_count": 14,
   "metadata": {},
   "outputs": [
    {
     "name": "stderr",
     "output_type": "stream",
     "text": [
      "INFO:src.data_tools.czech_data_tools:Found 124 JSON files to process\n",
      "Loading files: 100%|██████████████████████████████████████████████████████| 124/124 [00:13<00:00,  9.43it/s]\n"
     ]
    },
    {
     "name": "stdout",
     "output_type": "stream",
     "text": [
      "Loaded 845743 comments from 66588 unique authors\n"
     ]
    }
   ],
   "source": [
    "from src.data_tools.czech_data_tools import load_czech_media_data\n",
    "\n",
    "DATA_DIR = Path('./data')\n",
    "czech_comments = load_czech_media_data(str(DATA_DIR / 'MediaSource'))\n",
    "print(f\"Loaded {len(czech_comments)} comments from {czech_comments['author'].nunique()} unique authors\")\n",
    "\n",
    "# # Read the processed Czech media comments from parquet file\n",
    "# czech_comments = pd.read_parquet(\"data/processed/czech_media_comments.parquet\")\n",
    "# print(f\"Loaded {len(czech_comments)} comments from {czech_comments['author'].nunique()} unique authors\")"
   ]
  },
  {
   "cell_type": "code",
   "execution_count": 15,
   "metadata": {},
   "outputs": [
    {
     "name": "stdout",
     "output_type": "stream",
     "text": [
      "Reduced to 354973 comments from 8275 authors (all with 10+ comments)\n"
     ]
    }
   ],
   "source": [
    "# Get authors with at least 10 comments and reduce to 50% of those\n",
    "author_counts = czech_comments['author'].value_counts()\n",
    "eligible_authors = author_counts[author_counts >= 10].index\n",
    "sample_size = int(len(eligible_authors) * 0.5) # limit number of authors if faster run needed\n",
    "sampled_authors = np.random.choice(eligible_authors, size=sample_size, replace=False)\n",
    "czech_comments = czech_comments[czech_comments['author'].isin(sampled_authors)]\n",
    "\n",
    "print(f\"Reduced to {len(czech_comments)} comments from {sample_size} authors (all with 10+ comments)\")\n"
   ]
  },
  {
   "cell_type": "code",
   "execution_count": 16,
   "metadata": {},
   "outputs": [
    {
     "name": "stdout",
     "output_type": "stream",
     "text": [
      "Filtered to 354973 comments from 58 labeled authors\n"
     ]
    }
   ],
   "source": [
    "# Load labeled authors from annotations file\n",
    "labeled_authors_df = pd.read_csv('annotations/user_labels.csv')\n",
    "labeled_authors = labeled_authors_df['author'].unique()\n",
    "\n",
    "# Filter czech_comments to only include labeled authors\n",
    "czech_comments_annotated = czech_comments[czech_comments['author'].isin(labeled_authors)]\n",
    "\n",
    "print(f\"Filtered to {len(czech_comments)} comments from {len(labeled_authors)} labeled authors\")\n",
    "predictions_df_labeled = predictor.predict(czech_comments_annotated)\n",
    "# Convert predictions dictionary to dataframe\n",
    "predictions_df_labeled = pd.DataFrame({\n",
    "    'author': czech_comments_annotated['author'].unique(),\n",
    "    'trolliness_score': predictions_df_labeled['trolliness_score'],\n",
    "    'binary_prediction': predictions_df_labeled['prediction'],\n",
    "    'binary_confidence': predictions_df_labeled['binary_confidence']\n",
    "})\n"
   ]
  },
  {
   "cell_type": "code",
   "execution_count": 17,
   "metadata": {},
   "outputs": [
    {
     "name": "stderr",
     "output_type": "stream",
     "text": [
      "100%|███████████████████████████████████████████████████████████████████| 8275/8275 [27:01<00:00,  5.10it/s]\n"
     ]
    }
   ],
   "source": [
    "\n",
    "\n",
    "# Make predictions\n",
    "predictions_df = predictor.predict_authors(czech_comments)\n"
   ]
  },
  {
   "cell_type": "code",
   "execution_count": 18,
   "metadata": {},
   "outputs": [],
   "source": [
    "# Combine labeled and unlabeled predictions, skipping duplicates\n",
    "predictions_df = pd.concat([predictions_df_labeled, predictions_df], axis=0).drop_duplicates(subset=['author'], keep='first')\n"
   ]
  },
  {
   "cell_type": "code",
   "execution_count": 19,
   "metadata": {},
   "outputs": [],
   "source": [
    "# Save predictions with new columns\n",
    "predictions_df.to_csv(PREDICTIONS_DIR / 'czech_media_predictions_ru_only_finetuned.csv', index=False)\n",
    "\n",
    "# Update the summary statistics to include regression metrics\n",
    "summary_stats = {\n",
    "    'total_authors': len(predictions_df),\n",
    "    'mean_trolliness': predictions_df['trolliness_score'].mean(),\n",
    "    'median_trolliness': predictions_df['trolliness_score'].median(),\n",
    "    'std_trolliness': predictions_df['trolliness_score'].std(),\n",
    "    'troll_percentage': (predictions_df['binary_prediction'] == 'troll').mean() * 100,\n",
    "    'mean_confidence': predictions_df['binary_confidence'].mean(),\n",
    "    'threshold_used': predictor.threshold\n",
    "}\n",
    "\n",
    "# Save summary\n",
    "with open(PREDICTIONS_DIR / 'prediction_summary_ru_only_finetuned.json', 'w') as f:\n",
    "    json.dump(summary_stats, f, indent=2)"
   ]
  },
  {
   "cell_type": "code",
   "execution_count": 23,
   "metadata": {},
   "outputs": [],
   "source": [
    "# Read in predictions from saved CSV\n",
    "predictions_df = pd.read_csv(PREDICTIONS_DIR / 'czech_media_predictions_finetuned_ru_only.csv')\n"
   ]
  },
  {
   "cell_type": "code",
   "execution_count": 24,
   "metadata": {},
   "outputs": [
    {
     "name": "stdout",
     "output_type": "stream",
     "text": [
      "\n",
      "Comparison of Predictions vs Manual Labels:\n",
      "================================================================================\n",
      "\n",
      "Total labeled authors: 31\n",
      "Average trolliness score:\n",
      "           mean  count       std\n",
      "label                           \n",
      "-1     0.562260     12  0.050701\n",
      " 0     0.536777      9  0.042164\n",
      " 1     0.582842     10  0.051345\n",
      "\n",
      "Correlation between trolliness score and manual labels: nan\n",
      "\n",
      "Confusion Matrix (using threshold):\n",
      "Empty DataFrame\n",
      "Columns: []\n",
      "Index: []\n"
     ]
    }
   ],
   "source": [
    "# Create a mapping of labels to numeric values for correlation analysis\n",
    "label_map = {'troll': 1, 'not_troll': 0}\n",
    "labeled_authors_df['label_numeric'] = labeled_authors_df['label'].map(label_map)\n",
    "\n",
    "# Merge predictions with labeled data\n",
    "merged_df = predictions_df.merge(\n",
    "    labeled_authors_df[['author', 'label', 'label_numeric']], \n",
    "    on='author',\n",
    "    how='inner'\n",
    ")\n",
    "\n",
    "print(\"\\nComparison of Predictions vs Manual Labels:\")\n",
    "print(\"=\" * 80)\n",
    "print(f\"\\nTotal labeled authors: {len(merged_df)}\")\n",
    "print(f\"Average trolliness score:\")\n",
    "print(merged_df.groupby('label')['trolliness_score'].agg(['mean', 'count', 'std']))\n",
    "\n",
    "# Calculate correlation between trolliness score and numeric labels\n",
    "correlation = merged_df['trolliness_score'].corr(merged_df['label_numeric'])\n",
    "print(f\"\\nCorrelation between trolliness score and manual labels: {correlation:.3f}\")\n",
    "\n",
    "# Create confusion matrix using threshold\n",
    "threshold = predictor.threshold\n",
    "merged_df['predicted_label'] = (merged_df['trolliness_score'] > threshold).astype(int)\n",
    "confusion = pd.crosstab(\n",
    "    merged_df['label_numeric'], \n",
    "    merged_df['predicted_label'],\n",
    "    margins=True\n",
    ")\n",
    "print(\"\\nConfusion Matrix (using threshold):\")\n",
    "print(confusion)\n"
   ]
  },
  {
   "cell_type": "code",
   "execution_count": 21,
   "metadata": {},
   "outputs": [
    {
     "name": "stdout",
     "output_type": "stream",
     "text": [
      "\n",
      "Top 10 Authors by Trolliness Score (with 5+ comments):\n",
      "================================================================================\n",
      "\n",
      "Author: Vaclav Čamek\n",
      "Trolliness Score: 0.502\n",
      "\n",
      "Sample Comments:\n",
      "\n",
      "1. co si to pan kolář dovoluje - čamková\n",
      "\n",
      "2. Josef Belsartřeba ten náš stát - čamková\n",
      "\n",
      "3. dejte nám s amerikou pokoj - čamková\n",
      "\n",
      "4. žádná choroba,jen strach z propadáku,je-li nemocná,proč nekončí hned - čamková\n",
      "\n",
      "5. já na bráchu- bracha na mě - čamková\n",
      "\n",
      "--------------------------------------------------------------------------------\n",
      "\n",
      "Author: Tadeáš Twardzik\n",
      "Trolliness Score: 0.437\n",
      "\n",
      "Sample Comments:\n",
      "\n",
      "1. Vládo-pani Marketo , Marek Benda člověk s základním vzděláni mohl by se stát nejvvšším žalobcem..\n",
      "\n",
      "2. Asi Rusák jinač by napsali národnost...\n",
      "\n",
      "3. Napište číslo účtu kde můžeme něco my důchodci nějakou korunů poslat....\n",
      "\n",
      "4. Všichni lžou Bauer ma pravdu.\n",
      "\n",
      "5. Čižinský vy nechcete pracovát na magistrátu???\n",
      "\n",
      "--------------------------------------------------------------------------------\n",
      "\n",
      "Author: Tomáš Kohout\n",
      "Trolliness Score: 0.409\n",
      "\n",
      "Sample Comments:\n",
      "\n",
      "1. No srdce nám krvácí, nevím jak to vydržíme...ale v každém případě to chceme od přístího měsíce zkusit.\n",
      "\n",
      "2. Fajn kde začne??? U důchodců??? Je jich nejvíc!!!\n",
      "\n",
      "3. Kdo mu ještě věří????\n",
      "\n",
      "4. O čem je tento erudovaný článek???Drby??? Aha\n",
      "\n",
      "5. Pane ministře nedělejte se hezkým....ono vám vyhovuje že nevolníci ( občané) platí co nejvíc( DPH, spotřební daň...atd).Potřebujete jen naše hlasy jednou za 4 roky.\n",
      "\n",
      "--------------------------------------------------------------------------------\n",
      "\n",
      "Author: Michael Fořter\n",
      "Trolliness Score: 0.406\n",
      "\n",
      "Sample Comments:\n",
      "\n",
      "1. Milan MatějkaNejlepsi je ho vubec nezakladat\n",
      "\n",
      "2. Soudce by se mel demonstrativne nechat srazit v plne rychlosti\n",
      "\n",
      "3. Roman HudecCo je na pozaru v Bankoku bulvarniho?\n",
      "\n",
      "4. Nemelo by to byt v komercni sekci?\n",
      "\n",
      "5. Proc utracet tolik penez za neco, co vidim nejradeji lezet na zemi?\n",
      "\n",
      "--------------------------------------------------------------------------------\n",
      "\n",
      "Author: Mária Šindelářová\n",
      "Trolliness Score: 0.404\n",
      "\n",
      "Sample Comments:\n",
      "\n",
      "1. Richard Schön Pan Heřmánek byl snad jediný, kdo se rozhodl takhle odejít?\n",
      "\n",
      "2. Ondrej Zeman Autoři podobných perel asi mají pocit, že jejich čeština je skvělá...\n",
      "\n",
      "3. Veronika Samková Autora toho titulku musela asi pořádně bolet hlava, že se ani nezamyslel nad tím, co vlastně napsal.\n",
      "\n",
      "4. Petr Králík Kdy Vás o tom informoval?\n",
      "\n",
      "5. Nádherná žena, skvělá herečka...\n",
      "\n",
      "--------------------------------------------------------------------------------\n",
      "\n",
      "Author: Štěpán Osvald\n",
      "Trolliness Score: 0.385\n",
      "\n",
      "Sample Comments:\n",
      "\n",
      "1. A je tu zase Lipánek jako vyšitý, chucpe.!?¿ Padej.\n",
      "\n",
      "2. Pozor hovoří ředitel zeměkoule, chucpe!?¿\n",
      "\n",
      "3. Ještě že je tady paní Danuše, mluví jako bible, chucpe!?¿\n",
      "\n",
      "4. Trapný profesůrek, chucpe!?¿\n",
      "\n",
      "5. Ale půjdete a hodně rychle, i když se vám nechce, chucpe!?¿\n",
      "\n",
      "--------------------------------------------------------------------------------\n",
      "\n",
      "Author: David Gardoň\n",
      "Trolliness Score: 0.385\n",
      "\n",
      "Sample Comments:\n",
      "\n",
      "1. Ondra VeselýDegenerovanej, ale to je v tomhle případě jedno\n",
      "\n",
      "2. Jemu už dočista hráblo\n",
      "\n",
      "3. Jinak než totální destrukci to rusáci neumí.\n",
      "\n",
      "4. Martin JiřičJako bych slyšel nějakého prašivého rusáckého ideologa\n",
      "\n",
      "5. Jan MayerSpíš jim to otevře oči\n",
      "\n",
      "--------------------------------------------------------------------------------\n",
      "\n",
      "Author: Roman Faltys\n",
      "Trolliness Score: 0.378\n",
      "\n",
      "Sample Comments:\n",
      "\n",
      "1. František NovotnýMoc děkujeme.\n",
      "\n",
      "2. Martin ChabadaMoc děkujeme.\n",
      "\n",
      "3. Jan MachMoc děkujeme.\n",
      "\n",
      "4. Pavel KozákMoc děkujeme!\n",
      "\n",
      "5. Roman NeradMoc děkujeme!\n",
      "\n",
      "--------------------------------------------------------------------------------\n",
      "\n",
      "Author: Thomas Rollway\n",
      "Trolliness Score: 0.378\n",
      "\n",
      "Sample Comments:\n",
      "\n",
      "1. Bryan je borec, snad se koncert brzo uskuteční. Jede bomby stejně jako před čtyřiceti lety. It’s Only Love... and that’s all.\n",
      "\n",
      "2. Ať jedou, všem rusofilckám bych to dal povinně\n",
      "\n",
      "3. Jiří BuzickýJiříku Jiříku, Vás neučili že lhát se nemá?\n",
      "\n",
      "4. Tomáš PolákSuper, absolutně přesný\n",
      "\n",
      "5. Myslim že je teď hlavní jestli bude ok, nějaký spekulace jak moc si za to může sám atd. jsou dost zbytečný\n",
      "\n",
      "--------------------------------------------------------------------------------\n",
      "\n",
      "Author: Anděla Čečilová\n",
      "Trolliness Score: 0.376\n",
      "\n",
      "Sample Comments:\n",
      "\n",
      "1. Petr HaspraTak ten byl dobrej.\n",
      "\n",
      "2. Břetislav HrušaJakým jazykem to píšete?\n",
      "\n",
      "3. Jackova RenataMůžete rozvést myšlenku?\n",
      "\n",
      "4. Miroslav VarakTo jako myslíte vážně?\n",
      "\n",
      "5. Pavel PilnýZávidět nemusíte, stačí se přestěhovat.\n",
      "\n",
      "--------------------------------------------------------------------------------\n"
     ]
    }
   ],
   "source": [
    "# Get comment counts per author\n",
    "author_comment_counts = czech_comments['author'].value_counts()\n",
    "authors_with_min_comments = author_comment_counts[author_comment_counts >= 5].index\n",
    "\n",
    "# Get top 10 authors by trolliness score who have at least 5 comments\n",
    "top_trolls = predictions_df[predictions_df['author'].isin(authors_with_min_comments)].nlargest(10, 'trolliness_score')\n",
    "\n",
    "# Save top trolls to CSV with just name and score\n",
    "top_trolls_save = top_trolls[['author', 'trolliness_score']].copy()\n",
    "# top_trolls_save['label'] = top_trolls_save['author'].map(\n",
    "#     labeled_authors_df.set_index('author')['label']\n",
    "# )\n",
    "top_trolls_save.to_csv(PREDICTIONS_DIR / 'top_trolls_BCE.csv', index=False)\n",
    "\n",
    "print(\"\\nTop 10 Authors by Trolliness Score (with 5+ comments):\")\n",
    "print(\"=\" * 80)\n",
    "\n",
    "# Print details for each author\n",
    "for _, author_row in top_trolls.iterrows():\n",
    "    author = author_row['author']\n",
    "    score = author_row['trolliness_score']\n",
    "    \n",
    "    # Get label if available\n",
    "    # label = \"Unlabeled\"\n",
    "    # if author in labeled_authors_df['author'].values:\n",
    "    #     label_val = labeled_authors_df[labeled_authors_df['author'] == author]['label'].iloc[0]\n",
    "    #     label = label_map.get(label_val, \"Unlabeled\")\n",
    "    \n",
    "    print(f\"\\nAuthor: {author}\")\n",
    "    print(f\"Trolliness Score: {score:.3f}\")\n",
    "    # print(f\"Manual Label: {label}\")\n",
    "    \n",
    "    # Get 5 sample comments\n",
    "    author_comments = czech_comments[czech_comments['author'] == author]['text'].head()\n",
    "    print(\"\\nSample Comments:\")\n",
    "    for i, comment in enumerate(author_comments, 1):\n",
    "        print(f\"\\n{i}. {comment}\")\n",
    "    print(\"\\n\" + \"-\" * 80)"
   ]
  },
  {
   "cell_type": "code",
   "execution_count": 27,
   "metadata": {},
   "outputs": [
    {
     "data": {
      "image/png": "[encoded data removed]",
      "text/plain": [
       "<Figure size 1500x500 with 2 Axes>"
      ]
     },
     "metadata": {},
     "output_type": "display_data"
    },
    {
     "name": "stdout",
     "output_type": "stream",
     "text": [
      "\n",
      "Trolliness Score Statistics:\n",
      "----------------------------------------\n",
      "count    8275.000000\n",
      "mean        0.521615\n",
      "std         0.035158\n",
      "min         0.334642\n",
      "25%         0.496606\n",
      "50%         0.519050\n",
      "75%         0.544869\n",
      "max         0.666400\n",
      "Name: trolliness_score, dtype: float64\n"
     ]
    }
   ],
   "source": [
    "# Create figure with two subplots\n",
    "fig, (ax1, ax2) = plt.subplots(1, 2, figsize=(15, 5))\n",
    "\n",
    "# Plot 1: Pie chart of troll vs non-troll predictions\n",
    "predictions = (predictions_df['trolliness_score'] > predictor.threshold).map({True: 'Troll', False: 'Not Troll'})\n",
    "prediction_counts = predictions.value_counts()\n",
    "\n",
    "# Define colors for pie chart - using seaborn's default orange and blue\n",
    "colors = ['#FF9F1C', '#1F77B4']  # Orange and blue from seaborn default palette\n",
    "ax1.pie(prediction_counts, labels=prediction_counts.index, autopct='%1.1f%%', colors=colors)\n",
    "ax1.set_title('Distribution of Predictions')\n",
    "\n",
    "# Plot 2: Distribution of trolliness scores\n",
    "sns.histplot(data=predictions_df, x='trolliness_score', bins=30, ax=ax2)\n",
    "ax2.axvline(x=predictor.threshold, color='red', linestyle='--', label='Threshold')\n",
    "ax2.set_title('Distribution of Trolliness Scores')\n",
    "ax2.set_xlabel('Trolliness Score')\n",
    "ax2.set_ylabel('Count')\n",
    "ax2.legend()\n",
    "\n",
    "plt.tight_layout()\n",
    "plt.show()\n",
    "\n",
    "# Print summary statistics\n",
    "print(\"\\nTrolliness Score Statistics:\")\n",
    "print(\"-\" * 40)\n",
    "print(predictions_df['trolliness_score'].describe())\n"
   ]
  },
  {
   "cell_type": "code",
   "execution_count": null,
   "metadata": {},
   "outputs": [],
   "source": []
  }
 ],
 "metadata": {
  "kernelspec": {
   "display_name": "Python 3 (ipykernel)",
   "language": "python",
   "name": "python3"
  },
  "language_info": {
   "codemirror_mode": {
    "name": "ipython",
    "version": 3
   },
   "file_extension": ".py",
   "mimetype": "text/x-python",
   "name": "python",
   "nbconvert_exporter": "python",
   "pygments_lexer": "ipython3",
   "version": "3.11.5"
  }
 },
 "nbformat": 4,
 "nbformat_minor": 2
}
